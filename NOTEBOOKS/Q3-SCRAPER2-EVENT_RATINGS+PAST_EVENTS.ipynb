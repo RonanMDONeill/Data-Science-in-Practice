{
 "cells": [
  {
   "cell_type": "markdown",
   "metadata": {
    "papermill": {
     "duration": 0.015995,
     "end_time": "2019-05-10T20:07:44.068755",
     "exception": false,
     "start_time": "2019-05-10T20:07:44.052760",
     "status": "completed"
    },
    "tags": []
   },
   "source": [
    "# Scraping for Question 3"
   ]
  },
  {
   "cell_type": "markdown",
   "metadata": {
    "papermill": {
     "duration": 0.017004,
     "end_time": "2019-05-10T20:07:44.103753",
     "exception": false,
     "start_time": "2019-05-10T20:07:44.086749",
     "status": "completed"
    },
    "tags": []
   },
   "source": [
    "Scraping necessary data to look at the most promising youth players and trying to predict what ratings they would achieve in future events.\n",
    "\n",
    "Like previous research questions, we will be scraping the data from HLTV.org. Now we need to get every player rating from past events, as well as a list of important events to use for the prediction of young players careers later."
   ]
  },
  {
   "cell_type": "code",
   "execution_count": 1,
   "metadata": {
    "colab": {},
    "colab_type": "code",
    "id": "-lrt1ULvgSNC",
    "papermill": {
     "duration": 1.65061,
     "end_time": "2019-05-10T20:07:45.770367",
     "exception": false,
     "start_time": "2019-05-10T20:07:44.119757",
     "status": "completed"
    },
    "tags": []
   },
   "outputs": [],
   "source": [
    "# Import libraries\n",
    "import pandas as pd\n",
    "import urllib\n",
    "import urllib.request\n",
    "import time\n",
    "import re\n",
    "import requests\n",
    "from loguru import logger\n",
    "from bs4 import BeautifulSoup"
   ]
  },
  {
   "cell_type": "markdown",
   "metadata": {
    "papermill": {
     "duration": 0.015994,
     "end_time": "2019-05-10T20:07:45.805365",
     "exception": false,
     "start_time": "2019-05-10T20:07:45.789371",
     "status": "completed"
    },
    "tags": []
   },
   "source": [
    "## Player Ratings in Past Events"
   ]
  },
  {
   "cell_type": "markdown",
   "metadata": {
    "papermill": {
     "duration": 0.016003,
     "end_time": "2019-05-10T20:07:45.838382",
     "exception": false,
     "start_time": "2019-05-10T20:07:45.822379",
     "status": "completed"
    },
    "tags": []
   },
   "source": [
    "Similarly to the first part of question 3, using the page of all the players (\"https://www.hltv.org/stats/players\"), I used BeatifulSoup to parse the HTML and a list of all the players pages is created by combining the scraped link and the baseURL"
   ]
  },
  {
   "cell_type": "code",
   "execution_count": 2,
   "metadata": {
    "colab": {},
    "colab_type": "code",
    "id": "hTAEO9XrgSNT",
    "papermill": {
     "duration": 5.51738,
     "end_time": "2019-05-10T20:07:51.371756",
     "exception": false,
     "start_time": "2019-05-10T20:07:45.854376",
     "status": "completed"
    },
    "tags": []
   },
   "outputs": [
    {
     "name": "stderr",
     "output_type": "stream",
     "text": [
      "2019-05-10 21:07:45.900 | INFO     | __main__:<module>:8 - Scraping new event page: https://www.hltv.org/stats/players.\n"
     ]
    },
    {
     "name": "stdout",
     "output_type": "stream",
     "text": [
      "['https://www.hltv.org/stats/players/11893/ZywOo', 'https://www.hltv.org/stats/players/7998/s1mple', 'https://www.hltv.org/stats/players/7938/XANTARES', 'https://www.hltv.org/stats/players/7131/BnTeT', 'https://www.hltv.org/stats/players/9216/coldzera', 'https://www.hltv.org/stats/players/9102/Sico', 'https://www.hltv.org/stats/players/15631/KSCERATO', 'https://www.hltv.org/stats/players/8950/Kaze', 'https://www.hltv.org/stats/players/10774/Freeman', 'https://www.hltv.org/stats/players/3741/NiKo', 'https://www.hltv.org/stats/players/8711/Sonic', 'https://www.hltv.org/stats/players/9960/frozen', 'https://www.hltv.org/stats/players/11271/smooya', 'https://www.hltv.org/stats/players/9172/XigN', 'https://www.hltv.org/stats/players/12553/yuurih', 'https://www.hltv.org/stats/players/7592/device', 'https://www.hltv.org/stats/players/9626/XELLOW', 'https://www.hltv.org/stats/players/5736/kNgV-', 'https://www.hltv.org/stats/players/8714/cosmeeeN', 'https://www.hltv.org/stats/players/12591/sterling', 'https://www.hltv.org/stats/players/12126/poizon', 'https://www.hltv.org/stats/players/8574/woxic', 'https://www.hltv.org/stats/players/11219/CeRq', 'https://www.hltv.org/stats/players/7167/kennyS', 'https://www.hltv.org/stats/players/8766/dizzyLife', 'https://www.hltv.org/stats/players/3972/huNter', 'https://www.hltv.org/stats/players/13670/nawwk', 'https://www.hltv.org/stats/players/10588/Liazz', 'https://www.hltv.org/stats/players/11847/Texta', 'https://www.hltv.org/stats/players/8412/dream3r', 'https://www.hltv.org/stats/players/10394/Twistzz', 'https://www.hltv.org/stats/players/11163/trk', 'https://www.hltv.org/stats/players/9277/FREDDyFROG', 'https://www.hltv.org/stats/players/11916/sergej', 'https://www.hltv.org/stats/players/11283/ottoNd', 'https://www.hltv.org/stats/players/8575/Calyx', 'https://www.hltv.org/stats/players/9001/ZELIN', 'https://www.hltv.org/stats/players/2757/GuardiaN', 'https://www.hltv.org/stats/players/8944/Benkai', 'https://www.hltv.org/stats/players/798/oskar', 'https://www.hltv.org/stats/players/9294/NaToSaphiX', 'https://www.hltv.org/stats/players/13776/Jame', 'https://www.hltv.org/stats/players/14619/Infinite', 'https://www.hltv.org/stats/players/11141/erkaSt', 'https://www.hltv.org/stats/players/29/f0rest', 'https://www.hltv.org/stats/players/1088/liTTle', 'https://www.hltv.org/stats/players/9115/dexter', 'https://www.hltv.org/stats/players/13238/PTC', 'https://www.hltv.org/stats/players/12271/moose', 'https://www.hltv.org/stats/players/9136/Brehze', 'https://www.hltv.org/stats/players/9352/mini', 'https://www.hltv.org/stats/players/8783/JUGi', 'https://www.hltv.org/stats/players/8943/splashske', 'https://www.hltv.org/stats/players/1378/zehN', 'https://www.hltv.org/stats/players/9884/wrath', 'https://www.hltv.org/stats/players/8565/HEN1', 'https://www.hltv.org/stats/players/9032/Magisk', 'https://www.hltv.org/stats/players/8918/electronic', 'https://www.hltv.org/stats/players/39/GeT_RiGhT', 'https://www.hltv.org/stats/players/8552/AttackeR', 'https://www.hltv.org/stats/players/7028/Summer', 'https://www.hltv.org/stats/players/12379/Impulse', 'https://www.hltv.org/stats/players/5021/swag', 'https://www.hltv.org/stats/players/10722/gas', 'https://www.hltv.org/stats/players/12733/xsepower', 'https://www.hltv.org/stats/players/4076/Aerial', 'https://www.hltv.org/stats/players/11162/Hatz', 'https://www.hltv.org/stats/players/9247/Machinegun', 'https://www.hltv.org/stats/players/9031/valde', 'https://www.hltv.org/stats/players/12715/BL1TZ', 'https://www.hltv.org/stats/players/695/allu', 'https://www.hltv.org/stats/players/11250/Flarich', 'https://www.hltv.org/stats/players/8370/mixwell', 'https://www.hltv.org/stats/players/1225/shox', 'https://www.hltv.org/stats/players/10842/KHTEX', 'https://www.hltv.org/stats/players/13254/TenZ', 'https://www.hltv.org/stats/players/10263/xccurate', 'https://www.hltv.org/stats/players/13281/El1an', 'https://www.hltv.org/stats/players/11154/exit', 'https://www.hltv.org/stats/players/7910/fejtZ', 'https://www.hltv.org/stats/players/9616/AmaNEk', 'https://www.hltv.org/stats/players/8564/fer', 'https://www.hltv.org/stats/players/13239/qikert', 'https://www.hltv.org/stats/players/12030/EspiranTo', 'https://www.hltv.org/stats/players/9618/nexa', 'https://www.hltv.org/stats/players/11264/WARDELL', 'https://www.hltv.org/stats/players/13679/nukkye', 'https://www.hltv.org/stats/players/7398/dupreeh', 'https://www.hltv.org/stats/players/9895/mertz', 'https://www.hltv.org/stats/players/8601/zhokiNg', 'https://www.hltv.org/stats/players/8520/NAF', 'https://www.hltv.org/stats/players/14932/faveN', 'https://www.hltv.org/stats/players/9686/Gratisfaction', 'https://www.hltv.org/stats/players/2529/Maluk3', 'https://www.hltv.org/stats/players/7256/nex', 'https://www.hltv.org/stats/players/10449/ISSAA', 'https://www.hltv.org/stats/players/13915/YEKINDAR', 'https://www.hltv.org/stats/players/180/Savage', 'https://www.hltv.org/stats/players/7390/ScreaM', 'https://www.hltv.org/stats/players/885/olofmeister', 'https://www.hltv.org/stats/players/2023/FalleN', 'https://www.hltv.org/stats/players/12731/somedieyoung', 'https://www.hltv.org/stats/players/10504/NikoM', 'https://www.hltv.org/stats/players/15007/Cooper-', 'https://www.hltv.org/stats/players/4679/jks', 'https://www.hltv.org/stats/players/9078/k0nfig', 'https://www.hltv.org/stats/players/10671/Ethan', 'https://www.hltv.org/stats/players/9042/ryx', 'https://www.hltv.org/stats/players/13980/lollipop21k', 'https://www.hltv.org/stats/players/8735/autimatic', 'https://www.hltv.org/stats/players/12564/Geniuss', 'https://www.hltv.org/stats/players/7356/MICHU', 'https://www.hltv.org/stats/players/10664/Olivia', 'https://www.hltv.org/stats/players/11140/INS', 'https://www.hltv.org/stats/players/7810/ShahZaM', 'https://www.hltv.org/stats/players/9353/paz', 'https://www.hltv.org/stats/players/3543/DJOXiC', 'https://www.hltv.org/stats/players/5479/suNny', 'https://www.hltv.org/stats/players/9056/koosta', 'https://www.hltv.org/stats/players/9255/draken', 'https://www.hltv.org/stats/players/11816/ropz', 'https://www.hltv.org/stats/players/7443/twist', 'https://www.hltv.org/stats/players/12521/arT', 'https://www.hltv.org/stats/players/5799/keev', 'https://www.hltv.org/stats/players/7266/syrsoN', 'https://www.hltv.org/stats/players/7403/WorldEdit', 'https://www.hltv.org/stats/players/13497/Lucky', 'https://www.hltv.org/stats/players/9108/tucks', 'https://www.hltv.org/stats/players/10038/Sayf', 'https://www.hltv.org/stats/players/8526/smike', 'https://www.hltv.org/stats/players/7996/CRUC1AL', 'https://www.hltv.org/stats/players/10168/bottle', 'https://www.hltv.org/stats/players/2469/cajunb', 'https://www.hltv.org/stats/players/7026/DD', 'https://www.hltv.org/stats/players/8738/EliGE', 'https://www.hltv.org/stats/players/9218/xand', 'https://www.hltv.org/stats/players/8848/Ryxxo', 'https://www.hltv.org/stats/players/7016/HZ', 'https://www.hltv.org/stats/players/9288/TOR', 'https://www.hltv.org/stats/players/3055/flusha', 'https://www.hltv.org/stats/players/10587/InfrequeNt', 'https://www.hltv.org/stats/players/8503/fl0m', 'https://www.hltv.org/stats/players/8767/ofnu', 'https://www.hltv.org/stats/players/8707/ptr', 'https://www.hltv.org/stats/players/3871/downie', 'https://www.hltv.org/stats/players/11842/Ramz1k', 'https://www.hltv.org/stats/players/11739/shz', 'https://www.hltv.org/stats/players/8605/somebody', 'https://www.hltv.org/stats/players/8789/mir', 'https://www.hltv.org/stats/players/9676/NikkeZ', 'https://www.hltv.org/stats/players/11343/SHiPZ', 'https://www.hltv.org/stats/players/8917/niki1', 'https://www.hltv.org/stats/players/10818/iDk', 'https://www.hltv.org/stats/players/9317/AnJ', 'https://www.hltv.org/stats/players/8124/DavCost', 'https://www.hltv.org/stats/players/3849/JW', 'https://www.hltv.org/stats/players/7993/Detrony', 'https://www.hltv.org/stats/players/8349/shroud', 'https://www.hltv.org/stats/players/284/JaCkz', 'https://www.hltv.org/stats/players/8555/jayzaR', 'https://www.hltv.org/stats/players/7154/Pimp', 'https://www.hltv.org/stats/players/8523/tarik', 'https://www.hltv.org/stats/players/10761/NK4Y', 'https://www.hltv.org/stats/players/9289/qqGOD', 'https://www.hltv.org/stats/players/7429/Happy', 'https://www.hltv.org/stats/players/13666/Brollan', 'https://www.hltv.org/stats/players/9219/felps', 'https://www.hltv.org/stats/players/9083/COLDYY1', 'https://www.hltv.org/stats/players/9656/hAdji', 'https://www.hltv.org/stats/players/3997/loWel', 'https://www.hltv.org/stats/players/10499/JonY%20BoY', 'https://www.hltv.org/stats/players/557/fnx', 'https://www.hltv.org/stats/players/14218/Plopski', 'https://www.hltv.org/stats/players/7528/KRIMZ', 'https://www.hltv.org/stats/players/8568/boltz', 'https://www.hltv.org/stats/players/11737/RIKO', 'https://www.hltv.org/stats/players/10892/MarKE', 'https://www.hltv.org/stats/players/5794/tabseN', 'https://www.hltv.org/stats/players/11139/aliStair', 'https://www.hltv.org/stats/players/13230/motm', 'https://www.hltv.org/stats/players/13229/Snakes', 'https://www.hltv.org/stats/players/8183/rain', 'https://www.hltv.org/stats/players/9279/Relaxa', 'https://www.hltv.org/stats/players/11485/malta', 'https://www.hltv.org/stats/players/7440/Skadoodle', 'https://www.hltv.org/stats/players/10397/cromen', 'https://www.hltv.org/stats/players/964/mou', 'https://www.hltv.org/stats/players/8994/HS', 'https://www.hltv.org/stats/players/9683/IyeN', 'https://www.hltv.org/stats/players/8764/zewsy', 'https://www.hltv.org/stats/players/8394/Kjaerbye', 'https://www.hltv.org/stats/players/11355/QKA', 'https://www.hltv.org/stats/players/8528/Hobbit', 'https://www.hltv.org/stats/players/10557/land1n', 'https://www.hltv.org/stats/players/11586/dapr', 'https://www.hltv.org/stats/players/11748/raafa', 'https://www.hltv.org/stats/players/7322/apEX', 'https://www.hltv.org/stats/players/11942/buster', 'https://www.hltv.org/stats/players/8953/Sys', 'https://www.hltv.org/stats/players/7594/flamie', 'https://www.hltv.org/stats/players/2799/bubble', 'https://www.hltv.org/stats/players/5388/rallen', 'https://www.hltv.org/stats/players/12094/1962', 'https://www.hltv.org/stats/players/2553/Snax', 'https://www.hltv.org/stats/players/9174/HSK', 'https://www.hltv.org/stats/players/9258/SicK', 'https://www.hltv.org/stats/players/11654/almazer', 'https://www.hltv.org/stats/players/9256/disco%20doplan', 'https://www.hltv.org/stats/players/11576/shuadapai', 'https://www.hltv.org/stats/players/8745/Rickeh', 'https://www.hltv.org/stats/players/9271/sLowi', 'https://www.hltv.org/stats/players/8797/Stewie2K', 'https://www.hltv.org/stats/players/8784/SandeN', 'https://www.hltv.org/stats/players/9278/REZ', 'https://www.hltv.org/stats/players/10330/acoR', 'https://www.hltv.org/stats/players/13780/dimasick', 'https://www.hltv.org/stats/players/10589/rommi', 'https://www.hltv.org/stats/players/8576/ZOREE', 'https://www.hltv.org/stats/players/10610/refrezh', 'https://www.hltv.org/stats/players/13188/Zellsis', 'https://www.hltv.org/stats/players/10436/sXe', 'https://www.hltv.org/stats/players/10566/chelo', 'https://www.hltv.org/stats/players/9169/moxie', 'https://www.hltv.org/stats/players/10698/kolor', 'https://www.hltv.org/stats/players/8604/aumaN', 'https://www.hltv.org/stats/players/7964/cadiaN', 'https://www.hltv.org/stats/players/8371/ALEX', 'https://www.hltv.org/stats/players/11840/Boombl4', 'https://www.hltv.org/stats/players/4216/LETN1', 'https://www.hltv.org/stats/players/5187/captainMo', 'https://www.hltv.org/stats/players/9521/dobu', 'https://www.hltv.org/stats/players/2730/chrisJ', 'https://www.hltv.org/stats/players/2644/Hiko', 'https://www.hltv.org/stats/players/7168/NBK-', 'https://www.hltv.org/stats/players/10264/niko', 'https://www.hltv.org/stats/players/12822/VINI', 'https://www.hltv.org/stats/players/7834/v1c7oR', 'https://www.hltv.org/stats/players/10994/stavn', 'https://www.hltv.org/stats/players/9896/b0RUP', 'https://www.hltv.org/stats/players/9410/kalinka', 'https://www.hltv.org/stats/players/839/tb', 'https://www.hltv.org/stats/players/4954/Xyp9x', 'https://www.hltv.org/stats/players/12269/Jyo', 'https://www.hltv.org/stats/players/8957/LOVEYY', 'https://www.hltv.org/stats/players/9483/destiny', 'https://www.hltv.org/stats/players/9574/snatchie', 'https://www.hltv.org/stats/players/8323/mouz', 'https://www.hltv.org/stats/players/2555/yam', 'https://www.hltv.org/stats/players/8138/Davidp', 'https://www.hltv.org/stats/players/8248/jkaem', 'https://www.hltv.org/stats/players/8611/es3tag', 'https://www.hltv.org/stats/players/12782/kressy', 'https://www.hltv.org/stats/players/10870/kabal', 'https://www.hltv.org/stats/players/629/fox', 'https://www.hltv.org/stats/players/7775/juho', 'https://www.hltv.org/stats/players/8413/Zero', 'https://www.hltv.org/stats/players/1146/dennis', 'https://www.hltv.org/stats/players/8786/jR', 'https://www.hltv.org/stats/players/8242/reatz', 'https://www.hltv.org/stats/players/8095/aizy', 'https://www.hltv.org/stats/players/9043/ANDROID', 'https://www.hltv.org/stats/players/2131/bondik', 'https://www.hltv.org/stats/players/3847/znajder', 'https://www.hltv.org/stats/players/8513/yay', 'https://www.hltv.org/stats/players/13138/Maka', 'https://www.hltv.org/stats/players/973/SZPERO', 'https://www.hltv.org/stats/players/7935/roca', 'https://www.hltv.org/stats/players/7253/steel', 'https://www.hltv.org/stats/players/9875/food', 'https://www.hltv.org/stats/players/9358/DEV7L', 'https://www.hltv.org/stats/players/2299/NENO', 'https://www.hltv.org/stats/players/8543/NEEX', 'https://www.hltv.org/stats/players/9245/Tsogoo', 'https://www.hltv.org/stats/players/12088/ryann', 'https://www.hltv.org/stats/players/9221/reversive', 'https://www.hltv.org/stats/players/3410/ROBO', 'https://www.hltv.org/stats/players/9766/hampus', 'https://www.hltv.org/stats/players/9349/AiyvaN', 'https://www.hltv.org/stats/players/10443/Basso', 'https://www.hltv.org/stats/players/317/pashaBiceps', 'https://www.hltv.org/stats/players/9008/FANAT%20ROCKA', 'https://www.hltv.org/stats/players/8800/stfN', 'https://www.hltv.org/stats/players/8952/FrostMisty', 'https://www.hltv.org/stats/players/9261/Lekr0', 'https://www.hltv.org/stats/players/8255/CyberFocus', 'https://www.hltv.org/stats/players/10560/yeL', 'https://www.hltv.org/stats/players/7749/queztone', 'https://www.hltv.org/stats/players/10840/tatazin', 'https://www.hltv.org/stats/players/13157/Jerry', 'https://www.hltv.org/stats/players/8453/SEMINTE', 'https://www.hltv.org/stats/players/11701/mirbit', 'https://www.hltv.org/stats/players/9811/PlesseN', 'https://www.hltv.org/stats/players/334/AdreN', 'https://www.hltv.org/stats/players/11064/dazzLe', 'https://www.hltv.org/stats/players/1045/Maikelele', 'https://www.hltv.org/stats/players/11515/kenzor', 'https://www.hltv.org/stats/players/11231/Subroza', 'https://www.hltv.org/stats/players/9961/MonttY', 'https://www.hltv.org/stats/players/10992/dragonfly', 'https://www.hltv.org/stats/players/9916/mono', 'https://www.hltv.org/stats/players/8346/jdm64', 'https://www.hltv.org/stats/players/2826/MINISE', 'https://www.hltv.org/stats/players/10186/ayaya', 'https://www.hltv.org/stats/players/7687/nitr0', 'https://www.hltv.org/stats/players/7805/RUSH', 'https://www.hltv.org/stats/players/7413/Nico', 'https://www.hltv.org/stats/players/11630/JT', 'https://www.hltv.org/stats/players/2007/ap0c', 'https://www.hltv.org/stats/players/9287/bnwGiggs', 'https://www.hltv.org/stats/players/8345/spaze', 'https://www.hltv.org/stats/players/5386/byali', 'https://www.hltv.org/stats/players/8570/GruBy', 'https://www.hltv.org/stats/players/10502/Straka', 'https://www.hltv.org/stats/players/11844/flickz', 'https://www.hltv.org/stats/players/8951/roseau', 'https://www.hltv.org/stats/players/11230/aproto', 'https://www.hltv.org/stats/players/2161/Noktse', 'https://www.hltv.org/stats/players/13186/hydrex', 'https://www.hltv.org/stats/players/4959/kioShiMa', 'https://www.hltv.org/stats/players/13273/Ace', 'https://www.hltv.org/stats/players/2496/bld', 'https://www.hltv.org/stats/players/13249/oSee', 'https://www.hltv.org/stats/players/9612/Bubzkji', 'https://www.hltv.org/stats/players/9816/Aleksib', 'https://www.hltv.org/stats/players/13578/Grim', 'https://www.hltv.org/stats/players/203/n0thing', 'https://www.hltv.org/stats/players/3183/spyleadeR', 'https://www.hltv.org/stats/players/2398/SKYTTEN', 'https://www.hltv.org/stats/players/5287/TENZKI', 'https://www.hltv.org/stats/players/9254/mopoz', 'https://www.hltv.org/stats/players/10570/dzt', 'https://www.hltv.org/stats/players/11926/mds', 'https://www.hltv.org/stats/players/8350/desi', 'https://www.hltv.org/stats/players/8770/MoeycQ', 'https://www.hltv.org/stats/players/5391/darti', 'https://www.hltv.org/stats/players/12593/J1rah', 'https://www.hltv.org/stats/players/8327/Furlan', 'https://www.hltv.org/stats/players/11238/Oderus', 'https://www.hltv.org/stats/players/12781/k1to', 'https://www.hltv.org/stats/players/10470/mitch', 'https://www.hltv.org/stats/players/11258/fr0slev', 'https://www.hltv.org/stats/players/7412/gla1ve', 'https://www.hltv.org/stats/players/8726/facecrack', 'https://www.hltv.org/stats/players/8522/FugLy', 'https://www.hltv.org/stats/players/11217/SPELLAN', 'https://www.hltv.org/stats/players/12876/DickStacy', 'https://www.hltv.org/stats/players/10590/fenvicious', 'https://www.hltv.org/stats/players/5792/KILLDREAM', 'https://www.hltv.org/stats/players/8082/AZR', 'https://www.hltv.org/stats/players/9069/Nifty', 'https://www.hltv.org/stats/players/7499/Spiidi', 'https://www.hltv.org/stats/players/8744/emagine', 'https://www.hltv.org/stats/players/7/Friis', 'https://www.hltv.org/stats/players/483/Edward', 'https://www.hltv.org/stats/players/3669/innocent', 'https://www.hltv.org/stats/players/10663/RoLEX', 'https://www.hltv.org/stats/players/7248/xseveN', 'https://www.hltv.org/stats/players/8184/ALEX', 'https://www.hltv.org/stats/players/7982/to1nou', 'https://www.hltv.org/stats/players/8517/Relyks', 'https://www.hltv.org/stats/players/8875/gade', 'https://www.hltv.org/stats/players/7808/freakazoid', 'https://www.hltv.org/stats/players/4637/zeff', 'https://www.hltv.org/stats/players/7980/DESPE', 'https://www.hltv.org/stats/players/11574/xiaosaGe', 'https://www.hltv.org/stats/players/15428/Goofy', 'https://www.hltv.org/stats/players/9103/urbz', 'https://www.hltv.org/stats/players/11307/pounh', 'https://www.hltv.org/stats/players/8926/SasuKe', 'https://www.hltv.org/stats/players/1007/k1Ng0r', 'https://www.hltv.org/stats/players/13148/Radifaction', 'https://www.hltv.org/stats/players/7873/dephh', 'https://www.hltv.org/stats/players/7383/zqkS', 'https://www.hltv.org/stats/players/7700/robiin', 'https://www.hltv.org/stats/players/7673/mikeS', 'https://www.hltv.org/stats/players/8771/USTILO', 'https://www.hltv.org/stats/players/5061/PERCY', 'https://www.hltv.org/stats/players/5373/xelos', 'https://www.hltv.org/stats/players/339/ANGE1', 'https://www.hltv.org/stats/players/884/Xizt', 'https://www.hltv.org/stats/players/3894/REFLEX', 'https://www.hltv.org/stats/players/7527/pyth', 'https://www.hltv.org/stats/players/9260/vice', 'https://www.hltv.org/stats/players/2532/mch', 'https://www.hltv.org/stats/players/1883/glace', 'https://www.hltv.org/stats/players/8724/1uke', 'https://www.hltv.org/stats/players/9339/ImpressioN', 'https://www.hltv.org/stats/players/7433/adreN', 'https://www.hltv.org/stats/players/1915/SEMPHIS', 'https://www.hltv.org/stats/players/8321/oskarish', 'https://www.hltv.org/stats/players/8347/hazed', 'https://www.hltv.org/stats/players/10697/blocker', 'https://www.hltv.org/stats/players/10163/pecks', 'https://www.hltv.org/stats/players/12129/stk', 'https://www.hltv.org/stats/players/545/MODDII', 'https://www.hltv.org/stats/players/9011/Barcode', 'https://www.hltv.org/stats/players/9030/rezex', 'https://www.hltv.org/stats/players/7369/peet', 'https://www.hltv.org/stats/players/8508/DAVEY', 'https://www.hltv.org/stats/players/7296/Puls3', 'https://www.hltv.org/stats/players/15300/ToM223', 'https://www.hltv.org/stats/players/8871/Lukki', 'https://www.hltv.org/stats/players/11161/Drea3er', 'https://www.hltv.org/stats/players/11747/jnt', 'https://www.hltv.org/stats/players/5796/tiziaN', 'https://www.hltv.org/stats/players/9257/freddieb', 'https://www.hltv.org/stats/players/10463/B%C3%A5%C3%A5ten', 'https://www.hltv.org/stats/players/10052/fitch', 'https://www.hltv.org/stats/players/7148/friberg', 'https://www.hltv.org/stats/players/555/bit', 'https://www.hltv.org/stats/players/4726/jaxi', 'https://www.hltv.org/stats/players/44/BARBARR', 'https://www.hltv.org/stats/players/12710/gMd', 'https://www.hltv.org/stats/players/9480/tifa', 'https://www.hltv.org/stats/players/338/markeloff', 'https://www.hltv.org/stats/players/735/Dosia', 'https://www.hltv.org/stats/players/8507/stanislaw', 'https://www.hltv.org/stats/players/8396/BENDJI', 'https://www.hltv.org/stats/players/13989/ryotzz', 'https://www.hltv.org/stats/players/8727/waterfaLLZ', 'https://www.hltv.org/stats/players/630/MUTiRiS', 'https://www.hltv.org/stats/players/646/kalle', 'https://www.hltv.org/stats/players/3347/seized', 'https://www.hltv.org/stats/players/12083/YDNA', 'https://www.hltv.org/stats/players/7388/SOKER', 'https://www.hltv.org/stats/players/174/solo', 'https://www.hltv.org/stats/players/1485/RUBINO', 'https://www.hltv.org/stats/players/9220/SHOOWTiME', 'https://www.hltv.org/stats/players/8750/no_one', 'https://www.hltv.org/stats/players/8324/morelz', 'https://www.hltv.org/stats/players/12113/Jonji', 'https://www.hltv.org/stats/players/13977/fnyekes', 'https://www.hltv.org/stats/players/10372/kaboose', 'https://www.hltv.org/stats/players/7529/SAGGERTON', 'https://www.hltv.org/stats/players/7716/chopper', 'https://www.hltv.org/stats/players/9666/HenkkyG', 'https://www.hltv.org/stats/players/11358/0i', 'https://www.hltv.org/stats/players/13155/speed4k', 'https://www.hltv.org/stats/players/7434/AZK', 'https://www.hltv.org/stats/players/11498/NickelBack', 'https://www.hltv.org/stats/players/9291/krii', 'https://www.hltv.org/stats/players/5393/slap', 'https://www.hltv.org/stats/players/12161/KrizzeN', 'https://www.hltv.org/stats/players/8000/syken', 'https://www.hltv.org/stats/players/10611/Fadey', 'https://www.hltv.org/stats/players/10508/nbl', 'https://www.hltv.org/stats/players/7368/Hyper', 'https://www.hltv.org/stats/players/7438/anger', 'https://www.hltv.org/stats/players/373/donQ', 'https://www.hltv.org/stats/players/161/TaZ', 'https://www.hltv.org/stats/players/8716/DeadFox', 'https://www.hltv.org/stats/players/8566/LUCAS1', 'https://www.hltv.org/stats/players/5045/zende', 'https://www.hltv.org/stats/players/9636/BURNRUOk', 'https://www.hltv.org/stats/players/8648/PetitSkel', 'https://www.hltv.org/stats/players/8488/ZEDKO', 'https://www.hltv.org/stats/players/7169/RpK', 'https://www.hltv.org/stats/players/9109/chuch', 'https://www.hltv.org/stats/players/10762/Rock1nG', 'https://www.hltv.org/stats/players/11337/RCF', 'https://www.hltv.org/stats/players/11496/InJect', 'https://www.hltv.org/stats/players/177/Jewelry', 'https://www.hltv.org/stats/players/7382/steel', 'https://www.hltv.org/stats/players/9130/Drone', 'https://www.hltv.org/stats/players/9682/krudeN', 'https://www.hltv.org/stats/players/8368/jmqa', 'https://www.hltv.org/stats/players/6904/STYKO', 'https://www.hltv.org/stats/players/165/NEO', 'https://www.hltv.org/stats/players/10569/devoduvek', 'https://www.hltv.org/stats/players/11891/phr', 'https://www.hltv.org/stats/players/9664/Pollo', 'https://www.hltv.org/stats/players/9545/xms', 'https://www.hltv.org/stats/players/8911/sancz', 'https://www.hltv.org/stats/players/8569/DEVIL', 'https://www.hltv.org/stats/players/8125/Dima', 'https://www.hltv.org/stats/players/11278/TOAO', 'https://www.hltv.org/stats/players/11460/Tommy', 'https://www.hltv.org/stats/players/7414/smF', 'https://www.hltv.org/stats/players/9223/guishorro', 'https://www.hltv.org/stats/players/6593/PKL', 'https://www.hltv.org/stats/players/7511/denis', 'https://www.hltv.org/stats/players/13042/LOGAN', 'https://www.hltv.org/stats/players/2241/rmn', 'https://www.hltv.org/stats/players/7925/gabesson', 'https://www.hltv.org/stats/players/12101/neptune', 'https://www.hltv.org/stats/players/303/starix', 'https://www.hltv.org/stats/players/3886/seb', 'https://www.hltv.org/stats/players/922/Snappi', 'https://www.hltv.org/stats/players/302/kUcheR', 'https://www.hltv.org/stats/players/971/KHRN', 'https://www.hltv.org/stats/players/11746/YJ', 'https://www.hltv.org/stats/players/8459/Kvik', 'https://www.hltv.org/stats/players/14221/kaper', 'https://www.hltv.org/stats/players/13978/Coffee', 'https://www.hltv.org/stats/players/8947/acAp', 'https://www.hltv.org/stats/players/8446/ELUSIVE', 'https://www.hltv.org/stats/players/329/Kairi', 'https://www.hltv.org/stats/players/12086/stat', 'https://www.hltv.org/stats/players/205/glow', 'https://www.hltv.org/stats/players/8137/reltuC', 'https://www.hltv.org/stats/players/7463/Inzta', 'https://www.hltv.org/stats/players/3631/Polly', 'https://www.hltv.org/stats/players/8374/bodyy', 'https://www.hltv.org/stats/players/7170/SmithZz', 'https://www.hltv.org/stats/players/10563/caike', 'https://www.hltv.org/stats/players/170/spacca', 'https://www.hltv.org/stats/players/1206/BTN', 'https://www.hltv.org/stats/players/8150/maeVe', 'https://www.hltv.org/stats/players/8151/AcilioN', 'https://www.hltv.org/stats/players/9019/Surreal', 'https://www.hltv.org/stats/players/823/Maniac', 'https://www.hltv.org/stats/players/9053/Uber', 'https://www.hltv.org/stats/players/9482/NEKIZ', 'https://www.hltv.org/stats/players/7232/r0bs3n', 'https://www.hltv.org/stats/players/2148/tahsiN', 'https://www.hltv.org/stats/players/8331/SOON', 'https://www.hltv.org/stats/players/150/MAJ3R', 'https://www.hltv.org/stats/players/9736/ncl', 'https://www.hltv.org/stats/players/10367/ecfN', 'https://www.hltv.org/stats/players/3329/quix', 'https://www.hltv.org/stats/players/7508/alexRr', 'https://www.hltv.org/stats/players/2476/emi', 'https://www.hltv.org/stats/players/3517/kzy', 'https://www.hltv.org/stats/players/7958/dumz', 'https://www.hltv.org/stats/players/9325/arvid', 'https://www.hltv.org/stats/players/8047/Lambert', 'https://www.hltv.org/stats/players/10506/tutehen', 'https://www.hltv.org/stats/players/169/nak', 'https://www.hltv.org/stats/players/9763/Jayzwalkingz', 'https://www.hltv.org/stats/players/10784/RuStY', 'https://www.hltv.org/stats/players/9660/CONNOR93', 'https://www.hltv.org/stats/players/9081/S0tF1k', 'https://www.hltv.org/stats/players/5440/flash', 'https://www.hltv.org/stats/players/7943/uNdo', 'https://www.hltv.org/stats/players/9104/DANZ', 'https://www.hltv.org/stats/players/147/SIXER', 'https://www.hltv.org/stats/players/7942/dERZKIY', 'https://www.hltv.org/stats/players/8212/ScrunK', 'https://www.hltv.org/stats/players/13976/boX', 'https://www.hltv.org/stats/players/9845/vSa', 'https://www.hltv.org/stats/players/8538/stark', 'https://www.hltv.org/stats/players/10404/Console', 'https://www.hltv.org/stats/players/8752/SileNt', 'https://www.hltv.org/stats/players/7828/holzt', 'https://www.hltv.org/stats/players/9085/Toy', 'https://www.hltv.org/stats/players/1064/crisby', 'https://www.hltv.org/stats/players/8790/hutji', 'https://www.hltv.org/stats/players/8599/Karsa', 'https://www.hltv.org/stats/players/7214/strux1', 'https://www.hltv.org/stats/players/7821/sAw', 'https://www.hltv.org/stats/players/9217/TACO', 'https://www.hltv.org/stats/players/7218/kRYSTAL', 'https://www.hltv.org/stats/players/7147/Fifflaren', 'https://www.hltv.org/stats/players/7166/Ex6TenZ', 'https://www.hltv.org/stats/players/8746/James', 'https://www.hltv.org/stats/players/7246/stavros', 'https://www.hltv.org/stats/players/8410/arch', 'https://www.hltv.org/stats/players/12590/soju_j', 'https://www.hltv.org/stats/players/1950/tonyblack', 'https://www.hltv.org/stats/players/1889/LOMME', 'https://www.hltv.org/stats/players/7405/ub1que', 'https://www.hltv.org/stats/players/8320/repo', 'https://www.hltv.org/stats/players/5385/Luz', 'https://www.hltv.org/stats/players/7323/fel1x', 'https://www.hltv.org/stats/players/11110/Golden', 'https://www.hltv.org/stats/players/9259/witmer', 'https://www.hltv.org/stats/players/429/karrigan', 'https://www.hltv.org/stats/players/13297/ZINKEN', 'https://www.hltv.org/stats/players/5328/psycho', 'https://www.hltv.org/stats/players/2292/forget', 'https://www.hltv.org/stats/players/9348/crush', 'https://www.hltv.org/stats/players/8549/EXUS', 'https://www.hltv.org/stats/players/8983/MiGHTYMAX', 'https://www.hltv.org/stats/players/7321/TuGuX', 'https://www.hltv.org/stats/players/8788/keshandr', 'https://www.hltv.org/stats/players/11493/sK', 'https://www.hltv.org/stats/players/8372/matHEND', 'https://www.hltv.org/stats/players/1200/hitMouse', 'https://www.hltv.org/stats/players/365/meisoN', 'https://www.hltv.org/stats/players/11492/Noisia', 'https://www.hltv.org/stats/players/7537/xartE', 'https://www.hltv.org/stats/players/1278/pNshr', 'https://www.hltv.org/stats/players/9857/ngiN', 'https://www.hltv.org/stats/players/8302/mistou', 'https://www.hltv.org/stats/players/1331/Xp3', 'https://www.hltv.org/stats/players/7796/wayLander', 'https://www.hltv.org/stats/players/484/Zeus', 'https://www.hltv.org/stats/players/8256/tecek', 'https://www.hltv.org/stats/players/6453/arya', 'https://www.hltv.org/stats/players/1866/Shara', 'https://www.hltv.org/stats/players/3252/LEGIJA', 'https://www.hltv.org/stats/players/1083/AERO', 'https://www.hltv.org/stats/players/8515/hades', 'https://www.hltv.org/stats/players/1154/roman', 'https://www.hltv.org/stats/players/7156/MSL', 'https://www.hltv.org/stats/players/15120/JiNKZ', 'https://www.hltv.org/stats/players/8294/balblna', 'https://www.hltv.org/stats/players/330/MusambaN1', 'https://www.hltv.org/stats/players/10114/BONA', 'https://www.hltv.org/stats/players/499/hooch', 'https://www.hltv.org/stats/players/8504/LeX', 'https://www.hltv.org/stats/players/8600/advent', 'https://www.hltv.org/stats/players/2304/Kirby', 'https://www.hltv.org/stats/players/8794/jasonR', 'https://www.hltv.org/stats/players/5327/nkl', 'https://www.hltv.org/stats/players/163/Loord', 'https://www.hltv.org/stats/players/7462/Fuks', 'https://www.hltv.org/stats/players/8293/It%27s%20my', 'https://www.hltv.org/stats/players/8612/fix', 'https://www.hltv.org/stats/players/10993/torben', 'https://www.hltv.org/stats/players/3887/els', 'https://www.hltv.org/stats/players/6451/FNS', 'https://www.hltv.org/stats/players/9017/MAiNLiNE', 'https://www.hltv.org/stats/players/9882/Polen', 'https://www.hltv.org/stats/players/41/pronax', 'https://www.hltv.org/stats/players/2284/ryk', 'https://www.hltv.org/stats/players/9295/sycrone', 'https://www.hltv.org/stats/players/7797/spiker', 'https://www.hltv.org/stats/players/921/BERRY', 'https://www.hltv.org/stats/players/8521/daps', 'https://www.hltv.org/stats/players/1916/seang%40res', 'https://www.hltv.org/stats/players/11494/Dezibel', 'https://www.hltv.org/stats/players/1328/flowsicK', 'https://www.hltv.org/stats/players/9350/def', 'https://www.hltv.org/stats/players/12572/djL', 'https://www.hltv.org/stats/players/7378/Devilwalk', 'https://www.hltv.org/stats/players/3018/zEVES', 'https://www.hltv.org/stats/players/136/gob%20b', 'https://www.hltv.org/stats/players/1964/Twista', 'https://www.hltv.org/stats/players/8708/Slemmy', 'https://www.hltv.org/stats/players/9637/LONSDALE', 'https://www.hltv.org/stats/players/7217/SolEk', 'https://www.hltv.org/stats/players/3545/haste', 'https://www.hltv.org/stats/players/472/B1ad3', 'https://www.hltv.org/stats/players/7415/HUNDEN', 'https://www.hltv.org/stats/players/6455/OCEAN']\n"
     ]
    }
   ],
   "source": [
    "playersURLs = {\"https://www.hltv.org/stats/players\"}\n",
    "\n",
    "baseURL = \"https://www.hltv.org\"\n",
    "\n",
    "URL_List = list()\n",
    "for page in playersURLs:\n",
    "    # Logger message\n",
    "    logger.info('Scraping new event page: %s.' % page)\n",
    "    \n",
    "    # Retrieve HTML\n",
    "    req = urllib.request.Request(page, headers={\"User-Agent\": \"Mozilla/5.0 (Windows NT 6.1) AppleWebKit/537.36 (KHTML, like Gecko) Chrome/41.0.2228.0 Safari/537.3\"})\n",
    "    playerList = urllib.request.urlopen(req).read()\n",
    "    \n",
    "    # Sleep to prevent overflowing website\n",
    "    time.sleep(2)\n",
    "    \n",
    "    # Parse HTML\n",
    "    soup = BeautifulSoup(playerList, \"html.parser\")\n",
    "    \n",
    "    for item in soup.find_all(attrs={\"class\": \"playerCol\"}):\n",
    "        for link in item.find_all(\"a\"):\n",
    "            URL_List.append(baseURL + link.get(\"href\"))\n",
    "  \n",
    "print(URL_List)"
   ]
  },
  {
   "cell_type": "markdown",
   "metadata": {
    "papermill": {
     "duration": 0.017005,
     "end_time": "2019-05-10T20:07:51.407765",
     "exception": false,
     "start_time": "2019-05-10T20:07:51.390760",
     "status": "completed"
    },
    "tags": []
   },
   "source": [
    "Having got the list of player URLs I placed the list into a dataframe and changed each of the URLs to the desired URLs and placed them back in a list."
   ]
  },
  {
   "cell_type": "code",
   "execution_count": 3,
   "metadata": {
    "colab": {},
    "colab_type": "code",
    "id": "OdeU42ougSNq",
    "papermill": {
     "duration": 0.028006,
     "end_time": "2019-05-10T20:07:51.453784",
     "exception": false,
     "start_time": "2019-05-10T20:07:51.425778",
     "status": "completed"
    },
    "tags": []
   },
   "outputs": [
    {
     "name": "stdout",
     "output_type": "stream",
     "text": [
      "['https://www.hltv.org/stats/players/events/11893/ZywOo', 'https://www.hltv.org/stats/players/events/7998/s1mple', 'https://www.hltv.org/stats/players/events/7938/XANTARES', 'https://www.hltv.org/stats/players/events/7131/BnTeT', 'https://www.hltv.org/stats/players/events/9216/coldzera', 'https://www.hltv.org/stats/players/events/9102/Sico', 'https://www.hltv.org/stats/players/events/15631/KSCERATO', 'https://www.hltv.org/stats/players/events/8950/Kaze', 'https://www.hltv.org/stats/players/events/10774/Freeman', 'https://www.hltv.org/stats/players/events/3741/NiKo', 'https://www.hltv.org/stats/players/events/8711/Sonic', 'https://www.hltv.org/stats/players/events/9960/frozen', 'https://www.hltv.org/stats/players/events/11271/smooya', 'https://www.hltv.org/stats/players/events/9172/XigN', 'https://www.hltv.org/stats/players/events/12553/yuurih', 'https://www.hltv.org/stats/players/events/7592/device', 'https://www.hltv.org/stats/players/events/9626/XELLOW', 'https://www.hltv.org/stats/players/events/5736/kNgV-', 'https://www.hltv.org/stats/players/events/8714/cosmeeeN', 'https://www.hltv.org/stats/players/events/12591/sterling', 'https://www.hltv.org/stats/players/events/12126/poizon', 'https://www.hltv.org/stats/players/events/8574/woxic', 'https://www.hltv.org/stats/players/events/11219/CeRq', 'https://www.hltv.org/stats/players/events/7167/kennyS', 'https://www.hltv.org/stats/players/events/8766/dizzyLife', 'https://www.hltv.org/stats/players/events/3972/huNter', 'https://www.hltv.org/stats/players/events/13670/nawwk', 'https://www.hltv.org/stats/players/events/10588/Liazz', 'https://www.hltv.org/stats/players/events/11847/Texta', 'https://www.hltv.org/stats/players/events/8412/dream3r', 'https://www.hltv.org/stats/players/events/10394/Twistzz', 'https://www.hltv.org/stats/players/events/11163/trk', 'https://www.hltv.org/stats/players/events/9277/FREDDyFROG', 'https://www.hltv.org/stats/players/events/11916/sergej', 'https://www.hltv.org/stats/players/events/11283/ottoNd', 'https://www.hltv.org/stats/players/events/8575/Calyx', 'https://www.hltv.org/stats/players/events/9001/ZELIN', 'https://www.hltv.org/stats/players/events/2757/GuardiaN', 'https://www.hltv.org/stats/players/events/8944/Benkai', 'https://www.hltv.org/stats/players/events/798/oskar', 'https://www.hltv.org/stats/players/events/9294/NaToSaphiX', 'https://www.hltv.org/stats/players/events/13776/Jame', 'https://www.hltv.org/stats/players/events/14619/Infinite', 'https://www.hltv.org/stats/players/events/11141/erkaSt', 'https://www.hltv.org/stats/players/events/29/f0rest', 'https://www.hltv.org/stats/players/events/1088/liTTle', 'https://www.hltv.org/stats/players/events/9115/dexter', 'https://www.hltv.org/stats/players/events/13238/PTC', 'https://www.hltv.org/stats/players/events/12271/moose', 'https://www.hltv.org/stats/players/events/9136/Brehze', 'https://www.hltv.org/stats/players/events/9352/mini', 'https://www.hltv.org/stats/players/events/8783/JUGi', 'https://www.hltv.org/stats/players/events/8943/splashske', 'https://www.hltv.org/stats/players/events/1378/zehN', 'https://www.hltv.org/stats/players/events/9884/wrath', 'https://www.hltv.org/stats/players/events/8565/HEN1', 'https://www.hltv.org/stats/players/events/9032/Magisk', 'https://www.hltv.org/stats/players/events/8918/electronic', 'https://www.hltv.org/stats/players/events/39/GeT_RiGhT', 'https://www.hltv.org/stats/players/events/8552/AttackeR', 'https://www.hltv.org/stats/players/events/7028/Summer', 'https://www.hltv.org/stats/players/events/12379/Impulse', 'https://www.hltv.org/stats/players/events/5021/swag', 'https://www.hltv.org/stats/players/events/10722/gas', 'https://www.hltv.org/stats/players/events/12733/xsepower', 'https://www.hltv.org/stats/players/events/4076/Aerial', 'https://www.hltv.org/stats/players/events/11162/Hatz', 'https://www.hltv.org/stats/players/events/9247/Machinegun', 'https://www.hltv.org/stats/players/events/9031/valde', 'https://www.hltv.org/stats/players/events/12715/BL1TZ', 'https://www.hltv.org/stats/players/events/695/allu', 'https://www.hltv.org/stats/players/events/11250/Flarich', 'https://www.hltv.org/stats/players/events/8370/mixwell', 'https://www.hltv.org/stats/players/events/1225/shox', 'https://www.hltv.org/stats/players/events/10842/KHTEX', 'https://www.hltv.org/stats/players/events/13254/TenZ', 'https://www.hltv.org/stats/players/events/10263/xccurate', 'https://www.hltv.org/stats/players/events/13281/El1an', 'https://www.hltv.org/stats/players/events/11154/exit', 'https://www.hltv.org/stats/players/events/7910/fejtZ', 'https://www.hltv.org/stats/players/events/9616/AmaNEk', 'https://www.hltv.org/stats/players/events/8564/fer', 'https://www.hltv.org/stats/players/events/13239/qikert', 'https://www.hltv.org/stats/players/events/12030/EspiranTo', 'https://www.hltv.org/stats/players/events/9618/nexa', 'https://www.hltv.org/stats/players/events/11264/WARDELL', 'https://www.hltv.org/stats/players/events/13679/nukkye', 'https://www.hltv.org/stats/players/events/7398/dupreeh', 'https://www.hltv.org/stats/players/events/9895/mertz', 'https://www.hltv.org/stats/players/events/8601/zhokiNg', 'https://www.hltv.org/stats/players/events/8520/NAF', 'https://www.hltv.org/stats/players/events/14932/faveN', 'https://www.hltv.org/stats/players/events/9686/Gratisfaction', 'https://www.hltv.org/stats/players/events/2529/Maluk3', 'https://www.hltv.org/stats/players/events/7256/nex', 'https://www.hltv.org/stats/players/events/10449/ISSAA', 'https://www.hltv.org/stats/players/events/13915/YEKINDAR', 'https://www.hltv.org/stats/players/events/180/Savage', 'https://www.hltv.org/stats/players/events/7390/ScreaM', 'https://www.hltv.org/stats/players/events/885/olofmeister', 'https://www.hltv.org/stats/players/events/2023/FalleN', 'https://www.hltv.org/stats/players/events/12731/somedieyoung', 'https://www.hltv.org/stats/players/events/10504/NikoM', 'https://www.hltv.org/stats/players/events/15007/Cooper-', 'https://www.hltv.org/stats/players/events/4679/jks', 'https://www.hltv.org/stats/players/events/9078/k0nfig', 'https://www.hltv.org/stats/players/events/10671/Ethan', 'https://www.hltv.org/stats/players/events/9042/ryx', 'https://www.hltv.org/stats/players/events/13980/lollipop21k', 'https://www.hltv.org/stats/players/events/8735/autimatic', 'https://www.hltv.org/stats/players/events/12564/Geniuss', 'https://www.hltv.org/stats/players/events/7356/MICHU', 'https://www.hltv.org/stats/players/events/10664/Olivia', 'https://www.hltv.org/stats/players/events/11140/INS', 'https://www.hltv.org/stats/players/events/7810/ShahZaM', 'https://www.hltv.org/stats/players/events/9353/paz', 'https://www.hltv.org/stats/players/events/3543/DJOXiC', 'https://www.hltv.org/stats/players/events/5479/suNny', 'https://www.hltv.org/stats/players/events/9056/koosta', 'https://www.hltv.org/stats/players/events/9255/draken', 'https://www.hltv.org/stats/players/events/11816/ropz', 'https://www.hltv.org/stats/players/events/7443/twist', 'https://www.hltv.org/stats/players/events/12521/arT', 'https://www.hltv.org/stats/players/events/5799/keev', 'https://www.hltv.org/stats/players/events/7266/syrsoN', 'https://www.hltv.org/stats/players/events/7403/WorldEdit', 'https://www.hltv.org/stats/players/events/13497/Lucky', 'https://www.hltv.org/stats/players/events/9108/tucks', 'https://www.hltv.org/stats/players/events/10038/Sayf', 'https://www.hltv.org/stats/players/events/8526/smike', 'https://www.hltv.org/stats/players/events/7996/CRUC1AL', 'https://www.hltv.org/stats/players/events/10168/bottle', 'https://www.hltv.org/stats/players/events/2469/cajunb', 'https://www.hltv.org/stats/players/events/7026/DD', 'https://www.hltv.org/stats/players/events/8738/EliGE', 'https://www.hltv.org/stats/players/events/9218/xand', 'https://www.hltv.org/stats/players/events/8848/Ryxxo', 'https://www.hltv.org/stats/players/events/7016/HZ', 'https://www.hltv.org/stats/players/events/9288/TOR', 'https://www.hltv.org/stats/players/events/3055/flusha', 'https://www.hltv.org/stats/players/events/10587/InfrequeNt', 'https://www.hltv.org/stats/players/events/8503/fl0m', 'https://www.hltv.org/stats/players/events/8767/ofnu', 'https://www.hltv.org/stats/players/events/8707/ptr', 'https://www.hltv.org/stats/players/events/3871/downie', 'https://www.hltv.org/stats/players/events/11842/Ramz1k', 'https://www.hltv.org/stats/players/events/11739/shz', 'https://www.hltv.org/stats/players/events/8605/somebody', 'https://www.hltv.org/stats/players/events/8789/mir', 'https://www.hltv.org/stats/players/events/9676/NikkeZ', 'https://www.hltv.org/stats/players/events/11343/SHiPZ', 'https://www.hltv.org/stats/players/events/8917/niki1', 'https://www.hltv.org/stats/players/events/10818/iDk', 'https://www.hltv.org/stats/players/events/9317/AnJ', 'https://www.hltv.org/stats/players/events/8124/DavCost', 'https://www.hltv.org/stats/players/events/3849/JW', 'https://www.hltv.org/stats/players/events/7993/Detrony', 'https://www.hltv.org/stats/players/events/8349/shroud', 'https://www.hltv.org/stats/players/events/284/JaCkz', 'https://www.hltv.org/stats/players/events/8555/jayzaR', 'https://www.hltv.org/stats/players/events/7154/Pimp', 'https://www.hltv.org/stats/players/events/8523/tarik', 'https://www.hltv.org/stats/players/events/10761/NK4Y', 'https://www.hltv.org/stats/players/events/9289/qqGOD', 'https://www.hltv.org/stats/players/events/7429/Happy', 'https://www.hltv.org/stats/players/events/13666/Brollan', 'https://www.hltv.org/stats/players/events/9219/felps', 'https://www.hltv.org/stats/players/events/9083/COLDYY1', 'https://www.hltv.org/stats/players/events/9656/hAdji', 'https://www.hltv.org/stats/players/events/3997/loWel', 'https://www.hltv.org/stats/players/events/10499/JonY%20BoY', 'https://www.hltv.org/stats/players/events/557/fnx', 'https://www.hltv.org/stats/players/events/14218/Plopski', 'https://www.hltv.org/stats/players/events/7528/KRIMZ', 'https://www.hltv.org/stats/players/events/8568/boltz', 'https://www.hltv.org/stats/players/events/11737/RIKO', 'https://www.hltv.org/stats/players/events/10892/MarKE', 'https://www.hltv.org/stats/players/events/5794/tabseN', 'https://www.hltv.org/stats/players/events/11139/aliStair', 'https://www.hltv.org/stats/players/events/13230/motm', 'https://www.hltv.org/stats/players/events/13229/Snakes', 'https://www.hltv.org/stats/players/events/8183/rain', 'https://www.hltv.org/stats/players/events/9279/Relaxa', 'https://www.hltv.org/stats/players/events/11485/malta', 'https://www.hltv.org/stats/players/events/7440/Skadoodle', 'https://www.hltv.org/stats/players/events/10397/cromen', 'https://www.hltv.org/stats/players/events/964/mou', 'https://www.hltv.org/stats/players/events/8994/HS', 'https://www.hltv.org/stats/players/events/9683/IyeN', 'https://www.hltv.org/stats/players/events/8764/zewsy', 'https://www.hltv.org/stats/players/events/8394/Kjaerbye', 'https://www.hltv.org/stats/players/events/11355/QKA', 'https://www.hltv.org/stats/players/events/8528/Hobbit', 'https://www.hltv.org/stats/players/events/10557/land1n', 'https://www.hltv.org/stats/players/events/11586/dapr', 'https://www.hltv.org/stats/players/events/11748/raafa', 'https://www.hltv.org/stats/players/events/7322/apEX', 'https://www.hltv.org/stats/players/events/11942/buster', 'https://www.hltv.org/stats/players/events/8953/Sys', 'https://www.hltv.org/stats/players/events/7594/flamie', 'https://www.hltv.org/stats/players/events/2799/bubble', 'https://www.hltv.org/stats/players/events/5388/rallen', 'https://www.hltv.org/stats/players/events/12094/1962', 'https://www.hltv.org/stats/players/events/2553/Snax', 'https://www.hltv.org/stats/players/events/9174/HSK', 'https://www.hltv.org/stats/players/events/9258/SicK', 'https://www.hltv.org/stats/players/events/11654/almazer', 'https://www.hltv.org/stats/players/events/9256/disco%20doplan', 'https://www.hltv.org/stats/players/events/11576/shuadapai', 'https://www.hltv.org/stats/players/events/8745/Rickeh', 'https://www.hltv.org/stats/players/events/9271/sLowi', 'https://www.hltv.org/stats/players/events/8797/Stewie2K', 'https://www.hltv.org/stats/players/events/8784/SandeN', 'https://www.hltv.org/stats/players/events/9278/REZ', 'https://www.hltv.org/stats/players/events/10330/acoR', 'https://www.hltv.org/stats/players/events/13780/dimasick', 'https://www.hltv.org/stats/players/events/10589/rommi', 'https://www.hltv.org/stats/players/events/8576/ZOREE', 'https://www.hltv.org/stats/players/events/10610/refrezh', 'https://www.hltv.org/stats/players/events/13188/Zellsis', 'https://www.hltv.org/stats/players/events/10436/sXe', 'https://www.hltv.org/stats/players/events/10566/chelo', 'https://www.hltv.org/stats/players/events/9169/moxie', 'https://www.hltv.org/stats/players/events/10698/kolor', 'https://www.hltv.org/stats/players/events/8604/aumaN', 'https://www.hltv.org/stats/players/events/7964/cadiaN', 'https://www.hltv.org/stats/players/events/8371/ALEX', 'https://www.hltv.org/stats/players/events/11840/Boombl4', 'https://www.hltv.org/stats/players/events/4216/LETN1', 'https://www.hltv.org/stats/players/events/5187/captainMo', 'https://www.hltv.org/stats/players/events/9521/dobu', 'https://www.hltv.org/stats/players/events/2730/chrisJ', 'https://www.hltv.org/stats/players/events/2644/Hiko', 'https://www.hltv.org/stats/players/events/7168/NBK-', 'https://www.hltv.org/stats/players/events/10264/niko', 'https://www.hltv.org/stats/players/events/12822/VINI', 'https://www.hltv.org/stats/players/events/7834/v1c7oR', 'https://www.hltv.org/stats/players/events/10994/stavn', 'https://www.hltv.org/stats/players/events/9896/b0RUP', 'https://www.hltv.org/stats/players/events/9410/kalinka', 'https://www.hltv.org/stats/players/events/839/tb', 'https://www.hltv.org/stats/players/events/4954/Xyp9x', 'https://www.hltv.org/stats/players/events/12269/Jyo', 'https://www.hltv.org/stats/players/events/8957/LOVEYY', 'https://www.hltv.org/stats/players/events/9483/destiny', 'https://www.hltv.org/stats/players/events/9574/snatchie', 'https://www.hltv.org/stats/players/events/8323/mouz', 'https://www.hltv.org/stats/players/events/2555/yam', 'https://www.hltv.org/stats/players/events/8138/Davidp', 'https://www.hltv.org/stats/players/events/8248/jkaem', 'https://www.hltv.org/stats/players/events/8611/es3tag', 'https://www.hltv.org/stats/players/events/12782/kressy', 'https://www.hltv.org/stats/players/events/10870/kabal', 'https://www.hltv.org/stats/players/events/629/fox', 'https://www.hltv.org/stats/players/events/7775/juho', 'https://www.hltv.org/stats/players/events/8413/Zero', 'https://www.hltv.org/stats/players/events/1146/dennis', 'https://www.hltv.org/stats/players/events/8786/jR', 'https://www.hltv.org/stats/players/events/8242/reatz', 'https://www.hltv.org/stats/players/events/8095/aizy', 'https://www.hltv.org/stats/players/events/9043/ANDROID', 'https://www.hltv.org/stats/players/events/2131/bondik', 'https://www.hltv.org/stats/players/events/3847/znajder', 'https://www.hltv.org/stats/players/events/8513/yay', 'https://www.hltv.org/stats/players/events/13138/Maka', 'https://www.hltv.org/stats/players/events/973/SZPERO', 'https://www.hltv.org/stats/players/events/7935/roca', 'https://www.hltv.org/stats/players/events/7253/steel', 'https://www.hltv.org/stats/players/events/9875/food', 'https://www.hltv.org/stats/players/events/9358/DEV7L', 'https://www.hltv.org/stats/players/events/2299/NENO', 'https://www.hltv.org/stats/players/events/8543/NEEX', 'https://www.hltv.org/stats/players/events/9245/Tsogoo', 'https://www.hltv.org/stats/players/events/12088/ryann', 'https://www.hltv.org/stats/players/events/9221/reversive', 'https://www.hltv.org/stats/players/events/3410/ROBO', 'https://www.hltv.org/stats/players/events/9766/hampus', 'https://www.hltv.org/stats/players/events/9349/AiyvaN', 'https://www.hltv.org/stats/players/events/10443/Basso', 'https://www.hltv.org/stats/players/events/317/pashaBiceps', 'https://www.hltv.org/stats/players/events/9008/FANAT%20ROCKA', 'https://www.hltv.org/stats/players/events/8800/stfN', 'https://www.hltv.org/stats/players/events/8952/FrostMisty', 'https://www.hltv.org/stats/players/events/9261/Lekr0', 'https://www.hltv.org/stats/players/events/8255/CyberFocus', 'https://www.hltv.org/stats/players/events/10560/yeL', 'https://www.hltv.org/stats/players/events/7749/queztone', 'https://www.hltv.org/stats/players/events/10840/tatazin', 'https://www.hltv.org/stats/players/events/13157/Jerry', 'https://www.hltv.org/stats/players/events/8453/SEMINTE', 'https://www.hltv.org/stats/players/events/11701/mirbit', 'https://www.hltv.org/stats/players/events/9811/PlesseN', 'https://www.hltv.org/stats/players/events/334/AdreN', 'https://www.hltv.org/stats/players/events/11064/dazzLe', 'https://www.hltv.org/stats/players/events/1045/Maikelele', 'https://www.hltv.org/stats/players/events/11515/kenzor', 'https://www.hltv.org/stats/players/events/11231/Subroza', 'https://www.hltv.org/stats/players/events/9961/MonttY', 'https://www.hltv.org/stats/players/events/10992/dragonfly', 'https://www.hltv.org/stats/players/events/9916/mono', 'https://www.hltv.org/stats/players/events/8346/jdm64', 'https://www.hltv.org/stats/players/events/2826/MINISE', 'https://www.hltv.org/stats/players/events/10186/ayaya', 'https://www.hltv.org/stats/players/events/7687/nitr0', 'https://www.hltv.org/stats/players/events/7805/RUSH', 'https://www.hltv.org/stats/players/events/7413/Nico', 'https://www.hltv.org/stats/players/events/11630/JT', 'https://www.hltv.org/stats/players/events/2007/ap0c', 'https://www.hltv.org/stats/players/events/9287/bnwGiggs', 'https://www.hltv.org/stats/players/events/8345/spaze', 'https://www.hltv.org/stats/players/events/5386/byali', 'https://www.hltv.org/stats/players/events/8570/GruBy', 'https://www.hltv.org/stats/players/events/10502/Straka', 'https://www.hltv.org/stats/players/events/11844/flickz', 'https://www.hltv.org/stats/players/events/8951/roseau', 'https://www.hltv.org/stats/players/events/11230/aproto', 'https://www.hltv.org/stats/players/events/2161/Noktse', 'https://www.hltv.org/stats/players/events/13186/hydrex', 'https://www.hltv.org/stats/players/events/4959/kioShiMa', 'https://www.hltv.org/stats/players/events/13273/Ace', 'https://www.hltv.org/stats/players/events/2496/bld', 'https://www.hltv.org/stats/players/events/13249/oSee', 'https://www.hltv.org/stats/players/events/9612/Bubzkji', 'https://www.hltv.org/stats/players/events/9816/Aleksib', 'https://www.hltv.org/stats/players/events/13578/Grim', 'https://www.hltv.org/stats/players/events/203/n0thing', 'https://www.hltv.org/stats/players/events/3183/spyleadeR', 'https://www.hltv.org/stats/players/events/2398/SKYTTEN', 'https://www.hltv.org/stats/players/events/5287/TENZKI', 'https://www.hltv.org/stats/players/events/9254/mopoz', 'https://www.hltv.org/stats/players/events/10570/dzt', 'https://www.hltv.org/stats/players/events/11926/mds', 'https://www.hltv.org/stats/players/events/8350/desi', 'https://www.hltv.org/stats/players/events/8770/MoeycQ', 'https://www.hltv.org/stats/players/events/5391/darti', 'https://www.hltv.org/stats/players/events/12593/J1rah', 'https://www.hltv.org/stats/players/events/8327/Furlan', 'https://www.hltv.org/stats/players/events/11238/Oderus', 'https://www.hltv.org/stats/players/events/12781/k1to', 'https://www.hltv.org/stats/players/events/10470/mitch', 'https://www.hltv.org/stats/players/events/11258/fr0slev', 'https://www.hltv.org/stats/players/events/7412/gla1ve', 'https://www.hltv.org/stats/players/events/8726/facecrack', 'https://www.hltv.org/stats/players/events/8522/FugLy', 'https://www.hltv.org/stats/players/events/11217/SPELLAN', 'https://www.hltv.org/stats/players/events/12876/DickStacy', 'https://www.hltv.org/stats/players/events/10590/fenvicious', 'https://www.hltv.org/stats/players/events/5792/KILLDREAM', 'https://www.hltv.org/stats/players/events/8082/AZR', 'https://www.hltv.org/stats/players/events/9069/Nifty', 'https://www.hltv.org/stats/players/events/7499/Spiidi', 'https://www.hltv.org/stats/players/events/8744/emagine', 'https://www.hltv.org/stats/players/events/7/Friis', 'https://www.hltv.org/stats/players/events/483/Edward', 'https://www.hltv.org/stats/players/events/3669/innocent', 'https://www.hltv.org/stats/players/events/10663/RoLEX', 'https://www.hltv.org/stats/players/events/7248/xseveN', 'https://www.hltv.org/stats/players/events/8184/ALEX', 'https://www.hltv.org/stats/players/events/7982/to1nou', 'https://www.hltv.org/stats/players/events/8517/Relyks', 'https://www.hltv.org/stats/players/events/8875/gade', 'https://www.hltv.org/stats/players/events/7808/freakazoid', 'https://www.hltv.org/stats/players/events/4637/zeff', 'https://www.hltv.org/stats/players/events/7980/DESPE', 'https://www.hltv.org/stats/players/events/11574/xiaosaGe', 'https://www.hltv.org/stats/players/events/15428/Goofy', 'https://www.hltv.org/stats/players/events/9103/urbz', 'https://www.hltv.org/stats/players/events/11307/pounh', 'https://www.hltv.org/stats/players/events/8926/SasuKe', 'https://www.hltv.org/stats/players/events/1007/k1Ng0r', 'https://www.hltv.org/stats/players/events/13148/Radifaction', 'https://www.hltv.org/stats/players/events/7873/dephh', 'https://www.hltv.org/stats/players/events/7383/zqkS', 'https://www.hltv.org/stats/players/events/7700/robiin', 'https://www.hltv.org/stats/players/events/7673/mikeS', 'https://www.hltv.org/stats/players/events/8771/USTILO', 'https://www.hltv.org/stats/players/events/5061/PERCY', 'https://www.hltv.org/stats/players/events/5373/xelos', 'https://www.hltv.org/stats/players/events/339/ANGE1', 'https://www.hltv.org/stats/players/events/884/Xizt', 'https://www.hltv.org/stats/players/events/3894/REFLEX', 'https://www.hltv.org/stats/players/events/7527/pyth', 'https://www.hltv.org/stats/players/events/9260/vice', 'https://www.hltv.org/stats/players/events/2532/mch', 'https://www.hltv.org/stats/players/events/1883/glace', 'https://www.hltv.org/stats/players/events/8724/1uke', 'https://www.hltv.org/stats/players/events/9339/ImpressioN', 'https://www.hltv.org/stats/players/events/7433/adreN', 'https://www.hltv.org/stats/players/events/1915/SEMPHIS', 'https://www.hltv.org/stats/players/events/8321/oskarish', 'https://www.hltv.org/stats/players/events/8347/hazed', 'https://www.hltv.org/stats/players/events/10697/blocker', 'https://www.hltv.org/stats/players/events/10163/pecks', 'https://www.hltv.org/stats/players/events/12129/stk', 'https://www.hltv.org/stats/players/events/545/MODDII', 'https://www.hltv.org/stats/players/events/9011/Barcode', 'https://www.hltv.org/stats/players/events/9030/rezex', 'https://www.hltv.org/stats/players/events/7369/peet', 'https://www.hltv.org/stats/players/events/8508/DAVEY', 'https://www.hltv.org/stats/players/events/7296/Puls3', 'https://www.hltv.org/stats/players/events/15300/ToM223', 'https://www.hltv.org/stats/players/events/8871/Lukki', 'https://www.hltv.org/stats/players/events/11161/Drea3er', 'https://www.hltv.org/stats/players/events/11747/jnt', 'https://www.hltv.org/stats/players/events/5796/tiziaN', 'https://www.hltv.org/stats/players/events/9257/freddieb', 'https://www.hltv.org/stats/players/events/10463/B%C3%A5%C3%A5ten', 'https://www.hltv.org/stats/players/events/10052/fitch', 'https://www.hltv.org/stats/players/events/7148/friberg', 'https://www.hltv.org/stats/players/events/555/bit', 'https://www.hltv.org/stats/players/events/4726/jaxi', 'https://www.hltv.org/stats/players/events/44/BARBARR', 'https://www.hltv.org/stats/players/events/12710/gMd', 'https://www.hltv.org/stats/players/events/9480/tifa', 'https://www.hltv.org/stats/players/events/338/markeloff', 'https://www.hltv.org/stats/players/events/735/Dosia', 'https://www.hltv.org/stats/players/events/8507/stanislaw', 'https://www.hltv.org/stats/players/events/8396/BENDJI', 'https://www.hltv.org/stats/players/events/13989/ryotzz', 'https://www.hltv.org/stats/players/events/8727/waterfaLLZ', 'https://www.hltv.org/stats/players/events/630/MUTiRiS', 'https://www.hltv.org/stats/players/events/646/kalle', 'https://www.hltv.org/stats/players/events/3347/seized', 'https://www.hltv.org/stats/players/events/12083/YDNA', 'https://www.hltv.org/stats/players/events/7388/SOKER', 'https://www.hltv.org/stats/players/events/174/solo', 'https://www.hltv.org/stats/players/events/1485/RUBINO', 'https://www.hltv.org/stats/players/events/9220/SHOOWTiME', 'https://www.hltv.org/stats/players/events/8750/no_one', 'https://www.hltv.org/stats/players/events/8324/morelz', 'https://www.hltv.org/stats/players/events/12113/Jonji', 'https://www.hltv.org/stats/players/events/13977/fnyekes', 'https://www.hltv.org/stats/players/events/10372/kaboose', 'https://www.hltv.org/stats/players/events/7529/SAGGERTON', 'https://www.hltv.org/stats/players/events/7716/chopper', 'https://www.hltv.org/stats/players/events/9666/HenkkyG', 'https://www.hltv.org/stats/players/events/11358/0i', 'https://www.hltv.org/stats/players/events/13155/speed4k', 'https://www.hltv.org/stats/players/events/7434/AZK', 'https://www.hltv.org/stats/players/events/11498/NickelBack', 'https://www.hltv.org/stats/players/events/9291/krii', 'https://www.hltv.org/stats/players/events/5393/slap', 'https://www.hltv.org/stats/players/events/12161/KrizzeN', 'https://www.hltv.org/stats/players/events/8000/syken', 'https://www.hltv.org/stats/players/events/10611/Fadey', 'https://www.hltv.org/stats/players/events/10508/nbl', 'https://www.hltv.org/stats/players/events/7368/Hyper', 'https://www.hltv.org/stats/players/events/7438/anger', 'https://www.hltv.org/stats/players/events/373/donQ', 'https://www.hltv.org/stats/players/events/161/TaZ', 'https://www.hltv.org/stats/players/events/8716/DeadFox', 'https://www.hltv.org/stats/players/events/8566/LUCAS1', 'https://www.hltv.org/stats/players/events/5045/zende', 'https://www.hltv.org/stats/players/events/9636/BURNRUOk', 'https://www.hltv.org/stats/players/events/8648/PetitSkel', 'https://www.hltv.org/stats/players/events/8488/ZEDKO', 'https://www.hltv.org/stats/players/events/7169/RpK', 'https://www.hltv.org/stats/players/events/9109/chuch', 'https://www.hltv.org/stats/players/events/10762/Rock1nG', 'https://www.hltv.org/stats/players/events/11337/RCF', 'https://www.hltv.org/stats/players/events/11496/InJect', 'https://www.hltv.org/stats/players/events/177/Jewelry', 'https://www.hltv.org/stats/players/events/7382/steel', 'https://www.hltv.org/stats/players/events/9130/Drone', 'https://www.hltv.org/stats/players/events/9682/krudeN', 'https://www.hltv.org/stats/players/events/8368/jmqa', 'https://www.hltv.org/stats/players/events/6904/STYKO', 'https://www.hltv.org/stats/players/events/165/NEO', 'https://www.hltv.org/stats/players/events/10569/devoduvek', 'https://www.hltv.org/stats/players/events/11891/phr', 'https://www.hltv.org/stats/players/events/9664/Pollo', 'https://www.hltv.org/stats/players/events/9545/xms', 'https://www.hltv.org/stats/players/events/8911/sancz', 'https://www.hltv.org/stats/players/events/8569/DEVIL', 'https://www.hltv.org/stats/players/events/8125/Dima', 'https://www.hltv.org/stats/players/events/11278/TOAO', 'https://www.hltv.org/stats/players/events/11460/Tommy', 'https://www.hltv.org/stats/players/events/7414/smF', 'https://www.hltv.org/stats/players/events/9223/guishorro', 'https://www.hltv.org/stats/players/events/6593/PKL', 'https://www.hltv.org/stats/players/events/7511/denis', 'https://www.hltv.org/stats/players/events/13042/LOGAN', 'https://www.hltv.org/stats/players/events/2241/rmn', 'https://www.hltv.org/stats/players/events/7925/gabesson', 'https://www.hltv.org/stats/players/events/12101/neptune', 'https://www.hltv.org/stats/players/events/303/starix', 'https://www.hltv.org/stats/players/events/3886/seb', 'https://www.hltv.org/stats/players/events/922/Snappi', 'https://www.hltv.org/stats/players/events/302/kUcheR', 'https://www.hltv.org/stats/players/events/971/KHRN', 'https://www.hltv.org/stats/players/events/11746/YJ', 'https://www.hltv.org/stats/players/events/8459/Kvik', 'https://www.hltv.org/stats/players/events/14221/kaper', 'https://www.hltv.org/stats/players/events/13978/Coffee', 'https://www.hltv.org/stats/players/events/8947/acAp', 'https://www.hltv.org/stats/players/events/8446/ELUSIVE', 'https://www.hltv.org/stats/players/events/329/Kairi', 'https://www.hltv.org/stats/players/events/12086/stat', 'https://www.hltv.org/stats/players/events/205/glow', 'https://www.hltv.org/stats/players/events/8137/reltuC', 'https://www.hltv.org/stats/players/events/7463/Inzta', 'https://www.hltv.org/stats/players/events/3631/Polly', 'https://www.hltv.org/stats/players/events/8374/bodyy', 'https://www.hltv.org/stats/players/events/7170/SmithZz', 'https://www.hltv.org/stats/players/events/10563/caike', 'https://www.hltv.org/stats/players/events/170/spacca', 'https://www.hltv.org/stats/players/events/1206/BTN', 'https://www.hltv.org/stats/players/events/8150/maeVe', 'https://www.hltv.org/stats/players/events/8151/AcilioN', 'https://www.hltv.org/stats/players/events/9019/Surreal', 'https://www.hltv.org/stats/players/events/823/Maniac', 'https://www.hltv.org/stats/players/events/9053/Uber', 'https://www.hltv.org/stats/players/events/9482/NEKIZ', 'https://www.hltv.org/stats/players/events/7232/r0bs3n', 'https://www.hltv.org/stats/players/events/2148/tahsiN', 'https://www.hltv.org/stats/players/events/8331/SOON', 'https://www.hltv.org/stats/players/events/150/MAJ3R', 'https://www.hltv.org/stats/players/events/9736/ncl', 'https://www.hltv.org/stats/players/events/10367/ecfN', 'https://www.hltv.org/stats/players/events/3329/quix', 'https://www.hltv.org/stats/players/events/7508/alexRr', 'https://www.hltv.org/stats/players/events/2476/emi', 'https://www.hltv.org/stats/players/events/3517/kzy', 'https://www.hltv.org/stats/players/events/7958/dumz', 'https://www.hltv.org/stats/players/events/9325/arvid', 'https://www.hltv.org/stats/players/events/8047/Lambert', 'https://www.hltv.org/stats/players/events/10506/tutehen', 'https://www.hltv.org/stats/players/events/169/nak', 'https://www.hltv.org/stats/players/events/9763/Jayzwalkingz', 'https://www.hltv.org/stats/players/events/10784/RuStY', 'https://www.hltv.org/stats/players/events/9660/CONNOR93', 'https://www.hltv.org/stats/players/events/9081/S0tF1k', 'https://www.hltv.org/stats/players/events/5440/flash', 'https://www.hltv.org/stats/players/events/7943/uNdo', 'https://www.hltv.org/stats/players/events/9104/DANZ', 'https://www.hltv.org/stats/players/events/147/SIXER', 'https://www.hltv.org/stats/players/events/7942/dERZKIY', 'https://www.hltv.org/stats/players/events/8212/ScrunK', 'https://www.hltv.org/stats/players/events/13976/boX', 'https://www.hltv.org/stats/players/events/9845/vSa', 'https://www.hltv.org/stats/players/events/8538/stark', 'https://www.hltv.org/stats/players/events/10404/Console', 'https://www.hltv.org/stats/players/events/8752/SileNt', 'https://www.hltv.org/stats/players/events/7828/holzt', 'https://www.hltv.org/stats/players/events/9085/Toy', 'https://www.hltv.org/stats/players/events/1064/crisby', 'https://www.hltv.org/stats/players/events/8790/hutji', 'https://www.hltv.org/stats/players/events/8599/Karsa', 'https://www.hltv.org/stats/players/events/7214/strux1', 'https://www.hltv.org/stats/players/events/7821/sAw', 'https://www.hltv.org/stats/players/events/9217/TACO', 'https://www.hltv.org/stats/players/events/7218/kRYSTAL', 'https://www.hltv.org/stats/players/events/7147/Fifflaren', 'https://www.hltv.org/stats/players/events/7166/Ex6TenZ', 'https://www.hltv.org/stats/players/events/8746/James', 'https://www.hltv.org/stats/players/events/7246/stavros', 'https://www.hltv.org/stats/players/events/8410/arch', 'https://www.hltv.org/stats/players/events/12590/soju_j', 'https://www.hltv.org/stats/players/events/1950/tonyblack', 'https://www.hltv.org/stats/players/events/1889/LOMME', 'https://www.hltv.org/stats/players/events/7405/ub1que', 'https://www.hltv.org/stats/players/events/8320/repo', 'https://www.hltv.org/stats/players/events/5385/Luz', 'https://www.hltv.org/stats/players/events/7323/fel1x', 'https://www.hltv.org/stats/players/events/11110/Golden', 'https://www.hltv.org/stats/players/events/9259/witmer', 'https://www.hltv.org/stats/players/events/429/karrigan', 'https://www.hltv.org/stats/players/events/13297/ZINKEN', 'https://www.hltv.org/stats/players/events/5328/psycho', 'https://www.hltv.org/stats/players/events/2292/forget', 'https://www.hltv.org/stats/players/events/9348/crush', 'https://www.hltv.org/stats/players/events/8549/EXUS', 'https://www.hltv.org/stats/players/events/8983/MiGHTYMAX', 'https://www.hltv.org/stats/players/events/7321/TuGuX', 'https://www.hltv.org/stats/players/events/8788/keshandr', 'https://www.hltv.org/stats/players/events/11493/sK', 'https://www.hltv.org/stats/players/events/8372/matHEND', 'https://www.hltv.org/stats/players/events/1200/hitMouse', 'https://www.hltv.org/stats/players/events/365/meisoN', 'https://www.hltv.org/stats/players/events/11492/Noisia', 'https://www.hltv.org/stats/players/events/7537/xartE', 'https://www.hltv.org/stats/players/events/1278/pNshr', 'https://www.hltv.org/stats/players/events/9857/ngiN', 'https://www.hltv.org/stats/players/events/8302/mistou', 'https://www.hltv.org/stats/players/events/1331/Xp3', 'https://www.hltv.org/stats/players/events/7796/wayLander', 'https://www.hltv.org/stats/players/events/484/Zeus', 'https://www.hltv.org/stats/players/events/8256/tecek', 'https://www.hltv.org/stats/players/events/6453/arya', 'https://www.hltv.org/stats/players/events/1866/Shara', 'https://www.hltv.org/stats/players/events/3252/LEGIJA', 'https://www.hltv.org/stats/players/events/1083/AERO', 'https://www.hltv.org/stats/players/events/8515/hades', 'https://www.hltv.org/stats/players/events/1154/roman', 'https://www.hltv.org/stats/players/events/7156/MSL', 'https://www.hltv.org/stats/players/events/15120/JiNKZ', 'https://www.hltv.org/stats/players/events/8294/balblna', 'https://www.hltv.org/stats/players/events/330/MusambaN1', 'https://www.hltv.org/stats/players/events/10114/BONA', 'https://www.hltv.org/stats/players/events/499/hooch', 'https://www.hltv.org/stats/players/events/8504/LeX', 'https://www.hltv.org/stats/players/events/8600/advent', 'https://www.hltv.org/stats/players/events/2304/Kirby', 'https://www.hltv.org/stats/players/events/8794/jasonR', 'https://www.hltv.org/stats/players/events/5327/nkl', 'https://www.hltv.org/stats/players/events/163/Loord', 'https://www.hltv.org/stats/players/events/7462/Fuks', 'https://www.hltv.org/stats/players/events/8293/It%27s%20my', 'https://www.hltv.org/stats/players/events/8612/fix', 'https://www.hltv.org/stats/players/events/10993/torben', 'https://www.hltv.org/stats/players/events/3887/els', 'https://www.hltv.org/stats/players/events/6451/FNS', 'https://www.hltv.org/stats/players/events/9017/MAiNLiNE', 'https://www.hltv.org/stats/players/events/9882/Polen', 'https://www.hltv.org/stats/players/events/41/pronax', 'https://www.hltv.org/stats/players/events/2284/ryk', 'https://www.hltv.org/stats/players/events/9295/sycrone', 'https://www.hltv.org/stats/players/events/7797/spiker', 'https://www.hltv.org/stats/players/events/921/BERRY', 'https://www.hltv.org/stats/players/events/8521/daps', 'https://www.hltv.org/stats/players/events/1916/seang%40res', 'https://www.hltv.org/stats/players/events/11494/Dezibel', 'https://www.hltv.org/stats/players/events/1328/flowsicK', 'https://www.hltv.org/stats/players/events/9350/def', 'https://www.hltv.org/stats/players/events/12572/djL', 'https://www.hltv.org/stats/players/events/7378/Devilwalk', 'https://www.hltv.org/stats/players/events/3018/zEVES', 'https://www.hltv.org/stats/players/events/136/gob%20b', 'https://www.hltv.org/stats/players/events/1964/Twista', 'https://www.hltv.org/stats/players/events/8708/Slemmy', 'https://www.hltv.org/stats/players/events/9637/LONSDALE', 'https://www.hltv.org/stats/players/events/7217/SolEk', 'https://www.hltv.org/stats/players/events/3545/haste', 'https://www.hltv.org/stats/players/events/472/B1ad3', 'https://www.hltv.org/stats/players/events/7415/HUNDEN', 'https://www.hltv.org/stats/players/events/6455/OCEAN']\n"
     ]
    }
   ],
   "source": [
    "df = pd.DataFrame({'col':URL_List})\n",
    "df.col = [x.strip().replace('players/', 'players/events/') for x in df.col]\n",
    "rating_List = df['col'].tolist()\n",
    "print(rating_List)"
   ]
  },
  {
   "cell_type": "markdown",
   "metadata": {
    "papermill": {
     "duration": 0.017004,
     "end_time": "2019-05-10T20:07:51.488792",
     "exception": false,
     "start_time": "2019-05-10T20:07:51.471788",
     "status": "completed"
    },
    "tags": []
   },
   "source": [
    "Using this list of URLs, I scraped each page using BeatifulSoup, and filled 3 lists, the name of the player, the event he played in, and his rating in that event."
   ]
  },
  {
   "cell_type": "code",
   "execution_count": 4,
   "metadata": {
    "colab": {
     "base_uri": "https://localhost:8080/",
     "height": 1649
    },
    "colab_type": "code",
    "id": "4DEq-iklgSOW",
    "outputId": "90547059-bbf4-4e53-d9e6-2a2cb4c3723d",
    "papermill": {
     "duration": 1998.835657,
     "end_time": "2019-05-10T20:41:10.343453",
     "exception": false,
     "start_time": "2019-05-10T20:07:51.507796",
     "status": "completed"
    },
    "tags": []
   },
   "outputs": [
    {
     "name": "stderr",
     "output_type": "stream",
     "text": [
      "2019-05-10 21:07:52.338 | INFO     | __main__:<module>:10 - Scraping new players past ratings: https://www.hltv.org/stats/players/events/11893/ZywOo\n"
     ]
    },
    {
     "name": "stderr",
     "output_type": "stream",
     "text": [
      "2019-05-10 21:07:55.042 | INFO     | __main__:<module>:10 - Scraping new players past ratings: https://www.hltv.org/stats/players/events/7998/s1mple\n"
     ]
    },
    {
     "name": "stderr",
     "output_type": "stream",
     "text": [
      "2019-05-10 21:07:58.291 | INFO     | __main__:<module>:10 - Scraping new players past ratings: https://www.hltv.org/stats/players/events/7938/XANTARES\n"
     ]
    },
    {
     "name": "stderr",
     "output_type": "stream",
     "text": [
      "2019-05-10 21:08:01.559 | INFO     | __main__:<module>:10 - Scraping new players past ratings: https://www.hltv.org/stats/players/events/7131/BnTeT\n"
     ]
    },
    {
     "name": "stderr",
     "output_type": "stream",
     "text": [
      "2019-05-10 21:08:04.882 | INFO     | __main__:<module>:10 - Scraping new players past ratings: https://www.hltv.org/stats/players/events/9216/coldzera\n"
     ]
    },
    {
     "name": "stderr",
     "output_type": "stream",
     "text": [
      "2019-05-10 21:08:07.899 | INFO     | __main__:<module>:10 - Scraping new players past ratings: https://www.hltv.org/stats/players/events/9102/Sico\n"
     ]
    },
    {
     "name": "stderr",
     "output_type": "stream",
     "text": [
      "2019-05-10 21:08:10.623 | INFO     | __main__:<module>:10 - Scraping new players past ratings: https://www.hltv.org/stats/players/events/15631/KSCERATO\n"
     ]
    },
    {
     "name": "stderr",
     "output_type": "stream",
     "text": [
      "2019-05-10 21:08:13.493 | INFO     | __main__:<module>:10 - Scraping new players past ratings: https://www.hltv.org/stats/players/events/8950/Kaze\n"
     ]
    },
    {
     "name": "stderr",
     "output_type": "stream",
     "text": [
      "2019-05-10 21:08:16.499 | INFO     | __main__:<module>:10 - Scraping new players past ratings: https://www.hltv.org/stats/players/events/10774/Freeman\n"
     ]
    },
    {
     "name": "stderr",
     "output_type": "stream",
     "text": [
      "2019-05-10 21:08:19.654 | INFO     | __main__:<module>:10 - Scraping new players past ratings: https://www.hltv.org/stats/players/events/3741/NiKo\n"
     ]
    },
    {
     "name": "stderr",
     "output_type": "stream",
     "text": [
      "2019-05-10 21:08:22.789 | INFO     | __main__:<module>:10 - Scraping new players past ratings: https://www.hltv.org/stats/players/events/8711/Sonic\n"
     ]
    },
    {
     "name": "stderr",
     "output_type": "stream",
     "text": [
      "2019-05-10 21:08:25.878 | INFO     | __main__:<module>:10 - Scraping new players past ratings: https://www.hltv.org/stats/players/events/9960/frozen\n"
     ]
    },
    {
     "name": "stderr",
     "output_type": "stream",
     "text": [
      "2019-05-10 21:08:28.742 | INFO     | __main__:<module>:10 - Scraping new players past ratings: https://www.hltv.org/stats/players/events/11271/smooya\n"
     ]
    },
    {
     "name": "stderr",
     "output_type": "stream",
     "text": [
      "2019-05-10 21:08:31.742 | INFO     | __main__:<module>:10 - Scraping new players past ratings: https://www.hltv.org/stats/players/events/9172/XigN\n"
     ]
    },
    {
     "name": "stderr",
     "output_type": "stream",
     "text": [
      "2019-05-10 21:08:34.597 | INFO     | __main__:<module>:10 - Scraping new players past ratings: https://www.hltv.org/stats/players/events/12553/yuurih\n"
     ]
    },
    {
     "name": "stderr",
     "output_type": "stream",
     "text": [
      "2019-05-10 21:08:38.005 | INFO     | __main__:<module>:10 - Scraping new players past ratings: https://www.hltv.org/stats/players/events/7592/device\n"
     ]
    },
    {
     "name": "stderr",
     "output_type": "stream",
     "text": [
      "2019-05-10 21:08:41.218 | INFO     | __main__:<module>:10 - Scraping new players past ratings: https://www.hltv.org/stats/players/events/9626/XELLOW\n"
     ]
    },
    {
     "name": "stderr",
     "output_type": "stream",
     "text": [
      "2019-05-10 21:08:44.215 | INFO     | __main__:<module>:10 - Scraping new players past ratings: https://www.hltv.org/stats/players/events/5736/kNgV-\n"
     ]
    },
    {
     "name": "stderr",
     "output_type": "stream",
     "text": [
      "2019-05-10 21:08:46.946 | INFO     | __main__:<module>:10 - Scraping new players past ratings: https://www.hltv.org/stats/players/events/8714/cosmeeeN\n"
     ]
    },
    {
     "name": "stderr",
     "output_type": "stream",
     "text": [
      "2019-05-10 21:08:49.587 | INFO     | __main__:<module>:10 - Scraping new players past ratings: https://www.hltv.org/stats/players/events/12591/sterling\n"
     ]
    },
    {
     "name": "stderr",
     "output_type": "stream",
     "text": [
      "2019-05-10 21:08:52.559 | INFO     | __main__:<module>:10 - Scraping new players past ratings: https://www.hltv.org/stats/players/events/12126/poizon\n"
     ]
    },
    {
     "name": "stderr",
     "output_type": "stream",
     "text": [
      "2019-05-10 21:08:55.564 | INFO     | __main__:<module>:10 - Scraping new players past ratings: https://www.hltv.org/stats/players/events/8574/woxic\n"
     ]
    },
    {
     "name": "stderr",
     "output_type": "stream",
     "text": [
      "2019-05-10 21:08:58.753 | INFO     | __main__:<module>:10 - Scraping new players past ratings: https://www.hltv.org/stats/players/events/11219/CeRq\n"
     ]
    },
    {
     "name": "stderr",
     "output_type": "stream",
     "text": [
      "2019-05-10 21:09:02.193 | INFO     | __main__:<module>:10 - Scraping new players past ratings: https://www.hltv.org/stats/players/events/7167/kennyS\n"
     ]
    },
    {
     "name": "stderr",
     "output_type": "stream",
     "text": [
      "2019-05-10 21:09:05.094 | INFO     | __main__:<module>:10 - Scraping new players past ratings: https://www.hltv.org/stats/players/events/8766/dizzyLife\n"
     ]
    },
    {
     "name": "stderr",
     "output_type": "stream",
     "text": [
      "2019-05-10 21:09:08.216 | INFO     | __main__:<module>:10 - Scraping new players past ratings: https://www.hltv.org/stats/players/events/3972/huNter\n"
     ]
    },
    {
     "name": "stderr",
     "output_type": "stream",
     "text": [
      "2019-05-10 21:09:11.200 | INFO     | __main__:<module>:10 - Scraping new players past ratings: https://www.hltv.org/stats/players/events/13670/nawwk\n"
     ]
    },
    {
     "name": "stderr",
     "output_type": "stream",
     "text": [
      "2019-05-10 21:09:14.177 | INFO     | __main__:<module>:10 - Scraping new players past ratings: https://www.hltv.org/stats/players/events/10588/Liazz\n"
     ]
    },
    {
     "name": "stderr",
     "output_type": "stream",
     "text": [
      "2019-05-10 21:09:16.983 | INFO     | __main__:<module>:10 - Scraping new players past ratings: https://www.hltv.org/stats/players/events/11847/Texta\n"
     ]
    },
    {
     "name": "stderr",
     "output_type": "stream",
     "text": [
      "2019-05-10 21:09:19.966 | INFO     | __main__:<module>:10 - Scraping new players past ratings: https://www.hltv.org/stats/players/events/8412/dream3r\n"
     ]
    },
    {
     "name": "stderr",
     "output_type": "stream",
     "text": [
      "2019-05-10 21:09:22.939 | INFO     | __main__:<module>:10 - Scraping new players past ratings: https://www.hltv.org/stats/players/events/10394/Twistzz\n"
     ]
    },
    {
     "name": "stderr",
     "output_type": "stream",
     "text": [
      "2019-05-10 21:09:26.063 | INFO     | __main__:<module>:10 - Scraping new players past ratings: https://www.hltv.org/stats/players/events/11163/trk\n"
     ]
    },
    {
     "name": "stderr",
     "output_type": "stream",
     "text": [
      "2019-05-10 21:09:29.145 | INFO     | __main__:<module>:10 - Scraping new players past ratings: https://www.hltv.org/stats/players/events/9277/FREDDyFROG\n"
     ]
    },
    {
     "name": "stderr",
     "output_type": "stream",
     "text": [
      "2019-05-10 21:09:32.045 | INFO     | __main__:<module>:10 - Scraping new players past ratings: https://www.hltv.org/stats/players/events/11916/sergej\n"
     ]
    },
    {
     "name": "stderr",
     "output_type": "stream",
     "text": [
      "2019-05-10 21:09:35.140 | INFO     | __main__:<module>:10 - Scraping new players past ratings: https://www.hltv.org/stats/players/events/11283/ottoNd\n"
     ]
    },
    {
     "name": "stderr",
     "output_type": "stream",
     "text": [
      "2019-05-10 21:09:38.634 | INFO     | __main__:<module>:10 - Scraping new players past ratings: https://www.hltv.org/stats/players/events/8575/Calyx\n"
     ]
    },
    {
     "name": "stderr",
     "output_type": "stream",
     "text": [
      "2019-05-10 21:09:41.662 | INFO     | __main__:<module>:10 - Scraping new players past ratings: https://www.hltv.org/stats/players/events/9001/ZELIN\n"
     ]
    },
    {
     "name": "stderr",
     "output_type": "stream",
     "text": [
      "2019-05-10 21:09:44.968 | INFO     | __main__:<module>:10 - Scraping new players past ratings: https://www.hltv.org/stats/players/events/2757/GuardiaN\n"
     ]
    },
    {
     "name": "stderr",
     "output_type": "stream",
     "text": [
      "2019-05-10 21:09:48.007 | INFO     | __main__:<module>:10 - Scraping new players past ratings: https://www.hltv.org/stats/players/events/8944/Benkai\n"
     ]
    },
    {
     "name": "stderr",
     "output_type": "stream",
     "text": [
      "2019-05-10 21:09:51.280 | INFO     | __main__:<module>:10 - Scraping new players past ratings: https://www.hltv.org/stats/players/events/798/oskar\n"
     ]
    },
    {
     "name": "stderr",
     "output_type": "stream",
     "text": [
      "2019-05-10 21:09:54.275 | INFO     | __main__:<module>:10 - Scraping new players past ratings: https://www.hltv.org/stats/players/events/9294/NaToSaphiX\n"
     ]
    },
    {
     "name": "stderr",
     "output_type": "stream",
     "text": [
      "2019-05-10 21:09:57.191 | INFO     | __main__:<module>:10 - Scraping new players past ratings: https://www.hltv.org/stats/players/events/13776/Jame\n"
     ]
    },
    {
     "name": "stderr",
     "output_type": "stream",
     "text": [
      "2019-05-10 21:09:59.948 | INFO     | __main__:<module>:10 - Scraping new players past ratings: https://www.hltv.org/stats/players/events/14619/Infinite\n"
     ]
    },
    {
     "name": "stderr",
     "output_type": "stream",
     "text": [
      "2019-05-10 21:10:02.845 | INFO     | __main__:<module>:10 - Scraping new players past ratings: https://www.hltv.org/stats/players/events/11141/erkaSt\n"
     ]
    },
    {
     "name": "stderr",
     "output_type": "stream",
     "text": [
      "2019-05-10 21:10:06.538 | INFO     | __main__:<module>:10 - Scraping new players past ratings: https://www.hltv.org/stats/players/events/29/f0rest\n"
     ]
    },
    {
     "name": "stderr",
     "output_type": "stream",
     "text": [
      "2019-05-10 21:10:09.690 | INFO     | __main__:<module>:10 - Scraping new players past ratings: https://www.hltv.org/stats/players/events/1088/liTTle\n"
     ]
    },
    {
     "name": "stderr",
     "output_type": "stream",
     "text": [
      "2019-05-10 21:10:12.578 | INFO     | __main__:<module>:10 - Scraping new players past ratings: https://www.hltv.org/stats/players/events/9115/dexter\n"
     ]
    },
    {
     "name": "stderr",
     "output_type": "stream",
     "text": [
      "2019-05-10 21:10:15.595 | INFO     | __main__:<module>:10 - Scraping new players past ratings: https://www.hltv.org/stats/players/events/13238/PTC\n"
     ]
    },
    {
     "name": "stderr",
     "output_type": "stream",
     "text": [
      "2019-05-10 21:10:18.598 | INFO     | __main__:<module>:10 - Scraping new players past ratings: https://www.hltv.org/stats/players/events/12271/moose\n"
     ]
    },
    {
     "name": "stderr",
     "output_type": "stream",
     "text": [
      "2019-05-10 21:10:21.935 | INFO     | __main__:<module>:10 - Scraping new players past ratings: https://www.hltv.org/stats/players/events/9136/Brehze\n"
     ]
    },
    {
     "name": "stderr",
     "output_type": "stream",
     "text": [
      "2019-05-10 21:10:24.989 | INFO     | __main__:<module>:10 - Scraping new players past ratings: https://www.hltv.org/stats/players/events/9352/mini\n"
     ]
    },
    {
     "name": "stderr",
     "output_type": "stream",
     "text": [
      "2019-05-10 21:10:33.529 | INFO     | __main__:<module>:10 - Scraping new players past ratings: https://www.hltv.org/stats/players/events/8783/JUGi\n"
     ]
    },
    {
     "name": "stderr",
     "output_type": "stream",
     "text": [
      "2019-05-10 21:10:36.733 | INFO     | __main__:<module>:10 - Scraping new players past ratings: https://www.hltv.org/stats/players/events/8943/splashske\n"
     ]
    },
    {
     "name": "stderr",
     "output_type": "stream",
     "text": [
      "2019-05-10 21:10:39.892 | INFO     | __main__:<module>:10 - Scraping new players past ratings: https://www.hltv.org/stats/players/events/1378/zehN\n"
     ]
    },
    {
     "name": "stderr",
     "output_type": "stream",
     "text": [
      "2019-05-10 21:10:42.831 | INFO     | __main__:<module>:10 - Scraping new players past ratings: https://www.hltv.org/stats/players/events/9884/wrath\n"
     ]
    },
    {
     "name": "stderr",
     "output_type": "stream",
     "text": [
      "2019-05-10 21:10:45.980 | INFO     | __main__:<module>:10 - Scraping new players past ratings: https://www.hltv.org/stats/players/events/8565/HEN1\n"
     ]
    },
    {
     "name": "stderr",
     "output_type": "stream",
     "text": [
      "2019-05-10 21:10:49.080 | INFO     | __main__:<module>:10 - Scraping new players past ratings: https://www.hltv.org/stats/players/events/9032/Magisk\n"
     ]
    },
    {
     "name": "stderr",
     "output_type": "stream",
     "text": [
      "2019-05-10 21:10:52.248 | INFO     | __main__:<module>:10 - Scraping new players past ratings: https://www.hltv.org/stats/players/events/8918/electronic\n"
     ]
    },
    {
     "name": "stderr",
     "output_type": "stream",
     "text": [
      "2019-05-10 21:10:55.774 | INFO     | __main__:<module>:10 - Scraping new players past ratings: https://www.hltv.org/stats/players/events/39/GeT_RiGhT\n"
     ]
    },
    {
     "name": "stderr",
     "output_type": "stream",
     "text": [
      "2019-05-10 21:10:58.991 | INFO     | __main__:<module>:10 - Scraping new players past ratings: https://www.hltv.org/stats/players/events/8552/AttackeR\n"
     ]
    },
    {
     "name": "stderr",
     "output_type": "stream",
     "text": [
      "2019-05-10 21:11:02.238 | INFO     | __main__:<module>:10 - Scraping new players past ratings: https://www.hltv.org/stats/players/events/7028/Summer\n"
     ]
    },
    {
     "name": "stderr",
     "output_type": "stream",
     "text": [
      "2019-05-10 21:11:05.155 | INFO     | __main__:<module>:10 - Scraping new players past ratings: https://www.hltv.org/stats/players/events/12379/Impulse\n"
     ]
    },
    {
     "name": "stderr",
     "output_type": "stream",
     "text": [
      "2019-05-10 21:11:07.866 | INFO     | __main__:<module>:10 - Scraping new players past ratings: https://www.hltv.org/stats/players/events/5021/swag\n"
     ]
    },
    {
     "name": "stderr",
     "output_type": "stream",
     "text": [
      "2019-05-10 21:11:10.769 | INFO     | __main__:<module>:10 - Scraping new players past ratings: https://www.hltv.org/stats/players/events/10722/gas\n"
     ]
    },
    {
     "name": "stderr",
     "output_type": "stream",
     "text": [
      "2019-05-10 21:11:13.574 | INFO     | __main__:<module>:10 - Scraping new players past ratings: https://www.hltv.org/stats/players/events/12733/xsepower\n"
     ]
    },
    {
     "name": "stderr",
     "output_type": "stream",
     "text": [
      "2019-05-10 21:11:16.488 | INFO     | __main__:<module>:10 - Scraping new players past ratings: https://www.hltv.org/stats/players/events/4076/Aerial\n"
     ]
    },
    {
     "name": "stderr",
     "output_type": "stream",
     "text": [
      "2019-05-10 21:11:19.469 | INFO     | __main__:<module>:10 - Scraping new players past ratings: https://www.hltv.org/stats/players/events/11162/Hatz\n"
     ]
    },
    {
     "name": "stderr",
     "output_type": "stream",
     "text": [
      "2019-05-10 21:11:22.295 | INFO     | __main__:<module>:10 - Scraping new players past ratings: https://www.hltv.org/stats/players/events/9247/Machinegun\n"
     ]
    },
    {
     "name": "stderr",
     "output_type": "stream",
     "text": [
      "2019-05-10 21:11:25.270 | INFO     | __main__:<module>:10 - Scraping new players past ratings: https://www.hltv.org/stats/players/events/9031/valde\n"
     ]
    },
    {
     "name": "stderr",
     "output_type": "stream",
     "text": [
      "2019-05-10 21:11:28.026 | INFO     | __main__:<module>:10 - Scraping new players past ratings: https://www.hltv.org/stats/players/events/12715/BL1TZ\n"
     ]
    },
    {
     "name": "stderr",
     "output_type": "stream",
     "text": [
      "2019-05-10 21:11:31.560 | INFO     | __main__:<module>:10 - Scraping new players past ratings: https://www.hltv.org/stats/players/events/695/allu\n"
     ]
    },
    {
     "name": "stderr",
     "output_type": "stream",
     "text": [
      "2019-05-10 21:11:34.988 | INFO     | __main__:<module>:10 - Scraping new players past ratings: https://www.hltv.org/stats/players/events/11250/Flarich\n"
     ]
    },
    {
     "name": "stderr",
     "output_type": "stream",
     "text": [
      "2019-05-10 21:11:38.048 | INFO     | __main__:<module>:10 - Scraping new players past ratings: https://www.hltv.org/stats/players/events/8370/mixwell\n"
     ]
    },
    {
     "name": "stderr",
     "output_type": "stream",
     "text": [
      "2019-05-10 21:11:41.725 | INFO     | __main__:<module>:10 - Scraping new players past ratings: https://www.hltv.org/stats/players/events/1225/shox\n"
     ]
    },
    {
     "name": "stderr",
     "output_type": "stream",
     "text": [
      "2019-05-10 21:11:44.821 | INFO     | __main__:<module>:10 - Scraping new players past ratings: https://www.hltv.org/stats/players/events/10842/KHTEX\n"
     ]
    },
    {
     "name": "stderr",
     "output_type": "stream",
     "text": [
      "2019-05-10 21:11:47.480 | INFO     | __main__:<module>:10 - Scraping new players past ratings: https://www.hltv.org/stats/players/events/13254/TenZ\n"
     ]
    },
    {
     "name": "stderr",
     "output_type": "stream",
     "text": [
      "2019-05-10 21:11:50.250 | INFO     | __main__:<module>:10 - Scraping new players past ratings: https://www.hltv.org/stats/players/events/10263/xccurate\n"
     ]
    },
    {
     "name": "stderr",
     "output_type": "stream",
     "text": [
      "2019-05-10 21:11:53.093 | INFO     | __main__:<module>:10 - Scraping new players past ratings: https://www.hltv.org/stats/players/events/13281/El1an\n"
     ]
    },
    {
     "name": "stderr",
     "output_type": "stream",
     "text": [
      "2019-05-10 21:11:56.038 | INFO     | __main__:<module>:10 - Scraping new players past ratings: https://www.hltv.org/stats/players/events/11154/exit\n"
     ]
    },
    {
     "name": "stderr",
     "output_type": "stream",
     "text": [
      "2019-05-10 21:11:59.034 | INFO     | __main__:<module>:10 - Scraping new players past ratings: https://www.hltv.org/stats/players/events/7910/fejtZ\n"
     ]
    },
    {
     "name": "stderr",
     "output_type": "stream",
     "text": [
      "2019-05-10 21:12:02.141 | INFO     | __main__:<module>:10 - Scraping new players past ratings: https://www.hltv.org/stats/players/events/9616/AmaNEk\n"
     ]
    },
    {
     "name": "stderr",
     "output_type": "stream",
     "text": [
      "2019-05-10 21:12:05.224 | INFO     | __main__:<module>:10 - Scraping new players past ratings: https://www.hltv.org/stats/players/events/8564/fer\n"
     ]
    },
    {
     "name": "stderr",
     "output_type": "stream",
     "text": [
      "2019-05-10 21:12:08.249 | INFO     | __main__:<module>:10 - Scraping new players past ratings: https://www.hltv.org/stats/players/events/13239/qikert\n"
     ]
    },
    {
     "name": "stderr",
     "output_type": "stream",
     "text": [
      "2019-05-10 21:12:11.398 | INFO     | __main__:<module>:10 - Scraping new players past ratings: https://www.hltv.org/stats/players/events/12030/EspiranTo\n"
     ]
    },
    {
     "name": "stderr",
     "output_type": "stream",
     "text": [
      "2019-05-10 21:12:14.517 | INFO     | __main__:<module>:10 - Scraping new players past ratings: https://www.hltv.org/stats/players/events/9618/nexa\n"
     ]
    },
    {
     "name": "stderr",
     "output_type": "stream",
     "text": [
      "2019-05-10 21:12:17.620 | INFO     | __main__:<module>:10 - Scraping new players past ratings: https://www.hltv.org/stats/players/events/11264/WARDELL\n"
     ]
    },
    {
     "name": "stderr",
     "output_type": "stream",
     "text": [
      "2019-05-10 21:12:20.451 | INFO     | __main__:<module>:10 - Scraping new players past ratings: https://www.hltv.org/stats/players/events/13679/nukkye\n"
     ]
    },
    {
     "name": "stderr",
     "output_type": "stream",
     "text": [
      "2019-05-10 21:12:24.093 | INFO     | __main__:<module>:10 - Scraping new players past ratings: https://www.hltv.org/stats/players/events/7398/dupreeh\n"
     ]
    },
    {
     "name": "stderr",
     "output_type": "stream",
     "text": [
      "2019-05-10 21:12:27.222 | INFO     | __main__:<module>:10 - Scraping new players past ratings: https://www.hltv.org/stats/players/events/9895/mertz\n"
     ]
    },
    {
     "name": "stderr",
     "output_type": "stream",
     "text": [
      "2019-05-10 21:12:30.475 | INFO     | __main__:<module>:10 - Scraping new players past ratings: https://www.hltv.org/stats/players/events/8601/zhokiNg\n"
     ]
    },
    {
     "name": "stderr",
     "output_type": "stream",
     "text": [
      "2019-05-10 21:12:33.688 | INFO     | __main__:<module>:10 - Scraping new players past ratings: https://www.hltv.org/stats/players/events/8520/NAF\n"
     ]
    },
    {
     "name": "stderr",
     "output_type": "stream",
     "text": [
      "2019-05-10 21:12:37.039 | INFO     | __main__:<module>:10 - Scraping new players past ratings: https://www.hltv.org/stats/players/events/14932/faveN\n"
     ]
    },
    {
     "name": "stderr",
     "output_type": "stream",
     "text": [
      "2019-05-10 21:12:39.917 | INFO     | __main__:<module>:10 - Scraping new players past ratings: https://www.hltv.org/stats/players/events/9686/Gratisfaction\n"
     ]
    },
    {
     "name": "stderr",
     "output_type": "stream",
     "text": [
      "2019-05-10 21:12:42.835 | INFO     | __main__:<module>:10 - Scraping new players past ratings: https://www.hltv.org/stats/players/events/2529/Maluk3\n"
     ]
    },
    {
     "name": "stderr",
     "output_type": "stream",
     "text": [
      "2019-05-10 21:12:46.321 | INFO     | __main__:<module>:10 - Scraping new players past ratings: https://www.hltv.org/stats/players/events/7256/nex\n"
     ]
    },
    {
     "name": "stderr",
     "output_type": "stream",
     "text": [
      "2019-05-10 21:12:49.447 | INFO     | __main__:<module>:10 - Scraping new players past ratings: https://www.hltv.org/stats/players/events/10449/ISSAA\n"
     ]
    },
    {
     "name": "stderr",
     "output_type": "stream",
     "text": [
      "2019-05-10 21:12:52.524 | INFO     | __main__:<module>:10 - Scraping new players past ratings: https://www.hltv.org/stats/players/events/13915/YEKINDAR\n"
     ]
    },
    {
     "name": "stderr",
     "output_type": "stream",
     "text": [
      "2019-05-10 21:12:55.617 | INFO     | __main__:<module>:10 - Scraping new players past ratings: https://www.hltv.org/stats/players/events/180/Savage\n"
     ]
    },
    {
     "name": "stderr",
     "output_type": "stream",
     "text": [
      "2019-05-10 21:12:59.154 | INFO     | __main__:<module>:10 - Scraping new players past ratings: https://www.hltv.org/stats/players/events/7390/ScreaM\n"
     ]
    },
    {
     "name": "stderr",
     "output_type": "stream",
     "text": [
      "2019-05-10 21:13:02.704 | INFO     | __main__:<module>:10 - Scraping new players past ratings: https://www.hltv.org/stats/players/events/885/olofmeister\n"
     ]
    },
    {
     "name": "stderr",
     "output_type": "stream",
     "text": [
      "2019-05-10 21:13:05.912 | INFO     | __main__:<module>:10 - Scraping new players past ratings: https://www.hltv.org/stats/players/events/2023/FalleN\n"
     ]
    },
    {
     "name": "stderr",
     "output_type": "stream",
     "text": [
      "2019-05-10 21:13:08.865 | INFO     | __main__:<module>:10 - Scraping new players past ratings: https://www.hltv.org/stats/players/events/12731/somedieyoung\n"
     ]
    },
    {
     "name": "stderr",
     "output_type": "stream",
     "text": [
      "2019-05-10 21:13:12.057 | INFO     | __main__:<module>:10 - Scraping new players past ratings: https://www.hltv.org/stats/players/events/10504/NikoM\n"
     ]
    },
    {
     "name": "stderr",
     "output_type": "stream",
     "text": [
      "2019-05-10 21:13:14.891 | INFO     | __main__:<module>:10 - Scraping new players past ratings: https://www.hltv.org/stats/players/events/15007/Cooper-\n"
     ]
    },
    {
     "name": "stderr",
     "output_type": "stream",
     "text": [
      "2019-05-10 21:13:17.954 | INFO     | __main__:<module>:10 - Scraping new players past ratings: https://www.hltv.org/stats/players/events/4679/jks\n"
     ]
    },
    {
     "name": "stderr",
     "output_type": "stream",
     "text": [
      "2019-05-10 21:13:21.258 | INFO     | __main__:<module>:10 - Scraping new players past ratings: https://www.hltv.org/stats/players/events/9078/k0nfig\n"
     ]
    },
    {
     "name": "stderr",
     "output_type": "stream",
     "text": [
      "2019-05-10 21:13:24.625 | INFO     | __main__:<module>:10 - Scraping new players past ratings: https://www.hltv.org/stats/players/events/10671/Ethan\n"
     ]
    },
    {
     "name": "stderr",
     "output_type": "stream",
     "text": [
      "2019-05-10 21:13:27.540 | INFO     | __main__:<module>:10 - Scraping new players past ratings: https://www.hltv.org/stats/players/events/9042/ryx\n"
     ]
    },
    {
     "name": "stderr",
     "output_type": "stream",
     "text": [
      "2019-05-10 21:13:30.741 | INFO     | __main__:<module>:10 - Scraping new players past ratings: https://www.hltv.org/stats/players/events/13980/lollipop21k\n"
     ]
    },
    {
     "name": "stderr",
     "output_type": "stream",
     "text": [
      "2019-05-10 21:13:33.760 | INFO     | __main__:<module>:10 - Scraping new players past ratings: https://www.hltv.org/stats/players/events/8735/autimatic\n"
     ]
    },
    {
     "name": "stderr",
     "output_type": "stream",
     "text": [
      "2019-05-10 21:13:36.546 | INFO     | __main__:<module>:10 - Scraping new players past ratings: https://www.hltv.org/stats/players/events/12564/Geniuss\n"
     ]
    },
    {
     "name": "stderr",
     "output_type": "stream",
     "text": [
      "2019-05-10 21:13:40.452 | INFO     | __main__:<module>:10 - Scraping new players past ratings: https://www.hltv.org/stats/players/events/7356/MICHU\n"
     ]
    },
    {
     "name": "stderr",
     "output_type": "stream",
     "text": [
      "2019-05-10 21:13:43.482 | INFO     | __main__:<module>:10 - Scraping new players past ratings: https://www.hltv.org/stats/players/events/10664/Olivia\n"
     ]
    },
    {
     "name": "stderr",
     "output_type": "stream",
     "text": [
      "2019-05-10 21:13:46.310 | INFO     | __main__:<module>:10 - Scraping new players past ratings: https://www.hltv.org/stats/players/events/11140/INS\n"
     ]
    },
    {
     "name": "stderr",
     "output_type": "stream",
     "text": [
      "2019-05-10 21:13:49.480 | INFO     | __main__:<module>:10 - Scraping new players past ratings: https://www.hltv.org/stats/players/events/7810/ShahZaM\n"
     ]
    },
    {
     "name": "stderr",
     "output_type": "stream",
     "text": [
      "2019-05-10 21:13:52.799 | INFO     | __main__:<module>:10 - Scraping new players past ratings: https://www.hltv.org/stats/players/events/9353/paz\n"
     ]
    },
    {
     "name": "stderr",
     "output_type": "stream",
     "text": [
      "2019-05-10 21:13:55.778 | INFO     | __main__:<module>:10 - Scraping new players past ratings: https://www.hltv.org/stats/players/events/3543/DJOXiC\n"
     ]
    },
    {
     "name": "stderr",
     "output_type": "stream",
     "text": [
      "2019-05-10 21:13:59.036 | INFO     | __main__:<module>:10 - Scraping new players past ratings: https://www.hltv.org/stats/players/events/5479/suNny\n"
     ]
    },
    {
     "name": "stderr",
     "output_type": "stream",
     "text": [
      "2019-05-10 21:14:02.192 | INFO     | __main__:<module>:10 - Scraping new players past ratings: https://www.hltv.org/stats/players/events/9056/koosta\n"
     ]
    },
    {
     "name": "stderr",
     "output_type": "stream",
     "text": [
      "2019-05-10 21:14:06.041 | INFO     | __main__:<module>:10 - Scraping new players past ratings: https://www.hltv.org/stats/players/events/9255/draken\n"
     ]
    },
    {
     "name": "stderr",
     "output_type": "stream",
     "text": [
      "2019-05-10 21:14:08.882 | INFO     | __main__:<module>:10 - Scraping new players past ratings: https://www.hltv.org/stats/players/events/11816/ropz\n"
     ]
    },
    {
     "name": "stderr",
     "output_type": "stream",
     "text": [
      "2019-05-10 21:14:12.589 | INFO     | __main__:<module>:10 - Scraping new players past ratings: https://www.hltv.org/stats/players/events/7443/twist\n"
     ]
    },
    {
     "name": "stderr",
     "output_type": "stream",
     "text": [
      "2019-05-10 21:14:15.673 | INFO     | __main__:<module>:10 - Scraping new players past ratings: https://www.hltv.org/stats/players/events/12521/arT\n"
     ]
    },
    {
     "name": "stderr",
     "output_type": "stream",
     "text": [
      "2019-05-10 21:14:18.627 | INFO     | __main__:<module>:10 - Scraping new players past ratings: https://www.hltv.org/stats/players/events/5799/keev\n"
     ]
    },
    {
     "name": "stderr",
     "output_type": "stream",
     "text": [
      "2019-05-10 21:14:21.913 | INFO     | __main__:<module>:10 - Scraping new players past ratings: https://www.hltv.org/stats/players/events/7266/syrsoN\n"
     ]
    },
    {
     "name": "stderr",
     "output_type": "stream",
     "text": [
      "2019-05-10 21:14:25.822 | INFO     | __main__:<module>:10 - Scraping new players past ratings: https://www.hltv.org/stats/players/events/7403/WorldEdit\n"
     ]
    },
    {
     "name": "stderr",
     "output_type": "stream",
     "text": [
      "2019-05-10 21:14:28.783 | INFO     | __main__:<module>:10 - Scraping new players past ratings: https://www.hltv.org/stats/players/events/13497/Lucky\n"
     ]
    },
    {
     "name": "stderr",
     "output_type": "stream",
     "text": [
      "2019-05-10 21:14:31.680 | INFO     | __main__:<module>:10 - Scraping new players past ratings: https://www.hltv.org/stats/players/events/9108/tucks\n"
     ]
    },
    {
     "name": "stderr",
     "output_type": "stream",
     "text": [
      "2019-05-10 21:14:34.420 | INFO     | __main__:<module>:10 - Scraping new players past ratings: https://www.hltv.org/stats/players/events/10038/Sayf\n"
     ]
    },
    {
     "name": "stderr",
     "output_type": "stream",
     "text": [
      "2019-05-10 21:14:37.492 | INFO     | __main__:<module>:10 - Scraping new players past ratings: https://www.hltv.org/stats/players/events/8526/smike\n"
     ]
    },
    {
     "name": "stderr",
     "output_type": "stream",
     "text": [
      "2019-05-10 21:14:40.526 | INFO     | __main__:<module>:10 - Scraping new players past ratings: https://www.hltv.org/stats/players/events/7996/CRUC1AL\n"
     ]
    },
    {
     "name": "stderr",
     "output_type": "stream",
     "text": [
      "2019-05-10 21:14:43.525 | INFO     | __main__:<module>:10 - Scraping new players past ratings: https://www.hltv.org/stats/players/events/10168/bottle\n"
     ]
    },
    {
     "name": "stderr",
     "output_type": "stream",
     "text": [
      "2019-05-10 21:14:46.910 | INFO     | __main__:<module>:10 - Scraping new players past ratings: https://www.hltv.org/stats/players/events/2469/cajunb\n"
     ]
    },
    {
     "name": "stderr",
     "output_type": "stream",
     "text": [
      "2019-05-10 21:14:50.160 | INFO     | __main__:<module>:10 - Scraping new players past ratings: https://www.hltv.org/stats/players/events/7026/DD\n"
     ]
    },
    {
     "name": "stderr",
     "output_type": "stream",
     "text": [
      "2019-05-10 21:14:53.390 | INFO     | __main__:<module>:10 - Scraping new players past ratings: https://www.hltv.org/stats/players/events/8738/EliGE\n"
     ]
    },
    {
     "name": "stderr",
     "output_type": "stream",
     "text": [
      "2019-05-10 21:14:56.426 | INFO     | __main__:<module>:10 - Scraping new players past ratings: https://www.hltv.org/stats/players/events/9218/xand\n"
     ]
    },
    {
     "name": "stderr",
     "output_type": "stream",
     "text": [
      "2019-05-10 21:14:59.569 | INFO     | __main__:<module>:10 - Scraping new players past ratings: https://www.hltv.org/stats/players/events/8848/Ryxxo\n"
     ]
    },
    {
     "name": "stderr",
     "output_type": "stream",
     "text": [
      "2019-05-10 21:15:02.538 | INFO     | __main__:<module>:10 - Scraping new players past ratings: https://www.hltv.org/stats/players/events/7016/HZ\n"
     ]
    },
    {
     "name": "stderr",
     "output_type": "stream",
     "text": [
      "2019-05-10 21:15:05.928 | INFO     | __main__:<module>:10 - Scraping new players past ratings: https://www.hltv.org/stats/players/events/9288/TOR\n"
     ]
    },
    {
     "name": "stderr",
     "output_type": "stream",
     "text": [
      "2019-05-10 21:15:09.739 | INFO     | __main__:<module>:10 - Scraping new players past ratings: https://www.hltv.org/stats/players/events/3055/flusha\n"
     ]
    },
    {
     "name": "stderr",
     "output_type": "stream",
     "text": [
      "2019-05-10 21:15:12.841 | INFO     | __main__:<module>:10 - Scraping new players past ratings: https://www.hltv.org/stats/players/events/10587/InfrequeNt\n"
     ]
    },
    {
     "name": "stderr",
     "output_type": "stream",
     "text": [
      "2019-05-10 21:15:15.672 | INFO     | __main__:<module>:10 - Scraping new players past ratings: https://www.hltv.org/stats/players/events/8503/fl0m\n"
     ]
    },
    {
     "name": "stderr",
     "output_type": "stream",
     "text": [
      "2019-05-10 21:15:18.580 | INFO     | __main__:<module>:10 - Scraping new players past ratings: https://www.hltv.org/stats/players/events/8767/ofnu\n"
     ]
    },
    {
     "name": "stderr",
     "output_type": "stream",
     "text": [
      "2019-05-10 21:15:21.720 | INFO     | __main__:<module>:10 - Scraping new players past ratings: https://www.hltv.org/stats/players/events/8707/ptr\n"
     ]
    },
    {
     "name": "stderr",
     "output_type": "stream",
     "text": [
      "2019-05-10 21:15:24.801 | INFO     | __main__:<module>:10 - Scraping new players past ratings: https://www.hltv.org/stats/players/events/3871/downie\n"
     ]
    },
    {
     "name": "stderr",
     "output_type": "stream",
     "text": [
      "2019-05-10 21:15:27.597 | INFO     | __main__:<module>:10 - Scraping new players past ratings: https://www.hltv.org/stats/players/events/11842/Ramz1k\n"
     ]
    },
    {
     "name": "stderr",
     "output_type": "stream",
     "text": [
      "2019-05-10 21:15:30.760 | INFO     | __main__:<module>:10 - Scraping new players past ratings: https://www.hltv.org/stats/players/events/11739/shz\n"
     ]
    },
    {
     "name": "stderr",
     "output_type": "stream",
     "text": [
      "2019-05-10 21:15:34.096 | INFO     | __main__:<module>:10 - Scraping new players past ratings: https://www.hltv.org/stats/players/events/8605/somebody\n"
     ]
    },
    {
     "name": "stderr",
     "output_type": "stream",
     "text": [
      "2019-05-10 21:15:37.834 | INFO     | __main__:<module>:10 - Scraping new players past ratings: https://www.hltv.org/stats/players/events/8789/mir\n"
     ]
    },
    {
     "name": "stderr",
     "output_type": "stream",
     "text": [
      "2019-05-10 21:15:40.795 | INFO     | __main__:<module>:10 - Scraping new players past ratings: https://www.hltv.org/stats/players/events/9676/NikkeZ\n"
     ]
    },
    {
     "name": "stderr",
     "output_type": "stream",
     "text": [
      "2019-05-10 21:15:44.398 | INFO     | __main__:<module>:10 - Scraping new players past ratings: https://www.hltv.org/stats/players/events/11343/SHiPZ\n"
     ]
    },
    {
     "name": "stderr",
     "output_type": "stream",
     "text": [
      "2019-05-10 21:15:47.581 | INFO     | __main__:<module>:10 - Scraping new players past ratings: https://www.hltv.org/stats/players/events/8917/niki1\n"
     ]
    },
    {
     "name": "stderr",
     "output_type": "stream",
     "text": [
      "2019-05-10 21:15:50.607 | INFO     | __main__:<module>:10 - Scraping new players past ratings: https://www.hltv.org/stats/players/events/10818/iDk\n"
     ]
    },
    {
     "name": "stderr",
     "output_type": "stream",
     "text": [
      "2019-05-10 21:15:53.453 | INFO     | __main__:<module>:10 - Scraping new players past ratings: https://www.hltv.org/stats/players/events/9317/AnJ\n"
     ]
    },
    {
     "name": "stderr",
     "output_type": "stream",
     "text": [
      "2019-05-10 21:15:56.730 | INFO     | __main__:<module>:10 - Scraping new players past ratings: https://www.hltv.org/stats/players/events/8124/DavCost\n"
     ]
    },
    {
     "name": "stderr",
     "output_type": "stream",
     "text": [
      "2019-05-10 21:16:00.557 | INFO     | __main__:<module>:10 - Scraping new players past ratings: https://www.hltv.org/stats/players/events/3849/JW\n"
     ]
    },
    {
     "name": "stderr",
     "output_type": "stream",
     "text": [
      "2019-05-10 21:16:03.694 | INFO     | __main__:<module>:10 - Scraping new players past ratings: https://www.hltv.org/stats/players/events/7993/Detrony\n"
     ]
    },
    {
     "name": "stderr",
     "output_type": "stream",
     "text": [
      "2019-05-10 21:16:07.059 | INFO     | __main__:<module>:10 - Scraping new players past ratings: https://www.hltv.org/stats/players/events/8349/shroud\n"
     ]
    },
    {
     "name": "stderr",
     "output_type": "stream",
     "text": [
      "2019-05-10 21:16:10.096 | INFO     | __main__:<module>:10 - Scraping new players past ratings: https://www.hltv.org/stats/players/events/284/JaCkz\n"
     ]
    },
    {
     "name": "stderr",
     "output_type": "stream",
     "text": [
      "2019-05-10 21:16:13.171 | INFO     | __main__:<module>:10 - Scraping new players past ratings: https://www.hltv.org/stats/players/events/8555/jayzaR\n"
     ]
    },
    {
     "name": "stderr",
     "output_type": "stream",
     "text": [
      "2019-05-10 21:16:16.538 | INFO     | __main__:<module>:10 - Scraping new players past ratings: https://www.hltv.org/stats/players/events/7154/Pimp\n"
     ]
    },
    {
     "name": "stderr",
     "output_type": "stream",
     "text": [
      "2019-05-10 21:16:19.822 | INFO     | __main__:<module>:10 - Scraping new players past ratings: https://www.hltv.org/stats/players/events/8523/tarik\n"
     ]
    },
    {
     "name": "stderr",
     "output_type": "stream",
     "text": [
      "2019-05-10 21:16:22.903 | INFO     | __main__:<module>:10 - Scraping new players past ratings: https://www.hltv.org/stats/players/events/10761/NK4Y\n"
     ]
    },
    {
     "name": "stderr",
     "output_type": "stream",
     "text": [
      "2019-05-10 21:16:25.814 | INFO     | __main__:<module>:10 - Scraping new players past ratings: https://www.hltv.org/stats/players/events/9289/qqGOD\n"
     ]
    },
    {
     "name": "stderr",
     "output_type": "stream",
     "text": [
      "2019-05-10 21:16:29.188 | INFO     | __main__:<module>:10 - Scraping new players past ratings: https://www.hltv.org/stats/players/events/7429/Happy\n"
     ]
    },
    {
     "name": "stderr",
     "output_type": "stream",
     "text": [
      "2019-05-10 21:16:32.424 | INFO     | __main__:<module>:10 - Scraping new players past ratings: https://www.hltv.org/stats/players/events/13666/Brollan\n"
     ]
    },
    {
     "name": "stderr",
     "output_type": "stream",
     "text": [
      "2019-05-10 21:16:35.329 | INFO     | __main__:<module>:10 - Scraping new players past ratings: https://www.hltv.org/stats/players/events/9219/felps\n"
     ]
    },
    {
     "name": "stderr",
     "output_type": "stream",
     "text": [
      "2019-05-10 21:16:38.743 | INFO     | __main__:<module>:10 - Scraping new players past ratings: https://www.hltv.org/stats/players/events/9083/COLDYY1\n"
     ]
    },
    {
     "name": "stderr",
     "output_type": "stream",
     "text": [
      "2019-05-10 21:16:41.818 | INFO     | __main__:<module>:10 - Scraping new players past ratings: https://www.hltv.org/stats/players/events/9656/hAdji\n"
     ]
    },
    {
     "name": "stderr",
     "output_type": "stream",
     "text": [
      "2019-05-10 21:16:44.950 | INFO     | __main__:<module>:10 - Scraping new players past ratings: https://www.hltv.org/stats/players/events/3997/loWel\n"
     ]
    },
    {
     "name": "stderr",
     "output_type": "stream",
     "text": [
      "2019-05-10 21:16:47.932 | INFO     | __main__:<module>:10 - Scraping new players past ratings: https://www.hltv.org/stats/players/events/10499/JonY%20BoY\n"
     ]
    },
    {
     "name": "stderr",
     "output_type": "stream",
     "text": [
      "2019-05-10 21:16:50.890 | INFO     | __main__:<module>:10 - Scraping new players past ratings: https://www.hltv.org/stats/players/events/557/fnx\n"
     ]
    },
    {
     "name": "stderr",
     "output_type": "stream",
     "text": [
      "2019-05-10 21:16:53.814 | INFO     | __main__:<module>:10 - Scraping new players past ratings: https://www.hltv.org/stats/players/events/14218/Plopski\n"
     ]
    },
    {
     "name": "stderr",
     "output_type": "stream",
     "text": [
      "2019-05-10 21:16:57.142 | INFO     | __main__:<module>:10 - Scraping new players past ratings: https://www.hltv.org/stats/players/events/7528/KRIMZ\n"
     ]
    },
    {
     "name": "stderr",
     "output_type": "stream",
     "text": [
      "2019-05-10 21:17:00.460 | INFO     | __main__:<module>:10 - Scraping new players past ratings: https://www.hltv.org/stats/players/events/8568/boltz\n"
     ]
    },
    {
     "name": "stderr",
     "output_type": "stream",
     "text": [
      "2019-05-10 21:17:03.263 | INFO     | __main__:<module>:10 - Scraping new players past ratings: https://www.hltv.org/stats/players/events/11737/RIKO\n"
     ]
    },
    {
     "name": "stderr",
     "output_type": "stream",
     "text": [
      "2019-05-10 21:17:06.343 | INFO     | __main__:<module>:10 - Scraping new players past ratings: https://www.hltv.org/stats/players/events/10892/MarKE\n"
     ]
    },
    {
     "name": "stderr",
     "output_type": "stream",
     "text": [
      "2019-05-10 21:17:09.880 | INFO     | __main__:<module>:10 - Scraping new players past ratings: https://www.hltv.org/stats/players/events/5794/tabseN\n"
     ]
    },
    {
     "name": "stderr",
     "output_type": "stream",
     "text": [
      "2019-05-10 21:17:12.990 | INFO     | __main__:<module>:10 - Scraping new players past ratings: https://www.hltv.org/stats/players/events/11139/aliStair\n"
     ]
    },
    {
     "name": "stderr",
     "output_type": "stream",
     "text": [
      "2019-05-10 21:17:15.775 | INFO     | __main__:<module>:10 - Scraping new players past ratings: https://www.hltv.org/stats/players/events/13230/motm\n"
     ]
    },
    {
     "name": "stderr",
     "output_type": "stream",
     "text": [
      "2019-05-10 21:17:18.644 | INFO     | __main__:<module>:10 - Scraping new players past ratings: https://www.hltv.org/stats/players/events/13229/Snakes\n"
     ]
    },
    {
     "name": "stderr",
     "output_type": "stream",
     "text": [
      "2019-05-10 21:17:21.812 | INFO     | __main__:<module>:10 - Scraping new players past ratings: https://www.hltv.org/stats/players/events/8183/rain\n"
     ]
    },
    {
     "name": "stderr",
     "output_type": "stream",
     "text": [
      "2019-05-10 21:17:25.011 | INFO     | __main__:<module>:10 - Scraping new players past ratings: https://www.hltv.org/stats/players/events/9279/Relaxa\n"
     ]
    },
    {
     "name": "stderr",
     "output_type": "stream",
     "text": [
      "2019-05-10 21:17:27.988 | INFO     | __main__:<module>:10 - Scraping new players past ratings: https://www.hltv.org/stats/players/events/11485/malta\n"
     ]
    },
    {
     "name": "stderr",
     "output_type": "stream",
     "text": [
      "2019-05-10 21:17:31.577 | INFO     | __main__:<module>:10 - Scraping new players past ratings: https://www.hltv.org/stats/players/events/7440/Skadoodle\n"
     ]
    },
    {
     "name": "stderr",
     "output_type": "stream",
     "text": [
      "2019-05-10 21:17:34.522 | INFO     | __main__:<module>:10 - Scraping new players past ratings: https://www.hltv.org/stats/players/events/10397/cromen\n"
     ]
    },
    {
     "name": "stderr",
     "output_type": "stream",
     "text": [
      "2019-05-10 21:17:37.713 | INFO     | __main__:<module>:10 - Scraping new players past ratings: https://www.hltv.org/stats/players/events/964/mou\n"
     ]
    },
    {
     "name": "stderr",
     "output_type": "stream",
     "text": [
      "2019-05-10 21:17:40.869 | INFO     | __main__:<module>:10 - Scraping new players past ratings: https://www.hltv.org/stats/players/events/8994/HS\n"
     ]
    },
    {
     "name": "stderr",
     "output_type": "stream",
     "text": [
      "2019-05-10 21:17:43.799 | INFO     | __main__:<module>:10 - Scraping new players past ratings: https://www.hltv.org/stats/players/events/9683/IyeN\n"
     ]
    },
    {
     "name": "stderr",
     "output_type": "stream",
     "text": [
      "2019-05-10 21:17:46.684 | INFO     | __main__:<module>:10 - Scraping new players past ratings: https://www.hltv.org/stats/players/events/8764/zewsy\n"
     ]
    },
    {
     "name": "stderr",
     "output_type": "stream",
     "text": [
      "2019-05-10 21:17:49.959 | INFO     | __main__:<module>:10 - Scraping new players past ratings: https://www.hltv.org/stats/players/events/8394/Kjaerbye\n"
     ]
    },
    {
     "name": "stderr",
     "output_type": "stream",
     "text": [
      "2019-05-10 21:17:53.018 | INFO     | __main__:<module>:10 - Scraping new players past ratings: https://www.hltv.org/stats/players/events/11355/QKA\n"
     ]
    },
    {
     "name": "stderr",
     "output_type": "stream",
     "text": [
      "2019-05-10 21:17:56.025 | INFO     | __main__:<module>:10 - Scraping new players past ratings: https://www.hltv.org/stats/players/events/8528/Hobbit\n"
     ]
    },
    {
     "name": "stderr",
     "output_type": "stream",
     "text": [
      "2019-05-10 21:17:59.089 | INFO     | __main__:<module>:10 - Scraping new players past ratings: https://www.hltv.org/stats/players/events/10557/land1n\n"
     ]
    },
    {
     "name": "stderr",
     "output_type": "stream",
     "text": [
      "2019-05-10 21:18:01.834 | INFO     | __main__:<module>:10 - Scraping new players past ratings: https://www.hltv.org/stats/players/events/11586/dapr\n"
     ]
    },
    {
     "name": "stderr",
     "output_type": "stream",
     "text": [
      "2019-05-10 21:18:04.663 | INFO     | __main__:<module>:10 - Scraping new players past ratings: https://www.hltv.org/stats/players/events/11748/raafa\n"
     ]
    },
    {
     "name": "stderr",
     "output_type": "stream",
     "text": [
      "2019-05-10 21:18:08.260 | INFO     | __main__:<module>:10 - Scraping new players past ratings: https://www.hltv.org/stats/players/events/7322/apEX\n"
     ]
    },
    {
     "name": "stderr",
     "output_type": "stream",
     "text": [
      "2019-05-10 21:18:11.517 | INFO     | __main__:<module>:10 - Scraping new players past ratings: https://www.hltv.org/stats/players/events/11942/buster\n"
     ]
    },
    {
     "name": "stderr",
     "output_type": "stream",
     "text": [
      "2019-05-10 21:18:14.352 | INFO     | __main__:<module>:10 - Scraping new players past ratings: https://www.hltv.org/stats/players/events/8953/Sys\n"
     ]
    },
    {
     "name": "stderr",
     "output_type": "stream",
     "text": [
      "2019-05-10 21:18:17.582 | INFO     | __main__:<module>:10 - Scraping new players past ratings: https://www.hltv.org/stats/players/events/7594/flamie\n"
     ]
    },
    {
     "name": "stderr",
     "output_type": "stream",
     "text": [
      "2019-05-10 21:18:21.383 | INFO     | __main__:<module>:10 - Scraping new players past ratings: https://www.hltv.org/stats/players/events/2799/bubble\n"
     ]
    },
    {
     "name": "stderr",
     "output_type": "stream",
     "text": [
      "2019-05-10 21:18:25.161 | INFO     | __main__:<module>:10 - Scraping new players past ratings: https://www.hltv.org/stats/players/events/5388/rallen\n"
     ]
    },
    {
     "name": "stderr",
     "output_type": "stream",
     "text": [
      "2019-05-10 21:18:28.094 | INFO     | __main__:<module>:10 - Scraping new players past ratings: https://www.hltv.org/stats/players/events/12094/1962\n"
     ]
    },
    {
     "name": "stderr",
     "output_type": "stream",
     "text": [
      "2019-05-10 21:18:31.622 | INFO     | __main__:<module>:10 - Scraping new players past ratings: https://www.hltv.org/stats/players/events/2553/Snax\n"
     ]
    },
    {
     "name": "stderr",
     "output_type": "stream",
     "text": [
      "2019-05-10 21:18:34.973 | INFO     | __main__:<module>:10 - Scraping new players past ratings: https://www.hltv.org/stats/players/events/9174/HSK\n"
     ]
    },
    {
     "name": "stderr",
     "output_type": "stream",
     "text": [
      "2019-05-10 21:18:38.006 | INFO     | __main__:<module>:10 - Scraping new players past ratings: https://www.hltv.org/stats/players/events/9258/SicK\n"
     ]
    },
    {
     "name": "stderr",
     "output_type": "stream",
     "text": [
      "2019-05-10 21:18:40.961 | INFO     | __main__:<module>:10 - Scraping new players past ratings: https://www.hltv.org/stats/players/events/11654/almazer\n"
     ]
    },
    {
     "name": "stderr",
     "output_type": "stream",
     "text": [
      "2019-05-10 21:18:44.183 | INFO     | __main__:<module>:10 - Scraping new players past ratings: https://www.hltv.org/stats/players/events/9256/disco%20doplan\n"
     ]
    },
    {
     "name": "stderr",
     "output_type": "stream",
     "text": [
      "2019-05-10 21:18:47.151 | INFO     | __main__:<module>:10 - Scraping new players past ratings: https://www.hltv.org/stats/players/events/11576/shuadapai\n"
     ]
    },
    {
     "name": "stderr",
     "output_type": "stream",
     "text": [
      "2019-05-10 21:18:50.001 | INFO     | __main__:<module>:10 - Scraping new players past ratings: https://www.hltv.org/stats/players/events/8745/Rickeh\n"
     ]
    },
    {
     "name": "stderr",
     "output_type": "stream",
     "text": [
      "2019-05-10 21:18:52.922 | INFO     | __main__:<module>:10 - Scraping new players past ratings: https://www.hltv.org/stats/players/events/9271/sLowi\n"
     ]
    },
    {
     "name": "stderr",
     "output_type": "stream",
     "text": [
      "2019-05-10 21:18:56.084 | INFO     | __main__:<module>:10 - Scraping new players past ratings: https://www.hltv.org/stats/players/events/8797/Stewie2K\n"
     ]
    },
    {
     "name": "stderr",
     "output_type": "stream",
     "text": [
      "2019-05-10 21:18:59.118 | INFO     | __main__:<module>:10 - Scraping new players past ratings: https://www.hltv.org/stats/players/events/8784/SandeN\n"
     ]
    },
    {
     "name": "stderr",
     "output_type": "stream",
     "text": [
      "2019-05-10 21:19:02.188 | INFO     | __main__:<module>:10 - Scraping new players past ratings: https://www.hltv.org/stats/players/events/9278/REZ\n"
     ]
    },
    {
     "name": "stderr",
     "output_type": "stream",
     "text": [
      "2019-05-10 21:19:05.141 | INFO     | __main__:<module>:10 - Scraping new players past ratings: https://www.hltv.org/stats/players/events/10330/acoR\n"
     ]
    },
    {
     "name": "stderr",
     "output_type": "stream",
     "text": [
      "2019-05-10 21:19:07.967 | INFO     | __main__:<module>:10 - Scraping new players past ratings: https://www.hltv.org/stats/players/events/13780/dimasick\n"
     ]
    },
    {
     "name": "stderr",
     "output_type": "stream",
     "text": [
      "2019-05-10 21:19:11.051 | INFO     | __main__:<module>:10 - Scraping new players past ratings: https://www.hltv.org/stats/players/events/10589/rommi\n"
     ]
    },
    {
     "name": "stderr",
     "output_type": "stream",
     "text": [
      "2019-05-10 21:19:14.402 | INFO     | __main__:<module>:10 - Scraping new players past ratings: https://www.hltv.org/stats/players/events/8576/ZOREE\n"
     ]
    },
    {
     "name": "stderr",
     "output_type": "stream",
     "text": [
      "2019-05-10 21:19:17.583 | INFO     | __main__:<module>:10 - Scraping new players past ratings: https://www.hltv.org/stats/players/events/10610/refrezh\n"
     ]
    },
    {
     "name": "stderr",
     "output_type": "stream",
     "text": [
      "2019-05-10 21:19:20.544 | INFO     | __main__:<module>:10 - Scraping new players past ratings: https://www.hltv.org/stats/players/events/13188/Zellsis\n"
     ]
    },
    {
     "name": "stderr",
     "output_type": "stream",
     "text": [
      "2019-05-10 21:19:23.482 | INFO     | __main__:<module>:10 - Scraping new players past ratings: https://www.hltv.org/stats/players/events/10436/sXe\n"
     ]
    },
    {
     "name": "stderr",
     "output_type": "stream",
     "text": [
      "2019-05-10 21:19:26.374 | INFO     | __main__:<module>:10 - Scraping new players past ratings: https://www.hltv.org/stats/players/events/10566/chelo\n"
     ]
    },
    {
     "name": "stderr",
     "output_type": "stream",
     "text": [
      "2019-05-10 21:19:29.122 | INFO     | __main__:<module>:10 - Scraping new players past ratings: https://www.hltv.org/stats/players/events/9169/moxie\n"
     ]
    },
    {
     "name": "stderr",
     "output_type": "stream",
     "text": [
      "2019-05-10 21:19:31.957 | INFO     | __main__:<module>:10 - Scraping new players past ratings: https://www.hltv.org/stats/players/events/10698/kolor\n"
     ]
    },
    {
     "name": "stderr",
     "output_type": "stream",
     "text": [
      "2019-05-10 21:19:34.953 | INFO     | __main__:<module>:10 - Scraping new players past ratings: https://www.hltv.org/stats/players/events/8604/aumaN\n"
     ]
    },
    {
     "name": "stderr",
     "output_type": "stream",
     "text": [
      "2019-05-10 21:19:38.372 | INFO     | __main__:<module>:10 - Scraping new players past ratings: https://www.hltv.org/stats/players/events/7964/cadiaN\n"
     ]
    },
    {
     "name": "stderr",
     "output_type": "stream",
     "text": [
      "2019-05-10 21:19:41.604 | INFO     | __main__:<module>:10 - Scraping new players past ratings: https://www.hltv.org/stats/players/events/8371/ALEX\n"
     ]
    },
    {
     "name": "stderr",
     "output_type": "stream",
     "text": [
      "2019-05-10 21:19:44.621 | INFO     | __main__:<module>:10 - Scraping new players past ratings: https://www.hltv.org/stats/players/events/11840/Boombl4\n"
     ]
    },
    {
     "name": "stderr",
     "output_type": "stream",
     "text": [
      "2019-05-10 21:19:48.295 | INFO     | __main__:<module>:10 - Scraping new players past ratings: https://www.hltv.org/stats/players/events/4216/LETN1\n"
     ]
    },
    {
     "name": "stderr",
     "output_type": "stream",
     "text": [
      "2019-05-10 21:19:51.605 | INFO     | __main__:<module>:10 - Scraping new players past ratings: https://www.hltv.org/stats/players/events/5187/captainMo\n"
     ]
    },
    {
     "name": "stderr",
     "output_type": "stream",
     "text": [
      "2019-05-10 21:19:54.618 | INFO     | __main__:<module>:10 - Scraping new players past ratings: https://www.hltv.org/stats/players/events/9521/dobu\n"
     ]
    },
    {
     "name": "stderr",
     "output_type": "stream",
     "text": [
      "2019-05-10 21:19:58.044 | INFO     | __main__:<module>:10 - Scraping new players past ratings: https://www.hltv.org/stats/players/events/2730/chrisJ\n"
     ]
    },
    {
     "name": "stderr",
     "output_type": "stream",
     "text": [
      "2019-05-10 21:20:01.440 | INFO     | __main__:<module>:10 - Scraping new players past ratings: https://www.hltv.org/stats/players/events/2644/Hiko\n"
     ]
    },
    {
     "name": "stderr",
     "output_type": "stream",
     "text": [
      "2019-05-10 21:20:04.906 | INFO     | __main__:<module>:10 - Scraping new players past ratings: https://www.hltv.org/stats/players/events/7168/NBK-\n"
     ]
    },
    {
     "name": "stderr",
     "output_type": "stream",
     "text": [
      "2019-05-10 21:20:08.263 | INFO     | __main__:<module>:10 - Scraping new players past ratings: https://www.hltv.org/stats/players/events/10264/niko\n"
     ]
    },
    {
     "name": "stderr",
     "output_type": "stream",
     "text": [
      "2019-05-10 21:20:11.248 | INFO     | __main__:<module>:10 - Scraping new players past ratings: https://www.hltv.org/stats/players/events/12822/VINI\n"
     ]
    },
    {
     "name": "stderr",
     "output_type": "stream",
     "text": [
      "2019-05-10 21:20:14.653 | INFO     | __main__:<module>:10 - Scraping new players past ratings: https://www.hltv.org/stats/players/events/7834/v1c7oR\n"
     ]
    },
    {
     "name": "stderr",
     "output_type": "stream",
     "text": [
      "2019-05-10 21:20:17.711 | INFO     | __main__:<module>:10 - Scraping new players past ratings: https://www.hltv.org/stats/players/events/10994/stavn\n"
     ]
    },
    {
     "name": "stderr",
     "output_type": "stream",
     "text": [
      "2019-05-10 21:20:20.955 | INFO     | __main__:<module>:10 - Scraping new players past ratings: https://www.hltv.org/stats/players/events/9896/b0RUP\n"
     ]
    },
    {
     "name": "stderr",
     "output_type": "stream",
     "text": [
      "2019-05-10 21:20:24.092 | INFO     | __main__:<module>:10 - Scraping new players past ratings: https://www.hltv.org/stats/players/events/9410/kalinka\n"
     ]
    },
    {
     "name": "stderr",
     "output_type": "stream",
     "text": [
      "2019-05-10 21:20:27.102 | INFO     | __main__:<module>:10 - Scraping new players past ratings: https://www.hltv.org/stats/players/events/839/tb\n"
     ]
    },
    {
     "name": "stderr",
     "output_type": "stream",
     "text": [
      "2019-05-10 21:20:30.670 | INFO     | __main__:<module>:10 - Scraping new players past ratings: https://www.hltv.org/stats/players/events/4954/Xyp9x\n"
     ]
    },
    {
     "name": "stderr",
     "output_type": "stream",
     "text": [
      "2019-05-10 21:20:33.658 | INFO     | __main__:<module>:10 - Scraping new players past ratings: https://www.hltv.org/stats/players/events/12269/Jyo\n"
     ]
    },
    {
     "name": "stderr",
     "output_type": "stream",
     "text": [
      "2019-05-10 21:20:36.777 | INFO     | __main__:<module>:10 - Scraping new players past ratings: https://www.hltv.org/stats/players/events/8957/LOVEYY\n"
     ]
    },
    {
     "name": "stderr",
     "output_type": "stream",
     "text": [
      "2019-05-10 21:20:39.960 | INFO     | __main__:<module>:10 - Scraping new players past ratings: https://www.hltv.org/stats/players/events/9483/destiny\n"
     ]
    },
    {
     "name": "stderr",
     "output_type": "stream",
     "text": [
      "2019-05-10 21:20:43.173 | INFO     | __main__:<module>:10 - Scraping new players past ratings: https://www.hltv.org/stats/players/events/9574/snatchie\n"
     ]
    },
    {
     "name": "stderr",
     "output_type": "stream",
     "text": [
      "2019-05-10 21:20:46.821 | INFO     | __main__:<module>:10 - Scraping new players past ratings: https://www.hltv.org/stats/players/events/8323/mouz\n"
     ]
    },
    {
     "name": "stderr",
     "output_type": "stream",
     "text": [
      "2019-05-10 21:20:49.911 | INFO     | __main__:<module>:10 - Scraping new players past ratings: https://www.hltv.org/stats/players/events/2555/yam\n"
     ]
    },
    {
     "name": "stderr",
     "output_type": "stream",
     "text": [
      "2019-05-10 21:20:52.909 | INFO     | __main__:<module>:10 - Scraping new players past ratings: https://www.hltv.org/stats/players/events/8138/Davidp\n"
     ]
    },
    {
     "name": "stderr",
     "output_type": "stream",
     "text": [
      "2019-05-10 21:20:56.066 | INFO     | __main__:<module>:10 - Scraping new players past ratings: https://www.hltv.org/stats/players/events/8248/jkaem\n"
     ]
    },
    {
     "name": "stderr",
     "output_type": "stream",
     "text": [
      "2019-05-10 21:20:59.445 | INFO     | __main__:<module>:10 - Scraping new players past ratings: https://www.hltv.org/stats/players/events/8611/es3tag\n"
     ]
    },
    {
     "name": "stderr",
     "output_type": "stream",
     "text": [
      "2019-05-10 21:21:02.877 | INFO     | __main__:<module>:10 - Scraping new players past ratings: https://www.hltv.org/stats/players/events/12782/kressy\n"
     ]
    },
    {
     "name": "stderr",
     "output_type": "stream",
     "text": [
      "2019-05-10 21:21:05.818 | INFO     | __main__:<module>:10 - Scraping new players past ratings: https://www.hltv.org/stats/players/events/10870/kabal\n"
     ]
    },
    {
     "name": "stderr",
     "output_type": "stream",
     "text": [
      "2019-05-10 21:21:09.054 | INFO     | __main__:<module>:10 - Scraping new players past ratings: https://www.hltv.org/stats/players/events/629/fox\n"
     ]
    },
    {
     "name": "stderr",
     "output_type": "stream",
     "text": [
      "2019-05-10 21:21:12.331 | INFO     | __main__:<module>:10 - Scraping new players past ratings: https://www.hltv.org/stats/players/events/7775/juho\n"
     ]
    },
    {
     "name": "stderr",
     "output_type": "stream",
     "text": [
      "2019-05-10 21:21:15.471 | INFO     | __main__:<module>:10 - Scraping new players past ratings: https://www.hltv.org/stats/players/events/8413/Zero\n"
     ]
    },
    {
     "name": "stderr",
     "output_type": "stream",
     "text": [
      "2019-05-10 21:21:18.689 | INFO     | __main__:<module>:10 - Scraping new players past ratings: https://www.hltv.org/stats/players/events/1146/dennis\n"
     ]
    },
    {
     "name": "stderr",
     "output_type": "stream",
     "text": [
      "2019-05-10 21:21:21.787 | INFO     | __main__:<module>:10 - Scraping new players past ratings: https://www.hltv.org/stats/players/events/8786/jR\n"
     ]
    },
    {
     "name": "stderr",
     "output_type": "stream",
     "text": [
      "2019-05-10 21:21:25.587 | INFO     | __main__:<module>:10 - Scraping new players past ratings: https://www.hltv.org/stats/players/events/8242/reatz\n"
     ]
    },
    {
     "name": "stderr",
     "output_type": "stream",
     "text": [
      "2019-05-10 21:21:28.988 | INFO     | __main__:<module>:10 - Scraping new players past ratings: https://www.hltv.org/stats/players/events/8095/aizy\n"
     ]
    },
    {
     "name": "stderr",
     "output_type": "stream",
     "text": [
      "2019-05-10 21:21:32.151 | INFO     | __main__:<module>:10 - Scraping new players past ratings: https://www.hltv.org/stats/players/events/9043/ANDROID\n"
     ]
    },
    {
     "name": "stderr",
     "output_type": "stream",
     "text": [
      "2019-05-10 21:21:35.741 | INFO     | __main__:<module>:10 - Scraping new players past ratings: https://www.hltv.org/stats/players/events/2131/bondik\n"
     ]
    },
    {
     "name": "stderr",
     "output_type": "stream",
     "text": [
      "2019-05-10 21:21:39.410 | INFO     | __main__:<module>:10 - Scraping new players past ratings: https://www.hltv.org/stats/players/events/3847/znajder\n"
     ]
    },
    {
     "name": "stderr",
     "output_type": "stream",
     "text": [
      "2019-05-10 21:21:42.493 | INFO     | __main__:<module>:10 - Scraping new players past ratings: https://www.hltv.org/stats/players/events/8513/yay\n"
     ]
    },
    {
     "name": "stderr",
     "output_type": "stream",
     "text": [
      "2019-05-10 21:21:45.389 | INFO     | __main__:<module>:10 - Scraping new players past ratings: https://www.hltv.org/stats/players/events/13138/Maka\n"
     ]
    },
    {
     "name": "stderr",
     "output_type": "stream",
     "text": [
      "2019-05-10 21:21:49.334 | INFO     | __main__:<module>:10 - Scraping new players past ratings: https://www.hltv.org/stats/players/events/973/SZPERO\n"
     ]
    },
    {
     "name": "stderr",
     "output_type": "stream",
     "text": [
      "2019-05-10 21:21:52.566 | INFO     | __main__:<module>:10 - Scraping new players past ratings: https://www.hltv.org/stats/players/events/7935/roca\n"
     ]
    },
    {
     "name": "stderr",
     "output_type": "stream",
     "text": [
      "2019-05-10 21:21:55.370 | INFO     | __main__:<module>:10 - Scraping new players past ratings: https://www.hltv.org/stats/players/events/7253/steel\n"
     ]
    },
    {
     "name": "stderr",
     "output_type": "stream",
     "text": [
      "2019-05-10 21:21:58.128 | INFO     | __main__:<module>:10 - Scraping new players past ratings: https://www.hltv.org/stats/players/events/9875/food\n"
     ]
    },
    {
     "name": "stderr",
     "output_type": "stream",
     "text": [
      "2019-05-10 21:22:01.324 | INFO     | __main__:<module>:10 - Scraping new players past ratings: https://www.hltv.org/stats/players/events/9358/DEV7L\n"
     ]
    },
    {
     "name": "stderr",
     "output_type": "stream",
     "text": [
      "2019-05-10 21:22:04.431 | INFO     | __main__:<module>:10 - Scraping new players past ratings: https://www.hltv.org/stats/players/events/2299/NENO\n"
     ]
    },
    {
     "name": "stderr",
     "output_type": "stream",
     "text": [
      "2019-05-10 21:22:07.294 | INFO     | __main__:<module>:10 - Scraping new players past ratings: https://www.hltv.org/stats/players/events/8543/NEEX\n"
     ]
    },
    {
     "name": "stderr",
     "output_type": "stream",
     "text": [
      "2019-05-10 21:22:10.149 | INFO     | __main__:<module>:10 - Scraping new players past ratings: https://www.hltv.org/stats/players/events/9245/Tsogoo\n"
     ]
    },
    {
     "name": "stderr",
     "output_type": "stream",
     "text": [
      "2019-05-10 21:22:13.540 | INFO     | __main__:<module>:10 - Scraping new players past ratings: https://www.hltv.org/stats/players/events/12088/ryann\n"
     ]
    },
    {
     "name": "stderr",
     "output_type": "stream",
     "text": [
      "2019-05-10 21:22:16.429 | INFO     | __main__:<module>:10 - Scraping new players past ratings: https://www.hltv.org/stats/players/events/9221/reversive\n"
     ]
    },
    {
     "name": "stderr",
     "output_type": "stream",
     "text": [
      "2019-05-10 21:22:19.478 | INFO     | __main__:<module>:10 - Scraping new players past ratings: https://www.hltv.org/stats/players/events/3410/ROBO\n"
     ]
    },
    {
     "name": "stderr",
     "output_type": "stream",
     "text": [
      "2019-05-10 21:22:23.002 | INFO     | __main__:<module>:10 - Scraping new players past ratings: https://www.hltv.org/stats/players/events/9766/hampus\n"
     ]
    },
    {
     "name": "stderr",
     "output_type": "stream",
     "text": [
      "2019-05-10 21:22:26.072 | INFO     | __main__:<module>:10 - Scraping new players past ratings: https://www.hltv.org/stats/players/events/9349/AiyvaN\n"
     ]
    },
    {
     "name": "stderr",
     "output_type": "stream",
     "text": [
      "2019-05-10 21:22:29.044 | INFO     | __main__:<module>:10 - Scraping new players past ratings: https://www.hltv.org/stats/players/events/10443/Basso\n"
     ]
    },
    {
     "name": "stderr",
     "output_type": "stream",
     "text": [
      "2019-05-10 21:22:32.513 | INFO     | __main__:<module>:10 - Scraping new players past ratings: https://www.hltv.org/stats/players/events/317/pashaBiceps\n"
     ]
    },
    {
     "name": "stderr",
     "output_type": "stream",
     "text": [
      "2019-05-10 21:22:35.702 | INFO     | __main__:<module>:10 - Scraping new players past ratings: https://www.hltv.org/stats/players/events/9008/FANAT%20ROCKA\n"
     ]
    },
    {
     "name": "stderr",
     "output_type": "stream",
     "text": [
      "2019-05-10 21:22:39.174 | INFO     | __main__:<module>:10 - Scraping new players past ratings: https://www.hltv.org/stats/players/events/8800/stfN\n"
     ]
    },
    {
     "name": "stderr",
     "output_type": "stream",
     "text": [
      "2019-05-10 21:22:42.272 | INFO     | __main__:<module>:10 - Scraping new players past ratings: https://www.hltv.org/stats/players/events/8952/FrostMisty\n"
     ]
    },
    {
     "name": "stderr",
     "output_type": "stream",
     "text": [
      "2019-05-10 21:22:45.244 | INFO     | __main__:<module>:10 - Scraping new players past ratings: https://www.hltv.org/stats/players/events/9261/Lekr0\n"
     ]
    },
    {
     "name": "stderr",
     "output_type": "stream",
     "text": [
      "2019-05-10 21:22:48.629 | INFO     | __main__:<module>:10 - Scraping new players past ratings: https://www.hltv.org/stats/players/events/8255/CyberFocus\n"
     ]
    },
    {
     "name": "stderr",
     "output_type": "stream",
     "text": [
      "2019-05-10 21:22:51.700 | INFO     | __main__:<module>:10 - Scraping new players past ratings: https://www.hltv.org/stats/players/events/10560/yeL\n"
     ]
    },
    {
     "name": "stderr",
     "output_type": "stream",
     "text": [
      "2019-05-10 21:22:55.027 | INFO     | __main__:<module>:10 - Scraping new players past ratings: https://www.hltv.org/stats/players/events/7749/queztone\n"
     ]
    },
    {
     "name": "stderr",
     "output_type": "stream",
     "text": [
      "2019-05-10 21:22:58.026 | INFO     | __main__:<module>:10 - Scraping new players past ratings: https://www.hltv.org/stats/players/events/10840/tatazin\n"
     ]
    },
    {
     "name": "stderr",
     "output_type": "stream",
     "text": [
      "2019-05-10 21:23:01.015 | INFO     | __main__:<module>:10 - Scraping new players past ratings: https://www.hltv.org/stats/players/events/13157/Jerry\n"
     ]
    },
    {
     "name": "stderr",
     "output_type": "stream",
     "text": [
      "2019-05-10 21:23:03.831 | INFO     | __main__:<module>:10 - Scraping new players past ratings: https://www.hltv.org/stats/players/events/8453/SEMINTE\n"
     ]
    },
    {
     "name": "stderr",
     "output_type": "stream",
     "text": [
      "2019-05-10 21:23:06.695 | INFO     | __main__:<module>:10 - Scraping new players past ratings: https://www.hltv.org/stats/players/events/11701/mirbit\n"
     ]
    },
    {
     "name": "stderr",
     "output_type": "stream",
     "text": [
      "2019-05-10 21:23:09.756 | INFO     | __main__:<module>:10 - Scraping new players past ratings: https://www.hltv.org/stats/players/events/9811/PlesseN\n"
     ]
    },
    {
     "name": "stderr",
     "output_type": "stream",
     "text": [
      "2019-05-10 21:23:13.271 | INFO     | __main__:<module>:10 - Scraping new players past ratings: https://www.hltv.org/stats/players/events/334/AdreN\n"
     ]
    },
    {
     "name": "stderr",
     "output_type": "stream",
     "text": [
      "2019-05-10 21:23:16.451 | INFO     | __main__:<module>:10 - Scraping new players past ratings: https://www.hltv.org/stats/players/events/11064/dazzLe\n"
     ]
    },
    {
     "name": "stderr",
     "output_type": "stream",
     "text": [
      "2019-05-10 21:23:20.084 | INFO     | __main__:<module>:10 - Scraping new players past ratings: https://www.hltv.org/stats/players/events/1045/Maikelele\n"
     ]
    },
    {
     "name": "stderr",
     "output_type": "stream",
     "text": [
      "2019-05-10 21:23:23.235 | INFO     | __main__:<module>:10 - Scraping new players past ratings: https://www.hltv.org/stats/players/events/11515/kenzor\n"
     ]
    },
    {
     "name": "stderr",
     "output_type": "stream",
     "text": [
      "2019-05-10 21:23:26.147 | INFO     | __main__:<module>:10 - Scraping new players past ratings: https://www.hltv.org/stats/players/events/11231/Subroza\n"
     ]
    },
    {
     "name": "stderr",
     "output_type": "stream",
     "text": [
      "2019-05-10 21:23:29.220 | INFO     | __main__:<module>:10 - Scraping new players past ratings: https://www.hltv.org/stats/players/events/9961/MonttY\n"
     ]
    },
    {
     "name": "stderr",
     "output_type": "stream",
     "text": [
      "2019-05-10 21:23:32.332 | INFO     | __main__:<module>:10 - Scraping new players past ratings: https://www.hltv.org/stats/players/events/10992/dragonfly\n"
     ]
    },
    {
     "name": "stderr",
     "output_type": "stream",
     "text": [
      "2019-05-10 21:23:35.089 | INFO     | __main__:<module>:10 - Scraping new players past ratings: https://www.hltv.org/stats/players/events/9916/mono\n"
     ]
    },
    {
     "name": "stderr",
     "output_type": "stream",
     "text": [
      "2019-05-10 21:23:38.072 | INFO     | __main__:<module>:10 - Scraping new players past ratings: https://www.hltv.org/stats/players/events/8346/jdm64\n"
     ]
    },
    {
     "name": "stderr",
     "output_type": "stream",
     "text": [
      "2019-05-10 21:23:41.581 | INFO     | __main__:<module>:10 - Scraping new players past ratings: https://www.hltv.org/stats/players/events/2826/MINISE\n"
     ]
    },
    {
     "name": "stderr",
     "output_type": "stream",
     "text": [
      "2019-05-10 21:23:44.732 | INFO     | __main__:<module>:10 - Scraping new players past ratings: https://www.hltv.org/stats/players/events/10186/ayaya\n"
     ]
    },
    {
     "name": "stderr",
     "output_type": "stream",
     "text": [
      "2019-05-10 21:23:48.003 | INFO     | __main__:<module>:10 - Scraping new players past ratings: https://www.hltv.org/stats/players/events/7687/nitr0\n"
     ]
    },
    {
     "name": "stderr",
     "output_type": "stream",
     "text": [
      "2019-05-10 21:23:51.247 | INFO     | __main__:<module>:10 - Scraping new players past ratings: https://www.hltv.org/stats/players/events/7805/RUSH\n"
     ]
    },
    {
     "name": "stderr",
     "output_type": "stream",
     "text": [
      "2019-05-10 21:23:54.258 | INFO     | __main__:<module>:10 - Scraping new players past ratings: https://www.hltv.org/stats/players/events/7413/Nico\n"
     ]
    },
    {
     "name": "stderr",
     "output_type": "stream",
     "text": [
      "2019-05-10 21:23:57.163 | INFO     | __main__:<module>:10 - Scraping new players past ratings: https://www.hltv.org/stats/players/events/11630/JT\n"
     ]
    },
    {
     "name": "stderr",
     "output_type": "stream",
     "text": [
      "2019-05-10 21:24:00.056 | INFO     | __main__:<module>:10 - Scraping new players past ratings: https://www.hltv.org/stats/players/events/2007/ap0c\n"
     ]
    },
    {
     "name": "stderr",
     "output_type": "stream",
     "text": [
      "2019-05-10 21:24:02.872 | INFO     | __main__:<module>:10 - Scraping new players past ratings: https://www.hltv.org/stats/players/events/9287/bnwGiggs\n"
     ]
    },
    {
     "name": "stderr",
     "output_type": "stream",
     "text": [
      "2019-05-10 21:24:05.825 | INFO     | __main__:<module>:10 - Scraping new players past ratings: https://www.hltv.org/stats/players/events/8345/spaze\n"
     ]
    },
    {
     "name": "stderr",
     "output_type": "stream",
     "text": [
      "2019-05-10 21:24:09.387 | INFO     | __main__:<module>:10 - Scraping new players past ratings: https://www.hltv.org/stats/players/events/5386/byali\n"
     ]
    },
    {
     "name": "stderr",
     "output_type": "stream",
     "text": [
      "2019-05-10 21:24:13.039 | INFO     | __main__:<module>:10 - Scraping new players past ratings: https://www.hltv.org/stats/players/events/8570/GruBy\n"
     ]
    },
    {
     "name": "stderr",
     "output_type": "stream",
     "text": [
      "2019-05-10 21:24:15.952 | INFO     | __main__:<module>:10 - Scraping new players past ratings: https://www.hltv.org/stats/players/events/10502/Straka\n"
     ]
    },
    {
     "name": "stderr",
     "output_type": "stream",
     "text": [
      "2019-05-10 21:24:18.768 | INFO     | __main__:<module>:10 - Scraping new players past ratings: https://www.hltv.org/stats/players/events/11844/flickz\n"
     ]
    },
    {
     "name": "stderr",
     "output_type": "stream",
     "text": [
      "2019-05-10 21:24:21.753 | INFO     | __main__:<module>:10 - Scraping new players past ratings: https://www.hltv.org/stats/players/events/8951/roseau\n"
     ]
    },
    {
     "name": "stderr",
     "output_type": "stream",
     "text": [
      "2019-05-10 21:24:24.585 | INFO     | __main__:<module>:10 - Scraping new players past ratings: https://www.hltv.org/stats/players/events/11230/aproto\n"
     ]
    },
    {
     "name": "stderr",
     "output_type": "stream",
     "text": [
      "2019-05-10 21:24:27.535 | INFO     | __main__:<module>:10 - Scraping new players past ratings: https://www.hltv.org/stats/players/events/2161/Noktse\n"
     ]
    },
    {
     "name": "stderr",
     "output_type": "stream",
     "text": [
      "2019-05-10 21:24:30.325 | INFO     | __main__:<module>:10 - Scraping new players past ratings: https://www.hltv.org/stats/players/events/13186/hydrex\n"
     ]
    },
    {
     "name": "stderr",
     "output_type": "stream",
     "text": [
      "2019-05-10 21:24:33.606 | INFO     | __main__:<module>:10 - Scraping new players past ratings: https://www.hltv.org/stats/players/events/4959/kioShiMa\n"
     ]
    },
    {
     "name": "stderr",
     "output_type": "stream",
     "text": [
      "2019-05-10 21:24:36.707 | INFO     | __main__:<module>:10 - Scraping new players past ratings: https://www.hltv.org/stats/players/events/13273/Ace\n"
     ]
    },
    {
     "name": "stderr",
     "output_type": "stream",
     "text": [
      "2019-05-10 21:24:39.596 | INFO     | __main__:<module>:10 - Scraping new players past ratings: https://www.hltv.org/stats/players/events/2496/bld\n"
     ]
    },
    {
     "name": "stderr",
     "output_type": "stream",
     "text": [
      "2019-05-10 21:24:42.388 | INFO     | __main__:<module>:10 - Scraping new players past ratings: https://www.hltv.org/stats/players/events/13249/oSee\n"
     ]
    },
    {
     "name": "stderr",
     "output_type": "stream",
     "text": [
      "2019-05-10 21:24:45.293 | INFO     | __main__:<module>:10 - Scraping new players past ratings: https://www.hltv.org/stats/players/events/9612/Bubzkji\n"
     ]
    },
    {
     "name": "stderr",
     "output_type": "stream",
     "text": [
      "2019-05-10 21:24:48.247 | INFO     | __main__:<module>:10 - Scraping new players past ratings: https://www.hltv.org/stats/players/events/9816/Aleksib\n"
     ]
    },
    {
     "name": "stderr",
     "output_type": "stream",
     "text": [
      "2019-05-10 21:24:51.273 | INFO     | __main__:<module>:10 - Scraping new players past ratings: https://www.hltv.org/stats/players/events/13578/Grim\n"
     ]
    },
    {
     "name": "stderr",
     "output_type": "stream",
     "text": [
      "2019-05-10 21:24:54.331 | INFO     | __main__:<module>:10 - Scraping new players past ratings: https://www.hltv.org/stats/players/events/203/n0thing\n"
     ]
    },
    {
     "name": "stderr",
     "output_type": "stream",
     "text": [
      "2019-05-10 21:24:57.647 | INFO     | __main__:<module>:10 - Scraping new players past ratings: https://www.hltv.org/stats/players/events/3183/spyleadeR\n"
     ]
    },
    {
     "name": "stderr",
     "output_type": "stream",
     "text": [
      "2019-05-10 21:25:00.708 | INFO     | __main__:<module>:10 - Scraping new players past ratings: https://www.hltv.org/stats/players/events/2398/SKYTTEN\n"
     ]
    },
    {
     "name": "stderr",
     "output_type": "stream",
     "text": [
      "2019-05-10 21:25:04.674 | INFO     | __main__:<module>:10 - Scraping new players past ratings: https://www.hltv.org/stats/players/events/5287/TENZKI\n"
     ]
    },
    {
     "name": "stderr",
     "output_type": "stream",
     "text": [
      "2019-05-10 21:25:07.591 | INFO     | __main__:<module>:10 - Scraping new players past ratings: https://www.hltv.org/stats/players/events/9254/mopoz\n"
     ]
    },
    {
     "name": "stderr",
     "output_type": "stream",
     "text": [
      "2019-05-10 21:25:10.750 | INFO     | __main__:<module>:10 - Scraping new players past ratings: https://www.hltv.org/stats/players/events/10570/dzt\n"
     ]
    },
    {
     "name": "stderr",
     "output_type": "stream",
     "text": [
      "2019-05-10 21:25:13.734 | INFO     | __main__:<module>:10 - Scraping new players past ratings: https://www.hltv.org/stats/players/events/11926/mds\n"
     ]
    },
    {
     "name": "stderr",
     "output_type": "stream",
     "text": [
      "2019-05-10 21:25:16.646 | INFO     | __main__:<module>:10 - Scraping new players past ratings: https://www.hltv.org/stats/players/events/8350/desi\n"
     ]
    },
    {
     "name": "stderr",
     "output_type": "stream",
     "text": [
      "2019-05-10 21:25:20.414 | INFO     | __main__:<module>:10 - Scraping new players past ratings: https://www.hltv.org/stats/players/events/8770/MoeycQ\n"
     ]
    },
    {
     "name": "stderr",
     "output_type": "stream",
     "text": [
      "2019-05-10 21:25:23.184 | INFO     | __main__:<module>:10 - Scraping new players past ratings: https://www.hltv.org/stats/players/events/5391/darti\n"
     ]
    },
    {
     "name": "stderr",
     "output_type": "stream",
     "text": [
      "2019-05-10 21:25:25.902 | INFO     | __main__:<module>:10 - Scraping new players past ratings: https://www.hltv.org/stats/players/events/12593/J1rah\n"
     ]
    },
    {
     "name": "stderr",
     "output_type": "stream",
     "text": [
      "2019-05-10 21:25:29.311 | INFO     | __main__:<module>:10 - Scraping new players past ratings: https://www.hltv.org/stats/players/events/8327/Furlan\n"
     ]
    },
    {
     "name": "stderr",
     "output_type": "stream",
     "text": [
      "2019-05-10 21:25:32.529 | INFO     | __main__:<module>:10 - Scraping new players past ratings: https://www.hltv.org/stats/players/events/11238/Oderus\n"
     ]
    },
    {
     "name": "stderr",
     "output_type": "stream",
     "text": [
      "2019-05-10 21:25:35.592 | INFO     | __main__:<module>:10 - Scraping new players past ratings: https://www.hltv.org/stats/players/events/12781/k1to\n"
     ]
    },
    {
     "name": "stderr",
     "output_type": "stream",
     "text": [
      "2019-05-10 21:25:38.759 | INFO     | __main__:<module>:10 - Scraping new players past ratings: https://www.hltv.org/stats/players/events/10470/mitch\n"
     ]
    },
    {
     "name": "stderr",
     "output_type": "stream",
     "text": [
      "2019-05-10 21:25:41.673 | INFO     | __main__:<module>:10 - Scraping new players past ratings: https://www.hltv.org/stats/players/events/11258/fr0slev\n"
     ]
    },
    {
     "name": "stderr",
     "output_type": "stream",
     "text": [
      "2019-05-10 21:25:45.787 | INFO     | __main__:<module>:10 - Scraping new players past ratings: https://www.hltv.org/stats/players/events/7412/gla1ve\n"
     ]
    },
    {
     "name": "stderr",
     "output_type": "stream",
     "text": [
      "2019-05-10 21:25:49.875 | INFO     | __main__:<module>:10 - Scraping new players past ratings: https://www.hltv.org/stats/players/events/8726/facecrack\n"
     ]
    },
    {
     "name": "stderr",
     "output_type": "stream",
     "text": [
      "2019-05-10 21:25:53.190 | INFO     | __main__:<module>:10 - Scraping new players past ratings: https://www.hltv.org/stats/players/events/8522/FugLy\n"
     ]
    },
    {
     "name": "stderr",
     "output_type": "stream",
     "text": [
      "2019-05-10 21:25:56.577 | INFO     | __main__:<module>:10 - Scraping new players past ratings: https://www.hltv.org/stats/players/events/11217/SPELLAN\n"
     ]
    },
    {
     "name": "stderr",
     "output_type": "stream",
     "text": [
      "2019-05-10 21:25:59.664 | INFO     | __main__:<module>:10 - Scraping new players past ratings: https://www.hltv.org/stats/players/events/12876/DickStacy\n"
     ]
    },
    {
     "name": "stderr",
     "output_type": "stream",
     "text": [
      "2019-05-10 21:26:02.768 | INFO     | __main__:<module>:10 - Scraping new players past ratings: https://www.hltv.org/stats/players/events/10590/fenvicious\n"
     ]
    },
    {
     "name": "stderr",
     "output_type": "stream",
     "text": [
      "2019-05-10 21:26:05.687 | INFO     | __main__:<module>:10 - Scraping new players past ratings: https://www.hltv.org/stats/players/events/5792/KILLDREAM\n"
     ]
    },
    {
     "name": "stderr",
     "output_type": "stream",
     "text": [
      "2019-05-10 21:26:08.698 | INFO     | __main__:<module>:10 - Scraping new players past ratings: https://www.hltv.org/stats/players/events/8082/AZR\n"
     ]
    },
    {
     "name": "stderr",
     "output_type": "stream",
     "text": [
      "2019-05-10 21:26:11.759 | INFO     | __main__:<module>:10 - Scraping new players past ratings: https://www.hltv.org/stats/players/events/9069/Nifty\n"
     ]
    },
    {
     "name": "stderr",
     "output_type": "stream",
     "text": [
      "2019-05-10 21:26:15.535 | INFO     | __main__:<module>:10 - Scraping new players past ratings: https://www.hltv.org/stats/players/events/7499/Spiidi\n"
     ]
    },
    {
     "name": "stderr",
     "output_type": "stream",
     "text": [
      "2019-05-10 21:26:18.696 | INFO     | __main__:<module>:10 - Scraping new players past ratings: https://www.hltv.org/stats/players/events/8744/emagine\n"
     ]
    },
    {
     "name": "stderr",
     "output_type": "stream",
     "text": [
      "2019-05-10 21:26:22.079 | INFO     | __main__:<module>:10 - Scraping new players past ratings: https://www.hltv.org/stats/players/events/7/Friis\n"
     ]
    },
    {
     "name": "stderr",
     "output_type": "stream",
     "text": [
      "2019-05-10 21:26:25.468 | INFO     | __main__:<module>:10 - Scraping new players past ratings: https://www.hltv.org/stats/players/events/483/Edward\n"
     ]
    },
    {
     "name": "stderr",
     "output_type": "stream",
     "text": [
      "2019-05-10 21:26:29.133 | INFO     | __main__:<module>:10 - Scraping new players past ratings: https://www.hltv.org/stats/players/events/3669/innocent\n"
     ]
    },
    {
     "name": "stderr",
     "output_type": "stream",
     "text": [
      "2019-05-10 21:26:32.286 | INFO     | __main__:<module>:10 - Scraping new players past ratings: https://www.hltv.org/stats/players/events/10663/RoLEX\n"
     ]
    },
    {
     "name": "stderr",
     "output_type": "stream",
     "text": [
      "2019-05-10 21:26:35.339 | INFO     | __main__:<module>:10 - Scraping new players past ratings: https://www.hltv.org/stats/players/events/7248/xseveN\n"
     ]
    },
    {
     "name": "stderr",
     "output_type": "stream",
     "text": [
      "2019-05-10 21:26:38.756 | INFO     | __main__:<module>:10 - Scraping new players past ratings: https://www.hltv.org/stats/players/events/8184/ALEX\n"
     ]
    },
    {
     "name": "stderr",
     "output_type": "stream",
     "text": [
      "2019-05-10 21:26:44.162 | INFO     | __main__:<module>:10 - Scraping new players past ratings: https://www.hltv.org/stats/players/events/7982/to1nou\n"
     ]
    },
    {
     "name": "stderr",
     "output_type": "stream",
     "text": [
      "2019-05-10 21:26:48.510 | INFO     | __main__:<module>:10 - Scraping new players past ratings: https://www.hltv.org/stats/players/events/8517/Relyks\n"
     ]
    },
    {
     "name": "stderr",
     "output_type": "stream",
     "text": [
      "2019-05-10 21:26:51.462 | INFO     | __main__:<module>:10 - Scraping new players past ratings: https://www.hltv.org/stats/players/events/8875/gade\n"
     ]
    },
    {
     "name": "stderr",
     "output_type": "stream",
     "text": [
      "2019-05-10 21:26:54.988 | INFO     | __main__:<module>:10 - Scraping new players past ratings: https://www.hltv.org/stats/players/events/7808/freakazoid\n"
     ]
    },
    {
     "name": "stderr",
     "output_type": "stream",
     "text": [
      "2019-05-10 21:26:58.140 | INFO     | __main__:<module>:10 - Scraping new players past ratings: https://www.hltv.org/stats/players/events/4637/zeff\n"
     ]
    },
    {
     "name": "stderr",
     "output_type": "stream",
     "text": [
      "2019-05-10 21:27:01.324 | INFO     | __main__:<module>:10 - Scraping new players past ratings: https://www.hltv.org/stats/players/events/7980/DESPE\n"
     ]
    },
    {
     "name": "stderr",
     "output_type": "stream",
     "text": [
      "2019-05-10 21:27:04.621 | INFO     | __main__:<module>:10 - Scraping new players past ratings: https://www.hltv.org/stats/players/events/11574/xiaosaGe\n"
     ]
    },
    {
     "name": "stderr",
     "output_type": "stream",
     "text": [
      "2019-05-10 21:27:07.969 | INFO     | __main__:<module>:10 - Scraping new players past ratings: https://www.hltv.org/stats/players/events/15428/Goofy\n"
     ]
    },
    {
     "name": "stderr",
     "output_type": "stream",
     "text": [
      "2019-05-10 21:27:10.871 | INFO     | __main__:<module>:10 - Scraping new players past ratings: https://www.hltv.org/stats/players/events/9103/urbz\n"
     ]
    },
    {
     "name": "stderr",
     "output_type": "stream",
     "text": [
      "2019-05-10 21:27:13.785 | INFO     | __main__:<module>:10 - Scraping new players past ratings: https://www.hltv.org/stats/players/events/11307/pounh\n"
     ]
    },
    {
     "name": "stderr",
     "output_type": "stream",
     "text": [
      "2019-05-10 21:27:16.987 | INFO     | __main__:<module>:10 - Scraping new players past ratings: https://www.hltv.org/stats/players/events/8926/SasuKe\n"
     ]
    },
    {
     "name": "stderr",
     "output_type": "stream",
     "text": [
      "2019-05-10 21:27:19.919 | INFO     | __main__:<module>:10 - Scraping new players past ratings: https://www.hltv.org/stats/players/events/1007/k1Ng0r\n"
     ]
    },
    {
     "name": "stderr",
     "output_type": "stream",
     "text": [
      "2019-05-10 21:27:22.835 | INFO     | __main__:<module>:10 - Scraping new players past ratings: https://www.hltv.org/stats/players/events/13148/Radifaction\n"
     ]
    },
    {
     "name": "stderr",
     "output_type": "stream",
     "text": [
      "2019-05-10 21:27:26.101 | INFO     | __main__:<module>:10 - Scraping new players past ratings: https://www.hltv.org/stats/players/events/7873/dephh\n"
     ]
    },
    {
     "name": "stderr",
     "output_type": "stream",
     "text": [
      "2019-05-10 21:27:29.203 | INFO     | __main__:<module>:10 - Scraping new players past ratings: https://www.hltv.org/stats/players/events/7383/zqkS\n"
     ]
    },
    {
     "name": "stderr",
     "output_type": "stream",
     "text": [
      "2019-05-10 21:27:32.754 | INFO     | __main__:<module>:10 - Scraping new players past ratings: https://www.hltv.org/stats/players/events/7700/robiin\n"
     ]
    },
    {
     "name": "stderr",
     "output_type": "stream",
     "text": [
      "2019-05-10 21:27:36.126 | INFO     | __main__:<module>:10 - Scraping new players past ratings: https://www.hltv.org/stats/players/events/7673/mikeS\n"
     ]
    },
    {
     "name": "stderr",
     "output_type": "stream",
     "text": [
      "2019-05-10 21:27:39.151 | INFO     | __main__:<module>:10 - Scraping new players past ratings: https://www.hltv.org/stats/players/events/8771/USTILO\n"
     ]
    },
    {
     "name": "stderr",
     "output_type": "stream",
     "text": [
      "2019-05-10 21:27:42.467 | INFO     | __main__:<module>:10 - Scraping new players past ratings: https://www.hltv.org/stats/players/events/5061/PERCY\n"
     ]
    },
    {
     "name": "stderr",
     "output_type": "stream",
     "text": [
      "2019-05-10 21:27:45.613 | INFO     | __main__:<module>:10 - Scraping new players past ratings: https://www.hltv.org/stats/players/events/5373/xelos\n"
     ]
    },
    {
     "name": "stderr",
     "output_type": "stream",
     "text": [
      "2019-05-10 21:27:49.402 | INFO     | __main__:<module>:10 - Scraping new players past ratings: https://www.hltv.org/stats/players/events/339/ANGE1\n"
     ]
    },
    {
     "name": "stderr",
     "output_type": "stream",
     "text": [
      "2019-05-10 21:27:53.219 | INFO     | __main__:<module>:10 - Scraping new players past ratings: https://www.hltv.org/stats/players/events/884/Xizt\n"
     ]
    },
    {
     "name": "stderr",
     "output_type": "stream",
     "text": [
      "2019-05-10 21:27:56.366 | INFO     | __main__:<module>:10 - Scraping new players past ratings: https://www.hltv.org/stats/players/events/3894/REFLEX\n"
     ]
    },
    {
     "name": "stderr",
     "output_type": "stream",
     "text": [
      "2019-05-10 21:27:59.575 | INFO     | __main__:<module>:10 - Scraping new players past ratings: https://www.hltv.org/stats/players/events/7527/pyth\n"
     ]
    },
    {
     "name": "stderr",
     "output_type": "stream",
     "text": [
      "2019-05-10 21:28:02.685 | INFO     | __main__:<module>:10 - Scraping new players past ratings: https://www.hltv.org/stats/players/events/9260/vice\n"
     ]
    },
    {
     "name": "stderr",
     "output_type": "stream",
     "text": [
      "2019-05-10 21:28:05.541 | INFO     | __main__:<module>:10 - Scraping new players past ratings: https://www.hltv.org/stats/players/events/2532/mch\n"
     ]
    },
    {
     "name": "stderr",
     "output_type": "stream",
     "text": [
      "2019-05-10 21:28:08.678 | INFO     | __main__:<module>:10 - Scraping new players past ratings: https://www.hltv.org/stats/players/events/1883/glace\n"
     ]
    },
    {
     "name": "stderr",
     "output_type": "stream",
     "text": [
      "2019-05-10 21:28:11.956 | INFO     | __main__:<module>:10 - Scraping new players past ratings: https://www.hltv.org/stats/players/events/8724/1uke\n"
     ]
    },
    {
     "name": "stderr",
     "output_type": "stream",
     "text": [
      "2019-05-10 21:28:15.028 | INFO     | __main__:<module>:10 - Scraping new players past ratings: https://www.hltv.org/stats/players/events/9339/ImpressioN\n"
     ]
    },
    {
     "name": "stderr",
     "output_type": "stream",
     "text": [
      "2019-05-10 21:28:18.034 | INFO     | __main__:<module>:10 - Scraping new players past ratings: https://www.hltv.org/stats/players/events/7433/adreN\n"
     ]
    },
    {
     "name": "stderr",
     "output_type": "stream",
     "text": [
      "2019-05-10 21:28:21.331 | INFO     | __main__:<module>:10 - Scraping new players past ratings: https://www.hltv.org/stats/players/events/1915/SEMPHIS\n"
     ]
    },
    {
     "name": "stderr",
     "output_type": "stream",
     "text": [
      "2019-05-10 21:28:24.518 | INFO     | __main__:<module>:10 - Scraping new players past ratings: https://www.hltv.org/stats/players/events/8321/oskarish\n"
     ]
    },
    {
     "name": "stderr",
     "output_type": "stream",
     "text": [
      "2019-05-10 21:28:27.666 | INFO     | __main__:<module>:10 - Scraping new players past ratings: https://www.hltv.org/stats/players/events/8347/hazed\n"
     ]
    },
    {
     "name": "stderr",
     "output_type": "stream",
     "text": [
      "2019-05-10 21:28:30.809 | INFO     | __main__:<module>:10 - Scraping new players past ratings: https://www.hltv.org/stats/players/events/10697/blocker\n"
     ]
    },
    {
     "name": "stderr",
     "output_type": "stream",
     "text": [
      "2019-05-10 21:28:33.691 | INFO     | __main__:<module>:10 - Scraping new players past ratings: https://www.hltv.org/stats/players/events/10163/pecks\n"
     ]
    },
    {
     "name": "stderr",
     "output_type": "stream",
     "text": [
      "2019-05-10 21:28:36.576 | INFO     | __main__:<module>:10 - Scraping new players past ratings: https://www.hltv.org/stats/players/events/12129/stk\n"
     ]
    },
    {
     "name": "stderr",
     "output_type": "stream",
     "text": [
      "2019-05-10 21:28:39.926 | INFO     | __main__:<module>:10 - Scraping new players past ratings: https://www.hltv.org/stats/players/events/545/MODDII\n"
     ]
    },
    {
     "name": "stderr",
     "output_type": "stream",
     "text": [
      "2019-05-10 21:28:42.992 | INFO     | __main__:<module>:10 - Scraping new players past ratings: https://www.hltv.org/stats/players/events/9011/Barcode\n"
     ]
    },
    {
     "name": "stderr",
     "output_type": "stream",
     "text": [
      "2019-05-10 21:28:45.820 | INFO     | __main__:<module>:10 - Scraping new players past ratings: https://www.hltv.org/stats/players/events/9030/rezex\n"
     ]
    },
    {
     "name": "stderr",
     "output_type": "stream",
     "text": [
      "2019-05-10 21:28:48.811 | INFO     | __main__:<module>:10 - Scraping new players past ratings: https://www.hltv.org/stats/players/events/7369/peet\n"
     ]
    },
    {
     "name": "stderr",
     "output_type": "stream",
     "text": [
      "2019-05-10 21:28:52.054 | INFO     | __main__:<module>:10 - Scraping new players past ratings: https://www.hltv.org/stats/players/events/8508/DAVEY\n"
     ]
    },
    {
     "name": "stderr",
     "output_type": "stream",
     "text": [
      "2019-05-10 21:28:54.999 | INFO     | __main__:<module>:10 - Scraping new players past ratings: https://www.hltv.org/stats/players/events/7296/Puls3\n"
     ]
    },
    {
     "name": "stderr",
     "output_type": "stream",
     "text": [
      "2019-05-10 21:28:58.075 | INFO     | __main__:<module>:10 - Scraping new players past ratings: https://www.hltv.org/stats/players/events/15300/ToM223\n"
     ]
    },
    {
     "name": "stderr",
     "output_type": "stream",
     "text": [
      "2019-05-10 21:29:01.219 | INFO     | __main__:<module>:10 - Scraping new players past ratings: https://www.hltv.org/stats/players/events/8871/Lukki\n"
     ]
    },
    {
     "name": "stderr",
     "output_type": "stream",
     "text": [
      "2019-05-10 21:29:04.133 | INFO     | __main__:<module>:10 - Scraping new players past ratings: https://www.hltv.org/stats/players/events/11161/Drea3er\n"
     ]
    },
    {
     "name": "stderr",
     "output_type": "stream",
     "text": [
      "2019-05-10 21:29:06.880 | INFO     | __main__:<module>:10 - Scraping new players past ratings: https://www.hltv.org/stats/players/events/11747/jnt\n"
     ]
    },
    {
     "name": "stderr",
     "output_type": "stream",
     "text": [
      "2019-05-10 21:29:10.817 | INFO     | __main__:<module>:10 - Scraping new players past ratings: https://www.hltv.org/stats/players/events/5796/tiziaN\n"
     ]
    },
    {
     "name": "stderr",
     "output_type": "stream",
     "text": [
      "2019-05-10 21:29:15.198 | INFO     | __main__:<module>:10 - Scraping new players past ratings: https://www.hltv.org/stats/players/events/9257/freddieb\n"
     ]
    },
    {
     "name": "stderr",
     "output_type": "stream",
     "text": [
      "2019-05-10 21:29:18.809 | INFO     | __main__:<module>:10 - Scraping new players past ratings: https://www.hltv.org/stats/players/events/10463/B%C3%A5%C3%A5ten\n"
     ]
    },
    {
     "name": "stderr",
     "output_type": "stream",
     "text": [
      "2019-05-10 21:29:21.846 | INFO     | __main__:<module>:10 - Scraping new players past ratings: https://www.hltv.org/stats/players/events/10052/fitch\n"
     ]
    },
    {
     "name": "stderr",
     "output_type": "stream",
     "text": [
      "2019-05-10 21:29:25.330 | INFO     | __main__:<module>:10 - Scraping new players past ratings: https://www.hltv.org/stats/players/events/7148/friberg\n"
     ]
    },
    {
     "name": "stderr",
     "output_type": "stream",
     "text": [
      "2019-05-10 21:29:28.631 | INFO     | __main__:<module>:10 - Scraping new players past ratings: https://www.hltv.org/stats/players/events/555/bit\n"
     ]
    },
    {
     "name": "stderr",
     "output_type": "stream",
     "text": [
      "2019-05-10 21:29:31.540 | INFO     | __main__:<module>:10 - Scraping new players past ratings: https://www.hltv.org/stats/players/events/4726/jaxi\n"
     ]
    },
    {
     "name": "stderr",
     "output_type": "stream",
     "text": [
      "2019-05-10 21:29:35.074 | INFO     | __main__:<module>:10 - Scraping new players past ratings: https://www.hltv.org/stats/players/events/44/BARBARR\n"
     ]
    },
    {
     "name": "stderr",
     "output_type": "stream",
     "text": [
      "2019-05-10 21:29:38.089 | INFO     | __main__:<module>:10 - Scraping new players past ratings: https://www.hltv.org/stats/players/events/12710/gMd\n"
     ]
    },
    {
     "name": "stderr",
     "output_type": "stream",
     "text": [
      "2019-05-10 21:29:40.899 | INFO     | __main__:<module>:10 - Scraping new players past ratings: https://www.hltv.org/stats/players/events/9480/tifa\n"
     ]
    },
    {
     "name": "stderr",
     "output_type": "stream",
     "text": [
      "2019-05-10 21:29:44.350 | INFO     | __main__:<module>:10 - Scraping new players past ratings: https://www.hltv.org/stats/players/events/338/markeloff\n"
     ]
    },
    {
     "name": "stderr",
     "output_type": "stream",
     "text": [
      "2019-05-10 21:29:48.303 | INFO     | __main__:<module>:10 - Scraping new players past ratings: https://www.hltv.org/stats/players/events/735/Dosia\n"
     ]
    },
    {
     "name": "stderr",
     "output_type": "stream",
     "text": [
      "2019-05-10 21:29:51.591 | INFO     | __main__:<module>:10 - Scraping new players past ratings: https://www.hltv.org/stats/players/events/8507/stanislaw\n"
     ]
    },
    {
     "name": "stderr",
     "output_type": "stream",
     "text": [
      "2019-05-10 21:29:55.361 | INFO     | __main__:<module>:10 - Scraping new players past ratings: https://www.hltv.org/stats/players/events/8396/BENDJI\n"
     ]
    },
    {
     "name": "stderr",
     "output_type": "stream",
     "text": [
      "2019-05-10 21:29:58.408 | INFO     | __main__:<module>:10 - Scraping new players past ratings: https://www.hltv.org/stats/players/events/13989/ryotzz\n"
     ]
    },
    {
     "name": "stderr",
     "output_type": "stream",
     "text": [
      "2019-05-10 21:30:01.591 | INFO     | __main__:<module>:10 - Scraping new players past ratings: https://www.hltv.org/stats/players/events/8727/waterfaLLZ\n"
     ]
    },
    {
     "name": "stderr",
     "output_type": "stream",
     "text": [
      "2019-05-10 21:30:04.920 | INFO     | __main__:<module>:10 - Scraping new players past ratings: https://www.hltv.org/stats/players/events/630/MUTiRiS\n"
     ]
    },
    {
     "name": "stderr",
     "output_type": "stream",
     "text": [
      "2019-05-10 21:30:07.820 | INFO     | __main__:<module>:10 - Scraping new players past ratings: https://www.hltv.org/stats/players/events/646/kalle\n"
     ]
    },
    {
     "name": "stderr",
     "output_type": "stream",
     "text": [
      "2019-05-10 21:30:11.194 | INFO     | __main__:<module>:10 - Scraping new players past ratings: https://www.hltv.org/stats/players/events/3347/seized\n"
     ]
    },
    {
     "name": "stderr",
     "output_type": "stream",
     "text": [
      "2019-05-10 21:30:14.166 | INFO     | __main__:<module>:10 - Scraping new players past ratings: https://www.hltv.org/stats/players/events/12083/YDNA\n"
     ]
    },
    {
     "name": "stderr",
     "output_type": "stream",
     "text": [
      "2019-05-10 21:30:17.220 | INFO     | __main__:<module>:10 - Scraping new players past ratings: https://www.hltv.org/stats/players/events/7388/SOKER\n"
     ]
    },
    {
     "name": "stderr",
     "output_type": "stream",
     "text": [
      "2019-05-10 21:30:20.071 | INFO     | __main__:<module>:10 - Scraping new players past ratings: https://www.hltv.org/stats/players/events/174/solo\n"
     ]
    },
    {
     "name": "stderr",
     "output_type": "stream",
     "text": [
      "2019-05-10 21:30:23.297 | INFO     | __main__:<module>:10 - Scraping new players past ratings: https://www.hltv.org/stats/players/events/1485/RUBINO\n"
     ]
    },
    {
     "name": "stderr",
     "output_type": "stream",
     "text": [
      "2019-05-10 21:30:26.447 | INFO     | __main__:<module>:10 - Scraping new players past ratings: https://www.hltv.org/stats/players/events/9220/SHOOWTiME\n"
     ]
    },
    {
     "name": "stderr",
     "output_type": "stream",
     "text": [
      "2019-05-10 21:30:29.376 | INFO     | __main__:<module>:10 - Scraping new players past ratings: https://www.hltv.org/stats/players/events/8750/no_one\n"
     ]
    },
    {
     "name": "stderr",
     "output_type": "stream",
     "text": [
      "2019-05-10 21:30:32.636 | INFO     | __main__:<module>:10 - Scraping new players past ratings: https://www.hltv.org/stats/players/events/8324/morelz\n"
     ]
    },
    {
     "name": "stderr",
     "output_type": "stream",
     "text": [
      "2019-05-10 21:30:35.655 | INFO     | __main__:<module>:10 - Scraping new players past ratings: https://www.hltv.org/stats/players/events/12113/Jonji\n"
     ]
    },
    {
     "name": "stderr",
     "output_type": "stream",
     "text": [
      "2019-05-10 21:30:38.550 | INFO     | __main__:<module>:10 - Scraping new players past ratings: https://www.hltv.org/stats/players/events/13977/fnyekes\n"
     ]
    },
    {
     "name": "stderr",
     "output_type": "stream",
     "text": [
      "2019-05-10 21:30:41.501 | INFO     | __main__:<module>:10 - Scraping new players past ratings: https://www.hltv.org/stats/players/events/10372/kaboose\n"
     ]
    },
    {
     "name": "stderr",
     "output_type": "stream",
     "text": [
      "2019-05-10 21:30:44.708 | INFO     | __main__:<module>:10 - Scraping new players past ratings: https://www.hltv.org/stats/players/events/7529/SAGGERTON\n"
     ]
    },
    {
     "name": "stderr",
     "output_type": "stream",
     "text": [
      "2019-05-10 21:30:47.656 | INFO     | __main__:<module>:10 - Scraping new players past ratings: https://www.hltv.org/stats/players/events/7716/chopper\n"
     ]
    },
    {
     "name": "stderr",
     "output_type": "stream",
     "text": [
      "2019-05-10 21:30:50.495 | INFO     | __main__:<module>:10 - Scraping new players past ratings: https://www.hltv.org/stats/players/events/9666/HenkkyG\n"
     ]
    },
    {
     "name": "stderr",
     "output_type": "stream",
     "text": [
      "2019-05-10 21:30:53.265 | INFO     | __main__:<module>:10 - Scraping new players past ratings: https://www.hltv.org/stats/players/events/11358/0i\n"
     ]
    },
    {
     "name": "stderr",
     "output_type": "stream",
     "text": [
      "2019-05-10 21:30:55.966 | INFO     | __main__:<module>:10 - Scraping new players past ratings: https://www.hltv.org/stats/players/events/13155/speed4k\n"
     ]
    },
    {
     "name": "stderr",
     "output_type": "stream",
     "text": [
      "2019-05-10 21:30:58.948 | INFO     | __main__:<module>:10 - Scraping new players past ratings: https://www.hltv.org/stats/players/events/7434/AZK\n"
     ]
    },
    {
     "name": "stderr",
     "output_type": "stream",
     "text": [
      "2019-05-10 21:31:01.987 | INFO     | __main__:<module>:10 - Scraping new players past ratings: https://www.hltv.org/stats/players/events/11498/NickelBack\n"
     ]
    },
    {
     "name": "stderr",
     "output_type": "stream",
     "text": [
      "2019-05-10 21:31:05.095 | INFO     | __main__:<module>:10 - Scraping new players past ratings: https://www.hltv.org/stats/players/events/9291/krii\n"
     ]
    },
    {
     "name": "stderr",
     "output_type": "stream",
     "text": [
      "2019-05-10 21:31:07.933 | INFO     | __main__:<module>:10 - Scraping new players past ratings: https://www.hltv.org/stats/players/events/5393/slap\n"
     ]
    },
    {
     "name": "stderr",
     "output_type": "stream",
     "text": [
      "2019-05-10 21:31:10.845 | INFO     | __main__:<module>:10 - Scraping new players past ratings: https://www.hltv.org/stats/players/events/12161/KrizzeN\n"
     ]
    },
    {
     "name": "stderr",
     "output_type": "stream",
     "text": [
      "2019-05-10 21:31:14.258 | INFO     | __main__:<module>:10 - Scraping new players past ratings: https://www.hltv.org/stats/players/events/8000/syken\n"
     ]
    },
    {
     "name": "stderr",
     "output_type": "stream",
     "text": [
      "2019-05-10 21:31:17.232 | INFO     | __main__:<module>:10 - Scraping new players past ratings: https://www.hltv.org/stats/players/events/10611/Fadey\n"
     ]
    },
    {
     "name": "stderr",
     "output_type": "stream",
     "text": [
      "2019-05-10 21:31:20.155 | INFO     | __main__:<module>:10 - Scraping new players past ratings: https://www.hltv.org/stats/players/events/10508/nbl\n"
     ]
    },
    {
     "name": "stderr",
     "output_type": "stream",
     "text": [
      "2019-05-10 21:31:23.251 | INFO     | __main__:<module>:10 - Scraping new players past ratings: https://www.hltv.org/stats/players/events/7368/Hyper\n"
     ]
    },
    {
     "name": "stderr",
     "output_type": "stream",
     "text": [
      "2019-05-10 21:31:26.413 | INFO     | __main__:<module>:10 - Scraping new players past ratings: https://www.hltv.org/stats/players/events/7438/anger\n"
     ]
    },
    {
     "name": "stderr",
     "output_type": "stream",
     "text": [
      "2019-05-10 21:31:29.459 | INFO     | __main__:<module>:10 - Scraping new players past ratings: https://www.hltv.org/stats/players/events/373/donQ\n"
     ]
    },
    {
     "name": "stderr",
     "output_type": "stream",
     "text": [
      "2019-05-10 21:31:33.369 | INFO     | __main__:<module>:10 - Scraping new players past ratings: https://www.hltv.org/stats/players/events/161/TaZ\n"
     ]
    },
    {
     "name": "stderr",
     "output_type": "stream",
     "text": [
      "2019-05-10 21:31:36.853 | INFO     | __main__:<module>:10 - Scraping new players past ratings: https://www.hltv.org/stats/players/events/8716/DeadFox\n"
     ]
    },
    {
     "name": "stderr",
     "output_type": "stream",
     "text": [
      "2019-05-10 21:31:40.078 | INFO     | __main__:<module>:10 - Scraping new players past ratings: https://www.hltv.org/stats/players/events/8566/LUCAS1\n"
     ]
    },
    {
     "name": "stderr",
     "output_type": "stream",
     "text": [
      "2019-05-10 21:31:43.078 | INFO     | __main__:<module>:10 - Scraping new players past ratings: https://www.hltv.org/stats/players/events/5045/zende\n"
     ]
    },
    {
     "name": "stderr",
     "output_type": "stream",
     "text": [
      "2019-05-10 21:31:46.085 | INFO     | __main__:<module>:10 - Scraping new players past ratings: https://www.hltv.org/stats/players/events/9636/BURNRUOk\n"
     ]
    },
    {
     "name": "stderr",
     "output_type": "stream",
     "text": [
      "2019-05-10 21:31:48.950 | INFO     | __main__:<module>:10 - Scraping new players past ratings: https://www.hltv.org/stats/players/events/8648/PetitSkel\n"
     ]
    },
    {
     "name": "stderr",
     "output_type": "stream",
     "text": [
      "2019-05-10 21:31:52.061 | INFO     | __main__:<module>:10 - Scraping new players past ratings: https://www.hltv.org/stats/players/events/8488/ZEDKO\n"
     ]
    },
    {
     "name": "stderr",
     "output_type": "stream",
     "text": [
      "2019-05-10 21:31:55.409 | INFO     | __main__:<module>:10 - Scraping new players past ratings: https://www.hltv.org/stats/players/events/7169/RpK\n"
     ]
    },
    {
     "name": "stderr",
     "output_type": "stream",
     "text": [
      "2019-05-10 21:31:58.244 | INFO     | __main__:<module>:10 - Scraping new players past ratings: https://www.hltv.org/stats/players/events/9109/chuch\n"
     ]
    },
    {
     "name": "stderr",
     "output_type": "stream",
     "text": [
      "2019-05-10 21:32:01.161 | INFO     | __main__:<module>:10 - Scraping new players past ratings: https://www.hltv.org/stats/players/events/10762/Rock1nG\n"
     ]
    },
    {
     "name": "stderr",
     "output_type": "stream",
     "text": [
      "2019-05-10 21:32:04.004 | INFO     | __main__:<module>:10 - Scraping new players past ratings: https://www.hltv.org/stats/players/events/11337/RCF\n"
     ]
    },
    {
     "name": "stderr",
     "output_type": "stream",
     "text": [
      "2019-05-10 21:32:06.836 | INFO     | __main__:<module>:10 - Scraping new players past ratings: https://www.hltv.org/stats/players/events/11496/InJect\n"
     ]
    },
    {
     "name": "stderr",
     "output_type": "stream",
     "text": [
      "2019-05-10 21:32:09.638 | INFO     | __main__:<module>:10 - Scraping new players past ratings: https://www.hltv.org/stats/players/events/177/Jewelry\n"
     ]
    },
    {
     "name": "stderr",
     "output_type": "stream",
     "text": [
      "2019-05-10 21:32:12.753 | INFO     | __main__:<module>:10 - Scraping new players past ratings: https://www.hltv.org/stats/players/events/7382/steel\n"
     ]
    },
    {
     "name": "stderr",
     "output_type": "stream",
     "text": [
      "2019-05-10 21:32:15.696 | INFO     | __main__:<module>:10 - Scraping new players past ratings: https://www.hltv.org/stats/players/events/9130/Drone\n"
     ]
    },
    {
     "name": "stderr",
     "output_type": "stream",
     "text": [
      "2019-05-10 21:32:18.428 | INFO     | __main__:<module>:10 - Scraping new players past ratings: https://www.hltv.org/stats/players/events/9682/krudeN\n"
     ]
    },
    {
     "name": "stderr",
     "output_type": "stream",
     "text": [
      "2019-05-10 21:32:21.778 | INFO     | __main__:<module>:10 - Scraping new players past ratings: https://www.hltv.org/stats/players/events/8368/jmqa\n"
     ]
    },
    {
     "name": "stderr",
     "output_type": "stream",
     "text": [
      "2019-05-10 21:32:25.519 | INFO     | __main__:<module>:10 - Scraping new players past ratings: https://www.hltv.org/stats/players/events/6904/STYKO\n"
     ]
    },
    {
     "name": "stderr",
     "output_type": "stream",
     "text": [
      "2019-05-10 21:32:29.367 | INFO     | __main__:<module>:10 - Scraping new players past ratings: https://www.hltv.org/stats/players/events/165/NEO\n"
     ]
    },
    {
     "name": "stderr",
     "output_type": "stream",
     "text": [
      "2019-05-10 21:32:32.585 | INFO     | __main__:<module>:10 - Scraping new players past ratings: https://www.hltv.org/stats/players/events/10569/devoduvek\n"
     ]
    },
    {
     "name": "stderr",
     "output_type": "stream",
     "text": [
      "2019-05-10 21:32:35.921 | INFO     | __main__:<module>:10 - Scraping new players past ratings: https://www.hltv.org/stats/players/events/11891/phr\n"
     ]
    },
    {
     "name": "stderr",
     "output_type": "stream",
     "text": [
      "2019-05-10 21:32:38.794 | INFO     | __main__:<module>:10 - Scraping new players past ratings: https://www.hltv.org/stats/players/events/9664/Pollo\n"
     ]
    },
    {
     "name": "stderr",
     "output_type": "stream",
     "text": [
      "2019-05-10 21:32:41.769 | INFO     | __main__:<module>:10 - Scraping new players past ratings: https://www.hltv.org/stats/players/events/9545/xms\n"
     ]
    },
    {
     "name": "stderr",
     "output_type": "stream",
     "text": [
      "2019-05-10 21:32:44.572 | INFO     | __main__:<module>:10 - Scraping new players past ratings: https://www.hltv.org/stats/players/events/8911/sancz\n"
     ]
    },
    {
     "name": "stderr",
     "output_type": "stream",
     "text": [
      "2019-05-10 21:32:47.561 | INFO     | __main__:<module>:10 - Scraping new players past ratings: https://www.hltv.org/stats/players/events/8569/DEVIL\n"
     ]
    },
    {
     "name": "stderr",
     "output_type": "stream",
     "text": [
      "2019-05-10 21:32:51.056 | INFO     | __main__:<module>:10 - Scraping new players past ratings: https://www.hltv.org/stats/players/events/8125/Dima\n"
     ]
    },
    {
     "name": "stderr",
     "output_type": "stream",
     "text": [
      "2019-05-10 21:32:54.192 | INFO     | __main__:<module>:10 - Scraping new players past ratings: https://www.hltv.org/stats/players/events/11278/TOAO\n"
     ]
    },
    {
     "name": "stderr",
     "output_type": "stream",
     "text": [
      "2019-05-10 21:32:57.102 | INFO     | __main__:<module>:10 - Scraping new players past ratings: https://www.hltv.org/stats/players/events/11460/Tommy\n"
     ]
    },
    {
     "name": "stderr",
     "output_type": "stream",
     "text": [
      "2019-05-10 21:33:00.277 | INFO     | __main__:<module>:10 - Scraping new players past ratings: https://www.hltv.org/stats/players/events/7414/smF\n"
     ]
    },
    {
     "name": "stderr",
     "output_type": "stream",
     "text": [
      "2019-05-10 21:33:03.246 | INFO     | __main__:<module>:10 - Scraping new players past ratings: https://www.hltv.org/stats/players/events/9223/guishorro\n"
     ]
    },
    {
     "name": "stderr",
     "output_type": "stream",
     "text": [
      "2019-05-10 21:33:06.216 | INFO     | __main__:<module>:10 - Scraping new players past ratings: https://www.hltv.org/stats/players/events/6593/PKL\n"
     ]
    },
    {
     "name": "stderr",
     "output_type": "stream",
     "text": [
      "2019-05-10 21:33:09.786 | INFO     | __main__:<module>:10 - Scraping new players past ratings: https://www.hltv.org/stats/players/events/7511/denis\n"
     ]
    },
    {
     "name": "stderr",
     "output_type": "stream",
     "text": [
      "2019-05-10 21:33:12.927 | INFO     | __main__:<module>:10 - Scraping new players past ratings: https://www.hltv.org/stats/players/events/13042/LOGAN\n"
     ]
    },
    {
     "name": "stderr",
     "output_type": "stream",
     "text": [
      "2019-05-10 21:33:15.940 | INFO     | __main__:<module>:10 - Scraping new players past ratings: https://www.hltv.org/stats/players/events/2241/rmn\n"
     ]
    },
    {
     "name": "stderr",
     "output_type": "stream",
     "text": [
      "2019-05-10 21:33:18.970 | INFO     | __main__:<module>:10 - Scraping new players past ratings: https://www.hltv.org/stats/players/events/7925/gabesson\n"
     ]
    },
    {
     "name": "stderr",
     "output_type": "stream",
     "text": [
      "2019-05-10 21:33:21.706 | INFO     | __main__:<module>:10 - Scraping new players past ratings: https://www.hltv.org/stats/players/events/12101/neptune\n"
     ]
    },
    {
     "name": "stderr",
     "output_type": "stream",
     "text": [
      "2019-05-10 21:33:24.917 | INFO     | __main__:<module>:10 - Scraping new players past ratings: https://www.hltv.org/stats/players/events/303/starix\n"
     ]
    },
    {
     "name": "stderr",
     "output_type": "stream",
     "text": [
      "2019-05-10 21:33:28.042 | INFO     | __main__:<module>:10 - Scraping new players past ratings: https://www.hltv.org/stats/players/events/3886/seb\n"
     ]
    },
    {
     "name": "stderr",
     "output_type": "stream",
     "text": [
      "2019-05-10 21:33:31.341 | INFO     | __main__:<module>:10 - Scraping new players past ratings: https://www.hltv.org/stats/players/events/922/Snappi\n"
     ]
    },
    {
     "name": "stderr",
     "output_type": "stream",
     "text": [
      "2019-05-10 21:33:34.603 | INFO     | __main__:<module>:10 - Scraping new players past ratings: https://www.hltv.org/stats/players/events/302/kUcheR\n"
     ]
    },
    {
     "name": "stderr",
     "output_type": "stream",
     "text": [
      "2019-05-10 21:33:37.850 | INFO     | __main__:<module>:10 - Scraping new players past ratings: https://www.hltv.org/stats/players/events/971/KHRN\n"
     ]
    },
    {
     "name": "stderr",
     "output_type": "stream",
     "text": [
      "2019-05-10 21:33:40.934 | INFO     | __main__:<module>:10 - Scraping new players past ratings: https://www.hltv.org/stats/players/events/11746/YJ\n"
     ]
    },
    {
     "name": "stderr",
     "output_type": "stream",
     "text": [
      "2019-05-10 21:33:44.032 | INFO     | __main__:<module>:10 - Scraping new players past ratings: https://www.hltv.org/stats/players/events/8459/Kvik\n"
     ]
    },
    {
     "name": "stderr",
     "output_type": "stream",
     "text": [
      "2019-05-10 21:33:46.828 | INFO     | __main__:<module>:10 - Scraping new players past ratings: https://www.hltv.org/stats/players/events/14221/kaper\n"
     ]
    },
    {
     "name": "stderr",
     "output_type": "stream",
     "text": [
      "2019-05-10 21:33:49.717 | INFO     | __main__:<module>:10 - Scraping new players past ratings: https://www.hltv.org/stats/players/events/13978/Coffee\n"
     ]
    },
    {
     "name": "stderr",
     "output_type": "stream",
     "text": [
      "2019-05-10 21:33:52.534 | INFO     | __main__:<module>:10 - Scraping new players past ratings: https://www.hltv.org/stats/players/events/8947/acAp\n"
     ]
    },
    {
     "name": "stderr",
     "output_type": "stream",
     "text": [
      "2019-05-10 21:33:55.729 | INFO     | __main__:<module>:10 - Scraping new players past ratings: https://www.hltv.org/stats/players/events/8446/ELUSIVE\n"
     ]
    },
    {
     "name": "stderr",
     "output_type": "stream",
     "text": [
      "2019-05-10 21:33:58.610 | INFO     | __main__:<module>:10 - Scraping new players past ratings: https://www.hltv.org/stats/players/events/329/Kairi\n"
     ]
    },
    {
     "name": "stderr",
     "output_type": "stream",
     "text": [
      "2019-05-10 21:34:01.375 | INFO     | __main__:<module>:10 - Scraping new players past ratings: https://www.hltv.org/stats/players/events/12086/stat\n"
     ]
    },
    {
     "name": "stderr",
     "output_type": "stream",
     "text": [
      "2019-05-10 21:34:04.187 | INFO     | __main__:<module>:10 - Scraping new players past ratings: https://www.hltv.org/stats/players/events/205/glow\n"
     ]
    },
    {
     "name": "stderr",
     "output_type": "stream",
     "text": [
      "2019-05-10 21:34:07.467 | INFO     | __main__:<module>:10 - Scraping new players past ratings: https://www.hltv.org/stats/players/events/8137/reltuC\n"
     ]
    },
    {
     "name": "stderr",
     "output_type": "stream",
     "text": [
      "2019-05-10 21:34:10.821 | INFO     | __main__:<module>:10 - Scraping new players past ratings: https://www.hltv.org/stats/players/events/7463/Inzta\n"
     ]
    },
    {
     "name": "stderr",
     "output_type": "stream",
     "text": [
      "2019-05-10 21:34:13.820 | INFO     | __main__:<module>:10 - Scraping new players past ratings: https://www.hltv.org/stats/players/events/3631/Polly\n"
     ]
    },
    {
     "name": "stderr",
     "output_type": "stream",
     "text": [
      "2019-05-10 21:34:17.502 | INFO     | __main__:<module>:10 - Scraping new players past ratings: https://www.hltv.org/stats/players/events/8374/bodyy\n"
     ]
    },
    {
     "name": "stderr",
     "output_type": "stream",
     "text": [
      "2019-05-10 21:34:20.991 | INFO     | __main__:<module>:10 - Scraping new players past ratings: https://www.hltv.org/stats/players/events/7170/SmithZz\n"
     ]
    },
    {
     "name": "stderr",
     "output_type": "stream",
     "text": [
      "2019-05-10 21:34:24.193 | INFO     | __main__:<module>:10 - Scraping new players past ratings: https://www.hltv.org/stats/players/events/10563/caike\n"
     ]
    },
    {
     "name": "stderr",
     "output_type": "stream",
     "text": [
      "2019-05-10 21:34:27.014 | INFO     | __main__:<module>:10 - Scraping new players past ratings: https://www.hltv.org/stats/players/events/170/spacca\n"
     ]
    },
    {
     "name": "stderr",
     "output_type": "stream",
     "text": [
      "2019-05-10 21:34:30.003 | INFO     | __main__:<module>:10 - Scraping new players past ratings: https://www.hltv.org/stats/players/events/1206/BTN\n"
     ]
    },
    {
     "name": "stderr",
     "output_type": "stream",
     "text": [
      "2019-05-10 21:34:33.120 | INFO     | __main__:<module>:10 - Scraping new players past ratings: https://www.hltv.org/stats/players/events/8150/maeVe\n"
     ]
    },
    {
     "name": "stderr",
     "output_type": "stream",
     "text": [
      "2019-05-10 21:34:37.473 | INFO     | __main__:<module>:10 - Scraping new players past ratings: https://www.hltv.org/stats/players/events/8151/AcilioN\n"
     ]
    },
    {
     "name": "stderr",
     "output_type": "stream",
     "text": [
      "2019-05-10 21:34:40.873 | INFO     | __main__:<module>:10 - Scraping new players past ratings: https://www.hltv.org/stats/players/events/9019/Surreal\n"
     ]
    },
    {
     "name": "stderr",
     "output_type": "stream",
     "text": [
      "2019-05-10 21:34:44.403 | INFO     | __main__:<module>:10 - Scraping new players past ratings: https://www.hltv.org/stats/players/events/823/Maniac\n"
     ]
    },
    {
     "name": "stderr",
     "output_type": "stream",
     "text": [
      "2019-05-10 21:34:47.275 | INFO     | __main__:<module>:10 - Scraping new players past ratings: https://www.hltv.org/stats/players/events/9053/Uber\n"
     ]
    },
    {
     "name": "stderr",
     "output_type": "stream",
     "text": [
      "2019-05-10 21:34:50.320 | INFO     | __main__:<module>:10 - Scraping new players past ratings: https://www.hltv.org/stats/players/events/9482/NEKIZ\n"
     ]
    },
    {
     "name": "stderr",
     "output_type": "stream",
     "text": [
      "2019-05-10 21:34:53.121 | INFO     | __main__:<module>:10 - Scraping new players past ratings: https://www.hltv.org/stats/players/events/7232/r0bs3n\n"
     ]
    },
    {
     "name": "stderr",
     "output_type": "stream",
     "text": [
      "2019-05-10 21:34:56.174 | INFO     | __main__:<module>:10 - Scraping new players past ratings: https://www.hltv.org/stats/players/events/2148/tahsiN\n"
     ]
    },
    {
     "name": "stderr",
     "output_type": "stream",
     "text": [
      "2019-05-10 21:34:59.114 | INFO     | __main__:<module>:10 - Scraping new players past ratings: https://www.hltv.org/stats/players/events/8331/SOON\n"
     ]
    },
    {
     "name": "stderr",
     "output_type": "stream",
     "text": [
      "2019-05-10 21:35:02.214 | INFO     | __main__:<module>:10 - Scraping new players past ratings: https://www.hltv.org/stats/players/events/150/MAJ3R\n"
     ]
    },
    {
     "name": "stderr",
     "output_type": "stream",
     "text": [
      "2019-05-10 21:35:05.209 | INFO     | __main__:<module>:10 - Scraping new players past ratings: https://www.hltv.org/stats/players/events/9736/ncl\n"
     ]
    },
    {
     "name": "stderr",
     "output_type": "stream",
     "text": [
      "2019-05-10 21:35:08.071 | INFO     | __main__:<module>:10 - Scraping new players past ratings: https://www.hltv.org/stats/players/events/10367/ecfN\n"
     ]
    },
    {
     "name": "stderr",
     "output_type": "stream",
     "text": [
      "2019-05-10 21:35:11.231 | INFO     | __main__:<module>:10 - Scraping new players past ratings: https://www.hltv.org/stats/players/events/3329/quix\n"
     ]
    },
    {
     "name": "stderr",
     "output_type": "stream",
     "text": [
      "2019-05-10 21:35:14.168 | INFO     | __main__:<module>:10 - Scraping new players past ratings: https://www.hltv.org/stats/players/events/7508/alexRr\n"
     ]
    },
    {
     "name": "stderr",
     "output_type": "stream",
     "text": [
      "2019-05-10 21:35:17.512 | INFO     | __main__:<module>:10 - Scraping new players past ratings: https://www.hltv.org/stats/players/events/2476/emi\n"
     ]
    },
    {
     "name": "stderr",
     "output_type": "stream",
     "text": [
      "2019-05-10 21:35:21.253 | INFO     | __main__:<module>:10 - Scraping new players past ratings: https://www.hltv.org/stats/players/events/3517/kzy\n"
     ]
    },
    {
     "name": "stderr",
     "output_type": "stream",
     "text": [
      "2019-05-10 21:35:24.362 | INFO     | __main__:<module>:10 - Scraping new players past ratings: https://www.hltv.org/stats/players/events/7958/dumz\n"
     ]
    },
    {
     "name": "stderr",
     "output_type": "stream",
     "text": [
      "2019-05-10 21:35:27.611 | INFO     | __main__:<module>:10 - Scraping new players past ratings: https://www.hltv.org/stats/players/events/9325/arvid\n"
     ]
    },
    {
     "name": "stderr",
     "output_type": "stream",
     "text": [
      "2019-05-10 21:35:30.634 | INFO     | __main__:<module>:10 - Scraping new players past ratings: https://www.hltv.org/stats/players/events/8047/Lambert\n"
     ]
    },
    {
     "name": "stderr",
     "output_type": "stream",
     "text": [
      "2019-05-10 21:35:33.496 | INFO     | __main__:<module>:10 - Scraping new players past ratings: https://www.hltv.org/stats/players/events/10506/tutehen\n"
     ]
    },
    {
     "name": "stderr",
     "output_type": "stream",
     "text": [
      "2019-05-10 21:35:36.360 | INFO     | __main__:<module>:10 - Scraping new players past ratings: https://www.hltv.org/stats/players/events/169/nak\n"
     ]
    },
    {
     "name": "stderr",
     "output_type": "stream",
     "text": [
      "2019-05-10 21:35:39.225 | INFO     | __main__:<module>:10 - Scraping new players past ratings: https://www.hltv.org/stats/players/events/9763/Jayzwalkingz\n"
     ]
    },
    {
     "name": "stderr",
     "output_type": "stream",
     "text": [
      "2019-05-10 21:35:42.317 | INFO     | __main__:<module>:10 - Scraping new players past ratings: https://www.hltv.org/stats/players/events/10784/RuStY\n"
     ]
    },
    {
     "name": "stderr",
     "output_type": "stream",
     "text": [
      "2019-05-10 21:35:45.399 | INFO     | __main__:<module>:10 - Scraping new players past ratings: https://www.hltv.org/stats/players/events/9660/CONNOR93\n"
     ]
    },
    {
     "name": "stderr",
     "output_type": "stream",
     "text": [
      "2019-05-10 21:35:48.685 | INFO     | __main__:<module>:10 - Scraping new players past ratings: https://www.hltv.org/stats/players/events/9081/S0tF1k\n"
     ]
    },
    {
     "name": "stderr",
     "output_type": "stream",
     "text": [
      "2019-05-10 21:35:51.884 | INFO     | __main__:<module>:10 - Scraping new players past ratings: https://www.hltv.org/stats/players/events/5440/flash\n"
     ]
    },
    {
     "name": "stderr",
     "output_type": "stream",
     "text": [
      "2019-05-10 21:35:54.891 | INFO     | __main__:<module>:10 - Scraping new players past ratings: https://www.hltv.org/stats/players/events/7943/uNdo\n"
     ]
    },
    {
     "name": "stderr",
     "output_type": "stream",
     "text": [
      "2019-05-10 21:35:57.751 | INFO     | __main__:<module>:10 - Scraping new players past ratings: https://www.hltv.org/stats/players/events/9104/DANZ\n"
     ]
    },
    {
     "name": "stderr",
     "output_type": "stream",
     "text": [
      "2019-05-10 21:36:00.699 | INFO     | __main__:<module>:10 - Scraping new players past ratings: https://www.hltv.org/stats/players/events/147/SIXER\n"
     ]
    },
    {
     "name": "stderr",
     "output_type": "stream",
     "text": [
      "2019-05-10 21:36:03.596 | INFO     | __main__:<module>:10 - Scraping new players past ratings: https://www.hltv.org/stats/players/events/7942/dERZKIY\n"
     ]
    },
    {
     "name": "stderr",
     "output_type": "stream",
     "text": [
      "2019-05-10 21:36:06.627 | INFO     | __main__:<module>:10 - Scraping new players past ratings: https://www.hltv.org/stats/players/events/8212/ScrunK\n"
     ]
    },
    {
     "name": "stderr",
     "output_type": "stream",
     "text": [
      "2019-05-10 21:36:09.595 | INFO     | __main__:<module>:10 - Scraping new players past ratings: https://www.hltv.org/stats/players/events/13976/boX\n"
     ]
    },
    {
     "name": "stderr",
     "output_type": "stream",
     "text": [
      "2019-05-10 21:36:12.799 | INFO     | __main__:<module>:10 - Scraping new players past ratings: https://www.hltv.org/stats/players/events/9845/vSa\n"
     ]
    },
    {
     "name": "stderr",
     "output_type": "stream",
     "text": [
      "2019-05-10 21:36:15.566 | INFO     | __main__:<module>:10 - Scraping new players past ratings: https://www.hltv.org/stats/players/events/8538/stark\n"
     ]
    },
    {
     "name": "stderr",
     "output_type": "stream",
     "text": [
      "2019-05-10 21:36:18.640 | INFO     | __main__:<module>:10 - Scraping new players past ratings: https://www.hltv.org/stats/players/events/10404/Console\n"
     ]
    },
    {
     "name": "stderr",
     "output_type": "stream",
     "text": [
      "2019-05-10 21:36:22.090 | INFO     | __main__:<module>:10 - Scraping new players past ratings: https://www.hltv.org/stats/players/events/8752/SileNt\n"
     ]
    },
    {
     "name": "stderr",
     "output_type": "stream",
     "text": [
      "2019-05-10 21:36:25.075 | INFO     | __main__:<module>:10 - Scraping new players past ratings: https://www.hltv.org/stats/players/events/7828/holzt\n"
     ]
    },
    {
     "name": "stderr",
     "output_type": "stream",
     "text": [
      "2019-05-10 21:36:28.013 | INFO     | __main__:<module>:10 - Scraping new players past ratings: https://www.hltv.org/stats/players/events/9085/Toy\n"
     ]
    },
    {
     "name": "stderr",
     "output_type": "stream",
     "text": [
      "2019-05-10 21:36:31.579 | INFO     | __main__:<module>:10 - Scraping new players past ratings: https://www.hltv.org/stats/players/events/1064/crisby\n"
     ]
    },
    {
     "name": "stderr",
     "output_type": "stream",
     "text": [
      "2019-05-10 21:36:34.627 | INFO     | __main__:<module>:10 - Scraping new players past ratings: https://www.hltv.org/stats/players/events/8790/hutji\n"
     ]
    },
    {
     "name": "stderr",
     "output_type": "stream",
     "text": [
      "2019-05-10 21:36:37.466 | INFO     | __main__:<module>:10 - Scraping new players past ratings: https://www.hltv.org/stats/players/events/8599/Karsa\n"
     ]
    },
    {
     "name": "stderr",
     "output_type": "stream",
     "text": [
      "2019-05-10 21:36:40.430 | INFO     | __main__:<module>:10 - Scraping new players past ratings: https://www.hltv.org/stats/players/events/7214/strux1\n"
     ]
    },
    {
     "name": "stderr",
     "output_type": "stream",
     "text": [
      "2019-05-10 21:36:43.711 | INFO     | __main__:<module>:10 - Scraping new players past ratings: https://www.hltv.org/stats/players/events/7821/sAw\n"
     ]
    },
    {
     "name": "stderr",
     "output_type": "stream",
     "text": [
      "2019-05-10 21:36:46.836 | INFO     | __main__:<module>:10 - Scraping new players past ratings: https://www.hltv.org/stats/players/events/9217/TACO\n"
     ]
    },
    {
     "name": "stderr",
     "output_type": "stream",
     "text": [
      "2019-05-10 21:36:50.589 | INFO     | __main__:<module>:10 - Scraping new players past ratings: https://www.hltv.org/stats/players/events/7218/kRYSTAL\n"
     ]
    },
    {
     "name": "stderr",
     "output_type": "stream",
     "text": [
      "2019-05-10 21:36:53.718 | INFO     | __main__:<module>:10 - Scraping new players past ratings: https://www.hltv.org/stats/players/events/7147/Fifflaren\n"
     ]
    },
    {
     "name": "stderr",
     "output_type": "stream",
     "text": [
      "2019-05-10 21:36:57.858 | INFO     | __main__:<module>:10 - Scraping new players past ratings: https://www.hltv.org/stats/players/events/7166/Ex6TenZ\n"
     ]
    },
    {
     "name": "stderr",
     "output_type": "stream",
     "text": [
      "2019-05-10 21:37:00.877 | INFO     | __main__:<module>:10 - Scraping new players past ratings: https://www.hltv.org/stats/players/events/8746/James\n"
     ]
    },
    {
     "name": "stderr",
     "output_type": "stream",
     "text": [
      "2019-05-10 21:37:03.832 | INFO     | __main__:<module>:10 - Scraping new players past ratings: https://www.hltv.org/stats/players/events/7246/stavros\n"
     ]
    },
    {
     "name": "stderr",
     "output_type": "stream",
     "text": [
      "2019-05-10 21:37:06.959 | INFO     | __main__:<module>:10 - Scraping new players past ratings: https://www.hltv.org/stats/players/events/8410/arch\n"
     ]
    },
    {
     "name": "stderr",
     "output_type": "stream",
     "text": [
      "2019-05-10 21:37:09.790 | INFO     | __main__:<module>:10 - Scraping new players past ratings: https://www.hltv.org/stats/players/events/12590/soju_j\n"
     ]
    },
    {
     "name": "stderr",
     "output_type": "stream",
     "text": [
      "2019-05-10 21:37:13.016 | INFO     | __main__:<module>:10 - Scraping new players past ratings: https://www.hltv.org/stats/players/events/1950/tonyblack\n"
     ]
    },
    {
     "name": "stderr",
     "output_type": "stream",
     "text": [
      "2019-05-10 21:37:16.134 | INFO     | __main__:<module>:10 - Scraping new players past ratings: https://www.hltv.org/stats/players/events/1889/LOMME\n"
     ]
    },
    {
     "name": "stderr",
     "output_type": "stream",
     "text": [
      "2019-05-10 21:37:19.273 | INFO     | __main__:<module>:10 - Scraping new players past ratings: https://www.hltv.org/stats/players/events/7405/ub1que\n"
     ]
    },
    {
     "name": "stderr",
     "output_type": "stream",
     "text": [
      "2019-05-10 21:37:22.334 | INFO     | __main__:<module>:10 - Scraping new players past ratings: https://www.hltv.org/stats/players/events/8320/repo\n"
     ]
    },
    {
     "name": "stderr",
     "output_type": "stream",
     "text": [
      "2019-05-10 21:37:25.383 | INFO     | __main__:<module>:10 - Scraping new players past ratings: https://www.hltv.org/stats/players/events/5385/Luz\n"
     ]
    },
    {
     "name": "stderr",
     "output_type": "stream",
     "text": [
      "2019-05-10 21:37:28.329 | INFO     | __main__:<module>:10 - Scraping new players past ratings: https://www.hltv.org/stats/players/events/7323/fel1x\n"
     ]
    },
    {
     "name": "stderr",
     "output_type": "stream",
     "text": [
      "2019-05-10 21:37:31.229 | INFO     | __main__:<module>:10 - Scraping new players past ratings: https://www.hltv.org/stats/players/events/11110/Golden\n"
     ]
    },
    {
     "name": "stderr",
     "output_type": "stream",
     "text": [
      "2019-05-10 21:37:33.959 | INFO     | __main__:<module>:10 - Scraping new players past ratings: https://www.hltv.org/stats/players/events/9259/witmer\n"
     ]
    },
    {
     "name": "stderr",
     "output_type": "stream",
     "text": [
      "2019-05-10 21:37:37.458 | INFO     | __main__:<module>:10 - Scraping new players past ratings: https://www.hltv.org/stats/players/events/429/karrigan\n"
     ]
    },
    {
     "name": "stderr",
     "output_type": "stream",
     "text": [
      "2019-05-10 21:37:40.510 | INFO     | __main__:<module>:10 - Scraping new players past ratings: https://www.hltv.org/stats/players/events/13297/ZINKEN\n"
     ]
    },
    {
     "name": "stderr",
     "output_type": "stream",
     "text": [
      "2019-05-10 21:37:43.256 | INFO     | __main__:<module>:10 - Scraping new players past ratings: https://www.hltv.org/stats/players/events/5328/psycho\n"
     ]
    },
    {
     "name": "stderr",
     "output_type": "stream",
     "text": [
      "2019-05-10 21:37:46.163 | INFO     | __main__:<module>:10 - Scraping new players past ratings: https://www.hltv.org/stats/players/events/2292/forget\n"
     ]
    },
    {
     "name": "stderr",
     "output_type": "stream",
     "text": [
      "2019-05-10 21:37:49.112 | INFO     | __main__:<module>:10 - Scraping new players past ratings: https://www.hltv.org/stats/players/events/9348/crush\n"
     ]
    },
    {
     "name": "stderr",
     "output_type": "stream",
     "text": [
      "2019-05-10 21:37:52.250 | INFO     | __main__:<module>:10 - Scraping new players past ratings: https://www.hltv.org/stats/players/events/8549/EXUS\n"
     ]
    },
    {
     "name": "stderr",
     "output_type": "stream",
     "text": [
      "2019-05-10 21:37:55.434 | INFO     | __main__:<module>:10 - Scraping new players past ratings: https://www.hltv.org/stats/players/events/8983/MiGHTYMAX\n"
     ]
    },
    {
     "name": "stderr",
     "output_type": "stream",
     "text": [
      "2019-05-10 21:37:58.270 | INFO     | __main__:<module>:10 - Scraping new players past ratings: https://www.hltv.org/stats/players/events/7321/TuGuX\n"
     ]
    },
    {
     "name": "stderr",
     "output_type": "stream",
     "text": [
      "2019-05-10 21:38:01.335 | INFO     | __main__:<module>:10 - Scraping new players past ratings: https://www.hltv.org/stats/players/events/8788/keshandr\n"
     ]
    },
    {
     "name": "stderr",
     "output_type": "stream",
     "text": [
      "2019-05-10 21:38:04.102 | INFO     | __main__:<module>:10 - Scraping new players past ratings: https://www.hltv.org/stats/players/events/11493/sK\n"
     ]
    },
    {
     "name": "stderr",
     "output_type": "stream",
     "text": [
      "2019-05-10 21:38:06.917 | INFO     | __main__:<module>:10 - Scraping new players past ratings: https://www.hltv.org/stats/players/events/8372/matHEND\n"
     ]
    },
    {
     "name": "stderr",
     "output_type": "stream",
     "text": [
      "2019-05-10 21:38:09.912 | INFO     | __main__:<module>:10 - Scraping new players past ratings: https://www.hltv.org/stats/players/events/1200/hitMouse\n"
     ]
    },
    {
     "name": "stderr",
     "output_type": "stream",
     "text": [
      "2019-05-10 21:38:12.745 | INFO     | __main__:<module>:10 - Scraping new players past ratings: https://www.hltv.org/stats/players/events/365/meisoN\n"
     ]
    },
    {
     "name": "stderr",
     "output_type": "stream",
     "text": [
      "2019-05-10 21:38:15.727 | INFO     | __main__:<module>:10 - Scraping new players past ratings: https://www.hltv.org/stats/players/events/11492/Noisia\n"
     ]
    },
    {
     "name": "stderr",
     "output_type": "stream",
     "text": [
      "2019-05-10 21:38:19.201 | INFO     | __main__:<module>:10 - Scraping new players past ratings: https://www.hltv.org/stats/players/events/7537/xartE\n"
     ]
    },
    {
     "name": "stderr",
     "output_type": "stream",
     "text": [
      "2019-05-10 21:38:22.548 | INFO     | __main__:<module>:10 - Scraping new players past ratings: https://www.hltv.org/stats/players/events/1278/pNshr\n"
     ]
    },
    {
     "name": "stderr",
     "output_type": "stream",
     "text": [
      "2019-05-10 21:38:25.703 | INFO     | __main__:<module>:10 - Scraping new players past ratings: https://www.hltv.org/stats/players/events/9857/ngiN\n"
     ]
    },
    {
     "name": "stderr",
     "output_type": "stream",
     "text": [
      "2019-05-10 21:38:28.658 | INFO     | __main__:<module>:10 - Scraping new players past ratings: https://www.hltv.org/stats/players/events/8302/mistou\n"
     ]
    },
    {
     "name": "stderr",
     "output_type": "stream",
     "text": [
      "2019-05-10 21:38:31.557 | INFO     | __main__:<module>:10 - Scraping new players past ratings: https://www.hltv.org/stats/players/events/1331/Xp3\n"
     ]
    },
    {
     "name": "stderr",
     "output_type": "stream",
     "text": [
      "2019-05-10 21:38:34.606 | INFO     | __main__:<module>:10 - Scraping new players past ratings: https://www.hltv.org/stats/players/events/7796/wayLander\n"
     ]
    },
    {
     "name": "stderr",
     "output_type": "stream",
     "text": [
      "2019-05-10 21:38:37.916 | INFO     | __main__:<module>:10 - Scraping new players past ratings: https://www.hltv.org/stats/players/events/484/Zeus\n"
     ]
    },
    {
     "name": "stderr",
     "output_type": "stream",
     "text": [
      "2019-05-10 21:38:41.117 | INFO     | __main__:<module>:10 - Scraping new players past ratings: https://www.hltv.org/stats/players/events/8256/tecek\n"
     ]
    },
    {
     "name": "stderr",
     "output_type": "stream",
     "text": [
      "2019-05-10 21:38:43.997 | INFO     | __main__:<module>:10 - Scraping new players past ratings: https://www.hltv.org/stats/players/events/6453/arya\n"
     ]
    },
    {
     "name": "stderr",
     "output_type": "stream",
     "text": [
      "2019-05-10 21:38:46.780 | INFO     | __main__:<module>:10 - Scraping new players past ratings: https://www.hltv.org/stats/players/events/1866/Shara\n"
     ]
    },
    {
     "name": "stderr",
     "output_type": "stream",
     "text": [
      "2019-05-10 21:38:50.101 | INFO     | __main__:<module>:10 - Scraping new players past ratings: https://www.hltv.org/stats/players/events/3252/LEGIJA\n"
     ]
    },
    {
     "name": "stderr",
     "output_type": "stream",
     "text": [
      "2019-05-10 21:38:52.935 | INFO     | __main__:<module>:10 - Scraping new players past ratings: https://www.hltv.org/stats/players/events/1083/AERO\n"
     ]
    },
    {
     "name": "stderr",
     "output_type": "stream",
     "text": [
      "2019-05-10 21:38:55.728 | INFO     | __main__:<module>:10 - Scraping new players past ratings: https://www.hltv.org/stats/players/events/8515/hades\n"
     ]
    },
    {
     "name": "stderr",
     "output_type": "stream",
     "text": [
      "2019-05-10 21:38:58.657 | INFO     | __main__:<module>:10 - Scraping new players past ratings: https://www.hltv.org/stats/players/events/1154/roman\n"
     ]
    },
    {
     "name": "stderr",
     "output_type": "stream",
     "text": [
      "2019-05-10 21:39:02.519 | INFO     | __main__:<module>:10 - Scraping new players past ratings: https://www.hltv.org/stats/players/events/7156/MSL\n"
     ]
    },
    {
     "name": "stderr",
     "output_type": "stream",
     "text": [
      "2019-05-10 21:39:05.549 | INFO     | __main__:<module>:10 - Scraping new players past ratings: https://www.hltv.org/stats/players/events/15120/JiNKZ\n"
     ]
    },
    {
     "name": "stderr",
     "output_type": "stream",
     "text": [
      "2019-05-10 21:39:08.714 | INFO     | __main__:<module>:10 - Scraping new players past ratings: https://www.hltv.org/stats/players/events/8294/balblna\n"
     ]
    },
    {
     "name": "stderr",
     "output_type": "stream",
     "text": [
      "2019-05-10 21:39:11.602 | INFO     | __main__:<module>:10 - Scraping new players past ratings: https://www.hltv.org/stats/players/events/330/MusambaN1\n"
     ]
    },
    {
     "name": "stderr",
     "output_type": "stream",
     "text": [
      "2019-05-10 21:39:14.439 | INFO     | __main__:<module>:10 - Scraping new players past ratings: https://www.hltv.org/stats/players/events/10114/BONA\n"
     ]
    },
    {
     "name": "stderr",
     "output_type": "stream",
     "text": [
      "2019-05-10 21:39:17.805 | INFO     | __main__:<module>:10 - Scraping new players past ratings: https://www.hltv.org/stats/players/events/499/hooch\n"
     ]
    },
    {
     "name": "stderr",
     "output_type": "stream",
     "text": [
      "2019-05-10 21:39:20.881 | INFO     | __main__:<module>:10 - Scraping new players past ratings: https://www.hltv.org/stats/players/events/8504/LeX\n"
     ]
    },
    {
     "name": "stderr",
     "output_type": "stream",
     "text": [
      "2019-05-10 21:39:24.225 | INFO     | __main__:<module>:10 - Scraping new players past ratings: https://www.hltv.org/stats/players/events/8600/advent\n"
     ]
    },
    {
     "name": "stderr",
     "output_type": "stream",
     "text": [
      "2019-05-10 21:39:27.402 | INFO     | __main__:<module>:10 - Scraping new players past ratings: https://www.hltv.org/stats/players/events/2304/Kirby\n"
     ]
    },
    {
     "name": "stderr",
     "output_type": "stream",
     "text": [
      "2019-05-10 21:39:30.099 | INFO     | __main__:<module>:10 - Scraping new players past ratings: https://www.hltv.org/stats/players/events/8794/jasonR\n"
     ]
    },
    {
     "name": "stderr",
     "output_type": "stream",
     "text": [
      "2019-05-10 21:39:33.083 | INFO     | __main__:<module>:10 - Scraping new players past ratings: https://www.hltv.org/stats/players/events/5327/nkl\n"
     ]
    },
    {
     "name": "stderr",
     "output_type": "stream",
     "text": [
      "2019-05-10 21:39:35.969 | INFO     | __main__:<module>:10 - Scraping new players past ratings: https://www.hltv.org/stats/players/events/163/Loord\n"
     ]
    },
    {
     "name": "stderr",
     "output_type": "stream",
     "text": [
      "2019-05-10 21:39:38.910 | INFO     | __main__:<module>:10 - Scraping new players past ratings: https://www.hltv.org/stats/players/events/7462/Fuks\n"
     ]
    },
    {
     "name": "stderr",
     "output_type": "stream",
     "text": [
      "2019-05-10 21:39:41.630 | INFO     | __main__:<module>:10 - Scraping new players past ratings: https://www.hltv.org/stats/players/events/8293/It%27s%20my\n"
     ]
    },
    {
     "name": "stderr",
     "output_type": "stream",
     "text": [
      "2019-05-10 21:39:44.432 | INFO     | __main__:<module>:10 - Scraping new players past ratings: https://www.hltv.org/stats/players/events/8612/fix\n"
     ]
    },
    {
     "name": "stderr",
     "output_type": "stream",
     "text": [
      "2019-05-10 21:39:47.414 | INFO     | __main__:<module>:10 - Scraping new players past ratings: https://www.hltv.org/stats/players/events/10993/torben\n"
     ]
    },
    {
     "name": "stderr",
     "output_type": "stream",
     "text": [
      "2019-05-10 21:39:50.171 | INFO     | __main__:<module>:10 - Scraping new players past ratings: https://www.hltv.org/stats/players/events/3887/els\n"
     ]
    },
    {
     "name": "stderr",
     "output_type": "stream",
     "text": [
      "2019-05-10 21:39:53.275 | INFO     | __main__:<module>:10 - Scraping new players past ratings: https://www.hltv.org/stats/players/events/6451/FNS\n"
     ]
    },
    {
     "name": "stderr",
     "output_type": "stream",
     "text": [
      "2019-05-10 21:39:56.412 | INFO     | __main__:<module>:10 - Scraping new players past ratings: https://www.hltv.org/stats/players/events/9017/MAiNLiNE\n"
     ]
    },
    {
     "name": "stderr",
     "output_type": "stream",
     "text": [
      "2019-05-10 21:39:59.226 | INFO     | __main__:<module>:10 - Scraping new players past ratings: https://www.hltv.org/stats/players/events/9882/Polen\n"
     ]
    },
    {
     "name": "stderr",
     "output_type": "stream",
     "text": [
      "2019-05-10 21:40:02.639 | INFO     | __main__:<module>:10 - Scraping new players past ratings: https://www.hltv.org/stats/players/events/41/pronax\n"
     ]
    },
    {
     "name": "stderr",
     "output_type": "stream",
     "text": [
      "2019-05-10 21:40:06.377 | INFO     | __main__:<module>:10 - Scraping new players past ratings: https://www.hltv.org/stats/players/events/2284/ryk\n"
     ]
    },
    {
     "name": "stderr",
     "output_type": "stream",
     "text": [
      "2019-05-10 21:40:09.237 | INFO     | __main__:<module>:10 - Scraping new players past ratings: https://www.hltv.org/stats/players/events/9295/sycrone\n"
     ]
    },
    {
     "name": "stderr",
     "output_type": "stream",
     "text": [
      "2019-05-10 21:40:12.175 | INFO     | __main__:<module>:10 - Scraping new players past ratings: https://www.hltv.org/stats/players/events/7797/spiker\n"
     ]
    },
    {
     "name": "stderr",
     "output_type": "stream",
     "text": [
      "2019-05-10 21:40:15.400 | INFO     | __main__:<module>:10 - Scraping new players past ratings: https://www.hltv.org/stats/players/events/921/BERRY\n"
     ]
    },
    {
     "name": "stderr",
     "output_type": "stream",
     "text": [
      "2019-05-10 21:40:18.637 | INFO     | __main__:<module>:10 - Scraping new players past ratings: https://www.hltv.org/stats/players/events/8521/daps\n"
     ]
    },
    {
     "name": "stderr",
     "output_type": "stream",
     "text": [
      "2019-05-10 21:40:21.754 | INFO     | __main__:<module>:10 - Scraping new players past ratings: https://www.hltv.org/stats/players/events/1916/seang%40res\n"
     ]
    },
    {
     "name": "stderr",
     "output_type": "stream",
     "text": [
      "2019-05-10 21:40:24.596 | INFO     | __main__:<module>:10 - Scraping new players past ratings: https://www.hltv.org/stats/players/events/11494/Dezibel\n"
     ]
    },
    {
     "name": "stderr",
     "output_type": "stream",
     "text": [
      "2019-05-10 21:40:27.421 | INFO     | __main__:<module>:10 - Scraping new players past ratings: https://www.hltv.org/stats/players/events/1328/flowsicK\n"
     ]
    },
    {
     "name": "stderr",
     "output_type": "stream",
     "text": [
      "2019-05-10 21:40:30.464 | INFO     | __main__:<module>:10 - Scraping new players past ratings: https://www.hltv.org/stats/players/events/9350/def\n"
     ]
    },
    {
     "name": "stderr",
     "output_type": "stream",
     "text": [
      "2019-05-10 21:40:33.457 | INFO     | __main__:<module>:10 - Scraping new players past ratings: https://www.hltv.org/stats/players/events/12572/djL\n"
     ]
    },
    {
     "name": "stderr",
     "output_type": "stream",
     "text": [
      "2019-05-10 21:40:36.561 | INFO     | __main__:<module>:10 - Scraping new players past ratings: https://www.hltv.org/stats/players/events/7378/Devilwalk\n"
     ]
    },
    {
     "name": "stderr",
     "output_type": "stream",
     "text": [
      "2019-05-10 21:40:39.384 | INFO     | __main__:<module>:10 - Scraping new players past ratings: https://www.hltv.org/stats/players/events/3018/zEVES\n"
     ]
    },
    {
     "name": "stderr",
     "output_type": "stream",
     "text": [
      "2019-05-10 21:40:43.056 | INFO     | __main__:<module>:10 - Scraping new players past ratings: https://www.hltv.org/stats/players/events/136/gob%20b\n"
     ]
    },
    {
     "name": "stderr",
     "output_type": "stream",
     "text": [
      "2019-05-10 21:40:46.012 | INFO     | __main__:<module>:10 - Scraping new players past ratings: https://www.hltv.org/stats/players/events/1964/Twista\n"
     ]
    },
    {
     "name": "stderr",
     "output_type": "stream",
     "text": [
      "2019-05-10 21:40:49.002 | INFO     | __main__:<module>:10 - Scraping new players past ratings: https://www.hltv.org/stats/players/events/8708/Slemmy\n"
     ]
    },
    {
     "name": "stderr",
     "output_type": "stream",
     "text": [
      "2019-05-10 21:40:51.844 | INFO     | __main__:<module>:10 - Scraping new players past ratings: https://www.hltv.org/stats/players/events/9637/LONSDALE\n"
     ]
    },
    {
     "name": "stderr",
     "output_type": "stream",
     "text": [
      "2019-05-10 21:40:54.795 | INFO     | __main__:<module>:10 - Scraping new players past ratings: https://www.hltv.org/stats/players/events/7217/SolEk\n"
     ]
    },
    {
     "name": "stderr",
     "output_type": "stream",
     "text": [
      "2019-05-10 21:40:57.681 | INFO     | __main__:<module>:10 - Scraping new players past ratings: https://www.hltv.org/stats/players/events/3545/haste\n"
     ]
    },
    {
     "name": "stderr",
     "output_type": "stream",
     "text": [
      "2019-05-10 21:41:00.908 | INFO     | __main__:<module>:10 - Scraping new players past ratings: https://www.hltv.org/stats/players/events/472/B1ad3\n"
     ]
    },
    {
     "name": "stderr",
     "output_type": "stream",
     "text": [
      "2019-05-10 21:41:04.851 | INFO     | __main__:<module>:10 - Scraping new players past ratings: https://www.hltv.org/stats/players/events/7415/HUNDEN\n"
     ]
    },
    {
     "name": "stderr",
     "output_type": "stream",
     "text": [
      "2019-05-10 21:41:07.911 | INFO     | __main__:<module>:10 - Scraping new players past ratings: https://www.hltv.org/stats/players/events/6455/OCEAN\n"
     ]
    }
   ],
   "source": [
    "playername = list()\n",
    "eventname = list()\n",
    "eventrating = list()\n",
    "for URL in rating_List:\n",
    "    # Retrieve HTML\n",
    "    req = urllib.request.Request(URL, headers={\"User-Agent\": \"Mozilla/5.0 (Windows NT 6.1) AppleWebKit/537.36 (KHTML, like Gecko) Chrome/41.0.2228.0 Safari/537.3\"})\n",
    "    playerList = urllib.request.urlopen(req).read()\n",
    "    \n",
    "    # Logger message\n",
    "    logger.info('Scraping new players past ratings: %s' % URL)\n",
    "    \n",
    "    # Sleep to prevent overflowing website\n",
    "    time.sleep(2)\n",
    "    \n",
    "    # Parse HTML\n",
    "    soup = BeautifulSoup(playerList, \"html.parser\")\n",
    "    \n",
    "    #Name\n",
    "    name_box = soup.find(attrs={\"class\": \"context-item-name\"})\n",
    "    name = name_box.text.strip() # strip() is used to remove starting and trailing\n",
    "    #Event and Rating\n",
    "    for row in soup.findAll('table')[0].tbody.findAll('tr'):\n",
    "        playername.append(name)\n",
    "        eventname.append(row.findAll('td')[1].text)\n",
    "        eventrating.append(row.findAll('td')[7].text)\n"
   ]
  },
  {
   "cell_type": "markdown",
   "metadata": {
    "papermill": {
     "duration": 0.191053,
     "end_time": "2019-05-10T20:41:10.734542",
     "exception": false,
     "start_time": "2019-05-10T20:41:10.543489",
     "status": "completed"
    },
    "tags": []
   },
   "source": [
    "Having filled the lists, I placed them into a dictionary, and placed them into a Dataframe called dfRatings."
   ]
  },
  {
   "cell_type": "code",
   "execution_count": 5,
   "metadata": {
    "colab": {},
    "colab_type": "code",
    "id": "QPex928XgSOs",
    "papermill": {
     "duration": 0.235052,
     "end_time": "2019-05-10T20:41:11.162637",
     "exception": false,
     "start_time": "2019-05-10T20:41:10.927585",
     "status": "completed"
    },
    "scrolled": true,
    "tags": []
   },
   "outputs": [
    {
     "data": {
      "text/html": [
       "<div>\n",
       "<style scoped>\n",
       "    .dataframe tbody tr th:only-of-type {\n",
       "        vertical-align: middle;\n",
       "    }\n",
       "\n",
       "    .dataframe tbody tr th {\n",
       "        vertical-align: top;\n",
       "    }\n",
       "\n",
       "    .dataframe thead th {\n",
       "        text-align: right;\n",
       "    }\n",
       "</style>\n",
       "<table border=\"1\" class=\"dataframe\">\n",
       "  <thead>\n",
       "    <tr style=\"text-align: right;\">\n",
       "      <th></th>\n",
       "      <th>Player</th>\n",
       "      <th>Event</th>\n",
       "      <th>Rating</th>\n",
       "    </tr>\n",
       "  </thead>\n",
       "  <tbody>\n",
       "    <tr>\n",
       "      <th>46822</th>\n",
       "      <td>rmn</td>\n",
       "      <td>WESG 2016 Europe &amp; CIS Regional Finals</td>\n",
       "      <td>0.94</td>\n",
       "    </tr>\n",
       "    <tr>\n",
       "      <th>51834</th>\n",
       "      <td>vSa</td>\n",
       "      <td>ESEA MDL Season 26 North America</td>\n",
       "      <td>0.99</td>\n",
       "    </tr>\n",
       "    <tr>\n",
       "      <th>41964</th>\n",
       "      <td>SHOOWTiME</td>\n",
       "      <td>ECS Season 4 North America</td>\n",
       "      <td>0.97</td>\n",
       "    </tr>\n",
       "    <tr>\n",
       "      <th>46727</th>\n",
       "      <td>LOGAN</td>\n",
       "      <td>DreamHack Masters Dallas 2019 Europe Closed Qu...</td>\n",
       "      <td>0.94</td>\n",
       "    </tr>\n",
       "    <tr>\n",
       "      <th>35412</th>\n",
       "      <td>Relyks</td>\n",
       "      <td>CEVO Professional Season 8</td>\n",
       "      <td>0.99 *</td>\n",
       "    </tr>\n",
       "    <tr>\n",
       "      <th>39870</th>\n",
       "      <td>friberg</td>\n",
       "      <td>ESL Pro League Season 7 Europe</td>\n",
       "      <td>1.00</td>\n",
       "    </tr>\n",
       "    <tr>\n",
       "      <th>29736</th>\n",
       "      <td>ayaya</td>\n",
       "      <td>Douyu CS:GO Asia Invitational #2</td>\n",
       "      <td>1.11</td>\n",
       "    </tr>\n",
       "    <tr>\n",
       "      <th>47882</th>\n",
       "      <td>Coffee</td>\n",
       "      <td>ESL One Cologne 2017 - Europe Qualifier 2</td>\n",
       "      <td>0.75</td>\n",
       "    </tr>\n",
       "    <tr>\n",
       "      <th>45770</th>\n",
       "      <td>xms</td>\n",
       "      <td>ESG Tour Mykonos 2017 Closed Qualifier</td>\n",
       "      <td>1.14</td>\n",
       "    </tr>\n",
       "    <tr>\n",
       "      <th>55946</th>\n",
       "      <td>wayLander</td>\n",
       "      <td>FACEIT League 2015 Stage 2 EU Qualifier</td>\n",
       "      <td>0.75 *</td>\n",
       "    </tr>\n",
       "  </tbody>\n",
       "</table>\n",
       "</div>"
      ],
      "text/plain": [
       "          Player                                              Event  Rating\n",
       "46822        rmn             WESG 2016 Europe & CIS Regional Finals    0.94\n",
       "51834        vSa                   ESEA MDL Season 26 North America    0.99\n",
       "41964  SHOOWTiME                         ECS Season 4 North America    0.97\n",
       "46727      LOGAN  DreamHack Masters Dallas 2019 Europe Closed Qu...    0.94\n",
       "35412     Relyks                         CEVO Professional Season 8  0.99 *\n",
       "39870    friberg                     ESL Pro League Season 7 Europe    1.00\n",
       "29736      ayaya                   Douyu CS:GO Asia Invitational #2    1.11\n",
       "47882     Coffee          ESL One Cologne 2017 - Europe Qualifier 2    0.75\n",
       "45770        xms             ESG Tour Mykonos 2017 Closed Qualifier    1.14\n",
       "55946  wayLander            FACEIT League 2015 Stage 2 EU Qualifier  0.75 *"
      ]
     },
     "execution_count": 5,
     "metadata": {},
     "output_type": "execute_result"
    }
   ],
   "source": [
    "d = {'Player': playername, 'Event':eventname, 'Rating':eventrating}\n",
    "dfRatings = pd.DataFrame(d)\n",
    "dfRatings.sample(10)"
   ]
  },
  {
   "cell_type": "markdown",
   "metadata": {
    "papermill": {
     "duration": 0.194053,
     "end_time": "2019-05-10T20:41:11.551725",
     "exception": false,
     "start_time": "2019-05-10T20:41:11.357672",
     "status": "completed"
    },
    "tags": []
   },
   "source": [
    "I noticed that there was an * after any rating of less than one, so I stripped those from the datframe. "
   ]
  },
  {
   "cell_type": "code",
   "execution_count": 6,
   "metadata": {
    "papermill": {
     "duration": 0.232052,
     "end_time": "2019-05-10T20:41:11.975820",
     "exception": false,
     "start_time": "2019-05-10T20:41:11.743768",
     "status": "completed"
    },
    "tags": []
   },
   "outputs": [
    {
     "data": {
      "text/html": [
       "<div>\n",
       "<style scoped>\n",
       "    .dataframe tbody tr th:only-of-type {\n",
       "        vertical-align: middle;\n",
       "    }\n",
       "\n",
       "    .dataframe tbody tr th {\n",
       "        vertical-align: top;\n",
       "    }\n",
       "\n",
       "    .dataframe thead th {\n",
       "        text-align: right;\n",
       "    }\n",
       "</style>\n",
       "<table border=\"1\" class=\"dataframe\">\n",
       "  <thead>\n",
       "    <tr style=\"text-align: right;\">\n",
       "      <th></th>\n",
       "      <th>Player</th>\n",
       "      <th>Event</th>\n",
       "      <th>Rating</th>\n",
       "    </tr>\n",
       "  </thead>\n",
       "  <tbody>\n",
       "    <tr>\n",
       "      <th>29687</th>\n",
       "      <td>MINISE</td>\n",
       "      <td>ESWC 2014 European Qualifier</td>\n",
       "      <td>0.84</td>\n",
       "    </tr>\n",
       "    <tr>\n",
       "      <th>26610</th>\n",
       "      <td>NENO</td>\n",
       "      <td>Operation: Kinguin #4</td>\n",
       "      <td>1.11</td>\n",
       "    </tr>\n",
       "    <tr>\n",
       "      <th>9792</th>\n",
       "      <td>k0nfig</td>\n",
       "      <td>Power-LAN 2016</td>\n",
       "      <td>1.25</td>\n",
       "    </tr>\n",
       "    <tr>\n",
       "      <th>45800</th>\n",
       "      <td>xms</td>\n",
       "      <td>Betway Invitational</td>\n",
       "      <td>1.18</td>\n",
       "    </tr>\n",
       "    <tr>\n",
       "      <th>43307</th>\n",
       "      <td>nbl</td>\n",
       "      <td>WCA 2017 South America Finals</td>\n",
       "      <td>1.04</td>\n",
       "    </tr>\n",
       "    <tr>\n",
       "      <th>16927</th>\n",
       "      <td>tabseN</td>\n",
       "      <td>ESWC 2014 European Qualifier</td>\n",
       "      <td>1.10</td>\n",
       "    </tr>\n",
       "    <tr>\n",
       "      <th>29519</th>\n",
       "      <td>MINISE</td>\n",
       "      <td>WePlay! Lock and Load</td>\n",
       "      <td>0.93</td>\n",
       "    </tr>\n",
       "    <tr>\n",
       "      <th>12645</th>\n",
       "      <td>DD</td>\n",
       "      <td>WCA 2017 China Qualifier #1</td>\n",
       "      <td>1.24</td>\n",
       "    </tr>\n",
       "    <tr>\n",
       "      <th>20794</th>\n",
       "      <td>ZOREE</td>\n",
       "      <td>Finnish Esports League Season 5 Finals</td>\n",
       "      <td>0.89</td>\n",
       "    </tr>\n",
       "    <tr>\n",
       "      <th>24470</th>\n",
       "      <td>kressy</td>\n",
       "      <td>ESEA MDL Season 29 Europe</td>\n",
       "      <td>0.95</td>\n",
       "    </tr>\n",
       "  </tbody>\n",
       "</table>\n",
       "</div>"
      ],
      "text/plain": [
       "       Player                                   Event Rating\n",
       "29687  MINISE            ESWC 2014 European Qualifier   0.84\n",
       "26610    NENO                   Operation: Kinguin #4   1.11\n",
       "9792   k0nfig                          Power-LAN 2016   1.25\n",
       "45800     xms                     Betway Invitational   1.18\n",
       "43307     nbl           WCA 2017 South America Finals   1.04\n",
       "16927  tabseN            ESWC 2014 European Qualifier   1.10\n",
       "29519  MINISE                   WePlay! Lock and Load   0.93\n",
       "12645      DD             WCA 2017 China Qualifier #1   1.24\n",
       "20794   ZOREE  Finnish Esports League Season 5 Finals   0.89\n",
       "24470  kressy               ESEA MDL Season 29 Europe   0.95"
      ]
     },
     "execution_count": 6,
     "metadata": {},
     "output_type": "execute_result"
    }
   ],
   "source": [
    "dfRatings.Rating = [x.strip().replace(' *', '') for x in dfRatings.Rating]\n",
    "dfRatings.sample(10)"
   ]
  },
  {
   "cell_type": "markdown",
   "metadata": {
    "papermill": {
     "duration": 0.192053,
     "end_time": "2019-05-10T20:41:12.363907",
     "exception": false,
     "start_time": "2019-05-10T20:41:12.171854",
     "status": "completed"
    },
    "tags": []
   },
   "source": [
    "## Important Events in Chronological Order"
   ]
  },
  {
   "cell_type": "markdown",
   "metadata": {
    "papermill": {
     "duration": 0.194043,
     "end_time": "2019-05-10T20:41:12.755176",
     "exception": false,
     "start_time": "2019-05-10T20:41:12.561133",
     "status": "completed"
    },
    "tags": []
   },
   "source": [
    "For the last part of scraping for this question, I scraped a list of important events (Events with a prizepool of over $4000).\n",
    "I used BeatifulSoup to parse the webpage and collected all the event names from the page, and using the 'next page' link, I continued through all the pages that held the relevant event data."
   ]
  },
  {
   "cell_type": "code",
   "execution_count": 7,
   "metadata": {
    "papermill": {
     "duration": 0.201045,
     "end_time": "2019-05-10T20:41:13.150304",
     "exception": false,
     "start_time": "2019-05-10T20:41:12.949259",
     "status": "completed"
    },
    "tags": []
   },
   "outputs": [],
   "source": [
    "# Functions\n",
    "\n",
    "# Scrape Match URLs\n",
    "def get_urls(soup, urlList):\n",
    "    # Scrape match URLs from match results page\n",
    "    event_box = soup.findAll(attrs={\"class\": \"col-value event-col\"})\n",
    "    for e in event_box:\n",
    "        urlList.append(e.text.strip())\n",
    "\n",
    "    # Create URL for next page\n",
    "    endURL = soup.find(attrs={\"class\": \"pagination-next\"}).get(\"href\")\n",
    "    return urlList, endURL\n",
    "\n",
    "def get_html_soup(url):\n",
    "    # Retrieve HTML using headers\n",
    "    req = urllib.request.Request(url, headers={\"User-Agent\": \"Mozilla/5.0 (Windows NT 6.1) AppleWebKit/537.36 (KHTML, like Gecko) Chrome/41.0.2228.0 Safari/537.3\"})\n",
    "    page = urllib.request.urlopen(req).read()\n",
    "    \n",
    "    # Sleep to prevent overflowing website\n",
    "    time.sleep(2)\n",
    "    \n",
    "    # Parse HTML\n",
    "    soup = BeautifulSoup(page, \"html.parser\")\n",
    "    return soup\n",
    "\n",
    "def get_full_url(endURL):\n",
    "    nextURL = \"https://www.hltv.org\" + endURL\n",
    "    return nextURL"
   ]
  },
  {
   "cell_type": "code",
   "execution_count": 8,
   "metadata": {
    "papermill": {
     "duration": 2.633919,
     "end_time": "2019-05-10T20:41:15.978358",
     "exception": false,
     "start_time": "2019-05-10T20:41:13.344439",
     "status": "completed"
    },
    "tags": []
   },
   "outputs": [],
   "source": [
    "# Download example HTML to understand format\n",
    "# Build opener to bypass 403 error\n",
    "opener = urllib.request.build_opener()\n",
    "opener.addheaders=[('User-Agent','Mozilla/5.0 (Windows NT 6.1) AppleWebKit/537.36 (KHTML, like Gecko) Chrome/41.0.2228.0 Safari/537.3')]\n",
    "urllib.request.install_opener(opener)\n",
    "\n",
    "url = \"https://www.hltv.org/events/archive?prizeMin=4000&prizeMax=1500000\"\n",
    "local = \"EXAMPLE_HTML_2.html\"\n",
    "\n",
    "# Download example HTML file, save as example.html\n",
    "urllib.request.urlretrieve(url,local)\n",
    "\n",
    "# Sleep for 2 seconds\n",
    "time.sleep(2)"
   ]
  },
  {
   "cell_type": "code",
   "execution_count": 9,
   "metadata": {
    "papermill": {
     "duration": 0.296066,
     "end_time": "2019-05-10T20:41:16.470459",
     "exception": false,
     "start_time": "2019-05-10T20:41:16.174393",
     "status": "completed"
    },
    "tags": []
   },
   "outputs": [],
   "source": [
    "# List for match URLS\n",
    "eventURLList = list()\n",
    "\n",
    "# Parse HTML of example HTML downloaded\n",
    "soup = BeautifulSoup(open(\"EXAMPLE_HTML_2.html\",encoding=\"utf8\"), \"html.parser\")\n",
    "\n",
    "# Scrape match URLs from match results page\n",
    "eventURLList, endURL = get_urls(soup, eventURLList)\n",
    "\n",
    "# Form URL\n",
    "nextURL = get_full_url(endURL)"
   ]
  },
  {
   "cell_type": "code",
   "execution_count": 10,
   "metadata": {
    "papermill": {
     "duration": 0.204248,
     "end_time": "2019-05-10T20:41:16.870761",
     "exception": false,
     "start_time": "2019-05-10T20:41:16.666513",
     "status": "completed"
    },
    "scrolled": true,
    "tags": []
   },
   "outputs": [
    {
     "data": {
      "text/plain": [
       "['Grosvenor CS:GO Championship Season 2',\n",
       " 'WePlay! Forge of Masters Season 1 Finals',\n",
       " 'IEM Sydney 2019',\n",
       " 'The Elite Championship Series 2019',\n",
       " 'LOOT.BET Season 2',\n",
       " 'CSL 2019 Spring Finals',\n",
       " \"Lotto Cup Winners' Cup\",\n",
       " 'T.O. Spawn',\n",
       " 'ECS Season 7 North America Week 3',\n",
       " 'ECS Season 7 Europe Week 3',\n",
       " 'Hungarian National Esport Championship Season 1 Finals',\n",
       " 'Insomnia64',\n",
       " 'DreamHack Open Rio 2019',\n",
       " 'CSadria Clan Championship Season 3 Finals',\n",
       " 'Copenhagen Games 2019',\n",
       " 'Copenhagen Games 2019 Female',\n",
       " 'Asian Development League 2019 - Season 1',\n",
       " 'ESEA Rank S Combine',\n",
       " 'Charleroi Esports',\n",
       " 'Baltic Esports League Season 2 Finals',\n",
       " 'BLAST Pro Series Miami 2019',\n",
       " 'LOOT.BET HotShot Series Season 2',\n",
       " 'Cobx Masters',\n",
       " 'StarSeries i-League Season 7',\n",
       " 'ESEA Advanced Season 30 Europe',\n",
       " 'ESL Meisterschaft Spring 2019 Finals',\n",
       " 'LPL Pro League Season 1',\n",
       " 'ESEA MDL Season 30 Europe',\n",
       " 'ESEA Advanced Season 30 North America',\n",
       " 'ESEA MDL Season 30 North America',\n",
       " 'Iskandar Investment Esports Carnival 2019',\n",
       " 'ESEA MDL Season 30 North America All-Star Game',\n",
       " 'ESL Premiership Spring 2019 Finals',\n",
       " 'United Masters League Finals',\n",
       " 'LPCS - Spring Finals 2019',\n",
       " 'GG.BET Sydney Invitational',\n",
       " 'ESEA MDL Season 30 Australia',\n",
       " 'NoxFire League Season 2',\n",
       " 'Aorus League 2019 #1 Finals',\n",
       " 'Dustin Expo Open Finals',\n",
       " 'BLAST Pro Series São Paulo 2019',\n",
       " 'ECS Season 7 North America Week 2',\n",
       " 'ECS Season 7 Europe Week 2',\n",
       " 'LOOT.BET Season 1',\n",
       " 'WESG 2018 World Finals Female',\n",
       " 'WESG 2018 World Finals',\n",
       " 'King of Nordic Season 13',\n",
       " 'ECS Season 7 North America Week 1',\n",
       " 'ECS Season 7 Europe Week 1',\n",
       " 'ESL LA League Season 3 Finals']"
      ]
     },
     "execution_count": 10,
     "metadata": {},
     "output_type": "execute_result"
    }
   ],
   "source": [
    "eventURLList"
   ]
  },
  {
   "cell_type": "code",
   "execution_count": 11,
   "metadata": {
    "papermill": {
     "duration": 46.112994,
     "end_time": "2019-05-10T20:42:03.179799",
     "exception": false,
     "start_time": "2019-05-10T20:41:17.066805",
     "status": "completed"
    },
    "tags": []
   },
   "outputs": [
    {
     "data": {
      "text/plain": [
       "['Grosvenor CS:GO Championship Season 2',\n",
       " 'WePlay! Forge of Masters Season 1 Finals',\n",
       " 'IEM Sydney 2019',\n",
       " 'The Elite Championship Series 2019',\n",
       " 'LOOT.BET Season 2',\n",
       " 'CSL 2019 Spring Finals',\n",
       " \"Lotto Cup Winners' Cup\",\n",
       " 'T.O. Spawn',\n",
       " 'ECS Season 7 North America Week 3',\n",
       " 'ECS Season 7 Europe Week 3',\n",
       " 'Hungarian National Esport Championship Season 1 Finals',\n",
       " 'Insomnia64',\n",
       " 'DreamHack Open Rio 2019',\n",
       " 'CSadria Clan Championship Season 3 Finals',\n",
       " 'Copenhagen Games 2019',\n",
       " 'Copenhagen Games 2019 Female',\n",
       " 'Asian Development League 2019 - Season 1',\n",
       " 'ESEA Rank S Combine',\n",
       " 'Charleroi Esports',\n",
       " 'Baltic Esports League Season 2 Finals',\n",
       " 'BLAST Pro Series Miami 2019',\n",
       " 'LOOT.BET HotShot Series Season 2',\n",
       " 'Cobx Masters',\n",
       " 'StarSeries i-League Season 7',\n",
       " 'ESEA Advanced Season 30 Europe',\n",
       " 'ESL Meisterschaft Spring 2019 Finals',\n",
       " 'LPL Pro League Season 1',\n",
       " 'ESEA MDL Season 30 Europe',\n",
       " 'ESEA Advanced Season 30 North America',\n",
       " 'ESEA MDL Season 30 North America',\n",
       " 'Iskandar Investment Esports Carnival 2019',\n",
       " 'ESEA MDL Season 30 North America All-Star Game',\n",
       " 'ESL Premiership Spring 2019 Finals',\n",
       " 'United Masters League Finals',\n",
       " 'LPCS - Spring Finals 2019',\n",
       " 'GG.BET Sydney Invitational',\n",
       " 'ESEA MDL Season 30 Australia',\n",
       " 'NoxFire League Season 2',\n",
       " 'Aorus League 2019 #1 Finals',\n",
       " 'Dustin Expo Open Finals',\n",
       " 'BLAST Pro Series São Paulo 2019',\n",
       " 'ECS Season 7 North America Week 2',\n",
       " 'ECS Season 7 Europe Week 2',\n",
       " 'LOOT.BET Season 1',\n",
       " 'WESG 2018 World Finals Female',\n",
       " 'WESG 2018 World Finals',\n",
       " 'King of Nordic Season 13',\n",
       " 'ECS Season 7 North America Week 1',\n",
       " 'ECS Season 7 Europe Week 1',\n",
       " 'ESL LA League Season 3 Finals',\n",
       " 'IEM Katowice 2019',\n",
       " 'LanTrek 2019',\n",
       " 'Intel Challenge Katowice 2019',\n",
       " 'United Masters League',\n",
       " 'Underwatch 2019',\n",
       " 'Alienware Game Arena 2019 Split 1',\n",
       " 'DreamHack Leipzig WinterNational',\n",
       " 'QIWI Teamplay Season 3',\n",
       " 'WESG 2018 Japan Finals',\n",
       " 'epic26',\n",
       " 'LAN ETS 2019',\n",
       " 'LOOT.BET HotShot Series Season 1',\n",
       " 'OGA Counter PIT Season 4',\n",
       " 'ESL LA League Season 3 - Brazil',\n",
       " 'GG.BET ICE Challenge',\n",
       " 'ESL India Premiership 2018 Winter Finals',\n",
       " 'WePlay! Lock and Load',\n",
       " 'ASUS ROG Winter 2019',\n",
       " 'ROG Arena Iran 2019',\n",
       " 'CyberGamer Premier League Championship 2018',\n",
       " 'ELEAGUE CS:GO Invitational 2019',\n",
       " 'Indonesia Esports Games 2018',\n",
       " 'Geeks Gone Wild 24',\n",
       " 'Americas Minor - IEM Katowice 2019',\n",
       " 'Asia Minor - IEM Katowice 2019',\n",
       " 'Pixel.bet Brawl: Nordic vs. Europe',\n",
       " 'iBUYPOWER Masters 2019',\n",
       " 'Europe Minor - IEM Katowice 2019',\n",
       " 'CIS Minor - IEM Katowice 2019',\n",
       " 'Hunt Wave League',\n",
       " 'ESL Premiership Winter 2018 Finals',\n",
       " 'LOOT.BET Bullet Blizzard',\n",
       " 'QIWI Teamplay Season 2',\n",
       " 'DreamHack Invitational Mumbai',\n",
       " 'NSG Eastern Conference Championship',\n",
       " 'GeForce CSGO Tournament by OMEN by HP',\n",
       " 'WINNERS League Season 1',\n",
       " 'Rivalry.gg Rising Stars',\n",
       " 'ESL Brazil Premier League Season 7',\n",
       " 'ESWC Africa 2018',\n",
       " 'ESL Masters Spain Winter 2018 Finals',\n",
       " 'WESG 2018 SEA Finals',\n",
       " 'Gfinity Elite Series Australia Season 2',\n",
       " 'NoxFire League',\n",
       " 'ESL Italy Vodafone Championship Winter 2018',\n",
       " 'ESL Meisterschaft Winter 2018 Finals',\n",
       " 'ESL National Championship CZ/SK Kick-off Season',\n",
       " 'Polish Esport League Season 4 Finals',\n",
       " 'BLAST Pro Series Lisbon 2018',\n",
       " 'PLG Grand Slam 2018',\n",
       " 'ESEA Advanced Season 29 Europe',\n",
       " 'LOOT.BET Cup #3 Finals',\n",
       " 'Bucharest Gaming Week Invitational by ESL',\n",
       " 'Dew Gamers Arena 2018',\n",
       " 'ESEA MDL Season 29 Global Challenge',\n",
       " 'ESL Pro League Season 8 Finals',\n",
       " 'ESL Southeast Europe Championship Season 8 Finals',\n",
       " 'Svenska Elitserien 2018',\n",
       " 'Kalashnikov CUP',\n",
       " 'ESEA MDL Season 29 North America All-Star Game',\n",
       " 'DreamHack Open Winter 2018',\n",
       " 'SuperNova CS:GO Malta',\n",
       " 'ESEA Advanced Season 29 North America',\n",
       " 'ESL Proximus Championship Winter 2018',\n",
       " 'Grosvenor CS:GO Championship Season 1',\n",
       " 'Telenor League Fall 2018 Finals',\n",
       " 'Toyota Master Bangkok 2018',\n",
       " 'ECS Season 6 Finals',\n",
       " 'A1 Adria League Season 2 Finals',\n",
       " 'ESL Dutch Championship Winter 2018 Finals',\n",
       " '99Damage League Season 10',\n",
       " 'Asian Development League 2018 - Season 1',\n",
       " 'Master League Portugal Season II',\n",
       " 'OMEN UK Open',\n",
       " 'DreamHack Open Atlanta 2018',\n",
       " 'ESL Latin America League Season 2 Finals',\n",
       " 'ECS Season 6 Europe',\n",
       " 'ESL Pro League Season 8 North America',\n",
       " 'ESL Pro League Season 8 Europe',\n",
       " 'ESL Turkey Championship 2018 Finals',\n",
       " 'WESG 2018 Kazakhstan Regional Finals',\n",
       " 'NSG Academy - Underwatch',\n",
       " 'ESL Australia & NZ Championship Season 7 Finals',\n",
       " 'WESG 2018 United States Regional Finals Female',\n",
       " 'WESG 2018 United States Regional Finals',\n",
       " 'Czech Championship 2018',\n",
       " 'IESF World Championship 2018',\n",
       " 'IEM Chicago 2018',\n",
       " 'WESG 2018 Hong Kong Regional Finals',\n",
       " 'LPL Pro ANZ Invitational Finals',\n",
       " 'Grand Hotshots',\n",
       " 'ECS Season 6 North America',\n",
       " 'ESL Latin America League Season 2',\n",
       " 'ESEA MDL Season 29 Australia',\n",
       " 'ESL Pro League Season 8 Asia',\n",
       " 'Gfinity Spring Series 2018 Europe',\n",
       " 'WESG 2018 Oceania Regional Finals',\n",
       " 'cs_summit 3',\n",
       " 'FPSThailand Pro League Season 5 Finals',\n",
       " 'BLAST Pro Series Copenhagen 2018',\n",
       " 'Assembly GameXpo 2018',\n",
       " 'Baltic Esports League Finals',\n",
       " 'Gfinity Spring Series 2018 North America',\n",
       " 'ESL Pro League Season 8 Oceania',\n",
       " 'WESG 2018 Canada Regional Finals Female',\n",
       " 'Tiger Masters Season 4 Finals',\n",
       " 'WESG 2018 Canada Regional Finals',\n",
       " 'SEA Fire Championship 2018',\n",
       " 'EPICENTER 2018',\n",
       " 'La Liga PRO 2018 Finals',\n",
       " 'CSGOFAST.COM Cup 4',\n",
       " 'EPICENTER 2018 Wild Card Qualifier',\n",
       " 'AOC CyberGamer Premier League Spring 2018 Finals',\n",
       " 'Polbit Arena 2018',\n",
       " \"Grail Quest '18 CS:GO Pro\",\n",
       " 'Gamers Club Masters 2018',\n",
       " 'Nordic Championship Winter 2018',\n",
       " 'eXTREMESLAND 2018 Asia Finals',\n",
       " 'GG.BET Shuffle Closed Qualifier',\n",
       " 'Taiwan Excellence Gaming Cup 2018',\n",
       " 'La Copa 2018 Finals',\n",
       " 'BESL Pro Season 2 Finals',\n",
       " 'GG.BET Shuffle - IEM Chicago Qualifier',\n",
       " 'X-Bet.co Invitational 4',\n",
       " 'Thunderpick Invitational #3',\n",
       " 'MyTime League',\n",
       " 'ESL Brazil Premier League Season 6',\n",
       " 'ESL Pro European Championship',\n",
       " 'ESL India Premiership 2018 Fall Finals',\n",
       " 'StarSeries i-League Season 6',\n",
       " 'GameForce Masters',\n",
       " 'NetParty Fyn 2018',\n",
       " 'Logitech G Challenge Grand Final 2018',\n",
       " 'Brasil Game Cup 2018 Female Finals',\n",
       " 'ESL Polish Championship Season 17 Finals',\n",
       " 'Brasil Game Cup 2018 Finals',\n",
       " 'Dew Arena 2018',\n",
       " 'Hellcase Cup 7',\n",
       " 'WESG 2018 Russia by OMEN LAN',\n",
       " 'King of Nordic Season 12',\n",
       " 'WESG 2018 Russia by OMEN LAN Female',\n",
       " 'Finnish Esports League Season 5 Finals',\n",
       " 'WESG 2018 China Regional Finals',\n",
       " 'ESL Polish Championship Season 17',\n",
       " 'Gametoon Challenge',\n",
       " 'GALLERIA GAMEMASTER Cup 2018',\n",
       " 'MSI MGA Finals',\n",
       " 'Games Clash Masters 2018',\n",
       " 'ESL One New York 2018',\n",
       " 'BLAST Pro Series Istanbul 2018',\n",
       " 'WESG 2018 Russia by OMEN Closed Qualifier',\n",
       " 'FACEIT Major 2018',\n",
       " 'GG.BET Summer CIS + EU',\n",
       " 'VS Gaming Masters 2018 Finals',\n",
       " 'eXTREMESLAND 2018 China Regional Finals',\n",
       " 'Cross Border Esport 2018',\n",
       " 'DreamHack Open Montreal 2018',\n",
       " 'Cross Border Esport 2018 Female Finals',\n",
       " 'ESEA MDL Season 28 Europe',\n",
       " 'GG.BET Summer Brazil',\n",
       " 'ALTEL Cyber Games',\n",
       " 'Supreme Masters Switzerland 2018',\n",
       " 'Cougar CS:GO Open',\n",
       " 'DreamHack Masters Stockholm 2018',\n",
       " 'Lebanese Gaming Championship 2018',\n",
       " 'Fusion.bet Masters II',\n",
       " 'UK Masters Insomnia63',\n",
       " 'ZOTAC Cup Masters 2018 Grand Finals',\n",
       " 'ESEA Advanced Season 28 North America',\n",
       " 'GG.BET Summer Europe',\n",
       " 'ESL Meisterschaft Summer 2018 Finals',\n",
       " 'GG.BET Summer CIS',\n",
       " 'CSGO.NET Cup 3',\n",
       " 'ESEA Advanced Season 28 Europe',\n",
       " 'ESEA Open Season 28 Brazil',\n",
       " 'OGA Counter PIT Season 3',\n",
       " 'ESEA MDL Season 28 Australia',\n",
       " 'ESL UK Premiership Summer 2018 Finals',\n",
       " '99Damage League Season 9',\n",
       " 'X-BET.co Invitational 3',\n",
       " 'IEM Shanghai 2018',\n",
       " 'Fragadelphia 12',\n",
       " 'BravoBet Cup',\n",
       " 'Finnish Championships 2018',\n",
       " 'MID.TV Cyber Cup',\n",
       " 'ELEAGUE CS:GO Premier 2018',\n",
       " 'ESEA MDL Season 28 North America',\n",
       " 'AOC CyberGamer Premier League Winter 2018 Finals',\n",
       " 'GIRLGAMER Esports Festival 2018',\n",
       " 'Europe Minor - FACEIT Major 2018',\n",
       " 'Rivalry CIS Invitational',\n",
       " 'Asia Minor - FACEIT Major 2018',\n",
       " 'QIWI TEAM PLAY Season 1',\n",
       " 'Tokyo in Tulsa 2',\n",
       " 'Thunderpick Invitational #2',\n",
       " 'ESL Masters Spain Spring 2018 Finals',\n",
       " 'DreamHack Open Valencia 2018',\n",
       " 'Gfinity Elite Series Australia Season 1',\n",
       " 'CIS Minor - FACEIT Major 2018',\n",
       " 'Americas Minor - FACEIT Major 2018',\n",
       " 'NeSA 2018',\n",
       " 'ESL One Cologne 2018',\n",
       " 'ESL Southeast Europe Championship Season 7',\n",
       " 'Esports Balkan League Season 2',\n",
       " 'ZOTAC Cup Masters 2018 Americas Regional Finals',\n",
       " 'ESL Italy Championship Summer 2018',\n",
       " 'ESL National Championship France Summer 2018',\n",
       " 'Worten Game Ring - Rock in Rio 2018',\n",
       " 'M.Game League 2 Finals',\n",
       " 'ESL Benelux Summer Championship 2018 Finals',\n",
       " 'PMU Challenge 2018 Finals',\n",
       " 'ESL India Premiership 2018 Summer Finals',\n",
       " 'ZOTAC Cup Masters 2018 Europe Regional Finals',\n",
       " 'Polish Esport League Season 3 Finals',\n",
       " 'Betspawn Cup: Nordic vs CIS',\n",
       " 'DreamHack Open Summer 2018',\n",
       " 'CS:GO Asia Championships 2018',\n",
       " 'Good Game League 2018',\n",
       " 'ESL Australia & NZ Championship Season 6 Finals',\n",
       " 'ESL One Belo Horizonte 2018',\n",
       " 'Superliga Final Four',\n",
       " 'King of Nordic Season 11',\n",
       " 'Moche XL Esports',\n",
       " 'ECS Season 5 Finals',\n",
       " 'Master League Portugal',\n",
       " 'ZOTAC Cup Masters 2018 Asia-Pacific Regional Finals',\n",
       " 'ESL Brazil Premier League Season 5',\n",
       " 'GG.BET Majestic - ESL One Cologne Qualifier',\n",
       " 'X-BET.co Invitational 2',\n",
       " 'DreamHack Open Austin 2018',\n",
       " 'StarSeries i-League Season 5',\n",
       " 'Kayzr League Finals',\n",
       " 'BESL Pro Season 1 Finals',\n",
       " 'Telenor League Spring 2018',\n",
       " 'Adrenaline Cyber League 2018',\n",
       " 'DreamHack Open Tours 2018',\n",
       " 'Saint Petersburg Impulse CS:GO Championship',\n",
       " 'ESL Pro League Season 7 Finals',\n",
       " 'Gamdom Premier',\n",
       " 'esportsbetting.com Launch Invitational',\n",
       " 'Gfinity Winter Series 2018 North America',\n",
       " 'Fusion.bet Masters',\n",
       " 'GG.BET Ascensão',\n",
       " 'ESEA Main Season 27 Europe',\n",
       " 'FPSThailand Pro League Season 4 Finals',\n",
       " 'ESL Polish Championship Spring 2018 Finals',\n",
       " 'ESEA Season 27 MDL Global Challenge',\n",
       " 'Birdie King of Nordic 2018',\n",
       " 'ECS Season 5 Europe',\n",
       " 'GOCASE Challenge',\n",
       " 'ESL Latin America League Season 1 Finals',\n",
       " \"ESL Women's Sydney Open Finals\",\n",
       " 'IEM Sydney 2018',\n",
       " 'Gfinity Winter Series 2018 Europe',\n",
       " 'WCA 2017 Finals',\n",
       " 'Adria Masters Season 2 - Road to LOGIN',\n",
       " 'ESL Latin America League Season 1',\n",
       " 'Qi Invitational',\n",
       " 'ESL Pro League Season 7 North America',\n",
       " 'ESL Pro League Season 7 Europe',\n",
       " 'ForceDrop.net Cup 1',\n",
       " '99Damage League Season 8',\n",
       " 'ESL Pro League Season 7 Asia-Pacific',\n",
       " 'DreamHack Masters Marseille 2018',\n",
       " 'ESEA Main Season 27 North America',\n",
       " 'Pro Gamer League Asian Invitational 2018',\n",
       " 'DMarket.com Spring Cup',\n",
       " 'ESL UK Premiership Spring 2018 Finals',\n",
       " 'XINHUA Electronic Sports Conference',\n",
       " 'AVGL Spring 2018 Finals',\n",
       " 'ESEA MDL Season 27 North America All-Star Game',\n",
       " 'GG:Origin - IEM Sydney 2018 Qualifier',\n",
       " 'ESL Meisterschaft Spring 2018 Finals',\n",
       " 'Western Digital CyberGamer Premier League Autumn 2018 Finals',\n",
       " 'Bets.net Masters',\n",
       " 'GOTV.GG Invitational #3',\n",
       " 'Douyu Super League 2018 Spring',\n",
       " 'King of Nordic Season 10',\n",
       " 'CSGO.NET Cup 2',\n",
       " 'CS:GO Asia Summit 2018',\n",
       " 'Bets.net Challenger Series',\n",
       " 'ESEA MDL Season 27 Australia',\n",
       " 'Copenhagen Games 2018',\n",
       " 'Copenhagen Games 2018 Female',\n",
       " 'Douyu Asian Challenge Series #1',\n",
       " 'Game In Mako Fest 2018',\n",
       " 'Alpha Invitational Season 1 Finals',\n",
       " 'M.Game League',\n",
       " 'V4 Future Sports Festival',\n",
       " 'StarLadder ImbaTV Invitational Chongqing 2018',\n",
       " 'Australian Esports Masters Season 4 Finals',\n",
       " 'Global Offensive Champions League Season 7',\n",
       " 'EGB Battles',\n",
       " 'iBUYPOWER Invitational Spring 2018',\n",
       " 'WESG 2017 World Finals',\n",
       " 'WESG 2017 World Finals Female',\n",
       " 'Mad City Chicago CS:GO Open',\n",
       " 'CSGOFAST.COM CUP 3',\n",
       " 'CSGOROLL Asian Masters',\n",
       " 'IEM Katowice 2018',\n",
       " 'LanTrek 2018',\n",
       " 'Puchar Polski Cybersport Spring 2018 Finals',\n",
       " 'Finnish Esports League Season 4 Finals',\n",
       " 'Play2Live Cryptomasters',\n",
       " 'StarSeries i-League Season 4',\n",
       " 'Intel Challenge Katowice 2018',\n",
       " 'Cybersport Festival Defender',\n",
       " 'Play2live Showmatch by GameAgents',\n",
       " 'Malta Esport Masters 2018',\n",
       " 'Legends Cup',\n",
       " 'cs_summit 2',\n",
       " 'Ecenter Copernicup 2018',\n",
       " 'WESG 2017 South America Regional Finals Female',\n",
       " 'WESG 2017 South America Regional Finals',\n",
       " 'WESG 2017 North America Regional Finals Female',\n",
       " 'WESG 2017 North America Regional Finals',\n",
       " 'Assembly Winter 2018',\n",
       " 'SMK GO CUP',\n",
       " 'CSEsport.com Asia Invitational',\n",
       " 'QIWI TEAM PLAY WINTER 2018',\n",
       " 'ESL Southeast Europe Championship Season 6 Finals',\n",
       " 'ELEAGUE Major 2018',\n",
       " 'GeForce Cup 2017 GCC & MENA Finals',\n",
       " 'King of Nordic Season 9',\n",
       " 'DaddySkins Western League',\n",
       " 'Malaysia Cyber Games 2018',\n",
       " 'WESG 2017 Asia-Pacific Regional Finals',\n",
       " 'Geeks Gone Wild 23',\n",
       " 'WESG 2017 Asia-Pacific Regional Finals Female',\n",
       " 'Daddyskins Asia Super League',\n",
       " 'ESEA Season 26 MDL Global Challenge',\n",
       " 'Letou Invitational',\n",
       " 'Mother Russia 2',\n",
       " 'Legend Series China Qualifier',\n",
       " 'Winner of the Future 2017',\n",
       " 'Douyu CS:GO Asia Invitational #2',\n",
       " 'CSGOFAST.COM CUP 2',\n",
       " 'OZ Cup 1',\n",
       " 'CSGO.NET Cup 1',\n",
       " 'CEVO Main Season 13 Europe',\n",
       " 'ECS Season 4 Finals',\n",
       " 'ESL India Premiership 2017 Winter Finals',\n",
       " 'LOOT.BET Nations Elite Esports Cup',\n",
       " 'ESL Meisterschaft Winter 2017 Finals',\n",
       " 'Ownit 2017 Winter Finals',\n",
       " 'ESL National Championship France Winter 2017',\n",
       " 'FPSThailand Pro League Season 3 Finals',\n",
       " 'Esports Balkan League Season 1 Finals',\n",
       " 'AOC CyberGamer Premier League Championship 2017',\n",
       " 'ESEA Main Season 26 Europe',\n",
       " 'ESEA Open Season 26 Brazil',\n",
       " 'ESEA Main Season 26 North America',\n",
       " 'Vreecase Cup #2',\n",
       " 'Esports European League',\n",
       " 'ESL Pro League Season 6 Finals',\n",
       " 'MID.TV Challenge Cup #1',\n",
       " 'Kings of the Baltics Finals',\n",
       " 'Australian Esports Masters Season 3 Finals',\n",
       " 'ROG MASTERS 2017 Grand Finals',\n",
       " 'Gfinity Elite Series Season 2',\n",
       " 'Legion Challenge 2017',\n",
       " 'CEVO Main Season 13 North America',\n",
       " 'Skinhub Season 2',\n",
       " 'Polish Esport League Season 2 Finals',\n",
       " 'DreamHack Open Winter 2017 BYOC',\n",
       " 'CS:GO Super League 2017 Finals',\n",
       " '99Damage League Season 7',\n",
       " 'ESL Masters Spain Winter 2017 Finals',\n",
       " 'DreamHack Open Winter 2017',\n",
       " 'CyberPowerPC Extreme Gaming Series Winter 2017',\n",
       " 'WESG 2017 Malaysia LAN',\n",
       " 'Superliga Finals 2017',\n",
       " 'Nordic Championship Season 2 Finals',\n",
       " 'GEXT 2017 SEA Finals',\n",
       " 'FCDB Cup 2017',\n",
       " 'Challenge of the Gods 2017',\n",
       " 'WESG 2017 Europe & CIS Regional Finals Female',\n",
       " 'WESG 2017 Europe & CIS Regional Finals',\n",
       " 'Vip Adria League Season 1 Finals',\n",
       " 'BLAST Pro Series Copenhagen 2017',\n",
       " 'China Top 2017 Shenzhen',\n",
       " 'ECS Season 4 Europe',\n",
       " 'ESEA MDL Season 26 Australia',\n",
       " 'Omen Strike One 2017',\n",
       " 'IEM Oakland 2017',\n",
       " 'ESL Benelux Winter Championship 2017',\n",
       " 'WEGL 2017 Super Fight Invitational',\n",
       " 'ZEN League Season 2 Finals',\n",
       " 'Moche LPGO',\n",
       " 'MakeMy.Bet Championship #1',\n",
       " 'WCA 2017 Europe Main Qualifier',\n",
       " 'MOBAGAME Cup #1',\n",
       " 'iBUYPOWER Masters 2017',\n",
       " 'Philips OneBlade Cup 2017',\n",
       " 'Czech Championship 2017',\n",
       " 'ESL Pro League Season 6 North America',\n",
       " 'WESG 2017 Iberia LAN Female',\n",
       " 'WESG 2017 Iberia LAN',\n",
       " 'Telenor League Fall 2017',\n",
       " 'IeSF World Championship 2017',\n",
       " 'ESL Pro League Season 6 Europe',\n",
       " 'Experience League 2017',\n",
       " 'ESL Turkey Championship 2017 Finals',\n",
       " 'Conquerors Insignia 2017',\n",
       " 'Americas Minor - ELEAGUE Major 2018',\n",
       " 'Europe Minor - ELEAGUE Major 2018',\n",
       " 'SL i-League Invitational Shanghai 2017',\n",
       " 'AOC CyberGamer Premier League Spring 2017 Finals',\n",
       " 'ESWC 2017',\n",
       " 'CSGOFAST.COM CUP 1',\n",
       " 'WCA 2017 North America Finals',\n",
       " 'CIS Minor - ELEAGUE Major 2018',\n",
       " 'Asia Minor - ELEAGUE Major 2018',\n",
       " 'EPICENTER 2017',\n",
       " 'ESL Clash of Nations',\n",
       " 'EPICENTER 2017 Wild Card Qualifier',\n",
       " '4Gamers CS:GO Masters Porto',\n",
       " \"St. Petersburg Governor's Cup\",\n",
       " 'DreamHack Open Denver 2017',\n",
       " 'eXTREMESLAND 2017 Asia Finals',\n",
       " 'King of Nordic Season 8',\n",
       " 'WCA 2017 China Qualifier Wild Card',\n",
       " 'ESL India Premiership 2017 Fall Finals',\n",
       " 'ELEAGUE CS:GO Premier 2017',\n",
       " 'iGame.com Nordic Invitational 2',\n",
       " 'ZEN League Season 2',\n",
       " 'Hellcase Cup 6',\n",
       " 'WCA 2017 South America Finals',\n",
       " 'Polish Cup Cybersport',\n",
       " 'ESL African Championship Season 2 Finals',\n",
       " 'NGC Masters 2017',\n",
       " 'ESL Brazil Premier League #4',\n",
       " 'Finnish Esports League Season 3 Finals',\n",
       " 'CyberPowerPC Extreme Gaming Series Fall 2017',\n",
       " 'PC-Coolers League Season 2 Finals',\n",
       " 'Dew Arena 2017',\n",
       " 'China Top 2017 Kunshan',\n",
       " 'Connection LAN 2017',\n",
       " 'WCA 2017 Middle-East & North Africa Qualifier',\n",
       " 'Australian Esports Masters Season 2 Finals',\n",
       " 'ESL UK Premiership Autumn 2017 Finals',\n",
       " 'ESEA Season 25 MDL Global Challenge',\n",
       " 'WorldGaming CS:GO Canadian Championship Series 2017',\n",
       " 'eXTREMESLAND 2017 China Regional Finals',\n",
       " 'GameOn III Finals',\n",
       " 'ROG MASTERS 2017 Malaysia Regional Finals',\n",
       " 'ROG MASTERS 2017 Indonesia Regional Finals',\n",
       " 'eXTREMESLAND 2017 Japan Regional Finals',\n",
       " 'ESL Polish Championship Summer 2017 Finals',\n",
       " 'ESL One New York 2017',\n",
       " 'Mother Russia 1xBet',\n",
       " 'WESG 2017 China Finals Female',\n",
       " 'WESG 2017 China Finals',\n",
       " 'German Clash Season 2 Finals',\n",
       " 'Cross Border Esport 2017',\n",
       " 'DreamHack Open Montreal 2017',\n",
       " 'ESG Tour Mykonos 2017',\n",
       " 'ROG MASTERS 2017 Singapore Finals',\n",
       " 'Cross Border Esport 2017 Female Finals',\n",
       " '99Damage League Season 6',\n",
       " 'GIRLGAMER Esports Festival 2017',\n",
       " 'ROG MASTERS 2017 TW, HK & MO Regional Finals',\n",
       " 'DreamHack Masters Malmö 2017',\n",
       " 'ROG MASTERS 2017 Korea Qualifier',\n",
       " 'Gfinity Elite Series Season 1',\n",
       " 'Binary Dragons Prestige LAN',\n",
       " 'CSBETGO CUP #1',\n",
       " '91Lounge Cup #1',\n",
       " 'ESL Meisterschaft Summer 2017 Finals',\n",
       " 'UK Masters Summer 2017 Finals',\n",
       " 'Arab Gaming Championship 2017 Summer Open',\n",
       " 'ESL Major League Summer 2017',\n",
       " 'ESEA Main Season 25 Europe',\n",
       " 'ESEA Main Season 25 North America',\n",
       " 'ESL Australia & NZ Championship Season 4 Finals',\n",
       " 'G:loot Cup Summer 2017',\n",
       " 'ROG MASTERS 2017 South Asia Regional Finals',\n",
       " 'ROG MASTERS 2017 EMEA Qualifier',\n",
       " 'Unikrn TV Australian Showdown',\n",
       " 'Skinhub CS:GO Championship #1',\n",
       " 'ESEA MDL Season 25 Australia',\n",
       " 'iBUYPOWER GameFest 2017',\n",
       " 'ESL Meisterschaft Summer 2017',\n",
       " 'ROG MASTERS 2017 Benelux Finals',\n",
       " 'ROG MASTERS 2017 Nordic Qualifier',\n",
       " 'Nordic Championship Season 1 Finals',\n",
       " 'ESPORTSM.fi 2017 Finals',\n",
       " 'WCA 2017 Asia-Pacific Closed Qualifier',\n",
       " 'Copa Brasil 2017 Finals',\n",
       " 'Fragadelphia 11',\n",
       " 'Gamers Club Masters 2017',\n",
       " 'AOC CyberGamer Premier League Winter 2017 Finals',\n",
       " 'DreamHack Open Atlanta 2017',\n",
       " 'PGL Major Krakow 2017',\n",
       " 'ESL African Championship Season 1',\n",
       " 'DreamHack Open Valencia 2017',\n",
       " 'Hellcase Cup 5',\n",
       " \"Lordi'S Game Cup\",\n",
       " 'fpsGOD Super League Winter',\n",
       " 'DigitalityX',\n",
       " 'GAME Stadium 2017',\n",
       " 'NeSA 2017',\n",
       " 'ESL One Cologne 2017',\n",
       " 'FPSThailand x SteelSeries Pro League Season 2',\n",
       " 'King of Nordic Season 7',\n",
       " 'Polish Esport League Season 1',\n",
       " 'Australian Esports Masters Season 1 Finals',\n",
       " 'ESL Masters Spain Spring 2017 Finals',\n",
       " 'ESL India Premiership 2017 Summer Finals',\n",
       " 'ESL National Championship France Summer 2017',\n",
       " \"DolphinCS Shoot 'Em Up 3\",\n",
       " 'ECS Season 3 Finals',\n",
       " 'ESL Benelux Summer Championship 2017 Finals',\n",
       " 'ESL Southeast Europe Championship Season 5 Finals',\n",
       " 'Razer Rising Stars South-East Asian League',\n",
       " 'ESU Masters 2017',\n",
       " 'DreamHack Open Summer 2017',\n",
       " 'Adrenaline Cyber League 2017',\n",
       " 'ZEN Esports Network League Season 1 Finals',\n",
       " 'CyberPowerPC Extreme Gaming Series Spring 2017',\n",
       " 'Europe Minor - PGL Major Krakow 2017',\n",
       " 'ZOTAC Cup Elite eSports Arena',\n",
       " 'ELEAGUE Clash for Cash',\n",
       " 'ESL Brazil Premier League #3',\n",
       " 'Yoggi Yalla Cup 2017',\n",
       " 'CIS Minor - PGL Major Krakow 2017',\n",
       " 'Americas Minor - PGL Major Krakow 2017',\n",
       " 'CEVO Main Season 12 North America',\n",
       " 'Farmskins Championship #1',\n",
       " 'ECS Season 3 North America',\n",
       " 'ECS Season 3 Europe',\n",
       " 'CEVO Main Season 12 Europe',\n",
       " 'Global Offensive Champions League Season 6',\n",
       " 'Binary Dragons csgopolygon Cup 6',\n",
       " 'Asia Minor - PGL Major Krakow 2017',\n",
       " 'ESL Pro League Season 5 Finals',\n",
       " 'GeForce Cup 2017',\n",
       " 'BirdieLAN 27',\n",
       " 'The Adria Masters Season 1 Finals',\n",
       " 'Hellcase Cup 4',\n",
       " 'ESL Australia & NZ Championship Season 3 Finals',\n",
       " 'Telenor League Spring 2017',\n",
       " 'Cougar CS:GO Tournament LAN Final',\n",
       " 'BeyondGodlike CS:GO SEA Pro League',\n",
       " 'Subaru Invitational 2017',\n",
       " 'HTC 2v2 Invitational by PGL',\n",
       " 'ESEA Season 24 MDL Global Challenge',\n",
       " '99Damage League Season 5',\n",
       " 'ESL Pro League Season 5 North America',\n",
       " 'ESL Pro League Season 5 Europe',\n",
       " 'WCA 2017 China Qualifier #1',\n",
       " 'DreamHack Open Tours 2017',\n",
       " '4Gamers CS:GO Masters',\n",
       " 'Esports Arena Showdown Championship',\n",
       " 'Mettlestate Galaxy CS:GO Championship 2017',\n",
       " 'IEM Sydney 2017',\n",
       " 'ESL Meisterschaft Spring 2017 Finals',\n",
       " 'BETSCSGO CUP #1',\n",
       " 'ESL Major League Spring 2017',\n",
       " 'ESL Polish Championship Spring 2017 Finals',\n",
       " 'DreamHack Open Austin 2017',\n",
       " 'Douyu CS:GO Asia Invitational',\n",
       " 'ESEA Main Season 24 Europe',\n",
       " 'China Internet Gaming 2016 Finals',\n",
       " 'cs_summit Spring 2017',\n",
       " 'ESEA Main Season 24 North America',\n",
       " 'ZEN Esports Network League Season 1',\n",
       " 'Copenhagen Games 2017',\n",
       " 'Copenhagen Games 2017 Female',\n",
       " 'UK Masters Spring 2017 Finals',\n",
       " 'Danish Championship 2017',\n",
       " 'ESEA MDL Season 24 Australia',\n",
       " 'Brasil Game Cup Rio 2017',\n",
       " 'SL i-League StarSeries Season 3 Finals',\n",
       " 'Acer CyberGamer Premier League Autumn 2017 Finals',\n",
       " 'Arab Gaming Championship 2017 Winter Open',\n",
       " 'Operation: Kinguin #4',\n",
       " 'Binary Dragons csgopolygon Season 1',\n",
       " 'Hellcase Cup 3',\n",
       " 'iBUYPOWER Invitational Spring 2017',\n",
       " 'FPSThailand x SteelSeries Pro League Season 1',\n",
       " 'China Cup 2017',\n",
       " 'ESL UK Premiership Spring 2017 Finals',\n",
       " 'Razer Rising Stars European League Season 1',\n",
       " 'eSportsArcadeTV Cup #2',\n",
       " 'Epsilan 14',\n",
       " 'IEM Katowice 2017',\n",
       " 'LanTrek 2017',\n",
       " 'Intel Challenge Katowice 2017',\n",
       " 'DreamHack Masters Las Vegas 2017',\n",
       " 'Hellcase Cup 2',\n",
       " 'CEVO Main Season 11 Europe',\n",
       " 'iGame.com Winter Invitational',\n",
       " 'CEVO Main Season 11 North America',\n",
       " 'Assembly Winter 2017',\n",
       " 'ELEAGUE Major 2017',\n",
       " 'Fragadelphia 10',\n",
       " 'DreamHack ASTRO Open Leipzig 2017',\n",
       " 'WESG 2016 World Finals',\n",
       " 'ESEA Season 23 MDL Global Challenge',\n",
       " 'The Masters 2017 -  Amateurs',\n",
       " 'ESL Major Winter 2016 Spain',\n",
       " 'LVP Season 11 Division de Honor Finals',\n",
       " 'China Top 2016',\n",
       " '99Damage League Season 4',\n",
       " 'Global Offensive Champions League Season 5',\n",
       " 'ESL National Championship France Winter 2016',\n",
       " 'WCA 2016 Finals',\n",
       " 'ECS Season 2 Finals',\n",
       " 'AlienTech CS:GO League Season II Finals',\n",
       " 'UK Masters Season 2 Finals',\n",
       " 'eSportsArcadeTV Cup',\n",
       " 'UK Masters Season 2',\n",
       " 'VitalBet Balkan Pro League Finals',\n",
       " 'ESEA MDL Season 23 North America',\n",
       " 'ELEAGUE Season 2',\n",
       " 'ECS Season 2 Europe',\n",
       " 'ESL Benelux Winter Championship 2016 Finals',\n",
       " 'ESU Razer CS:GO Ladies Tournament 2016',\n",
       " 'IGL 2016 - Grand Final',\n",
       " 'ESL Meisterschaft Winter 2016 Finals',\n",
       " 'DreamHack ZOWIE Open Winter 2016',\n",
       " 'DreamHack Nordic Championship 2016',\n",
       " 'ESEA MDL Season 23 Oceania',\n",
       " 'ECS Season 2 North America',\n",
       " 'Copa GO4Gold #1',\n",
       " 'Betway WCA 2016 EU Main Qualifier',\n",
       " 'IEM Oakland 2016',\n",
       " 'AnyKey Invitational 2016',\n",
       " 'VSL Season 2',\n",
       " 'WCA 2016 Americas',\n",
       " 'iBUYPOWER Masters 2016',\n",
       " 'StarLadder Regional Minor Championship CIS - ELEAGUE Major 2017',\n",
       " 'ROG MASTERS Asia 2016',\n",
       " 'WESG 2016 Asia-Pacific Regional Finals',\n",
       " 'Northern Arena 2016 - Montreal',\n",
       " 'Telenor League Winter 2016',\n",
       " 'Mr. Cat Masters Asian',\n",
       " 'ASUS ROG GameXpo 2016',\n",
       " 'PGL Regional Minor Championship Europe - ELEAGUE Major 2017',\n",
       " 'Predator Masters 3',\n",
       " 'ESL Australia & NZ Championship Season 2 Finals',\n",
       " 'ESEA MDL Season 23 Europe',\n",
       " 'ESWC 2016 Female',\n",
       " 'GameOn 2016',\n",
       " 'PGL Regional Minor Championship Asia - ELEAGUE Major 2017',\n",
       " 'ESWC 2016',\n",
       " 'ESL Pro League Season 4 Finals',\n",
       " 'ESL Brazil Premier League #2 Finals',\n",
       " 'WCA 2016 China Qualifier 3',\n",
       " 'ZOTAC World Cup',\n",
       " 'WESG 2016 North & South Americas Regional Finals',\n",
       " 'EPICENTER: Moscow',\n",
       " 'iGame.com Nordic Invitational',\n",
       " 'Team Ownit Challenge',\n",
       " 'League of Sharks CS:GO Championship',\n",
       " 'ESL Pro League Season 4 - Europe',\n",
       " 'ESL Pro League Season 4 - North America',\n",
       " 'WESG 2016 Europe & CIS Regional Finals',\n",
       " 'IeSF World Championship 2016',\n",
       " 'World Championship 2016',\n",
       " 'ESWC 2016 Poland',\n",
       " 'EPICENTER: Moscow CIS Closed Qualifier',\n",
       " 'WESG 2016 China Finals',\n",
       " 'Adrenaline Cyber League Finals',\n",
       " 'ESL One New York 2016',\n",
       " 'ESL Polish Championship 2016 Finals',\n",
       " 'EB Expo Sydney Finals',\n",
       " 'Kinguin for Charity with PayPal',\n",
       " 'EPICENTER: Moscow EU Closed Qualifier',\n",
       " 'CSL 2016 Finals',\n",
       " 'Gfinity CS:GO Invitational 2016',\n",
       " 'eXTREMESLAND 2016 Asia Finals',\n",
       " 'Game Show Spring Invitational 2016',\n",
       " 'Hitbox Challenger Cup #2',\n",
       " 'iBUYPOWER Invitational Fall 2016',\n",
       " 'DreamHack ZOWIE Open Bucharest 2016',\n",
       " 'Game Evolution',\n",
       " 'SL i-League StarSeries Season 2 Finals',\n",
       " 'BlasterX INETKOX League Season 1',\n",
       " 'Brasil Game Cup 2016',\n",
       " 'Evetech Champions League 2016',\n",
       " 'Northern Arena 2016 - Toronto',\n",
       " 'WCA Season 2 China Finals',\n",
       " 'PGL National Division Season 2 Finals',\n",
       " 'GG Masters',\n",
       " 'xfunction Masters 2016',\n",
       " 'eXTREMESLAND 2016 China Regional Finals',\n",
       " 'Global Offensive Champions League Season 4',\n",
       " 'CyberPowerPC Summer 2016 Pro Series',\n",
       " 'ESEA Season 22 MDL Global Challenge',\n",
       " 'WESG 2016 Africa & Middle East Regional Finals',\n",
       " 'Power-LAN 2016',\n",
       " 'VSL Season 1',\n",
       " 'eSports Festival 2016',\n",
       " 'CyberGamer Oceania Esports Masters Finals',\n",
       " 'ESL Meisterschaft Summer 2016 Finals',\n",
       " 'ESEA Premier Season 22 Europe',\n",
       " 'Stream.me Gauntlet EU #1',\n",
       " '2016 D-Fire Lan Final',\n",
       " 'ESEA Premier Season 22 North America',\n",
       " 'ROG CS:GO Hong Kong Tournament',\n",
       " '99Damage League Season 3',\n",
       " 'ASUS ROG Summer 2016',\n",
       " 'Peliliiga eSM 2016',\n",
       " 'Operation: Kinguin #3',\n",
       " 'ESL Brazil Premier League #1',\n",
       " 'ELEAGUE Season 1',\n",
       " 'MixBOT Pro-League Golden',\n",
       " 'ESL Australia & NZ Championship Season 1 Finals',\n",
       " 'Pro Gamer League 2016 Summer Finals',\n",
       " 'StarLadder Female Stars Championship',\n",
       " 'iBUYPOWER Invitational Summer 2016',\n",
       " 'DreamHack Valencia 2016',\n",
       " 'Game Show Open Season 4 Playoffs',\n",
       " 'ESL One Cologne 2016',\n",
       " 'NEA 2016 Finals',\n",
       " 'ECS Season 1 Finals',\n",
       " 'DreamHack ZOWIE Open Summer 2016',\n",
       " 'Razer Rising Stars South American League Season 1',\n",
       " 'Balkan Championship Season 3',\n",
       " 'MLG Regional Minor Championship Americas',\n",
       " 'SL i-League Invitational #1',\n",
       " 'WCA Season 1 APAC Finals',\n",
       " 'WCA Season 1 China Finals',\n",
       " 'DreamHack Regional Minor Championship Europe at DH Tours 2016',\n",
       " 'ESEA Premier Season 21 North America Finals',\n",
       " 'ESL Pro League Season 3 Finals',\n",
       " 'DreamHack Austin 2016',\n",
       " 'PGL KeSPA Regional Minor Championship Asia',\n",
       " 'ESEA Premier Season 21 Europe Finals',\n",
       " 'StarLadder Minor CIS - Cologne 2016',\n",
       " 'CEVO Gfinity Professional Season 9 Finals',\n",
       " 'Pro Gamers League 2016 Spring',\n",
       " 'Rising Stars SEA Promotional Cup',\n",
       " 'DreamHack Masters Malmö 2016',\n",
       " 'AlienTech CS:GO League Season I Finals',\n",
       " 'MLG Columbus 2016',\n",
       " 'Copenhagen Games 2016 female',\n",
       " 'Copenhagen Games 2016',\n",
       " 'iBUYPOWER Invitational Spring 2016',\n",
       " 'Telkom DGL Masters 2016 Cape Town',\n",
       " 'Counter Pit League Season 2 Finals',\n",
       " 'Intel Challenge Katowice 2016',\n",
       " 'IEM Katowice 2016',\n",
       " 'Pantamera CS:GO Challenge 2016',\n",
       " 'ESL Barcelona CS:GO Invitational presented by Mobile World Congress',\n",
       " 'Acer Predator Masters powered by Intel Season 2 Finals',\n",
       " 'Game Show Global eSports Cup 2016 Finals',\n",
       " 'Assembly Winter 2016',\n",
       " 'IEM Taipei 2016',\n",
       " 'PGL Regional Minor Championship Europe',\n",
       " 'StarLadder Regional Minor Championship CIS',\n",
       " 'DreamHack ZOWIE Open Leipzig 2016',\n",
       " 'MLG Americas Minor Championship',\n",
       " 'SL i-League StarSeries XIV Finals',\n",
       " 'MAX5 Invitational',\n",
       " 'Fulcrum Gamers League Finals',\n",
       " 'ELEAGUE Road to Vegas',\n",
       " 'ESL Nordic Nationals Winter 2015 Finals',\n",
       " 'ESL ESEA Pro League Season 2 Finals',\n",
       " 'Northern Arena 2015',\n",
       " 'LVP Season 9 Division de Honor Finals',\n",
       " 'Fragbite Masters Season 5 Finals',\n",
       " 'ESL Meisterschaft Winter 2015 Finals',\n",
       " 'FACEIT League 2015 Stage 3 Finals at DH Winter 2015',\n",
       " 'IEM San Jose 2015',\n",
       " 'AlienTech AllStars',\n",
       " 'Gfinity CS:GO UK Championship Finals',\n",
       " 'CIS LAN Championship #2',\n",
       " 'RGN Pro Series Championship',\n",
       " 'iBUYPOWER Cup 2015',\n",
       " 'CEVO Professional Season 8 Finals',\n",
       " 'ASUS ROG Nordic Challenge',\n",
       " 'DreamHack Open Cluj-Napoca 2015',\n",
       " 'CyberGamer Premier League 4 Finals',\n",
       " 'ESL UK Premiership Season 2 Finals',\n",
       " 'Fragadelphia 6',\n",
       " 'World Championships 2015',\n",
       " 'League of Sharks',\n",
       " \"Crown's Counter-Strike Invitational\",\n",
       " 'SocialNat Master League',\n",
       " 'PGL Season 1 Finals',\n",
       " 'ESL Polish Championship Season 11 Finals',\n",
       " 'Uprise Champions Cup Season 3 Finals',\n",
       " 'Gfinity 2015 Champion of Champions',\n",
       " 'DreamHack Open London 2015',\n",
       " 'ACL Melbourne 2015',\n",
       " 'ESL ESEA Dubai Invitational 2015',\n",
       " 'Gaming Paradise 2015',\n",
       " 'WinOut $20,000 CS:GO Championships Powered by Azubu.tv',\n",
       " 'Fragbite Masters Champions Showdown',\n",
       " 'Insomnia 55',\n",
       " 'ESL One Cologne 2015',\n",
       " 'ESL Sommermeisterschaft 2015 Finals',\n",
       " 'IEM Gamescom 2015',\n",
       " 'Acer Predator Masters powered by Intel Season 1 Finals',\n",
       " 'Assembly Summer 2015 AMD CS:GO Challenge',\n",
       " 'CEVO Professional Season 7 Finals',\n",
       " 'FACEIT League 2015 Stage 2 Finals at DreamHack Valencia',\n",
       " 'ESWC 2015 Female',\n",
       " 'ESWC 2015',\n",
       " 'ESL ESEA Pro League Season 1 Finals',\n",
       " 'Gfinity 2015 Summer Masters 1',\n",
       " 'iBP Summer Invitational',\n",
       " 'SLTV StarSeries XIII Finals',\n",
       " 'DreamHack Open Summer 2015',\n",
       " 'ESPORTSM 2015',\n",
       " 'HTC Reborn Invitational',\n",
       " 'Fragbite Masters Season 4 Finals',\n",
       " 'Gfinity 2015 Spring Masters 2',\n",
       " 'DreamHack Open Tours 2015',\n",
       " 'FACEIT League 2015 Stage 1 Finals',\n",
       " 'ESL Frühlingsmeisterschaft 2015 Finals',\n",
       " 'CCS Kick-off Season Finals',\n",
       " 'CIS LAN Championship',\n",
       " 'ESEA Invite Season 18 Global Finals',\n",
       " 'CEVO Professional Season 6 LAN Finals',\n",
       " 'ESL Pro League Winter 2014/15 Finals',\n",
       " 'CyberGamer Premier League 3 Finals',\n",
       " 'Copenhagen Games 2015 female',\n",
       " 'Copenhagen Games 2015',\n",
       " 'SLTV StarSeries XII Finals',\n",
       " 'Gfinity 2015 Spring Masters 1',\n",
       " 'ESL One Katowice 2015',\n",
       " 'Inferno Online Pantamera Challenge',\n",
       " 'ClutchCon 2015',\n",
       " 'ASUS ROG Winter 2015',\n",
       " 'MLG X-Games Aspen 2015',\n",
       " 'Acer A-Split Invitational powered by Intel',\n",
       " 'European Championship 2014 LAN Finals',\n",
       " 'ESL Pro Series Germany Winter 2014 LAN Finals',\n",
       " 'ESEA Invite Season 17 Global Finals',\n",
       " 'DreamHack Winter 2014',\n",
       " 'Caseking King of Kings',\n",
       " 'Fragbite Masters Season 3 Finals',\n",
       " 'Azubu Australian Masters',\n",
       " 'ESWC 2014',\n",
       " 'ESWC 2014 Female',\n",
       " 'FACEIT League Season 2 Finals',\n",
       " 'SLTV StarSeries XI Finals',\n",
       " 'CyberGamer Pro League Season 2 Winter Finals',\n",
       " 'Game Show Season 1 Finals',\n",
       " 'ESWC 2014 China LAN Qualifier',\n",
       " 'DreamHack Stockholm CS:GO Invitational 2014',\n",
       " 'ESL Pro Series Germany Summer 2014 LAN Finals',\n",
       " 'SLTV StarSeries X Finals',\n",
       " 'ESL One Cologne 2014',\n",
       " 'Gfinity 3',\n",
       " 'ASUS ROG Summer 2014',\n",
       " 'DreamHack Valencia 2014',\n",
       " 'ESEA Invite Season 16 Global Finals',\n",
       " 'ESPORTSM 2013/2014 Finals',\n",
       " 'DreamHack Summer 2014',\n",
       " 'SLTV StarSeries IX Finals',\n",
       " 'Copenhagen Games 2014',\n",
       " 'Voronezh Cup 2014',\n",
       " 'EMS One Katowice 2014',\n",
       " 'DreamHack Stockholm SteelSeries CS:GO Invitational 2014',\n",
       " 'Assembly Winter 2014',\n",
       " 'ESEA Invite Season 15 Global Finals',\n",
       " 'SLTV StarSeries VIII Finals',\n",
       " 'Svecup Grand Finals 2013',\n",
       " 'ESL Pro Series Germany Winter Season 2013',\n",
       " 'DreamHack Winter 2013',\n",
       " 'MSI Beat it! 2013 Grand Finals',\n",
       " 'TECHLABS Cup 2013 Grand Final',\n",
       " 'ESWC 2013',\n",
       " 'RaidCall EMS One Fall 2013 Finals',\n",
       " 'SLTV StarSeries VII Finals',\n",
       " 'DreamHack Bucharest 2013',\n",
       " 'Mad Catz Invitational',\n",
       " 'ESEA Invite Season 14 Global Finals',\n",
       " 'Prague Challenge',\n",
       " 'SLTV StarSeries VI Finals',\n",
       " 'RaidCall EMS One Summer 2013 Finals',\n",
       " 'DreamHack Summer 2013',\n",
       " 'ESEA Invite Season 13 Global Finals',\n",
       " 'RaidCall EMS One Spring 2013 Finals',\n",
       " 'Mad Catz Birmingham',\n",
       " 'SLTV StarSeries V Finals',\n",
       " 'Copenhagen Games 2013',\n",
       " 'Copenhagen Games 2013 female',\n",
       " 'ESL Pro Series Spain X',\n",
       " 'TECHLABS Cup 2013',\n",
       " 'CyberGamer Premier League Season 1',\n",
       " 'Mad Catz Vienna',\n",
       " 'SLTV StarSeries IV',\n",
       " 'NorthCon 2012',\n",
       " 'THOR Open 2012',\n",
       " 'AMD Sapphire CS:GO Invitational',\n",
       " 'DreamHack Winter 2012',\n",
       " 'ESWC 2012',\n",
       " 'DreamHack Valencia 2012',\n",
       " 'European Minor Championship - ELEAGUE Major 2017',\n",
       " 'TNA Challenge Cup',\n",
       " 'LPL Pro League Season 1 Finals']"
      ]
     },
     "execution_count": 11,
     "metadata": {},
     "output_type": "execute_result"
    }
   ],
   "source": [
    "# While the next page returns a value, scrape\n",
    "while(endURL != None):\n",
    "    # Logger message\n",
    "    #logger.info('Scraping new event page: %s' % nextURL)\n",
    "    \n",
    "    # Using urllib and BeautifulSoup, parse HTML page\n",
    "    soup = get_html_soup(nextURL)\n",
    "    \n",
    "    # Scrape match URLs from match results page\n",
    "    eventURLList, endURL = get_urls(soup, eventURLList)\n",
    "    \n",
    "    # Check to see if value returned is None, if not form next URL\n",
    "    if endURL != None:\n",
    "        nextURL = nextURL = get_full_url(endURL)\n",
    "\n",
    "# Return list\n",
    "eventURLList"
   ]
  },
  {
   "cell_type": "markdown",
   "metadata": {
    "papermill": {
     "duration": 0.197299,
     "end_time": "2019-05-10T20:42:03.593138",
     "exception": false,
     "start_time": "2019-05-10T20:42:03.395839",
     "status": "completed"
    },
    "tags": []
   },
   "source": [
    "Having scraped the important events, I placed them in a dataframe, and removed some extra characters. "
   ]
  },
  {
   "cell_type": "code",
   "execution_count": 12,
   "metadata": {
    "papermill": {
     "duration": 0.220057,
     "end_time": "2019-05-10T20:42:04.008986",
     "exception": false,
     "start_time": "2019-05-10T20:42:03.788929",
     "status": "completed"
    },
    "scrolled": true,
    "tags": []
   },
   "outputs": [
    {
     "data": {
      "text/html": [
       "<div>\n",
       "<style scoped>\n",
       "    .dataframe tbody tr th:only-of-type {\n",
       "        vertical-align: middle;\n",
       "    }\n",
       "\n",
       "    .dataframe tbody tr th {\n",
       "        vertical-align: top;\n",
       "    }\n",
       "\n",
       "    .dataframe thead th {\n",
       "        text-align: right;\n",
       "    }\n",
       "</style>\n",
       "<table border=\"1\" class=\"dataframe\">\n",
       "  <thead>\n",
       "    <tr style=\"text-align: right;\">\n",
       "      <th></th>\n",
       "      <th>Event</th>\n",
       "    </tr>\n",
       "  </thead>\n",
       "  <tbody>\n",
       "    <tr>\n",
       "      <th>0</th>\n",
       "      <td>Grosvenor CS:GO Championship Season 2</td>\n",
       "    </tr>\n",
       "    <tr>\n",
       "      <th>1</th>\n",
       "      <td>WePlay! Forge of Masters Season 1 Finals</td>\n",
       "    </tr>\n",
       "    <tr>\n",
       "      <th>2</th>\n",
       "      <td>IEM Sydney 2019</td>\n",
       "    </tr>\n",
       "    <tr>\n",
       "      <th>3</th>\n",
       "      <td>The Elite Championship Series 2019</td>\n",
       "    </tr>\n",
       "    <tr>\n",
       "      <th>4</th>\n",
       "      <td>LOOT.BET Season 2</td>\n",
       "    </tr>\n",
       "    <tr>\n",
       "      <th>5</th>\n",
       "      <td>CSL 2019 Spring Finals</td>\n",
       "    </tr>\n",
       "    <tr>\n",
       "      <th>6</th>\n",
       "      <td>Lotto Cup Winners' Cup</td>\n",
       "    </tr>\n",
       "    <tr>\n",
       "      <th>7</th>\n",
       "      <td>T.O. Spawn</td>\n",
       "    </tr>\n",
       "    <tr>\n",
       "      <th>8</th>\n",
       "      <td>ECS Season 7 North America Week 3</td>\n",
       "    </tr>\n",
       "    <tr>\n",
       "      <th>9</th>\n",
       "      <td>ECS Season 7 Europe Week 3</td>\n",
       "    </tr>\n",
       "    <tr>\n",
       "      <th>10</th>\n",
       "      <td>Hungarian National Esport Championship Season ...</td>\n",
       "    </tr>\n",
       "    <tr>\n",
       "      <th>11</th>\n",
       "      <td>Insomnia64</td>\n",
       "    </tr>\n",
       "    <tr>\n",
       "      <th>12</th>\n",
       "      <td>DreamHack Open Rio 2019</td>\n",
       "    </tr>\n",
       "    <tr>\n",
       "      <th>13</th>\n",
       "      <td>CSadria Clan Championship Season 3 Finals</td>\n",
       "    </tr>\n",
       "    <tr>\n",
       "      <th>14</th>\n",
       "      <td>Copenhagen Games 2019</td>\n",
       "    </tr>\n",
       "    <tr>\n",
       "      <th>15</th>\n",
       "      <td>Copenhagen Games 2019 Female</td>\n",
       "    </tr>\n",
       "    <tr>\n",
       "      <th>16</th>\n",
       "      <td>Asian Development League 2019 - Season 1</td>\n",
       "    </tr>\n",
       "    <tr>\n",
       "      <th>17</th>\n",
       "      <td>ESEA Rank S Combine</td>\n",
       "    </tr>\n",
       "    <tr>\n",
       "      <th>18</th>\n",
       "      <td>Charleroi Esports</td>\n",
       "    </tr>\n",
       "    <tr>\n",
       "      <th>19</th>\n",
       "      <td>Baltic Esports League Season 2 Finals</td>\n",
       "    </tr>\n",
       "    <tr>\n",
       "      <th>20</th>\n",
       "      <td>BLAST Pro Series Miami 2019</td>\n",
       "    </tr>\n",
       "    <tr>\n",
       "      <th>21</th>\n",
       "      <td>LOOT.BET HotShot Series Season 2</td>\n",
       "    </tr>\n",
       "    <tr>\n",
       "      <th>22</th>\n",
       "      <td>Cobx Masters</td>\n",
       "    </tr>\n",
       "    <tr>\n",
       "      <th>23</th>\n",
       "      <td>StarSeries i-League Season 7</td>\n",
       "    </tr>\n",
       "    <tr>\n",
       "      <th>24</th>\n",
       "      <td>ESEA Advanced Season 30 Europe</td>\n",
       "    </tr>\n",
       "    <tr>\n",
       "      <th>25</th>\n",
       "      <td>ESL Meisterschaft Spring 2019 Finals</td>\n",
       "    </tr>\n",
       "    <tr>\n",
       "      <th>26</th>\n",
       "      <td>LPL Pro League Season 1</td>\n",
       "    </tr>\n",
       "    <tr>\n",
       "      <th>27</th>\n",
       "      <td>ESEA MDL Season 30 Europe</td>\n",
       "    </tr>\n",
       "    <tr>\n",
       "      <th>28</th>\n",
       "      <td>ESEA Advanced Season 30 North America</td>\n",
       "    </tr>\n",
       "    <tr>\n",
       "      <th>29</th>\n",
       "      <td>ESEA MDL Season 30 North America</td>\n",
       "    </tr>\n",
       "    <tr>\n",
       "      <th>...</th>\n",
       "      <td>...</td>\n",
       "    </tr>\n",
       "    <tr>\n",
       "      <th>917</th>\n",
       "      <td>ESWC 2013</td>\n",
       "    </tr>\n",
       "    <tr>\n",
       "      <th>918</th>\n",
       "      <td>RaidCall EMS One Fall 2013 Finals</td>\n",
       "    </tr>\n",
       "    <tr>\n",
       "      <th>919</th>\n",
       "      <td>SLTV StarSeries VII Finals</td>\n",
       "    </tr>\n",
       "    <tr>\n",
       "      <th>920</th>\n",
       "      <td>DreamHack Bucharest 2013</td>\n",
       "    </tr>\n",
       "    <tr>\n",
       "      <th>921</th>\n",
       "      <td>Mad Catz Invitational</td>\n",
       "    </tr>\n",
       "    <tr>\n",
       "      <th>922</th>\n",
       "      <td>ESEA Invite Season 14 Global Finals</td>\n",
       "    </tr>\n",
       "    <tr>\n",
       "      <th>923</th>\n",
       "      <td>Prague Challenge</td>\n",
       "    </tr>\n",
       "    <tr>\n",
       "      <th>924</th>\n",
       "      <td>SLTV StarSeries VI Finals</td>\n",
       "    </tr>\n",
       "    <tr>\n",
       "      <th>925</th>\n",
       "      <td>RaidCall EMS One Summer 2013 Finals</td>\n",
       "    </tr>\n",
       "    <tr>\n",
       "      <th>926</th>\n",
       "      <td>DreamHack Summer 2013</td>\n",
       "    </tr>\n",
       "    <tr>\n",
       "      <th>927</th>\n",
       "      <td>ESEA Invite Season 13 Global Finals</td>\n",
       "    </tr>\n",
       "    <tr>\n",
       "      <th>928</th>\n",
       "      <td>RaidCall EMS One Spring 2013 Finals</td>\n",
       "    </tr>\n",
       "    <tr>\n",
       "      <th>929</th>\n",
       "      <td>Mad Catz Birmingham</td>\n",
       "    </tr>\n",
       "    <tr>\n",
       "      <th>930</th>\n",
       "      <td>SLTV StarSeries V Finals</td>\n",
       "    </tr>\n",
       "    <tr>\n",
       "      <th>931</th>\n",
       "      <td>Copenhagen Games 2013</td>\n",
       "    </tr>\n",
       "    <tr>\n",
       "      <th>932</th>\n",
       "      <td>Copenhagen Games 2013 female</td>\n",
       "    </tr>\n",
       "    <tr>\n",
       "      <th>933</th>\n",
       "      <td>ESL Pro Series Spain X</td>\n",
       "    </tr>\n",
       "    <tr>\n",
       "      <th>934</th>\n",
       "      <td>TECHLABS Cup 2013</td>\n",
       "    </tr>\n",
       "    <tr>\n",
       "      <th>935</th>\n",
       "      <td>CyberGamer Premier League Season 1</td>\n",
       "    </tr>\n",
       "    <tr>\n",
       "      <th>936</th>\n",
       "      <td>Mad Catz Vienna</td>\n",
       "    </tr>\n",
       "    <tr>\n",
       "      <th>937</th>\n",
       "      <td>SLTV StarSeries IV</td>\n",
       "    </tr>\n",
       "    <tr>\n",
       "      <th>938</th>\n",
       "      <td>NorthCon 2012</td>\n",
       "    </tr>\n",
       "    <tr>\n",
       "      <th>939</th>\n",
       "      <td>THOR Open 2012</td>\n",
       "    </tr>\n",
       "    <tr>\n",
       "      <th>940</th>\n",
       "      <td>AMD Sapphire CS:GO Invitational</td>\n",
       "    </tr>\n",
       "    <tr>\n",
       "      <th>941</th>\n",
       "      <td>DreamHack Winter 2012</td>\n",
       "    </tr>\n",
       "    <tr>\n",
       "      <th>942</th>\n",
       "      <td>ESWC 2012</td>\n",
       "    </tr>\n",
       "    <tr>\n",
       "      <th>943</th>\n",
       "      <td>DreamHack Valencia 2012</td>\n",
       "    </tr>\n",
       "    <tr>\n",
       "      <th>944</th>\n",
       "      <td>European Minor Championship - ELEAGUE Major 2017</td>\n",
       "    </tr>\n",
       "    <tr>\n",
       "      <th>945</th>\n",
       "      <td>TNA Challenge Cup</td>\n",
       "    </tr>\n",
       "    <tr>\n",
       "      <th>946</th>\n",
       "      <td>LPL Pro League Season 1 Finals</td>\n",
       "    </tr>\n",
       "  </tbody>\n",
       "</table>\n",
       "<p>947 rows × 1 columns</p>\n",
       "</div>"
      ],
      "text/plain": [
       "                                                 Event\n",
       "0                Grosvenor CS:GO Championship Season 2\n",
       "1             WePlay! Forge of Masters Season 1 Finals\n",
       "2                                      IEM Sydney 2019\n",
       "3                   The Elite Championship Series 2019\n",
       "4                                    LOOT.BET Season 2\n",
       "5                               CSL 2019 Spring Finals\n",
       "6                               Lotto Cup Winners' Cup\n",
       "7                                           T.O. Spawn\n",
       "8                    ECS Season 7 North America Week 3\n",
       "9                           ECS Season 7 Europe Week 3\n",
       "10   Hungarian National Esport Championship Season ...\n",
       "11                                          Insomnia64\n",
       "12                             DreamHack Open Rio 2019\n",
       "13           CSadria Clan Championship Season 3 Finals\n",
       "14                               Copenhagen Games 2019\n",
       "15                        Copenhagen Games 2019 Female\n",
       "16            Asian Development League 2019 - Season 1\n",
       "17                                 ESEA Rank S Combine\n",
       "18                                   Charleroi Esports\n",
       "19               Baltic Esports League Season 2 Finals\n",
       "20                         BLAST Pro Series Miami 2019\n",
       "21                    LOOT.BET HotShot Series Season 2\n",
       "22                                        Cobx Masters\n",
       "23                        StarSeries i-League Season 7\n",
       "24                      ESEA Advanced Season 30 Europe\n",
       "25                ESL Meisterschaft Spring 2019 Finals\n",
       "26                             LPL Pro League Season 1\n",
       "27                           ESEA MDL Season 30 Europe\n",
       "28               ESEA Advanced Season 30 North America\n",
       "29                    ESEA MDL Season 30 North America\n",
       "..                                                 ...\n",
       "917                                          ESWC 2013\n",
       "918                  RaidCall EMS One Fall 2013 Finals\n",
       "919                         SLTV StarSeries VII Finals\n",
       "920                           DreamHack Bucharest 2013\n",
       "921                              Mad Catz Invitational\n",
       "922                ESEA Invite Season 14 Global Finals\n",
       "923                                   Prague Challenge\n",
       "924                          SLTV StarSeries VI Finals\n",
       "925                RaidCall EMS One Summer 2013 Finals\n",
       "926                              DreamHack Summer 2013\n",
       "927                ESEA Invite Season 13 Global Finals\n",
       "928                RaidCall EMS One Spring 2013 Finals\n",
       "929                                Mad Catz Birmingham\n",
       "930                           SLTV StarSeries V Finals\n",
       "931                              Copenhagen Games 2013\n",
       "932                       Copenhagen Games 2013 female\n",
       "933                             ESL Pro Series Spain X\n",
       "934                                  TECHLABS Cup 2013\n",
       "935                 CyberGamer Premier League Season 1\n",
       "936                                    Mad Catz Vienna\n",
       "937                                 SLTV StarSeries IV\n",
       "938                                      NorthCon 2012\n",
       "939                                     THOR Open 2012\n",
       "940                    AMD Sapphire CS:GO Invitational\n",
       "941                              DreamHack Winter 2012\n",
       "942                                          ESWC 2012\n",
       "943                            DreamHack Valencia 2012\n",
       "944   European Minor Championship - ELEAGUE Major 2017\n",
       "945                                  TNA Challenge Cup\n",
       "946                     LPL Pro League Season 1 Finals\n",
       "\n",
       "[947 rows x 1 columns]"
      ]
     },
     "execution_count": 12,
     "metadata": {},
     "output_type": "execute_result"
    }
   ],
   "source": [
    "dfEvents = pd.DataFrame({'Event':eventURLList})\n",
    "dfEvents.Event = [x.strip().replace('\\n', '') for x in dfEvents.Event]\n",
    "dfEvents"
   ]
  },
  {
   "cell_type": "markdown",
   "metadata": {
    "papermill": {
     "duration": 0.202046,
     "end_time": "2019-05-10T20:42:04.408066",
     "exception": false,
     "start_time": "2019-05-10T20:42:04.206020",
     "status": "completed"
    },
    "tags": []
   },
   "source": [
    "I then saved both dataframes to CSV and saved them locally on my system. "
   ]
  },
  {
   "cell_type": "code",
   "execution_count": 13,
   "metadata": {
    "papermill": {
     "duration": 0.370084,
     "end_time": "2019-05-10T20:42:04.975193",
     "exception": false,
     "start_time": "2019-05-10T20:42:04.605109",
     "status": "completed"
    },
    "tags": []
   },
   "outputs": [],
   "source": [
    "dfRatings.to_csv ('EVENT_RATINGS.csv', index = None, header=True)\n",
    "dfEvents.to_csv ('PAST_EVENTS.csv', index = None, header=True)"
   ]
  }
 ],
 "metadata": {
  "colab": {
   "name": "Ratings-Scraper.ipynb",
   "provenance": [],
   "version": "0.3.2"
  },
  "kernelspec": {
   "display_name": "Python 3",
   "language": "python",
   "name": "python3"
  },
  "language_info": {
   "codemirror_mode": {
    "name": "ipython",
    "version": 3
   },
   "file_extension": ".py",
   "mimetype": "text/x-python",
   "name": "python",
   "nbconvert_exporter": "python",
   "pygments_lexer": "ipython3",
   "version": "3.7.3"
  },
  "papermill": {
   "duration": 2064.561008,
   "end_time": "2019-05-10T20:42:06.661349",
   "environment_variables": {},
   "exception": null,
   "input_path": "C:\\Users\\ronan\\Documents\\Notebooks\\DSiP Project\\Papermill\\Q3-SCRAPER2-EVENT_RATINGS+PAST_EVENTS.ipynb",
   "output_path": "C:\\Users\\ronan\\Documents\\Notebooks\\DSiP Project\\Papermill\\Q3-SCRAPER2-EVENT_RATINGS+PAST_EVENTS.ipynb",
   "parameters": {},
   "start_time": "2019-05-10T20:07:42.100341",
   "version": "1.0.0"
  }
 },
 "nbformat": 4,
 "nbformat_minor": 1
}