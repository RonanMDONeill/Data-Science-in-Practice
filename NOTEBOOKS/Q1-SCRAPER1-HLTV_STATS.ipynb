{
 "cells": [
  {
   "cell_type": "markdown",
   "metadata": {
    "papermill": {
     "duration": 0.025007,
     "end_time": "2019-05-10T18:18:57.222355",
     "exception": false,
     "start_time": "2019-05-10T18:18:57.197348",
     "status": "completed"
    },
    "tags": []
   },
   "source": [
    "# Scraping for Question 1\n",
    "Scraping necessary data to look at the impact of the opening kill on the win rate of a round and the different factors of an opening kill.\n",
    "\n",
    "This data is taken from HLTV.org, which is the premier database for statistics related to the professional Counter-Strike: Global Offensive scene. The data I will be focusing on is taken from all the previous [Majors](https://en.wikipedia.org/wiki/Counter-Strike:_Global_Offensive_Major_Championships). Majors are the tournaments organised by Valve (the developers of CS:GO) that usually occur twice a year, with a prize-pool of $1,000,000 for each event. They are the most prestigious tournaments, similar to how the UEFA Champions League is viewed in European football.\n",
    "\n",
    "## 1st Scrape: HLTV Scraper\n",
    "The first step is to import the necessary libraries that will be used in this notebook."
   ]
  },
  {
   "cell_type": "code",
   "execution_count": 1,
   "metadata": {
    "papermill": {
     "duration": 1.403542,
     "end_time": "2019-05-10T18:18:58.651088",
     "exception": false,
     "start_time": "2019-05-10T18:18:57.247546",
     "status": "completed"
    },
    "tags": []
   },
   "outputs": [],
   "source": [
    "# Import libraries\n",
    "import pandas as pd\n",
    "import urllib\n",
    "import urllib.request\n",
    "import time\n",
    "import re\n",
    "from loguru import logger\n",
    "from bs4 import BeautifulSoup"
   ]
  },
  {
   "cell_type": "markdown",
   "metadata": {
    "papermill": {
     "duration": 0.025016,
     "end_time": "2019-05-10T18:18:58.702109",
     "exception": false,
     "start_time": "2019-05-10T18:18:58.677093",
     "status": "completed"
    },
    "tags": []
   },
   "source": [
    "Next, functions are written that will be used later for various purposes."
   ]
  },
  {
   "cell_type": "code",
   "execution_count": 2,
   "metadata": {
    "papermill": {
     "duration": 0.071005,
     "end_time": "2019-05-10T18:18:58.799120",
     "exception": false,
     "start_time": "2019-05-10T18:18:58.728115",
     "status": "completed"
    },
    "tags": []
   },
   "outputs": [],
   "source": [
    "# Functions\n",
    "\n",
    "# Scrape Match URLs\n",
    "def get_urls(soup, urlList):\n",
    "    # Scrape match URLs from match results page\n",
    "    for item in soup.find_all(attrs={\"class\": \"date-col\"}):\n",
    "        for link in item.find_all(\"a\"):\n",
    "            urlList.append(\"https://www.hltv.org\" + link.get(\"href\"))\n",
    "\n",
    "    # Create URL for next page\n",
    "    endURL = soup.find(attrs={\"class\": \"pagination-next\"}).get(\"href\")\n",
    "    return urlList, endURL\n",
    "\n",
    "def get_html_soup(url):\n",
    "    # Retrieve HTML using headers\n",
    "    req = urllib.request.Request(url, headers={\"User-Agent\": \"Mozilla/5.0 (Windows NT 6.1) AppleWebKit/537.36 (KHTML, like Gecko) Chrome/41.0.2228.0 Safari/537.3\"})\n",
    "    page = urllib.request.urlopen(req).read()\n",
    "    \n",
    "    # Sleep to prevent overflowing website\n",
    "    time.sleep(2)\n",
    "    \n",
    "    # Parse HTML\n",
    "    soup = BeautifulSoup(page, \"html.parser\")\n",
    "    return soup\n",
    "\n",
    "def get_full_url(endURL):\n",
    "    nextURL = \"https://www.hltv.org\" + endURL\n",
    "    return nextURL\n",
    "\n",
    "# Team Functions\n",
    "def get_event(soup):\n",
    "    eventBox = soup.find(attrs={\"class\": \"menu-header\"})\n",
    "    event = eventBox.text.strip()\n",
    "    return event\n",
    "    \n",
    "# Match ID\n",
    "def get_match_ID(soup, URL):\n",
    "    matchID = URL.split(\"/\")\n",
    "    return int(matchID[6])\n",
    "\n",
    "# Date\n",
    "def get_date(soup):\n",
    "    dateBox = soup.find(attrs={\"class\": \"small-text\"})\n",
    "    dateTemp = dateBox.text.strip()\n",
    "    date = dateTemp.split(\"M\")\n",
    "    return date[0]\n",
    "\n",
    "# Team Name\n",
    "def get_team_name_rounds(soup, team):\n",
    "    if team == 1:\n",
    "        teamBox = soup.find(attrs={\"class\": \"team-left\"})\n",
    "        teamTemp = teamBox.text.strip()\n",
    "        team = teamTemp.split(\"\\n\")\n",
    "    elif team == 2:\n",
    "        teamBox = soup.find(attrs={\"class\": \"team-right\"})\n",
    "        teamTemp = teamBox.text.strip()\n",
    "        team = teamTemp.split(\"\\n\")\n",
    "        \n",
    "    else:\n",
    "        raise ValueError(\"Team number must be 1 or 2.\")\n",
    "    return team\n",
    "\n",
    "# Match Winner\n",
    "def get_match_winner(soup, team1, team2):\n",
    "    team1Rounds = int(team1[1])\n",
    "    team2Rounds = int(team2[1])\n",
    "\n",
    "    if (team1Rounds > team2Rounds):\n",
    "        matchWinner = team1[0]\n",
    "    else:\n",
    "        matchWinner = team2[0]\n",
    "        \n",
    "    return matchWinner\n",
    "\n",
    "# Map\n",
    "def get_map_pick(soup):\n",
    "    mapPick = soup.find(attrs={\"class\":\"team-left\"}).previous_sibling.strip()\n",
    "    return mapPick\n",
    "\n",
    "# Team First Kills, Clutches, and Rating - returns list [int,int,float]\n",
    "def get_FK_clutches_rating(soup, team):\n",
    "    teamStatistics = list()\n",
    "    finalTeamStats = [0,0,0.0]\n",
    "    for statistic in soup.find_all(attrs={\"class\":\"match-info-row\"}):\n",
    "        teamStatistics.append(statistic.text.strip())\n",
    "    \n",
    "    teamFKString = teamStatistics[2]\n",
    "    teamClutchesString = teamStatistics[3]\n",
    "    teamRatingString = teamStatistics[1]\n",
    "    \n",
    "    teamFKString = teamFKString.split(\" \")\n",
    "    teamClutchesString = teamClutchesString.split(\" \")\n",
    "    teamRatingString = teamRatingString.split(\" \")\n",
    "    \n",
    "    if team == 1:\n",
    "        finalTeamStats[0] = int(teamFKString[0])\n",
    "        finalTeamStats[1] = int(teamClutchesString[0])\n",
    "        finalTeamStats[2] = float(teamRatingString[0])\n",
    "    elif team == 2:\n",
    "        teamFKString = teamFKString[2].split(\"\\\\\")\n",
    "        teamClutchesString = teamClutchesString[2].split(\"\\\\\")\n",
    "        teamRatingString = teamRatingString[2].split(\"\\\\\")\n",
    "\n",
    "        teamFKString = teamFKString[0].split(\"\\n\")\n",
    "        teamClutchesString = teamClutchesString[0].split(\"\\n\")\n",
    "        teamRatingString = teamRatingString[0].split(\"\\n\")\n",
    "\n",
    "        finalTeamStats[0] = int(teamFKString[0])\n",
    "        finalTeamStats[1] = int(teamClutchesString[0])\n",
    "        finalTeamStats[2] = float(teamRatingString[0])\n",
    "        \n",
    "    else:\n",
    "        raise ValueError(\"Team number must be 1 or 2.\")\n",
    "    return finalTeamStats\n",
    "\n",
    "# Player\n",
    "# Get player names\n",
    "def get_player_names(soup):\n",
    "    playersList = list()\n",
    "    playerBox = soup.find_all(attrs={\"class\": \"st-player\"})\n",
    "\n",
    "    for x in range(10):\n",
    "        playersList.append(playerBox[x].text.strip())\n",
    "        \n",
    "    return playersList\n",
    "\n",
    "# Team\n",
    "def get_player_teams(soup):\n",
    "    playerTeams = list()\n",
    "    playerTeamsBox = soup.find_all(attrs={\"class\": \"st-teamname text-ellipsis\"})\n",
    "    playerTeams.append(playerTeamsBox[0].text.strip())\n",
    "    playerTeams.append(playerTeamsBox[1].text.strip())\n",
    "    \n",
    "    return playerTeams\n",
    "\n",
    "# Get player kills\n",
    "def get_player_kills(soup):\n",
    "    killList = list()\n",
    "    killBox = soup.find_all(attrs={\"class\": \"st-kills\"})\n",
    "    # Team 1\n",
    "    for x in range(1, 6):\n",
    "        killStrip = killBox[x].text.strip()\n",
    "        killStrip = killStrip.split(\" \")\n",
    "        killList.append(int(killStrip[0]))\n",
    "    # Team 2\n",
    "    for x in range(7, 12):\n",
    "        killStrip = killBox[x].text.strip()\n",
    "        killStrip = killStrip.split(\" \")\n",
    "        killList.append(int(killStrip[0]))\n",
    "        \n",
    "    return killList\n",
    "\n",
    "# Get player deaths\n",
    "def get_player_deaths(soup):\n",
    "    deathList = list()\n",
    "    deathBox = soup.find_all(attrs={\"class\": \"st-deaths\"})\n",
    "    # Team 1\n",
    "    for x in range(1, 6):\n",
    "        deaths = deathBox[x].text.strip()\n",
    "        deathList.append(int(deaths))\n",
    "    # Team 2\n",
    "    for x in range(7, 12):\n",
    "        deaths = deathBox[x].text.strip()\n",
    "        deathList.append(int(deaths))\n",
    "        \n",
    "    return deathList\n",
    "\n",
    "# Get player first kills\n",
    "def get_player_FK(soup):\n",
    "    firstKillList = list()\n",
    "    firstDeathList = list()\n",
    "    firstKDBox = soup.find_all(attrs={\"class\": \"st-fkdiff\"})\n",
    "\n",
    "    # Team 1\n",
    "    for x in range(1, 6):\n",
    "        firstKDString = str(firstKDBox[x])\n",
    "        firstKDString = firstKDString.split(\"=\\\"\")\n",
    "        kdDifference = firstKDString[4]\n",
    "        kdDifference = kdDifference.split(\"\\\"\")\n",
    "        kdSplit = kdDifference[0].split(\" \")\n",
    "        firstKillList.append(int(kdSplit[0]))\n",
    "    # Team 2\n",
    "    for x in range(7, 12):\n",
    "        firstKDString = str(firstKDBox[x])\n",
    "        firstKDString = firstKDString.split(\"=\\\"\")\n",
    "        kdDifference = firstKDString[4]\n",
    "        kdDifference = kdDifference.split(\"\\\"\")\n",
    "        kdSplit = kdDifference[0].split(\" \")\n",
    "        firstKillList.append(int(kdSplit[0]))\n",
    "        \n",
    "    return firstKillList\n",
    "\n",
    "# Get player first deaths\n",
    "def get_player_FD(soup):\n",
    "    firstKillList = list()\n",
    "    firstDeathList = list()\n",
    "    firstKDBox = soup.find_all(attrs={\"class\": \"st-fkdiff\"})\n",
    "\n",
    "    # Team 1\n",
    "    for x in range(1, 6):\n",
    "        firstKDString = str(firstKDBox[x])\n",
    "        firstKDString = firstKDString.split(\"=\\\"\")\n",
    "        kdDifference = firstKDString[4]\n",
    "        kdDifference = kdDifference.split(\"\\\"\")\n",
    "        kdSplit = kdDifference[0].split(\" \")\n",
    "        firstDeathList.append(int(kdSplit[3]))\n",
    "    # Team 2\n",
    "    for x in range(7, 12):\n",
    "        firstKDString = str(firstKDBox[x])\n",
    "        firstKDString = firstKDString.split(\"=\\\"\")\n",
    "        kdDifference = firstKDString[4]\n",
    "        kdDifference = kdDifference.split(\"\\\"\")\n",
    "        kdSplit = kdDifference[0].split(\" \")\n",
    "        firstDeathList.append(int(kdSplit[3]))\n",
    "        \n",
    "    return firstDeathList\n",
    "\n",
    "# Rating\n",
    "def get_player_ratings(soup):\n",
    "    ratingList = list()\n",
    "    ratingBox = soup.find_all(attrs={\"class\": \"st-rating\"})\n",
    "    # Team 1\n",
    "    for x in range(1, 6):\n",
    "        ratings = ratingBox[x].text.strip()\n",
    "        ratingList.append(float(ratings))\n",
    "    # Team 2\n",
    "    for x in range(7, 12):\n",
    "        ratings = ratingBox[x].text.strip()\n",
    "        ratingList.append(float(ratings))\n",
    "\n",
    "    return ratingList"
   ]
  },
  {
   "cell_type": "markdown",
   "metadata": {
    "papermill": {
     "duration": 0.025016,
     "end_time": "2019-05-10T18:18:58.849142",
     "exception": false,
     "start_time": "2019-05-10T18:18:58.824126",
     "status": "completed"
    },
    "tags": []
   },
   "source": [
    "To scrape the data from the specified matches, a list of URLs is needed. These URLs are located in the Major section of the [HLTV results page](https://www.hltv.org/stats/matches?matchType=Majors). The build a list of these URLs, the results page will be scraped. An example of this page is downloaded below. As HLTV is CloudFlare protected, a header parameter is added to the urllib.request to bypass the 403 error returned. A sleep is also used, as too many requests too quickly can result in an IP ban."
   ]
  },
  {
   "cell_type": "code",
   "execution_count": 3,
   "metadata": {
    "papermill": {
     "duration": 2.511247,
     "end_time": "2019-05-10T18:19:01.385385",
     "exception": false,
     "start_time": "2019-05-10T18:18:58.874138",
     "status": "completed"
    },
    "tags": []
   },
   "outputs": [],
   "source": [
    "# Download example HTML to understand format\n",
    "# Build opener to bypass 403 error\n",
    "opener = urllib.request.build_opener()\n",
    "opener.addheaders=[('User-Agent','Mozilla/5.0 (Windows NT 6.1) AppleWebKit/537.36 (KHTML, like Gecko) Chrome/41.0.2228.0 Safari/537.3')]\n",
    "urllib.request.install_opener(opener)\n",
    "\n",
    "url = \"https://www.hltv.org/stats/matches?matchType=Majors\"\n",
    "local = \"EXAMPLE_HTML_1.html\"\n",
    "\n",
    "# Download example HTML file, save as example.html\n",
    "urllib.request.urlretrieve(url,local)\n",
    "\n",
    "# Sleep for 3 seconds\n",
    "time.sleep(2)"
   ]
  },
  {
   "cell_type": "markdown",
   "metadata": {
    "papermill": {
     "duration": 0.026015,
     "end_time": "2019-05-10T18:19:01.437396",
     "exception": false,
     "start_time": "2019-05-10T18:19:01.411381",
     "status": "completed"
    },
    "tags": []
   },
   "source": [
    "After reviewing the example HTML, I was able to determine where the match URLs were stored, but also the link to the next page of Major matches. There are a total of 622 Major matches, with only 50 being shown at a time per page. On the final page of match results, the next page button returns a None value. This allowed me to run a while loop which would continue until the last page of the results.\n",
    "\n",
    "Using BeatifulSoup to parse HTML, a results page is scraped for its match links, which are in the format \"stats/matches/mapstatsid/MATCHID/TEAM1-vs-TEAM2?matchType=Majors\". When combined with the base URL \"https://www.hltv.org\", a full URL is created, which is appended to a DataFrame and used for scraping later. This method is used again for the next page URL. The header and sleep technique used previously are again used here.\n",
    "\n",
    "Intially, the example HTML is scraped, collecting the first 50 match URLs and the next page URL. In the next cell, the rest of the URLs are collected in the while loop."
   ]
  },
  {
   "cell_type": "code",
   "execution_count": 4,
   "metadata": {
    "papermill": {
     "duration": 0.166048,
     "end_time": "2019-05-10T18:19:01.628303",
     "exception": false,
     "start_time": "2019-05-10T18:19:01.462255",
     "status": "completed"
    },
    "tags": []
   },
   "outputs": [],
   "source": [
    "# List for match URLS\n",
    "majorURLList = list()\n",
    "\n",
    "# Parse HTML of example HTML downloaded\n",
    "soup = BeautifulSoup(open(\"EXAMPLE_HTML_1.html\", encoding=\"utf8\"), \"html.parser\")\n",
    "\n",
    "# Scrape match URLs from match results page\n",
    "majorURLList, endURL = get_urls(soup, majorURLList)\n",
    "\n",
    "# Form URL\n",
    "nextURL = get_full_url(endURL)"
   ]
  },
  {
   "cell_type": "markdown",
   "metadata": {
    "papermill": {
     "duration": 0.026005,
     "end_time": "2019-05-10T18:19:01.680304",
     "exception": false,
     "start_time": "2019-05-10T18:19:01.654299",
     "status": "completed"
    },
    "tags": []
   },
   "source": [
    "Using the first next page URL scraped, iterate until the next page value is None. The list of URLs is printed after completion."
   ]
  },
  {
   "cell_type": "code",
   "execution_count": 5,
   "metadata": {
    "papermill": {
     "duration": 30.89507,
     "end_time": "2019-05-10T18:19:32.600380",
     "exception": false,
     "start_time": "2019-05-10T18:19:01.705310",
     "status": "completed"
    },
    "scrolled": true,
    "tags": []
   },
   "outputs": [
    {
     "name": "stderr",
     "output_type": "stream",
     "text": [
      "2019-05-10 19:19:01.734 | INFO     | __main__:<module>:4 - Scraping new event page: https://www.hltv.org/stats/matches?matchType=Majors&offset=50\n"
     ]
    },
    {
     "name": "stderr",
     "output_type": "stream",
     "text": [
      "2019-05-10 19:19:04.289 | INFO     | __main__:<module>:4 - Scraping new event page: https://www.hltv.org/stats/matches?matchType=Majors&offset=100\n"
     ]
    },
    {
     "name": "stderr",
     "output_type": "stream",
     "text": [
      "2019-05-10 19:19:06.839 | INFO     | __main__:<module>:4 - Scraping new event page: https://www.hltv.org/stats/matches?matchType=Majors&offset=150\n"
     ]
    },
    {
     "name": "stderr",
     "output_type": "stream",
     "text": [
      "2019-05-10 19:19:09.449 | INFO     | __main__:<module>:4 - Scraping new event page: https://www.hltv.org/stats/matches?matchType=Majors&offset=200\n"
     ]
    },
    {
     "name": "stderr",
     "output_type": "stream",
     "text": [
      "2019-05-10 19:19:12.015 | INFO     | __main__:<module>:4 - Scraping new event page: https://www.hltv.org/stats/matches?matchType=Majors&offset=250\n"
     ]
    },
    {
     "name": "stderr",
     "output_type": "stream",
     "text": [
      "2019-05-10 19:19:14.724 | INFO     | __main__:<module>:4 - Scraping new event page: https://www.hltv.org/stats/matches?matchType=Majors&offset=300\n"
     ]
    },
    {
     "name": "stderr",
     "output_type": "stream",
     "text": [
      "2019-05-10 19:19:17.329 | INFO     | __main__:<module>:4 - Scraping new event page: https://www.hltv.org/stats/matches?matchType=Majors&offset=350\n"
     ]
    },
    {
     "name": "stderr",
     "output_type": "stream",
     "text": [
      "2019-05-10 19:19:19.881 | INFO     | __main__:<module>:4 - Scraping new event page: https://www.hltv.org/stats/matches?matchType=Majors&offset=400\n"
     ]
    },
    {
     "name": "stderr",
     "output_type": "stream",
     "text": [
      "2019-05-10 19:19:22.424 | INFO     | __main__:<module>:4 - Scraping new event page: https://www.hltv.org/stats/matches?matchType=Majors&offset=450\n"
     ]
    },
    {
     "name": "stderr",
     "output_type": "stream",
     "text": [
      "2019-05-10 19:19:25.037 | INFO     | __main__:<module>:4 - Scraping new event page: https://www.hltv.org/stats/matches?matchType=Majors&offset=500\n"
     ]
    },
    {
     "name": "stderr",
     "output_type": "stream",
     "text": [
      "2019-05-10 19:19:27.599 | INFO     | __main__:<module>:4 - Scraping new event page: https://www.hltv.org/stats/matches?matchType=Majors&offset=550\n"
     ]
    },
    {
     "name": "stderr",
     "output_type": "stream",
     "text": [
      "2019-05-10 19:19:30.152 | INFO     | __main__:<module>:4 - Scraping new event page: https://www.hltv.org/stats/matches?matchType=Majors&offset=600\n"
     ]
    },
    {
     "data": {
      "text/plain": [
       "['https://www.hltv.org/stats/matches/mapstatsid/82145/ence-vs-astralis?matchType=Majors',\n",
       " 'https://www.hltv.org/stats/matches/mapstatsid/82143/astralis-vs-ence?matchType=Majors',\n",
       " 'https://www.hltv.org/stats/matches/mapstatsid/82123/mibr-vs-astralis?matchType=Majors',\n",
       " 'https://www.hltv.org/stats/matches/mapstatsid/82121/astralis-vs-mibr?matchType=Majors',\n",
       " 'https://www.hltv.org/stats/matches/mapstatsid/82120/natus-vincere-vs-ence?matchType=Majors',\n",
       " 'https://www.hltv.org/stats/matches/mapstatsid/82119/ence-vs-natus-vincere?matchType=Majors',\n",
       " 'https://www.hltv.org/stats/matches/mapstatsid/82117/natus-vincere-vs-ence?matchType=Majors',\n",
       " 'https://www.hltv.org/stats/matches/mapstatsid/82095/nip-vs-astralis?matchType=Majors',\n",
       " 'https://www.hltv.org/stats/matches/mapstatsid/82091/astralis-vs-nip?matchType=Majors',\n",
       " 'https://www.hltv.org/stats/matches/mapstatsid/82087/renegades-vs-mibr?matchType=Majors',\n",
       " 'https://www.hltv.org/stats/matches/mapstatsid/82082/mibr-vs-renegades?matchType=Majors',\n",
       " 'https://www.hltv.org/stats/matches/mapstatsid/82063/ence-vs-liquid?matchType=Majors',\n",
       " 'https://www.hltv.org/stats/matches/mapstatsid/82058/liquid-vs-ence?matchType=Majors',\n",
       " 'https://www.hltv.org/stats/matches/mapstatsid/82050/faze-vs-natus-vincere?matchType=Majors',\n",
       " 'https://www.hltv.org/stats/matches/mapstatsid/82045/natus-vincere-vs-faze?matchType=Majors',\n",
       " 'https://www.hltv.org/stats/matches/mapstatsid/81885/cloud9-vs-faze?matchType=Majors',\n",
       " 'https://www.hltv.org/stats/matches/mapstatsid/81879/faze-vs-cloud9?matchType=Majors',\n",
       " 'https://www.hltv.org/stats/matches/mapstatsid/81873/nip-vs-vitality?matchType=Majors',\n",
       " 'https://www.hltv.org/stats/matches/mapstatsid/81870/vitality-vs-nip?matchType=Majors',\n",
       " 'https://www.hltv.org/stats/matches/mapstatsid/81868/nip-vs-vitality?matchType=Majors',\n",
       " 'https://www.hltv.org/stats/matches/mapstatsid/81861/avangar-vs-ence?matchType=Majors',\n",
       " 'https://www.hltv.org/stats/matches/mapstatsid/81851/ence-vs-avangar?matchType=Majors',\n",
       " 'https://www.hltv.org/stats/matches/mapstatsid/81836/hellraisers-vs-cloud9?matchType=Majors',\n",
       " 'https://www.hltv.org/stats/matches/mapstatsid/81834/cloud9-vs-hellraisers?matchType=Majors',\n",
       " 'https://www.hltv.org/stats/matches/mapstatsid/81833/faze-vs-complexity?matchType=Majors',\n",
       " 'https://www.hltv.org/stats/matches/mapstatsid/81832/complexity-vs-faze?matchType=Majors',\n",
       " 'https://www.hltv.org/stats/matches/mapstatsid/81831/faze-vs-complexity?matchType=Majors',\n",
       " 'https://www.hltv.org/stats/matches/mapstatsid/81830/g2-vs-ence?matchType=Majors',\n",
       " 'https://www.hltv.org/stats/matches/mapstatsid/81828/ence-vs-g2?matchType=Majors',\n",
       " 'https://www.hltv.org/stats/matches/mapstatsid/81807/nip-vs-mibr?matchType=Majors',\n",
       " 'https://www.hltv.org/stats/matches/mapstatsid/81804/mibr-vs-nip?matchType=Majors',\n",
       " 'https://www.hltv.org/stats/matches/mapstatsid/81801/avangar-vs-natus-vincere?matchType=Majors',\n",
       " 'https://www.hltv.org/stats/matches/mapstatsid/81796/natus-vincere-vs-avangar?matchType=Majors',\n",
       " 'https://www.hltv.org/stats/matches/mapstatsid/81795/renegades-vs-vitality?matchType=Majors',\n",
       " 'https://www.hltv.org/stats/matches/mapstatsid/81790/vitality-vs-renegades?matchType=Majors',\n",
       " 'https://www.hltv.org/stats/matches/mapstatsid/81787/vitality-vs-renegades?matchType=Majors',\n",
       " 'https://www.hltv.org/stats/matches/mapstatsid/81761/liquid-vs-natus-vincere?matchType=Majors',\n",
       " 'https://www.hltv.org/stats/matches/mapstatsid/81753/liquid-vs-natus-vincere?matchType=Majors',\n",
       " 'https://www.hltv.org/stats/matches/mapstatsid/81765/nrg-vs-complexity?matchType=Majors',\n",
       " 'https://www.hltv.org/stats/matches/mapstatsid/81755/complexity-vs-nrg?matchType=Majors',\n",
       " 'https://www.hltv.org/stats/matches/mapstatsid/81741/astralis-vs-renegades?matchType=Majors',\n",
       " 'https://www.hltv.org/stats/matches/mapstatsid/81734/renegades-vs-astralis?matchType=Majors',\n",
       " 'https://www.hltv.org/stats/matches/mapstatsid/81727/astralis-vs-renegades?matchType=Majors',\n",
       " 'https://www.hltv.org/stats/matches/mapstatsid/81737/ence-vs-big?matchType=Majors',\n",
       " 'https://www.hltv.org/stats/matches/mapstatsid/81729/big-vs-ence?matchType=Majors',\n",
       " 'https://www.hltv.org/stats/matches/mapstatsid/81724/ence-vs-big?matchType=Majors',\n",
       " 'https://www.hltv.org/stats/matches/mapstatsid/81722/vitality-vs-cloud9?matchType=Majors',\n",
       " 'https://www.hltv.org/stats/matches/mapstatsid/81721/nip-vs-hellraisers?matchType=Majors',\n",
       " 'https://www.hltv.org/stats/matches/mapstatsid/81720/faze-vs-avangar?matchType=Majors',\n",
       " 'https://www.hltv.org/stats/matches/mapstatsid/81719/mibr-vs-g2?matchType=Majors',\n",
       " 'https://www.hltv.org/stats/matches/mapstatsid/81702/liquid-vs-nip?matchType=Majors',\n",
       " 'https://www.hltv.org/stats/matches/mapstatsid/81695/astralis-vs-cloud9?matchType=Majors',\n",
       " 'https://www.hltv.org/stats/matches/mapstatsid/81696/natus-vincere-vs-vitality?matchType=Majors',\n",
       " 'https://www.hltv.org/stats/matches/mapstatsid/81690/faze-vs-renegades?matchType=Majors',\n",
       " 'https://www.hltv.org/stats/matches/mapstatsid/81685/avangar-vs-nrg?matchType=Majors',\n",
       " 'https://www.hltv.org/stats/matches/mapstatsid/81684/mibr-vs-complexity?matchType=Majors',\n",
       " 'https://www.hltv.org/stats/matches/mapstatsid/81680/ence-vs-hellraisers?matchType=Majors',\n",
       " 'https://www.hltv.org/stats/matches/mapstatsid/81679/big-vs-g2?matchType=Majors',\n",
       " 'https://www.hltv.org/stats/matches/mapstatsid/81671/cloud9-vs-mibr?matchType=Majors',\n",
       " 'https://www.hltv.org/stats/matches/mapstatsid/81670/complexity-vs-astralis?matchType=Majors',\n",
       " 'https://www.hltv.org/stats/matches/mapstatsid/81669/nip-vs-nrg?matchType=Majors',\n",
       " 'https://www.hltv.org/stats/matches/mapstatsid/81667/avangar-vs-liquid?matchType=Majors',\n",
       " 'https://www.hltv.org/stats/matches/mapstatsid/81665/natus-vincere-vs-g2?matchType=Majors',\n",
       " 'https://www.hltv.org/stats/matches/mapstatsid/81663/hellraisers-vs-faze?matchType=Majors',\n",
       " 'https://www.hltv.org/stats/matches/mapstatsid/81662/ence-vs-renegades?matchType=Majors',\n",
       " 'https://www.hltv.org/stats/matches/mapstatsid/81661/big-vs-vitality?matchType=Majors',\n",
       " 'https://www.hltv.org/stats/matches/mapstatsid/74129/astralis-vs-natus-vincere?matchType=Majors',\n",
       " 'https://www.hltv.org/stats/matches/mapstatsid/74128/natus-vincere-vs-astralis?matchType=Majors',\n",
       " 'https://www.hltv.org/stats/matches/mapstatsid/74061/astralis-vs-liquid?matchType=Majors',\n",
       " 'https://www.hltv.org/stats/matches/mapstatsid/74060/liquid-vs-astralis?matchType=Majors',\n",
       " 'https://www.hltv.org/stats/matches/mapstatsid/74059/natus-vincere-vs-mibr?matchType=Majors',\n",
       " 'https://www.hltv.org/stats/matches/mapstatsid/74058/mibr-vs-natus-vincere?matchType=Majors',\n",
       " 'https://www.hltv.org/stats/matches/mapstatsid/74055/faze-vs-astralis?matchType=Majors',\n",
       " 'https://www.hltv.org/stats/matches/mapstatsid/74053/astralis-vs-faze?matchType=Majors',\n",
       " 'https://www.hltv.org/stats/matches/mapstatsid/74051/hellraisers-vs-liquid?matchType=Majors',\n",
       " 'https://www.hltv.org/stats/matches/mapstatsid/74049/hellraisers-vs-liquid?matchType=Majors',\n",
       " 'https://www.hltv.org/stats/matches/mapstatsid/74048/hellraisers-vs-liquid?matchType=Majors',\n",
       " 'https://www.hltv.org/stats/matches/mapstatsid/74026/mibr-vs-complexity?matchType=Majors',\n",
       " 'https://www.hltv.org/stats/matches/mapstatsid/74021/complexity-vs-mibr?matchType=Majors',\n",
       " 'https://www.hltv.org/stats/matches/mapstatsid/74019/big-vs-natus-vincere?matchType=Majors',\n",
       " 'https://www.hltv.org/stats/matches/mapstatsid/74002/natus-vincere-vs-big?matchType=Majors',\n",
       " 'https://www.hltv.org/stats/matches/mapstatsid/73833/nip-vs-mibr?matchType=Majors',\n",
       " 'https://www.hltv.org/stats/matches/mapstatsid/73828/mibr-vs-nip?matchType=Majors',\n",
       " 'https://www.hltv.org/stats/matches/mapstatsid/73816/mibr-vs-nip?matchType=Majors',\n",
       " 'https://www.hltv.org/stats/matches/mapstatsid/73812/g2-vs-faze?matchType=Majors',\n",
       " 'https://www.hltv.org/stats/matches/mapstatsid/73811/g2-vs-faze?matchType=Majors',\n",
       " 'https://www.hltv.org/stats/matches/mapstatsid/73807/hellraisers-vs-fnatic?matchType=Majors',\n",
       " 'https://www.hltv.org/stats/matches/mapstatsid/73803/fnatic-vs-hellraisers?matchType=Majors',\n",
       " 'https://www.hltv.org/stats/matches/mapstatsid/73800/fnatic-vs-hellraisers?matchType=Majors',\n",
       " 'https://www.hltv.org/stats/matches/mapstatsid/73786/astralis-vs-mibr?matchType=Majors',\n",
       " 'https://www.hltv.org/stats/matches/mapstatsid/73779/g2-vs-cloud9?matchType=Majors',\n",
       " 'https://www.hltv.org/stats/matches/mapstatsid/73778/natus-vincere-vs-fnatic?matchType=Majors',\n",
       " 'https://www.hltv.org/stats/matches/mapstatsid/73775/tyloo-vs-faze?matchType=Majors',\n",
       " 'https://www.hltv.org/stats/matches/mapstatsid/73771/nip-vs-vega-squadron?matchType=Majors',\n",
       " 'https://www.hltv.org/stats/matches/mapstatsid/73767/hellraisers-vs-big?matchType=Majors',\n",
       " 'https://www.hltv.org/stats/matches/mapstatsid/73743/mousesports-vs-faze?matchType=Majors',\n",
       " 'https://www.hltv.org/stats/matches/mapstatsid/73739/astralis-vs-liquid?matchType=Majors',\n",
       " 'https://www.hltv.org/stats/matches/mapstatsid/73738/mibr-vs-g2?matchType=Majors',\n",
       " 'https://www.hltv.org/stats/matches/mapstatsid/73737/natus-vincere-vs-nip?matchType=Majors',\n",
       " 'https://www.hltv.org/stats/matches/mapstatsid/73736/big-vs-complexity?matchType=Majors',\n",
       " 'https://www.hltv.org/stats/matches/mapstatsid/73734/cloud9-vs-winstrike?matchType=Majors',\n",
       " 'https://www.hltv.org/stats/matches/mapstatsid/73733/tyloo-vs-hellraisers?matchType=Majors',\n",
       " 'https://www.hltv.org/stats/matches/mapstatsid/73732/fnatic-vs-vega-squadron?matchType=Majors',\n",
       " 'https://www.hltv.org/stats/matches/mapstatsid/73729/mousesports-vs-mibr?matchType=Majors',\n",
       " 'https://www.hltv.org/stats/matches/mapstatsid/73726/faze-vs-natus-vincere?matchType=Majors',\n",
       " 'https://www.hltv.org/stats/matches/mapstatsid/73725/nip-vs-liquid?matchType=Majors',\n",
       " 'https://www.hltv.org/stats/matches/mapstatsid/73724/g2-vs-complexity?matchType=Majors',\n",
       " 'https://www.hltv.org/stats/matches/mapstatsid/73719/cloud9-vs-hellraisers?matchType=Majors',\n",
       " 'https://www.hltv.org/stats/matches/mapstatsid/73717/astralis-vs-vega-squadron?matchType=Majors',\n",
       " 'https://www.hltv.org/stats/matches/mapstatsid/73713/fnatic-vs-winstrike?matchType=Majors',\n",
       " 'https://www.hltv.org/stats/matches/mapstatsid/73711/big-vs-tyloo?matchType=Majors',\n",
       " 'https://www.hltv.org/stats/matches/mapstatsid/73703/vega-squadron-vs-cloud9?matchType=Majors',\n",
       " 'https://www.hltv.org/stats/matches/mapstatsid/73698/astralis-vs-natus-vincere?matchType=Majors',\n",
       " 'https://www.hltv.org/stats/matches/mapstatsid/73695/mousesports-vs-nip?matchType=Majors',\n",
       " 'https://www.hltv.org/stats/matches/mapstatsid/73694/mibr-vs-tyloo?matchType=Majors',\n",
       " 'https://www.hltv.org/stats/matches/mapstatsid/73691/complexity-vs-fnatic?matchType=Majors',\n",
       " 'https://www.hltv.org/stats/matches/mapstatsid/73690/big-vs-faze?matchType=Majors',\n",
       " 'https://www.hltv.org/stats/matches/mapstatsid/73689/liquid-vs-winstrike?matchType=Majors',\n",
       " 'https://www.hltv.org/stats/matches/mapstatsid/73683/g2-vs-hellraisers?matchType=Majors',\n",
       " 'https://www.hltv.org/stats/matches/mapstatsid/60219/faze-vs-cloud9?matchType=Majors',\n",
       " 'https://www.hltv.org/stats/matches/mapstatsid/60218/cloud9-vs-faze?matchType=Majors',\n",
       " 'https://www.hltv.org/stats/matches/mapstatsid/60217/faze-vs-cloud9?matchType=Majors',\n",
       " 'https://www.hltv.org/stats/matches/mapstatsid/60198/cloud9-vs-sk?matchType=Majors',\n",
       " 'https://www.hltv.org/stats/matches/mapstatsid/60197/cloud9-vs-sk?matchType=Majors',\n",
       " 'https://www.hltv.org/stats/matches/mapstatsid/60196/sk-vs-cloud9?matchType=Majors',\n",
       " 'https://www.hltv.org/stats/matches/mapstatsid/60195/natus-vincere-vs-faze?matchType=Majors',\n",
       " 'https://www.hltv.org/stats/matches/mapstatsid/60194/faze-vs-natus-vincere?matchType=Majors',\n",
       " 'https://www.hltv.org/stats/matches/mapstatsid/60189/sk-vs-fnatic?matchType=Majors',\n",
       " 'https://www.hltv.org/stats/matches/mapstatsid/60188/fnatic-vs-sk?matchType=Majors',\n",
       " 'https://www.hltv.org/stats/matches/mapstatsid/60183/sk-vs-fnatic?matchType=Majors',\n",
       " 'https://www.hltv.org/stats/matches/mapstatsid/60174/cloud9-vs-g2?matchType=Majors',\n",
       " 'https://www.hltv.org/stats/matches/mapstatsid/60173/g2-vs-cloud9?matchType=Majors',\n",
       " 'https://www.hltv.org/stats/matches/mapstatsid/60172/quantum-bellator-fire-vs-natus-vincere?matchType=Majors',\n",
       " 'https://www.hltv.org/stats/matches/mapstatsid/60171/natus-vincere-vs-quantum-bellator-fire?matchType=Majors',\n",
       " 'https://www.hltv.org/stats/matches/mapstatsid/60170/mousesports-vs-faze?matchType=Majors',\n",
       " 'https://www.hltv.org/stats/matches/mapstatsid/60167/faze-vs-mousesports?matchType=Majors',\n",
       " 'https://www.hltv.org/stats/matches/mapstatsid/60032/mousesports-vs-space-soldiers?matchType=Majors',\n",
       " 'https://www.hltv.org/stats/matches/mapstatsid/60031/cloud9-vs-vega-squadron?matchType=Majors',\n",
       " 'https://www.hltv.org/stats/matches/mapstatsid/60026/gambit-vs-fnatic?matchType=Majors',\n",
       " 'https://www.hltv.org/stats/matches/mapstatsid/60025/natus-vincere-vs-fnatic?matchType=Majors',\n",
       " 'https://www.hltv.org/stats/matches/mapstatsid/60023/sk-vs-gambit?matchType=Majors',\n",
       " 'https://www.hltv.org/stats/matches/mapstatsid/60021/liquid-vs-vega-squadron?matchType=Majors',\n",
       " 'https://www.hltv.org/stats/matches/mapstatsid/60017/astralis-vs-cloud9?matchType=Majors',\n",
       " 'https://www.hltv.org/stats/matches/mapstatsid/60016/mousesports-vs-quantum-bellator-fire?matchType=Majors',\n",
       " 'https://www.hltv.org/stats/matches/mapstatsid/60015/big-vs-space-soldiers?matchType=Majors',\n",
       " 'https://www.hltv.org/stats/matches/mapstatsid/60003/gambit-vs-space-soldiers?matchType=Majors',\n",
       " 'https://www.hltv.org/stats/matches/mapstatsid/60001/cloud9-vs-virtuspro?matchType=Majors',\n",
       " 'https://www.hltv.org/stats/matches/mapstatsid/60000/faze-vs-sk?matchType=Majors',\n",
       " 'https://www.hltv.org/stats/matches/mapstatsid/59999/big-vs-north?matchType=Majors',\n",
       " 'https://www.hltv.org/stats/matches/mapstatsid/59997/fnatic-vs-astralis?matchType=Majors',\n",
       " 'https://www.hltv.org/stats/matches/mapstatsid/59993/quantum-bellator-fire-vs-g2?matchType=Majors',\n",
       " 'https://www.hltv.org/stats/matches/mapstatsid/59985/liquid-vs-natus-vincere?matchType=Majors',\n",
       " 'https://www.hltv.org/stats/matches/mapstatsid/59977/mousesports-vs-vega-squadron?matchType=Majors',\n",
       " 'https://www.hltv.org/stats/matches/mapstatsid/59970/astralis-vs-north?matchType=Majors',\n",
       " 'https://www.hltv.org/stats/matches/mapstatsid/59969/natus-vincere-vs-big?matchType=Majors',\n",
       " 'https://www.hltv.org/stats/matches/mapstatsid/59968/virtuspro-vs-fnatic?matchType=Majors',\n",
       " 'https://www.hltv.org/stats/matches/mapstatsid/59967/mousesports-vs-sk?matchType=Majors',\n",
       " 'https://www.hltv.org/stats/matches/mapstatsid/59966/g2-vs-liquid?matchType=Majors',\n",
       " 'https://www.hltv.org/stats/matches/mapstatsid/59965/faze-vs-vega-squadron?matchType=Majors',\n",
       " 'https://www.hltv.org/stats/matches/mapstatsid/59964/cloud9-vs-space-soldiers?matchType=Majors',\n",
       " 'https://www.hltv.org/stats/matches/mapstatsid/59958/quantum-bellator-fire-vs-gambit?matchType=Majors',\n",
       " 'https://www.hltv.org/stats/matches/mapstatsid/59936/space-soldiers-vs-sk?matchType=Majors',\n",
       " 'https://www.hltv.org/stats/matches/mapstatsid/59935/natus-vincere-vs-gambit?matchType=Majors',\n",
       " 'https://www.hltv.org/stats/matches/mapstatsid/59934/g2-vs-cloud9?matchType=Majors',\n",
       " 'https://www.hltv.org/stats/matches/mapstatsid/59932/astralis-vs-mousesports?matchType=Majors',\n",
       " 'https://www.hltv.org/stats/matches/mapstatsid/59929/fnatic-vs-faze?matchType=Majors',\n",
       " 'https://www.hltv.org/stats/matches/mapstatsid/59927/liquid-vs-big?matchType=Majors',\n",
       " 'https://www.hltv.org/stats/matches/mapstatsid/59926/virtuspro-vs-quantum-bellator-fire?matchType=Majors',\n",
       " 'https://www.hltv.org/stats/matches/mapstatsid/59930/vega-squadron-vs-north?matchType=Majors',\n",
       " 'https://www.hltv.org/stats/matches/mapstatsid/49967/gambit-vs-immortals?matchType=Majors',\n",
       " 'https://www.hltv.org/stats/matches/mapstatsid/49966/immortals-vs-gambit?matchType=Majors',\n",
       " 'https://www.hltv.org/stats/matches/mapstatsid/49962/gambit-vs-immortals?matchType=Majors',\n",
       " 'https://www.hltv.org/stats/matches/mapstatsid/49956/immortals-vs-virtuspro?matchType=Majors',\n",
       " 'https://www.hltv.org/stats/matches/mapstatsid/49955/virtuspro-vs-immortals?matchType=Majors',\n",
       " 'https://www.hltv.org/stats/matches/mapstatsid/49954/gambit-vs-astralis?matchType=Majors',\n",
       " 'https://www.hltv.org/stats/matches/mapstatsid/49953/gambit-vs-astralis?matchType=Majors',\n",
       " 'https://www.hltv.org/stats/matches/mapstatsid/49952/gambit-vs-astralis?matchType=Majors',\n",
       " 'https://www.hltv.org/stats/matches/mapstatsid/49951/north-vs-virtuspro?matchType=Majors',\n",
       " 'https://www.hltv.org/stats/matches/mapstatsid/49950/virtuspro-vs-north?matchType=Majors',\n",
       " 'https://www.hltv.org/stats/matches/mapstatsid/49889/immortals-vs-big?matchType=Majors',\n",
       " 'https://www.hltv.org/stats/matches/mapstatsid/49887/immortals-vs-big?matchType=Majors',\n",
       " 'https://www.hltv.org/stats/matches/mapstatsid/49881/immortals-vs-big?matchType=Majors',\n",
       " 'https://www.hltv.org/stats/matches/mapstatsid/49878/sk-vs-astralis?matchType=Majors',\n",
       " 'https://www.hltv.org/stats/matches/mapstatsid/49875/astralis-vs-sk?matchType=Majors',\n",
       " 'https://www.hltv.org/stats/matches/mapstatsid/49874/gambit-vs-fnatic?matchType=Majors',\n",
       " 'https://www.hltv.org/stats/matches/mapstatsid/49873/fnatic-vs-gambit?matchType=Majors',\n",
       " 'https://www.hltv.org/stats/matches/mapstatsid/49814/immortals-vs-flipsid3?matchType=Majors',\n",
       " 'https://www.hltv.org/stats/matches/mapstatsid/49812/cloud9-vs-virtuspro?matchType=Majors',\n",
       " 'https://www.hltv.org/stats/matches/mapstatsid/49809/g2-vs-fnatic?matchType=Majors',\n",
       " 'https://www.hltv.org/stats/matches/mapstatsid/49803/sk-vs-immortals?matchType=Majors',\n",
       " 'https://www.hltv.org/stats/matches/mapstatsid/49798/virtuspro-vs-north?matchType=Majors',\n",
       " 'https://www.hltv.org/stats/matches/mapstatsid/49797/g2-vs-astralis?matchType=Majors',\n",
       " 'https://www.hltv.org/stats/matches/mapstatsid/49792/natus-vincere-vs-fnatic?matchType=Majors',\n",
       " 'https://www.hltv.org/stats/matches/mapstatsid/49786/penta-vs-flipsid3?matchType=Majors',\n",
       " 'https://www.hltv.org/stats/matches/mapstatsid/49781/mousesports-vs-cloud9?matchType=Majors',\n",
       " 'https://www.hltv.org/stats/matches/mapstatsid/49772/sk-vs-big?matchType=Majors',\n",
       " 'https://www.hltv.org/stats/matches/mapstatsid/49769/virtuspro-vs-gambit?matchType=Majors',\n",
       " 'https://www.hltv.org/stats/matches/mapstatsid/49766/fnatic-vs-astralis?matchType=Majors',\n",
       " 'https://www.hltv.org/stats/matches/mapstatsid/49759/g2-vs-cloud9?matchType=Majors',\n",
       " 'https://www.hltv.org/stats/matches/mapstatsid/49758/natus-vincere-vs-immortals?matchType=Majors',\n",
       " 'https://www.hltv.org/stats/matches/mapstatsid/49755/north-vs-mousesports?matchType=Majors',\n",
       " 'https://www.hltv.org/stats/matches/mapstatsid/49749/faze-vs-flipsid3?matchType=Majors',\n",
       " 'https://www.hltv.org/stats/matches/mapstatsid/49735/vega-squadron-vs-penta?matchType=Majors',\n",
       " 'https://www.hltv.org/stats/matches/mapstatsid/49728/virtuspro-vs-fnatic?matchType=Majors',\n",
       " 'https://www.hltv.org/stats/matches/mapstatsid/49724/astralis-vs-sk?matchType=Majors',\n",
       " 'https://www.hltv.org/stats/matches/mapstatsid/49718/g2-vs-gambit?matchType=Majors',\n",
       " 'https://www.hltv.org/stats/matches/mapstatsid/49710/cloud9-vs-big?matchType=Majors',\n",
       " 'https://www.hltv.org/stats/matches/mapstatsid/49707/vega-squadron-vs-immortals?matchType=Majors',\n",
       " 'https://www.hltv.org/stats/matches/mapstatsid/49706/natus-vincere-vs-flipsid3?matchType=Majors',\n",
       " 'https://www.hltv.org/stats/matches/mapstatsid/49701/faze-vs-mousesports?matchType=Majors',\n",
       " 'https://www.hltv.org/stats/matches/mapstatsid/49697/north-vs-penta?matchType=Majors',\n",
       " 'https://www.hltv.org/stats/matches/mapstatsid/49684/astralis-vs-immortals?matchType=Majors',\n",
       " 'https://www.hltv.org/stats/matches/mapstatsid/49678/natus-vincere-vs-g2?matchType=Majors',\n",
       " 'https://www.hltv.org/stats/matches/mapstatsid/49675/cloud9-vs-north?matchType=Majors',\n",
       " 'https://www.hltv.org/stats/matches/mapstatsid/49671/faze-vs-big?matchType=Majors',\n",
       " 'https://www.hltv.org/stats/matches/mapstatsid/49670/sk-vs-penta?matchType=Majors',\n",
       " 'https://www.hltv.org/stats/matches/mapstatsid/49667/vega-squadron-vs-virtuspro?matchType=Majors',\n",
       " 'https://www.hltv.org/stats/matches/mapstatsid/49665/fnatic-vs-flipsid3?matchType=Majors',\n",
       " 'https://www.hltv.org/stats/matches/mapstatsid/49658/mousesports-vs-gambit?matchType=Majors',\n",
       " 'https://www.hltv.org/stats/matches/mapstatsid/41025/astralis-vs-virtuspro?matchType=Majors',\n",
       " 'https://www.hltv.org/stats/matches/mapstatsid/41023/virtuspro-vs-astralis?matchType=Majors',\n",
       " 'https://www.hltv.org/stats/matches/mapstatsid/41021/astralis-vs-virtuspro?matchType=Majors',\n",
       " 'https://www.hltv.org/stats/matches/mapstatsid/41014/sk-vs-virtuspro?matchType=Majors',\n",
       " 'https://www.hltv.org/stats/matches/mapstatsid/41012/virtuspro-vs-sk?matchType=Majors',\n",
       " 'https://www.hltv.org/stats/matches/mapstatsid/41011/fnatic-vs-astralis?matchType=Majors',\n",
       " 'https://www.hltv.org/stats/matches/mapstatsid/41009/astralis-vs-fnatic?matchType=Majors',\n",
       " 'https://www.hltv.org/stats/matches/mapstatsid/41007/sk-vs-faze?matchType=Majors',\n",
       " 'https://www.hltv.org/stats/matches/mapstatsid/41004/faze-vs-sk?matchType=Majors',\n",
       " 'https://www.hltv.org/stats/matches/mapstatsid/41000/sk-vs-faze?matchType=Majors',\n",
       " 'https://www.hltv.org/stats/matches/mapstatsid/40993/north-vs-virtuspro?matchType=Majors',\n",
       " 'https://www.hltv.org/stats/matches/mapstatsid/40992/north-vs-virtuspro?matchType=Majors',\n",
       " 'https://www.hltv.org/stats/matches/mapstatsid/40991/virtuspro-vs-north?matchType=Majors',\n",
       " 'https://www.hltv.org/stats/matches/mapstatsid/40988/gambit-vs-fnatic?matchType=Majors',\n",
       " 'https://www.hltv.org/stats/matches/mapstatsid/40987/fnatic-vs-gambit?matchType=Majors',\n",
       " 'https://www.hltv.org/stats/matches/mapstatsid/40984/gambit-vs-fnatic?matchType=Majors',\n",
       " 'https://www.hltv.org/stats/matches/mapstatsid/40980/natus-vincere-vs-astralis?matchType=Majors',\n",
       " 'https://www.hltv.org/stats/matches/mapstatsid/40977/astralis-vs-natus-vincere?matchType=Majors',\n",
       " 'https://www.hltv.org/stats/matches/mapstatsid/40976/natus-vincere-vs-astralis?matchType=Majors',\n",
       " 'https://www.hltv.org/stats/matches/mapstatsid/40967/astralis-vs-liquid?matchType=Majors',\n",
       " 'https://www.hltv.org/stats/matches/mapstatsid/40965/envy-vs-faze?matchType=Majors',\n",
       " 'https://www.hltv.org/stats/matches/mapstatsid/40963/godsent-vs-north?matchType=Majors',\n",
       " 'https://www.hltv.org/stats/matches/mapstatsid/40962/faze-vs-gambit?matchType=Majors',\n",
       " 'https://www.hltv.org/stats/matches/mapstatsid/40956/astralis-vs-sk?matchType=Majors',\n",
       " 'https://www.hltv.org/stats/matches/mapstatsid/40953/optic-vs-godsent?matchType=Majors',\n",
       " 'https://www.hltv.org/stats/matches/mapstatsid/40952/liquid-vs-mousesports?matchType=Majors',\n",
       " 'https://www.hltv.org/stats/matches/mapstatsid/40951/fnatic-vs-envy?matchType=Majors',\n",
       " 'https://www.hltv.org/stats/matches/mapstatsid/40946/g2-vs-north?matchType=Majors',\n",
       " 'https://www.hltv.org/stats/matches/mapstatsid/40944/optic-vs-flipsid3?matchType=Majors',\n",
       " 'https://www.hltv.org/stats/matches/mapstatsid/40941/faze-vs-liquid?matchType=Majors',\n",
       " 'https://www.hltv.org/stats/matches/mapstatsid/40940/natus-vincere-vs-sk?matchType=Majors',\n",
       " 'https://www.hltv.org/stats/matches/mapstatsid/40937/g2-vs-astralis?matchType=Majors',\n",
       " 'https://www.hltv.org/stats/matches/mapstatsid/40935/virtuspro-vs-gambit?matchType=Majors',\n",
       " 'https://www.hltv.org/stats/matches/mapstatsid/40931/hellraisers-vs-north?matchType=Majors',\n",
       " 'https://www.hltv.org/stats/matches/mapstatsid/40928/envy-vs-godsent?matchType=Majors',\n",
       " 'https://www.hltv.org/stats/matches/mapstatsid/40925/mousesports-vs-fnatic?matchType=Majors',\n",
       " 'https://www.hltv.org/stats/matches/mapstatsid/40921/g2-vs-virtuspro?matchType=Majors',\n",
       " 'https://www.hltv.org/stats/matches/mapstatsid/40920/gambit-vs-godsent?matchType=Majors',\n",
       " 'https://www.hltv.org/stats/matches/mapstatsid/40919/astralis-vs-optic?matchType=Majors',\n",
       " 'https://www.hltv.org/stats/matches/mapstatsid/40918/fnatic-vs-north?matchType=Majors',\n",
       " 'https://www.hltv.org/stats/matches/mapstatsid/40917/liquid-vs-flipsid3?matchType=Majors',\n",
       " 'https://www.hltv.org/stats/matches/mapstatsid/40913/sk-vs-faze?matchType=Majors',\n",
       " 'https://www.hltv.org/stats/matches/mapstatsid/40912/natus-vincere-vs-envy?matchType=Majors',\n",
       " 'https://www.hltv.org/stats/matches/mapstatsid/40911/mousesports-vs-hellraisers?matchType=Majors',\n",
       " 'https://www.hltv.org/stats/matches/mapstatsid/40902/faze-vs-flipsid3?matchType=Majors',\n",
       " 'https://www.hltv.org/stats/matches/mapstatsid/40901/godsent-vs-astralis?matchType=Majors',\n",
       " 'https://www.hltv.org/stats/matches/mapstatsid/40896/liquid-vs-envy?matchType=Majors',\n",
       " 'https://www.hltv.org/stats/matches/mapstatsid/40891/natus-vincere-vs-mousesports?matchType=Majors',\n",
       " 'https://www.hltv.org/stats/matches/mapstatsid/40888/virtuspro-vs-optic?matchType=Majors',\n",
       " 'https://www.hltv.org/stats/matches/mapstatsid/40887/hellraisers-vs-sk?matchType=Majors',\n",
       " 'https://www.hltv.org/stats/matches/mapstatsid/40886/g2-vs-fnatic?matchType=Majors',\n",
       " 'https://www.hltv.org/stats/matches/mapstatsid/40885/north-vs-gambit?matchType=Majors',\n",
       " 'https://www.hltv.org/stats/matches/mapstatsid/32417/sk-vs-liquid?matchType=Majors',\n",
       " 'https://www.hltv.org/stats/matches/mapstatsid/32415/liquid-vs-sk?matchType=Majors',\n",
       " 'https://www.hltv.org/stats/matches/mapstatsid/32394/liquid-vs-fnatic?matchType=Majors',\n",
       " 'https://www.hltv.org/stats/matches/mapstatsid/32393/fnatic-vs-liquid?matchType=Majors',\n",
       " 'https://www.hltv.org/stats/matches/mapstatsid/32388/virtuspro-vs-sk?matchType=Majors',\n",
       " 'https://www.hltv.org/stats/matches/mapstatsid/32379/sk-vs-virtuspro?matchType=Majors',\n",
       " 'https://www.hltv.org/stats/matches/mapstatsid/32370/virtuspro-vs-sk?matchType=Majors',\n",
       " 'https://www.hltv.org/stats/matches/mapstatsid/32358/gambit-vs-fnatic?matchType=Majors',\n",
       " 'https://www.hltv.org/stats/matches/mapstatsid/32357/gambit-vs-fnatic?matchType=Majors',\n",
       " 'https://www.hltv.org/stats/matches/mapstatsid/32356/natus-vincere-vs-liquid?matchType=Majors',\n",
       " 'https://www.hltv.org/stats/matches/mapstatsid/32355/natus-vincere-vs-liquid?matchType=Majors',\n",
       " 'https://www.hltv.org/stats/matches/mapstatsid/32354/liquid-vs-natus-vincere?matchType=Majors',\n",
       " 'https://www.hltv.org/stats/matches/mapstatsid/32352/sk-vs-flipsid3?matchType=Majors',\n",
       " 'https://www.hltv.org/stats/matches/mapstatsid/32351/flipsid3-vs-sk?matchType=Majors',\n",
       " 'https://www.hltv.org/stats/matches/mapstatsid/32349/astralis-vs-virtuspro?matchType=Majors',\n",
       " 'https://www.hltv.org/stats/matches/mapstatsid/32347/virtuspro-vs-astralis?matchType=Majors',\n",
       " 'https://www.hltv.org/stats/matches/mapstatsid/32346/fnatic-vs-faze?matchType=Majors',\n",
       " 'https://www.hltv.org/stats/matches/mapstatsid/32345/faze-vs-fnatic?matchType=Majors',\n",
       " 'https://www.hltv.org/stats/matches/mapstatsid/32344/liquid-vs-mousesports?matchType=Majors',\n",
       " 'https://www.hltv.org/stats/matches/mapstatsid/32342/liquid-vs-mousesports?matchType=Majors',\n",
       " 'https://www.hltv.org/stats/matches/mapstatsid/32338/nip-vs-flipsid3?matchType=Majors',\n",
       " 'https://www.hltv.org/stats/matches/mapstatsid/32337/flipsid3-vs-nip?matchType=Majors',\n",
       " 'https://www.hltv.org/stats/matches/mapstatsid/32336/flipsid3-vs-nip?matchType=Majors',\n",
       " 'https://www.hltv.org/stats/matches/mapstatsid/32335/astralis-vs-dignitas?matchType=Majors',\n",
       " 'https://www.hltv.org/stats/matches/mapstatsid/32334/dignitas-vs-astralis?matchType=Majors',\n",
       " 'https://www.hltv.org/stats/matches/mapstatsid/32332/astralis-vs-dignitas?matchType=Majors',\n",
       " 'https://www.hltv.org/stats/matches/mapstatsid/32327/g2-vs-fnatic?matchType=Majors',\n",
       " 'https://www.hltv.org/stats/matches/mapstatsid/32326/sk-vs-faze?matchType=Majors',\n",
       " 'https://www.hltv.org/stats/matches/mapstatsid/32323/mousesports-vs-envy?matchType=Majors',\n",
       " 'https://www.hltv.org/stats/matches/mapstatsid/32322/virtuspro-vs-liquid?matchType=Majors',\n",
       " 'https://www.hltv.org/stats/matches/mapstatsid/32321/flipsid3-vs-optic?matchType=Majors',\n",
       " 'https://www.hltv.org/stats/matches/mapstatsid/32320/natus-vincere-vs-nip?matchType=Majors',\n",
       " 'https://www.hltv.org/stats/matches/mapstatsid/32319/clg-vs-dignitas?matchType=Majors',\n",
       " 'https://www.hltv.org/stats/matches/mapstatsid/32318/astralis-vs-gambit?matchType=Majors',\n",
       " 'https://www.hltv.org/stats/matches/mapstatsid/32305/faze-vs-fnatic?matchType=Majors',\n",
       " 'https://www.hltv.org/stats/matches/mapstatsid/32302/sk-vs-g2?matchType=Majors',\n",
       " 'https://www.hltv.org/stats/matches/mapstatsid/32297/virtuspro-vs-mousesports?matchType=Majors',\n",
       " 'https://www.hltv.org/stats/matches/mapstatsid/32296/envy-vs-liquid?matchType=Majors',\n",
       " 'https://www.hltv.org/stats/matches/mapstatsid/32295/optic-vs-nip?matchType=Majors',\n",
       " 'https://www.hltv.org/stats/matches/mapstatsid/32294/natus-vincere-vs-flipsid3?matchType=Majors',\n",
       " 'https://www.hltv.org/stats/matches/mapstatsid/32293/clg-vs-gambit?matchType=Majors',\n",
       " 'https://www.hltv.org/stats/matches/mapstatsid/32292/dignitas-vs-astralis?matchType=Majors',\n",
       " 'https://www.hltv.org/stats/matches/mapstatsid/29610/luminosity-vs-natus-vincere?matchType=Majors',\n",
       " 'https://www.hltv.org/stats/matches/mapstatsid/29608/natus-vincere-vs-luminosity?matchType=Majors',\n",
       " 'https://www.hltv.org/stats/matches/mapstatsid/29603/liquid-vs-luminosity?matchType=Majors',\n",
       " 'https://www.hltv.org/stats/matches/mapstatsid/29601/liquid-vs-luminosity?matchType=Majors',\n",
       " 'https://www.hltv.org/stats/matches/mapstatsid/29600/astralis-vs-natus-vincere?matchType=Majors',\n",
       " 'https://www.hltv.org/stats/matches/mapstatsid/29599/natus-vincere-vs-astralis?matchType=Majors',\n",
       " 'https://www.hltv.org/stats/matches/mapstatsid/29592/virtuspro-vs-luminosity?matchType=Majors',\n",
       " 'https://www.hltv.org/stats/matches/mapstatsid/29589/luminosity-vs-virtuspro?matchType=Majors',\n",
       " 'https://www.hltv.org/stats/matches/mapstatsid/29587/luminosity-vs-virtuspro?matchType=Majors',\n",
       " 'https://www.hltv.org/stats/matches/mapstatsid/29575/liquid-vs-clg?matchType=Majors',\n",
       " 'https://www.hltv.org/stats/matches/mapstatsid/29574/liquid-vs-clg?matchType=Majors',\n",
       " 'https://www.hltv.org/stats/matches/mapstatsid/29573/fnatic-vs-astralis?matchType=Majors',\n",
       " 'https://www.hltv.org/stats/matches/mapstatsid/29572/astralis-vs-fnatic?matchType=Majors',\n",
       " 'https://www.hltv.org/stats/matches/mapstatsid/29571/nip-vs-natus-vincere?matchType=Majors',\n",
       " 'https://www.hltv.org/stats/matches/mapstatsid/29570/natus-vincere-vs-nip?matchType=Majors',\n",
       " 'https://www.hltv.org/stats/matches/mapstatsid/29569/g2-vs-virtuspro?matchType=Majors',\n",
       " 'https://www.hltv.org/stats/matches/mapstatsid/29568/virtuspro-vs-g2?matchType=Majors',\n",
       " 'https://www.hltv.org/stats/matches/mapstatsid/29567/g2-vs-virtuspro?matchType=Majors',\n",
       " 'https://www.hltv.org/stats/matches/mapstatsid/29566/gambit-vs-clg?matchType=Majors',\n",
       " 'https://www.hltv.org/stats/matches/mapstatsid/29565/clg-vs-gambit?matchType=Majors',\n",
       " 'https://www.hltv.org/stats/matches/mapstatsid/29564/clg-vs-gambit?matchType=Majors',\n",
       " 'https://www.hltv.org/stats/matches/mapstatsid/29563/fnatic-vs-faze?matchType=Majors',\n",
       " 'https://www.hltv.org/stats/matches/mapstatsid/29560/fnatic-vs-faze?matchType=Majors',\n",
       " 'https://www.hltv.org/stats/matches/mapstatsid/29559/nip-vs-mousesports?matchType=Majors',\n",
       " 'https://www.hltv.org/stats/matches/mapstatsid/29558/mousesports-vs-nip?matchType=Majors',\n",
       " 'https://www.hltv.org/stats/matches/mapstatsid/29557/mousesports-vs-nip?matchType=Majors',\n",
       " 'https://www.hltv.org/stats/matches/mapstatsid/29556/virtuspro-vs-natus-vincere?matchType=Majors',\n",
       " 'https://www.hltv.org/stats/matches/mapstatsid/29555/clg-vs-astralis?matchType=Majors',\n",
       " 'https://www.hltv.org/stats/matches/mapstatsid/29552/fnatic-vs-liquid?matchType=Majors',\n",
       " 'https://www.hltv.org/stats/matches/mapstatsid/29551/luminosity-vs-nip?matchType=Majors',\n",
       " 'https://www.hltv.org/stats/matches/mapstatsid/29550/g2-vs-cloud9?matchType=Majors',\n",
       " 'https://www.hltv.org/stats/matches/mapstatsid/29549/gambit-vs-envy?matchType=Majors',\n",
       " 'https://www.hltv.org/stats/matches/mapstatsid/29548/splyce-vs-faze?matchType=Majors',\n",
       " 'https://www.hltv.org/stats/matches/mapstatsid/29540/flipsid3-vs-mousesports?matchType=Majors',\n",
       " 'https://www.hltv.org/stats/matches/mapstatsid/29539/g2-vs-virtuspro?matchType=Majors',\n",
       " 'https://www.hltv.org/stats/matches/mapstatsid/29538/cloud9-vs-natus-vincere?matchType=Majors',\n",
       " 'https://www.hltv.org/stats/matches/mapstatsid/29537/gambit-vs-astralis?matchType=Majors',\n",
       " 'https://www.hltv.org/stats/matches/mapstatsid/29536/clg-vs-envy?matchType=Majors',\n",
       " 'https://www.hltv.org/stats/matches/mapstatsid/29535/splyce-vs-fnatic?matchType=Majors',\n",
       " 'https://www.hltv.org/stats/matches/mapstatsid/29534/faze-vs-liquid?matchType=Majors',\n",
       " 'https://www.hltv.org/stats/matches/mapstatsid/29533/luminosity-vs-mousesports?matchType=Majors',\n",
       " 'https://www.hltv.org/stats/matches/mapstatsid/29735/flipsid3-vs-nip?matchType=Majors',\n",
       " 'https://www.hltv.org/stats/matches/mapstatsid/25275/natus-vincere-vs-envy?matchType=Majors',\n",
       " 'https://www.hltv.org/stats/matches/mapstatsid/25274/envy-vs-natus-vincere?matchType=Majors',\n",
       " 'https://www.hltv.org/stats/matches/mapstatsid/25273/natus-vincere-vs-nip?matchType=Majors',\n",
       " 'https://www.hltv.org/stats/matches/mapstatsid/25272/nip-vs-natus-vincere?matchType=Majors',\n",
       " 'https://www.hltv.org/stats/matches/mapstatsid/25271/envy-vs-g2?matchType=Majors',\n",
       " 'https://www.hltv.org/stats/matches/mapstatsid/25267/g2-vs-envy?matchType=Majors',\n",
       " 'https://www.hltv.org/stats/matches/mapstatsid/25266/envy-vs-g2?matchType=Majors',\n",
       " 'https://www.hltv.org/stats/matches/mapstatsid/25265/luminosity-vs-natus-vincere?matchType=Majors',\n",
       " 'https://www.hltv.org/stats/matches/mapstatsid/25264/natus-vincere-vs-luminosity?matchType=Majors',\n",
       " 'https://www.hltv.org/stats/matches/mapstatsid/25263/tsm-vs-nip?matchType=Majors',\n",
       " 'https://www.hltv.org/stats/matches/mapstatsid/25262/nip-vs-tsm?matchType=Majors',\n",
       " 'https://www.hltv.org/stats/matches/mapstatsid/25260/g2-vs-virtuspro?matchType=Majors',\n",
       " 'https://www.hltv.org/stats/matches/mapstatsid/25259/virtuspro-vs-g2?matchType=Majors',\n",
       " 'https://www.hltv.org/stats/matches/mapstatsid/25258/fnatic-vs-envy?matchType=Majors',\n",
       " 'https://www.hltv.org/stats/matches/mapstatsid/25257/envy-vs-fnatic?matchType=Majors',\n",
       " 'https://www.hltv.org/stats/matches/mapstatsid/25256/envy-vs-fnatic?matchType=Majors',\n",
       " 'https://www.hltv.org/stats/matches/mapstatsid/25255/natus-vincere-vs-clg?matchType=Majors',\n",
       " 'https://www.hltv.org/stats/matches/mapstatsid/25254/clg-vs-natus-vincere?matchType=Majors',\n",
       " 'https://www.hltv.org/stats/matches/mapstatsid/25253/natus-vincere-vs-clg?matchType=Majors',\n",
       " 'https://www.hltv.org/stats/matches/mapstatsid/25252/nip-vs-titan?matchType=Majors',\n",
       " 'https://www.hltv.org/stats/matches/mapstatsid/25251/titan-vs-nip?matchType=Majors',\n",
       " 'https://www.hltv.org/stats/matches/mapstatsid/25250/g2-vs-mousesports?matchType=Majors',\n",
       " 'https://www.hltv.org/stats/matches/mapstatsid/25249/mousesports-vs-g2?matchType=Majors',\n",
       " 'https://www.hltv.org/stats/matches/mapstatsid/25247/g2-vs-mousesports?matchType=Majors',\n",
       " 'https://www.hltv.org/stats/matches/mapstatsid/25244/cloud9-vs-fnatic?matchType=Majors',\n",
       " 'https://www.hltv.org/stats/matches/mapstatsid/25243/cloud9-vs-fnatic?matchType=Majors',\n",
       " 'https://www.hltv.org/stats/matches/mapstatsid/25242/natus-vincere-vs-envy?matchType=Majors',\n",
       " 'https://www.hltv.org/stats/matches/mapstatsid/25241/virtuspro-vs-titan?matchType=Majors',\n",
       " 'https://www.hltv.org/stats/matches/mapstatsid/25240/tsm-vs-g2?matchType=Majors',\n",
       " 'https://www.hltv.org/stats/matches/mapstatsid/25239/luminosity-vs-fnatic?matchType=Majors',\n",
       " 'https://www.hltv.org/stats/matches/mapstatsid/25238/dignitas-vs-clg?matchType=Majors',\n",
       " 'https://www.hltv.org/stats/matches/mapstatsid/25237/liquid-vs-nip?matchType=Majors',\n",
       " 'https://www.hltv.org/stats/matches/mapstatsid/25236/flipsid3-vs-mousesports?matchType=Majors',\n",
       " 'https://www.hltv.org/stats/matches/mapstatsid/25235/vexed-vs-cloud9?matchType=Majors',\n",
       " 'https://www.hltv.org/stats/matches/mapstatsid/25234/natus-vincere-vs-clg?matchType=Majors',\n",
       " 'https://www.hltv.org/stats/matches/mapstatsid/25233/envy-vs-dignitas?matchType=Majors',\n",
       " 'https://www.hltv.org/stats/matches/mapstatsid/25232/titan-vs-nip?matchType=Majors',\n",
       " 'https://www.hltv.org/stats/matches/mapstatsid/25230/virtuspro-vs-liquid?matchType=Majors',\n",
       " 'https://www.hltv.org/stats/matches/mapstatsid/25229/mousesports-vs-g2?matchType=Majors',\n",
       " 'https://www.hltv.org/stats/matches/mapstatsid/25228/flipsid3-vs-tsm?matchType=Majors',\n",
       " 'https://www.hltv.org/stats/matches/mapstatsid/25227/luminosity-vs-cloud9?matchType=Majors',\n",
       " 'https://www.hltv.org/stats/matches/mapstatsid/25226/vexed-vs-fnatic?matchType=Majors',\n",
       " 'https://www.hltv.org/stats/matches/mapstatsid/22282/envy-vs-fnatic?matchType=Majors',\n",
       " 'https://www.hltv.org/stats/matches/mapstatsid/22280/fnatic-vs-envy?matchType=Majors',\n",
       " 'https://www.hltv.org/stats/matches/mapstatsid/22279/fnatic-vs-virtuspro?matchType=Majors',\n",
       " 'https://www.hltv.org/stats/matches/mapstatsid/22278/virtuspro-vs-fnatic?matchType=Majors',\n",
       " 'https://www.hltv.org/stats/matches/mapstatsid/22276/fnatic-vs-virtuspro?matchType=Majors',\n",
       " 'https://www.hltv.org/stats/matches/mapstatsid/22275/tsm-vs-envy?matchType=Majors',\n",
       " 'https://www.hltv.org/stats/matches/mapstatsid/22274/envy-vs-tsm?matchType=Majors',\n",
       " 'https://www.hltv.org/stats/matches/mapstatsid/22273/tsm-vs-envy?matchType=Majors',\n",
       " 'https://www.hltv.org/stats/matches/mapstatsid/22271/luminosity-vs-fnatic?matchType=Majors',\n",
       " 'https://www.hltv.org/stats/matches/mapstatsid/22270/fnatic-vs-luminosity?matchType=Majors',\n",
       " 'https://www.hltv.org/stats/matches/mapstatsid/22269/virtuspro-vs-nip?matchType=Majors',\n",
       " 'https://www.hltv.org/stats/matches/mapstatsid/22268/nip-vs-virtuspro?matchType=Majors',\n",
       " 'https://www.hltv.org/stats/matches/mapstatsid/22267/kinguin-vs-tsm?matchType=Majors',\n",
       " 'https://www.hltv.org/stats/matches/mapstatsid/22266/tsm-vs-kinguin?matchType=Majors',\n",
       " 'https://www.hltv.org/stats/matches/mapstatsid/22265/envy-vs-natus-vincere?matchType=Majors',\n",
       " 'https://www.hltv.org/stats/matches/mapstatsid/22264/natus-vincere-vs-envy?matchType=Majors',\n",
       " 'https://www.hltv.org/stats/matches/mapstatsid/22261/luminosity-vs-flipsid3?matchType=Majors',\n",
       " 'https://www.hltv.org/stats/matches/mapstatsid/22260/mousesports-vs-flipsid3?matchType=Majors',\n",
       " 'https://www.hltv.org/stats/matches/mapstatsid/22259/nip-vs-renegades?matchType=Majors',\n",
       " 'https://www.hltv.org/stats/matches/mapstatsid/22258/renegades-vs-titan?matchType=Majors',\n",
       " 'https://www.hltv.org/stats/matches/mapstatsid/22257/natus-vincere-vs-clg?matchType=Majors',\n",
       " 'https://www.hltv.org/stats/matches/mapstatsid/22256/clg-vs-ebettle?matchType=Majors',\n",
       " 'https://www.hltv.org/stats/matches/mapstatsid/22255/kinguin-vs-cloud9?matchType=Majors',\n",
       " 'https://www.hltv.org/stats/matches/mapstatsid/22253/immunity-vs-kinguin?matchType=Majors',\n",
       " 'https://www.hltv.org/stats/matches/mapstatsid/22252/fnatic-vs-natus-vincere?matchType=Majors',\n",
       " 'https://www.hltv.org/stats/matches/mapstatsid/22251/virtuspro-vs-cloud9?matchType=Majors',\n",
       " 'https://www.hltv.org/stats/matches/mapstatsid/22249/natus-vincere-vs-titan?matchType=Majors',\n",
       " 'https://www.hltv.org/stats/matches/mapstatsid/22248/mousesports-vs-cloud9?matchType=Majors',\n",
       " 'https://www.hltv.org/stats/matches/mapstatsid/22246/fnatic-vs-ebettle?matchType=Majors',\n",
       " 'https://www.hltv.org/stats/matches/mapstatsid/22245/virtuspro-vs-immunity?matchType=Majors',\n",
       " 'https://www.hltv.org/stats/matches/mapstatsid/22243/envy-vs-luminosity?matchType=Majors',\n",
       " 'https://www.hltv.org/stats/matches/mapstatsid/22242/nip-vs-tsm?matchType=Majors',\n",
       " 'https://www.hltv.org/stats/matches/mapstatsid/22240/tsm-vs-renegades?matchType=Majors',\n",
       " 'https://www.hltv.org/stats/matches/mapstatsid/22239/luminosity-vs-kinguin?matchType=Majors',\n",
       " 'https://www.hltv.org/stats/matches/mapstatsid/22238/nip-vs-clg?matchType=Majors',\n",
       " 'https://www.hltv.org/stats/matches/mapstatsid/22236/envy-vs-flipsid3?matchType=Majors',\n",
       " 'https://www.hltv.org/stats/matches/mapstatsid/19275/fnatic-vs-nip?matchType=Majors',\n",
       " 'https://www.hltv.org/stats/matches/mapstatsid/19274/fnatic-vs-nip?matchType=Majors',\n",
       " 'https://www.hltv.org/stats/matches/mapstatsid/19273/fnatic-vs-nip?matchType=Majors',\n",
       " 'https://www.hltv.org/stats/matches/mapstatsid/19272/envy-vs-nip?matchType=Majors',\n",
       " 'https://www.hltv.org/stats/matches/mapstatsid/19271/envy-vs-nip?matchType=Majors',\n",
       " 'https://www.hltv.org/stats/matches/mapstatsid/19270/fnatic-vs-virtuspro?matchType=Majors',\n",
       " 'https://www.hltv.org/stats/matches/mapstatsid/19268/virtuspro-vs-fnatic?matchType=Majors',\n",
       " 'https://www.hltv.org/stats/matches/mapstatsid/19267/nip-vs-tsm?matchType=Majors',\n",
       " 'https://www.hltv.org/stats/matches/mapstatsid/19266/nip-vs-tsm?matchType=Majors',\n",
       " 'https://www.hltv.org/stats/matches/mapstatsid/19265/tsm-vs-nip?matchType=Majors',\n",
       " 'https://www.hltv.org/stats/matches/mapstatsid/19264/virtuspro-vs-keyd-stars?matchType=Majors',\n",
       " 'https://www.hltv.org/stats/matches/mapstatsid/19262/keyd-stars-vs-virtuspro?matchType=Majors',\n",
       " 'https://www.hltv.org/stats/matches/mapstatsid/19261/virtuspro-vs-keyd-stars?matchType=Majors',\n",
       " 'https://www.hltv.org/stats/matches/mapstatsid/19260/fnatic-vs-penta?matchType=Majors',\n",
       " 'https://www.hltv.org/stats/matches/mapstatsid/19259/penta-vs-fnatic?matchType=Majors',\n",
       " 'https://www.hltv.org/stats/matches/mapstatsid/19258/envy-vs-natus-vincere?matchType=Majors',\n",
       " 'https://www.hltv.org/stats/matches/mapstatsid/19257/envy-vs-natus-vincere?matchType=Majors',\n",
       " 'https://www.hltv.org/stats/matches/mapstatsid/19256/natus-vincere-vs-envy?matchType=Majors',\n",
       " 'https://www.hltv.org/stats/matches/mapstatsid/19255/tsm-vs-cloud9?matchType=Majors',\n",
       " 'https://www.hltv.org/stats/matches/mapstatsid/19253/virtuspro-vs-cloud9?matchType=Majors',\n",
       " 'https://www.hltv.org/stats/matches/mapstatsid/19252/clg-vs-keyd-stars?matchType=Majors',\n",
       " 'https://www.hltv.org/stats/matches/mapstatsid/19254/tsm-vs-3dmax?matchType=Majors',\n",
       " 'https://www.hltv.org/stats/matches/mapstatsid/19251/clg-vs-nip?matchType=Majors',\n",
       " 'https://www.hltv.org/stats/matches/mapstatsid/19250/hellraisers-vs-keyd-stars?matchType=Majors',\n",
       " 'https://www.hltv.org/stats/matches/mapstatsid/19249/tsm-vs-cloud9?matchType=Majors',\n",
       " 'https://www.hltv.org/stats/matches/mapstatsid/19248/virtuspro-vs-3dmax?matchType=Majors',\n",
       " 'https://www.hltv.org/stats/matches/mapstatsid/19247/keyd-stars-vs-nip?matchType=Majors',\n",
       " 'https://www.hltv.org/stats/matches/mapstatsid/19245/natus-vincere-vs-vox-eminor?matchType=Majors',\n",
       " 'https://www.hltv.org/stats/matches/mapstatsid/19246/hellraisers-vs-clg?matchType=Majors',\n",
       " 'https://www.hltv.org/stats/matches/mapstatsid/19244/penta-vs-lgb?matchType=Majors',\n",
       " 'https://www.hltv.org/stats/matches/mapstatsid/19243/natus-vincere-vs-fnatic?matchType=Majors',\n",
       " 'https://www.hltv.org/stats/matches/mapstatsid/19242/vox-eminor-vs-flipsid3?matchType=Majors',\n",
       " 'https://www.hltv.org/stats/matches/mapstatsid/19241/penta-vs-titan?matchType=Majors',\n",
       " 'https://www.hltv.org/stats/matches/mapstatsid/19240/envy-vs-lgb?matchType=Majors',\n",
       " 'https://www.hltv.org/stats/matches/mapstatsid/19239/natus-vincere-vs-flipsid3?matchType=Majors',\n",
       " 'https://www.hltv.org/stats/matches/mapstatsid/19238/fnatic-vs-vox-eminor?matchType=Majors',\n",
       " 'https://www.hltv.org/stats/matches/mapstatsid/19236/lgb-vs-penta?matchType=Majors',\n",
       " 'https://www.hltv.org/stats/matches/mapstatsid/19237/envy-vs-titan?matchType=Majors',\n",
       " 'https://www.hltv.org/stats/matches/mapstatsid/18729/nip-vs-ldlc?matchType=Majors',\n",
       " 'https://www.hltv.org/stats/matches/mapstatsid/18728/nip-vs-ldlc?matchType=Majors',\n",
       " 'https://www.hltv.org/stats/matches/mapstatsid/18727/ldlc-vs-nip?matchType=Majors',\n",
       " 'https://www.hltv.org/stats/matches/mapstatsid/18726/ldlc-vs-natus-vincere?matchType=Majors',\n",
       " 'https://www.hltv.org/stats/matches/mapstatsid/18725/natus-vincere-vs-ldlc?matchType=Majors',\n",
       " 'https://www.hltv.org/stats/matches/mapstatsid/18724/nip-vs-virtuspro?matchType=Majors',\n",
       " 'https://www.hltv.org/stats/matches/mapstatsid/18723/nip-vs-virtuspro?matchType=Majors',\n",
       " 'https://www.hltv.org/stats/matches/mapstatsid/18720/virtuspro-vs-nip?matchType=Majors',\n",
       " 'https://www.hltv.org/stats/matches/mapstatsid/18719/dignitas-vs-natus-vincere?matchType=Majors',\n",
       " 'https://www.hltv.org/stats/matches/mapstatsid/18718/natus-vincere-vs-dignitas?matchType=Majors',\n",
       " 'https://www.hltv.org/stats/matches/mapstatsid/18716/ldlc-vs-fnatic?matchType=Majors',\n",
       " 'https://www.hltv.org/stats/matches/mapstatsid/18715/fnatic-vs-ldlc?matchType=Majors',\n",
       " 'https://www.hltv.org/stats/matches/mapstatsid/18714/penta-vs-virtuspro?matchType=Majors',\n",
       " 'https://www.hltv.org/stats/matches/mapstatsid/18713/virtuspro-vs-penta?matchType=Majors',\n",
       " 'https://www.hltv.org/stats/matches/mapstatsid/18712/nip-vs-hellraisers?matchType=Majors',\n",
       " 'https://www.hltv.org/stats/matches/mapstatsid/18711/hellraisers-vs-nip?matchType=Majors',\n",
       " 'https://www.hltv.org/stats/matches/mapstatsid/18709/natus-vincere-vs-flipsid3?matchType=Majors',\n",
       " 'https://www.hltv.org/stats/matches/mapstatsid/18708/nip-vs-esc?matchType=Majors',\n",
       " 'https://www.hltv.org/stats/matches/mapstatsid/18707/flipsid3-vs-myxmg?matchType=Majors',\n",
       " 'https://www.hltv.org/stats/matches/mapstatsid/18706/planetkey-vs-esc?matchType=Majors',\n",
       " 'https://www.hltv.org/stats/matches/mapstatsid/18704/ldlc-vs-nip?matchType=Majors',\n",
       " 'https://www.hltv.org/stats/matches/mapstatsid/18705/virtuspro-vs-natus-vincere?matchType=Majors',\n",
       " 'https://www.hltv.org/stats/matches/mapstatsid/18703/nip-vs-planetkey?matchType=Majors',\n",
       " 'https://www.hltv.org/stats/matches/mapstatsid/18702/natus-vincere-vs-flipsid3?matchType=Majors',\n",
       " 'https://www.hltv.org/stats/matches/mapstatsid/18699/ldlc-vs-esc?matchType=Majors',\n",
       " 'https://www.hltv.org/stats/matches/mapstatsid/18701/virtuspro-vs-myxmg?matchType=Majors',\n",
       " 'https://www.hltv.org/stats/matches/mapstatsid/18698/fnatic-vs-cloud9?matchType=Majors',\n",
       " 'https://www.hltv.org/stats/matches/mapstatsid/18700/ibuypower-vs-penta?matchType=Majors',\n",
       " 'https://www.hltv.org/stats/matches/mapstatsid/18697/cloud9-vs-bravado?matchType=Majors',\n",
       " 'https://www.hltv.org/stats/matches/mapstatsid/18692/penta-vs-cph-wolves?matchType=Majors',\n",
       " 'https://www.hltv.org/stats/matches/mapstatsid/18694/fnatic-vs-hellraisers?matchType=Majors',\n",
       " 'https://www.hltv.org/stats/matches/mapstatsid/18695/dignitas-vs-ibuypower?matchType=Majors',\n",
       " 'https://www.hltv.org/stats/matches/mapstatsid/18696/cloud9-vs-hellraisers?matchType=Majors',\n",
       " 'https://www.hltv.org/stats/matches/mapstatsid/18693/ibuypower-vs-cph-wolves?matchType=Majors',\n",
       " 'https://www.hltv.org/stats/matches/mapstatsid/18691/fnatic-vs-bravado?matchType=Majors',\n",
       " 'https://www.hltv.org/stats/matches/mapstatsid/18690/dignitas-vs-penta?matchType=Majors',\n",
       " 'https://www.hltv.org/stats/matches/mapstatsid/17564/fnatic-vs-nip?matchType=Majors',\n",
       " 'https://www.hltv.org/stats/matches/mapstatsid/17563/fnatic-vs-nip?matchType=Majors',\n",
       " 'https://www.hltv.org/stats/matches/mapstatsid/17562/fnatic-vs-nip?matchType=Majors',\n",
       " 'https://www.hltv.org/stats/matches/mapstatsid/17561/ldlc-vs-nip?matchType=Majors',\n",
       " 'https://www.hltv.org/stats/matches/mapstatsid/17560/ldlc-vs-nip?matchType=Majors',\n",
       " 'https://www.hltv.org/stats/matches/mapstatsid/17559/nip-vs-ldlc?matchType=Majors',\n",
       " 'https://www.hltv.org/stats/matches/mapstatsid/17558/dignitas-vs-fnatic?matchType=Majors',\n",
       " 'https://www.hltv.org/stats/matches/mapstatsid/17557/fnatic-vs-dignitas?matchType=Majors',\n",
       " 'https://www.hltv.org/stats/matches/mapstatsid/17556/cloud9-vs-nip?matchType=Majors',\n",
       " 'https://www.hltv.org/stats/matches/mapstatsid/17555/cloud9-vs-nip?matchType=Majors',\n",
       " 'https://www.hltv.org/stats/matches/mapstatsid/17554/cloud9-vs-nip?matchType=Majors',\n",
       " 'https://www.hltv.org/stats/matches/mapstatsid/17553/ldlc-vs-virtuspro?matchType=Majors',\n",
       " 'https://www.hltv.org/stats/matches/mapstatsid/17552/virtuspro-vs-ldlc?matchType=Majors',\n",
       " 'https://www.hltv.org/stats/matches/mapstatsid/17551/epsilon-vs-dignitas?matchType=Majors',\n",
       " 'https://www.hltv.org/stats/matches/mapstatsid/17550/dignitas-vs-epsilon?matchType=Majors',\n",
       " 'https://www.hltv.org/stats/matches/mapstatsid/17549/natus-vincere-vs-fnatic?matchType=Majors',\n",
       " 'https://www.hltv.org/stats/matches/mapstatsid/17548/natus-vincere-vs-fnatic?matchType=Majors',\n",
       " 'https://www.hltv.org/stats/matches/mapstatsid/17547/natus-vincere-vs-fnatic?matchType=Majors',\n",
       " 'https://www.hltv.org/stats/matches/mapstatsid/17546/dignitas-vs-titan?matchType=Majors',\n",
       " 'https://www.hltv.org/stats/matches/mapstatsid/17545/dignitas-vs-cloud9?matchType=Majors',\n",
       " 'https://www.hltv.org/stats/matches/mapstatsid/17544/virtuspro-vs-ibuypower?matchType=Majors',\n",
       " 'https://www.hltv.org/stats/matches/mapstatsid/17542/virtuspro-vs-fnatic?matchType=Majors',\n",
       " 'https://www.hltv.org/stats/matches/mapstatsid/17540/cph-wolves-vs-natus-vincere?matchType=Majors',\n",
       " 'https://www.hltv.org/stats/matches/mapstatsid/17539/ldlc-vs-natus-vincere?matchType=Majors',\n",
       " 'https://www.hltv.org/stats/matches/mapstatsid/17538/nip-vs-hellraisers?matchType=Majors',\n",
       " 'https://www.hltv.org/stats/matches/mapstatsid/17537/nip-vs-epsilon?matchType=Majors',\n",
       " 'https://www.hltv.org/stats/matches/mapstatsid/17536/titan-vs-vox-eminor?matchType=Majors',\n",
       " 'https://www.hltv.org/stats/matches/mapstatsid/17533/cloud9-vs-titan?matchType=Majors',\n",
       " 'https://www.hltv.org/stats/matches/mapstatsid/17532/dignitas-vs-vox-eminor?matchType=Majors',\n",
       " 'https://www.hltv.org/stats/matches/mapstatsid/17531/ibuypower-vs-dat?matchType=Majors',\n",
       " 'https://www.hltv.org/stats/matches/mapstatsid/17530/fnatic-vs-ibuypower?matchType=Majors',\n",
       " 'https://www.hltv.org/stats/matches/mapstatsid/17529/virtuspro-vs-dat?matchType=Majors',\n",
       " 'https://www.hltv.org/stats/matches/mapstatsid/17528/cph-wolves-vs-london-conspiracy?matchType=Majors',\n",
       " 'https://www.hltv.org/stats/matches/mapstatsid/17527/natus-vincere-vs-cph-wolves?matchType=Majors',\n",
       " 'https://www.hltv.org/stats/matches/mapstatsid/17526/ldlc-vs-london-conspiracy?matchType=Majors',\n",
       " 'https://www.hltv.org/stats/matches/mapstatsid/17525/hellraisers-vs-wolves?matchType=Majors',\n",
       " 'https://www.hltv.org/stats/matches/mapstatsid/17524/epsilon-vs-hellraisers?matchType=Majors',\n",
       " 'https://www.hltv.org/stats/matches/mapstatsid/17523/wolves-vs-nip?matchType=Majors',\n",
       " 'https://www.hltv.org/stats/matches/mapstatsid/16520/virtuspro-vs-nip?matchType=Majors',\n",
       " 'https://www.hltv.org/stats/matches/mapstatsid/16519/nip-vs-virtuspro?matchType=Majors',\n",
       " 'https://www.hltv.org/stats/matches/mapstatsid/16518/lgb-vs-virtuspro?matchType=Majors',\n",
       " 'https://www.hltv.org/stats/matches/mapstatsid/16515/lgb-vs-virtuspro?matchType=Majors',\n",
       " 'https://www.hltv.org/stats/matches/mapstatsid/16514/virtuspro-vs-lgb?matchType=Majors',\n",
       " 'https://www.hltv.org/stats/matches/mapstatsid/16513/dignitas-vs-nip?matchType=Majors',\n",
       " 'https://www.hltv.org/stats/matches/mapstatsid/16512/nip-vs-dignitas?matchType=Majors',\n",
       " 'https://www.hltv.org/stats/matches/mapstatsid/16511/fnatic-vs-lgb?matchType=Majors',\n",
       " 'https://www.hltv.org/stats/matches/mapstatsid/16510/fnatic-vs-lgb?matchType=Majors',\n",
       " 'https://www.hltv.org/stats/matches/mapstatsid/16508/lgb-vs-fnatic?matchType=Majors',\n",
       " 'https://www.hltv.org/stats/matches/mapstatsid/16507/nip-vs-complexity?matchType=Majors',\n",
       " 'https://www.hltv.org/stats/matches/mapstatsid/16506/complexity-vs-nip?matchType=Majors',\n",
       " 'https://www.hltv.org/stats/matches/mapstatsid/16505/nip-vs-complexity?matchType=Majors',\n",
       " 'https://www.hltv.org/stats/matches/mapstatsid/16504/virtuspro-vs-ldlc?matchType=Majors',\n",
       " 'https://www.hltv.org/stats/matches/mapstatsid/16503/ldlc-vs-virtuspro?matchType=Majors',\n",
       " 'https://www.hltv.org/stats/matches/mapstatsid/16502/dignitas-vs-hellraisers?matchType=Majors',\n",
       " 'https://www.hltv.org/stats/matches/mapstatsid/16501/dignitas-vs-hellraisers?matchType=Majors',\n",
       " 'https://www.hltv.org/stats/matches/mapstatsid/16499/complexity-vs-clan-mystik?matchType=Majors',\n",
       " 'https://www.hltv.org/stats/matches/mapstatsid/16497/reason-vs-fnatic?matchType=Majors',\n",
       " 'https://www.hltv.org/stats/matches/mapstatsid/16498/dignitas-vs-reason?matchType=Majors',\n",
       " 'https://www.hltv.org/stats/matches/mapstatsid/16496/ibuypower-vs-fnatic?matchType=Majors',\n",
       " 'https://www.hltv.org/stats/matches/mapstatsid/16500/natus-vincere-vs-clan-mystik?matchType=Majors',\n",
       " 'https://www.hltv.org/stats/matches/mapstatsid/16495/complexity-vs-lgb?matchType=Majors',\n",
       " 'https://www.hltv.org/stats/matches/mapstatsid/16494/clan-mystik-vs-complexity?matchType=Majors',\n",
       " 'https://www.hltv.org/stats/matches/mapstatsid/16493/dignitas-vs-ibuypower?matchType=Majors',\n",
       " 'https://www.hltv.org/stats/matches/mapstatsid/16492/reason-vs-fnatic?matchType=Majors',\n",
       " 'https://www.hltv.org/stats/matches/mapstatsid/16491/lgb-vs-natus-vincere?matchType=Majors',\n",
       " 'https://www.hltv.org/stats/matches/mapstatsid/16490/ldlc-vs-3dmax?matchType=Majors',\n",
       " 'https://www.hltv.org/stats/matches/mapstatsid/16489/titan-vs-hellraisers?matchType=Majors',\n",
       " 'https://www.hltv.org/stats/matches/mapstatsid/16488/vox-eminor-vs-3dmax?matchType=Majors',\n",
       " 'https://www.hltv.org/stats/matches/mapstatsid/16487/mousesports-vs-hellraisers?matchType=Majors',\n",
       " 'https://www.hltv.org/stats/matches/mapstatsid/16486/nip-vs-ldlc?matchType=Majors',\n",
       " 'https://www.hltv.org/stats/matches/mapstatsid/16485/titan-vs-virtuspro?matchType=Majors',\n",
       " 'https://www.hltv.org/stats/matches/mapstatsid/16484/ldlc-vs-vox-eminor?matchType=Majors',\n",
       " 'https://www.hltv.org/stats/matches/mapstatsid/16481/virtuspro-vs-hellraisers?matchType=Majors',\n",
       " 'https://www.hltv.org/stats/matches/mapstatsid/16483/titan-vs-mousesports?matchType=Majors',\n",
       " 'https://www.hltv.org/stats/matches/mapstatsid/16480/nip-vs-3dmax?matchType=Majors',\n",
       " 'https://www.hltv.org/stats/matches/mapstatsid/15856/fnatic-vs-nip?matchType=Majors',\n",
       " 'https://www.hltv.org/stats/matches/mapstatsid/15855/nip-vs-fnatic?matchType=Majors',\n",
       " 'https://www.hltv.org/stats/matches/mapstatsid/15854/fnatic-vs-nip?matchType=Majors',\n",
       " 'https://www.hltv.org/stats/matches/mapstatsid/15853/complexity-vs-fnatic?matchType=Majors',\n",
       " 'https://www.hltv.org/stats/matches/mapstatsid/15852/fnatic-vs-complexity?matchType=Majors',\n",
       " 'https://www.hltv.org/stats/matches/mapstatsid/15851/nip-vs-verygames?matchType=Majors',\n",
       " 'https://www.hltv.org/stats/matches/mapstatsid/15850/verygames-vs-nip?matchType=Majors',\n",
       " 'https://www.hltv.org/stats/matches/mapstatsid/15849/nip-vs-verygames?matchType=Majors',\n",
       " 'https://www.hltv.org/stats/matches/mapstatsid/15846/astana-dragons-vs-complexity?matchType=Majors',\n",
       " 'https://www.hltv.org/stats/matches/mapstatsid/15845/complexity-vs-astana-dragons?matchType=Majors',\n",
       " 'https://www.hltv.org/stats/matches/mapstatsid/15844/complexity-vs-astana-dragons?matchType=Majors',\n",
       " 'https://www.hltv.org/stats/matches/mapstatsid/15843/verygames-vs-cph-wolves?matchType=Majors',\n",
       " 'https://www.hltv.org/stats/matches/mapstatsid/15842/verygames-vs-cph-wolves?matchType=Majors',\n",
       " 'https://www.hltv.org/stats/matches/mapstatsid/15841/verygames-vs-cph-wolves?matchType=Majors',\n",
       " 'https://www.hltv.org/stats/matches/mapstatsid/15839/reason-vs-astana-dragons?matchType=Majors',\n",
       " 'https://www.hltv.org/stats/matches/mapstatsid/15838/sk-vs-reason?matchType=Majors',\n",
       " 'https://www.hltv.org/stats/matches/mapstatsid/15840/cph-wolves-vs-astana-dragons?matchType=Majors',\n",
       " 'https://www.hltv.org/stats/matches/mapstatsid/15837/cph-wolves-vs-sk?matchType=Majors',\n",
       " 'https://www.hltv.org/stats/matches/mapstatsid/15836/astana-dragons-vs-reason?matchType=Majors',\n",
       " 'https://www.hltv.org/stats/matches/mapstatsid/15835/nfaculty-vs-verygames?matchType=Majors',\n",
       " 'https://www.hltv.org/stats/matches/mapstatsid/15834/complexity-vs-verygames?matchType=Majors',\n",
       " 'https://www.hltv.org/stats/matches/mapstatsid/15833/xapso-vs-nfaculty?matchType=Majors',\n",
       " 'https://www.hltv.org/stats/matches/mapstatsid/15832/xapso-vs-verygames?matchType=Majors',\n",
       " 'https://www.hltv.org/stats/matches/mapstatsid/15831/complexity-vs-nfaculty?matchType=Majors',\n",
       " 'https://www.hltv.org/stats/matches/mapstatsid/15830/lgb-vs-nip?matchType=Majors',\n",
       " 'https://www.hltv.org/stats/matches/mapstatsid/15829/lgb-vs-nip?matchType=Majors',\n",
       " 'https://www.hltv.org/stats/matches/mapstatsid/15828/lgb-vs-nip?matchType=Majors',\n",
       " 'https://www.hltv.org/stats/matches/mapstatsid/15827/fnatic-vs-recursive?matchType=Majors',\n",
       " 'https://www.hltv.org/stats/matches/mapstatsid/15826/recursive-vs-fnatic?matchType=Majors',\n",
       " 'https://www.hltv.org/stats/matches/mapstatsid/15825/fnatic-vs-recursive?matchType=Majors',\n",
       " 'https://www.hltv.org/stats/matches/mapstatsid/15824/universalsoldiers-vs-recursive?matchType=Majors',\n",
       " 'https://www.hltv.org/stats/matches/mapstatsid/15823/universalsoldiers-vs-nip?matchType=Majors',\n",
       " 'https://www.hltv.org/stats/matches/mapstatsid/15822/ibuypower-vs-recursive?matchType=Majors',\n",
       " 'https://www.hltv.org/stats/matches/mapstatsid/15821/universalsoldiers-vs-ibuypower?matchType=Majors',\n",
       " 'https://www.hltv.org/stats/matches/mapstatsid/15820/nip-vs-recursive?matchType=Majors',\n",
       " 'https://www.hltv.org/stats/matches/mapstatsid/15819/lgb-vs-clan-mystik?matchType=Majors',\n",
       " 'https://www.hltv.org/stats/matches/mapstatsid/15818/clan-mystik-vs-fnatic?matchType=Majors',\n",
       " 'https://www.hltv.org/stats/matches/mapstatsid/15817/lgb-vs-natus-vincere?matchType=Majors',\n",
       " 'https://www.hltv.org/stats/matches/mapstatsid/15816/natus-vincere-vs-fnatic?matchType=Majors',\n",
       " 'https://www.hltv.org/stats/matches/mapstatsid/15815/clan-mystik-vs-lgb?matchType=Majors']"
      ]
     },
     "execution_count": 5,
     "metadata": {},
     "output_type": "execute_result"
    }
   ],
   "source": [
    "# While the next page returns a value, scrape\n",
    "while(endURL != None):\n",
    "    # Logger message\n",
    "    logger.info('Scraping new event page: %s' % nextURL)\n",
    "    \n",
    "    # Using urllib and BeautifulSoup, parse HTML page\n",
    "    soup = get_html_soup(nextURL)\n",
    "    \n",
    "    # Scrape match URLs from match results page\n",
    "    majorURLList, endURL = get_urls(soup, majorURLList)\n",
    "    \n",
    "    # Check to see if value returned is None, if not form next URL\n",
    "    if endURL != None:\n",
    "        nextURL = nextURL = get_full_url(endURL)\n",
    "\n",
    "# Return list\n",
    "majorURLList"
   ]
  },
  {
   "cell_type": "markdown",
   "metadata": {
    "papermill": {
     "duration": 0.036998,
     "end_time": "2019-05-10T18:19:32.676387",
     "exception": false,
     "start_time": "2019-05-10T18:19:32.639389",
     "status": "completed"
    },
    "tags": []
   },
   "source": [
    "After successfully scraping the URLs, the necessary statistics are now scraped from the individual matches. Two DataFrames are created, one for the overall match statistics and one for individual player statistics for each match. In these DataFrames first kills are abbrieviated to FK, first deaths to FD, percentage of kills that were first kills to FK%K, and percentage of deaths that were first deaths to FK%D."
   ]
  },
  {
   "cell_type": "code",
   "execution_count": 6,
   "metadata": {
    "papermill": {
     "duration": 0.056011,
     "end_time": "2019-05-10T18:19:32.769407",
     "exception": false,
     "start_time": "2019-05-10T18:19:32.713396",
     "status": "completed"
    },
    "tags": []
   },
   "outputs": [],
   "source": [
    "# Match statistics\n",
    "dfMatchStats = pd.DataFrame(columns=[\"Event\", \"Date\", \"Match ID\", \"Team 1\", \"Team 2\", \"Map\", \"Team 1 Rounds\", \n",
    "                                     \"Team 2 Rounds\", \"Total Rounds\", \"Winner\", \"Team 1 FK\", \"Team 2 FK\", \n",
    "                                     \"Team 1 Clutches\", \"Team 2 Clutches\", \"Team 1 Rating\", \"Team 2 Rating\"])\n",
    "\n",
    "# Player statistics\n",
    "dfPlayerStats = pd.DataFrame(columns=[\"Event\", \"Date\", \"Match ID\", \"Player\", \"Team\", \"Map\", \"Rounds\", \"Kills\", \n",
    "                                      \"Deaths\", \"FK\", \"FD\", \"FK%K\", \"FD%D\", \"Rating\"])"
   ]
  },
  {
   "cell_type": "markdown",
   "metadata": {
    "papermill": {
     "duration": 0.037008,
     "end_time": "2019-05-10T18:19:32.844425",
     "exception": false,
     "start_time": "2019-05-10T18:19:32.807417",
     "status": "completed"
    },
    "tags": []
   },
   "source": [
    "For each URL, the same method of scraping is used that was used previously. Using the functions declared earlier, each HTML is scraped for the statistics needed and the data is appeneded to the corresponding DataFrame."
   ]
  },
  {
   "cell_type": "code",
   "execution_count": 7,
   "metadata": {
    "papermill": {
     "duration": 1607.34902,
     "end_time": "2019-05-10T18:46:20.229453",
     "exception": false,
     "start_time": "2019-05-10T18:19:32.880433",
     "status": "completed"
    },
    "scrolled": true,
    "tags": []
   },
   "outputs": [
    {
     "name": "stderr",
     "output_type": "stream",
     "text": [
      "2019-05-10 19:19:32.931 | INFO     | __main__:<module>:4 - Scraping new match: https://www.hltv.org/stats/matches/mapstatsid/82145/ence-vs-astralis?matchType=Majors\n"
     ]
    },
    {
     "name": "stderr",
     "output_type": "stream",
     "text": [
      "2019-05-10 19:19:35.392 | INFO     | __main__:<module>:4 - Scraping new match: https://www.hltv.org/stats/matches/mapstatsid/82143/astralis-vs-ence?matchType=Majors\n"
     ]
    },
    {
     "name": "stderr",
     "output_type": "stream",
     "text": [
      "2019-05-10 19:19:38.031 | INFO     | __main__:<module>:4 - Scraping new match: https://www.hltv.org/stats/matches/mapstatsid/82123/mibr-vs-astralis?matchType=Majors\n"
     ]
    },
    {
     "name": "stderr",
     "output_type": "stream",
     "text": [
      "2019-05-10 19:19:40.617 | INFO     | __main__:<module>:4 - Scraping new match: https://www.hltv.org/stats/matches/mapstatsid/82121/astralis-vs-mibr?matchType=Majors\n"
     ]
    },
    {
     "name": "stderr",
     "output_type": "stream",
     "text": [
      "2019-05-10 19:19:43.177 | INFO     | __main__:<module>:4 - Scraping new match: https://www.hltv.org/stats/matches/mapstatsid/82120/natus-vincere-vs-ence?matchType=Majors\n"
     ]
    },
    {
     "name": "stderr",
     "output_type": "stream",
     "text": [
      "2019-05-10 19:19:45.754 | INFO     | __main__:<module>:4 - Scraping new match: https://www.hltv.org/stats/matches/mapstatsid/82119/ence-vs-natus-vincere?matchType=Majors\n"
     ]
    },
    {
     "name": "stderr",
     "output_type": "stream",
     "text": [
      "2019-05-10 19:19:48.285 | INFO     | __main__:<module>:4 - Scraping new match: https://www.hltv.org/stats/matches/mapstatsid/82117/natus-vincere-vs-ence?matchType=Majors\n"
     ]
    },
    {
     "name": "stderr",
     "output_type": "stream",
     "text": [
      "2019-05-10 19:19:50.880 | INFO     | __main__:<module>:4 - Scraping new match: https://www.hltv.org/stats/matches/mapstatsid/82095/nip-vs-astralis?matchType=Majors\n"
     ]
    },
    {
     "name": "stderr",
     "output_type": "stream",
     "text": [
      "2019-05-10 19:19:53.514 | INFO     | __main__:<module>:4 - Scraping new match: https://www.hltv.org/stats/matches/mapstatsid/82091/astralis-vs-nip?matchType=Majors\n"
     ]
    },
    {
     "name": "stderr",
     "output_type": "stream",
     "text": [
      "2019-05-10 19:19:56.063 | INFO     | __main__:<module>:4 - Scraping new match: https://www.hltv.org/stats/matches/mapstatsid/82087/renegades-vs-mibr?matchType=Majors\n"
     ]
    },
    {
     "name": "stderr",
     "output_type": "stream",
     "text": [
      "2019-05-10 19:19:58.620 | INFO     | __main__:<module>:4 - Scraping new match: https://www.hltv.org/stats/matches/mapstatsid/82082/mibr-vs-renegades?matchType=Majors\n"
     ]
    },
    {
     "name": "stderr",
     "output_type": "stream",
     "text": [
      "2019-05-10 19:20:01.168 | INFO     | __main__:<module>:4 - Scraping new match: https://www.hltv.org/stats/matches/mapstatsid/82063/ence-vs-liquid?matchType=Majors\n"
     ]
    },
    {
     "name": "stderr",
     "output_type": "stream",
     "text": [
      "2019-05-10 19:20:03.733 | INFO     | __main__:<module>:4 - Scraping new match: https://www.hltv.org/stats/matches/mapstatsid/82058/liquid-vs-ence?matchType=Majors\n"
     ]
    },
    {
     "name": "stderr",
     "output_type": "stream",
     "text": [
      "2019-05-10 19:20:06.483 | INFO     | __main__:<module>:4 - Scraping new match: https://www.hltv.org/stats/matches/mapstatsid/82050/faze-vs-natus-vincere?matchType=Majors\n"
     ]
    },
    {
     "name": "stderr",
     "output_type": "stream",
     "text": [
      "2019-05-10 19:20:09.080 | INFO     | __main__:<module>:4 - Scraping new match: https://www.hltv.org/stats/matches/mapstatsid/82045/natus-vincere-vs-faze?matchType=Majors\n"
     ]
    },
    {
     "name": "stderr",
     "output_type": "stream",
     "text": [
      "2019-05-10 19:20:11.630 | INFO     | __main__:<module>:4 - Scraping new match: https://www.hltv.org/stats/matches/mapstatsid/81885/cloud9-vs-faze?matchType=Majors\n"
     ]
    },
    {
     "name": "stderr",
     "output_type": "stream",
     "text": [
      "2019-05-10 19:20:14.244 | INFO     | __main__:<module>:4 - Scraping new match: https://www.hltv.org/stats/matches/mapstatsid/81879/faze-vs-cloud9?matchType=Majors\n"
     ]
    },
    {
     "name": "stderr",
     "output_type": "stream",
     "text": [
      "2019-05-10 19:20:16.814 | INFO     | __main__:<module>:4 - Scraping new match: https://www.hltv.org/stats/matches/mapstatsid/81873/nip-vs-vitality?matchType=Majors\n"
     ]
    },
    {
     "name": "stderr",
     "output_type": "stream",
     "text": [
      "2019-05-10 19:20:19.386 | INFO     | __main__:<module>:4 - Scraping new match: https://www.hltv.org/stats/matches/mapstatsid/81870/vitality-vs-nip?matchType=Majors\n"
     ]
    },
    {
     "name": "stderr",
     "output_type": "stream",
     "text": [
      "2019-05-10 19:20:21.939 | INFO     | __main__:<module>:4 - Scraping new match: https://www.hltv.org/stats/matches/mapstatsid/81868/nip-vs-vitality?matchType=Majors\n"
     ]
    },
    {
     "name": "stderr",
     "output_type": "stream",
     "text": [
      "2019-05-10 19:20:24.632 | INFO     | __main__:<module>:4 - Scraping new match: https://www.hltv.org/stats/matches/mapstatsid/81861/avangar-vs-ence?matchType=Majors\n"
     ]
    },
    {
     "name": "stderr",
     "output_type": "stream",
     "text": [
      "2019-05-10 19:20:27.184 | INFO     | __main__:<module>:4 - Scraping new match: https://www.hltv.org/stats/matches/mapstatsid/81851/ence-vs-avangar?matchType=Majors\n"
     ]
    },
    {
     "name": "stderr",
     "output_type": "stream",
     "text": [
      "2019-05-10 19:20:29.772 | INFO     | __main__:<module>:4 - Scraping new match: https://www.hltv.org/stats/matches/mapstatsid/81836/hellraisers-vs-cloud9?matchType=Majors\n"
     ]
    },
    {
     "name": "stderr",
     "output_type": "stream",
     "text": [
      "2019-05-10 19:20:32.358 | INFO     | __main__:<module>:4 - Scraping new match: https://www.hltv.org/stats/matches/mapstatsid/81834/cloud9-vs-hellraisers?matchType=Majors\n"
     ]
    },
    {
     "name": "stderr",
     "output_type": "stream",
     "text": [
      "2019-05-10 19:20:34.944 | INFO     | __main__:<module>:4 - Scraping new match: https://www.hltv.org/stats/matches/mapstatsid/81833/faze-vs-complexity?matchType=Majors\n"
     ]
    },
    {
     "name": "stderr",
     "output_type": "stream",
     "text": [
      "2019-05-10 19:20:37.530 | INFO     | __main__:<module>:4 - Scraping new match: https://www.hltv.org/stats/matches/mapstatsid/81832/complexity-vs-faze?matchType=Majors\n"
     ]
    },
    {
     "name": "stderr",
     "output_type": "stream",
     "text": [
      "2019-05-10 19:20:40.107 | INFO     | __main__:<module>:4 - Scraping new match: https://www.hltv.org/stats/matches/mapstatsid/81831/faze-vs-complexity?matchType=Majors\n"
     ]
    },
    {
     "name": "stderr",
     "output_type": "stream",
     "text": [
      "2019-05-10 19:20:42.725 | INFO     | __main__:<module>:4 - Scraping new match: https://www.hltv.org/stats/matches/mapstatsid/81830/g2-vs-ence?matchType=Majors\n"
     ]
    },
    {
     "name": "stderr",
     "output_type": "stream",
     "text": [
      "2019-05-10 19:20:45.277 | INFO     | __main__:<module>:4 - Scraping new match: https://www.hltv.org/stats/matches/mapstatsid/81828/ence-vs-g2?matchType=Majors\n"
     ]
    },
    {
     "name": "stderr",
     "output_type": "stream",
     "text": [
      "2019-05-10 19:20:47.857 | INFO     | __main__:<module>:4 - Scraping new match: https://www.hltv.org/stats/matches/mapstatsid/81807/nip-vs-mibr?matchType=Majors\n"
     ]
    },
    {
     "name": "stderr",
     "output_type": "stream",
     "text": [
      "2019-05-10 19:20:50.429 | INFO     | __main__:<module>:4 - Scraping new match: https://www.hltv.org/stats/matches/mapstatsid/81804/mibr-vs-nip?matchType=Majors\n"
     ]
    },
    {
     "name": "stderr",
     "output_type": "stream",
     "text": [
      "2019-05-10 19:20:52.991 | INFO     | __main__:<module>:4 - Scraping new match: https://www.hltv.org/stats/matches/mapstatsid/81801/avangar-vs-natus-vincere?matchType=Majors\n"
     ]
    },
    {
     "name": "stderr",
     "output_type": "stream",
     "text": [
      "2019-05-10 19:20:55.560 | INFO     | __main__:<module>:4 - Scraping new match: https://www.hltv.org/stats/matches/mapstatsid/81796/natus-vincere-vs-avangar?matchType=Majors\n"
     ]
    },
    {
     "name": "stderr",
     "output_type": "stream",
     "text": [
      "2019-05-10 19:20:58.131 | INFO     | __main__:<module>:4 - Scraping new match: https://www.hltv.org/stats/matches/mapstatsid/81795/renegades-vs-vitality?matchType=Majors\n"
     ]
    },
    {
     "name": "stderr",
     "output_type": "stream",
     "text": [
      "2019-05-10 19:21:00.705 | INFO     | __main__:<module>:4 - Scraping new match: https://www.hltv.org/stats/matches/mapstatsid/81790/vitality-vs-renegades?matchType=Majors\n"
     ]
    },
    {
     "name": "stderr",
     "output_type": "stream",
     "text": [
      "2019-05-10 19:21:03.346 | INFO     | __main__:<module>:4 - Scraping new match: https://www.hltv.org/stats/matches/mapstatsid/81787/vitality-vs-renegades?matchType=Majors\n"
     ]
    },
    {
     "name": "stderr",
     "output_type": "stream",
     "text": [
      "2019-05-10 19:21:05.919 | INFO     | __main__:<module>:4 - Scraping new match: https://www.hltv.org/stats/matches/mapstatsid/81761/liquid-vs-natus-vincere?matchType=Majors\n"
     ]
    },
    {
     "name": "stderr",
     "output_type": "stream",
     "text": [
      "2019-05-10 19:21:08.508 | INFO     | __main__:<module>:4 - Scraping new match: https://www.hltv.org/stats/matches/mapstatsid/81753/liquid-vs-natus-vincere?matchType=Majors\n"
     ]
    },
    {
     "name": "stderr",
     "output_type": "stream",
     "text": [
      "2019-05-10 19:21:11.023 | INFO     | __main__:<module>:4 - Scraping new match: https://www.hltv.org/stats/matches/mapstatsid/81765/nrg-vs-complexity?matchType=Majors\n"
     ]
    },
    {
     "name": "stderr",
     "output_type": "stream",
     "text": [
      "2019-05-10 19:21:13.641 | INFO     | __main__:<module>:4 - Scraping new match: https://www.hltv.org/stats/matches/mapstatsid/81755/complexity-vs-nrg?matchType=Majors\n"
     ]
    },
    {
     "name": "stderr",
     "output_type": "stream",
     "text": [
      "2019-05-10 19:21:16.207 | INFO     | __main__:<module>:4 - Scraping new match: https://www.hltv.org/stats/matches/mapstatsid/81741/astralis-vs-renegades?matchType=Majors\n"
     ]
    },
    {
     "name": "stderr",
     "output_type": "stream",
     "text": [
      "2019-05-10 19:21:18.767 | INFO     | __main__:<module>:4 - Scraping new match: https://www.hltv.org/stats/matches/mapstatsid/81734/renegades-vs-astralis?matchType=Majors\n"
     ]
    },
    {
     "name": "stderr",
     "output_type": "stream",
     "text": [
      "2019-05-10 19:21:21.420 | INFO     | __main__:<module>:4 - Scraping new match: https://www.hltv.org/stats/matches/mapstatsid/81727/astralis-vs-renegades?matchType=Majors\n"
     ]
    },
    {
     "name": "stderr",
     "output_type": "stream",
     "text": [
      "2019-05-10 19:21:23.984 | INFO     | __main__:<module>:4 - Scraping new match: https://www.hltv.org/stats/matches/mapstatsid/81737/ence-vs-big?matchType=Majors\n"
     ]
    },
    {
     "name": "stderr",
     "output_type": "stream",
     "text": [
      "2019-05-10 19:21:26.549 | INFO     | __main__:<module>:4 - Scraping new match: https://www.hltv.org/stats/matches/mapstatsid/81729/big-vs-ence?matchType=Majors\n"
     ]
    },
    {
     "name": "stderr",
     "output_type": "stream",
     "text": [
      "2019-05-10 19:21:29.136 | INFO     | __main__:<module>:4 - Scraping new match: https://www.hltv.org/stats/matches/mapstatsid/81724/ence-vs-big?matchType=Majors\n"
     ]
    },
    {
     "name": "stderr",
     "output_type": "stream",
     "text": [
      "2019-05-10 19:21:31.696 | INFO     | __main__:<module>:4 - Scraping new match: https://www.hltv.org/stats/matches/mapstatsid/81722/vitality-vs-cloud9?matchType=Majors\n"
     ]
    },
    {
     "name": "stderr",
     "output_type": "stream",
     "text": [
      "2019-05-10 19:21:34.344 | INFO     | __main__:<module>:4 - Scraping new match: https://www.hltv.org/stats/matches/mapstatsid/81721/nip-vs-hellraisers?matchType=Majors\n"
     ]
    },
    {
     "name": "stderr",
     "output_type": "stream",
     "text": [
      "2019-05-10 19:21:36.917 | INFO     | __main__:<module>:4 - Scraping new match: https://www.hltv.org/stats/matches/mapstatsid/81720/faze-vs-avangar?matchType=Majors\n"
     ]
    },
    {
     "name": "stderr",
     "output_type": "stream",
     "text": [
      "2019-05-10 19:21:39.517 | INFO     | __main__:<module>:4 - Scraping new match: https://www.hltv.org/stats/matches/mapstatsid/81719/mibr-vs-g2?matchType=Majors\n"
     ]
    },
    {
     "name": "stderr",
     "output_type": "stream",
     "text": [
      "2019-05-10 19:21:42.147 | INFO     | __main__:<module>:4 - Scraping new match: https://www.hltv.org/stats/matches/mapstatsid/81702/liquid-vs-nip?matchType=Majors\n"
     ]
    },
    {
     "name": "stderr",
     "output_type": "stream",
     "text": [
      "2019-05-10 19:21:44.887 | INFO     | __main__:<module>:4 - Scraping new match: https://www.hltv.org/stats/matches/mapstatsid/81695/astralis-vs-cloud9?matchType=Majors\n"
     ]
    },
    {
     "name": "stderr",
     "output_type": "stream",
     "text": [
      "2019-05-10 19:21:47.457 | INFO     | __main__:<module>:4 - Scraping new match: https://www.hltv.org/stats/matches/mapstatsid/81696/natus-vincere-vs-vitality?matchType=Majors\n"
     ]
    },
    {
     "name": "stderr",
     "output_type": "stream",
     "text": [
      "2019-05-10 19:21:50.035 | INFO     | __main__:<module>:4 - Scraping new match: https://www.hltv.org/stats/matches/mapstatsid/81690/faze-vs-renegades?matchType=Majors\n"
     ]
    },
    {
     "name": "stderr",
     "output_type": "stream",
     "text": [
      "2019-05-10 19:21:52.592 | INFO     | __main__:<module>:4 - Scraping new match: https://www.hltv.org/stats/matches/mapstatsid/81685/avangar-vs-nrg?matchType=Majors\n"
     ]
    },
    {
     "name": "stderr",
     "output_type": "stream",
     "text": [
      "2019-05-10 19:21:55.218 | INFO     | __main__:<module>:4 - Scraping new match: https://www.hltv.org/stats/matches/mapstatsid/81684/mibr-vs-complexity?matchType=Majors\n"
     ]
    },
    {
     "name": "stderr",
     "output_type": "stream",
     "text": [
      "2019-05-10 19:21:57.796 | INFO     | __main__:<module>:4 - Scraping new match: https://www.hltv.org/stats/matches/mapstatsid/81680/ence-vs-hellraisers?matchType=Majors\n"
     ]
    },
    {
     "name": "stderr",
     "output_type": "stream",
     "text": [
      "2019-05-10 19:22:00.659 | INFO     | __main__:<module>:4 - Scraping new match: https://www.hltv.org/stats/matches/mapstatsid/81679/big-vs-g2?matchType=Majors\n"
     ]
    },
    {
     "name": "stderr",
     "output_type": "stream",
     "text": [
      "2019-05-10 19:22:03.244 | INFO     | __main__:<module>:4 - Scraping new match: https://www.hltv.org/stats/matches/mapstatsid/81671/cloud9-vs-mibr?matchType=Majors\n"
     ]
    },
    {
     "name": "stderr",
     "output_type": "stream",
     "text": [
      "2019-05-10 19:22:05.752 | INFO     | __main__:<module>:4 - Scraping new match: https://www.hltv.org/stats/matches/mapstatsid/81670/complexity-vs-astralis?matchType=Majors\n"
     ]
    },
    {
     "name": "stderr",
     "output_type": "stream",
     "text": [
      "2019-05-10 19:22:08.285 | INFO     | __main__:<module>:4 - Scraping new match: https://www.hltv.org/stats/matches/mapstatsid/81669/nip-vs-nrg?matchType=Majors\n"
     ]
    },
    {
     "name": "stderr",
     "output_type": "stream",
     "text": [
      "2019-05-10 19:22:11.196 | INFO     | __main__:<module>:4 - Scraping new match: https://www.hltv.org/stats/matches/mapstatsid/81667/avangar-vs-liquid?matchType=Majors\n"
     ]
    },
    {
     "name": "stderr",
     "output_type": "stream",
     "text": [
      "2019-05-10 19:22:13.771 | INFO     | __main__:<module>:4 - Scraping new match: https://www.hltv.org/stats/matches/mapstatsid/81665/natus-vincere-vs-g2?matchType=Majors\n"
     ]
    },
    {
     "name": "stderr",
     "output_type": "stream",
     "text": [
      "2019-05-10 19:22:16.421 | INFO     | __main__:<module>:4 - Scraping new match: https://www.hltv.org/stats/matches/mapstatsid/81663/hellraisers-vs-faze?matchType=Majors\n"
     ]
    },
    {
     "name": "stderr",
     "output_type": "stream",
     "text": [
      "2019-05-10 19:22:18.970 | INFO     | __main__:<module>:4 - Scraping new match: https://www.hltv.org/stats/matches/mapstatsid/81662/ence-vs-renegades?matchType=Majors\n"
     ]
    },
    {
     "name": "stderr",
     "output_type": "stream",
     "text": [
      "2019-05-10 19:22:21.537 | INFO     | __main__:<module>:4 - Scraping new match: https://www.hltv.org/stats/matches/mapstatsid/81661/big-vs-vitality?matchType=Majors\n"
     ]
    },
    {
     "name": "stderr",
     "output_type": "stream",
     "text": [
      "2019-05-10 19:22:24.098 | INFO     | __main__:<module>:4 - Scraping new match: https://www.hltv.org/stats/matches/mapstatsid/74129/astralis-vs-natus-vincere?matchType=Majors\n"
     ]
    },
    {
     "name": "stderr",
     "output_type": "stream",
     "text": [
      "2019-05-10 19:22:26.688 | INFO     | __main__:<module>:4 - Scraping new match: https://www.hltv.org/stats/matches/mapstatsid/74128/natus-vincere-vs-astralis?matchType=Majors\n"
     ]
    },
    {
     "name": "stderr",
     "output_type": "stream",
     "text": [
      "2019-05-10 19:22:29.243 | INFO     | __main__:<module>:4 - Scraping new match: https://www.hltv.org/stats/matches/mapstatsid/74061/astralis-vs-liquid?matchType=Majors\n"
     ]
    },
    {
     "name": "stderr",
     "output_type": "stream",
     "text": [
      "2019-05-10 19:22:31.826 | INFO     | __main__:<module>:4 - Scraping new match: https://www.hltv.org/stats/matches/mapstatsid/74060/liquid-vs-astralis?matchType=Majors\n"
     ]
    },
    {
     "name": "stderr",
     "output_type": "stream",
     "text": [
      "2019-05-10 19:22:34.388 | INFO     | __main__:<module>:4 - Scraping new match: https://www.hltv.org/stats/matches/mapstatsid/74059/natus-vincere-vs-mibr?matchType=Majors\n"
     ]
    },
    {
     "name": "stderr",
     "output_type": "stream",
     "text": [
      "2019-05-10 19:22:36.959 | INFO     | __main__:<module>:4 - Scraping new match: https://www.hltv.org/stats/matches/mapstatsid/74058/mibr-vs-natus-vincere?matchType=Majors\n"
     ]
    },
    {
     "name": "stderr",
     "output_type": "stream",
     "text": [
      "2019-05-10 19:22:39.541 | INFO     | __main__:<module>:4 - Scraping new match: https://www.hltv.org/stats/matches/mapstatsid/74055/faze-vs-astralis?matchType=Majors\n"
     ]
    },
    {
     "name": "stderr",
     "output_type": "stream",
     "text": [
      "2019-05-10 19:22:42.114 | INFO     | __main__:<module>:4 - Scraping new match: https://www.hltv.org/stats/matches/mapstatsid/74053/astralis-vs-faze?matchType=Majors\n"
     ]
    },
    {
     "name": "stderr",
     "output_type": "stream",
     "text": [
      "2019-05-10 19:22:45.011 | INFO     | __main__:<module>:4 - Scraping new match: https://www.hltv.org/stats/matches/mapstatsid/74051/hellraisers-vs-liquid?matchType=Majors\n"
     ]
    },
    {
     "name": "stderr",
     "output_type": "stream",
     "text": [
      "2019-05-10 19:22:47.988 | INFO     | __main__:<module>:4 - Scraping new match: https://www.hltv.org/stats/matches/mapstatsid/74049/hellraisers-vs-liquid?matchType=Majors\n"
     ]
    },
    {
     "name": "stderr",
     "output_type": "stream",
     "text": [
      "2019-05-10 19:22:50.624 | INFO     | __main__:<module>:4 - Scraping new match: https://www.hltv.org/stats/matches/mapstatsid/74048/hellraisers-vs-liquid?matchType=Majors\n"
     ]
    },
    {
     "name": "stderr",
     "output_type": "stream",
     "text": [
      "2019-05-10 19:22:53.415 | INFO     | __main__:<module>:4 - Scraping new match: https://www.hltv.org/stats/matches/mapstatsid/74026/mibr-vs-complexity?matchType=Majors\n"
     ]
    },
    {
     "name": "stderr",
     "output_type": "stream",
     "text": [
      "2019-05-10 19:22:56.048 | INFO     | __main__:<module>:4 - Scraping new match: https://www.hltv.org/stats/matches/mapstatsid/74021/complexity-vs-mibr?matchType=Majors\n"
     ]
    },
    {
     "name": "stderr",
     "output_type": "stream",
     "text": [
      "2019-05-10 19:22:58.719 | INFO     | __main__:<module>:4 - Scraping new match: https://www.hltv.org/stats/matches/mapstatsid/74019/big-vs-natus-vincere?matchType=Majors\n"
     ]
    },
    {
     "name": "stderr",
     "output_type": "stream",
     "text": [
      "2019-05-10 19:23:01.767 | INFO     | __main__:<module>:4 - Scraping new match: https://www.hltv.org/stats/matches/mapstatsid/74002/natus-vincere-vs-big?matchType=Majors\n"
     ]
    },
    {
     "name": "stderr",
     "output_type": "stream",
     "text": [
      "2019-05-10 19:23:04.331 | INFO     | __main__:<module>:4 - Scraping new match: https://www.hltv.org/stats/matches/mapstatsid/73833/nip-vs-mibr?matchType=Majors\n"
     ]
    },
    {
     "name": "stderr",
     "output_type": "stream",
     "text": [
      "2019-05-10 19:23:06.837 | INFO     | __main__:<module>:4 - Scraping new match: https://www.hltv.org/stats/matches/mapstatsid/73828/mibr-vs-nip?matchType=Majors\n"
     ]
    },
    {
     "name": "stderr",
     "output_type": "stream",
     "text": [
      "2019-05-10 19:23:09.399 | INFO     | __main__:<module>:4 - Scraping new match: https://www.hltv.org/stats/matches/mapstatsid/73816/mibr-vs-nip?matchType=Majors\n"
     ]
    },
    {
     "name": "stderr",
     "output_type": "stream",
     "text": [
      "2019-05-10 19:23:11.981 | INFO     | __main__:<module>:4 - Scraping new match: https://www.hltv.org/stats/matches/mapstatsid/73812/g2-vs-faze?matchType=Majors\n"
     ]
    },
    {
     "name": "stderr",
     "output_type": "stream",
     "text": [
      "2019-05-10 19:23:14.609 | INFO     | __main__:<module>:4 - Scraping new match: https://www.hltv.org/stats/matches/mapstatsid/73811/g2-vs-faze?matchType=Majors\n"
     ]
    },
    {
     "name": "stderr",
     "output_type": "stream",
     "text": [
      "2019-05-10 19:23:17.177 | INFO     | __main__:<module>:4 - Scraping new match: https://www.hltv.org/stats/matches/mapstatsid/73807/hellraisers-vs-fnatic?matchType=Majors\n"
     ]
    },
    {
     "name": "stderr",
     "output_type": "stream",
     "text": [
      "2019-05-10 19:23:19.760 | INFO     | __main__:<module>:4 - Scraping new match: https://www.hltv.org/stats/matches/mapstatsid/73803/fnatic-vs-hellraisers?matchType=Majors\n"
     ]
    },
    {
     "name": "stderr",
     "output_type": "stream",
     "text": [
      "2019-05-10 19:23:22.311 | INFO     | __main__:<module>:4 - Scraping new match: https://www.hltv.org/stats/matches/mapstatsid/73800/fnatic-vs-hellraisers?matchType=Majors\n"
     ]
    },
    {
     "name": "stderr",
     "output_type": "stream",
     "text": [
      "2019-05-10 19:23:24.890 | INFO     | __main__:<module>:4 - Scraping new match: https://www.hltv.org/stats/matches/mapstatsid/73786/astralis-vs-mibr?matchType=Majors\n"
     ]
    },
    {
     "name": "stderr",
     "output_type": "stream",
     "text": [
      "2019-05-10 19:23:27.442 | INFO     | __main__:<module>:4 - Scraping new match: https://www.hltv.org/stats/matches/mapstatsid/73779/g2-vs-cloud9?matchType=Majors\n"
     ]
    },
    {
     "name": "stderr",
     "output_type": "stream",
     "text": [
      "2019-05-10 19:23:30.008 | INFO     | __main__:<module>:4 - Scraping new match: https://www.hltv.org/stats/matches/mapstatsid/73778/natus-vincere-vs-fnatic?matchType=Majors\n"
     ]
    },
    {
     "name": "stderr",
     "output_type": "stream",
     "text": [
      "2019-05-10 19:23:32.571 | INFO     | __main__:<module>:4 - Scraping new match: https://www.hltv.org/stats/matches/mapstatsid/73775/tyloo-vs-faze?matchType=Majors\n"
     ]
    },
    {
     "name": "stderr",
     "output_type": "stream",
     "text": [
      "2019-05-10 19:23:35.180 | INFO     | __main__:<module>:4 - Scraping new match: https://www.hltv.org/stats/matches/mapstatsid/73771/nip-vs-vega-squadron?matchType=Majors\n"
     ]
    },
    {
     "name": "stderr",
     "output_type": "stream",
     "text": [
      "2019-05-10 19:23:37.733 | INFO     | __main__:<module>:4 - Scraping new match: https://www.hltv.org/stats/matches/mapstatsid/73767/hellraisers-vs-big?matchType=Majors\n"
     ]
    },
    {
     "name": "stderr",
     "output_type": "stream",
     "text": [
      "2019-05-10 19:23:40.303 | INFO     | __main__:<module>:4 - Scraping new match: https://www.hltv.org/stats/matches/mapstatsid/73743/mousesports-vs-faze?matchType=Majors\n"
     ]
    },
    {
     "name": "stderr",
     "output_type": "stream",
     "text": [
      "2019-05-10 19:23:42.872 | INFO     | __main__:<module>:4 - Scraping new match: https://www.hltv.org/stats/matches/mapstatsid/73739/astralis-vs-liquid?matchType=Majors\n"
     ]
    },
    {
     "name": "stderr",
     "output_type": "stream",
     "text": [
      "2019-05-10 19:23:45.486 | INFO     | __main__:<module>:4 - Scraping new match: https://www.hltv.org/stats/matches/mapstatsid/73738/mibr-vs-g2?matchType=Majors\n"
     ]
    },
    {
     "name": "stderr",
     "output_type": "stream",
     "text": [
      "2019-05-10 19:23:48.043 | INFO     | __main__:<module>:4 - Scraping new match: https://www.hltv.org/stats/matches/mapstatsid/73737/natus-vincere-vs-nip?matchType=Majors\n"
     ]
    },
    {
     "name": "stderr",
     "output_type": "stream",
     "text": [
      "2019-05-10 19:23:50.623 | INFO     | __main__:<module>:4 - Scraping new match: https://www.hltv.org/stats/matches/mapstatsid/73736/big-vs-complexity?matchType=Majors\n"
     ]
    },
    {
     "name": "stderr",
     "output_type": "stream",
     "text": [
      "2019-05-10 19:23:53.192 | INFO     | __main__:<module>:4 - Scraping new match: https://www.hltv.org/stats/matches/mapstatsid/73734/cloud9-vs-winstrike?matchType=Majors\n"
     ]
    },
    {
     "name": "stderr",
     "output_type": "stream",
     "text": [
      "2019-05-10 19:23:55.770 | INFO     | __main__:<module>:4 - Scraping new match: https://www.hltv.org/stats/matches/mapstatsid/73733/tyloo-vs-hellraisers?matchType=Majors\n"
     ]
    },
    {
     "name": "stderr",
     "output_type": "stream",
     "text": [
      "2019-05-10 19:23:58.333 | INFO     | __main__:<module>:4 - Scraping new match: https://www.hltv.org/stats/matches/mapstatsid/73732/fnatic-vs-vega-squadron?matchType=Majors\n"
     ]
    },
    {
     "name": "stderr",
     "output_type": "stream",
     "text": [
      "2019-05-10 19:24:00.908 | INFO     | __main__:<module>:4 - Scraping new match: https://www.hltv.org/stats/matches/mapstatsid/73729/mousesports-vs-mibr?matchType=Majors\n"
     ]
    },
    {
     "name": "stderr",
     "output_type": "stream",
     "text": [
      "2019-05-10 19:24:03.468 | INFO     | __main__:<module>:4 - Scraping new match: https://www.hltv.org/stats/matches/mapstatsid/73726/faze-vs-natus-vincere?matchType=Majors\n"
     ]
    },
    {
     "name": "stderr",
     "output_type": "stream",
     "text": [
      "2019-05-10 19:24:06.033 | INFO     | __main__:<module>:4 - Scraping new match: https://www.hltv.org/stats/matches/mapstatsid/73725/nip-vs-liquid?matchType=Majors\n"
     ]
    },
    {
     "name": "stderr",
     "output_type": "stream",
     "text": [
      "2019-05-10 19:24:08.665 | INFO     | __main__:<module>:4 - Scraping new match: https://www.hltv.org/stats/matches/mapstatsid/73724/g2-vs-complexity?matchType=Majors\n"
     ]
    },
    {
     "name": "stderr",
     "output_type": "stream",
     "text": [
      "2019-05-10 19:24:11.258 | INFO     | __main__:<module>:4 - Scraping new match: https://www.hltv.org/stats/matches/mapstatsid/73719/cloud9-vs-hellraisers?matchType=Majors\n"
     ]
    },
    {
     "name": "stderr",
     "output_type": "stream",
     "text": [
      "2019-05-10 19:24:13.869 | INFO     | __main__:<module>:4 - Scraping new match: https://www.hltv.org/stats/matches/mapstatsid/73717/astralis-vs-vega-squadron?matchType=Majors\n"
     ]
    },
    {
     "name": "stderr",
     "output_type": "stream",
     "text": [
      "2019-05-10 19:24:16.497 | INFO     | __main__:<module>:4 - Scraping new match: https://www.hltv.org/stats/matches/mapstatsid/73713/fnatic-vs-winstrike?matchType=Majors\n"
     ]
    },
    {
     "name": "stderr",
     "output_type": "stream",
     "text": [
      "2019-05-10 19:24:19.102 | INFO     | __main__:<module>:4 - Scraping new match: https://www.hltv.org/stats/matches/mapstatsid/73711/big-vs-tyloo?matchType=Majors\n"
     ]
    },
    {
     "name": "stderr",
     "output_type": "stream",
     "text": [
      "2019-05-10 19:24:21.682 | INFO     | __main__:<module>:4 - Scraping new match: https://www.hltv.org/stats/matches/mapstatsid/73703/vega-squadron-vs-cloud9?matchType=Majors\n"
     ]
    },
    {
     "name": "stderr",
     "output_type": "stream",
     "text": [
      "2019-05-10 19:24:24.258 | INFO     | __main__:<module>:4 - Scraping new match: https://www.hltv.org/stats/matches/mapstatsid/73698/astralis-vs-natus-vincere?matchType=Majors\n"
     ]
    },
    {
     "name": "stderr",
     "output_type": "stream",
     "text": [
      "2019-05-10 19:24:26.810 | INFO     | __main__:<module>:4 - Scraping new match: https://www.hltv.org/stats/matches/mapstatsid/73695/mousesports-vs-nip?matchType=Majors\n"
     ]
    },
    {
     "name": "stderr",
     "output_type": "stream",
     "text": [
      "2019-05-10 19:24:29.352 | INFO     | __main__:<module>:4 - Scraping new match: https://www.hltv.org/stats/matches/mapstatsid/73694/mibr-vs-tyloo?matchType=Majors\n"
     ]
    },
    {
     "name": "stderr",
     "output_type": "stream",
     "text": [
      "2019-05-10 19:24:31.920 | INFO     | __main__:<module>:4 - Scraping new match: https://www.hltv.org/stats/matches/mapstatsid/73691/complexity-vs-fnatic?matchType=Majors\n"
     ]
    },
    {
     "name": "stderr",
     "output_type": "stream",
     "text": [
      "2019-05-10 19:24:34.471 | INFO     | __main__:<module>:4 - Scraping new match: https://www.hltv.org/stats/matches/mapstatsid/73690/big-vs-faze?matchType=Majors\n"
     ]
    },
    {
     "name": "stderr",
     "output_type": "stream",
     "text": [
      "2019-05-10 19:24:37.023 | INFO     | __main__:<module>:4 - Scraping new match: https://www.hltv.org/stats/matches/mapstatsid/73689/liquid-vs-winstrike?matchType=Majors\n"
     ]
    },
    {
     "name": "stderr",
     "output_type": "stream",
     "text": [
      "2019-05-10 19:24:39.588 | INFO     | __main__:<module>:4 - Scraping new match: https://www.hltv.org/stats/matches/mapstatsid/73683/g2-vs-hellraisers?matchType=Majors\n"
     ]
    },
    {
     "name": "stderr",
     "output_type": "stream",
     "text": [
      "2019-05-10 19:24:42.145 | INFO     | __main__:<module>:4 - Scraping new match: https://www.hltv.org/stats/matches/mapstatsid/60219/faze-vs-cloud9?matchType=Majors\n"
     ]
    },
    {
     "name": "stderr",
     "output_type": "stream",
     "text": [
      "2019-05-10 19:24:44.812 | INFO     | __main__:<module>:4 - Scraping new match: https://www.hltv.org/stats/matches/mapstatsid/60218/cloud9-vs-faze?matchType=Majors\n"
     ]
    },
    {
     "name": "stderr",
     "output_type": "stream",
     "text": [
      "2019-05-10 19:24:47.395 | INFO     | __main__:<module>:4 - Scraping new match: https://www.hltv.org/stats/matches/mapstatsid/60217/faze-vs-cloud9?matchType=Majors\n"
     ]
    },
    {
     "name": "stderr",
     "output_type": "stream",
     "text": [
      "2019-05-10 19:24:49.959 | INFO     | __main__:<module>:4 - Scraping new match: https://www.hltv.org/stats/matches/mapstatsid/60198/cloud9-vs-sk?matchType=Majors\n"
     ]
    },
    {
     "name": "stderr",
     "output_type": "stream",
     "text": [
      "2019-05-10 19:24:52.546 | INFO     | __main__:<module>:4 - Scraping new match: https://www.hltv.org/stats/matches/mapstatsid/60197/cloud9-vs-sk?matchType=Majors\n"
     ]
    },
    {
     "name": "stderr",
     "output_type": "stream",
     "text": [
      "2019-05-10 19:24:55.306 | INFO     | __main__:<module>:4 - Scraping new match: https://www.hltv.org/stats/matches/mapstatsid/60196/sk-vs-cloud9?matchType=Majors\n"
     ]
    },
    {
     "name": "stderr",
     "output_type": "stream",
     "text": [
      "2019-05-10 19:24:57.908 | INFO     | __main__:<module>:4 - Scraping new match: https://www.hltv.org/stats/matches/mapstatsid/60195/natus-vincere-vs-faze?matchType=Majors\n"
     ]
    },
    {
     "name": "stderr",
     "output_type": "stream",
     "text": [
      "2019-05-10 19:25:00.480 | INFO     | __main__:<module>:4 - Scraping new match: https://www.hltv.org/stats/matches/mapstatsid/60194/faze-vs-natus-vincere?matchType=Majors\n"
     ]
    },
    {
     "name": "stderr",
     "output_type": "stream",
     "text": [
      "2019-05-10 19:25:03.095 | INFO     | __main__:<module>:4 - Scraping new match: https://www.hltv.org/stats/matches/mapstatsid/60189/sk-vs-fnatic?matchType=Majors\n"
     ]
    },
    {
     "name": "stderr",
     "output_type": "stream",
     "text": [
      "2019-05-10 19:25:05.683 | INFO     | __main__:<module>:4 - Scraping new match: https://www.hltv.org/stats/matches/mapstatsid/60188/fnatic-vs-sk?matchType=Majors\n"
     ]
    },
    {
     "name": "stderr",
     "output_type": "stream",
     "text": [
      "2019-05-10 19:25:08.265 | INFO     | __main__:<module>:4 - Scraping new match: https://www.hltv.org/stats/matches/mapstatsid/60183/sk-vs-fnatic?matchType=Majors\n"
     ]
    },
    {
     "name": "stderr",
     "output_type": "stream",
     "text": [
      "2019-05-10 19:25:10.827 | INFO     | __main__:<module>:4 - Scraping new match: https://www.hltv.org/stats/matches/mapstatsid/60174/cloud9-vs-g2?matchType=Majors\n"
     ]
    },
    {
     "name": "stderr",
     "output_type": "stream",
     "text": [
      "2019-05-10 19:25:13.481 | INFO     | __main__:<module>:4 - Scraping new match: https://www.hltv.org/stats/matches/mapstatsid/60173/g2-vs-cloud9?matchType=Majors\n"
     ]
    },
    {
     "name": "stderr",
     "output_type": "stream",
     "text": [
      "2019-05-10 19:25:16.045 | INFO     | __main__:<module>:4 - Scraping new match: https://www.hltv.org/stats/matches/mapstatsid/60172/quantum-bellator-fire-vs-natus-vincere?matchType=Majors\n"
     ]
    },
    {
     "name": "stderr",
     "output_type": "stream",
     "text": [
      "2019-05-10 19:25:18.760 | INFO     | __main__:<module>:4 - Scraping new match: https://www.hltv.org/stats/matches/mapstatsid/60171/natus-vincere-vs-quantum-bellator-fire?matchType=Majors\n"
     ]
    },
    {
     "name": "stderr",
     "output_type": "stream",
     "text": [
      "2019-05-10 19:25:21.327 | INFO     | __main__:<module>:4 - Scraping new match: https://www.hltv.org/stats/matches/mapstatsid/60170/mousesports-vs-faze?matchType=Majors\n"
     ]
    },
    {
     "name": "stderr",
     "output_type": "stream",
     "text": [
      "2019-05-10 19:25:23.926 | INFO     | __main__:<module>:4 - Scraping new match: https://www.hltv.org/stats/matches/mapstatsid/60167/faze-vs-mousesports?matchType=Majors\n"
     ]
    },
    {
     "name": "stderr",
     "output_type": "stream",
     "text": [
      "2019-05-10 19:25:26.491 | INFO     | __main__:<module>:4 - Scraping new match: https://www.hltv.org/stats/matches/mapstatsid/60032/mousesports-vs-space-soldiers?matchType=Majors\n"
     ]
    },
    {
     "name": "stderr",
     "output_type": "stream",
     "text": [
      "2019-05-10 19:25:29.048 | INFO     | __main__:<module>:4 - Scraping new match: https://www.hltv.org/stats/matches/mapstatsid/60031/cloud9-vs-vega-squadron?matchType=Majors\n"
     ]
    },
    {
     "name": "stderr",
     "output_type": "stream",
     "text": [
      "2019-05-10 19:25:31.609 | INFO     | __main__:<module>:4 - Scraping new match: https://www.hltv.org/stats/matches/mapstatsid/60026/gambit-vs-fnatic?matchType=Majors\n"
     ]
    },
    {
     "name": "stderr",
     "output_type": "stream",
     "text": [
      "2019-05-10 19:25:34.172 | INFO     | __main__:<module>:4 - Scraping new match: https://www.hltv.org/stats/matches/mapstatsid/60025/natus-vincere-vs-fnatic?matchType=Majors\n"
     ]
    },
    {
     "name": "stderr",
     "output_type": "stream",
     "text": [
      "2019-05-10 19:25:36.752 | INFO     | __main__:<module>:4 - Scraping new match: https://www.hltv.org/stats/matches/mapstatsid/60023/sk-vs-gambit?matchType=Majors\n"
     ]
    },
    {
     "name": "stderr",
     "output_type": "stream",
     "text": [
      "2019-05-10 19:25:39.312 | INFO     | __main__:<module>:4 - Scraping new match: https://www.hltv.org/stats/matches/mapstatsid/60021/liquid-vs-vega-squadron?matchType=Majors\n"
     ]
    },
    {
     "name": "stderr",
     "output_type": "stream",
     "text": [
      "2019-05-10 19:25:41.878 | INFO     | __main__:<module>:4 - Scraping new match: https://www.hltv.org/stats/matches/mapstatsid/60017/astralis-vs-cloud9?matchType=Majors\n"
     ]
    },
    {
     "name": "stderr",
     "output_type": "stream",
     "text": [
      "2019-05-10 19:25:44.492 | INFO     | __main__:<module>:4 - Scraping new match: https://www.hltv.org/stats/matches/mapstatsid/60016/mousesports-vs-quantum-bellator-fire?matchType=Majors\n"
     ]
    },
    {
     "name": "stderr",
     "output_type": "stream",
     "text": [
      "2019-05-10 19:25:47.054 | INFO     | __main__:<module>:4 - Scraping new match: https://www.hltv.org/stats/matches/mapstatsid/60015/big-vs-space-soldiers?matchType=Majors\n"
     ]
    },
    {
     "name": "stderr",
     "output_type": "stream",
     "text": [
      "2019-05-10 19:25:49.607 | INFO     | __main__:<module>:4 - Scraping new match: https://www.hltv.org/stats/matches/mapstatsid/60003/gambit-vs-space-soldiers?matchType=Majors\n"
     ]
    },
    {
     "name": "stderr",
     "output_type": "stream",
     "text": [
      "2019-05-10 19:25:52.181 | INFO     | __main__:<module>:4 - Scraping new match: https://www.hltv.org/stats/matches/mapstatsid/60001/cloud9-vs-virtuspro?matchType=Majors\n"
     ]
    },
    {
     "name": "stderr",
     "output_type": "stream",
     "text": [
      "2019-05-10 19:25:54.754 | INFO     | __main__:<module>:4 - Scraping new match: https://www.hltv.org/stats/matches/mapstatsid/60000/faze-vs-sk?matchType=Majors\n"
     ]
    },
    {
     "name": "stderr",
     "output_type": "stream",
     "text": [
      "2019-05-10 19:25:57.322 | INFO     | __main__:<module>:4 - Scraping new match: https://www.hltv.org/stats/matches/mapstatsid/59999/big-vs-north?matchType=Majors\n"
     ]
    },
    {
     "name": "stderr",
     "output_type": "stream",
     "text": [
      "2019-05-10 19:25:59.899 | INFO     | __main__:<module>:4 - Scraping new match: https://www.hltv.org/stats/matches/mapstatsid/59997/fnatic-vs-astralis?matchType=Majors\n"
     ]
    },
    {
     "name": "stderr",
     "output_type": "stream",
     "text": [
      "2019-05-10 19:26:02.488 | INFO     | __main__:<module>:4 - Scraping new match: https://www.hltv.org/stats/matches/mapstatsid/59993/quantum-bellator-fire-vs-g2?matchType=Majors\n"
     ]
    },
    {
     "name": "stderr",
     "output_type": "stream",
     "text": [
      "2019-05-10 19:26:04.959 | INFO     | __main__:<module>:4 - Scraping new match: https://www.hltv.org/stats/matches/mapstatsid/59985/liquid-vs-natus-vincere?matchType=Majors\n"
     ]
    },
    {
     "name": "stderr",
     "output_type": "stream",
     "text": [
      "2019-05-10 19:26:07.517 | INFO     | __main__:<module>:4 - Scraping new match: https://www.hltv.org/stats/matches/mapstatsid/59977/mousesports-vs-vega-squadron?matchType=Majors\n"
     ]
    },
    {
     "name": "stderr",
     "output_type": "stream",
     "text": [
      "2019-05-10 19:26:10.157 | INFO     | __main__:<module>:4 - Scraping new match: https://www.hltv.org/stats/matches/mapstatsid/59970/astralis-vs-north?matchType=Majors\n"
     ]
    },
    {
     "name": "stderr",
     "output_type": "stream",
     "text": [
      "2019-05-10 19:26:12.737 | INFO     | __main__:<module>:4 - Scraping new match: https://www.hltv.org/stats/matches/mapstatsid/59969/natus-vincere-vs-big?matchType=Majors\n"
     ]
    },
    {
     "name": "stderr",
     "output_type": "stream",
     "text": [
      "2019-05-10 19:26:15.360 | INFO     | __main__:<module>:4 - Scraping new match: https://www.hltv.org/stats/matches/mapstatsid/59968/virtuspro-vs-fnatic?matchType=Majors\n"
     ]
    },
    {
     "name": "stderr",
     "output_type": "stream",
     "text": [
      "2019-05-10 19:26:17.924 | INFO     | __main__:<module>:4 - Scraping new match: https://www.hltv.org/stats/matches/mapstatsid/59967/mousesports-vs-sk?matchType=Majors\n"
     ]
    },
    {
     "name": "stderr",
     "output_type": "stream",
     "text": [
      "2019-05-10 19:26:20.510 | INFO     | __main__:<module>:4 - Scraping new match: https://www.hltv.org/stats/matches/mapstatsid/59966/g2-vs-liquid?matchType=Majors\n"
     ]
    },
    {
     "name": "stderr",
     "output_type": "stream",
     "text": [
      "2019-05-10 19:26:23.081 | INFO     | __main__:<module>:4 - Scraping new match: https://www.hltv.org/stats/matches/mapstatsid/59965/faze-vs-vega-squadron?matchType=Majors\n"
     ]
    },
    {
     "name": "stderr",
     "output_type": "stream",
     "text": [
      "2019-05-10 19:26:25.637 | INFO     | __main__:<module>:4 - Scraping new match: https://www.hltv.org/stats/matches/mapstatsid/59964/cloud9-vs-space-soldiers?matchType=Majors\n"
     ]
    },
    {
     "name": "stderr",
     "output_type": "stream",
     "text": [
      "2019-05-10 19:26:28.208 | INFO     | __main__:<module>:4 - Scraping new match: https://www.hltv.org/stats/matches/mapstatsid/59958/quantum-bellator-fire-vs-gambit?matchType=Majors\n"
     ]
    },
    {
     "name": "stderr",
     "output_type": "stream",
     "text": [
      "2019-05-10 19:26:30.772 | INFO     | __main__:<module>:4 - Scraping new match: https://www.hltv.org/stats/matches/mapstatsid/59936/space-soldiers-vs-sk?matchType=Majors\n"
     ]
    },
    {
     "name": "stderr",
     "output_type": "stream",
     "text": [
      "2019-05-10 19:26:33.412 | INFO     | __main__:<module>:4 - Scraping new match: https://www.hltv.org/stats/matches/mapstatsid/59935/natus-vincere-vs-gambit?matchType=Majors\n"
     ]
    },
    {
     "name": "stderr",
     "output_type": "stream",
     "text": [
      "2019-05-10 19:26:35.968 | INFO     | __main__:<module>:4 - Scraping new match: https://www.hltv.org/stats/matches/mapstatsid/59934/g2-vs-cloud9?matchType=Majors\n"
     ]
    },
    {
     "name": "stderr",
     "output_type": "stream",
     "text": [
      "2019-05-10 19:26:38.522 | INFO     | __main__:<module>:4 - Scraping new match: https://www.hltv.org/stats/matches/mapstatsid/59932/astralis-vs-mousesports?matchType=Majors\n"
     ]
    },
    {
     "name": "stderr",
     "output_type": "stream",
     "text": [
      "2019-05-10 19:26:41.090 | INFO     | __main__:<module>:4 - Scraping new match: https://www.hltv.org/stats/matches/mapstatsid/59929/fnatic-vs-faze?matchType=Majors\n"
     ]
    },
    {
     "name": "stderr",
     "output_type": "stream",
     "text": [
      "2019-05-10 19:26:43.665 | INFO     | __main__:<module>:4 - Scraping new match: https://www.hltv.org/stats/matches/mapstatsid/59927/liquid-vs-big?matchType=Majors\n"
     ]
    },
    {
     "name": "stderr",
     "output_type": "stream",
     "text": [
      "2019-05-10 19:26:46.299 | INFO     | __main__:<module>:4 - Scraping new match: https://www.hltv.org/stats/matches/mapstatsid/59926/virtuspro-vs-quantum-bellator-fire?matchType=Majors\n"
     ]
    },
    {
     "name": "stderr",
     "output_type": "stream",
     "text": [
      "2019-05-10 19:26:48.857 | INFO     | __main__:<module>:4 - Scraping new match: https://www.hltv.org/stats/matches/mapstatsid/59930/vega-squadron-vs-north?matchType=Majors\n"
     ]
    },
    {
     "name": "stderr",
     "output_type": "stream",
     "text": [
      "2019-05-10 19:26:51.443 | INFO     | __main__:<module>:4 - Scraping new match: https://www.hltv.org/stats/matches/mapstatsid/49967/gambit-vs-immortals?matchType=Majors\n"
     ]
    },
    {
     "name": "stderr",
     "output_type": "stream",
     "text": [
      "2019-05-10 19:26:54.008 | INFO     | __main__:<module>:4 - Scraping new match: https://www.hltv.org/stats/matches/mapstatsid/49966/immortals-vs-gambit?matchType=Majors\n"
     ]
    },
    {
     "name": "stderr",
     "output_type": "stream",
     "text": [
      "2019-05-10 19:26:56.575 | INFO     | __main__:<module>:4 - Scraping new match: https://www.hltv.org/stats/matches/mapstatsid/49962/gambit-vs-immortals?matchType=Majors\n"
     ]
    },
    {
     "name": "stderr",
     "output_type": "stream",
     "text": [
      "2019-05-10 19:26:59.145 | INFO     | __main__:<module>:4 - Scraping new match: https://www.hltv.org/stats/matches/mapstatsid/49956/immortals-vs-virtuspro?matchType=Majors\n"
     ]
    },
    {
     "name": "stderr",
     "output_type": "stream",
     "text": [
      "2019-05-10 19:27:01.720 | INFO     | __main__:<module>:4 - Scraping new match: https://www.hltv.org/stats/matches/mapstatsid/49955/virtuspro-vs-immortals?matchType=Majors\n"
     ]
    },
    {
     "name": "stderr",
     "output_type": "stream",
     "text": [
      "2019-05-10 19:27:04.291 | INFO     | __main__:<module>:4 - Scraping new match: https://www.hltv.org/stats/matches/mapstatsid/49954/gambit-vs-astralis?matchType=Majors\n"
     ]
    },
    {
     "name": "stderr",
     "output_type": "stream",
     "text": [
      "2019-05-10 19:27:06.852 | INFO     | __main__:<module>:4 - Scraping new match: https://www.hltv.org/stats/matches/mapstatsid/49953/gambit-vs-astralis?matchType=Majors\n"
     ]
    },
    {
     "name": "stderr",
     "output_type": "stream",
     "text": [
      "2019-05-10 19:27:09.425 | INFO     | __main__:<module>:4 - Scraping new match: https://www.hltv.org/stats/matches/mapstatsid/49952/gambit-vs-astralis?matchType=Majors\n"
     ]
    },
    {
     "name": "stderr",
     "output_type": "stream",
     "text": [
      "2019-05-10 19:27:12.026 | INFO     | __main__:<module>:4 - Scraping new match: https://www.hltv.org/stats/matches/mapstatsid/49951/north-vs-virtuspro?matchType=Majors\n"
     ]
    },
    {
     "name": "stderr",
     "output_type": "stream",
     "text": [
      "2019-05-10 19:27:14.648 | INFO     | __main__:<module>:4 - Scraping new match: https://www.hltv.org/stats/matches/mapstatsid/49950/virtuspro-vs-north?matchType=Majors\n"
     ]
    },
    {
     "name": "stderr",
     "output_type": "stream",
     "text": [
      "2019-05-10 19:27:17.221 | INFO     | __main__:<module>:4 - Scraping new match: https://www.hltv.org/stats/matches/mapstatsid/49889/immortals-vs-big?matchType=Majors\n"
     ]
    },
    {
     "name": "stderr",
     "output_type": "stream",
     "text": [
      "2019-05-10 19:27:19.782 | INFO     | __main__:<module>:4 - Scraping new match: https://www.hltv.org/stats/matches/mapstatsid/49887/immortals-vs-big?matchType=Majors\n"
     ]
    },
    {
     "name": "stderr",
     "output_type": "stream",
     "text": [
      "2019-05-10 19:27:22.342 | INFO     | __main__:<module>:4 - Scraping new match: https://www.hltv.org/stats/matches/mapstatsid/49881/immortals-vs-big?matchType=Majors\n"
     ]
    },
    {
     "name": "stderr",
     "output_type": "stream",
     "text": [
      "2019-05-10 19:27:24.909 | INFO     | __main__:<module>:4 - Scraping new match: https://www.hltv.org/stats/matches/mapstatsid/49878/sk-vs-astralis?matchType=Majors\n"
     ]
    },
    {
     "name": "stderr",
     "output_type": "stream",
     "text": [
      "2019-05-10 19:27:27.490 | INFO     | __main__:<module>:4 - Scraping new match: https://www.hltv.org/stats/matches/mapstatsid/49875/astralis-vs-sk?matchType=Majors\n"
     ]
    },
    {
     "name": "stderr",
     "output_type": "stream",
     "text": [
      "2019-05-10 19:27:30.048 | INFO     | __main__:<module>:4 - Scraping new match: https://www.hltv.org/stats/matches/mapstatsid/49874/gambit-vs-fnatic?matchType=Majors\n"
     ]
    },
    {
     "name": "stderr",
     "output_type": "stream",
     "text": [
      "2019-05-10 19:27:32.600 | INFO     | __main__:<module>:4 - Scraping new match: https://www.hltv.org/stats/matches/mapstatsid/49873/fnatic-vs-gambit?matchType=Majors\n"
     ]
    },
    {
     "name": "stderr",
     "output_type": "stream",
     "text": [
      "2019-05-10 19:27:35.154 | INFO     | __main__:<module>:4 - Scraping new match: https://www.hltv.org/stats/matches/mapstatsid/49814/immortals-vs-flipsid3?matchType=Majors\n"
     ]
    },
    {
     "name": "stderr",
     "output_type": "stream",
     "text": [
      "2019-05-10 19:27:37.726 | INFO     | __main__:<module>:4 - Scraping new match: https://www.hltv.org/stats/matches/mapstatsid/49812/cloud9-vs-virtuspro?matchType=Majors\n"
     ]
    },
    {
     "name": "stderr",
     "output_type": "stream",
     "text": [
      "2019-05-10 19:27:40.312 | INFO     | __main__:<module>:4 - Scraping new match: https://www.hltv.org/stats/matches/mapstatsid/49809/g2-vs-fnatic?matchType=Majors\n"
     ]
    },
    {
     "name": "stderr",
     "output_type": "stream",
     "text": [
      "2019-05-10 19:27:42.977 | INFO     | __main__:<module>:4 - Scraping new match: https://www.hltv.org/stats/matches/mapstatsid/49803/sk-vs-immortals?matchType=Majors\n"
     ]
    },
    {
     "name": "stderr",
     "output_type": "stream",
     "text": [
      "2019-05-10 19:27:45.538 | INFO     | __main__:<module>:4 - Scraping new match: https://www.hltv.org/stats/matches/mapstatsid/49798/virtuspro-vs-north?matchType=Majors\n"
     ]
    },
    {
     "name": "stderr",
     "output_type": "stream",
     "text": [
      "2019-05-10 19:27:48.107 | INFO     | __main__:<module>:4 - Scraping new match: https://www.hltv.org/stats/matches/mapstatsid/49797/g2-vs-astralis?matchType=Majors\n"
     ]
    },
    {
     "name": "stderr",
     "output_type": "stream",
     "text": [
      "2019-05-10 19:27:50.678 | INFO     | __main__:<module>:4 - Scraping new match: https://www.hltv.org/stats/matches/mapstatsid/49792/natus-vincere-vs-fnatic?matchType=Majors\n"
     ]
    },
    {
     "name": "stderr",
     "output_type": "stream",
     "text": [
      "2019-05-10 19:27:53.264 | INFO     | __main__:<module>:4 - Scraping new match: https://www.hltv.org/stats/matches/mapstatsid/49786/penta-vs-flipsid3?matchType=Majors\n"
     ]
    },
    {
     "name": "stderr",
     "output_type": "stream",
     "text": [
      "2019-05-10 19:27:55.851 | INFO     | __main__:<module>:4 - Scraping new match: https://www.hltv.org/stats/matches/mapstatsid/49781/mousesports-vs-cloud9?matchType=Majors\n"
     ]
    },
    {
     "name": "stderr",
     "output_type": "stream",
     "text": [
      "2019-05-10 19:27:58.410 | INFO     | __main__:<module>:4 - Scraping new match: https://www.hltv.org/stats/matches/mapstatsid/49772/sk-vs-big?matchType=Majors\n"
     ]
    },
    {
     "name": "stderr",
     "output_type": "stream",
     "text": [
      "2019-05-10 19:28:00.970 | INFO     | __main__:<module>:4 - Scraping new match: https://www.hltv.org/stats/matches/mapstatsid/49769/virtuspro-vs-gambit?matchType=Majors\n"
     ]
    },
    {
     "name": "stderr",
     "output_type": "stream",
     "text": [
      "2019-05-10 19:28:03.548 | INFO     | __main__:<module>:4 - Scraping new match: https://www.hltv.org/stats/matches/mapstatsid/49766/fnatic-vs-astralis?matchType=Majors\n"
     ]
    },
    {
     "name": "stderr",
     "output_type": "stream",
     "text": [
      "2019-05-10 19:28:06.149 | INFO     | __main__:<module>:4 - Scraping new match: https://www.hltv.org/stats/matches/mapstatsid/49759/g2-vs-cloud9?matchType=Majors\n"
     ]
    },
    {
     "name": "stderr",
     "output_type": "stream",
     "text": [
      "2019-05-10 19:28:08.772 | INFO     | __main__:<module>:4 - Scraping new match: https://www.hltv.org/stats/matches/mapstatsid/49758/natus-vincere-vs-immortals?matchType=Majors\n"
     ]
    },
    {
     "name": "stderr",
     "output_type": "stream",
     "text": [
      "2019-05-10 19:28:11.335 | INFO     | __main__:<module>:4 - Scraping new match: https://www.hltv.org/stats/matches/mapstatsid/49755/north-vs-mousesports?matchType=Majors\n"
     ]
    },
    {
     "name": "stderr",
     "output_type": "stream",
     "text": [
      "2019-05-10 19:28:13.977 | INFO     | __main__:<module>:4 - Scraping new match: https://www.hltv.org/stats/matches/mapstatsid/49749/faze-vs-flipsid3?matchType=Majors\n"
     ]
    },
    {
     "name": "stderr",
     "output_type": "stream",
     "text": [
      "2019-05-10 19:28:16.789 | INFO     | __main__:<module>:4 - Scraping new match: https://www.hltv.org/stats/matches/mapstatsid/49735/vega-squadron-vs-penta?matchType=Majors\n"
     ]
    },
    {
     "name": "stderr",
     "output_type": "stream",
     "text": [
      "2019-05-10 19:28:19.382 | INFO     | __main__:<module>:4 - Scraping new match: https://www.hltv.org/stats/matches/mapstatsid/49728/virtuspro-vs-fnatic?matchType=Majors\n"
     ]
    },
    {
     "name": "stderr",
     "output_type": "stream",
     "text": [
      "2019-05-10 19:28:22.048 | INFO     | __main__:<module>:4 - Scraping new match: https://www.hltv.org/stats/matches/mapstatsid/49724/astralis-vs-sk?matchType=Majors\n"
     ]
    },
    {
     "name": "stderr",
     "output_type": "stream",
     "text": [
      "2019-05-10 19:28:24.599 | INFO     | __main__:<module>:4 - Scraping new match: https://www.hltv.org/stats/matches/mapstatsid/49718/g2-vs-gambit?matchType=Majors\n"
     ]
    },
    {
     "name": "stderr",
     "output_type": "stream",
     "text": [
      "2019-05-10 19:28:27.161 | INFO     | __main__:<module>:4 - Scraping new match: https://www.hltv.org/stats/matches/mapstatsid/49710/cloud9-vs-big?matchType=Majors\n"
     ]
    },
    {
     "name": "stderr",
     "output_type": "stream",
     "text": [
      "2019-05-10 19:28:29.724 | INFO     | __main__:<module>:4 - Scraping new match: https://www.hltv.org/stats/matches/mapstatsid/49707/vega-squadron-vs-immortals?matchType=Majors\n"
     ]
    },
    {
     "name": "stderr",
     "output_type": "stream",
     "text": [
      "2019-05-10 19:28:32.278 | INFO     | __main__:<module>:4 - Scraping new match: https://www.hltv.org/stats/matches/mapstatsid/49706/natus-vincere-vs-flipsid3?matchType=Majors\n"
     ]
    },
    {
     "name": "stderr",
     "output_type": "stream",
     "text": [
      "2019-05-10 19:28:34.881 | INFO     | __main__:<module>:4 - Scraping new match: https://www.hltv.org/stats/matches/mapstatsid/49701/faze-vs-mousesports?matchType=Majors\n"
     ]
    },
    {
     "name": "stderr",
     "output_type": "stream",
     "text": [
      "2019-05-10 19:28:37.444 | INFO     | __main__:<module>:4 - Scraping new match: https://www.hltv.org/stats/matches/mapstatsid/49697/north-vs-penta?matchType=Majors\n"
     ]
    },
    {
     "name": "stderr",
     "output_type": "stream",
     "text": [
      "2019-05-10 19:28:40.012 | INFO     | __main__:<module>:4 - Scraping new match: https://www.hltv.org/stats/matches/mapstatsid/49684/astralis-vs-immortals?matchType=Majors\n"
     ]
    },
    {
     "name": "stderr",
     "output_type": "stream",
     "text": [
      "2019-05-10 19:28:42.564 | INFO     | __main__:<module>:4 - Scraping new match: https://www.hltv.org/stats/matches/mapstatsid/49678/natus-vincere-vs-g2?matchType=Majors\n"
     ]
    },
    {
     "name": "stderr",
     "output_type": "stream",
     "text": [
      "2019-05-10 19:28:45.218 | INFO     | __main__:<module>:4 - Scraping new match: https://www.hltv.org/stats/matches/mapstatsid/49675/cloud9-vs-north?matchType=Majors\n"
     ]
    },
    {
     "name": "stderr",
     "output_type": "stream",
     "text": [
      "2019-05-10 19:28:47.780 | INFO     | __main__:<module>:4 - Scraping new match: https://www.hltv.org/stats/matches/mapstatsid/49671/faze-vs-big?matchType=Majors\n"
     ]
    },
    {
     "name": "stderr",
     "output_type": "stream",
     "text": [
      "2019-05-10 19:28:50.358 | INFO     | __main__:<module>:4 - Scraping new match: https://www.hltv.org/stats/matches/mapstatsid/49670/sk-vs-penta?matchType=Majors\n"
     ]
    },
    {
     "name": "stderr",
     "output_type": "stream",
     "text": [
      "2019-05-10 19:28:52.926 | INFO     | __main__:<module>:4 - Scraping new match: https://www.hltv.org/stats/matches/mapstatsid/49667/vega-squadron-vs-virtuspro?matchType=Majors\n"
     ]
    },
    {
     "name": "stderr",
     "output_type": "stream",
     "text": [
      "2019-05-10 19:28:55.497 | INFO     | __main__:<module>:4 - Scraping new match: https://www.hltv.org/stats/matches/mapstatsid/49665/fnatic-vs-flipsid3?matchType=Majors\n"
     ]
    },
    {
     "name": "stderr",
     "output_type": "stream",
     "text": [
      "2019-05-10 19:28:58.075 | INFO     | __main__:<module>:4 - Scraping new match: https://www.hltv.org/stats/matches/mapstatsid/49658/mousesports-vs-gambit?matchType=Majors\n"
     ]
    },
    {
     "name": "stderr",
     "output_type": "stream",
     "text": [
      "2019-05-10 19:29:00.728 | INFO     | __main__:<module>:4 - Scraping new match: https://www.hltv.org/stats/matches/mapstatsid/41025/astralis-vs-virtuspro?matchType=Majors\n"
     ]
    },
    {
     "name": "stderr",
     "output_type": "stream",
     "text": [
      "2019-05-10 19:29:03.334 | INFO     | __main__:<module>:4 - Scraping new match: https://www.hltv.org/stats/matches/mapstatsid/41023/virtuspro-vs-astralis?matchType=Majors\n"
     ]
    },
    {
     "name": "stderr",
     "output_type": "stream",
     "text": [
      "2019-05-10 19:29:05.967 | INFO     | __main__:<module>:4 - Scraping new match: https://www.hltv.org/stats/matches/mapstatsid/41021/astralis-vs-virtuspro?matchType=Majors\n"
     ]
    },
    {
     "name": "stderr",
     "output_type": "stream",
     "text": [
      "2019-05-10 19:29:08.524 | INFO     | __main__:<module>:4 - Scraping new match: https://www.hltv.org/stats/matches/mapstatsid/41014/sk-vs-virtuspro?matchType=Majors\n"
     ]
    },
    {
     "name": "stderr",
     "output_type": "stream",
     "text": [
      "2019-05-10 19:29:11.094 | INFO     | __main__:<module>:4 - Scraping new match: https://www.hltv.org/stats/matches/mapstatsid/41012/virtuspro-vs-sk?matchType=Majors\n"
     ]
    },
    {
     "name": "stderr",
     "output_type": "stream",
     "text": [
      "2019-05-10 19:29:13.683 | INFO     | __main__:<module>:4 - Scraping new match: https://www.hltv.org/stats/matches/mapstatsid/41011/fnatic-vs-astralis?matchType=Majors\n"
     ]
    },
    {
     "name": "stderr",
     "output_type": "stream",
     "text": [
      "2019-05-10 19:29:16.321 | INFO     | __main__:<module>:4 - Scraping new match: https://www.hltv.org/stats/matches/mapstatsid/41009/astralis-vs-fnatic?matchType=Majors\n"
     ]
    },
    {
     "name": "stderr",
     "output_type": "stream",
     "text": [
      "2019-05-10 19:29:18.907 | INFO     | __main__:<module>:4 - Scraping new match: https://www.hltv.org/stats/matches/mapstatsid/41007/sk-vs-faze?matchType=Majors\n"
     ]
    },
    {
     "name": "stderr",
     "output_type": "stream",
     "text": [
      "2019-05-10 19:29:21.476 | INFO     | __main__:<module>:4 - Scraping new match: https://www.hltv.org/stats/matches/mapstatsid/41004/faze-vs-sk?matchType=Majors\n"
     ]
    },
    {
     "name": "stderr",
     "output_type": "stream",
     "text": [
      "2019-05-10 19:29:24.122 | INFO     | __main__:<module>:4 - Scraping new match: https://www.hltv.org/stats/matches/mapstatsid/41000/sk-vs-faze?matchType=Majors\n"
     ]
    },
    {
     "name": "stderr",
     "output_type": "stream",
     "text": [
      "2019-05-10 19:29:26.694 | INFO     | __main__:<module>:4 - Scraping new match: https://www.hltv.org/stats/matches/mapstatsid/40993/north-vs-virtuspro?matchType=Majors\n"
     ]
    },
    {
     "name": "stderr",
     "output_type": "stream",
     "text": [
      "2019-05-10 19:29:29.485 | INFO     | __main__:<module>:4 - Scraping new match: https://www.hltv.org/stats/matches/mapstatsid/40992/north-vs-virtuspro?matchType=Majors\n"
     ]
    },
    {
     "name": "stderr",
     "output_type": "stream",
     "text": [
      "2019-05-10 19:29:32.182 | INFO     | __main__:<module>:4 - Scraping new match: https://www.hltv.org/stats/matches/mapstatsid/40991/virtuspro-vs-north?matchType=Majors\n"
     ]
    },
    {
     "name": "stderr",
     "output_type": "stream",
     "text": [
      "2019-05-10 19:29:34.800 | INFO     | __main__:<module>:4 - Scraping new match: https://www.hltv.org/stats/matches/mapstatsid/40988/gambit-vs-fnatic?matchType=Majors\n"
     ]
    },
    {
     "name": "stderr",
     "output_type": "stream",
     "text": [
      "2019-05-10 19:29:37.440 | INFO     | __main__:<module>:4 - Scraping new match: https://www.hltv.org/stats/matches/mapstatsid/40987/fnatic-vs-gambit?matchType=Majors\n"
     ]
    },
    {
     "name": "stderr",
     "output_type": "stream",
     "text": [
      "2019-05-10 19:29:40.091 | INFO     | __main__:<module>:4 - Scraping new match: https://www.hltv.org/stats/matches/mapstatsid/40984/gambit-vs-fnatic?matchType=Majors\n"
     ]
    },
    {
     "name": "stderr",
     "output_type": "stream",
     "text": [
      "2019-05-10 19:29:42.726 | INFO     | __main__:<module>:4 - Scraping new match: https://www.hltv.org/stats/matches/mapstatsid/40980/natus-vincere-vs-astralis?matchType=Majors\n"
     ]
    },
    {
     "name": "stderr",
     "output_type": "stream",
     "text": [
      "2019-05-10 19:29:45.483 | INFO     | __main__:<module>:4 - Scraping new match: https://www.hltv.org/stats/matches/mapstatsid/40977/astralis-vs-natus-vincere?matchType=Majors\n"
     ]
    },
    {
     "name": "stderr",
     "output_type": "stream",
     "text": [
      "2019-05-10 19:29:48.054 | INFO     | __main__:<module>:4 - Scraping new match: https://www.hltv.org/stats/matches/mapstatsid/40976/natus-vincere-vs-astralis?matchType=Majors\n"
     ]
    },
    {
     "name": "stderr",
     "output_type": "stream",
     "text": [
      "2019-05-10 19:29:50.623 | INFO     | __main__:<module>:4 - Scraping new match: https://www.hltv.org/stats/matches/mapstatsid/40967/astralis-vs-liquid?matchType=Majors\n"
     ]
    },
    {
     "name": "stderr",
     "output_type": "stream",
     "text": [
      "2019-05-10 19:29:53.188 | INFO     | __main__:<module>:4 - Scraping new match: https://www.hltv.org/stats/matches/mapstatsid/40965/envy-vs-faze?matchType=Majors\n"
     ]
    },
    {
     "name": "stderr",
     "output_type": "stream",
     "text": [
      "2019-05-10 19:29:55.764 | INFO     | __main__:<module>:4 - Scraping new match: https://www.hltv.org/stats/matches/mapstatsid/40963/godsent-vs-north?matchType=Majors\n"
     ]
    },
    {
     "name": "stderr",
     "output_type": "stream",
     "text": [
      "2019-05-10 19:29:58.324 | INFO     | __main__:<module>:4 - Scraping new match: https://www.hltv.org/stats/matches/mapstatsid/40962/faze-vs-gambit?matchType=Majors\n"
     ]
    },
    {
     "name": "stderr",
     "output_type": "stream",
     "text": [
      "2019-05-10 19:30:00.868 | INFO     | __main__:<module>:4 - Scraping new match: https://www.hltv.org/stats/matches/mapstatsid/40956/astralis-vs-sk?matchType=Majors\n"
     ]
    },
    {
     "name": "stderr",
     "output_type": "stream",
     "text": [
      "2019-05-10 19:30:03.422 | INFO     | __main__:<module>:4 - Scraping new match: https://www.hltv.org/stats/matches/mapstatsid/40953/optic-vs-godsent?matchType=Majors\n"
     ]
    },
    {
     "name": "stderr",
     "output_type": "stream",
     "text": [
      "2019-05-10 19:30:05.971 | INFO     | __main__:<module>:4 - Scraping new match: https://www.hltv.org/stats/matches/mapstatsid/40952/liquid-vs-mousesports?matchType=Majors\n"
     ]
    },
    {
     "name": "stderr",
     "output_type": "stream",
     "text": [
      "2019-05-10 19:30:08.534 | INFO     | __main__:<module>:4 - Scraping new match: https://www.hltv.org/stats/matches/mapstatsid/40951/fnatic-vs-envy?matchType=Majors\n"
     ]
    },
    {
     "name": "stderr",
     "output_type": "stream",
     "text": [
      "2019-05-10 19:30:11.115 | INFO     | __main__:<module>:4 - Scraping new match: https://www.hltv.org/stats/matches/mapstatsid/40946/g2-vs-north?matchType=Majors\n"
     ]
    },
    {
     "name": "stderr",
     "output_type": "stream",
     "text": [
      "2019-05-10 19:30:13.568 | INFO     | __main__:<module>:4 - Scraping new match: https://www.hltv.org/stats/matches/mapstatsid/40944/optic-vs-flipsid3?matchType=Majors\n"
     ]
    },
    {
     "name": "stderr",
     "output_type": "stream",
     "text": [
      "2019-05-10 19:30:16.382 | INFO     | __main__:<module>:4 - Scraping new match: https://www.hltv.org/stats/matches/mapstatsid/40941/faze-vs-liquid?matchType=Majors\n"
     ]
    },
    {
     "name": "stderr",
     "output_type": "stream",
     "text": [
      "2019-05-10 19:30:18.936 | INFO     | __main__:<module>:4 - Scraping new match: https://www.hltv.org/stats/matches/mapstatsid/40940/natus-vincere-vs-sk?matchType=Majors\n"
     ]
    },
    {
     "name": "stderr",
     "output_type": "stream",
     "text": [
      "2019-05-10 19:30:21.489 | INFO     | __main__:<module>:4 - Scraping new match: https://www.hltv.org/stats/matches/mapstatsid/40937/g2-vs-astralis?matchType=Majors\n"
     ]
    },
    {
     "name": "stderr",
     "output_type": "stream",
     "text": [
      "2019-05-10 19:30:24.051 | INFO     | __main__:<module>:4 - Scraping new match: https://www.hltv.org/stats/matches/mapstatsid/40935/virtuspro-vs-gambit?matchType=Majors\n"
     ]
    },
    {
     "name": "stderr",
     "output_type": "stream",
     "text": [
      "2019-05-10 19:30:26.728 | INFO     | __main__:<module>:4 - Scraping new match: https://www.hltv.org/stats/matches/mapstatsid/40931/hellraisers-vs-north?matchType=Majors\n"
     ]
    },
    {
     "name": "stderr",
     "output_type": "stream",
     "text": [
      "2019-05-10 19:30:29.327 | INFO     | __main__:<module>:4 - Scraping new match: https://www.hltv.org/stats/matches/mapstatsid/40928/envy-vs-godsent?matchType=Majors\n"
     ]
    },
    {
     "name": "stderr",
     "output_type": "stream",
     "text": [
      "2019-05-10 19:30:31.901 | INFO     | __main__:<module>:4 - Scraping new match: https://www.hltv.org/stats/matches/mapstatsid/40925/mousesports-vs-fnatic?matchType=Majors\n"
     ]
    },
    {
     "name": "stderr",
     "output_type": "stream",
     "text": [
      "2019-05-10 19:30:34.456 | INFO     | __main__:<module>:4 - Scraping new match: https://www.hltv.org/stats/matches/mapstatsid/40921/g2-vs-virtuspro?matchType=Majors\n"
     ]
    },
    {
     "name": "stderr",
     "output_type": "stream",
     "text": [
      "2019-05-10 19:30:36.993 | INFO     | __main__:<module>:4 - Scraping new match: https://www.hltv.org/stats/matches/mapstatsid/40920/gambit-vs-godsent?matchType=Majors\n"
     ]
    },
    {
     "name": "stderr",
     "output_type": "stream",
     "text": [
      "2019-05-10 19:30:39.557 | INFO     | __main__:<module>:4 - Scraping new match: https://www.hltv.org/stats/matches/mapstatsid/40919/astralis-vs-optic?matchType=Majors\n"
     ]
    },
    {
     "name": "stderr",
     "output_type": "stream",
     "text": [
      "2019-05-10 19:30:42.107 | INFO     | __main__:<module>:4 - Scraping new match: https://www.hltv.org/stats/matches/mapstatsid/40918/fnatic-vs-north?matchType=Majors\n"
     ]
    },
    {
     "name": "stderr",
     "output_type": "stream",
     "text": [
      "2019-05-10 19:30:44.669 | INFO     | __main__:<module>:4 - Scraping new match: https://www.hltv.org/stats/matches/mapstatsid/40917/liquid-vs-flipsid3?matchType=Majors\n"
     ]
    },
    {
     "name": "stderr",
     "output_type": "stream",
     "text": [
      "2019-05-10 19:30:47.291 | INFO     | __main__:<module>:4 - Scraping new match: https://www.hltv.org/stats/matches/mapstatsid/40913/sk-vs-faze?matchType=Majors\n"
     ]
    },
    {
     "name": "stderr",
     "output_type": "stream",
     "text": [
      "2019-05-10 19:30:49.819 | INFO     | __main__:<module>:4 - Scraping new match: https://www.hltv.org/stats/matches/mapstatsid/40912/natus-vincere-vs-envy?matchType=Majors\n"
     ]
    },
    {
     "name": "stderr",
     "output_type": "stream",
     "text": [
      "2019-05-10 19:30:52.348 | INFO     | __main__:<module>:4 - Scraping new match: https://www.hltv.org/stats/matches/mapstatsid/40911/mousesports-vs-hellraisers?matchType=Majors\n"
     ]
    },
    {
     "name": "stderr",
     "output_type": "stream",
     "text": [
      "2019-05-10 19:30:54.910 | INFO     | __main__:<module>:4 - Scraping new match: https://www.hltv.org/stats/matches/mapstatsid/40902/faze-vs-flipsid3?matchType=Majors\n"
     ]
    },
    {
     "name": "stderr",
     "output_type": "stream",
     "text": [
      "2019-05-10 19:30:57.470 | INFO     | __main__:<module>:4 - Scraping new match: https://www.hltv.org/stats/matches/mapstatsid/40901/godsent-vs-astralis?matchType=Majors\n"
     ]
    },
    {
     "name": "stderr",
     "output_type": "stream",
     "text": [
      "2019-05-10 19:31:00.031 | INFO     | __main__:<module>:4 - Scraping new match: https://www.hltv.org/stats/matches/mapstatsid/40896/liquid-vs-envy?matchType=Majors\n"
     ]
    },
    {
     "name": "stderr",
     "output_type": "stream",
     "text": [
      "2019-05-10 19:31:02.623 | INFO     | __main__:<module>:4 - Scraping new match: https://www.hltv.org/stats/matches/mapstatsid/40891/natus-vincere-vs-mousesports?matchType=Majors\n"
     ]
    },
    {
     "name": "stderr",
     "output_type": "stream",
     "text": [
      "2019-05-10 19:31:05.181 | INFO     | __main__:<module>:4 - Scraping new match: https://www.hltv.org/stats/matches/mapstatsid/40888/virtuspro-vs-optic?matchType=Majors\n"
     ]
    },
    {
     "name": "stderr",
     "output_type": "stream",
     "text": [
      "2019-05-10 19:31:07.734 | INFO     | __main__:<module>:4 - Scraping new match: https://www.hltv.org/stats/matches/mapstatsid/40887/hellraisers-vs-sk?matchType=Majors\n"
     ]
    },
    {
     "name": "stderr",
     "output_type": "stream",
     "text": [
      "2019-05-10 19:31:10.301 | INFO     | __main__:<module>:4 - Scraping new match: https://www.hltv.org/stats/matches/mapstatsid/40886/g2-vs-fnatic?matchType=Majors\n"
     ]
    },
    {
     "name": "stderr",
     "output_type": "stream",
     "text": [
      "2019-05-10 19:31:12.867 | INFO     | __main__:<module>:4 - Scraping new match: https://www.hltv.org/stats/matches/mapstatsid/40885/north-vs-gambit?matchType=Majors\n"
     ]
    },
    {
     "name": "stderr",
     "output_type": "stream",
     "text": [
      "2019-05-10 19:31:15.439 | INFO     | __main__:<module>:4 - Scraping new match: https://www.hltv.org/stats/matches/mapstatsid/32417/sk-vs-liquid?matchType=Majors\n"
     ]
    },
    {
     "name": "stderr",
     "output_type": "stream",
     "text": [
      "2019-05-10 19:31:18.089 | INFO     | __main__:<module>:4 - Scraping new match: https://www.hltv.org/stats/matches/mapstatsid/32415/liquid-vs-sk?matchType=Majors\n"
     ]
    },
    {
     "name": "stderr",
     "output_type": "stream",
     "text": [
      "2019-05-10 19:31:20.678 | INFO     | __main__:<module>:4 - Scraping new match: https://www.hltv.org/stats/matches/mapstatsid/32394/liquid-vs-fnatic?matchType=Majors\n"
     ]
    },
    {
     "name": "stderr",
     "output_type": "stream",
     "text": [
      "2019-05-10 19:31:23.254 | INFO     | __main__:<module>:4 - Scraping new match: https://www.hltv.org/stats/matches/mapstatsid/32393/fnatic-vs-liquid?matchType=Majors\n"
     ]
    },
    {
     "name": "stderr",
     "output_type": "stream",
     "text": [
      "2019-05-10 19:31:25.899 | INFO     | __main__:<module>:4 - Scraping new match: https://www.hltv.org/stats/matches/mapstatsid/32388/virtuspro-vs-sk?matchType=Majors\n"
     ]
    },
    {
     "name": "stderr",
     "output_type": "stream",
     "text": [
      "2019-05-10 19:31:28.485 | INFO     | __main__:<module>:4 - Scraping new match: https://www.hltv.org/stats/matches/mapstatsid/32379/sk-vs-virtuspro?matchType=Majors\n"
     ]
    },
    {
     "name": "stderr",
     "output_type": "stream",
     "text": [
      "2019-05-10 19:31:31.050 | INFO     | __main__:<module>:4 - Scraping new match: https://www.hltv.org/stats/matches/mapstatsid/32370/virtuspro-vs-sk?matchType=Majors\n"
     ]
    },
    {
     "name": "stderr",
     "output_type": "stream",
     "text": [
      "2019-05-10 19:31:33.636 | INFO     | __main__:<module>:4 - Scraping new match: https://www.hltv.org/stats/matches/mapstatsid/32358/gambit-vs-fnatic?matchType=Majors\n"
     ]
    },
    {
     "name": "stderr",
     "output_type": "stream",
     "text": [
      "2019-05-10 19:31:36.390 | INFO     | __main__:<module>:4 - Scraping new match: https://www.hltv.org/stats/matches/mapstatsid/32357/gambit-vs-fnatic?matchType=Majors\n"
     ]
    },
    {
     "name": "stderr",
     "output_type": "stream",
     "text": [
      "2019-05-10 19:31:39.020 | INFO     | __main__:<module>:4 - Scraping new match: https://www.hltv.org/stats/matches/mapstatsid/32356/natus-vincere-vs-liquid?matchType=Majors\n"
     ]
    },
    {
     "name": "stderr",
     "output_type": "stream",
     "text": [
      "2019-05-10 19:31:41.613 | INFO     | __main__:<module>:4 - Scraping new match: https://www.hltv.org/stats/matches/mapstatsid/32355/natus-vincere-vs-liquid?matchType=Majors\n"
     ]
    },
    {
     "name": "stderr",
     "output_type": "stream",
     "text": [
      "2019-05-10 19:31:44.177 | INFO     | __main__:<module>:4 - Scraping new match: https://www.hltv.org/stats/matches/mapstatsid/32354/liquid-vs-natus-vincere?matchType=Majors\n"
     ]
    },
    {
     "name": "stderr",
     "output_type": "stream",
     "text": [
      "2019-05-10 19:31:46.811 | INFO     | __main__:<module>:4 - Scraping new match: https://www.hltv.org/stats/matches/mapstatsid/32352/sk-vs-flipsid3?matchType=Majors\n"
     ]
    },
    {
     "name": "stderr",
     "output_type": "stream",
     "text": [
      "2019-05-10 19:31:49.385 | INFO     | __main__:<module>:4 - Scraping new match: https://www.hltv.org/stats/matches/mapstatsid/32351/flipsid3-vs-sk?matchType=Majors\n"
     ]
    },
    {
     "name": "stderr",
     "output_type": "stream",
     "text": [
      "2019-05-10 19:31:51.954 | INFO     | __main__:<module>:4 - Scraping new match: https://www.hltv.org/stats/matches/mapstatsid/32349/astralis-vs-virtuspro?matchType=Majors\n"
     ]
    },
    {
     "name": "stderr",
     "output_type": "stream",
     "text": [
      "2019-05-10 19:31:54.530 | INFO     | __main__:<module>:4 - Scraping new match: https://www.hltv.org/stats/matches/mapstatsid/32347/virtuspro-vs-astralis?matchType=Majors\n"
     ]
    },
    {
     "name": "stderr",
     "output_type": "stream",
     "text": [
      "2019-05-10 19:31:57.104 | INFO     | __main__:<module>:4 - Scraping new match: https://www.hltv.org/stats/matches/mapstatsid/32346/fnatic-vs-faze?matchType=Majors\n"
     ]
    },
    {
     "name": "stderr",
     "output_type": "stream",
     "text": [
      "2019-05-10 19:31:59.676 | INFO     | __main__:<module>:4 - Scraping new match: https://www.hltv.org/stats/matches/mapstatsid/32345/faze-vs-fnatic?matchType=Majors\n"
     ]
    },
    {
     "name": "stderr",
     "output_type": "stream",
     "text": [
      "2019-05-10 19:32:02.276 | INFO     | __main__:<module>:4 - Scraping new match: https://www.hltv.org/stats/matches/mapstatsid/32344/liquid-vs-mousesports?matchType=Majors\n"
     ]
    },
    {
     "name": "stderr",
     "output_type": "stream",
     "text": [
      "2019-05-10 19:32:04.845 | INFO     | __main__:<module>:4 - Scraping new match: https://www.hltv.org/stats/matches/mapstatsid/32342/liquid-vs-mousesports?matchType=Majors\n"
     ]
    },
    {
     "name": "stderr",
     "output_type": "stream",
     "text": [
      "2019-05-10 19:32:07.503 | INFO     | __main__:<module>:4 - Scraping new match: https://www.hltv.org/stats/matches/mapstatsid/32338/nip-vs-flipsid3?matchType=Majors\n"
     ]
    },
    {
     "name": "stderr",
     "output_type": "stream",
     "text": [
      "2019-05-10 19:32:10.082 | INFO     | __main__:<module>:4 - Scraping new match: https://www.hltv.org/stats/matches/mapstatsid/32337/flipsid3-vs-nip?matchType=Majors\n"
     ]
    },
    {
     "name": "stderr",
     "output_type": "stream",
     "text": [
      "2019-05-10 19:32:12.676 | INFO     | __main__:<module>:4 - Scraping new match: https://www.hltv.org/stats/matches/mapstatsid/32336/flipsid3-vs-nip?matchType=Majors\n"
     ]
    },
    {
     "name": "stderr",
     "output_type": "stream",
     "text": [
      "2019-05-10 19:32:15.337 | INFO     | __main__:<module>:4 - Scraping new match: https://www.hltv.org/stats/matches/mapstatsid/32335/astralis-vs-dignitas?matchType=Majors\n"
     ]
    },
    {
     "name": "stderr",
     "output_type": "stream",
     "text": [
      "2019-05-10 19:32:17.959 | INFO     | __main__:<module>:4 - Scraping new match: https://www.hltv.org/stats/matches/mapstatsid/32334/dignitas-vs-astralis?matchType=Majors\n"
     ]
    },
    {
     "name": "stderr",
     "output_type": "stream",
     "text": [
      "2019-05-10 19:32:20.545 | INFO     | __main__:<module>:4 - Scraping new match: https://www.hltv.org/stats/matches/mapstatsid/32332/astralis-vs-dignitas?matchType=Majors\n"
     ]
    },
    {
     "name": "stderr",
     "output_type": "stream",
     "text": [
      "2019-05-10 19:32:23.209 | INFO     | __main__:<module>:4 - Scraping new match: https://www.hltv.org/stats/matches/mapstatsid/32327/g2-vs-fnatic?matchType=Majors\n"
     ]
    },
    {
     "name": "stderr",
     "output_type": "stream",
     "text": [
      "2019-05-10 19:32:25.798 | INFO     | __main__:<module>:4 - Scraping new match: https://www.hltv.org/stats/matches/mapstatsid/32326/sk-vs-faze?matchType=Majors\n"
     ]
    },
    {
     "name": "stderr",
     "output_type": "stream",
     "text": [
      "2019-05-10 19:32:28.358 | INFO     | __main__:<module>:4 - Scraping new match: https://www.hltv.org/stats/matches/mapstatsid/32323/mousesports-vs-envy?matchType=Majors\n"
     ]
    },
    {
     "name": "stderr",
     "output_type": "stream",
     "text": [
      "2019-05-10 19:32:30.927 | INFO     | __main__:<module>:4 - Scraping new match: https://www.hltv.org/stats/matches/mapstatsid/32322/virtuspro-vs-liquid?matchType=Majors\n"
     ]
    },
    {
     "name": "stderr",
     "output_type": "stream",
     "text": [
      "2019-05-10 19:32:33.504 | INFO     | __main__:<module>:4 - Scraping new match: https://www.hltv.org/stats/matches/mapstatsid/32321/flipsid3-vs-optic?matchType=Majors\n"
     ]
    },
    {
     "name": "stderr",
     "output_type": "stream",
     "text": [
      "2019-05-10 19:32:36.062 | INFO     | __main__:<module>:4 - Scraping new match: https://www.hltv.org/stats/matches/mapstatsid/32320/natus-vincere-vs-nip?matchType=Majors\n"
     ]
    },
    {
     "name": "stderr",
     "output_type": "stream",
     "text": [
      "2019-05-10 19:32:38.612 | INFO     | __main__:<module>:4 - Scraping new match: https://www.hltv.org/stats/matches/mapstatsid/32319/clg-vs-dignitas?matchType=Majors\n"
     ]
    },
    {
     "name": "stderr",
     "output_type": "stream",
     "text": [
      "2019-05-10 19:32:41.220 | INFO     | __main__:<module>:4 - Scraping new match: https://www.hltv.org/stats/matches/mapstatsid/32318/astralis-vs-gambit?matchType=Majors\n"
     ]
    },
    {
     "name": "stderr",
     "output_type": "stream",
     "text": [
      "2019-05-10 19:32:43.795 | INFO     | __main__:<module>:4 - Scraping new match: https://www.hltv.org/stats/matches/mapstatsid/32305/faze-vs-fnatic?matchType=Majors\n"
     ]
    },
    {
     "name": "stderr",
     "output_type": "stream",
     "text": [
      "2019-05-10 19:32:46.432 | INFO     | __main__:<module>:4 - Scraping new match: https://www.hltv.org/stats/matches/mapstatsid/32302/sk-vs-g2?matchType=Majors\n"
     ]
    },
    {
     "name": "stderr",
     "output_type": "stream",
     "text": [
      "2019-05-10 19:32:48.988 | INFO     | __main__:<module>:4 - Scraping new match: https://www.hltv.org/stats/matches/mapstatsid/32297/virtuspro-vs-mousesports?matchType=Majors\n"
     ]
    },
    {
     "name": "stderr",
     "output_type": "stream",
     "text": [
      "2019-05-10 19:32:51.597 | INFO     | __main__:<module>:4 - Scraping new match: https://www.hltv.org/stats/matches/mapstatsid/32296/envy-vs-liquid?matchType=Majors\n"
     ]
    },
    {
     "name": "stderr",
     "output_type": "stream",
     "text": [
      "2019-05-10 19:32:54.180 | INFO     | __main__:<module>:4 - Scraping new match: https://www.hltv.org/stats/matches/mapstatsid/32295/optic-vs-nip?matchType=Majors\n"
     ]
    },
    {
     "name": "stderr",
     "output_type": "stream",
     "text": [
      "2019-05-10 19:32:57.089 | INFO     | __main__:<module>:4 - Scraping new match: https://www.hltv.org/stats/matches/mapstatsid/32294/natus-vincere-vs-flipsid3?matchType=Majors\n"
     ]
    },
    {
     "name": "stderr",
     "output_type": "stream",
     "text": [
      "2019-05-10 19:32:59.648 | INFO     | __main__:<module>:4 - Scraping new match: https://www.hltv.org/stats/matches/mapstatsid/32293/clg-vs-gambit?matchType=Majors\n"
     ]
    },
    {
     "name": "stderr",
     "output_type": "stream",
     "text": [
      "2019-05-10 19:33:02.105 | INFO     | __main__:<module>:4 - Scraping new match: https://www.hltv.org/stats/matches/mapstatsid/32292/dignitas-vs-astralis?matchType=Majors\n"
     ]
    },
    {
     "name": "stderr",
     "output_type": "stream",
     "text": [
      "2019-05-10 19:33:04.848 | INFO     | __main__:<module>:4 - Scraping new match: https://www.hltv.org/stats/matches/mapstatsid/29610/luminosity-vs-natus-vincere?matchType=Majors\n"
     ]
    },
    {
     "name": "stderr",
     "output_type": "stream",
     "text": [
      "2019-05-10 19:33:07.425 | INFO     | __main__:<module>:4 - Scraping new match: https://www.hltv.org/stats/matches/mapstatsid/29608/natus-vincere-vs-luminosity?matchType=Majors\n"
     ]
    },
    {
     "name": "stderr",
     "output_type": "stream",
     "text": [
      "2019-05-10 19:33:10.000 | INFO     | __main__:<module>:4 - Scraping new match: https://www.hltv.org/stats/matches/mapstatsid/29603/liquid-vs-luminosity?matchType=Majors\n"
     ]
    },
    {
     "name": "stderr",
     "output_type": "stream",
     "text": [
      "2019-05-10 19:33:12.592 | INFO     | __main__:<module>:4 - Scraping new match: https://www.hltv.org/stats/matches/mapstatsid/29601/liquid-vs-luminosity?matchType=Majors\n"
     ]
    },
    {
     "name": "stderr",
     "output_type": "stream",
     "text": [
      "2019-05-10 19:33:15.315 | INFO     | __main__:<module>:4 - Scraping new match: https://www.hltv.org/stats/matches/mapstatsid/29600/astralis-vs-natus-vincere?matchType=Majors\n"
     ]
    },
    {
     "name": "stderr",
     "output_type": "stream",
     "text": [
      "2019-05-10 19:33:17.940 | INFO     | __main__:<module>:4 - Scraping new match: https://www.hltv.org/stats/matches/mapstatsid/29599/natus-vincere-vs-astralis?matchType=Majors\n"
     ]
    },
    {
     "name": "stderr",
     "output_type": "stream",
     "text": [
      "2019-05-10 19:33:20.587 | INFO     | __main__:<module>:4 - Scraping new match: https://www.hltv.org/stats/matches/mapstatsid/29592/virtuspro-vs-luminosity?matchType=Majors\n"
     ]
    },
    {
     "name": "stderr",
     "output_type": "stream",
     "text": [
      "2019-05-10 19:33:23.454 | INFO     | __main__:<module>:4 - Scraping new match: https://www.hltv.org/stats/matches/mapstatsid/29589/luminosity-vs-virtuspro?matchType=Majors\n"
     ]
    },
    {
     "name": "stderr",
     "output_type": "stream",
     "text": [
      "2019-05-10 19:33:26.060 | INFO     | __main__:<module>:4 - Scraping new match: https://www.hltv.org/stats/matches/mapstatsid/29587/luminosity-vs-virtuspro?matchType=Majors\n"
     ]
    },
    {
     "name": "stderr",
     "output_type": "stream",
     "text": [
      "2019-05-10 19:33:28.766 | INFO     | __main__:<module>:4 - Scraping new match: https://www.hltv.org/stats/matches/mapstatsid/29575/liquid-vs-clg?matchType=Majors\n"
     ]
    },
    {
     "name": "stderr",
     "output_type": "stream",
     "text": [
      "2019-05-10 19:33:31.356 | INFO     | __main__:<module>:4 - Scraping new match: https://www.hltv.org/stats/matches/mapstatsid/29574/liquid-vs-clg?matchType=Majors\n"
     ]
    },
    {
     "name": "stderr",
     "output_type": "stream",
     "text": [
      "2019-05-10 19:33:33.921 | INFO     | __main__:<module>:4 - Scraping new match: https://www.hltv.org/stats/matches/mapstatsid/29573/fnatic-vs-astralis?matchType=Majors\n"
     ]
    },
    {
     "name": "stderr",
     "output_type": "stream",
     "text": [
      "2019-05-10 19:33:36.910 | INFO     | __main__:<module>:4 - Scraping new match: https://www.hltv.org/stats/matches/mapstatsid/29572/astralis-vs-fnatic?matchType=Majors\n"
     ]
    },
    {
     "name": "stderr",
     "output_type": "stream",
     "text": [
      "2019-05-10 19:33:39.522 | INFO     | __main__:<module>:4 - Scraping new match: https://www.hltv.org/stats/matches/mapstatsid/29571/nip-vs-natus-vincere?matchType=Majors\n"
     ]
    },
    {
     "name": "stderr",
     "output_type": "stream",
     "text": [
      "2019-05-10 19:33:42.140 | INFO     | __main__:<module>:4 - Scraping new match: https://www.hltv.org/stats/matches/mapstatsid/29570/natus-vincere-vs-nip?matchType=Majors\n"
     ]
    },
    {
     "name": "stderr",
     "output_type": "stream",
     "text": [
      "2019-05-10 19:33:44.707 | INFO     | __main__:<module>:4 - Scraping new match: https://www.hltv.org/stats/matches/mapstatsid/29569/g2-vs-virtuspro?matchType=Majors\n"
     ]
    },
    {
     "name": "stderr",
     "output_type": "stream",
     "text": [
      "2019-05-10 19:33:47.434 | INFO     | __main__:<module>:4 - Scraping new match: https://www.hltv.org/stats/matches/mapstatsid/29568/virtuspro-vs-g2?matchType=Majors\n"
     ]
    },
    {
     "name": "stderr",
     "output_type": "stream",
     "text": [
      "2019-05-10 19:33:50.021 | INFO     | __main__:<module>:4 - Scraping new match: https://www.hltv.org/stats/matches/mapstatsid/29567/g2-vs-virtuspro?matchType=Majors\n"
     ]
    },
    {
     "name": "stderr",
     "output_type": "stream",
     "text": [
      "2019-05-10 19:33:52.586 | INFO     | __main__:<module>:4 - Scraping new match: https://www.hltv.org/stats/matches/mapstatsid/29566/gambit-vs-clg?matchType=Majors\n"
     ]
    },
    {
     "name": "stderr",
     "output_type": "stream",
     "text": [
      "2019-05-10 19:33:55.166 | INFO     | __main__:<module>:4 - Scraping new match: https://www.hltv.org/stats/matches/mapstatsid/29565/clg-vs-gambit?matchType=Majors\n"
     ]
    },
    {
     "name": "stderr",
     "output_type": "stream",
     "text": [
      "2019-05-10 19:33:57.641 | INFO     | __main__:<module>:4 - Scraping new match: https://www.hltv.org/stats/matches/mapstatsid/29564/clg-vs-gambit?matchType=Majors\n"
     ]
    },
    {
     "name": "stderr",
     "output_type": "stream",
     "text": [
      "2019-05-10 19:34:00.218 | INFO     | __main__:<module>:4 - Scraping new match: https://www.hltv.org/stats/matches/mapstatsid/29563/fnatic-vs-faze?matchType=Majors\n"
     ]
    },
    {
     "name": "stderr",
     "output_type": "stream",
     "text": [
      "2019-05-10 19:34:02.798 | INFO     | __main__:<module>:4 - Scraping new match: https://www.hltv.org/stats/matches/mapstatsid/29560/fnatic-vs-faze?matchType=Majors\n"
     ]
    },
    {
     "name": "stderr",
     "output_type": "stream",
     "text": [
      "2019-05-10 19:34:05.361 | INFO     | __main__:<module>:4 - Scraping new match: https://www.hltv.org/stats/matches/mapstatsid/29559/nip-vs-mousesports?matchType=Majors\n"
     ]
    },
    {
     "name": "stderr",
     "output_type": "stream",
     "text": [
      "2019-05-10 19:34:07.955 | INFO     | __main__:<module>:4 - Scraping new match: https://www.hltv.org/stats/matches/mapstatsid/29558/mousesports-vs-nip?matchType=Majors\n"
     ]
    },
    {
     "name": "stderr",
     "output_type": "stream",
     "text": [
      "2019-05-10 19:34:10.534 | INFO     | __main__:<module>:4 - Scraping new match: https://www.hltv.org/stats/matches/mapstatsid/29557/mousesports-vs-nip?matchType=Majors\n"
     ]
    },
    {
     "name": "stderr",
     "output_type": "stream",
     "text": [
      "2019-05-10 19:34:13.129 | INFO     | __main__:<module>:4 - Scraping new match: https://www.hltv.org/stats/matches/mapstatsid/29556/virtuspro-vs-natus-vincere?matchType=Majors\n"
     ]
    },
    {
     "name": "stderr",
     "output_type": "stream",
     "text": [
      "2019-05-10 19:34:15.717 | INFO     | __main__:<module>:4 - Scraping new match: https://www.hltv.org/stats/matches/mapstatsid/29555/clg-vs-astralis?matchType=Majors\n"
     ]
    },
    {
     "name": "stderr",
     "output_type": "stream",
     "text": [
      "2019-05-10 19:34:18.349 | INFO     | __main__:<module>:4 - Scraping new match: https://www.hltv.org/stats/matches/mapstatsid/29552/fnatic-vs-liquid?matchType=Majors\n"
     ]
    },
    {
     "name": "stderr",
     "output_type": "stream",
     "text": [
      "2019-05-10 19:34:20.913 | INFO     | __main__:<module>:4 - Scraping new match: https://www.hltv.org/stats/matches/mapstatsid/29551/luminosity-vs-nip?matchType=Majors\n"
     ]
    },
    {
     "name": "stderr",
     "output_type": "stream",
     "text": [
      "2019-05-10 19:34:23.475 | INFO     | __main__:<module>:4 - Scraping new match: https://www.hltv.org/stats/matches/mapstatsid/29550/g2-vs-cloud9?matchType=Majors\n"
     ]
    },
    {
     "name": "stderr",
     "output_type": "stream",
     "text": [
      "2019-05-10 19:34:26.162 | INFO     | __main__:<module>:4 - Scraping new match: https://www.hltv.org/stats/matches/mapstatsid/29549/gambit-vs-envy?matchType=Majors\n"
     ]
    },
    {
     "name": "stderr",
     "output_type": "stream",
     "text": [
      "2019-05-10 19:34:28.722 | INFO     | __main__:<module>:4 - Scraping new match: https://www.hltv.org/stats/matches/mapstatsid/29548/splyce-vs-faze?matchType=Majors\n"
     ]
    },
    {
     "name": "stderr",
     "output_type": "stream",
     "text": [
      "2019-05-10 19:34:31.287 | INFO     | __main__:<module>:4 - Scraping new match: https://www.hltv.org/stats/matches/mapstatsid/29540/flipsid3-vs-mousesports?matchType=Majors\n"
     ]
    },
    {
     "name": "stderr",
     "output_type": "stream",
     "text": [
      "2019-05-10 19:34:33.862 | INFO     | __main__:<module>:4 - Scraping new match: https://www.hltv.org/stats/matches/mapstatsid/29539/g2-vs-virtuspro?matchType=Majors\n"
     ]
    },
    {
     "name": "stderr",
     "output_type": "stream",
     "text": [
      "2019-05-10 19:34:36.430 | INFO     | __main__:<module>:4 - Scraping new match: https://www.hltv.org/stats/matches/mapstatsid/29538/cloud9-vs-natus-vincere?matchType=Majors\n"
     ]
    },
    {
     "name": "stderr",
     "output_type": "stream",
     "text": [
      "2019-05-10 19:34:39.017 | INFO     | __main__:<module>:4 - Scraping new match: https://www.hltv.org/stats/matches/mapstatsid/29537/gambit-vs-astralis?matchType=Majors\n"
     ]
    },
    {
     "name": "stderr",
     "output_type": "stream",
     "text": [
      "2019-05-10 19:34:41.583 | INFO     | __main__:<module>:4 - Scraping new match: https://www.hltv.org/stats/matches/mapstatsid/29536/clg-vs-envy?matchType=Majors\n"
     ]
    },
    {
     "name": "stderr",
     "output_type": "stream",
     "text": [
      "2019-05-10 19:34:44.147 | INFO     | __main__:<module>:4 - Scraping new match: https://www.hltv.org/stats/matches/mapstatsid/29535/splyce-vs-fnatic?matchType=Majors\n"
     ]
    },
    {
     "name": "stderr",
     "output_type": "stream",
     "text": [
      "2019-05-10 19:34:46.715 | INFO     | __main__:<module>:4 - Scraping new match: https://www.hltv.org/stats/matches/mapstatsid/29534/faze-vs-liquid?matchType=Majors\n"
     ]
    },
    {
     "name": "stderr",
     "output_type": "stream",
     "text": [
      "2019-05-10 19:34:49.336 | INFO     | __main__:<module>:4 - Scraping new match: https://www.hltv.org/stats/matches/mapstatsid/29533/luminosity-vs-mousesports?matchType=Majors\n"
     ]
    },
    {
     "name": "stderr",
     "output_type": "stream",
     "text": [
      "2019-05-10 19:34:51.897 | INFO     | __main__:<module>:4 - Scraping new match: https://www.hltv.org/stats/matches/mapstatsid/29735/flipsid3-vs-nip?matchType=Majors\n"
     ]
    },
    {
     "name": "stderr",
     "output_type": "stream",
     "text": [
      "2019-05-10 19:34:54.503 | INFO     | __main__:<module>:4 - Scraping new match: https://www.hltv.org/stats/matches/mapstatsid/25275/natus-vincere-vs-envy?matchType=Majors\n"
     ]
    },
    {
     "name": "stderr",
     "output_type": "stream",
     "text": [
      "2019-05-10 19:34:57.057 | INFO     | __main__:<module>:4 - Scraping new match: https://www.hltv.org/stats/matches/mapstatsid/25274/envy-vs-natus-vincere?matchType=Majors\n"
     ]
    },
    {
     "name": "stderr",
     "output_type": "stream",
     "text": [
      "2019-05-10 19:34:59.599 | INFO     | __main__:<module>:4 - Scraping new match: https://www.hltv.org/stats/matches/mapstatsid/25273/natus-vincere-vs-nip?matchType=Majors\n"
     ]
    },
    {
     "name": "stderr",
     "output_type": "stream",
     "text": [
      "2019-05-10 19:35:02.160 | INFO     | __main__:<module>:4 - Scraping new match: https://www.hltv.org/stats/matches/mapstatsid/25272/nip-vs-natus-vincere?matchType=Majors\n"
     ]
    },
    {
     "name": "stderr",
     "output_type": "stream",
     "text": [
      "2019-05-10 19:35:04.728 | INFO     | __main__:<module>:4 - Scraping new match: https://www.hltv.org/stats/matches/mapstatsid/25271/envy-vs-g2?matchType=Majors\n"
     ]
    },
    {
     "name": "stderr",
     "output_type": "stream",
     "text": [
      "2019-05-10 19:35:07.285 | INFO     | __main__:<module>:4 - Scraping new match: https://www.hltv.org/stats/matches/mapstatsid/25267/g2-vs-envy?matchType=Majors\n"
     ]
    },
    {
     "name": "stderr",
     "output_type": "stream",
     "text": [
      "2019-05-10 19:35:09.862 | INFO     | __main__:<module>:4 - Scraping new match: https://www.hltv.org/stats/matches/mapstatsid/25266/envy-vs-g2?matchType=Majors\n"
     ]
    },
    {
     "name": "stderr",
     "output_type": "stream",
     "text": [
      "2019-05-10 19:35:12.472 | INFO     | __main__:<module>:4 - Scraping new match: https://www.hltv.org/stats/matches/mapstatsid/25265/luminosity-vs-natus-vincere?matchType=Majors\n"
     ]
    },
    {
     "name": "stderr",
     "output_type": "stream",
     "text": [
      "2019-05-10 19:35:15.378 | INFO     | __main__:<module>:4 - Scraping new match: https://www.hltv.org/stats/matches/mapstatsid/25264/natus-vincere-vs-luminosity?matchType=Majors\n"
     ]
    },
    {
     "name": "stderr",
     "output_type": "stream",
     "text": [
      "2019-05-10 19:35:17.963 | INFO     | __main__:<module>:4 - Scraping new match: https://www.hltv.org/stats/matches/mapstatsid/25263/tsm-vs-nip?matchType=Majors\n"
     ]
    },
    {
     "name": "stderr",
     "output_type": "stream",
     "text": [
      "2019-05-10 19:35:20.741 | INFO     | __main__:<module>:4 - Scraping new match: https://www.hltv.org/stats/matches/mapstatsid/25262/nip-vs-tsm?matchType=Majors\n"
     ]
    },
    {
     "name": "stderr",
     "output_type": "stream",
     "text": [
      "2019-05-10 19:35:23.196 | INFO     | __main__:<module>:4 - Scraping new match: https://www.hltv.org/stats/matches/mapstatsid/25260/g2-vs-virtuspro?matchType=Majors\n"
     ]
    },
    {
     "name": "stderr",
     "output_type": "stream",
     "text": [
      "2019-05-10 19:35:25.757 | INFO     | __main__:<module>:4 - Scraping new match: https://www.hltv.org/stats/matches/mapstatsid/25259/virtuspro-vs-g2?matchType=Majors\n"
     ]
    },
    {
     "name": "stderr",
     "output_type": "stream",
     "text": [
      "2019-05-10 19:35:28.370 | INFO     | __main__:<module>:4 - Scraping new match: https://www.hltv.org/stats/matches/mapstatsid/25258/fnatic-vs-envy?matchType=Majors\n"
     ]
    },
    {
     "name": "stderr",
     "output_type": "stream",
     "text": [
      "2019-05-10 19:35:30.941 | INFO     | __main__:<module>:4 - Scraping new match: https://www.hltv.org/stats/matches/mapstatsid/25257/envy-vs-fnatic?matchType=Majors\n"
     ]
    },
    {
     "name": "stderr",
     "output_type": "stream",
     "text": [
      "2019-05-10 19:35:33.665 | INFO     | __main__:<module>:4 - Scraping new match: https://www.hltv.org/stats/matches/mapstatsid/25256/envy-vs-fnatic?matchType=Majors\n"
     ]
    },
    {
     "name": "stderr",
     "output_type": "stream",
     "text": [
      "2019-05-10 19:35:36.216 | INFO     | __main__:<module>:4 - Scraping new match: https://www.hltv.org/stats/matches/mapstatsid/25255/natus-vincere-vs-clg?matchType=Majors\n"
     ]
    },
    {
     "name": "stderr",
     "output_type": "stream",
     "text": [
      "2019-05-10 19:35:38.783 | INFO     | __main__:<module>:4 - Scraping new match: https://www.hltv.org/stats/matches/mapstatsid/25254/clg-vs-natus-vincere?matchType=Majors\n"
     ]
    },
    {
     "name": "stderr",
     "output_type": "stream",
     "text": [
      "2019-05-10 19:35:41.351 | INFO     | __main__:<module>:4 - Scraping new match: https://www.hltv.org/stats/matches/mapstatsid/25253/natus-vincere-vs-clg?matchType=Majors\n"
     ]
    },
    {
     "name": "stderr",
     "output_type": "stream",
     "text": [
      "2019-05-10 19:35:43.976 | INFO     | __main__:<module>:4 - Scraping new match: https://www.hltv.org/stats/matches/mapstatsid/25252/nip-vs-titan?matchType=Majors\n"
     ]
    },
    {
     "name": "stderr",
     "output_type": "stream",
     "text": [
      "2019-05-10 19:35:46.545 | INFO     | __main__:<module>:4 - Scraping new match: https://www.hltv.org/stats/matches/mapstatsid/25251/titan-vs-nip?matchType=Majors\n"
     ]
    },
    {
     "name": "stderr",
     "output_type": "stream",
     "text": [
      "2019-05-10 19:35:49.115 | INFO     | __main__:<module>:4 - Scraping new match: https://www.hltv.org/stats/matches/mapstatsid/25250/g2-vs-mousesports?matchType=Majors\n"
     ]
    },
    {
     "name": "stderr",
     "output_type": "stream",
     "text": [
      "2019-05-10 19:35:51.743 | INFO     | __main__:<module>:4 - Scraping new match: https://www.hltv.org/stats/matches/mapstatsid/25249/mousesports-vs-g2?matchType=Majors\n"
     ]
    },
    {
     "name": "stderr",
     "output_type": "stream",
     "text": [
      "2019-05-10 19:35:54.304 | INFO     | __main__:<module>:4 - Scraping new match: https://www.hltv.org/stats/matches/mapstatsid/25247/g2-vs-mousesports?matchType=Majors\n"
     ]
    },
    {
     "name": "stderr",
     "output_type": "stream",
     "text": [
      "2019-05-10 19:35:57.092 | INFO     | __main__:<module>:4 - Scraping new match: https://www.hltv.org/stats/matches/mapstatsid/25244/cloud9-vs-fnatic?matchType=Majors\n"
     ]
    },
    {
     "name": "stderr",
     "output_type": "stream",
     "text": [
      "2019-05-10 19:35:59.836 | INFO     | __main__:<module>:4 - Scraping new match: https://www.hltv.org/stats/matches/mapstatsid/25243/cloud9-vs-fnatic?matchType=Majors\n"
     ]
    },
    {
     "name": "stderr",
     "output_type": "stream",
     "text": [
      "2019-05-10 19:36:02.375 | INFO     | __main__:<module>:4 - Scraping new match: https://www.hltv.org/stats/matches/mapstatsid/25242/natus-vincere-vs-envy?matchType=Majors\n"
     ]
    },
    {
     "name": "stderr",
     "output_type": "stream",
     "text": [
      "2019-05-10 19:36:04.909 | INFO     | __main__:<module>:4 - Scraping new match: https://www.hltv.org/stats/matches/mapstatsid/25241/virtuspro-vs-titan?matchType=Majors\n"
     ]
    },
    {
     "name": "stderr",
     "output_type": "stream",
     "text": [
      "2019-05-10 19:36:07.448 | INFO     | __main__:<module>:4 - Scraping new match: https://www.hltv.org/stats/matches/mapstatsid/25240/tsm-vs-g2?matchType=Majors\n"
     ]
    },
    {
     "name": "stderr",
     "output_type": "stream",
     "text": [
      "2019-05-10 19:36:09.956 | INFO     | __main__:<module>:4 - Scraping new match: https://www.hltv.org/stats/matches/mapstatsid/25239/luminosity-vs-fnatic?matchType=Majors\n"
     ]
    },
    {
     "name": "stderr",
     "output_type": "stream",
     "text": [
      "2019-05-10 19:36:12.504 | INFO     | __main__:<module>:4 - Scraping new match: https://www.hltv.org/stats/matches/mapstatsid/25238/dignitas-vs-clg?matchType=Majors\n"
     ]
    },
    {
     "name": "stderr",
     "output_type": "stream",
     "text": [
      "2019-05-10 19:36:15.056 | INFO     | __main__:<module>:4 - Scraping new match: https://www.hltv.org/stats/matches/mapstatsid/25237/liquid-vs-nip?matchType=Majors\n"
     ]
    },
    {
     "name": "stderr",
     "output_type": "stream",
     "text": [
      "2019-05-10 19:36:17.589 | INFO     | __main__:<module>:4 - Scraping new match: https://www.hltv.org/stats/matches/mapstatsid/25236/flipsid3-vs-mousesports?matchType=Majors\n"
     ]
    },
    {
     "name": "stderr",
     "output_type": "stream",
     "text": [
      "2019-05-10 19:36:20.172 | INFO     | __main__:<module>:4 - Scraping new match: https://www.hltv.org/stats/matches/mapstatsid/25235/vexed-vs-cloud9?matchType=Majors\n"
     ]
    },
    {
     "name": "stderr",
     "output_type": "stream",
     "text": [
      "2019-05-10 19:36:22.840 | INFO     | __main__:<module>:4 - Scraping new match: https://www.hltv.org/stats/matches/mapstatsid/25234/natus-vincere-vs-clg?matchType=Majors\n"
     ]
    },
    {
     "name": "stderr",
     "output_type": "stream",
     "text": [
      "2019-05-10 19:36:25.398 | INFO     | __main__:<module>:4 - Scraping new match: https://www.hltv.org/stats/matches/mapstatsid/25233/envy-vs-dignitas?matchType=Majors\n"
     ]
    },
    {
     "name": "stderr",
     "output_type": "stream",
     "text": [
      "2019-05-10 19:36:27.923 | INFO     | __main__:<module>:4 - Scraping new match: https://www.hltv.org/stats/matches/mapstatsid/25232/titan-vs-nip?matchType=Majors\n"
     ]
    },
    {
     "name": "stderr",
     "output_type": "stream",
     "text": [
      "2019-05-10 19:36:30.650 | INFO     | __main__:<module>:4 - Scraping new match: https://www.hltv.org/stats/matches/mapstatsid/25230/virtuspro-vs-liquid?matchType=Majors\n"
     ]
    },
    {
     "name": "stderr",
     "output_type": "stream",
     "text": [
      "2019-05-10 19:36:33.320 | INFO     | __main__:<module>:4 - Scraping new match: https://www.hltv.org/stats/matches/mapstatsid/25229/mousesports-vs-g2?matchType=Majors\n"
     ]
    },
    {
     "name": "stderr",
     "output_type": "stream",
     "text": [
      "2019-05-10 19:36:35.850 | INFO     | __main__:<module>:4 - Scraping new match: https://www.hltv.org/stats/matches/mapstatsid/25228/flipsid3-vs-tsm?matchType=Majors\n"
     ]
    },
    {
     "name": "stderr",
     "output_type": "stream",
     "text": [
      "2019-05-10 19:36:38.404 | INFO     | __main__:<module>:4 - Scraping new match: https://www.hltv.org/stats/matches/mapstatsid/25227/luminosity-vs-cloud9?matchType=Majors\n"
     ]
    },
    {
     "name": "stderr",
     "output_type": "stream",
     "text": [
      "2019-05-10 19:36:40.953 | INFO     | __main__:<module>:4 - Scraping new match: https://www.hltv.org/stats/matches/mapstatsid/25226/vexed-vs-fnatic?matchType=Majors\n"
     ]
    },
    {
     "name": "stderr",
     "output_type": "stream",
     "text": [
      "2019-05-10 19:36:43.495 | INFO     | __main__:<module>:4 - Scraping new match: https://www.hltv.org/stats/matches/mapstatsid/22282/envy-vs-fnatic?matchType=Majors\n"
     ]
    },
    {
     "name": "stderr",
     "output_type": "stream",
     "text": [
      "2019-05-10 19:36:46.042 | INFO     | __main__:<module>:4 - Scraping new match: https://www.hltv.org/stats/matches/mapstatsid/22280/fnatic-vs-envy?matchType=Majors\n"
     ]
    },
    {
     "name": "stderr",
     "output_type": "stream",
     "text": [
      "2019-05-10 19:36:48.599 | INFO     | __main__:<module>:4 - Scraping new match: https://www.hltv.org/stats/matches/mapstatsid/22279/fnatic-vs-virtuspro?matchType=Majors\n"
     ]
    },
    {
     "name": "stderr",
     "output_type": "stream",
     "text": [
      "2019-05-10 19:36:51.160 | INFO     | __main__:<module>:4 - Scraping new match: https://www.hltv.org/stats/matches/mapstatsid/22278/virtuspro-vs-fnatic?matchType=Majors\n"
     ]
    },
    {
     "name": "stderr",
     "output_type": "stream",
     "text": [
      "2019-05-10 19:36:53.813 | INFO     | __main__:<module>:4 - Scraping new match: https://www.hltv.org/stats/matches/mapstatsid/22276/fnatic-vs-virtuspro?matchType=Majors\n"
     ]
    },
    {
     "name": "stderr",
     "output_type": "stream",
     "text": [
      "2019-05-10 19:36:56.411 | INFO     | __main__:<module>:4 - Scraping new match: https://www.hltv.org/stats/matches/mapstatsid/22275/tsm-vs-envy?matchType=Majors\n"
     ]
    },
    {
     "name": "stderr",
     "output_type": "stream",
     "text": [
      "2019-05-10 19:36:59.068 | INFO     | __main__:<module>:4 - Scraping new match: https://www.hltv.org/stats/matches/mapstatsid/22274/envy-vs-tsm?matchType=Majors\n"
     ]
    },
    {
     "name": "stderr",
     "output_type": "stream",
     "text": [
      "2019-05-10 19:37:01.609 | INFO     | __main__:<module>:4 - Scraping new match: https://www.hltv.org/stats/matches/mapstatsid/22273/tsm-vs-envy?matchType=Majors\n"
     ]
    },
    {
     "name": "stderr",
     "output_type": "stream",
     "text": [
      "2019-05-10 19:37:04.162 | INFO     | __main__:<module>:4 - Scraping new match: https://www.hltv.org/stats/matches/mapstatsid/22271/luminosity-vs-fnatic?matchType=Majors\n"
     ]
    },
    {
     "name": "stderr",
     "output_type": "stream",
     "text": [
      "2019-05-10 19:37:06.692 | INFO     | __main__:<module>:4 - Scraping new match: https://www.hltv.org/stats/matches/mapstatsid/22270/fnatic-vs-luminosity?matchType=Majors\n"
     ]
    },
    {
     "name": "stderr",
     "output_type": "stream",
     "text": [
      "2019-05-10 19:37:09.245 | INFO     | __main__:<module>:4 - Scraping new match: https://www.hltv.org/stats/matches/mapstatsid/22269/virtuspro-vs-nip?matchType=Majors\n"
     ]
    },
    {
     "name": "stderr",
     "output_type": "stream",
     "text": [
      "2019-05-10 19:37:11.800 | INFO     | __main__:<module>:4 - Scraping new match: https://www.hltv.org/stats/matches/mapstatsid/22268/nip-vs-virtuspro?matchType=Majors\n"
     ]
    },
    {
     "name": "stderr",
     "output_type": "stream",
     "text": [
      "2019-05-10 19:37:14.503 | INFO     | __main__:<module>:4 - Scraping new match: https://www.hltv.org/stats/matches/mapstatsid/22267/kinguin-vs-tsm?matchType=Majors\n"
     ]
    },
    {
     "name": "stderr",
     "output_type": "stream",
     "text": [
      "2019-05-10 19:37:17.072 | INFO     | __main__:<module>:4 - Scraping new match: https://www.hltv.org/stats/matches/mapstatsid/22266/tsm-vs-kinguin?matchType=Majors\n"
     ]
    },
    {
     "name": "stderr",
     "output_type": "stream",
     "text": [
      "2019-05-10 19:37:19.634 | INFO     | __main__:<module>:4 - Scraping new match: https://www.hltv.org/stats/matches/mapstatsid/22265/envy-vs-natus-vincere?matchType=Majors\n"
     ]
    },
    {
     "name": "stderr",
     "output_type": "stream",
     "text": [
      "2019-05-10 19:37:22.168 | INFO     | __main__:<module>:4 - Scraping new match: https://www.hltv.org/stats/matches/mapstatsid/22264/natus-vincere-vs-envy?matchType=Majors\n"
     ]
    },
    {
     "name": "stderr",
     "output_type": "stream",
     "text": [
      "2019-05-10 19:37:24.742 | INFO     | __main__:<module>:4 - Scraping new match: https://www.hltv.org/stats/matches/mapstatsid/22261/luminosity-vs-flipsid3?matchType=Majors\n"
     ]
    },
    {
     "name": "stderr",
     "output_type": "stream",
     "text": [
      "2019-05-10 19:37:27.343 | INFO     | __main__:<module>:4 - Scraping new match: https://www.hltv.org/stats/matches/mapstatsid/22260/mousesports-vs-flipsid3?matchType=Majors\n"
     ]
    },
    {
     "name": "stderr",
     "output_type": "stream",
     "text": [
      "2019-05-10 19:37:29.880 | INFO     | __main__:<module>:4 - Scraping new match: https://www.hltv.org/stats/matches/mapstatsid/22259/nip-vs-renegades?matchType=Majors\n"
     ]
    },
    {
     "name": "stderr",
     "output_type": "stream",
     "text": [
      "2019-05-10 19:37:32.384 | INFO     | __main__:<module>:4 - Scraping new match: https://www.hltv.org/stats/matches/mapstatsid/22258/renegades-vs-titan?matchType=Majors\n"
     ]
    },
    {
     "name": "stderr",
     "output_type": "stream",
     "text": [
      "2019-05-10 19:37:34.948 | INFO     | __main__:<module>:4 - Scraping new match: https://www.hltv.org/stats/matches/mapstatsid/22257/natus-vincere-vs-clg?matchType=Majors\n"
     ]
    },
    {
     "name": "stderr",
     "output_type": "stream",
     "text": [
      "2019-05-10 19:37:37.513 | INFO     | __main__:<module>:4 - Scraping new match: https://www.hltv.org/stats/matches/mapstatsid/22256/clg-vs-ebettle?matchType=Majors\n"
     ]
    },
    {
     "name": "stderr",
     "output_type": "stream",
     "text": [
      "2019-05-10 19:37:40.046 | INFO     | __main__:<module>:4 - Scraping new match: https://www.hltv.org/stats/matches/mapstatsid/22255/kinguin-vs-cloud9?matchType=Majors\n"
     ]
    },
    {
     "name": "stderr",
     "output_type": "stream",
     "text": [
      "2019-05-10 19:37:42.582 | INFO     | __main__:<module>:4 - Scraping new match: https://www.hltv.org/stats/matches/mapstatsid/22253/immunity-vs-kinguin?matchType=Majors\n"
     ]
    },
    {
     "name": "stderr",
     "output_type": "stream",
     "text": [
      "2019-05-10 19:37:45.147 | INFO     | __main__:<module>:4 - Scraping new match: https://www.hltv.org/stats/matches/mapstatsid/22252/fnatic-vs-natus-vincere?matchType=Majors\n"
     ]
    },
    {
     "name": "stderr",
     "output_type": "stream",
     "text": [
      "2019-05-10 19:37:47.777 | INFO     | __main__:<module>:4 - Scraping new match: https://www.hltv.org/stats/matches/mapstatsid/22251/virtuspro-vs-cloud9?matchType=Majors\n"
     ]
    },
    {
     "name": "stderr",
     "output_type": "stream",
     "text": [
      "2019-05-10 19:37:50.292 | INFO     | __main__:<module>:4 - Scraping new match: https://www.hltv.org/stats/matches/mapstatsid/22249/natus-vincere-vs-titan?matchType=Majors\n"
     ]
    },
    {
     "name": "stderr",
     "output_type": "stream",
     "text": [
      "2019-05-10 19:37:52.872 | INFO     | __main__:<module>:4 - Scraping new match: https://www.hltv.org/stats/matches/mapstatsid/22248/mousesports-vs-cloud9?matchType=Majors\n"
     ]
    },
    {
     "name": "stderr",
     "output_type": "stream",
     "text": [
      "2019-05-10 19:37:55.432 | INFO     | __main__:<module>:4 - Scraping new match: https://www.hltv.org/stats/matches/mapstatsid/22246/fnatic-vs-ebettle?matchType=Majors\n"
     ]
    },
    {
     "name": "stderr",
     "output_type": "stream",
     "text": [
      "2019-05-10 19:37:57.946 | INFO     | __main__:<module>:4 - Scraping new match: https://www.hltv.org/stats/matches/mapstatsid/22245/virtuspro-vs-immunity?matchType=Majors\n"
     ]
    },
    {
     "name": "stderr",
     "output_type": "stream",
     "text": [
      "2019-05-10 19:38:00.534 | INFO     | __main__:<module>:4 - Scraping new match: https://www.hltv.org/stats/matches/mapstatsid/22243/envy-vs-luminosity?matchType=Majors\n"
     ]
    },
    {
     "name": "stderr",
     "output_type": "stream",
     "text": [
      "2019-05-10 19:38:03.083 | INFO     | __main__:<module>:4 - Scraping new match: https://www.hltv.org/stats/matches/mapstatsid/22242/nip-vs-tsm?matchType=Majors\n"
     ]
    },
    {
     "name": "stderr",
     "output_type": "stream",
     "text": [
      "2019-05-10 19:38:06.087 | INFO     | __main__:<module>:4 - Scraping new match: https://www.hltv.org/stats/matches/mapstatsid/22240/tsm-vs-renegades?matchType=Majors\n"
     ]
    },
    {
     "name": "stderr",
     "output_type": "stream",
     "text": [
      "2019-05-10 19:38:08.618 | INFO     | __main__:<module>:4 - Scraping new match: https://www.hltv.org/stats/matches/mapstatsid/22239/luminosity-vs-kinguin?matchType=Majors\n"
     ]
    },
    {
     "name": "stderr",
     "output_type": "stream",
     "text": [
      "2019-05-10 19:38:11.175 | INFO     | __main__:<module>:4 - Scraping new match: https://www.hltv.org/stats/matches/mapstatsid/22238/nip-vs-clg?matchType=Majors\n"
     ]
    },
    {
     "name": "stderr",
     "output_type": "stream",
     "text": [
      "2019-05-10 19:38:13.841 | INFO     | __main__:<module>:4 - Scraping new match: https://www.hltv.org/stats/matches/mapstatsid/22236/envy-vs-flipsid3?matchType=Majors\n"
     ]
    },
    {
     "name": "stderr",
     "output_type": "stream",
     "text": [
      "2019-05-10 19:38:16.931 | INFO     | __main__:<module>:4 - Scraping new match: https://www.hltv.org/stats/matches/mapstatsid/19275/fnatic-vs-nip?matchType=Majors\n"
     ]
    },
    {
     "name": "stderr",
     "output_type": "stream",
     "text": [
      "2019-05-10 19:38:19.631 | INFO     | __main__:<module>:4 - Scraping new match: https://www.hltv.org/stats/matches/mapstatsid/19274/fnatic-vs-nip?matchType=Majors\n"
     ]
    },
    {
     "name": "stderr",
     "output_type": "stream",
     "text": [
      "2019-05-10 19:38:22.172 | INFO     | __main__:<module>:4 - Scraping new match: https://www.hltv.org/stats/matches/mapstatsid/19273/fnatic-vs-nip?matchType=Majors\n"
     ]
    },
    {
     "name": "stderr",
     "output_type": "stream",
     "text": [
      "2019-05-10 19:38:24.955 | INFO     | __main__:<module>:4 - Scraping new match: https://www.hltv.org/stats/matches/mapstatsid/19272/envy-vs-nip?matchType=Majors\n"
     ]
    },
    {
     "name": "stderr",
     "output_type": "stream",
     "text": [
      "2019-05-10 19:38:27.680 | INFO     | __main__:<module>:4 - Scraping new match: https://www.hltv.org/stats/matches/mapstatsid/19271/envy-vs-nip?matchType=Majors\n"
     ]
    },
    {
     "name": "stderr",
     "output_type": "stream",
     "text": [
      "2019-05-10 19:38:30.213 | INFO     | __main__:<module>:4 - Scraping new match: https://www.hltv.org/stats/matches/mapstatsid/19270/fnatic-vs-virtuspro?matchType=Majors\n"
     ]
    },
    {
     "name": "stderr",
     "output_type": "stream",
     "text": [
      "2019-05-10 19:38:33.004 | INFO     | __main__:<module>:4 - Scraping new match: https://www.hltv.org/stats/matches/mapstatsid/19268/virtuspro-vs-fnatic?matchType=Majors\n"
     ]
    },
    {
     "name": "stderr",
     "output_type": "stream",
     "text": [
      "2019-05-10 19:38:35.556 | INFO     | __main__:<module>:4 - Scraping new match: https://www.hltv.org/stats/matches/mapstatsid/19267/nip-vs-tsm?matchType=Majors\n"
     ]
    },
    {
     "name": "stderr",
     "output_type": "stream",
     "text": [
      "2019-05-10 19:38:38.136 | INFO     | __main__:<module>:4 - Scraping new match: https://www.hltv.org/stats/matches/mapstatsid/19266/nip-vs-tsm?matchType=Majors\n"
     ]
    },
    {
     "name": "stderr",
     "output_type": "stream",
     "text": [
      "2019-05-10 19:38:40.684 | INFO     | __main__:<module>:4 - Scraping new match: https://www.hltv.org/stats/matches/mapstatsid/19265/tsm-vs-nip?matchType=Majors\n"
     ]
    },
    {
     "name": "stderr",
     "output_type": "stream",
     "text": [
      "2019-05-10 19:38:43.231 | INFO     | __main__:<module>:4 - Scraping new match: https://www.hltv.org/stats/matches/mapstatsid/19264/virtuspro-vs-keyd-stars?matchType=Majors\n"
     ]
    },
    {
     "name": "stderr",
     "output_type": "stream",
     "text": [
      "2019-05-10 19:38:45.783 | INFO     | __main__:<module>:4 - Scraping new match: https://www.hltv.org/stats/matches/mapstatsid/19262/keyd-stars-vs-virtuspro?matchType=Majors\n"
     ]
    },
    {
     "name": "stderr",
     "output_type": "stream",
     "text": [
      "2019-05-10 19:38:48.335 | INFO     | __main__:<module>:4 - Scraping new match: https://www.hltv.org/stats/matches/mapstatsid/19261/virtuspro-vs-keyd-stars?matchType=Majors\n"
     ]
    },
    {
     "name": "stderr",
     "output_type": "stream",
     "text": [
      "2019-05-10 19:38:50.912 | INFO     | __main__:<module>:4 - Scraping new match: https://www.hltv.org/stats/matches/mapstatsid/19260/fnatic-vs-penta?matchType=Majors\n"
     ]
    },
    {
     "name": "stderr",
     "output_type": "stream",
     "text": [
      "2019-05-10 19:38:53.479 | INFO     | __main__:<module>:4 - Scraping new match: https://www.hltv.org/stats/matches/mapstatsid/19259/penta-vs-fnatic?matchType=Majors\n"
     ]
    },
    {
     "name": "stderr",
     "output_type": "stream",
     "text": [
      "2019-05-10 19:38:56.060 | INFO     | __main__:<module>:4 - Scraping new match: https://www.hltv.org/stats/matches/mapstatsid/19258/envy-vs-natus-vincere?matchType=Majors\n"
     ]
    },
    {
     "name": "stderr",
     "output_type": "stream",
     "text": [
      "2019-05-10 19:38:58.878 | INFO     | __main__:<module>:4 - Scraping new match: https://www.hltv.org/stats/matches/mapstatsid/19257/envy-vs-natus-vincere?matchType=Majors\n"
     ]
    },
    {
     "name": "stderr",
     "output_type": "stream",
     "text": [
      "2019-05-10 19:39:01.429 | INFO     | __main__:<module>:4 - Scraping new match: https://www.hltv.org/stats/matches/mapstatsid/19256/natus-vincere-vs-envy?matchType=Majors\n"
     ]
    },
    {
     "name": "stderr",
     "output_type": "stream",
     "text": [
      "2019-05-10 19:39:04.183 | INFO     | __main__:<module>:4 - Scraping new match: https://www.hltv.org/stats/matches/mapstatsid/19255/tsm-vs-cloud9?matchType=Majors\n"
     ]
    },
    {
     "name": "stderr",
     "output_type": "stream",
     "text": [
      "2019-05-10 19:39:06.909 | INFO     | __main__:<module>:4 - Scraping new match: https://www.hltv.org/stats/matches/mapstatsid/19253/virtuspro-vs-cloud9?matchType=Majors\n"
     ]
    },
    {
     "name": "stderr",
     "output_type": "stream",
     "text": [
      "2019-05-10 19:39:09.447 | INFO     | __main__:<module>:4 - Scraping new match: https://www.hltv.org/stats/matches/mapstatsid/19252/clg-vs-keyd-stars?matchType=Majors\n"
     ]
    },
    {
     "name": "stderr",
     "output_type": "stream",
     "text": [
      "2019-05-10 19:39:11.969 | INFO     | __main__:<module>:4 - Scraping new match: https://www.hltv.org/stats/matches/mapstatsid/19254/tsm-vs-3dmax?matchType=Majors\n"
     ]
    },
    {
     "name": "stderr",
     "output_type": "stream",
     "text": [
      "2019-05-10 19:39:14.474 | INFO     | __main__:<module>:4 - Scraping new match: https://www.hltv.org/stats/matches/mapstatsid/19251/clg-vs-nip?matchType=Majors\n"
     ]
    },
    {
     "name": "stderr",
     "output_type": "stream",
     "text": [
      "2019-05-10 19:39:16.974 | INFO     | __main__:<module>:4 - Scraping new match: https://www.hltv.org/stats/matches/mapstatsid/19250/hellraisers-vs-keyd-stars?matchType=Majors\n"
     ]
    },
    {
     "name": "stderr",
     "output_type": "stream",
     "text": [
      "2019-05-10 19:39:19.647 | INFO     | __main__:<module>:4 - Scraping new match: https://www.hltv.org/stats/matches/mapstatsid/19249/tsm-vs-cloud9?matchType=Majors\n"
     ]
    },
    {
     "name": "stderr",
     "output_type": "stream",
     "text": [
      "2019-05-10 19:39:22.182 | INFO     | __main__:<module>:4 - Scraping new match: https://www.hltv.org/stats/matches/mapstatsid/19248/virtuspro-vs-3dmax?matchType=Majors\n"
     ]
    },
    {
     "name": "stderr",
     "output_type": "stream",
     "text": [
      "2019-05-10 19:39:24.716 | INFO     | __main__:<module>:4 - Scraping new match: https://www.hltv.org/stats/matches/mapstatsid/19247/keyd-stars-vs-nip?matchType=Majors\n"
     ]
    },
    {
     "name": "stderr",
     "output_type": "stream",
     "text": [
      "2019-05-10 19:39:27.210 | INFO     | __main__:<module>:4 - Scraping new match: https://www.hltv.org/stats/matches/mapstatsid/19245/natus-vincere-vs-vox-eminor?matchType=Majors\n"
     ]
    },
    {
     "name": "stderr",
     "output_type": "stream",
     "text": [
      "2019-05-10 19:39:29.752 | INFO     | __main__:<module>:4 - Scraping new match: https://www.hltv.org/stats/matches/mapstatsid/19246/hellraisers-vs-clg?matchType=Majors\n"
     ]
    },
    {
     "name": "stderr",
     "output_type": "stream",
     "text": [
      "2019-05-10 19:39:32.295 | INFO     | __main__:<module>:4 - Scraping new match: https://www.hltv.org/stats/matches/mapstatsid/19244/penta-vs-lgb?matchType=Majors\n"
     ]
    },
    {
     "name": "stderr",
     "output_type": "stream",
     "text": [
      "2019-05-10 19:39:34.814 | INFO     | __main__:<module>:4 - Scraping new match: https://www.hltv.org/stats/matches/mapstatsid/19243/natus-vincere-vs-fnatic?matchType=Majors\n"
     ]
    },
    {
     "name": "stderr",
     "output_type": "stream",
     "text": [
      "2019-05-10 19:39:37.409 | INFO     | __main__:<module>:4 - Scraping new match: https://www.hltv.org/stats/matches/mapstatsid/19242/vox-eminor-vs-flipsid3?matchType=Majors\n"
     ]
    },
    {
     "name": "stderr",
     "output_type": "stream",
     "text": [
      "2019-05-10 19:39:40.012 | INFO     | __main__:<module>:4 - Scraping new match: https://www.hltv.org/stats/matches/mapstatsid/19241/penta-vs-titan?matchType=Majors\n"
     ]
    },
    {
     "name": "stderr",
     "output_type": "stream",
     "text": [
      "2019-05-10 19:39:42.411 | INFO     | __main__:<module>:4 - Scraping new match: https://www.hltv.org/stats/matches/mapstatsid/19240/envy-vs-lgb?matchType=Majors\n"
     ]
    },
    {
     "name": "stderr",
     "output_type": "stream",
     "text": [
      "2019-05-10 19:39:44.920 | INFO     | __main__:<module>:4 - Scraping new match: https://www.hltv.org/stats/matches/mapstatsid/19239/natus-vincere-vs-flipsid3?matchType=Majors\n"
     ]
    },
    {
     "name": "stderr",
     "output_type": "stream",
     "text": [
      "2019-05-10 19:39:47.472 | INFO     | __main__:<module>:4 - Scraping new match: https://www.hltv.org/stats/matches/mapstatsid/19238/fnatic-vs-vox-eminor?matchType=Majors\n"
     ]
    },
    {
     "name": "stderr",
     "output_type": "stream",
     "text": [
      "2019-05-10 19:39:50.313 | INFO     | __main__:<module>:4 - Scraping new match: https://www.hltv.org/stats/matches/mapstatsid/19236/lgb-vs-penta?matchType=Majors\n"
     ]
    },
    {
     "name": "stderr",
     "output_type": "stream",
     "text": [
      "2019-05-10 19:39:52.822 | INFO     | __main__:<module>:4 - Scraping new match: https://www.hltv.org/stats/matches/mapstatsid/19237/envy-vs-titan?matchType=Majors\n"
     ]
    },
    {
     "name": "stderr",
     "output_type": "stream",
     "text": [
      "2019-05-10 19:39:55.344 | INFO     | __main__:<module>:4 - Scraping new match: https://www.hltv.org/stats/matches/mapstatsid/18729/nip-vs-ldlc?matchType=Majors\n"
     ]
    },
    {
     "name": "stderr",
     "output_type": "stream",
     "text": [
      "2019-05-10 19:39:57.890 | INFO     | __main__:<module>:4 - Scraping new match: https://www.hltv.org/stats/matches/mapstatsid/18728/nip-vs-ldlc?matchType=Majors\n"
     ]
    },
    {
     "name": "stderr",
     "output_type": "stream",
     "text": [
      "2019-05-10 19:40:00.348 | INFO     | __main__:<module>:4 - Scraping new match: https://www.hltv.org/stats/matches/mapstatsid/18727/ldlc-vs-nip?matchType=Majors\n"
     ]
    },
    {
     "name": "stderr",
     "output_type": "stream",
     "text": [
      "2019-05-10 19:40:02.902 | INFO     | __main__:<module>:4 - Scraping new match: https://www.hltv.org/stats/matches/mapstatsid/18726/ldlc-vs-natus-vincere?matchType=Majors\n"
     ]
    },
    {
     "name": "stderr",
     "output_type": "stream",
     "text": [
      "2019-05-10 19:40:05.482 | INFO     | __main__:<module>:4 - Scraping new match: https://www.hltv.org/stats/matches/mapstatsid/18725/natus-vincere-vs-ldlc?matchType=Majors\n"
     ]
    },
    {
     "name": "stderr",
     "output_type": "stream",
     "text": [
      "2019-05-10 19:40:08.034 | INFO     | __main__:<module>:4 - Scraping new match: https://www.hltv.org/stats/matches/mapstatsid/18724/nip-vs-virtuspro?matchType=Majors\n"
     ]
    },
    {
     "name": "stderr",
     "output_type": "stream",
     "text": [
      "2019-05-10 19:40:10.668 | INFO     | __main__:<module>:4 - Scraping new match: https://www.hltv.org/stats/matches/mapstatsid/18723/nip-vs-virtuspro?matchType=Majors\n"
     ]
    },
    {
     "name": "stderr",
     "output_type": "stream",
     "text": [
      "2019-05-10 19:40:13.216 | INFO     | __main__:<module>:4 - Scraping new match: https://www.hltv.org/stats/matches/mapstatsid/18720/virtuspro-vs-nip?matchType=Majors\n"
     ]
    },
    {
     "name": "stderr",
     "output_type": "stream",
     "text": [
      "2019-05-10 19:40:15.781 | INFO     | __main__:<module>:4 - Scraping new match: https://www.hltv.org/stats/matches/mapstatsid/18719/dignitas-vs-natus-vincere?matchType=Majors\n"
     ]
    },
    {
     "name": "stderr",
     "output_type": "stream",
     "text": [
      "2019-05-10 19:40:18.343 | INFO     | __main__:<module>:4 - Scraping new match: https://www.hltv.org/stats/matches/mapstatsid/18718/natus-vincere-vs-dignitas?matchType=Majors\n"
     ]
    },
    {
     "name": "stderr",
     "output_type": "stream",
     "text": [
      "2019-05-10 19:40:20.914 | INFO     | __main__:<module>:4 - Scraping new match: https://www.hltv.org/stats/matches/mapstatsid/18716/ldlc-vs-fnatic?matchType=Majors\n"
     ]
    },
    {
     "name": "stderr",
     "output_type": "stream",
     "text": [
      "2019-05-10 19:40:23.448 | INFO     | __main__:<module>:4 - Scraping new match: https://www.hltv.org/stats/matches/mapstatsid/18715/fnatic-vs-ldlc?matchType=Majors\n"
     ]
    },
    {
     "name": "stderr",
     "output_type": "stream",
     "text": [
      "2019-05-10 19:40:25.973 | INFO     | __main__:<module>:4 - Scraping new match: https://www.hltv.org/stats/matches/mapstatsid/18714/penta-vs-virtuspro?matchType=Majors\n"
     ]
    },
    {
     "name": "stderr",
     "output_type": "stream",
     "text": [
      "2019-05-10 19:40:28.507 | INFO     | __main__:<module>:4 - Scraping new match: https://www.hltv.org/stats/matches/mapstatsid/18713/virtuspro-vs-penta?matchType=Majors\n"
     ]
    },
    {
     "name": "stderr",
     "output_type": "stream",
     "text": [
      "2019-05-10 19:40:31.102 | INFO     | __main__:<module>:4 - Scraping new match: https://www.hltv.org/stats/matches/mapstatsid/18712/nip-vs-hellraisers?matchType=Majors\n"
     ]
    },
    {
     "name": "stderr",
     "output_type": "stream",
     "text": [
      "2019-05-10 19:40:33.619 | INFO     | __main__:<module>:4 - Scraping new match: https://www.hltv.org/stats/matches/mapstatsid/18711/hellraisers-vs-nip?matchType=Majors\n"
     ]
    },
    {
     "name": "stderr",
     "output_type": "stream",
     "text": [
      "2019-05-10 19:40:36.162 | INFO     | __main__:<module>:4 - Scraping new match: https://www.hltv.org/stats/matches/mapstatsid/18709/natus-vincere-vs-flipsid3?matchType=Majors\n"
     ]
    },
    {
     "name": "stderr",
     "output_type": "stream",
     "text": [
      "2019-05-10 19:40:38.722 | INFO     | __main__:<module>:4 - Scraping new match: https://www.hltv.org/stats/matches/mapstatsid/18708/nip-vs-esc?matchType=Majors\n"
     ]
    },
    {
     "name": "stderr",
     "output_type": "stream",
     "text": [
      "2019-05-10 19:40:41.457 | INFO     | __main__:<module>:4 - Scraping new match: https://www.hltv.org/stats/matches/mapstatsid/18707/flipsid3-vs-myxmg?matchType=Majors\n"
     ]
    },
    {
     "name": "stderr",
     "output_type": "stream",
     "text": [
      "2019-05-10 19:40:44.077 | INFO     | __main__:<module>:4 - Scraping new match: https://www.hltv.org/stats/matches/mapstatsid/18706/planetkey-vs-esc?matchType=Majors\n"
     ]
    },
    {
     "name": "stderr",
     "output_type": "stream",
     "text": [
      "2019-05-10 19:40:46.590 | INFO     | __main__:<module>:4 - Scraping new match: https://www.hltv.org/stats/matches/mapstatsid/18704/ldlc-vs-nip?matchType=Majors\n"
     ]
    },
    {
     "name": "stderr",
     "output_type": "stream",
     "text": [
      "2019-05-10 19:40:49.071 | INFO     | __main__:<module>:4 - Scraping new match: https://www.hltv.org/stats/matches/mapstatsid/18705/virtuspro-vs-natus-vincere?matchType=Majors\n"
     ]
    },
    {
     "name": "stderr",
     "output_type": "stream",
     "text": [
      "2019-05-10 19:40:51.565 | INFO     | __main__:<module>:4 - Scraping new match: https://www.hltv.org/stats/matches/mapstatsid/18703/nip-vs-planetkey?matchType=Majors\n"
     ]
    },
    {
     "name": "stderr",
     "output_type": "stream",
     "text": [
      "2019-05-10 19:40:54.062 | INFO     | __main__:<module>:4 - Scraping new match: https://www.hltv.org/stats/matches/mapstatsid/18702/natus-vincere-vs-flipsid3?matchType=Majors\n"
     ]
    },
    {
     "name": "stderr",
     "output_type": "stream",
     "text": [
      "2019-05-10 19:40:56.618 | INFO     | __main__:<module>:4 - Scraping new match: https://www.hltv.org/stats/matches/mapstatsid/18699/ldlc-vs-esc?matchType=Majors\n"
     ]
    },
    {
     "name": "stderr",
     "output_type": "stream",
     "text": [
      "2019-05-10 19:40:59.094 | INFO     | __main__:<module>:4 - Scraping new match: https://www.hltv.org/stats/matches/mapstatsid/18701/virtuspro-vs-myxmg?matchType=Majors\n"
     ]
    },
    {
     "name": "stderr",
     "output_type": "stream",
     "text": [
      "2019-05-10 19:41:01.586 | INFO     | __main__:<module>:4 - Scraping new match: https://www.hltv.org/stats/matches/mapstatsid/18698/fnatic-vs-cloud9?matchType=Majors\n"
     ]
    },
    {
     "name": "stderr",
     "output_type": "stream",
     "text": [
      "2019-05-10 19:41:04.119 | INFO     | __main__:<module>:4 - Scraping new match: https://www.hltv.org/stats/matches/mapstatsid/18700/ibuypower-vs-penta?matchType=Majors\n"
     ]
    },
    {
     "name": "stderr",
     "output_type": "stream",
     "text": [
      "2019-05-10 19:41:06.658 | INFO     | __main__:<module>:4 - Scraping new match: https://www.hltv.org/stats/matches/mapstatsid/18697/cloud9-vs-bravado?matchType=Majors\n"
     ]
    },
    {
     "name": "stderr",
     "output_type": "stream",
     "text": [
      "2019-05-10 19:41:09.139 | INFO     | __main__:<module>:4 - Scraping new match: https://www.hltv.org/stats/matches/mapstatsid/18692/penta-vs-cph-wolves?matchType=Majors\n"
     ]
    },
    {
     "name": "stderr",
     "output_type": "stream",
     "text": [
      "2019-05-10 19:41:11.731 | INFO     | __main__:<module>:4 - Scraping new match: https://www.hltv.org/stats/matches/mapstatsid/18694/fnatic-vs-hellraisers?matchType=Majors\n"
     ]
    },
    {
     "name": "stderr",
     "output_type": "stream",
     "text": [
      "2019-05-10 19:41:14.269 | INFO     | __main__:<module>:4 - Scraping new match: https://www.hltv.org/stats/matches/mapstatsid/18695/dignitas-vs-ibuypower?matchType=Majors\n"
     ]
    },
    {
     "name": "stderr",
     "output_type": "stream",
     "text": [
      "2019-05-10 19:41:16.826 | INFO     | __main__:<module>:4 - Scraping new match: https://www.hltv.org/stats/matches/mapstatsid/18696/cloud9-vs-hellraisers?matchType=Majors\n"
     ]
    },
    {
     "name": "stderr",
     "output_type": "stream",
     "text": [
      "2019-05-10 19:41:19.338 | INFO     | __main__:<module>:4 - Scraping new match: https://www.hltv.org/stats/matches/mapstatsid/18693/ibuypower-vs-cph-wolves?matchType=Majors\n"
     ]
    },
    {
     "name": "stderr",
     "output_type": "stream",
     "text": [
      "2019-05-10 19:41:21.835 | INFO     | __main__:<module>:4 - Scraping new match: https://www.hltv.org/stats/matches/mapstatsid/18691/fnatic-vs-bravado?matchType=Majors\n"
     ]
    },
    {
     "name": "stderr",
     "output_type": "stream",
     "text": [
      "2019-05-10 19:41:24.330 | INFO     | __main__:<module>:4 - Scraping new match: https://www.hltv.org/stats/matches/mapstatsid/18690/dignitas-vs-penta?matchType=Majors\n"
     ]
    },
    {
     "name": "stderr",
     "output_type": "stream",
     "text": [
      "2019-05-10 19:41:26.813 | INFO     | __main__:<module>:4 - Scraping new match: https://www.hltv.org/stats/matches/mapstatsid/17564/fnatic-vs-nip?matchType=Majors\n"
     ]
    },
    {
     "name": "stderr",
     "output_type": "stream",
     "text": [
      "2019-05-10 19:41:29.348 | INFO     | __main__:<module>:4 - Scraping new match: https://www.hltv.org/stats/matches/mapstatsid/17563/fnatic-vs-nip?matchType=Majors\n"
     ]
    },
    {
     "name": "stderr",
     "output_type": "stream",
     "text": [
      "2019-05-10 19:41:31.896 | INFO     | __main__:<module>:4 - Scraping new match: https://www.hltv.org/stats/matches/mapstatsid/17562/fnatic-vs-nip?matchType=Majors\n"
     ]
    },
    {
     "name": "stderr",
     "output_type": "stream",
     "text": [
      "2019-05-10 19:41:34.513 | INFO     | __main__:<module>:4 - Scraping new match: https://www.hltv.org/stats/matches/mapstatsid/17561/ldlc-vs-nip?matchType=Majors\n"
     ]
    },
    {
     "name": "stderr",
     "output_type": "stream",
     "text": [
      "2019-05-10 19:41:37.237 | INFO     | __main__:<module>:4 - Scraping new match: https://www.hltv.org/stats/matches/mapstatsid/17560/ldlc-vs-nip?matchType=Majors\n"
     ]
    },
    {
     "name": "stderr",
     "output_type": "stream",
     "text": [
      "2019-05-10 19:41:39.788 | INFO     | __main__:<module>:4 - Scraping new match: https://www.hltv.org/stats/matches/mapstatsid/17559/nip-vs-ldlc?matchType=Majors\n"
     ]
    },
    {
     "name": "stderr",
     "output_type": "stream",
     "text": [
      "2019-05-10 19:41:42.315 | INFO     | __main__:<module>:4 - Scraping new match: https://www.hltv.org/stats/matches/mapstatsid/17558/dignitas-vs-fnatic?matchType=Majors\n"
     ]
    },
    {
     "name": "stderr",
     "output_type": "stream",
     "text": [
      "2019-05-10 19:41:44.905 | INFO     | __main__:<module>:4 - Scraping new match: https://www.hltv.org/stats/matches/mapstatsid/17557/fnatic-vs-dignitas?matchType=Majors\n"
     ]
    },
    {
     "name": "stderr",
     "output_type": "stream",
     "text": [
      "2019-05-10 19:41:47.428 | INFO     | __main__:<module>:4 - Scraping new match: https://www.hltv.org/stats/matches/mapstatsid/17556/cloud9-vs-nip?matchType=Majors\n"
     ]
    },
    {
     "name": "stderr",
     "output_type": "stream",
     "text": [
      "2019-05-10 19:41:49.966 | INFO     | __main__:<module>:4 - Scraping new match: https://www.hltv.org/stats/matches/mapstatsid/17555/cloud9-vs-nip?matchType=Majors\n"
     ]
    },
    {
     "name": "stderr",
     "output_type": "stream",
     "text": [
      "2019-05-10 19:41:52.530 | INFO     | __main__:<module>:4 - Scraping new match: https://www.hltv.org/stats/matches/mapstatsid/17554/cloud9-vs-nip?matchType=Majors\n"
     ]
    },
    {
     "name": "stderr",
     "output_type": "stream",
     "text": [
      "2019-05-10 19:41:55.054 | INFO     | __main__:<module>:4 - Scraping new match: https://www.hltv.org/stats/matches/mapstatsid/17553/ldlc-vs-virtuspro?matchType=Majors\n"
     ]
    },
    {
     "name": "stderr",
     "output_type": "stream",
     "text": [
      "2019-05-10 19:41:57.591 | INFO     | __main__:<module>:4 - Scraping new match: https://www.hltv.org/stats/matches/mapstatsid/17552/virtuspro-vs-ldlc?matchType=Majors\n"
     ]
    },
    {
     "name": "stderr",
     "output_type": "stream",
     "text": [
      "2019-05-10 19:42:00.120 | INFO     | __main__:<module>:4 - Scraping new match: https://www.hltv.org/stats/matches/mapstatsid/17551/epsilon-vs-dignitas?matchType=Majors\n"
     ]
    },
    {
     "name": "stderr",
     "output_type": "stream",
     "text": [
      "2019-05-10 19:42:02.663 | INFO     | __main__:<module>:4 - Scraping new match: https://www.hltv.org/stats/matches/mapstatsid/17550/dignitas-vs-epsilon?matchType=Majors\n"
     ]
    },
    {
     "name": "stderr",
     "output_type": "stream",
     "text": [
      "2019-05-10 19:42:05.185 | INFO     | __main__:<module>:4 - Scraping new match: https://www.hltv.org/stats/matches/mapstatsid/17549/natus-vincere-vs-fnatic?matchType=Majors\n"
     ]
    },
    {
     "name": "stderr",
     "output_type": "stream",
     "text": [
      "2019-05-10 19:42:07.717 | INFO     | __main__:<module>:4 - Scraping new match: https://www.hltv.org/stats/matches/mapstatsid/17548/natus-vincere-vs-fnatic?matchType=Majors\n"
     ]
    },
    {
     "name": "stderr",
     "output_type": "stream",
     "text": [
      "2019-05-10 19:42:10.243 | INFO     | __main__:<module>:4 - Scraping new match: https://www.hltv.org/stats/matches/mapstatsid/17547/natus-vincere-vs-fnatic?matchType=Majors\n"
     ]
    },
    {
     "name": "stderr",
     "output_type": "stream",
     "text": [
      "2019-05-10 19:42:12.791 | INFO     | __main__:<module>:4 - Scraping new match: https://www.hltv.org/stats/matches/mapstatsid/17546/dignitas-vs-titan?matchType=Majors\n"
     ]
    },
    {
     "name": "stderr",
     "output_type": "stream",
     "text": [
      "2019-05-10 19:42:15.356 | INFO     | __main__:<module>:4 - Scraping new match: https://www.hltv.org/stats/matches/mapstatsid/17545/dignitas-vs-cloud9?matchType=Majors\n"
     ]
    },
    {
     "name": "stderr",
     "output_type": "stream",
     "text": [
      "2019-05-10 19:42:17.879 | INFO     | __main__:<module>:4 - Scraping new match: https://www.hltv.org/stats/matches/mapstatsid/17544/virtuspro-vs-ibuypower?matchType=Majors\n"
     ]
    },
    {
     "name": "stderr",
     "output_type": "stream",
     "text": [
      "2019-05-10 19:42:20.367 | INFO     | __main__:<module>:4 - Scraping new match: https://www.hltv.org/stats/matches/mapstatsid/17542/virtuspro-vs-fnatic?matchType=Majors\n"
     ]
    },
    {
     "name": "stderr",
     "output_type": "stream",
     "text": [
      "2019-05-10 19:42:22.929 | INFO     | __main__:<module>:4 - Scraping new match: https://www.hltv.org/stats/matches/mapstatsid/17540/cph-wolves-vs-natus-vincere?matchType=Majors\n"
     ]
    },
    {
     "name": "stderr",
     "output_type": "stream",
     "text": [
      "2019-05-10 19:42:25.447 | INFO     | __main__:<module>:4 - Scraping new match: https://www.hltv.org/stats/matches/mapstatsid/17539/ldlc-vs-natus-vincere?matchType=Majors\n"
     ]
    },
    {
     "name": "stderr",
     "output_type": "stream",
     "text": [
      "2019-05-10 19:42:27.981 | INFO     | __main__:<module>:4 - Scraping new match: https://www.hltv.org/stats/matches/mapstatsid/17538/nip-vs-hellraisers?matchType=Majors\n"
     ]
    },
    {
     "name": "stderr",
     "output_type": "stream",
     "text": [
      "2019-05-10 19:42:30.532 | INFO     | __main__:<module>:4 - Scraping new match: https://www.hltv.org/stats/matches/mapstatsid/17537/nip-vs-epsilon?matchType=Majors\n"
     ]
    },
    {
     "name": "stderr",
     "output_type": "stream",
     "text": [
      "2019-05-10 19:42:33.081 | INFO     | __main__:<module>:4 - Scraping new match: https://www.hltv.org/stats/matches/mapstatsid/17536/titan-vs-vox-eminor?matchType=Majors\n"
     ]
    },
    {
     "name": "stderr",
     "output_type": "stream",
     "text": [
      "2019-05-10 19:42:35.583 | INFO     | __main__:<module>:4 - Scraping new match: https://www.hltv.org/stats/matches/mapstatsid/17533/cloud9-vs-titan?matchType=Majors\n"
     ]
    },
    {
     "name": "stderr",
     "output_type": "stream",
     "text": [
      "2019-05-10 19:42:38.117 | INFO     | __main__:<module>:4 - Scraping new match: https://www.hltv.org/stats/matches/mapstatsid/17532/dignitas-vs-vox-eminor?matchType=Majors\n"
     ]
    },
    {
     "name": "stderr",
     "output_type": "stream",
     "text": [
      "2019-05-10 19:42:40.754 | INFO     | __main__:<module>:4 - Scraping new match: https://www.hltv.org/stats/matches/mapstatsid/17531/ibuypower-vs-dat?matchType=Majors\n"
     ]
    },
    {
     "name": "stderr",
     "output_type": "stream",
     "text": [
      "2019-05-10 19:42:43.258 | INFO     | __main__:<module>:4 - Scraping new match: https://www.hltv.org/stats/matches/mapstatsid/17530/fnatic-vs-ibuypower?matchType=Majors\n"
     ]
    },
    {
     "name": "stderr",
     "output_type": "stream",
     "text": [
      "2019-05-10 19:42:45.779 | INFO     | __main__:<module>:4 - Scraping new match: https://www.hltv.org/stats/matches/mapstatsid/17529/virtuspro-vs-dat?matchType=Majors\n"
     ]
    },
    {
     "name": "stderr",
     "output_type": "stream",
     "text": [
      "2019-05-10 19:42:48.329 | INFO     | __main__:<module>:4 - Scraping new match: https://www.hltv.org/stats/matches/mapstatsid/17528/cph-wolves-vs-london-conspiracy?matchType=Majors\n"
     ]
    },
    {
     "name": "stderr",
     "output_type": "stream",
     "text": [
      "2019-05-10 19:42:50.715 | INFO     | __main__:<module>:4 - Scraping new match: https://www.hltv.org/stats/matches/mapstatsid/17527/natus-vincere-vs-cph-wolves?matchType=Majors\n"
     ]
    },
    {
     "name": "stderr",
     "output_type": "stream",
     "text": [
      "2019-05-10 19:42:53.239 | INFO     | __main__:<module>:4 - Scraping new match: https://www.hltv.org/stats/matches/mapstatsid/17526/ldlc-vs-london-conspiracy?matchType=Majors\n"
     ]
    },
    {
     "name": "stderr",
     "output_type": "stream",
     "text": [
      "2019-05-10 19:42:55.724 | INFO     | __main__:<module>:4 - Scraping new match: https://www.hltv.org/stats/matches/mapstatsid/17525/hellraisers-vs-wolves?matchType=Majors\n"
     ]
    },
    {
     "name": "stderr",
     "output_type": "stream",
     "text": [
      "2019-05-10 19:42:58.251 | INFO     | __main__:<module>:4 - Scraping new match: https://www.hltv.org/stats/matches/mapstatsid/17524/epsilon-vs-hellraisers?matchType=Majors\n"
     ]
    },
    {
     "name": "stderr",
     "output_type": "stream",
     "text": [
      "2019-05-10 19:43:00.749 | INFO     | __main__:<module>:4 - Scraping new match: https://www.hltv.org/stats/matches/mapstatsid/17523/wolves-vs-nip?matchType=Majors\n"
     ]
    },
    {
     "name": "stderr",
     "output_type": "stream",
     "text": [
      "2019-05-10 19:43:03.264 | INFO     | __main__:<module>:4 - Scraping new match: https://www.hltv.org/stats/matches/mapstatsid/16520/virtuspro-vs-nip?matchType=Majors\n"
     ]
    },
    {
     "name": "stderr",
     "output_type": "stream",
     "text": [
      "2019-05-10 19:43:05.796 | INFO     | __main__:<module>:4 - Scraping new match: https://www.hltv.org/stats/matches/mapstatsid/16519/nip-vs-virtuspro?matchType=Majors\n"
     ]
    },
    {
     "name": "stderr",
     "output_type": "stream",
     "text": [
      "2019-05-10 19:43:08.327 | INFO     | __main__:<module>:4 - Scraping new match: https://www.hltv.org/stats/matches/mapstatsid/16518/lgb-vs-virtuspro?matchType=Majors\n"
     ]
    },
    {
     "name": "stderr",
     "output_type": "stream",
     "text": [
      "2019-05-10 19:43:10.859 | INFO     | __main__:<module>:4 - Scraping new match: https://www.hltv.org/stats/matches/mapstatsid/16515/lgb-vs-virtuspro?matchType=Majors\n"
     ]
    },
    {
     "name": "stderr",
     "output_type": "stream",
     "text": [
      "2019-05-10 19:43:13.395 | INFO     | __main__:<module>:4 - Scraping new match: https://www.hltv.org/stats/matches/mapstatsid/16514/virtuspro-vs-lgb?matchType=Majors\n"
     ]
    },
    {
     "name": "stderr",
     "output_type": "stream",
     "text": [
      "2019-05-10 19:43:15.932 | INFO     | __main__:<module>:4 - Scraping new match: https://www.hltv.org/stats/matches/mapstatsid/16513/dignitas-vs-nip?matchType=Majors\n"
     ]
    },
    {
     "name": "stderr",
     "output_type": "stream",
     "text": [
      "2019-05-10 19:43:18.518 | INFO     | __main__:<module>:4 - Scraping new match: https://www.hltv.org/stats/matches/mapstatsid/16512/nip-vs-dignitas?matchType=Majors\n"
     ]
    },
    {
     "name": "stderr",
     "output_type": "stream",
     "text": [
      "2019-05-10 19:43:21.036 | INFO     | __main__:<module>:4 - Scraping new match: https://www.hltv.org/stats/matches/mapstatsid/16511/fnatic-vs-lgb?matchType=Majors\n"
     ]
    },
    {
     "name": "stderr",
     "output_type": "stream",
     "text": [
      "2019-05-10 19:43:23.608 | INFO     | __main__:<module>:4 - Scraping new match: https://www.hltv.org/stats/matches/mapstatsid/16510/fnatic-vs-lgb?matchType=Majors\n"
     ]
    },
    {
     "name": "stderr",
     "output_type": "stream",
     "text": [
      "2019-05-10 19:43:26.149 | INFO     | __main__:<module>:4 - Scraping new match: https://www.hltv.org/stats/matches/mapstatsid/16508/lgb-vs-fnatic?matchType=Majors\n"
     ]
    },
    {
     "name": "stderr",
     "output_type": "stream",
     "text": [
      "2019-05-10 19:43:29.201 | INFO     | __main__:<module>:4 - Scraping new match: https://www.hltv.org/stats/matches/mapstatsid/16507/nip-vs-complexity?matchType=Majors\n"
     ]
    },
    {
     "name": "stderr",
     "output_type": "stream",
     "text": [
      "2019-05-10 19:43:31.737 | INFO     | __main__:<module>:4 - Scraping new match: https://www.hltv.org/stats/matches/mapstatsid/16506/complexity-vs-nip?matchType=Majors\n"
     ]
    },
    {
     "name": "stderr",
     "output_type": "stream",
     "text": [
      "2019-05-10 19:43:34.286 | INFO     | __main__:<module>:4 - Scraping new match: https://www.hltv.org/stats/matches/mapstatsid/16505/nip-vs-complexity?matchType=Majors\n"
     ]
    },
    {
     "name": "stderr",
     "output_type": "stream",
     "text": [
      "2019-05-10 19:43:36.825 | INFO     | __main__:<module>:4 - Scraping new match: https://www.hltv.org/stats/matches/mapstatsid/16504/virtuspro-vs-ldlc?matchType=Majors\n"
     ]
    },
    {
     "name": "stderr",
     "output_type": "stream",
     "text": [
      "2019-05-10 19:43:39.375 | INFO     | __main__:<module>:4 - Scraping new match: https://www.hltv.org/stats/matches/mapstatsid/16503/ldlc-vs-virtuspro?matchType=Majors\n"
     ]
    },
    {
     "name": "stderr",
     "output_type": "stream",
     "text": [
      "2019-05-10 19:43:41.895 | INFO     | __main__:<module>:4 - Scraping new match: https://www.hltv.org/stats/matches/mapstatsid/16502/dignitas-vs-hellraisers?matchType=Majors\n"
     ]
    },
    {
     "name": "stderr",
     "output_type": "stream",
     "text": [
      "2019-05-10 19:43:44.426 | INFO     | __main__:<module>:4 - Scraping new match: https://www.hltv.org/stats/matches/mapstatsid/16501/dignitas-vs-hellraisers?matchType=Majors\n"
     ]
    },
    {
     "name": "stderr",
     "output_type": "stream",
     "text": [
      "2019-05-10 19:43:46.967 | INFO     | __main__:<module>:4 - Scraping new match: https://www.hltv.org/stats/matches/mapstatsid/16499/complexity-vs-clan-mystik?matchType=Majors\n"
     ]
    },
    {
     "name": "stderr",
     "output_type": "stream",
     "text": [
      "2019-05-10 19:43:49.555 | INFO     | __main__:<module>:4 - Scraping new match: https://www.hltv.org/stats/matches/mapstatsid/16497/reason-vs-fnatic?matchType=Majors\n"
     ]
    },
    {
     "name": "stderr",
     "output_type": "stream",
     "text": [
      "2019-05-10 19:43:52.041 | INFO     | __main__:<module>:4 - Scraping new match: https://www.hltv.org/stats/matches/mapstatsid/16498/dignitas-vs-reason?matchType=Majors\n"
     ]
    },
    {
     "name": "stderr",
     "output_type": "stream",
     "text": [
      "2019-05-10 19:43:54.558 | INFO     | __main__:<module>:4 - Scraping new match: https://www.hltv.org/stats/matches/mapstatsid/16496/ibuypower-vs-fnatic?matchType=Majors\n"
     ]
    },
    {
     "name": "stderr",
     "output_type": "stream",
     "text": [
      "2019-05-10 19:43:57.097 | INFO     | __main__:<module>:4 - Scraping new match: https://www.hltv.org/stats/matches/mapstatsid/16500/natus-vincere-vs-clan-mystik?matchType=Majors\n"
     ]
    },
    {
     "name": "stderr",
     "output_type": "stream",
     "text": [
      "2019-05-10 19:43:59.817 | INFO     | __main__:<module>:4 - Scraping new match: https://www.hltv.org/stats/matches/mapstatsid/16495/complexity-vs-lgb?matchType=Majors\n"
     ]
    },
    {
     "name": "stderr",
     "output_type": "stream",
     "text": [
      "2019-05-10 19:44:02.303 | INFO     | __main__:<module>:4 - Scraping new match: https://www.hltv.org/stats/matches/mapstatsid/16494/clan-mystik-vs-complexity?matchType=Majors\n"
     ]
    },
    {
     "name": "stderr",
     "output_type": "stream",
     "text": [
      "2019-05-10 19:44:04.828 | INFO     | __main__:<module>:4 - Scraping new match: https://www.hltv.org/stats/matches/mapstatsid/16493/dignitas-vs-ibuypower?matchType=Majors\n"
     ]
    },
    {
     "name": "stderr",
     "output_type": "stream",
     "text": [
      "2019-05-10 19:44:07.337 | INFO     | __main__:<module>:4 - Scraping new match: https://www.hltv.org/stats/matches/mapstatsid/16492/reason-vs-fnatic?matchType=Majors\n"
     ]
    },
    {
     "name": "stderr",
     "output_type": "stream",
     "text": [
      "2019-05-10 19:44:09.840 | INFO     | __main__:<module>:4 - Scraping new match: https://www.hltv.org/stats/matches/mapstatsid/16491/lgb-vs-natus-vincere?matchType=Majors\n"
     ]
    },
    {
     "name": "stderr",
     "output_type": "stream",
     "text": [
      "2019-05-10 19:44:12.366 | INFO     | __main__:<module>:4 - Scraping new match: https://www.hltv.org/stats/matches/mapstatsid/16490/ldlc-vs-3dmax?matchType=Majors\n"
     ]
    },
    {
     "name": "stderr",
     "output_type": "stream",
     "text": [
      "2019-05-10 19:44:14.893 | INFO     | __main__:<module>:4 - Scraping new match: https://www.hltv.org/stats/matches/mapstatsid/16489/titan-vs-hellraisers?matchType=Majors\n"
     ]
    },
    {
     "name": "stderr",
     "output_type": "stream",
     "text": [
      "2019-05-10 19:44:17.840 | INFO     | __main__:<module>:4 - Scraping new match: https://www.hltv.org/stats/matches/mapstatsid/16488/vox-eminor-vs-3dmax?matchType=Majors\n"
     ]
    },
    {
     "name": "stderr",
     "output_type": "stream",
     "text": [
      "2019-05-10 19:44:20.397 | INFO     | __main__:<module>:4 - Scraping new match: https://www.hltv.org/stats/matches/mapstatsid/16487/mousesports-vs-hellraisers?matchType=Majors\n"
     ]
    },
    {
     "name": "stderr",
     "output_type": "stream",
     "text": [
      "2019-05-10 19:44:22.987 | INFO     | __main__:<module>:4 - Scraping new match: https://www.hltv.org/stats/matches/mapstatsid/16486/nip-vs-ldlc?matchType=Majors\n"
     ]
    },
    {
     "name": "stderr",
     "output_type": "stream",
     "text": [
      "2019-05-10 19:44:25.474 | INFO     | __main__:<module>:4 - Scraping new match: https://www.hltv.org/stats/matches/mapstatsid/16485/titan-vs-virtuspro?matchType=Majors\n"
     ]
    },
    {
     "name": "stderr",
     "output_type": "stream",
     "text": [
      "2019-05-10 19:44:27.997 | INFO     | __main__:<module>:4 - Scraping new match: https://www.hltv.org/stats/matches/mapstatsid/16484/ldlc-vs-vox-eminor?matchType=Majors\n"
     ]
    },
    {
     "name": "stderr",
     "output_type": "stream",
     "text": [
      "2019-05-10 19:44:30.524 | INFO     | __main__:<module>:4 - Scraping new match: https://www.hltv.org/stats/matches/mapstatsid/16481/virtuspro-vs-hellraisers?matchType=Majors\n"
     ]
    },
    {
     "name": "stderr",
     "output_type": "stream",
     "text": [
      "2019-05-10 19:44:33.088 | INFO     | __main__:<module>:4 - Scraping new match: https://www.hltv.org/stats/matches/mapstatsid/16483/titan-vs-mousesports?matchType=Majors\n"
     ]
    },
    {
     "name": "stderr",
     "output_type": "stream",
     "text": [
      "2019-05-10 19:44:35.617 | INFO     | __main__:<module>:4 - Scraping new match: https://www.hltv.org/stats/matches/mapstatsid/16480/nip-vs-3dmax?matchType=Majors\n"
     ]
    },
    {
     "name": "stderr",
     "output_type": "stream",
     "text": [
      "2019-05-10 19:44:38.113 | INFO     | __main__:<module>:4 - Scraping new match: https://www.hltv.org/stats/matches/mapstatsid/15856/fnatic-vs-nip?matchType=Majors\n"
     ]
    },
    {
     "name": "stderr",
     "output_type": "stream",
     "text": [
      "2019-05-10 19:44:40.709 | INFO     | __main__:<module>:4 - Scraping new match: https://www.hltv.org/stats/matches/mapstatsid/15855/nip-vs-fnatic?matchType=Majors\n"
     ]
    },
    {
     "name": "stderr",
     "output_type": "stream",
     "text": [
      "2019-05-10 19:44:43.252 | INFO     | __main__:<module>:4 - Scraping new match: https://www.hltv.org/stats/matches/mapstatsid/15854/fnatic-vs-nip?matchType=Majors\n"
     ]
    },
    {
     "name": "stderr",
     "output_type": "stream",
     "text": [
      "2019-05-10 19:44:45.812 | INFO     | __main__:<module>:4 - Scraping new match: https://www.hltv.org/stats/matches/mapstatsid/15853/complexity-vs-fnatic?matchType=Majors\n"
     ]
    },
    {
     "name": "stderr",
     "output_type": "stream",
     "text": [
      "2019-05-10 19:44:48.338 | INFO     | __main__:<module>:4 - Scraping new match: https://www.hltv.org/stats/matches/mapstatsid/15852/fnatic-vs-complexity?matchType=Majors\n"
     ]
    },
    {
     "name": "stderr",
     "output_type": "stream",
     "text": [
      "2019-05-10 19:44:50.886 | INFO     | __main__:<module>:4 - Scraping new match: https://www.hltv.org/stats/matches/mapstatsid/15851/nip-vs-verygames?matchType=Majors\n"
     ]
    },
    {
     "name": "stderr",
     "output_type": "stream",
     "text": [
      "2019-05-10 19:44:53.429 | INFO     | __main__:<module>:4 - Scraping new match: https://www.hltv.org/stats/matches/mapstatsid/15850/verygames-vs-nip?matchType=Majors\n"
     ]
    },
    {
     "name": "stderr",
     "output_type": "stream",
     "text": [
      "2019-05-10 19:44:56.042 | INFO     | __main__:<module>:4 - Scraping new match: https://www.hltv.org/stats/matches/mapstatsid/15849/nip-vs-verygames?matchType=Majors\n"
     ]
    },
    {
     "name": "stderr",
     "output_type": "stream",
     "text": [
      "2019-05-10 19:44:58.584 | INFO     | __main__:<module>:4 - Scraping new match: https://www.hltv.org/stats/matches/mapstatsid/15846/astana-dragons-vs-complexity?matchType=Majors\n"
     ]
    },
    {
     "name": "stderr",
     "output_type": "stream",
     "text": [
      "2019-05-10 19:45:01.125 | INFO     | __main__:<module>:4 - Scraping new match: https://www.hltv.org/stats/matches/mapstatsid/15845/complexity-vs-astana-dragons?matchType=Majors\n"
     ]
    },
    {
     "name": "stderr",
     "output_type": "stream",
     "text": [
      "2019-05-10 19:45:03.682 | INFO     | __main__:<module>:4 - Scraping new match: https://www.hltv.org/stats/matches/mapstatsid/15844/complexity-vs-astana-dragons?matchType=Majors\n"
     ]
    },
    {
     "name": "stderr",
     "output_type": "stream",
     "text": [
      "2019-05-10 19:45:06.272 | INFO     | __main__:<module>:4 - Scraping new match: https://www.hltv.org/stats/matches/mapstatsid/15843/verygames-vs-cph-wolves?matchType=Majors\n"
     ]
    },
    {
     "name": "stderr",
     "output_type": "stream",
     "text": [
      "2019-05-10 19:45:08.830 | INFO     | __main__:<module>:4 - Scraping new match: https://www.hltv.org/stats/matches/mapstatsid/15842/verygames-vs-cph-wolves?matchType=Majors\n"
     ]
    },
    {
     "name": "stderr",
     "output_type": "stream",
     "text": [
      "2019-05-10 19:45:11.380 | INFO     | __main__:<module>:4 - Scraping new match: https://www.hltv.org/stats/matches/mapstatsid/15841/verygames-vs-cph-wolves?matchType=Majors\n"
     ]
    },
    {
     "name": "stderr",
     "output_type": "stream",
     "text": [
      "2019-05-10 19:45:13.899 | INFO     | __main__:<module>:4 - Scraping new match: https://www.hltv.org/stats/matches/mapstatsid/15839/reason-vs-astana-dragons?matchType=Majors\n"
     ]
    },
    {
     "name": "stderr",
     "output_type": "stream",
     "text": [
      "2019-05-10 19:45:16.441 | INFO     | __main__:<module>:4 - Scraping new match: https://www.hltv.org/stats/matches/mapstatsid/15838/sk-vs-reason?matchType=Majors\n"
     ]
    },
    {
     "name": "stderr",
     "output_type": "stream",
     "text": [
      "2019-05-10 19:45:18.938 | INFO     | __main__:<module>:4 - Scraping new match: https://www.hltv.org/stats/matches/mapstatsid/15840/cph-wolves-vs-astana-dragons?matchType=Majors\n"
     ]
    },
    {
     "name": "stderr",
     "output_type": "stream",
     "text": [
      "2019-05-10 19:45:21.450 | INFO     | __main__:<module>:4 - Scraping new match: https://www.hltv.org/stats/matches/mapstatsid/15837/cph-wolves-vs-sk?matchType=Majors\n"
     ]
    },
    {
     "name": "stderr",
     "output_type": "stream",
     "text": [
      "2019-05-10 19:45:23.947 | INFO     | __main__:<module>:4 - Scraping new match: https://www.hltv.org/stats/matches/mapstatsid/15836/astana-dragons-vs-reason?matchType=Majors\n"
     ]
    },
    {
     "name": "stderr",
     "output_type": "stream",
     "text": [
      "2019-05-10 19:45:26.574 | INFO     | __main__:<module>:4 - Scraping new match: https://www.hltv.org/stats/matches/mapstatsid/15835/nfaculty-vs-verygames?matchType=Majors\n"
     ]
    },
    {
     "name": "stderr",
     "output_type": "stream",
     "text": [
      "2019-05-10 19:45:29.094 | INFO     | __main__:<module>:4 - Scraping new match: https://www.hltv.org/stats/matches/mapstatsid/15834/complexity-vs-verygames?matchType=Majors\n"
     ]
    },
    {
     "name": "stderr",
     "output_type": "stream",
     "text": [
      "2019-05-10 19:45:31.541 | INFO     | __main__:<module>:4 - Scraping new match: https://www.hltv.org/stats/matches/mapstatsid/15833/xapso-vs-nfaculty?matchType=Majors\n"
     ]
    },
    {
     "name": "stderr",
     "output_type": "stream",
     "text": [
      "2019-05-10 19:45:34.034 | INFO     | __main__:<module>:4 - Scraping new match: https://www.hltv.org/stats/matches/mapstatsid/15832/xapso-vs-verygames?matchType=Majors\n"
     ]
    },
    {
     "name": "stderr",
     "output_type": "stream",
     "text": [
      "2019-05-10 19:45:36.549 | INFO     | __main__:<module>:4 - Scraping new match: https://www.hltv.org/stats/matches/mapstatsid/15831/complexity-vs-nfaculty?matchType=Majors\n"
     ]
    },
    {
     "name": "stderr",
     "output_type": "stream",
     "text": [
      "2019-05-10 19:45:39.082 | INFO     | __main__:<module>:4 - Scraping new match: https://www.hltv.org/stats/matches/mapstatsid/15830/lgb-vs-nip?matchType=Majors\n"
     ]
    },
    {
     "name": "stderr",
     "output_type": "stream",
     "text": [
      "2019-05-10 19:45:41.631 | INFO     | __main__:<module>:4 - Scraping new match: https://www.hltv.org/stats/matches/mapstatsid/15829/lgb-vs-nip?matchType=Majors\n"
     ]
    },
    {
     "name": "stderr",
     "output_type": "stream",
     "text": [
      "2019-05-10 19:45:44.162 | INFO     | __main__:<module>:4 - Scraping new match: https://www.hltv.org/stats/matches/mapstatsid/15828/lgb-vs-nip?matchType=Majors\n"
     ]
    },
    {
     "name": "stderr",
     "output_type": "stream",
     "text": [
      "2019-05-10 19:45:46.709 | INFO     | __main__:<module>:4 - Scraping new match: https://www.hltv.org/stats/matches/mapstatsid/15827/fnatic-vs-recursive?matchType=Majors\n"
     ]
    },
    {
     "name": "stderr",
     "output_type": "stream",
     "text": [
      "2019-05-10 19:45:49.260 | INFO     | __main__:<module>:4 - Scraping new match: https://www.hltv.org/stats/matches/mapstatsid/15826/recursive-vs-fnatic?matchType=Majors\n"
     ]
    },
    {
     "name": "stderr",
     "output_type": "stream",
     "text": [
      "2019-05-10 19:45:51.797 | INFO     | __main__:<module>:4 - Scraping new match: https://www.hltv.org/stats/matches/mapstatsid/15825/fnatic-vs-recursive?matchType=Majors\n"
     ]
    },
    {
     "name": "stderr",
     "output_type": "stream",
     "text": [
      "2019-05-10 19:45:54.322 | INFO     | __main__:<module>:4 - Scraping new match: https://www.hltv.org/stats/matches/mapstatsid/15824/universalsoldiers-vs-recursive?matchType=Majors\n"
     ]
    },
    {
     "name": "stderr",
     "output_type": "stream",
     "text": [
      "2019-05-10 19:45:56.948 | INFO     | __main__:<module>:4 - Scraping new match: https://www.hltv.org/stats/matches/mapstatsid/15823/universalsoldiers-vs-nip?matchType=Majors\n"
     ]
    },
    {
     "name": "stderr",
     "output_type": "stream",
     "text": [
      "2019-05-10 19:45:59.491 | INFO     | __main__:<module>:4 - Scraping new match: https://www.hltv.org/stats/matches/mapstatsid/15822/ibuypower-vs-recursive?matchType=Majors\n"
     ]
    },
    {
     "name": "stderr",
     "output_type": "stream",
     "text": [
      "2019-05-10 19:46:02.213 | INFO     | __main__:<module>:4 - Scraping new match: https://www.hltv.org/stats/matches/mapstatsid/15821/universalsoldiers-vs-ibuypower?matchType=Majors\n"
     ]
    },
    {
     "name": "stderr",
     "output_type": "stream",
     "text": [
      "2019-05-10 19:46:04.788 | INFO     | __main__:<module>:4 - Scraping new match: https://www.hltv.org/stats/matches/mapstatsid/15820/nip-vs-recursive?matchType=Majors\n"
     ]
    },
    {
     "name": "stderr",
     "output_type": "stream",
     "text": [
      "2019-05-10 19:46:07.309 | INFO     | __main__:<module>:4 - Scraping new match: https://www.hltv.org/stats/matches/mapstatsid/15819/lgb-vs-clan-mystik?matchType=Majors\n"
     ]
    },
    {
     "name": "stderr",
     "output_type": "stream",
     "text": [
      "2019-05-10 19:46:09.829 | INFO     | __main__:<module>:4 - Scraping new match: https://www.hltv.org/stats/matches/mapstatsid/15818/clan-mystik-vs-fnatic?matchType=Majors\n"
     ]
    },
    {
     "name": "stderr",
     "output_type": "stream",
     "text": [
      "2019-05-10 19:46:12.359 | INFO     | __main__:<module>:4 - Scraping new match: https://www.hltv.org/stats/matches/mapstatsid/15817/lgb-vs-natus-vincere?matchType=Majors\n"
     ]
    },
    {
     "name": "stderr",
     "output_type": "stream",
     "text": [
      "2019-05-10 19:46:14.899 | INFO     | __main__:<module>:4 - Scraping new match: https://www.hltv.org/stats/matches/mapstatsid/15816/natus-vincere-vs-fnatic?matchType=Majors\n"
     ]
    },
    {
     "name": "stderr",
     "output_type": "stream",
     "text": [
      "2019-05-10 19:46:17.404 | INFO     | __main__:<module>:4 - Scraping new match: https://www.hltv.org/stats/matches/mapstatsid/15815/clan-mystik-vs-lgb?matchType=Majors\n"
     ]
    }
   ],
   "source": [
    "# For loop to scrape the data of each major match\n",
    "for URL in majorURLList:\n",
    "    # Logger message\n",
    "    logger.info('Scraping new match: %s' % URL)\n",
    "    \n",
    "    # Retrieve HTML and parse with BeautifulSoup\n",
    "    soup = get_html_soup(URL)\n",
    "    \n",
    "    # Get info\n",
    "    # Team\n",
    "    event = get_event(soup)\n",
    "    matchID = get_match_ID(soup, URL)\n",
    "    date = get_date(soup)\n",
    "    team1 = get_team_name_rounds(soup, 1)\n",
    "    team2 = get_team_name_rounds(soup, 2)\n",
    "    matchWinner = get_match_winner(soup, team1, team2)\n",
    "    mapPick = get_map_pick(soup)\n",
    "    team1FK = get_FK_clutches_rating(soup, 1)\n",
    "    team2FK = get_FK_clutches_rating(soup, 2)\n",
    "\n",
    "    # Player\n",
    "    playerNames = get_player_names(soup)\n",
    "    playerTeams = get_player_teams(soup)\n",
    "    playerKills = get_player_kills(soup)\n",
    "    playerDeaths = get_player_deaths(soup)\n",
    "    playerFK = get_player_FK(soup)\n",
    "    playerFD = get_player_FD(soup)\n",
    "    playerRatings = get_player_ratings(soup)\n",
    "\n",
    "    # Append Match Stats\n",
    "    dfMatchStats = dfMatchStats.append({\"Event\": event, \"Date\": date, \"Match ID\": matchID, \"Team 1\": team1[0], \n",
    "                                        \"Team 1 Rounds\": int(team1[1]), \"Team 2\": team2[0], \n",
    "                                        \"Team 2 Rounds\": int(team2[1]), \"Total Rounds\": int(team1[1]) + int(team2[1]), \n",
    "                                        \"Winner\": matchWinner, \"Map\": mapPick, \"Team 1 FK\": team1FK[0], \n",
    "                                        \"Team 1 Clutches\": team1FK[1],  \"Team 1 Rating\": team1FK[2], \n",
    "                                        \"Team 2 FK\": team2FK[0],  \"Team 2 Clutches\": team2FK[1], \n",
    "                                        \"Team 2 Rating\": team2FK[2]}, ignore_index=True)\n",
    "\n",
    "\n",
    "    #Append Team 1\n",
    "    for x in range(5):\n",
    "        dfPlayerStats = dfPlayerStats.append({\"Event\": event, \"Date\": date, \"Match ID\": matchID, \"Team\": playerTeams[0], \n",
    "                                              \"Map\": mapPick, \"Rounds\": int(team1[1]) + int(team2[1]), \n",
    "                                              \"Player\": playerNames[x], \"Kills\": playerKills[x], \n",
    "                                              \"Deaths\": playerDeaths[x], \"FK\": playerFK[x], \"FD\": playerFD[x], \n",
    "                                              \"FK%K\": (playerFK[x]/playerKills[x])*100, \n",
    "                                              \"FD%D\": (playerFD[x]/playerDeaths[x])*100, \n",
    "                                              \"Rating\": playerRatings[x]}, ignore_index=True)\n",
    "\n",
    "    # Append Team 2\n",
    "    for x in range(5, 10):\n",
    "        dfPlayerStats = dfPlayerStats.append({\"Event\": event, \"Date\": date, \"Match ID\": matchID, \"Team\": playerTeams[1], \n",
    "                                              \"Map\": mapPick, \"Rounds\": int(team1[1]) + int(team2[1]), \n",
    "                                              \"Player\": playerNames[x], \"Kills\": playerKills[x], \n",
    "                                              \"Deaths\": playerDeaths[x], \"FK\": playerFK[x], \"FD\": playerFD[x], \n",
    "                                              \"FK%K\": (playerFK[x]/playerKills[x])*100, \n",
    "                                              \"FD%D\": (playerFD[x]/playerDeaths[x])*100, \n",
    "                                              \"Rating\": playerRatings[x]}, ignore_index=True)\n"
   ]
  },
  {
   "cell_type": "markdown",
   "metadata": {
    "papermill": {
     "duration": 0.22106,
     "end_time": "2019-05-10T18:46:20.674563",
     "exception": false,
     "start_time": "2019-05-10T18:46:20.453503",
     "status": "completed"
    },
    "tags": []
   },
   "source": [
    "Some simple cleaning is undertaken on the DataFrames. The Date column of each DataFrame is converted to DateTime format and the Match ID column is set as the index."
   ]
  },
  {
   "cell_type": "code",
   "execution_count": 8,
   "metadata": {
    "papermill": {
     "duration": 0.237044,
     "end_time": "2019-05-10T18:46:21.136657",
     "exception": false,
     "start_time": "2019-05-10T18:46:20.899613",
     "status": "completed"
    },
    "scrolled": true,
    "tags": []
   },
   "outputs": [],
   "source": [
    "# Convert Date to DateTime data type\n",
    "dfMatchStats[\"Date\"] =  pd.to_datetime(dfMatchStats[\"Date\"], format=\"%Y-%m-%d %H:%M\")\n",
    "\n",
    "# Set Match ID as index\n",
    "dfMatchStats.set_index(\"Match ID\", inplace=True)\n",
    "        \n",
    "# Convert Date to DateTime data type\n",
    "dfPlayerStats[\"Date\"] =  pd.to_datetime(dfPlayerStats[\"Date\"], format=\"%Y-%m-%d %H:%M\")\n",
    "\n",
    "# Set Match ID as index\n",
    "dfPlayerStats.set_index(\"Match ID\", inplace=True)"
   ]
  },
  {
   "cell_type": "markdown",
   "metadata": {
    "papermill": {
     "duration": 0.221203,
     "end_time": "2019-05-10T18:46:21.580910",
     "exception": false,
     "start_time": "2019-05-10T18:46:21.359707",
     "status": "completed"
    },
    "tags": []
   },
   "source": [
    "The DataFrames are then checked to see if there are any null values."
   ]
  },
  {
   "cell_type": "code",
   "execution_count": 9,
   "metadata": {
    "papermill": {
     "duration": 0.232052,
     "end_time": "2019-05-10T18:46:22.029858",
     "exception": false,
     "start_time": "2019-05-10T18:46:21.797806",
     "status": "completed"
    },
    "scrolled": true,
    "tags": []
   },
   "outputs": [
    {
     "data": {
      "text/plain": [
       "Event              0\n",
       "Date               0\n",
       "Team 1             0\n",
       "Team 2             0\n",
       "Map                0\n",
       "Team 1 Rounds      0\n",
       "Team 2 Rounds      0\n",
       "Total Rounds       0\n",
       "Winner             0\n",
       "Team 1 FK          0\n",
       "Team 2 FK          0\n",
       "Team 1 Clutches    0\n",
       "Team 2 Clutches    0\n",
       "Team 1 Rating      0\n",
       "Team 2 Rating      0\n",
       "dtype: int64"
      ]
     },
     "execution_count": 9,
     "metadata": {},
     "output_type": "execute_result"
    }
   ],
   "source": [
    "dfMatchStats.isnull().sum()"
   ]
  },
  {
   "cell_type": "code",
   "execution_count": 10,
   "metadata": {
    "papermill": {
     "duration": 0.237255,
     "end_time": "2019-05-10T18:46:22.491163",
     "exception": false,
     "start_time": "2019-05-10T18:46:22.253908",
     "status": "completed"
    },
    "tags": []
   },
   "outputs": [
    {
     "data": {
      "text/plain": [
       "Event     0\n",
       "Date      0\n",
       "Player    0\n",
       "Team      0\n",
       "Map       0\n",
       "Rounds    0\n",
       "Kills     0\n",
       "Deaths    0\n",
       "FK        0\n",
       "FD        0\n",
       "FK%K      0\n",
       "FD%D      0\n",
       "Rating    0\n",
       "dtype: int64"
      ]
     },
     "execution_count": 10,
     "metadata": {},
     "output_type": "execute_result"
    }
   ],
   "source": [
    "dfPlayerStats.isnull().sum()"
   ]
  },
  {
   "cell_type": "markdown",
   "metadata": {
    "papermill": {
     "duration": 0.222049,
     "end_time": "2019-05-10T18:46:22.934271",
     "exception": false,
     "start_time": "2019-05-10T18:46:22.712222",
     "status": "completed"
    },
    "tags": []
   },
   "source": [
    "A sample of each DataFrame is printed to give an example of the format."
   ]
  },
  {
   "cell_type": "code",
   "execution_count": 11,
   "metadata": {
    "papermill": {
     "duration": 0.247065,
     "end_time": "2019-05-10T18:46:23.403377",
     "exception": false,
     "start_time": "2019-05-10T18:46:23.156312",
     "status": "completed"
    },
    "tags": []
   },
   "outputs": [
    {
     "data": {
      "text/html": [
       "<div>\n",
       "<style scoped>\n",
       "    .dataframe tbody tr th:only-of-type {\n",
       "        vertical-align: middle;\n",
       "    }\n",
       "\n",
       "    .dataframe tbody tr th {\n",
       "        vertical-align: top;\n",
       "    }\n",
       "\n",
       "    .dataframe thead th {\n",
       "        text-align: right;\n",
       "    }\n",
       "</style>\n",
       "<table border=\"1\" class=\"dataframe\">\n",
       "  <thead>\n",
       "    <tr style=\"text-align: right;\">\n",
       "      <th></th>\n",
       "      <th>Event</th>\n",
       "      <th>Date</th>\n",
       "      <th>Team 1</th>\n",
       "      <th>Team 2</th>\n",
       "      <th>Map</th>\n",
       "      <th>Team 1 Rounds</th>\n",
       "      <th>Team 2 Rounds</th>\n",
       "      <th>Total Rounds</th>\n",
       "      <th>Winner</th>\n",
       "      <th>Team 1 FK</th>\n",
       "      <th>Team 2 FK</th>\n",
       "      <th>Team 1 Clutches</th>\n",
       "      <th>Team 2 Clutches</th>\n",
       "      <th>Team 1 Rating</th>\n",
       "      <th>Team 2 Rating</th>\n",
       "    </tr>\n",
       "    <tr>\n",
       "      <th>Match ID</th>\n",
       "      <th></th>\n",
       "      <th></th>\n",
       "      <th></th>\n",
       "      <th></th>\n",
       "      <th></th>\n",
       "      <th></th>\n",
       "      <th></th>\n",
       "      <th></th>\n",
       "      <th></th>\n",
       "      <th></th>\n",
       "      <th></th>\n",
       "      <th></th>\n",
       "      <th></th>\n",
       "      <th></th>\n",
       "      <th></th>\n",
       "    </tr>\n",
       "  </thead>\n",
       "  <tbody>\n",
       "    <tr>\n",
       "      <th>73726</th>\n",
       "      <td>FACEIT Major 2018</td>\n",
       "      <td>2018-09-13 17:50:00</td>\n",
       "      <td>Natus Vincere</td>\n",
       "      <td>FaZe</td>\n",
       "      <td>Overpass</td>\n",
       "      <td>16</td>\n",
       "      <td>12</td>\n",
       "      <td>28</td>\n",
       "      <td>Natus Vincere</td>\n",
       "      <td>15</td>\n",
       "      <td>13</td>\n",
       "      <td>2</td>\n",
       "      <td>1</td>\n",
       "      <td>1.12</td>\n",
       "      <td>1.00</td>\n",
       "    </tr>\n",
       "    <tr>\n",
       "      <th>59932</th>\n",
       "      <td>ELEAGUE Major 2018</td>\n",
       "      <td>2018-01-19 20:10:00</td>\n",
       "      <td>Astralis</td>\n",
       "      <td>mousesports</td>\n",
       "      <td>Cache</td>\n",
       "      <td>2</td>\n",
       "      <td>16</td>\n",
       "      <td>18</td>\n",
       "      <td>mousesports</td>\n",
       "      <td>7</td>\n",
       "      <td>11</td>\n",
       "      <td>0</td>\n",
       "      <td>2</td>\n",
       "      <td>0.58</td>\n",
       "      <td>1.60</td>\n",
       "    </tr>\n",
       "    <tr>\n",
       "      <th>18729</th>\n",
       "      <td>DreamHack Winter 2014</td>\n",
       "      <td>2014-11-29 21:00:00</td>\n",
       "      <td>NiP</td>\n",
       "      <td>LDLC</td>\n",
       "      <td>Overpass</td>\n",
       "      <td>16</td>\n",
       "      <td>19</td>\n",
       "      <td>35</td>\n",
       "      <td>LDLC</td>\n",
       "      <td>15</td>\n",
       "      <td>20</td>\n",
       "      <td>2</td>\n",
       "      <td>3</td>\n",
       "      <td>0.99</td>\n",
       "      <td>1.02</td>\n",
       "    </tr>\n",
       "    <tr>\n",
       "      <th>17553</th>\n",
       "      <td>ESL One Cologne 2014</td>\n",
       "      <td>2014-08-16 15:45:00</td>\n",
       "      <td>LDLC</td>\n",
       "      <td>Virtus.pro</td>\n",
       "      <td>Mirage</td>\n",
       "      <td>16</td>\n",
       "      <td>12</td>\n",
       "      <td>28</td>\n",
       "      <td>LDLC</td>\n",
       "      <td>16</td>\n",
       "      <td>12</td>\n",
       "      <td>2</td>\n",
       "      <td>1</td>\n",
       "      <td>1.12</td>\n",
       "      <td>0.84</td>\n",
       "    </tr>\n",
       "    <tr>\n",
       "      <th>82095</th>\n",
       "      <td>IEM Katowice 2019</td>\n",
       "      <td>2019-03-01 18:35:00</td>\n",
       "      <td>Astralis</td>\n",
       "      <td>NiP</td>\n",
       "      <td>Dust2</td>\n",
       "      <td>16</td>\n",
       "      <td>14</td>\n",
       "      <td>30</td>\n",
       "      <td>Astralis</td>\n",
       "      <td>19</td>\n",
       "      <td>11</td>\n",
       "      <td>1</td>\n",
       "      <td>0</td>\n",
       "      <td>1.07</td>\n",
       "      <td>0.97</td>\n",
       "    </tr>\n",
       "  </tbody>\n",
       "</table>\n",
       "</div>"
      ],
      "text/plain": [
       "                          Event                Date         Team 1  \\\n",
       "Match ID                                                             \n",
       "73726         FACEIT Major 2018 2018-09-13 17:50:00  Natus Vincere   \n",
       "59932        ELEAGUE Major 2018 2018-01-19 20:10:00       Astralis   \n",
       "18729     DreamHack Winter 2014 2014-11-29 21:00:00            NiP   \n",
       "17553      ESL One Cologne 2014 2014-08-16 15:45:00           LDLC   \n",
       "82095         IEM Katowice 2019 2019-03-01 18:35:00       Astralis   \n",
       "\n",
       "               Team 2       Map Team 1 Rounds Team 2 Rounds Total Rounds  \\\n",
       "Match ID                                                                   \n",
       "73726            FaZe  Overpass            16            12           28   \n",
       "59932     mousesports     Cache             2            16           18   \n",
       "18729            LDLC  Overpass            16            19           35   \n",
       "17553      Virtus.pro    Mirage            16            12           28   \n",
       "82095             NiP     Dust2            16            14           30   \n",
       "\n",
       "                 Winner Team 1 FK Team 2 FK Team 1 Clutches Team 2 Clutches  \\\n",
       "Match ID                                                                      \n",
       "73726     Natus Vincere        15        13               2               1   \n",
       "59932       mousesports         7        11               0               2   \n",
       "18729              LDLC        15        20               2               3   \n",
       "17553              LDLC        16        12               2               1   \n",
       "82095          Astralis        19        11               1               0   \n",
       "\n",
       "          Team 1 Rating  Team 2 Rating  \n",
       "Match ID                                \n",
       "73726              1.12           1.00  \n",
       "59932              0.58           1.60  \n",
       "18729              0.99           1.02  \n",
       "17553              1.12           0.84  \n",
       "82095              1.07           0.97  "
      ]
     },
     "execution_count": 11,
     "metadata": {},
     "output_type": "execute_result"
    }
   ],
   "source": [
    "dfMatchStats.sample(5)"
   ]
  },
  {
   "cell_type": "code",
   "execution_count": 12,
   "metadata": {
    "papermill": {
     "duration": 0.242065,
     "end_time": "2019-05-10T18:46:23.871483",
     "exception": false,
     "start_time": "2019-05-10T18:46:23.629418",
     "status": "completed"
    },
    "scrolled": true,
    "tags": []
   },
   "outputs": [
    {
     "data": {
      "text/html": [
       "<div>\n",
       "<style scoped>\n",
       "    .dataframe tbody tr th:only-of-type {\n",
       "        vertical-align: middle;\n",
       "    }\n",
       "\n",
       "    .dataframe tbody tr th {\n",
       "        vertical-align: top;\n",
       "    }\n",
       "\n",
       "    .dataframe thead th {\n",
       "        text-align: right;\n",
       "    }\n",
       "</style>\n",
       "<table border=\"1\" class=\"dataframe\">\n",
       "  <thead>\n",
       "    <tr style=\"text-align: right;\">\n",
       "      <th></th>\n",
       "      <th>Event</th>\n",
       "      <th>Date</th>\n",
       "      <th>Player</th>\n",
       "      <th>Team</th>\n",
       "      <th>Map</th>\n",
       "      <th>Rounds</th>\n",
       "      <th>Kills</th>\n",
       "      <th>Deaths</th>\n",
       "      <th>FK</th>\n",
       "      <th>FD</th>\n",
       "      <th>FK%K</th>\n",
       "      <th>FD%D</th>\n",
       "      <th>Rating</th>\n",
       "    </tr>\n",
       "    <tr>\n",
       "      <th>Match ID</th>\n",
       "      <th></th>\n",
       "      <th></th>\n",
       "      <th></th>\n",
       "      <th></th>\n",
       "      <th></th>\n",
       "      <th></th>\n",
       "      <th></th>\n",
       "      <th></th>\n",
       "      <th></th>\n",
       "      <th></th>\n",
       "      <th></th>\n",
       "      <th></th>\n",
       "      <th></th>\n",
       "    </tr>\n",
       "  </thead>\n",
       "  <tbody>\n",
       "    <tr>\n",
       "      <th>60219</th>\n",
       "      <td>ELEAGUE Major 2018</td>\n",
       "      <td>2018-01-28 19:15:00</td>\n",
       "      <td>rain</td>\n",
       "      <td>FaZe</td>\n",
       "      <td>Inferno</td>\n",
       "      <td>41</td>\n",
       "      <td>17</td>\n",
       "      <td>30</td>\n",
       "      <td>5</td>\n",
       "      <td>7</td>\n",
       "      <td>29.411765</td>\n",
       "      <td>23.333333</td>\n",
       "      <td>0.74</td>\n",
       "    </tr>\n",
       "    <tr>\n",
       "      <th>49710</th>\n",
       "      <td>PGL Major Krakow 2017</td>\n",
       "      <td>2017-07-17 16:10:00</td>\n",
       "      <td>tabseN</td>\n",
       "      <td>BIG</td>\n",
       "      <td>Inferno</td>\n",
       "      <td>27</td>\n",
       "      <td>28</td>\n",
       "      <td>15</td>\n",
       "      <td>4</td>\n",
       "      <td>2</td>\n",
       "      <td>14.285714</td>\n",
       "      <td>13.333333</td>\n",
       "      <td>1.65</td>\n",
       "    </tr>\n",
       "    <tr>\n",
       "      <th>15827</th>\n",
       "      <td>DreamHack Winter 2013</td>\n",
       "      <td>2013-11-28 22:30:00</td>\n",
       "      <td>kennyS</td>\n",
       "      <td>Recursive</td>\n",
       "      <td>Train</td>\n",
       "      <td>26</td>\n",
       "      <td>12</td>\n",
       "      <td>23</td>\n",
       "      <td>1</td>\n",
       "      <td>2</td>\n",
       "      <td>8.333333</td>\n",
       "      <td>8.695652</td>\n",
       "      <td>0.50</td>\n",
       "    </tr>\n",
       "    <tr>\n",
       "      <th>60196</th>\n",
       "      <td>ELEAGUE Major 2018</td>\n",
       "      <td>2018-01-27 23:25:00</td>\n",
       "      <td>tarik</td>\n",
       "      <td>Cloud9</td>\n",
       "      <td>Mirage</td>\n",
       "      <td>19</td>\n",
       "      <td>13</td>\n",
       "      <td>12</td>\n",
       "      <td>2</td>\n",
       "      <td>3</td>\n",
       "      <td>15.384615</td>\n",
       "      <td>25.000000</td>\n",
       "      <td>1.33</td>\n",
       "    </tr>\n",
       "    <tr>\n",
       "      <th>16497</th>\n",
       "      <td>EMS One Katowice 2014</td>\n",
       "      <td>2014-03-14 00:40:00</td>\n",
       "      <td>JW</td>\n",
       "      <td>fnatic</td>\n",
       "      <td>Inferno</td>\n",
       "      <td>22</td>\n",
       "      <td>16</td>\n",
       "      <td>13</td>\n",
       "      <td>4</td>\n",
       "      <td>2</td>\n",
       "      <td>25.000000</td>\n",
       "      <td>15.384615</td>\n",
       "      <td>1.09</td>\n",
       "    </tr>\n",
       "  </tbody>\n",
       "</table>\n",
       "</div>"
      ],
      "text/plain": [
       "                          Event                Date  Player       Team  \\\n",
       "Match ID                                                                 \n",
       "60219        ELEAGUE Major 2018 2018-01-28 19:15:00    rain       FaZe   \n",
       "49710     PGL Major Krakow 2017 2017-07-17 16:10:00  tabseN        BIG   \n",
       "15827     DreamHack Winter 2013 2013-11-28 22:30:00  kennyS  Recursive   \n",
       "60196        ELEAGUE Major 2018 2018-01-27 23:25:00   tarik     Cloud9   \n",
       "16497     EMS One Katowice 2014 2014-03-14 00:40:00      JW     fnatic   \n",
       "\n",
       "              Map Rounds Kills Deaths FK FD       FK%K       FD%D  Rating  \n",
       "Match ID                                                                   \n",
       "60219     Inferno     41    17     30  5  7  29.411765  23.333333    0.74  \n",
       "49710     Inferno     27    28     15  4  2  14.285714  13.333333    1.65  \n",
       "15827       Train     26    12     23  1  2   8.333333   8.695652    0.50  \n",
       "60196      Mirage     19    13     12  2  3  15.384615  25.000000    1.33  \n",
       "16497     Inferno     22    16     13  4  2  25.000000  15.384615    1.09  "
      ]
     },
     "execution_count": 12,
     "metadata": {},
     "output_type": "execute_result"
    }
   ],
   "source": [
    "dfPlayerStats.sample(5)"
   ]
  },
  {
   "cell_type": "markdown",
   "metadata": {
    "papermill": {
     "duration": 0.228061,
     "end_time": "2019-05-10T18:46:24.326585",
     "exception": false,
     "start_time": "2019-05-10T18:46:24.098524",
     "status": "completed"
    },
    "tags": []
   },
   "source": [
    "The list of Major match URLs is converted to a DataFrame and the three DataFrames are converted to CSV files and saved locally."
   ]
  },
  {
   "cell_type": "code",
   "execution_count": 13,
   "metadata": {
    "papermill": {
     "duration": 0.234053,
     "end_time": "2019-05-10T18:46:24.786679",
     "exception": false,
     "start_time": "2019-05-10T18:46:24.552626",
     "status": "completed"
    },
    "tags": []
   },
   "outputs": [],
   "source": [
    "dfHLTVURLs = pd.DataFrame(majorURLList)"
   ]
  },
  {
   "cell_type": "code",
   "execution_count": 14,
   "metadata": {
    "papermill": {
     "duration": 0.318061,
     "end_time": "2019-05-10T18:46:25.330800",
     "exception": false,
     "start_time": "2019-05-10T18:46:25.012739",
     "status": "completed"
    },
    "tags": []
   },
   "outputs": [],
   "source": [
    "dfMatchStats.to_csv(\"MAJOR_MATCH_STATS.csv\", header=True, index=True)\n",
    "dfPlayerStats.to_csv(\"MAJOR_PLAYER_STATS.csv\", header=True, index=True)\n",
    "dfHLTVURLs.to_csv(\"HLTV_URLS.csv\", header=False, index=True)"
   ]
  }
 ],
 "metadata": {
  "celltoolbar": "Tags",
  "kernelspec": {
   "display_name": "Python 3",
   "language": "python",
   "name": "python3"
  },
  "language_info": {
   "codemirror_mode": {
    "name": "ipython",
    "version": 3
   },
   "file_extension": ".py",
   "mimetype": "text/x-python",
   "name": "python",
   "nbconvert_exporter": "python",
   "pygments_lexer": "ipython3",
   "version": "3.7.3"
  },
  "papermill": {
   "duration": 1650.951458,
   "end_time": "2019-05-10T18:46:26.184372",
   "environment_variables": {},
   "exception": null,
   "input_path": "C:\\Users\\ronan\\Documents\\Notebooks\\DSiP Project\\Papermill\\Q1-SCRAPER1-HLTV_STATS.ipynb",
   "output_path": "C:\\Users\\ronan\\Documents\\Notebooks\\DSiP Project\\Papermill\\Q1-SCRAPER1-HLTV_STATS.ipynb",
   "parameters": {
    "scrape": false
   },
   "start_time": "2019-05-10T18:18:55.232914",
   "version": "1.0.0"
  }
 },
 "nbformat": 4,
 "nbformat_minor": 2
}