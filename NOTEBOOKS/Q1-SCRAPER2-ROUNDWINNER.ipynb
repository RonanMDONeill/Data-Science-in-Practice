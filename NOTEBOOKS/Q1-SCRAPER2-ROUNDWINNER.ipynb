{
 "cells": [
  {
   "cell_type": "markdown",
   "metadata": {
    "papermill": {
     "duration": 0.021016,
     "end_time": "2019-05-10T18:46:28.572514",
     "exception": false,
     "start_time": "2019-05-10T18:46:28.551498",
     "status": "completed"
    },
    "tags": []
   },
   "source": [
    "# Scraping for Question 1\n",
    "Scraping necessary data to look at the impact of the opening kill on the win rate of a round and the different factors of an opening kill.\n",
    "\n",
    "This data is taken from DreamTeam.gg, which is an analysis tool used for CS:GO matches. CS:GO matches can be saved afterwards in what are known as \"Demo\" files. DreamTeam uses these demo files to analyse individual matches and pull statistics that are not available on HLTV.org. The data scraped in this notebook is the indivdual round winner of each match.\n",
    "\n",
    "## 2nd Scrape: Round Winner (DreamTeam)\n",
    "The first step is to import the necessary libraries that will be used in this notebook."
   ]
  },
  {
   "cell_type": "code",
   "execution_count": 1,
   "metadata": {
    "papermill": {
     "duration": 1.228899,
     "end_time": "2019-05-10T18:46:29.823409",
     "exception": false,
     "start_time": "2019-05-10T18:46:28.594510",
     "status": "completed"
    },
    "tags": []
   },
   "outputs": [],
   "source": [
    "# Import libraries\n",
    "import pandas as pd\n",
    "import urllib\n",
    "import urllib.request\n",
    "from time import time, sleep\n",
    "import re\n",
    "from loguru import logger\n",
    "import json\n",
    "from pprint import pprint"
   ]
  },
  {
   "cell_type": "markdown",
   "metadata": {
    "papermill": {
     "duration": 0.02216,
     "end_time": "2019-05-10T18:46:29.868874",
     "exception": false,
     "start_time": "2019-05-10T18:46:29.846714",
     "status": "completed"
    },
    "tags": []
   },
   "source": [
    "Next, functions are written that will be used later for various purposes."
   ]
  },
  {
   "cell_type": "code",
   "execution_count": 2,
   "metadata": {
    "papermill": {
     "duration": 0.035008,
     "end_time": "2019-05-10T18:46:29.924896",
     "exception": false,
     "start_time": "2019-05-10T18:46:29.889888",
     "status": "completed"
    },
    "tags": []
   },
   "outputs": [],
   "source": [
    "# Functions\n",
    "\n",
    "# Uses urllib to retrieve webpage and scrape JSON data\n",
    "def get_json(url):\n",
    "    # Retrieve HTML\n",
    "    req = urllib.request.Request(url, headers={\"User-Agent\": \"Mozilla/5.0 (Windows NT 6.1) AppleWebKit/537.36 (KHTML, like Gecko) Chrome/41.0.2228.0 Safari/537.3\"})\n",
    "    page = urllib.request.urlopen(req).read()\n",
    "\n",
    "    # Sleep to prevent overflowing website\n",
    "    sleep(1)\n",
    "\n",
    "    # Output of page returned is JSON, no need for BeautifulSoup\n",
    "    data = json.loads(page)\n",
    "    return data\n",
    "\n",
    "# Build the URL needed for scraping\n",
    "def get_url(MATCHCODE):\n",
    "    url = \"https://api.dreamteam.gg/analytics/csgo/game-analytics-proxy/stats/replays/\" + MATCHCODE + \"/rounds\"\n",
    "    return url\n",
    "    \n",
    "# Scrape round winner details\n",
    "def scrape_round_winner(matchID, event, MATCHCODE):\n",
    "    # Dataframe that contains details for each round\n",
    "    df = pd.DataFrame(columns=[\"Event\", \"Match ID\", \"Round\", \"Winner\", \"Winner Side\", \"Match Winner\"])\n",
    "    \n",
    "    # Get URL\n",
    "    url = get_url(MATCHCODE)\n",
    "        \n",
    "    # Logger message\n",
    "    logger.info('Scraping new match: %s' % url)\n",
    "    \n",
    "    # Get JSON data\n",
    "    data = get_json(url)\n",
    "    \n",
    "    # Get round count for iterating through first kills\n",
    "    roundCount = data[\"total\"]\n",
    "    \n",
    "    # Get details needed from each round and append to DataFrame\n",
    "    for x in range(roundCount):\n",
    "        roundNum = data[\"items\"][x][\"number\"]\n",
    "        roundWinner = data[\"items\"][x][\"winner_team\"]\n",
    "        winnerSide = data[\"items\"][x][\"winner_side\"]\n",
    "        matchWinner = data[\"items\"][roundCount-1][\"winner_team\"]\n",
    "        df = df.append({\"Event\": event, \"Match ID\": matchID, \"Round\": roundNum, \n",
    "                        \"Winner\": roundWinner, \"Winner Side\": winnerSide, \n",
    "                        \"Match Winner\": matchWinner}, ignore_index=True)\n",
    "        \n",
    "    return df"
   ]
  },
  {
   "cell_type": "markdown",
   "metadata": {
    "papermill": {
     "duration": 0.022005,
     "end_time": "2019-05-10T18:46:29.969896",
     "exception": false,
     "start_time": "2019-05-10T18:46:29.947891",
     "status": "completed"
    },
    "tags": []
   },
   "source": [
    "Unlike the previous scrape where the URLs to individual maps were freely available, I had to manually upload the demo files to DreamTeam.gg. After the demo is analysed, the statistics are stored on the website and a URL is given. I combined these URLs with the corresponding HLTV Match ID and event name in a CSV file. Unfortunately, CS:GO recieved an update in 2014 that changed the way demo files are saved. This means that the first two majors, **EMS ONE Katowice 2014 and DREAMHACK Jönköping 2013**, could not be analysed using DreamTeam.\n",
    "\n",
    "To begin, this CSV file is read in and saved to a DataFrame."
   ]
  },
  {
   "cell_type": "code",
   "execution_count": 3,
   "metadata": {
    "papermill": {
     "duration": 0.054021,
     "end_time": "2019-05-10T18:46:30.045923",
     "exception": false,
     "start_time": "2019-05-10T18:46:29.991902",
     "status": "completed"
    },
    "scrolled": false,
    "tags": []
   },
   "outputs": [
    {
     "data": {
      "text/html": [
       "<div>\n",
       "<style scoped>\n",
       "    .dataframe tbody tr th:only-of-type {\n",
       "        vertical-align: middle;\n",
       "    }\n",
       "\n",
       "    .dataframe tbody tr th {\n",
       "        vertical-align: top;\n",
       "    }\n",
       "\n",
       "    .dataframe thead th {\n",
       "        text-align: right;\n",
       "    }\n",
       "</style>\n",
       "<table border=\"1\" class=\"dataframe\">\n",
       "  <thead>\n",
       "    <tr style=\"text-align: right;\">\n",
       "      <th></th>\n",
       "      <th>Event</th>\n",
       "      <th>Dream Team URL</th>\n",
       "      <th>Match ID</th>\n",
       "    </tr>\n",
       "  </thead>\n",
       "  <tbody>\n",
       "    <tr>\n",
       "      <th>0</th>\n",
       "      <td>IEM Katowice 2019</td>\n",
       "      <td>https://dreamteam.gg/csgo/analytics/match/5ca2...</td>\n",
       "      <td>82145.0</td>\n",
       "    </tr>\n",
       "    <tr>\n",
       "      <th>1</th>\n",
       "      <td>IEM Katowice 2019</td>\n",
       "      <td>https://dreamteam.gg/csgo/analytics/match/5c89...</td>\n",
       "      <td>82143.0</td>\n",
       "    </tr>\n",
       "    <tr>\n",
       "      <th>2</th>\n",
       "      <td>IEM Katowice 2019</td>\n",
       "      <td>https://dreamteam.gg/csgo/analytics/match/5cab...</td>\n",
       "      <td>82123.0</td>\n",
       "    </tr>\n",
       "    <tr>\n",
       "      <th>3</th>\n",
       "      <td>IEM Katowice 2019</td>\n",
       "      <td>https://dreamteam.gg/csgo/analytics/match/5c81...</td>\n",
       "      <td>82121.0</td>\n",
       "    </tr>\n",
       "    <tr>\n",
       "      <th>4</th>\n",
       "      <td>IEM Katowice 2019</td>\n",
       "      <td>https://dreamteam.gg/csgo/analytics/match/5c88...</td>\n",
       "      <td>82120.0</td>\n",
       "    </tr>\n",
       "  </tbody>\n",
       "</table>\n",
       "</div>"
      ],
      "text/plain": [
       "               Event                                     Dream Team URL  \\\n",
       "0  IEM Katowice 2019  https://dreamteam.gg/csgo/analytics/match/5ca2...   \n",
       "1  IEM Katowice 2019  https://dreamteam.gg/csgo/analytics/match/5c89...   \n",
       "2  IEM Katowice 2019  https://dreamteam.gg/csgo/analytics/match/5cab...   \n",
       "3  IEM Katowice 2019  https://dreamteam.gg/csgo/analytics/match/5c81...   \n",
       "4  IEM Katowice 2019  https://dreamteam.gg/csgo/analytics/match/5c88...   \n",
       "\n",
       "   Match ID  \n",
       "0   82145.0  \n",
       "1   82143.0  \n",
       "2   82123.0  \n",
       "3   82121.0  \n",
       "4   82120.0  "
      ]
     },
     "execution_count": 3,
     "metadata": {},
     "output_type": "execute_result"
    }
   ],
   "source": [
    "# Read in DreamTeam links from CSV file\n",
    "dfDTLinks = pd.read_csv(\"DREAM_TEAM_LINKS.csv\")\n",
    "dfDTLinks.head(5)"
   ]
  },
  {
   "cell_type": "markdown",
   "metadata": {
    "papermill": {
     "duration": 0.021996,
     "end_time": "2019-05-10T18:46:30.090924",
     "exception": false,
     "start_time": "2019-05-10T18:46:30.068928",
     "status": "completed"
    },
    "tags": []
   },
   "source": [
    "The DataFrame is checked for null values and those null values are then dropped. These correspond to the first two majors and several other matches where the demo file was corrupt."
   ]
  },
  {
   "cell_type": "code",
   "execution_count": 4,
   "metadata": {
    "papermill": {
     "duration": 0.041007,
     "end_time": "2019-05-10T18:46:30.153936",
     "exception": false,
     "start_time": "2019-05-10T18:46:30.112929",
     "status": "completed"
    },
    "tags": []
   },
   "outputs": [
    {
     "name": "stdout",
     "output_type": "stream",
     "text": [
      "-----------------------------------------\n",
      "DataFrame Info\n",
      "<class 'pandas.core.frame.DataFrame'>\n",
      "RangeIndex: 621 entries, 0 to 620\n",
      "Data columns (total 3 columns):\n",
      "Event             621 non-null object\n",
      "Dream Team URL    542 non-null object\n",
      "Match ID          545 non-null float64\n",
      "dtypes: float64(1), object(2)\n",
      "memory usage: 14.6+ KB\n",
      "None\n",
      "-----------------------------------------\n",
      "DataFrame Null Values\n",
      "Event              0\n",
      "Dream Team URL    79\n",
      "Match ID          76\n",
      "dtype: int64\n",
      "-----------------------------------------\n"
     ]
    }
   ],
   "source": [
    "print(\"-----------------------------------------\")\n",
    "print(\"DataFrame Info\")\n",
    "print(dfDTLinks.info())\n",
    "print(\"-----------------------------------------\\nDataFrame Null Values\")\n",
    "print(dfDTLinks.isnull().sum())\n",
    "print(\"-----------------------------------------\")"
   ]
  },
  {
   "cell_type": "code",
   "execution_count": 5,
   "metadata": {
    "papermill": {
     "duration": 0.038018,
     "end_time": "2019-05-10T18:46:30.215961",
     "exception": false,
     "start_time": "2019-05-10T18:46:30.177943",
     "status": "completed"
    },
    "scrolled": true,
    "tags": []
   },
   "outputs": [
    {
     "name": "stdout",
     "output_type": "stream",
     "text": [
      "-----------------------------------------\n",
      "DataFrame Info\n",
      "<class 'pandas.core.frame.DataFrame'>\n",
      "Int64Index: 542 entries, 0 to 544\n",
      "Data columns (total 3 columns):\n",
      "Event             542 non-null object\n",
      "Dream Team URL    542 non-null object\n",
      "Match ID          542 non-null float64\n",
      "dtypes: float64(1), object(2)\n",
      "memory usage: 16.9+ KB\n",
      "None\n",
      "-----------------------------------------\n",
      "DataFrame Null Values\n",
      "Event             0\n",
      "Dream Team URL    0\n",
      "Match ID          0\n",
      "dtype: int64\n",
      "-----------------------------------------\n"
     ]
    }
   ],
   "source": [
    "dfDTLinks = dfDTLinks.dropna(subset=[\"Dream Team URL\"])\n",
    "print(\"-----------------------------------------\")\n",
    "print(\"DataFrame Info\")\n",
    "print(dfDTLinks.info())\n",
    "print(\"-----------------------------------------\\nDataFrame Null Values\")\n",
    "print(dfDTLinks.isnull().sum())\n",
    "print(\"-----------------------------------------\")"
   ]
  },
  {
   "cell_type": "markdown",
   "metadata": {
    "papermill": {
     "duration": 0.022013,
     "end_time": "2019-05-10T18:46:30.260971",
     "exception": false,
     "start_time": "2019-05-10T18:46:30.238958",
     "status": "completed"
    },
    "tags": []
   },
   "source": [
    "The Match ID column is converted from a float to an int to remove the decimal."
   ]
  },
  {
   "cell_type": "code",
   "execution_count": 6,
   "metadata": {
    "papermill": {
     "duration": 0.059014,
     "end_time": "2019-05-10T18:46:30.342981",
     "exception": false,
     "start_time": "2019-05-10T18:46:30.283967",
     "status": "completed"
    },
    "scrolled": true,
    "tags": []
   },
   "outputs": [
    {
     "data": {
      "text/html": [
       "<div>\n",
       "<style scoped>\n",
       "    .dataframe tbody tr th:only-of-type {\n",
       "        vertical-align: middle;\n",
       "    }\n",
       "\n",
       "    .dataframe tbody tr th {\n",
       "        vertical-align: top;\n",
       "    }\n",
       "\n",
       "    .dataframe thead th {\n",
       "        text-align: right;\n",
       "    }\n",
       "</style>\n",
       "<table border=\"1\" class=\"dataframe\">\n",
       "  <thead>\n",
       "    <tr style=\"text-align: right;\">\n",
       "      <th></th>\n",
       "      <th>Event</th>\n",
       "      <th>Dream Team URL</th>\n",
       "      <th>Match ID</th>\n",
       "    </tr>\n",
       "  </thead>\n",
       "  <tbody>\n",
       "    <tr>\n",
       "      <th>0</th>\n",
       "      <td>IEM Katowice 2019</td>\n",
       "      <td>https://dreamteam.gg/csgo/analytics/match/5ca2...</td>\n",
       "      <td>82145</td>\n",
       "    </tr>\n",
       "    <tr>\n",
       "      <th>1</th>\n",
       "      <td>IEM Katowice 2019</td>\n",
       "      <td>https://dreamteam.gg/csgo/analytics/match/5c89...</td>\n",
       "      <td>82143</td>\n",
       "    </tr>\n",
       "    <tr>\n",
       "      <th>2</th>\n",
       "      <td>IEM Katowice 2019</td>\n",
       "      <td>https://dreamteam.gg/csgo/analytics/match/5cab...</td>\n",
       "      <td>82123</td>\n",
       "    </tr>\n",
       "    <tr>\n",
       "      <th>3</th>\n",
       "      <td>IEM Katowice 2019</td>\n",
       "      <td>https://dreamteam.gg/csgo/analytics/match/5c81...</td>\n",
       "      <td>82121</td>\n",
       "    </tr>\n",
       "    <tr>\n",
       "      <th>4</th>\n",
       "      <td>IEM Katowice 2019</td>\n",
       "      <td>https://dreamteam.gg/csgo/analytics/match/5c88...</td>\n",
       "      <td>82120</td>\n",
       "    </tr>\n",
       "  </tbody>\n",
       "</table>\n",
       "</div>"
      ],
      "text/plain": [
       "               Event                                     Dream Team URL  \\\n",
       "0  IEM Katowice 2019  https://dreamteam.gg/csgo/analytics/match/5ca2...   \n",
       "1  IEM Katowice 2019  https://dreamteam.gg/csgo/analytics/match/5c89...   \n",
       "2  IEM Katowice 2019  https://dreamteam.gg/csgo/analytics/match/5cab...   \n",
       "3  IEM Katowice 2019  https://dreamteam.gg/csgo/analytics/match/5c81...   \n",
       "4  IEM Katowice 2019  https://dreamteam.gg/csgo/analytics/match/5c88...   \n",
       "\n",
       "   Match ID  \n",
       "0     82145  \n",
       "1     82143  \n",
       "2     82123  \n",
       "3     82121  \n",
       "4     82120  "
      ]
     },
     "execution_count": 6,
     "metadata": {},
     "output_type": "execute_result"
    }
   ],
   "source": [
    "dfDTLinks[\"Match ID\"] = dfDTLinks[\"Match ID\"].astype(int)\n",
    "dfDTLinks.head(5)"
   ]
  },
  {
   "cell_type": "markdown",
   "metadata": {
    "papermill": {
     "duration": 0.030007,
     "end_time": "2019-05-10T18:46:30.395001",
     "exception": false,
     "start_time": "2019-05-10T18:46:30.364994",
     "status": "completed"
    },
    "tags": []
   },
   "source": [
    "An example of the DreamTeam page is printed."
   ]
  },
  {
   "cell_type": "code",
   "execution_count": 7,
   "metadata": {
    "papermill": {
     "duration": 0.032008,
     "end_time": "2019-05-10T18:46:30.449014",
     "exception": false,
     "start_time": "2019-05-10T18:46:30.417006",
     "status": "completed"
    },
    "tags": []
   },
   "outputs": [
    {
     "name": "stdout",
     "output_type": "stream",
     "text": [
      "https://dreamteam.gg/csgo/analytics/match/5ca233b060aed2024a668693/scoreboard\n"
     ]
    }
   ],
   "source": [
    "print(dfDTLinks.iloc[0][\"Dream Team URL\"])"
   ]
  },
  {
   "cell_type": "markdown",
   "metadata": {
    "papermill": {
     "duration": 0.022005,
     "end_time": "2019-05-10T18:46:30.493023",
     "exception": false,
     "start_time": "2019-05-10T18:46:30.471018",
     "status": "completed"
    },
    "tags": []
   },
   "source": [
    "DreamTeam loads statistics onto the page from an API after loading the intial webpage. An example of this is \"https://api.dreamteam.gg/analytics/csgo/game-analytics-proxy/stats/replays/MATCHCODE/entryfrags\", where MATCHCODE is the alphanumeric identification code that comes before scoreboard in the original URL. So the MATCHCODE is needed from each URL in the dfDTLinks DataFrame.\n",
    "\n",
    "Using the split function, each URL is split by \"/\". The list is converted to a DataFrame, and then the 7th column of this DataFrame is appended to the dfDTLinks DataFrame under the new column: \"MATCHCODE\"."
   ]
  },
  {
   "cell_type": "code",
   "execution_count": 8,
   "metadata": {
    "papermill": {
     "duration": 0.144178,
     "end_time": "2019-05-10T18:46:30.659206",
     "exception": false,
     "start_time": "2019-05-10T18:46:30.515028",
     "status": "completed"
    },
    "tags": []
   },
   "outputs": [
    {
     "data": {
      "text/html": [
       "<div>\n",
       "<style scoped>\n",
       "    .dataframe tbody tr th:only-of-type {\n",
       "        vertical-align: middle;\n",
       "    }\n",
       "\n",
       "    .dataframe tbody tr th {\n",
       "        vertical-align: top;\n",
       "    }\n",
       "\n",
       "    .dataframe thead th {\n",
       "        text-align: right;\n",
       "    }\n",
       "</style>\n",
       "<table border=\"1\" class=\"dataframe\">\n",
       "  <thead>\n",
       "    <tr style=\"text-align: right;\">\n",
       "      <th></th>\n",
       "      <th>0</th>\n",
       "      <th>1</th>\n",
       "      <th>2</th>\n",
       "      <th>3</th>\n",
       "      <th>4</th>\n",
       "      <th>5</th>\n",
       "      <th>6</th>\n",
       "      <th>7</th>\n",
       "    </tr>\n",
       "  </thead>\n",
       "  <tbody>\n",
       "    <tr>\n",
       "      <th>0</th>\n",
       "      <td>https:</td>\n",
       "      <td></td>\n",
       "      <td>dreamteam.gg</td>\n",
       "      <td>csgo</td>\n",
       "      <td>analytics</td>\n",
       "      <td>match</td>\n",
       "      <td>5ca233b060aed2024a668693</td>\n",
       "      <td>scoreboard</td>\n",
       "    </tr>\n",
       "    <tr>\n",
       "      <th>1</th>\n",
       "      <td>https:</td>\n",
       "      <td></td>\n",
       "      <td>dreamteam.gg</td>\n",
       "      <td>csgo</td>\n",
       "      <td>analytics</td>\n",
       "      <td>match</td>\n",
       "      <td>5c89261a56ab9e00774eb492</td>\n",
       "      <td>scoreboard</td>\n",
       "    </tr>\n",
       "    <tr>\n",
       "      <th>2</th>\n",
       "      <td>https:</td>\n",
       "      <td></td>\n",
       "      <td>dreamteam.gg</td>\n",
       "      <td>csgo</td>\n",
       "      <td>analytics</td>\n",
       "      <td>match</td>\n",
       "      <td>5cab5fdc8da20e066d34d792</td>\n",
       "      <td>scoreboard</td>\n",
       "    </tr>\n",
       "    <tr>\n",
       "      <th>3</th>\n",
       "      <td>https:</td>\n",
       "      <td></td>\n",
       "      <td>dreamteam.gg</td>\n",
       "      <td>csgo</td>\n",
       "      <td>analytics</td>\n",
       "      <td>match</td>\n",
       "      <td>5c812acca09b3b01057e9117</td>\n",
       "      <td>scoreboard</td>\n",
       "    </tr>\n",
       "    <tr>\n",
       "      <th>4</th>\n",
       "      <td>https:</td>\n",
       "      <td></td>\n",
       "      <td>dreamteam.gg</td>\n",
       "      <td>csgo</td>\n",
       "      <td>analytics</td>\n",
       "      <td>match</td>\n",
       "      <td>5c887e2f50247d0762798b32</td>\n",
       "      <td>scoreboard</td>\n",
       "    </tr>\n",
       "  </tbody>\n",
       "</table>\n",
       "</div>"
      ],
      "text/plain": [
       "        0 1             2     3          4      5                         6  \\\n",
       "0  https:    dreamteam.gg  csgo  analytics  match  5ca233b060aed2024a668693   \n",
       "1  https:    dreamteam.gg  csgo  analytics  match  5c89261a56ab9e00774eb492   \n",
       "2  https:    dreamteam.gg  csgo  analytics  match  5cab5fdc8da20e066d34d792   \n",
       "3  https:    dreamteam.gg  csgo  analytics  match  5c812acca09b3b01057e9117   \n",
       "4  https:    dreamteam.gg  csgo  analytics  match  5c887e2f50247d0762798b32   \n",
       "\n",
       "            7  \n",
       "0  scoreboard  \n",
       "1  scoreboard  \n",
       "2  scoreboard  \n",
       "3  scoreboard  \n",
       "4  scoreboard  "
      ]
     },
     "execution_count": 8,
     "metadata": {},
     "output_type": "execute_result"
    }
   ],
   "source": [
    "dfSplitURL = dfDTLinks[\"Dream Team URL\"].str.split(\"/\")\n",
    "dfSplitURL = dfSplitURL.apply(pd.Series)\n",
    "dfSplitURL.head(5)"
   ]
  },
  {
   "cell_type": "code",
   "execution_count": 9,
   "metadata": {
    "papermill": {
     "duration": 0.037008,
     "end_time": "2019-05-10T18:46:30.720229",
     "exception": false,
     "start_time": "2019-05-10T18:46:30.683221",
     "status": "completed"
    },
    "scrolled": true,
    "tags": []
   },
   "outputs": [
    {
     "data": {
      "text/html": [
       "<div>\n",
       "<style scoped>\n",
       "    .dataframe tbody tr th:only-of-type {\n",
       "        vertical-align: middle;\n",
       "    }\n",
       "\n",
       "    .dataframe tbody tr th {\n",
       "        vertical-align: top;\n",
       "    }\n",
       "\n",
       "    .dataframe thead th {\n",
       "        text-align: right;\n",
       "    }\n",
       "</style>\n",
       "<table border=\"1\" class=\"dataframe\">\n",
       "  <thead>\n",
       "    <tr style=\"text-align: right;\">\n",
       "      <th></th>\n",
       "      <th>Event</th>\n",
       "      <th>Dream Team URL</th>\n",
       "      <th>Match ID</th>\n",
       "      <th>MATCHCODE</th>\n",
       "    </tr>\n",
       "  </thead>\n",
       "  <tbody>\n",
       "    <tr>\n",
       "      <th>0</th>\n",
       "      <td>IEM Katowice 2019</td>\n",
       "      <td>https://dreamteam.gg/csgo/analytics/match/5ca2...</td>\n",
       "      <td>82145</td>\n",
       "      <td>5ca233b060aed2024a668693</td>\n",
       "    </tr>\n",
       "    <tr>\n",
       "      <th>1</th>\n",
       "      <td>IEM Katowice 2019</td>\n",
       "      <td>https://dreamteam.gg/csgo/analytics/match/5c89...</td>\n",
       "      <td>82143</td>\n",
       "      <td>5c89261a56ab9e00774eb492</td>\n",
       "    </tr>\n",
       "    <tr>\n",
       "      <th>2</th>\n",
       "      <td>IEM Katowice 2019</td>\n",
       "      <td>https://dreamteam.gg/csgo/analytics/match/5cab...</td>\n",
       "      <td>82123</td>\n",
       "      <td>5cab5fdc8da20e066d34d792</td>\n",
       "    </tr>\n",
       "    <tr>\n",
       "      <th>3</th>\n",
       "      <td>IEM Katowice 2019</td>\n",
       "      <td>https://dreamteam.gg/csgo/analytics/match/5c81...</td>\n",
       "      <td>82121</td>\n",
       "      <td>5c812acca09b3b01057e9117</td>\n",
       "    </tr>\n",
       "    <tr>\n",
       "      <th>4</th>\n",
       "      <td>IEM Katowice 2019</td>\n",
       "      <td>https://dreamteam.gg/csgo/analytics/match/5c88...</td>\n",
       "      <td>82120</td>\n",
       "      <td>5c887e2f50247d0762798b32</td>\n",
       "    </tr>\n",
       "  </tbody>\n",
       "</table>\n",
       "</div>"
      ],
      "text/plain": [
       "               Event                                     Dream Team URL  \\\n",
       "0  IEM Katowice 2019  https://dreamteam.gg/csgo/analytics/match/5ca2...   \n",
       "1  IEM Katowice 2019  https://dreamteam.gg/csgo/analytics/match/5c89...   \n",
       "2  IEM Katowice 2019  https://dreamteam.gg/csgo/analytics/match/5cab...   \n",
       "3  IEM Katowice 2019  https://dreamteam.gg/csgo/analytics/match/5c81...   \n",
       "4  IEM Katowice 2019  https://dreamteam.gg/csgo/analytics/match/5c88...   \n",
       "\n",
       "   Match ID                 MATCHCODE  \n",
       "0     82145  5ca233b060aed2024a668693  \n",
       "1     82143  5c89261a56ab9e00774eb492  \n",
       "2     82123  5cab5fdc8da20e066d34d792  \n",
       "3     82121  5c812acca09b3b01057e9117  \n",
       "4     82120  5c887e2f50247d0762798b32  "
      ]
     },
     "execution_count": 9,
     "metadata": {},
     "output_type": "execute_result"
    }
   ],
   "source": [
    "dfDTLinks[\"MATCHCODE\"] = dfSplitURL[6]\n",
    "dfDTLinks.head(5)"
   ]
  },
  {
   "cell_type": "markdown",
   "metadata": {
    "papermill": {
     "duration": 0.023005,
     "end_time": "2019-05-10T18:46:30.766239",
     "exception": false,
     "start_time": "2019-05-10T18:46:30.743234",
     "status": "completed"
    },
    "tags": []
   },
   "source": [
    "The MATCHCODE column is then converted in a list for use in scraping later."
   ]
  },
  {
   "cell_type": "code",
   "execution_count": 10,
   "metadata": {
    "papermill": {
     "duration": 0.035019,
     "end_time": "2019-05-10T18:46:30.825254",
     "exception": false,
     "start_time": "2019-05-10T18:46:30.790235",
     "status": "completed"
    },
    "scrolled": true,
    "tags": []
   },
   "outputs": [
    {
     "data": {
      "text/plain": [
       "0      5ca233b060aed2024a668693\n",
       "1      5c89261a56ab9e00774eb492\n",
       "2      5cab5fdc8da20e066d34d792\n",
       "3      5c812acca09b3b01057e9117\n",
       "4      5c887e2f50247d0762798b32\n",
       "5      5ca22dcfbcf70a024001c0c3\n",
       "6      5ca22e408da20e026a4f0fc3\n",
       "7      5ca23570d35cfb023c7b2d92\n",
       "8      5c7a93914bd41105690c4472\n",
       "9      5cab600bdbb10b066f55dfe2\n",
       "10     5ca257b260aed202884dcb62\n",
       "11     5c78bd9113771d03f809d692\n",
       "12     5c7a93c1ac1fca051d27f453\n",
       "13     5ca2589cbcf70a02726f6a24\n",
       "14     5c9813090314b40aec21a2d4\n",
       "15     5c75901372e92601bc59a4d3\n",
       "16     5ca259548da20e029221d282\n",
       "17     5ca2597260aed20279507b62\n",
       "18     5cab60c36bd0f9062e2d4245\n",
       "19     5cab60e36bd0f9065050ac53\n",
       "20     5ca25adc8da20e029221d283\n",
       "21     5ca25bb8bcf70a02726f6a26\n",
       "22     5ca25cfbd43602024526e6b2\n",
       "23     5ca25d1560aed202884dcb64\n",
       "24     5ca25d26d43602024526e6b3\n",
       "25     5ca25dcd60aed200434a88a5\n",
       "26     5ca25ddbc0f32a02571dd612\n",
       "27     5ca25df260aed20279507b63\n",
       "28     5ca25e54bcf70a02726f6a27\n",
       "29     5ca25e8160aed20279507b64\n",
       "                 ...           \n",
       "515    5caa375260aed205c14311d5\n",
       "516    5caa3757d43602057e2452d6\n",
       "517    5caa37f76bd0f905dd001624\n",
       "518    5caa37fc3cb88705cc46dd22\n",
       "519    5caa3800dbb10b060e4276e3\n",
       "520    5caa3805d35cfb058870f0f3\n",
       "521    5caa380ad35cfb058870f0f4\n",
       "522    5caa387060aed20602641df2\n",
       "523    5caa3874dbb10b05f37119b3\n",
       "524    5caa387927b8d805de4a9404\n",
       "525    5caa387d3cb8870418066d69\n",
       "526    5caa38828da20e06010dd5e2\n",
       "527    5caa38ca27b8d805de4a9405\n",
       "528    5caa38cf8da20e06010dd5e3\n",
       "529    5caa38d327b8d805de4a9406\n",
       "530    5caa38d76bd0f905dd001625\n",
       "531    5caa38dc8da20e06010dd5e4\n",
       "532    5caa393a6bd0f905dd001626\n",
       "533    5caa393e6bd0f905dd001627\n",
       "534    5caa3942d35cfb058870f0f5\n",
       "535    5caa3947d43602059e086412\n",
       "536    5caa394b27b8d8060f498f45\n",
       "537    5caa3979d35cfb058870f0f6\n",
       "538    5caa397f8da20e060938d382\n",
       "539    5caa3983bcf70a061d78d463\n",
       "540    5caa39873cb8870418066d6a\n",
       "541    5caa398cdbb10b05f37119b4\n",
       "542    5caa39bbd43602057e2452d7\n",
       "543    5caa39bf3cb88705cc46dd23\n",
       "544    5caa39c3d436020565490336\n",
       "Name: MATCHCODE, Length: 542, dtype: object"
      ]
     },
     "execution_count": 10,
     "metadata": {},
     "output_type": "execute_result"
    }
   ],
   "source": [
    "matchcodeList = dfDTLinks[\"MATCHCODE\"]\n",
    "matchcodeList"
   ]
  },
  {
   "cell_type": "markdown",
   "metadata": {
    "papermill": {
     "duration": 0.023006,
     "end_time": "2019-05-10T18:46:30.872265",
     "exception": false,
     "start_time": "2019-05-10T18:46:30.849259",
     "status": "completed"
    },
    "tags": []
   },
   "source": [
    "DreamTeam's API stores data in JSON form, so instead of using BeautifulSoup, the function json.loads() is used instead. An example is retrieved and printed in JSON format using PrettyPrint. The JSON holds an item for each round which tells which team one the round and various other factors."
   ]
  },
  {
   "cell_type": "code",
   "execution_count": 11,
   "metadata": {
    "papermill": {
     "duration": 1.533082,
     "end_time": "2019-05-10T18:46:32.430352",
     "exception": false,
     "start_time": "2019-05-10T18:46:30.897270",
     "status": "completed"
    },
    "tags": []
   },
   "outputs": [
    {
     "name": "stdout",
     "output_type": "stream",
     "text": [
      "{'items': [{'number': 1,\n",
      "            'reason': 'terrorist_win',\n",
      "            'teams': [{'name': 'Astralis', 'side': 'terrorist'},\n",
      "                      {'name': 'ENCE', 'side': 'ct'}],\n",
      "            'winner_side': 'terrorist',\n",
      "            'winner_team': 'Astralis'},\n",
      "           {'number': 2,\n",
      "            'reason': 'terrorist_win',\n",
      "            'teams': [{'name': 'Astralis', 'side': 'terrorist'},\n",
      "                      {'name': 'ENCE', 'side': 'ct'}],\n",
      "            'winner_side': 'terrorist',\n",
      "            'winner_team': 'Astralis'},\n",
      "           {'number': 3,\n",
      "            'reason': None,\n",
      "            'teams': [{'name': 'Astralis', 'side': 'terrorist'},\n",
      "                      {'name': 'ENCE', 'side': 'ct'}],\n",
      "            'winner_side': None,\n",
      "            'winner_team': None},\n",
      "           {'number': 4,\n",
      "            'reason': 'terrorist_win',\n",
      "            'teams': [{'name': 'Astralis', 'side': 'terrorist'},\n",
      "                      {'name': 'ENCE', 'side': 'ct'}],\n",
      "            'winner_side': 'terrorist',\n",
      "            'winner_team': 'Astralis'},\n",
      "           {'number': 5,\n",
      "            'reason': 'target_bombed',\n",
      "            'teams': [{'name': 'Astralis', 'side': 'terrorist'},\n",
      "                      {'name': 'ENCE', 'side': 'ct'}],\n",
      "            'winner_side': 'terrorist',\n",
      "            'winner_team': 'Astralis'},\n",
      "           {'number': 6,\n",
      "            'reason': 'terrorist_win',\n",
      "            'teams': [{'name': 'Astralis', 'side': 'terrorist'},\n",
      "                      {'name': 'ENCE', 'side': 'ct'}],\n",
      "            'winner_side': 'terrorist',\n",
      "            'winner_team': 'Astralis'},\n",
      "           {'number': 7,\n",
      "            'reason': None,\n",
      "            'teams': [{'name': 'Astralis', 'side': 'terrorist'},\n",
      "                      {'name': 'ENCE', 'side': 'ct'}],\n",
      "            'winner_side': None,\n",
      "            'winner_team': None},\n",
      "           {'number': 8,\n",
      "            'reason': 'terrorist_win',\n",
      "            'teams': [{'name': 'Astralis', 'side': 'terrorist'},\n",
      "                      {'name': 'ENCE', 'side': 'ct'}],\n",
      "            'winner_side': 'terrorist',\n",
      "            'winner_team': 'Astralis'},\n",
      "           {'number': 9,\n",
      "            'reason': None,\n",
      "            'teams': [{'name': 'Astralis', 'side': 'terrorist'},\n",
      "                      {'name': 'ENCE', 'side': 'ct'}],\n",
      "            'winner_side': None,\n",
      "            'winner_team': None},\n",
      "           {'number': 10,\n",
      "            'reason': 'terrorist_win',\n",
      "            'teams': [{'name': 'Astralis', 'side': 'terrorist'},\n",
      "                      {'name': 'ENCE', 'side': 'ct'}],\n",
      "            'winner_side': 'terrorist',\n",
      "            'winner_team': 'Astralis'},\n",
      "           {'number': 11,\n",
      "            'reason': 'ct_win',\n",
      "            'teams': [{'name': 'Astralis', 'side': 'terrorist'},\n",
      "                      {'name': 'ENCE', 'side': 'ct'}],\n",
      "            'winner_side': 'ct',\n",
      "            'winner_team': 'ENCE'},\n",
      "           {'number': 12,\n",
      "            'reason': 'terrorist_win',\n",
      "            'teams': [{'name': 'Astralis', 'side': 'terrorist'},\n",
      "                      {'name': 'ENCE', 'side': 'ct'}],\n",
      "            'winner_side': 'terrorist',\n",
      "            'winner_team': 'Astralis'},\n",
      "           {'number': 13,\n",
      "            'reason': 'terrorist_win',\n",
      "            'teams': [{'name': 'Astralis', 'side': 'terrorist'},\n",
      "                      {'name': 'ENCE', 'side': 'ct'}],\n",
      "            'winner_side': 'terrorist',\n",
      "            'winner_team': 'Astralis'},\n",
      "           {'number': 14,\n",
      "            'reason': 'terrorist_win',\n",
      "            'teams': [{'name': 'Astralis', 'side': 'terrorist'},\n",
      "                      {'name': 'ENCE', 'side': 'ct'}],\n",
      "            'winner_side': 'terrorist',\n",
      "            'winner_team': 'Astralis'},\n",
      "           {'number': 15,\n",
      "            'reason': 'terrorist_win',\n",
      "            'teams': [{'name': 'Astralis', 'side': 'terrorist'},\n",
      "                      {'name': 'ENCE', 'side': 'ct'}],\n",
      "            'winner_side': 'terrorist',\n",
      "            'winner_team': 'Astralis'},\n",
      "           {'number': 16,\n",
      "            'reason': 'terrorist_win',\n",
      "            'teams': [{'name': 'ENCE', 'side': 'terrorist'},\n",
      "                      {'name': 'Astralis', 'side': 'ct'}],\n",
      "            'winner_side': 'terrorist',\n",
      "            'winner_team': 'ENCE'},\n",
      "           {'number': 17,\n",
      "            'reason': None,\n",
      "            'teams': [{'name': 'ENCE', 'side': 'terrorist'},\n",
      "                      {'name': 'Astralis', 'side': 'ct'}],\n",
      "            'winner_side': None,\n",
      "            'winner_team': None},\n",
      "           {'number': 18,\n",
      "            'reason': 'terrorist_win',\n",
      "            'teams': [{'name': 'ENCE', 'side': 'terrorist'},\n",
      "                      {'name': 'Astralis', 'side': 'ct'}],\n",
      "            'winner_side': 'terrorist',\n",
      "            'winner_team': 'ENCE'},\n",
      "           {'number': 19,\n",
      "            'reason': None,\n",
      "            'teams': [{'name': 'ENCE', 'side': 'terrorist'},\n",
      "                      {'name': 'Astralis', 'side': 'ct'}],\n",
      "            'winner_side': None,\n",
      "            'winner_team': None},\n",
      "           {'number': 20,\n",
      "            'reason': 'ct_win',\n",
      "            'teams': [{'name': 'ENCE', 'side': 'terrorist'},\n",
      "                      {'name': 'Astralis', 'side': 'ct'}],\n",
      "            'winner_side': 'ct',\n",
      "            'winner_team': 'Astralis'}],\n",
      " 'total': 20}\n"
     ]
    }
   ],
   "source": [
    "# Form URL\n",
    "testURL = get_url(matchcodeList[0])\n",
    "\n",
    "# Get JSON data\n",
    "data = get_json(testURL)\n",
    "\n",
    "# Pretty Printer to show example of JSON output\n",
    "pprint(data)"
   ]
  },
  {
   "cell_type": "markdown",
   "metadata": {
    "papermill": {
     "duration": 0.023767,
     "end_time": "2019-05-10T18:46:32.479133",
     "exception": false,
     "start_time": "2019-05-10T18:46:32.455366",
     "status": "completed"
    },
    "tags": []
   },
   "source": [
    "The full round winner dataset is then scraped and the Match ID and Event for each corresponding match is taken from the dfDTLinks DataFrame and appended."
   ]
  },
  {
   "cell_type": "code",
   "execution_count": 12,
   "metadata": {
    "papermill": {
     "duration": 821.205122,
     "end_time": "2019-05-10T19:00:13.709270",
     "exception": false,
     "start_time": "2019-05-10T18:46:32.504148",
     "status": "completed"
    },
    "scrolled": true,
    "tags": []
   },
   "outputs": [
    {
     "name": "stderr",
     "output_type": "stream",
     "text": [
      "2019-05-10 19:46:32.539 | INFO     | __main__:scrape_round_winner:30 - Scraping new match: https://api.dreamteam.gg/analytics/csgo/game-analytics-proxy/stats/replays/5ca233b060aed2024a668693/rounds\n"
     ]
    },
    {
     "name": "stderr",
     "output_type": "stream",
     "text": [
      "2019-05-10 19:46:34.039 | INFO     | __main__:scrape_round_winner:30 - Scraping new match: https://api.dreamteam.gg/analytics/csgo/game-analytics-proxy/stats/replays/5c89261a56ab9e00774eb492/rounds\n"
     ]
    },
    {
     "name": "stderr",
     "output_type": "stream",
     "text": [
      "2019-05-10 19:46:35.544 | INFO     | __main__:scrape_round_winner:30 - Scraping new match: https://api.dreamteam.gg/analytics/csgo/game-analytics-proxy/stats/replays/5cab5fdc8da20e066d34d792/rounds\n"
     ]
    },
    {
     "name": "stderr",
     "output_type": "stream",
     "text": [
      "2019-05-10 19:46:37.051 | INFO     | __main__:scrape_round_winner:30 - Scraping new match: https://api.dreamteam.gg/analytics/csgo/game-analytics-proxy/stats/replays/5c812acca09b3b01057e9117/rounds\n"
     ]
    },
    {
     "name": "stderr",
     "output_type": "stream",
     "text": [
      "2019-05-10 19:46:38.579 | INFO     | __main__:scrape_round_winner:30 - Scraping new match: https://api.dreamteam.gg/analytics/csgo/game-analytics-proxy/stats/replays/5c887e2f50247d0762798b32/rounds\n"
     ]
    },
    {
     "name": "stderr",
     "output_type": "stream",
     "text": [
      "2019-05-10 19:46:40.109 | INFO     | __main__:scrape_round_winner:30 - Scraping new match: https://api.dreamteam.gg/analytics/csgo/game-analytics-proxy/stats/replays/5ca22dcfbcf70a024001c0c3/rounds\n"
     ]
    },
    {
     "name": "stderr",
     "output_type": "stream",
     "text": [
      "2019-05-10 19:46:41.596 | INFO     | __main__:scrape_round_winner:30 - Scraping new match: https://api.dreamteam.gg/analytics/csgo/game-analytics-proxy/stats/replays/5ca22e408da20e026a4f0fc3/rounds\n"
     ]
    },
    {
     "name": "stderr",
     "output_type": "stream",
     "text": [
      "2019-05-10 19:46:43.097 | INFO     | __main__:scrape_round_winner:30 - Scraping new match: https://api.dreamteam.gg/analytics/csgo/game-analytics-proxy/stats/replays/5ca23570d35cfb023c7b2d92/rounds\n"
     ]
    },
    {
     "name": "stderr",
     "output_type": "stream",
     "text": [
      "2019-05-10 19:46:44.608 | INFO     | __main__:scrape_round_winner:30 - Scraping new match: https://api.dreamteam.gg/analytics/csgo/game-analytics-proxy/stats/replays/5c7a93914bd41105690c4472/rounds\n"
     ]
    },
    {
     "name": "stderr",
     "output_type": "stream",
     "text": [
      "2019-05-10 19:46:46.071 | INFO     | __main__:scrape_round_winner:30 - Scraping new match: https://api.dreamteam.gg/analytics/csgo/game-analytics-proxy/stats/replays/5cab600bdbb10b066f55dfe2/rounds\n"
     ]
    },
    {
     "name": "stderr",
     "output_type": "stream",
     "text": [
      "2019-05-10 19:46:47.565 | INFO     | __main__:scrape_round_winner:30 - Scraping new match: https://api.dreamteam.gg/analytics/csgo/game-analytics-proxy/stats/replays/5ca257b260aed202884dcb62/rounds\n"
     ]
    },
    {
     "name": "stderr",
     "output_type": "stream",
     "text": [
      "2019-05-10 19:46:49.053 | INFO     | __main__:scrape_round_winner:30 - Scraping new match: https://api.dreamteam.gg/analytics/csgo/game-analytics-proxy/stats/replays/5c78bd9113771d03f809d692/rounds\n"
     ]
    },
    {
     "name": "stderr",
     "output_type": "stream",
     "text": [
      "2019-05-10 19:46:50.590 | INFO     | __main__:scrape_round_winner:30 - Scraping new match: https://api.dreamteam.gg/analytics/csgo/game-analytics-proxy/stats/replays/5c7a93c1ac1fca051d27f453/rounds\n"
     ]
    },
    {
     "name": "stderr",
     "output_type": "stream",
     "text": [
      "2019-05-10 19:46:52.122 | INFO     | __main__:scrape_round_winner:30 - Scraping new match: https://api.dreamteam.gg/analytics/csgo/game-analytics-proxy/stats/replays/5ca2589cbcf70a02726f6a24/rounds\n"
     ]
    },
    {
     "name": "stderr",
     "output_type": "stream",
     "text": [
      "2019-05-10 19:46:53.610 | INFO     | __main__:scrape_round_winner:30 - Scraping new match: https://api.dreamteam.gg/analytics/csgo/game-analytics-proxy/stats/replays/5c9813090314b40aec21a2d4/rounds\n"
     ]
    },
    {
     "name": "stderr",
     "output_type": "stream",
     "text": [
      "2019-05-10 19:46:55.104 | INFO     | __main__:scrape_round_winner:30 - Scraping new match: https://api.dreamteam.gg/analytics/csgo/game-analytics-proxy/stats/replays/5c75901372e92601bc59a4d3/rounds\n"
     ]
    },
    {
     "name": "stderr",
     "output_type": "stream",
     "text": [
      "2019-05-10 19:46:56.599 | INFO     | __main__:scrape_round_winner:30 - Scraping new match: https://api.dreamteam.gg/analytics/csgo/game-analytics-proxy/stats/replays/5ca259548da20e029221d282/rounds\n"
     ]
    },
    {
     "name": "stderr",
     "output_type": "stream",
     "text": [
      "2019-05-10 19:46:58.121 | INFO     | __main__:scrape_round_winner:30 - Scraping new match: https://api.dreamteam.gg/analytics/csgo/game-analytics-proxy/stats/replays/5ca2597260aed20279507b62/rounds\n"
     ]
    },
    {
     "name": "stderr",
     "output_type": "stream",
     "text": [
      "2019-05-10 19:46:59.607 | INFO     | __main__:scrape_round_winner:30 - Scraping new match: https://api.dreamteam.gg/analytics/csgo/game-analytics-proxy/stats/replays/5cab60c36bd0f9062e2d4245/rounds\n"
     ]
    },
    {
     "name": "stderr",
     "output_type": "stream",
     "text": [
      "2019-05-10 19:47:01.098 | INFO     | __main__:scrape_round_winner:30 - Scraping new match: https://api.dreamteam.gg/analytics/csgo/game-analytics-proxy/stats/replays/5cab60e36bd0f9065050ac53/rounds\n"
     ]
    },
    {
     "name": "stderr",
     "output_type": "stream",
     "text": [
      "2019-05-10 19:47:02.599 | INFO     | __main__:scrape_round_winner:30 - Scraping new match: https://api.dreamteam.gg/analytics/csgo/game-analytics-proxy/stats/replays/5ca25adc8da20e029221d283/rounds\n"
     ]
    },
    {
     "name": "stderr",
     "output_type": "stream",
     "text": [
      "2019-05-10 19:47:04.087 | INFO     | __main__:scrape_round_winner:30 - Scraping new match: https://api.dreamteam.gg/analytics/csgo/game-analytics-proxy/stats/replays/5ca25bb8bcf70a02726f6a26/rounds\n"
     ]
    },
    {
     "name": "stderr",
     "output_type": "stream",
     "text": [
      "2019-05-10 19:47:05.599 | INFO     | __main__:scrape_round_winner:30 - Scraping new match: https://api.dreamteam.gg/analytics/csgo/game-analytics-proxy/stats/replays/5ca25cfbd43602024526e6b2/rounds\n"
     ]
    },
    {
     "name": "stderr",
     "output_type": "stream",
     "text": [
      "2019-05-10 19:47:07.109 | INFO     | __main__:scrape_round_winner:30 - Scraping new match: https://api.dreamteam.gg/analytics/csgo/game-analytics-proxy/stats/replays/5ca25d1560aed202884dcb64/rounds\n"
     ]
    },
    {
     "name": "stderr",
     "output_type": "stream",
     "text": [
      "2019-05-10 19:47:08.630 | INFO     | __main__:scrape_round_winner:30 - Scraping new match: https://api.dreamteam.gg/analytics/csgo/game-analytics-proxy/stats/replays/5ca25d26d43602024526e6b3/rounds\n"
     ]
    },
    {
     "name": "stderr",
     "output_type": "stream",
     "text": [
      "2019-05-10 19:47:10.131 | INFO     | __main__:scrape_round_winner:30 - Scraping new match: https://api.dreamteam.gg/analytics/csgo/game-analytics-proxy/stats/replays/5ca25dcd60aed200434a88a5/rounds\n"
     ]
    },
    {
     "name": "stderr",
     "output_type": "stream",
     "text": [
      "2019-05-10 19:47:11.629 | INFO     | __main__:scrape_round_winner:30 - Scraping new match: https://api.dreamteam.gg/analytics/csgo/game-analytics-proxy/stats/replays/5ca25ddbc0f32a02571dd612/rounds\n"
     ]
    },
    {
     "name": "stderr",
     "output_type": "stream",
     "text": [
      "2019-05-10 19:47:13.111 | INFO     | __main__:scrape_round_winner:30 - Scraping new match: https://api.dreamteam.gg/analytics/csgo/game-analytics-proxy/stats/replays/5ca25df260aed20279507b63/rounds\n"
     ]
    },
    {
     "name": "stderr",
     "output_type": "stream",
     "text": [
      "2019-05-10 19:47:14.599 | INFO     | __main__:scrape_round_winner:30 - Scraping new match: https://api.dreamteam.gg/analytics/csgo/game-analytics-proxy/stats/replays/5ca25e54bcf70a02726f6a27/rounds\n"
     ]
    },
    {
     "name": "stderr",
     "output_type": "stream",
     "text": [
      "2019-05-10 19:47:16.131 | INFO     | __main__:scrape_round_winner:30 - Scraping new match: https://api.dreamteam.gg/analytics/csgo/game-analytics-proxy/stats/replays/5ca25e8160aed20279507b64/rounds\n"
     ]
    },
    {
     "name": "stderr",
     "output_type": "stream",
     "text": [
      "2019-05-10 19:47:17.679 | INFO     | __main__:scrape_round_winner:30 - Scraping new match: https://api.dreamteam.gg/analytics/csgo/game-analytics-proxy/stats/replays/5ca26000dbb10b02a15750d2/rounds\n"
     ]
    },
    {
     "name": "stderr",
     "output_type": "stream",
     "text": [
      "2019-05-10 19:47:19.180 | INFO     | __main__:scrape_round_winner:30 - Scraping new match: https://api.dreamteam.gg/analytics/csgo/game-analytics-proxy/stats/replays/5ca2600c8da20e026a4f0fc5/rounds\n"
     ]
    },
    {
     "name": "stderr",
     "output_type": "stream",
     "text": [
      "2019-05-10 19:47:20.691 | INFO     | __main__:scrape_round_winner:30 - Scraping new match: https://api.dreamteam.gg/analytics/csgo/game-analytics-proxy/stats/replays/5ca260136bd0f9026b37cb74/rounds\n"
     ]
    },
    {
     "name": "stderr",
     "output_type": "stream",
     "text": [
      "2019-05-10 19:47:22.206 | INFO     | __main__:scrape_round_winner:30 - Scraping new match: https://api.dreamteam.gg/analytics/csgo/game-analytics-proxy/stats/replays/5ca260cd27b8d8026d731022/rounds\n"
     ]
    },
    {
     "name": "stderr",
     "output_type": "stream",
     "text": [
      "2019-05-10 19:47:23.919 | INFO     | __main__:scrape_round_winner:30 - Scraping new match: https://api.dreamteam.gg/analytics/csgo/game-analytics-proxy/stats/replays/5ca260d3d35cfb023c7b2d94/rounds\n"
     ]
    },
    {
     "name": "stderr",
     "output_type": "stream",
     "text": [
      "2019-05-10 19:47:25.606 | INFO     | __main__:scrape_round_winner:30 - Scraping new match: https://api.dreamteam.gg/analytics/csgo/game-analytics-proxy/stats/replays/5ca260d960aed2029151cde2/rounds\n"
     ]
    },
    {
     "name": "stderr",
     "output_type": "stream",
     "text": [
      "2019-05-10 19:47:27.308 | INFO     | __main__:scrape_round_winner:30 - Scraping new match: https://api.dreamteam.gg/analytics/csgo/game-analytics-proxy/stats/replays/5ca262bbbcf70a02726f6a29/rounds\n"
     ]
    },
    {
     "name": "stderr",
     "output_type": "stream",
     "text": [
      "2019-05-10 19:47:29.005 | INFO     | __main__:scrape_round_winner:30 - Scraping new match: https://api.dreamteam.gg/analytics/csgo/game-analytics-proxy/stats/replays/5ca262c227b8d8026d731023/rounds\n"
     ]
    },
    {
     "name": "stderr",
     "output_type": "stream",
     "text": [
      "2019-05-10 19:47:30.551 | INFO     | __main__:scrape_round_winner:30 - Scraping new match: https://api.dreamteam.gg/analytics/csgo/game-analytics-proxy/stats/replays/5ca262c8bcf70a02726f6a2a/rounds\n"
     ]
    },
    {
     "name": "stderr",
     "output_type": "stream",
     "text": [
      "2019-05-10 19:47:32.126 | INFO     | __main__:scrape_round_winner:30 - Scraping new match: https://api.dreamteam.gg/analytics/csgo/game-analytics-proxy/stats/replays/5ca262cfd43602024526e6b4/rounds\n"
     ]
    },
    {
     "name": "stderr",
     "output_type": "stream",
     "text": [
      "2019-05-10 19:47:34.195 | INFO     | __main__:scrape_round_winner:30 - Scraping new match: https://api.dreamteam.gg/analytics/csgo/game-analytics-proxy/stats/replays/5ca262d6d35cfb023c7b2d95/rounds\n"
     ]
    },
    {
     "name": "stderr",
     "output_type": "stream",
     "text": [
      "2019-05-10 19:47:35.743 | INFO     | __main__:scrape_round_winner:30 - Scraping new match: https://api.dreamteam.gg/analytics/csgo/game-analytics-proxy/stats/replays/5ca265b9dbb10b02a15750d3/rounds\n"
     ]
    },
    {
     "name": "stderr",
     "output_type": "stream",
     "text": [
      "2019-05-10 19:47:37.239 | INFO     | __main__:scrape_round_winner:30 - Scraping new match: https://api.dreamteam.gg/analytics/csgo/game-analytics-proxy/stats/replays/5ca265bfd35cfb00412fe6d3/rounds\n"
     ]
    },
    {
     "name": "stderr",
     "output_type": "stream",
     "text": [
      "2019-05-10 19:47:38.770 | INFO     | __main__:scrape_round_winner:30 - Scraping new match: https://api.dreamteam.gg/analytics/csgo/game-analytics-proxy/stats/replays/5ca265c46bd0f9026b37cb75/rounds\n"
     ]
    },
    {
     "name": "stderr",
     "output_type": "stream",
     "text": [
      "2019-05-10 19:47:40.313 | INFO     | __main__:scrape_round_winner:30 - Scraping new match: https://api.dreamteam.gg/analytics/csgo/game-analytics-proxy/stats/replays/5ca265cac0f32a02571dd614/rounds\n"
     ]
    },
    {
     "name": "stderr",
     "output_type": "stream",
     "text": [
      "2019-05-10 19:47:41.840 | INFO     | __main__:scrape_round_winner:30 - Scraping new match: https://api.dreamteam.gg/analytics/csgo/game-analytics-proxy/stats/replays/5cac878f27b8d806ee6e6b22/rounds\n"
     ]
    },
    {
     "name": "stderr",
     "output_type": "stream",
     "text": [
      "2019-05-10 19:47:43.308 | INFO     | __main__:scrape_round_winner:30 - Scraping new match: https://api.dreamteam.gg/analytics/csgo/game-analytics-proxy/stats/replays/5c70249285edcb028f24eac3/rounds\n"
     ]
    },
    {
     "name": "stderr",
     "output_type": "stream",
     "text": [
      "2019-05-10 19:47:44.790 | INFO     | __main__:scrape_round_winner:30 - Scraping new match: https://api.dreamteam.gg/analytics/csgo/game-analytics-proxy/stats/replays/5ca2702ad35cfb023c7b2d99/rounds\n"
     ]
    },
    {
     "name": "stderr",
     "output_type": "stream",
     "text": [
      "2019-05-10 19:47:46.327 | INFO     | __main__:scrape_round_winner:30 - Scraping new match: https://api.dreamteam.gg/analytics/csgo/game-analytics-proxy/stats/replays/5c75539713967c01441e31e2/rounds\n"
     ]
    },
    {
     "name": "stderr",
     "output_type": "stream",
     "text": [
      "2019-05-10 19:47:47.869 | INFO     | __main__:scrape_round_winner:30 - Scraping new match: https://api.dreamteam.gg/analytics/csgo/game-analytics-proxy/stats/replays/5ca27051c0f32a02720a2202/rounds\n"
     ]
    },
    {
     "name": "stderr",
     "output_type": "stream",
     "text": [
      "2019-05-10 19:47:49.611 | INFO     | __main__:scrape_round_winner:30 - Scraping new match: https://api.dreamteam.gg/analytics/csgo/game-analytics-proxy/stats/replays/5ca2705cc0f32a02571dd615/rounds\n"
     ]
    },
    {
     "name": "stderr",
     "output_type": "stream",
     "text": [
      "2019-05-10 19:47:51.118 | INFO     | __main__:scrape_round_winner:30 - Scraping new match: https://api.dreamteam.gg/analytics/csgo/game-analytics-proxy/stats/replays/5ca270658da20e029b7f8b33/rounds\n"
     ]
    },
    {
     "name": "stderr",
     "output_type": "stream",
     "text": [
      "2019-05-10 19:47:52.605 | INFO     | __main__:scrape_round_winner:30 - Scraping new match: https://api.dreamteam.gg/analytics/csgo/game-analytics-proxy/stats/replays/5ca2706f3cb887022f757c94/rounds\n"
     ]
    },
    {
     "name": "stderr",
     "output_type": "stream",
     "text": [
      "2019-05-10 19:47:54.177 | INFO     | __main__:scrape_round_winner:30 - Scraping new match: https://api.dreamteam.gg/analytics/csgo/game-analytics-proxy/stats/replays/5ca2711027b8d802763700e2/rounds\n"
     ]
    },
    {
     "name": "stderr",
     "output_type": "stream",
     "text": [
      "2019-05-10 19:47:55.683 | INFO     | __main__:scrape_round_winner:30 - Scraping new match: https://api.dreamteam.gg/analytics/csgo/game-analytics-proxy/stats/replays/5ca2711827b8d8025f0b8a65/rounds\n"
     ]
    },
    {
     "name": "stderr",
     "output_type": "stream",
     "text": [
      "2019-05-10 19:47:57.185 | INFO     | __main__:scrape_round_winner:30 - Scraping new match: https://api.dreamteam.gg/analytics/csgo/game-analytics-proxy/stats/replays/5ca271203cb887022f757c95/rounds\n"
     ]
    },
    {
     "name": "stderr",
     "output_type": "stream",
     "text": [
      "2019-05-10 19:47:58.684 | INFO     | __main__:scrape_round_winner:30 - Scraping new match: https://api.dreamteam.gg/analytics/csgo/game-analytics-proxy/stats/replays/5ca27128c0f32a02571dd616/rounds\n"
     ]
    },
    {
     "name": "stderr",
     "output_type": "stream",
     "text": [
      "2019-05-10 19:48:00.306 | INFO     | __main__:scrape_round_winner:30 - Scraping new match: https://api.dreamteam.gg/analytics/csgo/game-analytics-proxy/stats/replays/5c839edc7a14cd0330652ba2/rounds\n"
     ]
    },
    {
     "name": "stderr",
     "output_type": "stream",
     "text": [
      "2019-05-10 19:48:01.823 | INFO     | __main__:scrape_round_winner:30 - Scraping new match: https://api.dreamteam.gg/analytics/csgo/game-analytics-proxy/stats/replays/5ca27151d43602027748b9e2/rounds\n"
     ]
    },
    {
     "name": "stderr",
     "output_type": "stream",
     "text": [
      "2019-05-10 19:48:03.349 | INFO     | __main__:scrape_round_winner:30 - Scraping new match: https://api.dreamteam.gg/analytics/csgo/game-analytics-proxy/stats/replays/5ca2721ed35cfb003e5df852/rounds\n"
     ]
    },
    {
     "name": "stderr",
     "output_type": "stream",
     "text": [
      "2019-05-10 19:48:04.831 | INFO     | __main__:scrape_round_winner:30 - Scraping new match: https://api.dreamteam.gg/analytics/csgo/game-analytics-proxy/stats/replays/5ca27226dbb10b02ab02a9b3/rounds\n"
     ]
    },
    {
     "name": "stderr",
     "output_type": "stream",
     "text": [
      "2019-05-10 19:48:06.553 | INFO     | __main__:scrape_round_winner:30 - Scraping new match: https://api.dreamteam.gg/analytics/csgo/game-analytics-proxy/stats/replays/5ca2722e3cb887022f757c96/rounds\n"
     ]
    },
    {
     "name": "stderr",
     "output_type": "stream",
     "text": [
      "2019-05-10 19:48:08.056 | INFO     | __main__:scrape_round_winner:30 - Scraping new match: https://api.dreamteam.gg/analytics/csgo/game-analytics-proxy/stats/replays/5ca2723b27b8d802763700e3/rounds\n"
     ]
    },
    {
     "name": "stderr",
     "output_type": "stream",
     "text": [
      "2019-05-10 19:48:09.552 | INFO     | __main__:scrape_round_winner:30 - Scraping new match: https://api.dreamteam.gg/analytics/csgo/game-analytics-proxy/stats/replays/5ca274956bd0f90267493b42/rounds\n"
     ]
    },
    {
     "name": "stderr",
     "output_type": "stream",
     "text": [
      "2019-05-10 19:48:11.030 | INFO     | __main__:scrape_round_winner:30 - Scraping new match: https://api.dreamteam.gg/analytics/csgo/game-analytics-proxy/stats/replays/5ca273cbdbb10b02ab02a9b4/rounds\n"
     ]
    },
    {
     "name": "stderr",
     "output_type": "stream",
     "text": [
      "2019-05-10 19:48:12.549 | INFO     | __main__:scrape_round_winner:30 - Scraping new match: https://api.dreamteam.gg/analytics/csgo/game-analytics-proxy/stats/replays/5ca273e23cb887022f757c97/rounds\n"
     ]
    },
    {
     "name": "stderr",
     "output_type": "stream",
     "text": [
      "2019-05-10 19:48:14.094 | INFO     | __main__:scrape_round_winner:30 - Scraping new match: https://api.dreamteam.gg/analytics/csgo/game-analytics-proxy/stats/replays/5cac8ef6d43602068832b752/rounds\n"
     ]
    },
    {
     "name": "stderr",
     "output_type": "stream",
     "text": [
      "2019-05-10 19:48:15.608 | INFO     | __main__:scrape_round_winner:30 - Scraping new match: https://api.dreamteam.gg/analytics/csgo/game-analytics-proxy/stats/replays/5ca273ecd43602024526e6b5/rounds\n"
     ]
    },
    {
     "name": "stderr",
     "output_type": "stream",
     "text": [
      "2019-05-10 19:48:17.100 | INFO     | __main__:scrape_round_winner:30 - Scraping new match: https://api.dreamteam.gg/analytics/csgo/game-analytics-proxy/stats/replays/5ca273f3d35cfb026f6f35e2/rounds\n"
     ]
    },
    {
     "name": "stderr",
     "output_type": "stream",
     "text": [
      "2019-05-10 19:48:18.591 | INFO     | __main__:scrape_round_winner:30 - Scraping new match: https://api.dreamteam.gg/analytics/csgo/game-analytics-proxy/stats/replays/5ca273fb60aed202884dcb67/rounds\n"
     ]
    },
    {
     "name": "stderr",
     "output_type": "stream",
     "text": [
      "2019-05-10 19:48:20.495 | INFO     | __main__:scrape_round_winner:30 - Scraping new match: https://api.dreamteam.gg/analytics/csgo/game-analytics-proxy/stats/replays/5ca274bbbcf70a0040573a99/rounds\n"
     ]
    },
    {
     "name": "stderr",
     "output_type": "stream",
     "text": [
      "2019-05-10 19:48:21.988 | INFO     | __main__:scrape_round_winner:30 - Scraping new match: https://api.dreamteam.gg/analytics/csgo/game-analytics-proxy/stats/replays/5ca274ca3cb887026622c9c3/rounds\n"
     ]
    },
    {
     "name": "stderr",
     "output_type": "stream",
     "text": [
      "2019-05-10 19:48:23.502 | INFO     | __main__:scrape_round_winner:30 - Scraping new match: https://api.dreamteam.gg/analytics/csgo/game-analytics-proxy/stats/replays/5ca274d38da20e02aa25a612/rounds\n"
     ]
    },
    {
     "name": "stderr",
     "output_type": "stream",
     "text": [
      "2019-05-10 19:48:24.996 | INFO     | __main__:scrape_round_winner:30 - Scraping new match: https://api.dreamteam.gg/analytics/csgo/game-analytics-proxy/stats/replays/5ca274db3cb887026622c9c4/rounds\n"
     ]
    },
    {
     "name": "stderr",
     "output_type": "stream",
     "text": [
      "2019-05-10 19:48:26.532 | INFO     | __main__:scrape_round_winner:30 - Scraping new match: https://api.dreamteam.gg/analytics/csgo/game-analytics-proxy/stats/replays/5ca27568c0f32a02720a2203/rounds\n"
     ]
    },
    {
     "name": "stderr",
     "output_type": "stream",
     "text": [
      "2019-05-10 19:48:28.039 | INFO     | __main__:scrape_round_winner:30 - Scraping new match: https://api.dreamteam.gg/analytics/csgo/game-analytics-proxy/stats/replays/5ca2760ebcf70a02726f6a2b/rounds\n"
     ]
    },
    {
     "name": "stderr",
     "output_type": "stream",
     "text": [
      "2019-05-10 19:48:29.533 | INFO     | __main__:scrape_round_winner:30 - Scraping new match: https://api.dreamteam.gg/analytics/csgo/game-analytics-proxy/stats/replays/5ca276b0c0f32a02003d3124/rounds\n"
     ]
    },
    {
     "name": "stderr",
     "output_type": "stream",
     "text": [
      "2019-05-10 19:48:31.043 | INFO     | __main__:scrape_round_winner:30 - Scraping new match: https://api.dreamteam.gg/analytics/csgo/game-analytics-proxy/stats/replays/5ca276c6d43602024526e6b6/rounds\n"
     ]
    },
    {
     "name": "stderr",
     "output_type": "stream",
     "text": [
      "2019-05-10 19:48:32.562 | INFO     | __main__:scrape_round_winner:30 - Scraping new match: https://api.dreamteam.gg/analytics/csgo/game-analytics-proxy/stats/replays/5ca276cd6bd0f9028621dcd2/rounds\n"
     ]
    },
    {
     "name": "stderr",
     "output_type": "stream",
     "text": [
      "2019-05-10 19:48:34.076 | INFO     | __main__:scrape_round_winner:30 - Scraping new match: https://api.dreamteam.gg/analytics/csgo/game-analytics-proxy/stats/replays/5ca276d860aed2029c7a1922/rounds\n"
     ]
    },
    {
     "name": "stderr",
     "output_type": "stream",
     "text": [
      "2019-05-10 19:48:35.570 | INFO     | __main__:scrape_round_winner:30 - Scraping new match: https://api.dreamteam.gg/analytics/csgo/game-analytics-proxy/stats/replays/5ca276e2d43602027748b9e4/rounds\n"
     ]
    },
    {
     "name": "stderr",
     "output_type": "stream",
     "text": [
      "2019-05-10 19:48:37.055 | INFO     | __main__:scrape_round_winner:30 - Scraping new match: https://api.dreamteam.gg/analytics/csgo/game-analytics-proxy/stats/replays/5ca2774f27b8d8025f0b8a66/rounds\n"
     ]
    },
    {
     "name": "stderr",
     "output_type": "stream",
     "text": [
      "2019-05-10 19:48:38.575 | INFO     | __main__:scrape_round_winner:30 - Scraping new match: https://api.dreamteam.gg/analytics/csgo/game-analytics-proxy/stats/replays/5ca277946bd0f9026b37cb76/rounds\n"
     ]
    },
    {
     "name": "stderr",
     "output_type": "stream",
     "text": [
      "2019-05-10 19:48:40.072 | INFO     | __main__:scrape_round_winner:30 - Scraping new match: https://api.dreamteam.gg/analytics/csgo/game-analytics-proxy/stats/replays/5ca2779cdbb10b02ab02a9b5/rounds\n"
     ]
    },
    {
     "name": "stderr",
     "output_type": "stream",
     "text": [
      "2019-05-10 19:48:41.582 | INFO     | __main__:scrape_round_winner:30 - Scraping new match: https://api.dreamteam.gg/analytics/csgo/game-analytics-proxy/stats/replays/5cab6263d35cfb0457270bb8/rounds\n"
     ]
    },
    {
     "name": "stderr",
     "output_type": "stream",
     "text": [
      "2019-05-10 19:48:43.133 | INFO     | __main__:scrape_round_winner:30 - Scraping new match: https://api.dreamteam.gg/analytics/csgo/game-analytics-proxy/stats/replays/5ca277cd3cb887026622c9c5/rounds\n"
     ]
    },
    {
     "name": "stderr",
     "output_type": "stream",
     "text": [
      "2019-05-10 19:48:44.634 | INFO     | __main__:scrape_round_winner:30 - Scraping new match: https://api.dreamteam.gg/analytics/csgo/game-analytics-proxy/stats/replays/5cac934fc0f32a06b76f9a02/rounds\n"
     ]
    },
    {
     "name": "stderr",
     "output_type": "stream",
     "text": [
      "2019-05-10 19:48:46.098 | INFO     | __main__:scrape_round_winner:30 - Scraping new match: https://api.dreamteam.gg/analytics/csgo/game-analytics-proxy/stats/replays/5ca27829d4360202850107d2/rounds\n"
     ]
    },
    {
     "name": "stderr",
     "output_type": "stream",
     "text": [
      "2019-05-10 19:48:47.592 | INFO     | __main__:scrape_round_winner:30 - Scraping new match: https://api.dreamteam.gg/analytics/csgo/game-analytics-proxy/stats/replays/5ca2783027b8d8027e066e32/rounds\n"
     ]
    },
    {
     "name": "stderr",
     "output_type": "stream",
     "text": [
      "2019-05-10 19:48:49.112 | INFO     | __main__:scrape_round_winner:30 - Scraping new match: https://api.dreamteam.gg/analytics/csgo/game-analytics-proxy/stats/replays/5ca2783727b8d8025f0b8a67/rounds\n"
     ]
    },
    {
     "name": "stderr",
     "output_type": "stream",
     "text": [
      "2019-05-10 19:48:50.573 | INFO     | __main__:scrape_round_winner:30 - Scraping new match: https://api.dreamteam.gg/analytics/csgo/game-analytics-proxy/stats/replays/5cab62d0dbb10b066f55dfe3/rounds\n"
     ]
    },
    {
     "name": "stderr",
     "output_type": "stream",
     "text": [
      "2019-05-10 19:48:52.125 | INFO     | __main__:scrape_round_winner:30 - Scraping new match: https://api.dreamteam.gg/analytics/csgo/game-analytics-proxy/stats/replays/5ca27939dbb10b0280568fa3/rounds\n"
     ]
    },
    {
     "name": "stderr",
     "output_type": "stream",
     "text": [
      "2019-05-10 19:48:53.631 | INFO     | __main__:scrape_round_winner:30 - Scraping new match: https://api.dreamteam.gg/analytics/csgo/game-analytics-proxy/stats/replays/5ca279428da20e02aa25a613/rounds\n"
     ]
    },
    {
     "name": "stderr",
     "output_type": "stream",
     "text": [
      "2019-05-10 19:48:55.126 | INFO     | __main__:scrape_round_winner:30 - Scraping new match: https://api.dreamteam.gg/analytics/csgo/game-analytics-proxy/stats/replays/5ca279496bd0f90267493b43/rounds\n"
     ]
    },
    {
     "name": "stderr",
     "output_type": "stream",
     "text": [
      "2019-05-10 19:48:56.633 | INFO     | __main__:scrape_round_winner:30 - Scraping new match: https://api.dreamteam.gg/analytics/csgo/game-analytics-proxy/stats/replays/5ca27950d4360202850107d3/rounds\n"
     ]
    },
    {
     "name": "stderr",
     "output_type": "stream",
     "text": [
      "2019-05-10 19:48:58.124 | INFO     | __main__:scrape_round_winner:30 - Scraping new match: https://api.dreamteam.gg/analytics/csgo/game-analytics-proxy/stats/replays/5cab6363c0f32a063a57c612/rounds\n"
     ]
    },
    {
     "name": "stderr",
     "output_type": "stream",
     "text": [
      "2019-05-10 19:48:59.626 | INFO     | __main__:scrape_round_winner:30 - Scraping new match: https://api.dreamteam.gg/analytics/csgo/game-analytics-proxy/stats/replays/5ca27a0ad4360202850107d4/rounds\n"
     ]
    },
    {
     "name": "stderr",
     "output_type": "stream",
     "text": [
      "2019-05-10 19:49:01.168 | INFO     | __main__:scrape_round_winner:30 - Scraping new match: https://api.dreamteam.gg/analytics/csgo/game-analytics-proxy/stats/replays/5ca27a116bd0f9026b37cb77/rounds\n"
     ]
    },
    {
     "name": "stderr",
     "output_type": "stream",
     "text": [
      "2019-05-10 19:49:02.658 | INFO     | __main__:scrape_round_winner:30 - Scraping new match: https://api.dreamteam.gg/analytics/csgo/game-analytics-proxy/stats/replays/5ca27a1860aed2029c7a1924/rounds\n"
     ]
    },
    {
     "name": "stderr",
     "output_type": "stream",
     "text": [
      "2019-05-10 19:49:04.153 | INFO     | __main__:scrape_round_winner:30 - Scraping new match: https://api.dreamteam.gg/analytics/csgo/game-analytics-proxy/stats/replays/5cac935fdbb10b065523d033/rounds\n"
     ]
    },
    {
     "name": "stderr",
     "output_type": "stream",
     "text": [
      "2019-05-10 19:49:05.627 | INFO     | __main__:scrape_round_winner:30 - Scraping new match: https://api.dreamteam.gg/analytics/csgo/game-analytics-proxy/stats/replays/5ca27a703cb887026b5162c2/rounds\n"
     ]
    },
    {
     "name": "stderr",
     "output_type": "stream",
     "text": [
      "2019-05-10 19:49:07.161 | INFO     | __main__:scrape_round_winner:30 - Scraping new match: https://api.dreamteam.gg/analytics/csgo/game-analytics-proxy/stats/replays/5ca27ac2dbb10b02ab02a9b6/rounds\n"
     ]
    },
    {
     "name": "stderr",
     "output_type": "stream",
     "text": [
      "2019-05-10 19:49:08.655 | INFO     | __main__:scrape_round_winner:30 - Scraping new match: https://api.dreamteam.gg/analytics/csgo/game-analytics-proxy/stats/replays/5ca27b1fbcf70a02a26fe8a2/rounds\n"
     ]
    },
    {
     "name": "stderr",
     "output_type": "stream",
     "text": [
      "2019-05-10 19:49:10.166 | INFO     | __main__:scrape_round_winner:30 - Scraping new match: https://api.dreamteam.gg/analytics/csgo/game-analytics-proxy/stats/replays/5ca27b6f60aed202a409f132/rounds\n"
     ]
    },
    {
     "name": "stderr",
     "output_type": "stream",
     "text": [
      "2019-05-10 19:49:11.658 | INFO     | __main__:scrape_round_winner:30 - Scraping new match: https://api.dreamteam.gg/analytics/csgo/game-analytics-proxy/stats/replays/5ca27b763cb8870041615394/rounds\n"
     ]
    },
    {
     "name": "stderr",
     "output_type": "stream",
     "text": [
      "2019-05-10 19:49:13.181 | INFO     | __main__:scrape_round_winner:30 - Scraping new match: https://api.dreamteam.gg/analytics/csgo/game-analytics-proxy/stats/replays/5ca27d50d35cfb0265660442/rounds\n"
     ]
    },
    {
     "name": "stderr",
     "output_type": "stream",
     "text": [
      "2019-05-10 19:49:14.672 | INFO     | __main__:scrape_round_winner:30 - Scraping new match: https://api.dreamteam.gg/analytics/csgo/game-analytics-proxy/stats/replays/5ca27d5abcf70a02726f6a2c/rounds\n"
     ]
    },
    {
     "name": "stderr",
     "output_type": "stream",
     "text": [
      "2019-05-10 19:49:16.177 | INFO     | __main__:scrape_round_winner:30 - Scraping new match: https://api.dreamteam.gg/analytics/csgo/game-analytics-proxy/stats/replays/5ca27d62bcf70a0040573a9a/rounds\n"
     ]
    },
    {
     "name": "stderr",
     "output_type": "stream",
     "text": [
      "2019-05-10 19:49:17.700 | INFO     | __main__:scrape_round_winner:30 - Scraping new match: https://api.dreamteam.gg/analytics/csgo/game-analytics-proxy/stats/replays/5ca27e1c3cb887026622c9c6/rounds\n"
     ]
    },
    {
     "name": "stderr",
     "output_type": "stream",
     "text": [
      "2019-05-10 19:49:19.211 | INFO     | __main__:scrape_round_winner:30 - Scraping new match: https://api.dreamteam.gg/analytics/csgo/game-analytics-proxy/stats/replays/5ca27e25d4360202850107d5/rounds\n"
     ]
    },
    {
     "name": "stderr",
     "output_type": "stream",
     "text": [
      "2019-05-10 19:49:20.713 | INFO     | __main__:scrape_round_winner:30 - Scraping new match: https://api.dreamteam.gg/analytics/csgo/game-analytics-proxy/stats/replays/5cab63a3dbb10b068535f522/rounds\n"
     ]
    },
    {
     "name": "stderr",
     "output_type": "stream",
     "text": [
      "2019-05-10 19:49:22.186 | INFO     | __main__:scrape_round_winner:30 - Scraping new match: https://api.dreamteam.gg/analytics/csgo/game-analytics-proxy/stats/replays/5ca27f338da20e02bb0de502/rounds\n"
     ]
    },
    {
     "name": "stderr",
     "output_type": "stream",
     "text": [
      "2019-05-10 19:49:23.673 | INFO     | __main__:scrape_round_winner:30 - Scraping new match: https://api.dreamteam.gg/analytics/csgo/game-analytics-proxy/stats/replays/5ca27f3b6bd0f9026b37cb78/rounds\n"
     ]
    },
    {
     "name": "stderr",
     "output_type": "stream",
     "text": [
      "2019-05-10 19:49:25.210 | INFO     | __main__:scrape_round_winner:30 - Scraping new match: https://api.dreamteam.gg/analytics/csgo/game-analytics-proxy/stats/replays/5ca27f4560aed2029c7a1925/rounds\n"
     ]
    },
    {
     "name": "stderr",
     "output_type": "stream",
     "text": [
      "2019-05-10 19:49:26.726 | INFO     | __main__:scrape_round_winner:30 - Scraping new match: https://api.dreamteam.gg/analytics/csgo/game-analytics-proxy/stats/replays/5ca27fa3d43602004049acc4/rounds\n"
     ]
    },
    {
     "name": "stderr",
     "output_type": "stream",
     "text": [
      "2019-05-10 19:49:28.251 | INFO     | __main__:scrape_round_winner:30 - Scraping new match: https://api.dreamteam.gg/analytics/csgo/game-analytics-proxy/stats/replays/5ca28018c0f32a02720a2204/rounds\n"
     ]
    },
    {
     "name": "stderr",
     "output_type": "stream",
     "text": [
      "2019-05-10 19:49:29.739 | INFO     | __main__:scrape_round_winner:30 - Scraping new match: https://api.dreamteam.gg/analytics/csgo/game-analytics-proxy/stats/replays/5ca28020bcf70a02726f6a2d/rounds\n"
     ]
    },
    {
     "name": "stderr",
     "output_type": "stream",
     "text": [
      "2019-05-10 19:49:31.249 | INFO     | __main__:scrape_round_winner:30 - Scraping new match: https://api.dreamteam.gg/analytics/csgo/game-analytics-proxy/stats/replays/5ca280566bd0f9026b37cb79/rounds\n"
     ]
    },
    {
     "name": "stderr",
     "output_type": "stream",
     "text": [
      "2019-05-10 19:49:32.756 | INFO     | __main__:scrape_round_winner:30 - Scraping new match: https://api.dreamteam.gg/analytics/csgo/game-analytics-proxy/stats/replays/5ca280748da20e029b7f8b34/rounds\n"
     ]
    },
    {
     "name": "stderr",
     "output_type": "stream",
     "text": [
      "2019-05-10 19:49:34.334 | INFO     | __main__:scrape_round_winner:30 - Scraping new match: https://api.dreamteam.gg/analytics/csgo/game-analytics-proxy/stats/replays/5ca2808bc0f32a02720a2205/rounds\n"
     ]
    },
    {
     "name": "stderr",
     "output_type": "stream",
     "text": [
      "2019-05-10 19:49:35.984 | INFO     | __main__:scrape_round_winner:30 - Scraping new match: https://api.dreamteam.gg/analytics/csgo/game-analytics-proxy/stats/replays/5ca280b0d35cfb026f6f35e3/rounds\n"
     ]
    },
    {
     "name": "stderr",
     "output_type": "stream",
     "text": [
      "2019-05-10 19:49:37.505 | INFO     | __main__:scrape_round_winner:30 - Scraping new match: https://api.dreamteam.gg/analytics/csgo/game-analytics-proxy/stats/replays/5ca280b8c0f32a02720a2206/rounds\n"
     ]
    },
    {
     "name": "stderr",
     "output_type": "stream",
     "text": [
      "2019-05-10 19:49:39.002 | INFO     | __main__:scrape_round_winner:30 - Scraping new match: https://api.dreamteam.gg/analytics/csgo/game-analytics-proxy/stats/replays/5ca280e0bcf70a02a26fe8a3/rounds\n"
     ]
    },
    {
     "name": "stderr",
     "output_type": "stream",
     "text": [
      "2019-05-10 19:49:40.494 | INFO     | __main__:scrape_round_winner:30 - Scraping new match: https://api.dreamteam.gg/analytics/csgo/game-analytics-proxy/stats/replays/5cab648a60aed2068240b6e2/rounds\n"
     ]
    },
    {
     "name": "stderr",
     "output_type": "stream",
     "text": [
      "2019-05-10 19:49:41.983 | INFO     | __main__:scrape_round_winner:30 - Scraping new match: https://api.dreamteam.gg/analytics/csgo/game-analytics-proxy/stats/replays/5cab65138da20e067a228262/rounds\n"
     ]
    },
    {
     "name": "stderr",
     "output_type": "stream",
     "text": [
      "2019-05-10 19:49:43.479 | INFO     | __main__:scrape_round_winner:30 - Scraping new match: https://api.dreamteam.gg/analytics/csgo/game-analytics-proxy/stats/replays/5ca281be3cb887026622c9c7/rounds\n"
     ]
    },
    {
     "name": "stderr",
     "output_type": "stream",
     "text": [
      "2019-05-10 19:49:44.974 | INFO     | __main__:scrape_round_winner:30 - Scraping new match: https://api.dreamteam.gg/analytics/csgo/game-analytics-proxy/stats/replays/5ca281c86bd0f9028621dcd3/rounds\n"
     ]
    },
    {
     "name": "stderr",
     "output_type": "stream",
     "text": [
      "2019-05-10 19:49:46.469 | INFO     | __main__:scrape_round_winner:30 - Scraping new match: https://api.dreamteam.gg/analytics/csgo/game-analytics-proxy/stats/replays/5ca281d0dbb10b02bb08a762/rounds\n"
     ]
    },
    {
     "name": "stderr",
     "output_type": "stream",
     "text": [
      "2019-05-10 19:49:47.957 | INFO     | __main__:scrape_round_winner:30 - Scraping new match: https://api.dreamteam.gg/analytics/csgo/game-analytics-proxy/stats/replays/5cab660260aed206792dbda2/rounds\n"
     ]
    },
    {
     "name": "stderr",
     "output_type": "stream",
     "text": [
      "2019-05-10 19:49:49.595 | INFO     | __main__:scrape_round_winner:30 - Scraping new match: https://api.dreamteam.gg/analytics/csgo/game-analytics-proxy/stats/replays/5ca281e08da20e02bb0de503/rounds\n"
     ]
    },
    {
     "name": "stderr",
     "output_type": "stream",
     "text": [
      "2019-05-10 19:49:51.079 | INFO     | __main__:scrape_round_winner:30 - Scraping new match: https://api.dreamteam.gg/analytics/csgo/game-analytics-proxy/stats/replays/5ca283cb60aed2029c7a1926/rounds\n"
     ]
    },
    {
     "name": "stderr",
     "output_type": "stream",
     "text": [
      "2019-05-10 19:49:52.576 | INFO     | __main__:scrape_round_winner:30 - Scraping new match: https://api.dreamteam.gg/analytics/csgo/game-analytics-proxy/stats/replays/5ca283d1bcf70a02ac3680e2/rounds\n"
     ]
    },
    {
     "name": "stderr",
     "output_type": "stream",
     "text": [
      "2019-05-10 19:49:54.069 | INFO     | __main__:scrape_round_winner:30 - Scraping new match: https://api.dreamteam.gg/analytics/csgo/game-analytics-proxy/stats/replays/5ca283dad35cfb027c67c463/rounds\n"
     ]
    },
    {
     "name": "stderr",
     "output_type": "stream",
     "text": [
      "2019-05-10 19:49:55.588 | INFO     | __main__:scrape_round_winner:30 - Scraping new match: https://api.dreamteam.gg/analytics/csgo/game-analytics-proxy/stats/replays/5ca283e68da20e029b7f8b35/rounds\n"
     ]
    },
    {
     "name": "stderr",
     "output_type": "stream",
     "text": [
      "2019-05-10 19:49:57.075 | INFO     | __main__:scrape_round_winner:30 - Scraping new match: https://api.dreamteam.gg/analytics/csgo/game-analytics-proxy/stats/replays/5cab6629dbb10b068535f523/rounds\n"
     ]
    },
    {
     "name": "stderr",
     "output_type": "stream",
     "text": [
      "2019-05-10 19:49:58.623 | INFO     | __main__:scrape_round_winner:30 - Scraping new match: https://api.dreamteam.gg/analytics/csgo/game-analytics-proxy/stats/replays/5ca286a7c0f32a02720a2207/rounds\n"
     ]
    },
    {
     "name": "stderr",
     "output_type": "stream",
     "text": [
      "2019-05-10 19:50:00.134 | INFO     | __main__:scrape_round_winner:30 - Scraping new match: https://api.dreamteam.gg/analytics/csgo/game-analytics-proxy/stats/replays/5ca286b48da20e029b7f8b36/rounds\n"
     ]
    },
    {
     "name": "stderr",
     "output_type": "stream",
     "text": [
      "2019-05-10 19:50:01.628 | INFO     | __main__:scrape_round_winner:30 - Scraping new match: https://api.dreamteam.gg/analytics/csgo/game-analytics-proxy/stats/replays/5cab674ec0f32a063a57c614/rounds\n"
     ]
    },
    {
     "name": "stderr",
     "output_type": "stream",
     "text": [
      "2019-05-10 19:50:03.105 | INFO     | __main__:scrape_round_winner:30 - Scraping new match: https://api.dreamteam.gg/analytics/csgo/game-analytics-proxy/stats/replays/5ca286ca3cb88702752c9e73/rounds\n"
     ]
    },
    {
     "name": "stderr",
     "output_type": "stream",
     "text": [
      "2019-05-10 19:50:04.613 | INFO     | __main__:scrape_round_winner:30 - Scraping new match: https://api.dreamteam.gg/analytics/csgo/game-analytics-proxy/stats/replays/5ca286d73cb887026622c9c8/rounds\n"
     ]
    },
    {
     "name": "stderr",
     "output_type": "stream",
     "text": [
      "2019-05-10 19:50:06.111 | INFO     | __main__:scrape_round_winner:30 - Scraping new match: https://api.dreamteam.gg/analytics/csgo/game-analytics-proxy/stats/replays/5ca2870027b8d8027e066e33/rounds\n"
     ]
    },
    {
     "name": "stderr",
     "output_type": "stream",
     "text": [
      "2019-05-10 19:50:07.614 | INFO     | __main__:scrape_round_winner:30 - Scraping new match: https://api.dreamteam.gg/analytics/csgo/game-analytics-proxy/stats/replays/5ca2875e3cb88702752c9e74/rounds\n"
     ]
    },
    {
     "name": "stderr",
     "output_type": "stream",
     "text": [
      "2019-05-10 19:50:09.130 | INFO     | __main__:scrape_round_winner:30 - Scraping new match: https://api.dreamteam.gg/analytics/csgo/game-analytics-proxy/stats/replays/5ca287a68da20e029b7f8b37/rounds\n"
     ]
    },
    {
     "name": "stderr",
     "output_type": "stream",
     "text": [
      "2019-05-10 19:50:10.644 | INFO     | __main__:scrape_round_winner:30 - Scraping new match: https://api.dreamteam.gg/analytics/csgo/game-analytics-proxy/stats/replays/5ca287b027b8d8028b0aac22/rounds\n"
     ]
    },
    {
     "name": "stderr",
     "output_type": "stream",
     "text": [
      "2019-05-10 19:50:12.121 | INFO     | __main__:scrape_round_winner:30 - Scraping new match: https://api.dreamteam.gg/analytics/csgo/game-analytics-proxy/stats/replays/5ca287bf27b8d8028b0aac23/rounds\n"
     ]
    },
    {
     "name": "stderr",
     "output_type": "stream",
     "text": [
      "2019-05-10 19:50:13.626 | INFO     | __main__:scrape_round_winner:30 - Scraping new match: https://api.dreamteam.gg/analytics/csgo/game-analytics-proxy/stats/replays/5ca287e08da20e02cb48de42/rounds\n"
     ]
    },
    {
     "name": "stderr",
     "output_type": "stream",
     "text": [
      "2019-05-10 19:50:15.130 | INFO     | __main__:scrape_round_winner:30 - Scraping new match: https://api.dreamteam.gg/analytics/csgo/game-analytics-proxy/stats/replays/5cac998cbcf70a0750578a72/rounds\n"
     ]
    },
    {
     "name": "stderr",
     "output_type": "stream",
     "text": [
      "2019-05-10 19:50:16.645 | INFO     | __main__:scrape_round_winner:30 - Scraping new match: https://api.dreamteam.gg/analytics/csgo/game-analytics-proxy/stats/replays/5ca2888b8da20e02cb48de43/rounds\n"
     ]
    },
    {
     "name": "stderr",
     "output_type": "stream",
     "text": [
      "2019-05-10 19:50:18.143 | INFO     | __main__:scrape_round_winner:30 - Scraping new match: https://api.dreamteam.gg/analytics/csgo/game-analytics-proxy/stats/replays/5ca2889460aed202b1090f52/rounds\n"
     ]
    },
    {
     "name": "stderr",
     "output_type": "stream",
     "text": [
      "2019-05-10 19:50:19.776 | INFO     | __main__:scrape_round_winner:30 - Scraping new match: https://api.dreamteam.gg/analytics/csgo/game-analytics-proxy/stats/replays/5ca2889d60aed202b1090f53/rounds\n"
     ]
    },
    {
     "name": "stderr",
     "output_type": "stream",
     "text": [
      "2019-05-10 19:50:21.262 | INFO     | __main__:scrape_round_winner:30 - Scraping new match: https://api.dreamteam.gg/analytics/csgo/game-analytics-proxy/stats/replays/5ca288a627b8d8028b0aac24/rounds\n"
     ]
    },
    {
     "name": "stderr",
     "output_type": "stream",
     "text": [
      "2019-05-10 19:50:22.756 | INFO     | __main__:scrape_round_winner:30 - Scraping new match: https://api.dreamteam.gg/analytics/csgo/game-analytics-proxy/stats/replays/5ca288b06bd0f9029735da02/rounds\n"
     ]
    },
    {
     "name": "stderr",
     "output_type": "stream",
     "text": [
      "2019-05-10 19:50:24.227 | INFO     | __main__:scrape_round_winner:30 - Scraping new match: https://api.dreamteam.gg/analytics/csgo/game-analytics-proxy/stats/replays/5ca2895c60aed202b1090f55/rounds\n"
     ]
    },
    {
     "name": "stderr",
     "output_type": "stream",
     "text": [
      "2019-05-10 19:50:25.726 | INFO     | __main__:scrape_round_winner:30 - Scraping new match: https://api.dreamteam.gg/analytics/csgo/game-analytics-proxy/stats/replays/5ca28968d35cfb027c67c465/rounds\n"
     ]
    },
    {
     "name": "stderr",
     "output_type": "stream",
     "text": [
      "2019-05-10 19:50:27.193 | INFO     | __main__:scrape_round_winner:30 - Scraping new match: https://api.dreamteam.gg/analytics/csgo/game-analytics-proxy/stats/replays/5ca28972bcf70a02a26fe8a4/rounds\n"
     ]
    },
    {
     "name": "stderr",
     "output_type": "stream",
     "text": [
      "2019-05-10 19:50:28.665 | INFO     | __main__:scrape_round_winner:30 - Scraping new match: https://api.dreamteam.gg/analytics/csgo/game-analytics-proxy/stats/replays/5ca2897c8da20e02cd0fb4a2/rounds\n"
     ]
    },
    {
     "name": "stderr",
     "output_type": "stream",
     "text": [
      "2019-05-10 19:50:30.196 | INFO     | __main__:scrape_round_winner:30 - Scraping new match: https://api.dreamteam.gg/analytics/csgo/game-analytics-proxy/stats/replays/5ca289876bd0f9029a6a5df2/rounds\n"
     ]
    },
    {
     "name": "stderr",
     "output_type": "stream",
     "text": [
      "2019-05-10 19:50:31.686 | INFO     | __main__:scrape_round_winner:30 - Scraping new match: https://api.dreamteam.gg/analytics/csgo/game-analytics-proxy/stats/replays/5ca289ec60aed2029c7a1927/rounds\n"
     ]
    },
    {
     "name": "stderr",
     "output_type": "stream",
     "text": [
      "2019-05-10 19:50:33.159 | INFO     | __main__:scrape_round_winner:30 - Scraping new match: https://api.dreamteam.gg/analytics/csgo/game-analytics-proxy/stats/replays/5ca28a19dbb10b02bb08a764/rounds\n"
     ]
    },
    {
     "name": "stderr",
     "output_type": "stream",
     "text": [
      "2019-05-10 19:50:34.657 | INFO     | __main__:scrape_round_winner:30 - Scraping new match: https://api.dreamteam.gg/analytics/csgo/game-analytics-proxy/stats/replays/5ca28a4727b8d8027e066e34/rounds\n"
     ]
    },
    {
     "name": "stderr",
     "output_type": "stream",
     "text": [
      "2019-05-10 19:50:36.206 | INFO     | __main__:scrape_round_winner:30 - Scraping new match: https://api.dreamteam.gg/analytics/csgo/game-analytics-proxy/stats/replays/5ca28a4f8da20e02cd0fb4a3/rounds\n"
     ]
    },
    {
     "name": "stderr",
     "output_type": "stream",
     "text": [
      "2019-05-10 19:50:37.709 | INFO     | __main__:scrape_round_winner:30 - Scraping new match: https://api.dreamteam.gg/analytics/csgo/game-analytics-proxy/stats/replays/5ca28a58bcf70a02ac3680e3/rounds\n"
     ]
    },
    {
     "name": "stderr",
     "output_type": "stream",
     "text": [
      "2019-05-10 19:50:39.184 | INFO     | __main__:scrape_round_winner:30 - Scraping new match: https://api.dreamteam.gg/analytics/csgo/game-analytics-proxy/stats/replays/5ca28a7a6bd0f9029a6a5df3/rounds\n"
     ]
    },
    {
     "name": "stderr",
     "output_type": "stream",
     "text": [
      "2019-05-10 19:50:40.662 | INFO     | __main__:scrape_round_winner:30 - Scraping new match: https://api.dreamteam.gg/analytics/csgo/game-analytics-proxy/stats/replays/5ca28b2cd4360202850107d6/rounds\n"
     ]
    },
    {
     "name": "stderr",
     "output_type": "stream",
     "text": [
      "2019-05-10 19:50:42.123 | INFO     | __main__:scrape_round_winner:30 - Scraping new match: https://api.dreamteam.gg/analytics/csgo/game-analytics-proxy/stats/replays/5ca28b34dbb10b02aa148d14/rounds\n"
     ]
    },
    {
     "name": "stderr",
     "output_type": "stream",
     "text": [
      "2019-05-10 19:50:43.628 | INFO     | __main__:scrape_round_winner:30 - Scraping new match: https://api.dreamteam.gg/analytics/csgo/game-analytics-proxy/stats/replays/5ca28b3fbcf70a02ac3680e4/rounds\n"
     ]
    },
    {
     "name": "stderr",
     "output_type": "stream",
     "text": [
      "2019-05-10 19:50:45.121 | INFO     | __main__:scrape_round_winner:30 - Scraping new match: https://api.dreamteam.gg/analytics/csgo/game-analytics-proxy/stats/replays/5ca28b48d4360202850107d7/rounds\n"
     ]
    },
    {
     "name": "stderr",
     "output_type": "stream",
     "text": [
      "2019-05-10 19:50:46.590 | INFO     | __main__:scrape_round_winner:30 - Scraping new match: https://api.dreamteam.gg/analytics/csgo/game-analytics-proxy/stats/replays/5ca28b516bd0f9029a6a5df4/rounds\n"
     ]
    },
    {
     "name": "stderr",
     "output_type": "stream",
     "text": [
      "2019-05-10 19:50:48.088 | INFO     | __main__:scrape_round_winner:30 - Scraping new match: https://api.dreamteam.gg/analytics/csgo/game-analytics-proxy/stats/replays/5c6d724f85edcb0042319212/rounds\n"
     ]
    },
    {
     "name": "stderr",
     "output_type": "stream",
     "text": [
      "2019-05-10 19:50:49.655 | INFO     | __main__:scrape_round_winner:30 - Scraping new match: https://api.dreamteam.gg/analytics/csgo/game-analytics-proxy/stats/replays/5ca28c74dbb10b0280568fa4/rounds\n"
     ]
    },
    {
     "name": "stderr",
     "output_type": "stream",
     "text": [
      "2019-05-10 19:50:51.152 | INFO     | __main__:scrape_round_winner:30 - Scraping new match: https://api.dreamteam.gg/analytics/csgo/game-analytics-proxy/stats/replays/5ca28c8527b8d8029408b7d2/rounds\n"
     ]
    },
    {
     "name": "stderr",
     "output_type": "stream",
     "text": [
      "2019-05-10 19:50:52.638 | INFO     | __main__:scrape_round_winner:30 - Scraping new match: https://api.dreamteam.gg/analytics/csgo/game-analytics-proxy/stats/replays/5ca28c8fd35cfb027c67c466/rounds\n"
     ]
    },
    {
     "name": "stderr",
     "output_type": "stream",
     "text": [
      "2019-05-10 19:50:54.145 | INFO     | __main__:scrape_round_winner:30 - Scraping new match: https://api.dreamteam.gg/analytics/csgo/game-analytics-proxy/stats/replays/5ca28c9860aed202bd5eec72/rounds\n"
     ]
    },
    {
     "name": "stderr",
     "output_type": "stream",
     "text": [
      "2019-05-10 19:50:55.637 | INFO     | __main__:scrape_round_winner:30 - Scraping new match: https://api.dreamteam.gg/analytics/csgo/game-analytics-proxy/stats/replays/5c8fdb1b39746c05db3a6bbb/rounds\n"
     ]
    },
    {
     "name": "stderr",
     "output_type": "stream",
     "text": [
      "2019-05-10 19:50:57.151 | INFO     | __main__:scrape_round_winner:30 - Scraping new match: https://api.dreamteam.gg/analytics/csgo/game-analytics-proxy/stats/replays/5ca28cb2d4360202850107d8/rounds\n"
     ]
    },
    {
     "name": "stderr",
     "output_type": "stream",
     "text": [
      "2019-05-10 19:50:58.664 | INFO     | __main__:scrape_round_winner:30 - Scraping new match: https://api.dreamteam.gg/analytics/csgo/game-analytics-proxy/stats/replays/5ca28d70c0f32a02720a2208/rounds\n"
     ]
    },
    {
     "name": "stderr",
     "output_type": "stream",
     "text": [
      "2019-05-10 19:51:00.163 | INFO     | __main__:scrape_round_winner:30 - Scraping new match: https://api.dreamteam.gg/analytics/csgo/game-analytics-proxy/stats/replays/5ca28d7ad35cfb027c67c467/rounds\n"
     ]
    },
    {
     "name": "stderr",
     "output_type": "stream",
     "text": [
      "2019-05-10 19:51:01.655 | INFO     | __main__:scrape_round_winner:30 - Scraping new match: https://api.dreamteam.gg/analytics/csgo/game-analytics-proxy/stats/replays/5ca28d843cb887026622c9c9/rounds\n"
     ]
    },
    {
     "name": "stderr",
     "output_type": "stream",
     "text": [
      "2019-05-10 19:51:03.260 | INFO     | __main__:scrape_round_winner:30 - Scraping new match: https://api.dreamteam.gg/analytics/csgo/game-analytics-proxy/stats/replays/5ca28d8e6bd0f90267493b44/rounds\n"
     ]
    },
    {
     "name": "stderr",
     "output_type": "stream",
     "text": [
      "2019-05-10 19:51:04.776 | INFO     | __main__:scrape_round_winner:30 - Scraping new match: https://api.dreamteam.gg/analytics/csgo/game-analytics-proxy/stats/replays/5ca28d99d4360202850107d9/rounds\n"
     ]
    },
    {
     "name": "stderr",
     "output_type": "stream",
     "text": [
      "2019-05-10 19:51:06.276 | INFO     | __main__:scrape_round_winner:30 - Scraping new match: https://api.dreamteam.gg/analytics/csgo/game-analytics-proxy/stats/replays/5ca28e2a8da20e02cd0fb4a4/rounds\n"
     ]
    },
    {
     "name": "stderr",
     "output_type": "stream",
     "text": [
      "2019-05-10 19:51:07.821 | INFO     | __main__:scrape_round_winner:30 - Scraping new match: https://api.dreamteam.gg/analytics/csgo/game-analytics-proxy/stats/replays/5ca28e348da20e02cb48de44/rounds\n"
     ]
    },
    {
     "name": "stderr",
     "output_type": "stream",
     "text": [
      "2019-05-10 19:51:09.305 | INFO     | __main__:scrape_round_winner:30 - Scraping new match: https://api.dreamteam.gg/analytics/csgo/game-analytics-proxy/stats/replays/5ca28e3e3cb8870041615395/rounds\n"
     ]
    },
    {
     "name": "stderr",
     "output_type": "stream",
     "text": [
      "2019-05-10 19:51:10.815 | INFO     | __main__:scrape_round_winner:30 - Scraping new match: https://api.dreamteam.gg/analytics/csgo/game-analytics-proxy/stats/replays/5ca28e6edbb10b0280568fa5/rounds\n"
     ]
    },
    {
     "name": "stderr",
     "output_type": "stream",
     "text": [
      "2019-05-10 19:51:12.315 | INFO     | __main__:scrape_round_winner:30 - Scraping new match: https://api.dreamteam.gg/analytics/csgo/game-analytics-proxy/stats/replays/5ca28e788da20e02cb48de45/rounds\n"
     ]
    },
    {
     "name": "stderr",
     "output_type": "stream",
     "text": [
      "2019-05-10 19:51:13.834 | INFO     | __main__:scrape_round_winner:30 - Scraping new match: https://api.dreamteam.gg/analytics/csgo/game-analytics-proxy/stats/replays/5ca28f8dd4360202850107da/rounds\n"
     ]
    },
    {
     "name": "stderr",
     "output_type": "stream",
     "text": [
      "2019-05-10 19:51:15.303 | INFO     | __main__:scrape_round_winner:30 - Scraping new match: https://api.dreamteam.gg/analytics/csgo/game-analytics-proxy/stats/replays/5ca28f9627b8d8029612c412/rounds\n"
     ]
    },
    {
     "name": "stderr",
     "output_type": "stream",
     "text": [
      "2019-05-10 19:51:16.791 | INFO     | __main__:scrape_round_winner:30 - Scraping new match: https://api.dreamteam.gg/analytics/csgo/game-analytics-proxy/stats/replays/5ca28f9fdbb10b02aa148d15/rounds\n"
     ]
    },
    {
     "name": "stderr",
     "output_type": "stream",
     "text": [
      "2019-05-10 19:51:18.280 | INFO     | __main__:scrape_round_winner:30 - Scraping new match: https://api.dreamteam.gg/analytics/csgo/game-analytics-proxy/stats/replays/5ca28fa9d4360202850107db/rounds\n"
     ]
    },
    {
     "name": "stderr",
     "output_type": "stream",
     "text": [
      "2019-05-10 19:51:19.769 | INFO     | __main__:scrape_round_winner:30 - Scraping new match: https://api.dreamteam.gg/analytics/csgo/game-analytics-proxy/stats/replays/5ca28fb3c0f32a02720a2209/rounds\n"
     ]
    },
    {
     "name": "stderr",
     "output_type": "stream",
     "text": [
      "2019-05-10 19:51:21.283 | INFO     | __main__:scrape_round_winner:30 - Scraping new match: https://api.dreamteam.gg/analytics/csgo/game-analytics-proxy/stats/replays/5ca29068bcf70a02a26fe8a5/rounds\n"
     ]
    },
    {
     "name": "stderr",
     "output_type": "stream",
     "text": [
      "2019-05-10 19:51:22.782 | INFO     | __main__:scrape_round_winner:30 - Scraping new match: https://api.dreamteam.gg/analytics/csgo/game-analytics-proxy/stats/replays/5ca29071bcf70a02a26fe8a6/rounds\n"
     ]
    },
    {
     "name": "stderr",
     "output_type": "stream",
     "text": [
      "2019-05-10 19:51:24.294 | INFO     | __main__:scrape_round_winner:30 - Scraping new match: https://api.dreamteam.gg/analytics/csgo/game-analytics-proxy/stats/replays/5ca2907ac0f32a02943e1d92/rounds\n"
     ]
    },
    {
     "name": "stderr",
     "output_type": "stream",
     "text": [
      "2019-05-10 19:51:26.249 | INFO     | __main__:scrape_round_winner:30 - Scraping new match: https://api.dreamteam.gg/analytics/csgo/game-analytics-proxy/stats/replays/5ca2908560aed2029c7a1928/rounds\n"
     ]
    },
    {
     "name": "stderr",
     "output_type": "stream",
     "text": [
      "2019-05-10 19:51:27.775 | INFO     | __main__:scrape_round_winner:30 - Scraping new match: https://api.dreamteam.gg/analytics/csgo/game-analytics-proxy/stats/replays/5ca2908edbb10b02c645bac2/rounds\n"
     ]
    },
    {
     "name": "stderr",
     "output_type": "stream",
     "text": [
      "2019-05-10 19:51:29.298 | INFO     | __main__:scrape_round_winner:30 - Scraping new match: https://api.dreamteam.gg/analytics/csgo/game-analytics-proxy/stats/replays/5cab679cbcf70a06d0144732/rounds\n"
     ]
    },
    {
     "name": "stderr",
     "output_type": "stream",
     "text": [
      "2019-05-10 19:51:30.809 | INFO     | __main__:scrape_round_winner:30 - Scraping new match: https://api.dreamteam.gg/analytics/csgo/game-analytics-proxy/stats/replays/5cab68928da20e065d097ad3/rounds\n"
     ]
    },
    {
     "name": "stderr",
     "output_type": "stream",
     "text": [
      "2019-05-10 19:51:32.352 | INFO     | __main__:scrape_round_winner:30 - Scraping new match: https://api.dreamteam.gg/analytics/csgo/game-analytics-proxy/stats/replays/5cab696127b8d8068413d763/rounds\n"
     ]
    },
    {
     "name": "stderr",
     "output_type": "stream",
     "text": [
      "2019-05-10 19:51:33.851 | INFO     | __main__:scrape_round_winner:30 - Scraping new match: https://api.dreamteam.gg/analytics/csgo/game-analytics-proxy/stats/replays/5cab698a27b8d8068546f0e2/rounds\n"
     ]
    },
    {
     "name": "stderr",
     "output_type": "stream",
     "text": [
      "2019-05-10 19:51:35.376 | INFO     | __main__:scrape_round_winner:30 - Scraping new match: https://api.dreamteam.gg/analytics/csgo/game-analytics-proxy/stats/replays/5cab6a38d35cfb05e222d364/rounds\n"
     ]
    },
    {
     "name": "stderr",
     "output_type": "stream",
     "text": [
      "2019-05-10 19:51:36.918 | INFO     | __main__:scrape_round_winner:30 - Scraping new match: https://api.dreamteam.gg/analytics/csgo/game-analytics-proxy/stats/replays/5cab6a6cd35cfb05e222d365/rounds\n"
     ]
    },
    {
     "name": "stderr",
     "output_type": "stream",
     "text": [
      "2019-05-10 19:51:38.449 | INFO     | __main__:scrape_round_winner:30 - Scraping new match: https://api.dreamteam.gg/analytics/csgo/game-analytics-proxy/stats/replays/5cab6afb60aed206792dbda3/rounds\n"
     ]
    },
    {
     "name": "stderr",
     "output_type": "stream",
     "text": [
      "2019-05-10 19:51:40.141 | INFO     | __main__:scrape_round_winner:30 - Scraping new match: https://api.dreamteam.gg/analytics/csgo/game-analytics-proxy/stats/replays/5caa3c2dd35cfb058870f0f8/rounds\n"
     ]
    },
    {
     "name": "stderr",
     "output_type": "stream",
     "text": [
      "2019-05-10 19:51:41.640 | INFO     | __main__:scrape_round_winner:30 - Scraping new match: https://api.dreamteam.gg/analytics/csgo/game-analytics-proxy/stats/replays/5caa3b0d8da20e06010dd5e6/rounds\n"
     ]
    },
    {
     "name": "stderr",
     "output_type": "stream",
     "text": [
      "2019-05-10 19:51:43.128 | INFO     | __main__:scrape_round_winner:30 - Scraping new match: https://api.dreamteam.gg/analytics/csgo/game-analytics-proxy/stats/replays/5caa3b09d35cfb058870f0f7/rounds\n"
     ]
    },
    {
     "name": "stderr",
     "output_type": "stream",
     "text": [
      "2019-05-10 19:51:44.650 | INFO     | __main__:scrape_round_winner:30 - Scraping new match: https://api.dreamteam.gg/analytics/csgo/game-analytics-proxy/stats/replays/5caa3b04bcf70a065e59f615/rounds\n"
     ]
    },
    {
     "name": "stderr",
     "output_type": "stream",
     "text": [
      "2019-05-10 19:51:46.156 | INFO     | __main__:scrape_round_winner:30 - Scraping new match: https://api.dreamteam.gg/analytics/csgo/game-analytics-proxy/stats/replays/5caa3b00bcf70a061d78d464/rounds\n"
     ]
    },
    {
     "name": "stderr",
     "output_type": "stream",
     "text": [
      "2019-05-10 19:51:47.664 | INFO     | __main__:scrape_round_winner:30 - Scraping new match: https://api.dreamteam.gg/analytics/csgo/game-analytics-proxy/stats/replays/5caa3a32c0f32a05bc5a2ab5/rounds\n"
     ]
    },
    {
     "name": "stderr",
     "output_type": "stream",
     "text": [
      "2019-05-10 19:51:49.186 | INFO     | __main__:scrape_round_winner:30 - Scraping new match: https://api.dreamteam.gg/analytics/csgo/game-analytics-proxy/stats/replays/5ca3aadc27b8d802ec2e9012/rounds\n"
     ]
    },
    {
     "name": "stderr",
     "output_type": "stream",
     "text": [
      "2019-05-10 19:51:50.671 | INFO     | __main__:scrape_round_winner:30 - Scraping new match: https://api.dreamteam.gg/analytics/csgo/game-analytics-proxy/stats/replays/5cab6ba2dbb10b06937ad872/rounds\n"
     ]
    },
    {
     "name": "stderr",
     "output_type": "stream",
     "text": [
      "2019-05-10 19:51:52.206 | INFO     | __main__:scrape_round_winner:30 - Scraping new match: https://api.dreamteam.gg/analytics/csgo/game-analytics-proxy/stats/replays/5ca3ab046bd0f902d4198e34/rounds\n"
     ]
    },
    {
     "name": "stderr",
     "output_type": "stream",
     "text": [
      "2019-05-10 19:51:53.724 | INFO     | __main__:scrape_round_winner:30 - Scraping new match: https://api.dreamteam.gg/analytics/csgo/game-analytics-proxy/stats/replays/5ca3ab09c0f32a02e9131036/rounds\n"
     ]
    },
    {
     "name": "stderr",
     "output_type": "stream",
     "text": [
      "2019-05-10 19:51:55.242 | INFO     | __main__:scrape_round_winner:30 - Scraping new match: https://api.dreamteam.gg/analytics/csgo/game-analytics-proxy/stats/replays/5ca3ab10bcf70a03446a41a2/rounds\n"
     ]
    },
    {
     "name": "stderr",
     "output_type": "stream",
     "text": [
      "2019-05-10 19:51:56.760 | INFO     | __main__:scrape_round_winner:30 - Scraping new match: https://api.dreamteam.gg/analytics/csgo/game-analytics-proxy/stats/replays/5ca3abc0bcf70a030040f95a/rounds\n"
     ]
    },
    {
     "name": "stderr",
     "output_type": "stream",
     "text": [
      "2019-05-10 19:51:58.281 | INFO     | __main__:scrape_round_winner:30 - Scraping new match: https://api.dreamteam.gg/analytics/csgo/game-analytics-proxy/stats/replays/5ca3abc5c0f32a02e9131037/rounds\n"
     ]
    },
    {
     "name": "stderr",
     "output_type": "stream",
     "text": [
      "2019-05-10 19:51:59.885 | INFO     | __main__:scrape_round_winner:30 - Scraping new match: https://api.dreamteam.gg/analytics/csgo/game-analytics-proxy/stats/replays/5ca3abc927b8d8031207eda2/rounds\n"
     ]
    },
    {
     "name": "stderr",
     "output_type": "stream",
     "text": [
      "2019-05-10 19:52:01.398 | INFO     | __main__:scrape_round_winner:30 - Scraping new match: https://api.dreamteam.gg/analytics/csgo/game-analytics-proxy/stats/replays/5ca3abce8da20e0346188322/rounds\n"
     ]
    },
    {
     "name": "stderr",
     "output_type": "stream",
     "text": [
      "2019-05-10 19:52:02.882 | INFO     | __main__:scrape_round_winner:30 - Scraping new match: https://api.dreamteam.gg/analytics/csgo/game-analytics-proxy/stats/replays/5ca3abd3c0f32a02fe2a4cf2/rounds\n"
     ]
    },
    {
     "name": "stderr",
     "output_type": "stream",
     "text": [
      "2019-05-10 19:52:04.426 | INFO     | __main__:scrape_round_winner:30 - Scraping new match: https://api.dreamteam.gg/analytics/csgo/game-analytics-proxy/stats/replays/5ca3ac83dbb10b033c417862/rounds\n"
     ]
    },
    {
     "name": "stderr",
     "output_type": "stream",
     "text": [
      "2019-05-10 19:52:05.944 | INFO     | __main__:scrape_round_winner:30 - Scraping new match: https://api.dreamteam.gg/analytics/csgo/game-analytics-proxy/stats/replays/5ca3ac8e3cb88702ef71af12/rounds\n"
     ]
    },
    {
     "name": "stderr",
     "output_type": "stream",
     "text": [
      "2019-05-10 19:52:07.467 | INFO     | __main__:scrape_round_winner:30 - Scraping new match: https://api.dreamteam.gg/analytics/csgo/game-analytics-proxy/stats/replays/5ca3ac9cd35cfb02d21fbd76/rounds\n"
     ]
    },
    {
     "name": "stderr",
     "output_type": "stream",
     "text": [
      "2019-05-10 19:52:08.988 | INFO     | __main__:scrape_round_winner:30 - Scraping new match: https://api.dreamteam.gg/analytics/csgo/game-analytics-proxy/stats/replays/5ca3aca36bd0f902d4198e36/rounds\n"
     ]
    },
    {
     "name": "stderr",
     "output_type": "stream",
     "text": [
      "2019-05-10 19:52:10.526 | INFO     | __main__:scrape_round_winner:30 - Scraping new match: https://api.dreamteam.gg/analytics/csgo/game-analytics-proxy/stats/replays/5ca3acad8da20e03475b5402/rounds\n"
     ]
    },
    {
     "name": "stderr",
     "output_type": "stream",
     "text": [
      "2019-05-10 19:52:11.998 | INFO     | __main__:scrape_round_winner:30 - Scraping new match: https://api.dreamteam.gg/analytics/csgo/game-analytics-proxy/stats/replays/5ca3ad2bc0f32a02e9131038/rounds\n"
     ]
    },
    {
     "name": "stderr",
     "output_type": "stream",
     "text": [
      "2019-05-10 19:52:13.527 | INFO     | __main__:scrape_round_winner:30 - Scraping new match: https://api.dreamteam.gg/analytics/csgo/game-analytics-proxy/stats/replays/5ca3ad31bcf70a03446a41a3/rounds\n"
     ]
    },
    {
     "name": "stderr",
     "output_type": "stream",
     "text": [
      "2019-05-10 19:52:14.994 | INFO     | __main__:scrape_round_winner:30 - Scraping new match: https://api.dreamteam.gg/analytics/csgo/game-analytics-proxy/stats/replays/5ca3ad36bcf70a030040f95b/rounds\n"
     ]
    },
    {
     "name": "stderr",
     "output_type": "stream",
     "text": [
      "2019-05-10 19:52:16.476 | INFO     | __main__:scrape_round_winner:30 - Scraping new match: https://api.dreamteam.gg/analytics/csgo/game-analytics-proxy/stats/replays/5ca3ad43c0f32a02e9131039/rounds\n"
     ]
    },
    {
     "name": "stderr",
     "output_type": "stream",
     "text": [
      "2019-05-10 19:52:17.960 | INFO     | __main__:scrape_round_winner:30 - Scraping new match: https://api.dreamteam.gg/analytics/csgo/game-analytics-proxy/stats/replays/5ca3ad49d35cfb00412fe6d4/rounds\n"
     ]
    },
    {
     "name": "stderr",
     "output_type": "stream",
     "text": [
      "2019-05-10 19:52:19.462 | INFO     | __main__:scrape_round_winner:30 - Scraping new match: https://api.dreamteam.gg/analytics/csgo/game-analytics-proxy/stats/replays/5ca3adb26bd0f903083c1de2/rounds\n"
     ]
    },
    {
     "name": "stderr",
     "output_type": "stream",
     "text": [
      "2019-05-10 19:52:20.971 | INFO     | __main__:scrape_round_winner:30 - Scraping new match: https://api.dreamteam.gg/analytics/csgo/game-analytics-proxy/stats/replays/5ca3adb8d35cfb02e90ec292/rounds\n"
     ]
    },
    {
     "name": "stderr",
     "output_type": "stream",
     "text": [
      "2019-05-10 19:52:22.463 | INFO     | __main__:scrape_round_winner:30 - Scraping new match: https://api.dreamteam.gg/analytics/csgo/game-analytics-proxy/stats/replays/5ca3adbd60aed203272cd982/rounds\n"
     ]
    },
    {
     "name": "stderr",
     "output_type": "stream",
     "text": [
      "2019-05-10 19:52:23.960 | INFO     | __main__:scrape_round_winner:30 - Scraping new match: https://api.dreamteam.gg/analytics/csgo/game-analytics-proxy/stats/replays/5ca3adc28da20e03475b5403/rounds\n"
     ]
    },
    {
     "name": "stderr",
     "output_type": "stream",
     "text": [
      "2019-05-10 19:52:25.442 | INFO     | __main__:scrape_round_winner:30 - Scraping new match: https://api.dreamteam.gg/analytics/csgo/game-analytics-proxy/stats/replays/5ca3adc86bd0f903083c1de3/rounds\n"
     ]
    },
    {
     "name": "stderr",
     "output_type": "stream",
     "text": [
      "2019-05-10 19:52:26.946 | INFO     | __main__:scrape_round_winner:30 - Scraping new match: https://api.dreamteam.gg/analytics/csgo/game-analytics-proxy/stats/replays/5ca3ae1d27b8d802ec2e9013/rounds\n"
     ]
    },
    {
     "name": "stderr",
     "output_type": "stream",
     "text": [
      "2019-05-10 19:52:28.468 | INFO     | __main__:scrape_round_winner:30 - Scraping new match: https://api.dreamteam.gg/analytics/csgo/game-analytics-proxy/stats/replays/5ca3ae2227b8d802ec2e9014/rounds\n"
     ]
    },
    {
     "name": "stderr",
     "output_type": "stream",
     "text": [
      "2019-05-10 19:52:29.976 | INFO     | __main__:scrape_round_winner:30 - Scraping new match: https://api.dreamteam.gg/analytics/csgo/game-analytics-proxy/stats/replays/5ca3ae28d35cfb02d21fbd77/rounds\n"
     ]
    },
    {
     "name": "stderr",
     "output_type": "stream",
     "text": [
      "2019-05-10 19:52:31.464 | INFO     | __main__:scrape_round_winner:30 - Scraping new match: https://api.dreamteam.gg/analytics/csgo/game-analytics-proxy/stats/replays/5ca3ae2ddbb10b033c417863/rounds\n"
     ]
    },
    {
     "name": "stderr",
     "output_type": "stream",
     "text": [
      "2019-05-10 19:52:32.940 | INFO     | __main__:scrape_round_winner:30 - Scraping new match: https://api.dreamteam.gg/analytics/csgo/game-analytics-proxy/stats/replays/5ca3ae338da20e0346188323/rounds\n"
     ]
    },
    {
     "name": "stderr",
     "output_type": "stream",
     "text": [
      "2019-05-10 19:52:34.441 | INFO     | __main__:scrape_round_winner:30 - Scraping new match: https://api.dreamteam.gg/analytics/csgo/game-analytics-proxy/stats/replays/5ca3ae7edbb10b03373024e2/rounds\n"
     ]
    },
    {
     "name": "stderr",
     "output_type": "stream",
     "text": [
      "2019-05-10 19:52:36.004 | INFO     | __main__:scrape_round_winner:30 - Scraping new match: https://api.dreamteam.gg/analytics/csgo/game-analytics-proxy/stats/replays/5ca3ae8dbcf70a0040573a9b/rounds\n"
     ]
    },
    {
     "name": "stderr",
     "output_type": "stream",
     "text": [
      "2019-05-10 19:52:37.527 | INFO     | __main__:scrape_round_winner:30 - Scraping new match: https://api.dreamteam.gg/analytics/csgo/game-analytics-proxy/stats/replays/5ca3ae9227b8d802ec2e9015/rounds\n"
     ]
    },
    {
     "name": "stderr",
     "output_type": "stream",
     "text": [
      "2019-05-10 19:52:39.065 | INFO     | __main__:scrape_round_winner:30 - Scraping new match: https://api.dreamteam.gg/analytics/csgo/game-analytics-proxy/stats/replays/5ca3ae973cb88702f7483d72/rounds\n"
     ]
    },
    {
     "name": "stderr",
     "output_type": "stream",
     "text": [
      "2019-05-10 19:52:40.552 | INFO     | __main__:scrape_round_winner:30 - Scraping new match: https://api.dreamteam.gg/analytics/csgo/game-analytics-proxy/stats/replays/5ca3ae9cd4360203091b08d3/rounds\n"
     ]
    },
    {
     "name": "stderr",
     "output_type": "stream",
     "text": [
      "2019-05-10 19:52:42.032 | INFO     | __main__:scrape_round_winner:30 - Scraping new match: https://api.dreamteam.gg/analytics/csgo/game-analytics-proxy/stats/replays/5ca3aeff60aed20307731853/rounds\n"
     ]
    },
    {
     "name": "stderr",
     "output_type": "stream",
     "text": [
      "2019-05-10 19:52:43.581 | INFO     | __main__:scrape_round_winner:30 - Scraping new match: https://api.dreamteam.gg/analytics/csgo/game-analytics-proxy/stats/replays/5ca3af056bd0f902d4198e37/rounds\n"
     ]
    },
    {
     "name": "stderr",
     "output_type": "stream",
     "text": [
      "2019-05-10 19:52:45.080 | INFO     | __main__:scrape_round_winner:30 - Scraping new match: https://api.dreamteam.gg/analytics/csgo/game-analytics-proxy/stats/replays/5ca3af0a8da20e0346188324/rounds\n"
     ]
    },
    {
     "name": "stderr",
     "output_type": "stream",
     "text": [
      "2019-05-10 19:52:46.723 | INFO     | __main__:scrape_round_winner:30 - Scraping new match: https://api.dreamteam.gg/analytics/csgo/game-analytics-proxy/stats/replays/5ca3af10d4360203091b08d4/rounds\n"
     ]
    },
    {
     "name": "stderr",
     "output_type": "stream",
     "text": [
      "2019-05-10 19:52:48.272 | INFO     | __main__:scrape_round_winner:30 - Scraping new match: https://api.dreamteam.gg/analytics/csgo/game-analytics-proxy/stats/replays/5ca3af15dbb10b033c417864/rounds\n"
     ]
    },
    {
     "name": "stderr",
     "output_type": "stream",
     "text": [
      "2019-05-10 19:52:49.763 | INFO     | __main__:scrape_round_winner:30 - Scraping new match: https://api.dreamteam.gg/analytics/csgo/game-analytics-proxy/stats/replays/5ca3af8a27b8d8031207eda4/rounds\n"
     ]
    },
    {
     "name": "stderr",
     "output_type": "stream",
     "text": [
      "2019-05-10 19:52:51.257 | INFO     | __main__:scrape_round_winner:30 - Scraping new match: https://api.dreamteam.gg/analytics/csgo/game-analytics-proxy/stats/replays/5ca3af91c0f32a02e913103a/rounds\n"
     ]
    },
    {
     "name": "stderr",
     "output_type": "stream",
     "text": [
      "2019-05-10 19:52:52.789 | INFO     | __main__:scrape_round_winner:30 - Scraping new match: https://api.dreamteam.gg/analytics/csgo/game-analytics-proxy/stats/replays/5ca3af97d4360203091b08d5/rounds\n"
     ]
    },
    {
     "name": "stderr",
     "output_type": "stream",
     "text": [
      "2019-05-10 19:52:54.319 | INFO     | __main__:scrape_round_winner:30 - Scraping new match: https://api.dreamteam.gg/analytics/csgo/game-analytics-proxy/stats/replays/5ca3af9ebcf70a0040573a9c/rounds\n"
     ]
    },
    {
     "name": "stderr",
     "output_type": "stream",
     "text": [
      "2019-05-10 19:52:55.805 | INFO     | __main__:scrape_round_winner:30 - Scraping new match: https://api.dreamteam.gg/analytics/csgo/game-analytics-proxy/stats/replays/5ca3afa3c0f32a02e913103b/rounds\n"
     ]
    },
    {
     "name": "stderr",
     "output_type": "stream",
     "text": [
      "2019-05-10 19:52:57.309 | INFO     | __main__:scrape_round_winner:30 - Scraping new match: https://api.dreamteam.gg/analytics/csgo/game-analytics-proxy/stats/replays/5ca3affe3cb88702fb63e252/rounds\n"
     ]
    },
    {
     "name": "stderr",
     "output_type": "stream",
     "text": [
      "2019-05-10 19:52:58.836 | INFO     | __main__:scrape_round_winner:30 - Scraping new match: https://api.dreamteam.gg/analytics/csgo/game-analytics-proxy/stats/replays/5ca3b00560aed203272cd983/rounds\n"
     ]
    },
    {
     "name": "stderr",
     "output_type": "stream",
     "text": [
      "2019-05-10 19:53:00.329 | INFO     | __main__:scrape_round_winner:30 - Scraping new match: https://api.dreamteam.gg/analytics/csgo/game-analytics-proxy/stats/replays/5ca3b00bd43602030b722cd2/rounds\n"
     ]
    },
    {
     "name": "stderr",
     "output_type": "stream",
     "text": [
      "2019-05-10 19:53:01.876 | INFO     | __main__:scrape_round_winner:30 - Scraping new match: https://api.dreamteam.gg/analytics/csgo/game-analytics-proxy/stats/replays/5ca3b01e6bd0f902d4198e38/rounds\n"
     ]
    },
    {
     "name": "stderr",
     "output_type": "stream",
     "text": [
      "2019-05-10 19:53:03.374 | INFO     | __main__:scrape_round_winner:30 - Scraping new match: https://api.dreamteam.gg/analytics/csgo/game-analytics-proxy/stats/replays/5ca3b034dbb10b003e144942/rounds\n"
     ]
    },
    {
     "name": "stderr",
     "output_type": "stream",
     "text": [
      "2019-05-10 19:53:04.878 | INFO     | __main__:scrape_round_winner:30 - Scraping new match: https://api.dreamteam.gg/analytics/csgo/game-analytics-proxy/stats/replays/5caca86dd35cfb06873c7f62/rounds\n"
     ]
    },
    {
     "name": "stderr",
     "output_type": "stream",
     "text": [
      "2019-05-10 19:53:06.417 | INFO     | __main__:scrape_round_winner:30 - Scraping new match: https://api.dreamteam.gg/analytics/csgo/game-analytics-proxy/stats/replays/5caca6bfc0f32a06b76f9a04/rounds\n"
     ]
    },
    {
     "name": "stderr",
     "output_type": "stream",
     "text": [
      "2019-05-10 19:53:07.902 | INFO     | __main__:scrape_round_winner:30 - Scraping new match: https://api.dreamteam.gg/analytics/csgo/game-analytics-proxy/stats/replays/5ca3b09ddbb10b033c417865/rounds\n"
     ]
    },
    {
     "name": "stderr",
     "output_type": "stream",
     "text": [
      "2019-05-10 19:53:09.392 | INFO     | __main__:scrape_round_winner:30 - Scraping new match: https://api.dreamteam.gg/analytics/csgo/game-analytics-proxy/stats/replays/5ca3b0a2d4360203091b08d6/rounds\n"
     ]
    },
    {
     "name": "stderr",
     "output_type": "stream",
     "text": [
      "2019-05-10 19:53:10.871 | INFO     | __main__:scrape_round_winner:30 - Scraping new match: https://api.dreamteam.gg/analytics/csgo/game-analytics-proxy/stats/replays/5ca3b0a7bcf70a03504b2542/rounds\n"
     ]
    },
    {
     "name": "stderr",
     "output_type": "stream",
     "text": [
      "2019-05-10 19:53:12.348 | INFO     | __main__:scrape_round_winner:30 - Scraping new match: https://api.dreamteam.gg/analytics/csgo/game-analytics-proxy/stats/replays/5ca3b0aed35cfb02e90ec293/rounds\n"
     ]
    },
    {
     "name": "stderr",
     "output_type": "stream",
     "text": [
      "2019-05-10 19:53:13.896 | INFO     | __main__:scrape_round_winner:30 - Scraping new match: https://api.dreamteam.gg/analytics/csgo/game-analytics-proxy/stats/replays/5ca3b0b3bcf70a030040f95c/rounds\n"
     ]
    },
    {
     "name": "stderr",
     "output_type": "stream",
     "text": [
      "2019-05-10 19:53:15.372 | INFO     | __main__:scrape_round_winner:30 - Scraping new match: https://api.dreamteam.gg/analytics/csgo/game-analytics-proxy/stats/replays/5ca3b125d4360203091b08d7/rounds\n"
     ]
    },
    {
     "name": "stderr",
     "output_type": "stream",
     "text": [
      "2019-05-10 19:53:16.896 | INFO     | __main__:scrape_round_winner:30 - Scraping new match: https://api.dreamteam.gg/analytics/csgo/game-analytics-proxy/stats/replays/5ca3b12a8da20e03475b5404/rounds\n"
     ]
    },
    {
     "name": "stderr",
     "output_type": "stream",
     "text": [
      "2019-05-10 19:53:18.382 | INFO     | __main__:scrape_round_winner:30 - Scraping new match: https://api.dreamteam.gg/analytics/csgo/game-analytics-proxy/stats/replays/5ca3b13027b8d8031207eda5/rounds\n"
     ]
    },
    {
     "name": "stderr",
     "output_type": "stream",
     "text": [
      "2019-05-10 19:53:19.885 | INFO     | __main__:scrape_round_winner:30 - Scraping new match: https://api.dreamteam.gg/analytics/csgo/game-analytics-proxy/stats/replays/5ca3b135d35cfb02e90ec294/rounds\n"
     ]
    },
    {
     "name": "stderr",
     "output_type": "stream",
     "text": [
      "2019-05-10 19:53:21.385 | INFO     | __main__:scrape_round_winner:30 - Scraping new match: https://api.dreamteam.gg/analytics/csgo/game-analytics-proxy/stats/replays/5ca3b13b8da20e0346188325/rounds\n"
     ]
    },
    {
     "name": "stderr",
     "output_type": "stream",
     "text": [
      "2019-05-10 19:53:22.871 | INFO     | __main__:scrape_round_winner:30 - Scraping new match: https://api.dreamteam.gg/analytics/csgo/game-analytics-proxy/stats/replays/5ca3b1796bd0f902d4198e39/rounds\n"
     ]
    },
    {
     "name": "stderr",
     "output_type": "stream",
     "text": [
      "2019-05-10 19:53:24.490 | INFO     | __main__:scrape_round_winner:30 - Scraping new match: https://api.dreamteam.gg/analytics/csgo/game-analytics-proxy/stats/replays/5ca3b17ed4360203091b08d8/rounds\n"
     ]
    },
    {
     "name": "stderr",
     "output_type": "stream",
     "text": [
      "2019-05-10 19:53:26.014 | INFO     | __main__:scrape_round_winner:30 - Scraping new match: https://api.dreamteam.gg/analytics/csgo/game-analytics-proxy/stats/replays/5ca3b183d35cfb02d21fbd78/rounds\n"
     ]
    },
    {
     "name": "stderr",
     "output_type": "stream",
     "text": [
      "2019-05-10 19:53:27.544 | INFO     | __main__:scrape_round_winner:30 - Scraping new match: https://api.dreamteam.gg/analytics/csgo/game-analytics-proxy/stats/replays/5ca3b18a3cb88702f7483d73/rounds\n"
     ]
    },
    {
     "name": "stderr",
     "output_type": "stream",
     "text": [
      "2019-05-10 19:53:29.042 | INFO     | __main__:scrape_round_winner:30 - Scraping new match: https://api.dreamteam.gg/analytics/csgo/game-analytics-proxy/stats/replays/5ca3b18fbcf70a030040f95d/rounds\n"
     ]
    },
    {
     "name": "stderr",
     "output_type": "stream",
     "text": [
      "2019-05-10 19:53:30.522 | INFO     | __main__:scrape_round_winner:30 - Scraping new match: https://api.dreamteam.gg/analytics/csgo/game-analytics-proxy/stats/replays/5ca3b1d13cb88702f7483d74/rounds\n"
     ]
    },
    {
     "name": "stderr",
     "output_type": "stream",
     "text": [
      "2019-05-10 19:53:32.068 | INFO     | __main__:scrape_round_winner:30 - Scraping new match: https://api.dreamteam.gg/analytics/csgo/game-analytics-proxy/stats/replays/5ca3b1d6d35cfb02e90ec295/rounds\n"
     ]
    },
    {
     "name": "stderr",
     "output_type": "stream",
     "text": [
      "2019-05-10 19:53:33.534 | INFO     | __main__:scrape_round_winner:30 - Scraping new match: https://api.dreamteam.gg/analytics/csgo/game-analytics-proxy/stats/replays/5ca3b1dedbb10b0280568fa7/rounds\n"
     ]
    },
    {
     "name": "stderr",
     "output_type": "stream",
     "text": [
      "2019-05-10 19:53:35.023 | INFO     | __main__:scrape_round_winner:30 - Scraping new match: https://api.dreamteam.gg/analytics/csgo/game-analytics-proxy/stats/replays/5ca3b1e48da20e03475b5405/rounds\n"
     ]
    },
    {
     "name": "stderr",
     "output_type": "stream",
     "text": [
      "2019-05-10 19:53:36.507 | INFO     | __main__:scrape_round_winner:30 - Scraping new match: https://api.dreamteam.gg/analytics/csgo/game-analytics-proxy/stats/replays/5ca3b1ea6bd0f902d4198e3a/rounds\n"
     ]
    },
    {
     "name": "stderr",
     "output_type": "stream",
     "text": [
      "2019-05-10 19:53:38.049 | INFO     | __main__:scrape_round_winner:30 - Scraping new match: https://api.dreamteam.gg/analytics/csgo/game-analytics-proxy/stats/replays/5ca3b259d4360203091b08d9/rounds\n"
     ]
    },
    {
     "name": "stderr",
     "output_type": "stream",
     "text": [
      "2019-05-10 19:53:39.565 | INFO     | __main__:scrape_round_winner:30 - Scraping new match: https://api.dreamteam.gg/analytics/csgo/game-analytics-proxy/stats/replays/5ca3b25edbb10b0280568fa8/rounds\n"
     ]
    },
    {
     "name": "stderr",
     "output_type": "stream",
     "text": [
      "2019-05-10 19:53:41.115 | INFO     | __main__:scrape_round_winner:30 - Scraping new match: https://api.dreamteam.gg/analytics/csgo/game-analytics-proxy/stats/replays/5ca3b26427b8d802ec2e9016/rounds\n"
     ]
    },
    {
     "name": "stderr",
     "output_type": "stream",
     "text": [
      "2019-05-10 19:53:42.612 | INFO     | __main__:scrape_round_winner:30 - Scraping new match: https://api.dreamteam.gg/analytics/csgo/game-analytics-proxy/stats/replays/5ca3b269bcf70a03504b2543/rounds\n"
     ]
    },
    {
     "name": "stderr",
     "output_type": "stream",
     "text": [
      "2019-05-10 19:53:44.148 | INFO     | __main__:scrape_round_winner:30 - Scraping new match: https://api.dreamteam.gg/analytics/csgo/game-analytics-proxy/stats/replays/5ca3b26fc0f32a02fe2a4cf3/rounds\n"
     ]
    },
    {
     "name": "stderr",
     "output_type": "stream",
     "text": [
      "2019-05-10 19:53:45.691 | INFO     | __main__:scrape_round_winner:30 - Scraping new match: https://api.dreamteam.gg/analytics/csgo/game-analytics-proxy/stats/replays/5ca3b2e4c0f32a02e913103c/rounds\n"
     ]
    },
    {
     "name": "stderr",
     "output_type": "stream",
     "text": [
      "2019-05-10 19:53:47.191 | INFO     | __main__:scrape_round_winner:30 - Scraping new match: https://api.dreamteam.gg/analytics/csgo/game-analytics-proxy/stats/replays/5ca3b2e96bd0f902d4198e3b/rounds\n"
     ]
    },
    {
     "name": "stderr",
     "output_type": "stream",
     "text": [
      "2019-05-10 19:53:48.708 | INFO     | __main__:scrape_round_winner:30 - Scraping new match: https://api.dreamteam.gg/analytics/csgo/game-analytics-proxy/stats/replays/5ca3b2f03cb88702fb63e253/rounds\n"
     ]
    },
    {
     "name": "stderr",
     "output_type": "stream",
     "text": [
      "2019-05-10 19:53:50.190 | INFO     | __main__:scrape_round_winner:30 - Scraping new match: https://api.dreamteam.gg/analytics/csgo/game-analytics-proxy/stats/replays/5ca3b2f5d43602030b722cd3/rounds\n"
     ]
    },
    {
     "name": "stderr",
     "output_type": "stream",
     "text": [
      "2019-05-10 19:53:51.686 | INFO     | __main__:scrape_round_winner:30 - Scraping new match: https://api.dreamteam.gg/analytics/csgo/game-analytics-proxy/stats/replays/5ca3b2fbdbb10b033c417866/rounds\n"
     ]
    },
    {
     "name": "stderr",
     "output_type": "stream",
     "text": [
      "2019-05-10 19:53:53.175 | INFO     | __main__:scrape_round_winner:30 - Scraping new match: https://api.dreamteam.gg/analytics/csgo/game-analytics-proxy/stats/replays/5ca3b354bcf70a03504b2544/rounds\n"
     ]
    },
    {
     "name": "stderr",
     "output_type": "stream",
     "text": [
      "2019-05-10 19:53:54.649 | INFO     | __main__:scrape_round_winner:30 - Scraping new match: https://api.dreamteam.gg/analytics/csgo/game-analytics-proxy/stats/replays/5ca3b359d35cfb02d21fbd79/rounds\n"
     ]
    },
    {
     "name": "stderr",
     "output_type": "stream",
     "text": [
      "2019-05-10 19:53:56.161 | INFO     | __main__:scrape_round_winner:30 - Scraping new match: https://api.dreamteam.gg/analytics/csgo/game-analytics-proxy/stats/replays/5ca3b35fd35cfb02e90ec296/rounds\n"
     ]
    },
    {
     "name": "stderr",
     "output_type": "stream",
     "text": [
      "2019-05-10 19:53:57.665 | INFO     | __main__:scrape_round_winner:30 - Scraping new match: https://api.dreamteam.gg/analytics/csgo/game-analytics-proxy/stats/replays/5ca3b36627b8d802ec2e9017/rounds\n"
     ]
    },
    {
     "name": "stderr",
     "output_type": "stream",
     "text": [
      "2019-05-10 19:53:59.167 | INFO     | __main__:scrape_round_winner:30 - Scraping new match: https://api.dreamteam.gg/analytics/csgo/game-analytics-proxy/stats/replays/5ca3b36c6bd0f903122364d2/rounds\n"
     ]
    },
    {
     "name": "stderr",
     "output_type": "stream",
     "text": [
      "2019-05-10 19:54:00.685 | INFO     | __main__:scrape_round_winner:30 - Scraping new match: https://api.dreamteam.gg/analytics/csgo/game-analytics-proxy/stats/replays/5ca3b3badbb10b033c417867/rounds\n"
     ]
    },
    {
     "name": "stderr",
     "output_type": "stream",
     "text": [
      "2019-05-10 19:54:02.183 | INFO     | __main__:scrape_round_winner:30 - Scraping new match: https://api.dreamteam.gg/analytics/csgo/game-analytics-proxy/stats/replays/5ca3b3bf27b8d803206bb412/rounds\n"
     ]
    },
    {
     "name": "stderr",
     "output_type": "stream",
     "text": [
      "2019-05-10 19:54:03.674 | INFO     | __main__:scrape_round_winner:30 - Scraping new match: https://api.dreamteam.gg/analytics/csgo/game-analytics-proxy/stats/replays/5ca3b3c5d43602004049acc5/rounds\n"
     ]
    },
    {
     "name": "stderr",
     "output_type": "stream",
     "text": [
      "2019-05-10 19:54:05.185 | INFO     | __main__:scrape_round_winner:30 - Scraping new match: https://api.dreamteam.gg/analytics/csgo/game-analytics-proxy/stats/replays/5ca3b3cb3cb88702fb63e254/rounds\n"
     ]
    },
    {
     "name": "stderr",
     "output_type": "stream",
     "text": [
      "2019-05-10 19:54:06.706 | INFO     | __main__:scrape_round_winner:30 - Scraping new match: https://api.dreamteam.gg/analytics/csgo/game-analytics-proxy/stats/replays/5ca3b3d027b8d803206bb413/rounds\n"
     ]
    },
    {
     "name": "stderr",
     "output_type": "stream",
     "text": [
      "2019-05-10 19:54:08.213 | INFO     | __main__:scrape_round_winner:30 - Scraping new match: https://api.dreamteam.gg/analytics/csgo/game-analytics-proxy/stats/replays/5ca3b420d35cfb02d21fbd7a/rounds\n"
     ]
    },
    {
     "name": "stderr",
     "output_type": "stream",
     "text": [
      "2019-05-10 19:54:09.734 | INFO     | __main__:scrape_round_winner:30 - Scraping new match: https://api.dreamteam.gg/analytics/csgo/game-analytics-proxy/stats/replays/5ca3b4253cb88702f7483d75/rounds\n"
     ]
    },
    {
     "name": "stderr",
     "output_type": "stream",
     "text": [
      "2019-05-10 19:54:11.216 | INFO     | __main__:scrape_round_winner:30 - Scraping new match: https://api.dreamteam.gg/analytics/csgo/game-analytics-proxy/stats/replays/5ca3b4306bd0f903193ae382/rounds\n"
     ]
    },
    {
     "name": "stderr",
     "output_type": "stream",
     "text": [
      "2019-05-10 19:54:12.701 | INFO     | __main__:scrape_round_winner:30 - Scraping new match: https://api.dreamteam.gg/analytics/csgo/game-analytics-proxy/stats/replays/5ca3b43527b8d802ec2e9018/rounds\n"
     ]
    },
    {
     "name": "stderr",
     "output_type": "stream",
     "text": [
      "2019-05-10 19:54:14.203 | INFO     | __main__:scrape_round_winner:30 - Scraping new match: https://api.dreamteam.gg/analytics/csgo/game-analytics-proxy/stats/replays/5ca3b43ad35cfb02f60c0ba2/rounds\n"
     ]
    },
    {
     "name": "stderr",
     "output_type": "stream",
     "text": [
      "2019-05-10 19:54:15.695 | INFO     | __main__:scrape_round_winner:30 - Scraping new match: https://api.dreamteam.gg/analytics/csgo/game-analytics-proxy/stats/replays/5ca3b49ad4360203091b08da/rounds\n"
     ]
    },
    {
     "name": "stderr",
     "output_type": "stream",
     "text": [
      "2019-05-10 19:54:17.202 | INFO     | __main__:scrape_round_winner:30 - Scraping new match: https://api.dreamteam.gg/analytics/csgo/game-analytics-proxy/stats/replays/5ca3b4a0bcf70a03504b2545/rounds\n"
     ]
    },
    {
     "name": "stderr",
     "output_type": "stream",
     "text": [
      "2019-05-10 19:54:18.677 | INFO     | __main__:scrape_round_winner:30 - Scraping new match: https://api.dreamteam.gg/analytics/csgo/game-analytics-proxy/stats/replays/5ca3b4a527b8d803206bb414/rounds\n"
     ]
    },
    {
     "name": "stderr",
     "output_type": "stream",
     "text": [
      "2019-05-10 19:54:20.157 | INFO     | __main__:scrape_round_winner:30 - Scraping new match: https://api.dreamteam.gg/analytics/csgo/game-analytics-proxy/stats/replays/5ca3b4b7dbb10b0347122892/rounds\n"
     ]
    },
    {
     "name": "stderr",
     "output_type": "stream",
     "text": [
      "2019-05-10 19:54:21.646 | INFO     | __main__:scrape_round_winner:30 - Scraping new match: https://api.dreamteam.gg/analytics/csgo/game-analytics-proxy/stats/replays/5c8fd98a8fb942060e6807f2/rounds\n"
     ]
    },
    {
     "name": "stderr",
     "output_type": "stream",
     "text": [
      "2019-05-10 19:54:23.171 | INFO     | __main__:scrape_round_winner:30 - Scraping new match: https://api.dreamteam.gg/analytics/csgo/game-analytics-proxy/stats/replays/5c6baf2cf09b1200400aa873/rounds\n"
     ]
    },
    {
     "name": "stderr",
     "output_type": "stream",
     "text": [
      "2019-05-10 19:54:24.677 | INFO     | __main__:scrape_round_winner:30 - Scraping new match: https://api.dreamteam.gg/analytics/csgo/game-analytics-proxy/stats/replays/5c6a3ae864051a052e70f2e3/rounds\n"
     ]
    },
    {
     "name": "stderr",
     "output_type": "stream",
     "text": [
      "2019-05-10 19:54:26.168 | INFO     | __main__:scrape_round_winner:30 - Scraping new match: https://api.dreamteam.gg/analytics/csgo/game-analytics-proxy/stats/replays/5ca7d4bc27b8d804db331e93/rounds\n"
     ]
    },
    {
     "name": "stderr",
     "output_type": "stream",
     "text": [
      "2019-05-10 19:54:27.748 | INFO     | __main__:scrape_round_winner:30 - Scraping new match: https://api.dreamteam.gg/analytics/csgo/game-analytics-proxy/stats/replays/5ca7d4c48da20e04e12a5493/rounds\n"
     ]
    },
    {
     "name": "stderr",
     "output_type": "stream",
     "text": [
      "2019-05-10 19:54:29.285 | INFO     | __main__:scrape_round_winner:30 - Scraping new match: https://api.dreamteam.gg/analytics/csgo/game-analytics-proxy/stats/replays/5ca7d4cabcf70a05374c0652/rounds\n"
     ]
    },
    {
     "name": "stderr",
     "output_type": "stream",
     "text": [
      "2019-05-10 19:54:30.809 | INFO     | __main__:scrape_round_winner:30 - Scraping new match: https://api.dreamteam.gg/analytics/csgo/game-analytics-proxy/stats/replays/5ca7d4cf27b8d804e4166532/rounds\n"
     ]
    },
    {
     "name": "stderr",
     "output_type": "stream",
     "text": [
      "2019-05-10 19:54:32.317 | INFO     | __main__:scrape_round_winner:30 - Scraping new match: https://api.dreamteam.gg/analytics/csgo/game-analytics-proxy/stats/replays/5ca7d4d5dbb10b04ee160192/rounds\n"
     ]
    },
    {
     "name": "stderr",
     "output_type": "stream",
     "text": [
      "2019-05-10 19:54:33.837 | INFO     | __main__:scrape_round_winner:30 - Scraping new match: https://api.dreamteam.gg/analytics/csgo/game-analytics-proxy/stats/replays/5ca7d5b4d35cfb0473675163/rounds\n"
     ]
    },
    {
     "name": "stderr",
     "output_type": "stream",
     "text": [
      "2019-05-10 19:54:35.331 | INFO     | __main__:scrape_round_winner:30 - Scraping new match: https://api.dreamteam.gg/analytics/csgo/game-analytics-proxy/stats/replays/5ca7d5b96bd0f904be3fe122/rounds\n"
     ]
    },
    {
     "name": "stderr",
     "output_type": "stream",
     "text": [
      "2019-05-10 19:54:36.853 | INFO     | __main__:scrape_round_winner:30 - Scraping new match: https://api.dreamteam.gg/analytics/csgo/game-analytics-proxy/stats/replays/5ca7d5be60aed2049575c7f6/rounds\n"
     ]
    },
    {
     "name": "stderr",
     "output_type": "stream",
     "text": [
      "2019-05-10 19:54:38.422 | INFO     | __main__:scrape_round_winner:30 - Scraping new match: https://api.dreamteam.gg/analytics/csgo/game-analytics-proxy/stats/replays/5ca7d5c36bd0f904be3fe123/rounds\n"
     ]
    },
    {
     "name": "stderr",
     "output_type": "stream",
     "text": [
      "2019-05-10 19:54:39.903 | INFO     | __main__:scrape_round_winner:30 - Scraping new match: https://api.dreamteam.gg/analytics/csgo/game-analytics-proxy/stats/replays/5ca7d5c927b8d804e4166533/rounds\n"
     ]
    },
    {
     "name": "stderr",
     "output_type": "stream",
     "text": [
      "2019-05-10 19:54:41.427 | INFO     | __main__:scrape_round_winner:30 - Scraping new match: https://api.dreamteam.gg/analytics/csgo/game-analytics-proxy/stats/replays/5ca7d623c0f32a049c5c9af4/rounds\n"
     ]
    },
    {
     "name": "stderr",
     "output_type": "stream",
     "text": [
      "2019-05-10 19:54:42.891 | INFO     | __main__:scrape_round_winner:30 - Scraping new match: https://api.dreamteam.gg/analytics/csgo/game-analytics-proxy/stats/replays/5ca7d628c0f32a04bc660a02/rounds\n"
     ]
    },
    {
     "name": "stderr",
     "output_type": "stream",
     "text": [
      "2019-05-10 19:54:44.386 | INFO     | __main__:scrape_round_winner:30 - Scraping new match: https://api.dreamteam.gg/analytics/csgo/game-analytics-proxy/stats/replays/5ca7d62d27b8d804e4166534/rounds\n"
     ]
    },
    {
     "name": "stderr",
     "output_type": "stream",
     "text": [
      "2019-05-10 19:54:45.890 | INFO     | __main__:scrape_round_winner:30 - Scraping new match: https://api.dreamteam.gg/analytics/csgo/game-analytics-proxy/stats/replays/5ca7d632c0f32a04bc660a03/rounds\n"
     ]
    },
    {
     "name": "stderr",
     "output_type": "stream",
     "text": [
      "2019-05-10 19:54:47.385 | INFO     | __main__:scrape_round_winner:30 - Scraping new match: https://api.dreamteam.gg/analytics/csgo/game-analytics-proxy/stats/replays/5ca7d638c0f32a049c5c9af5/rounds\n"
     ]
    },
    {
     "name": "stderr",
     "output_type": "stream",
     "text": [
      "2019-05-10 19:54:48.971 | INFO     | __main__:scrape_round_winner:30 - Scraping new match: https://api.dreamteam.gg/analytics/csgo/game-analytics-proxy/stats/replays/5ca7d685bcf70a05324c3092/rounds\n"
     ]
    },
    {
     "name": "stderr",
     "output_type": "stream",
     "text": [
      "2019-05-10 19:54:50.464 | INFO     | __main__:scrape_round_winner:30 - Scraping new match: https://api.dreamteam.gg/analytics/csgo/game-analytics-proxy/stats/replays/5ca7d68ad35cfb0473675164/rounds\n"
     ]
    },
    {
     "name": "stderr",
     "output_type": "stream",
     "text": [
      "2019-05-10 19:54:51.965 | INFO     | __main__:scrape_round_winner:30 - Scraping new match: https://api.dreamteam.gg/analytics/csgo/game-analytics-proxy/stats/replays/5ca7d68f60aed204d97a50f2/rounds\n"
     ]
    },
    {
     "name": "stderr",
     "output_type": "stream",
     "text": [
      "2019-05-10 19:54:53.461 | INFO     | __main__:scrape_round_winner:30 - Scraping new match: https://api.dreamteam.gg/analytics/csgo/game-analytics-proxy/stats/replays/5ca7d694c0f32a04bc660a04/rounds\n"
     ]
    },
    {
     "name": "stderr",
     "output_type": "stream",
     "text": [
      "2019-05-10 19:54:54.950 | INFO     | __main__:scrape_round_winner:30 - Scraping new match: https://api.dreamteam.gg/analytics/csgo/game-analytics-proxy/stats/replays/5ca7d699dbb10b04e41f0032/rounds\n"
     ]
    },
    {
     "name": "stderr",
     "output_type": "stream",
     "text": [
      "2019-05-10 19:54:56.483 | INFO     | __main__:scrape_round_winner:30 - Scraping new match: https://api.dreamteam.gg/analytics/csgo/game-analytics-proxy/stats/replays/5ca7d70b6bd0f904b356e6a2/rounds\n"
     ]
    },
    {
     "name": "stderr",
     "output_type": "stream",
     "text": [
      "2019-05-10 19:54:57.974 | INFO     | __main__:scrape_round_winner:30 - Scraping new match: https://api.dreamteam.gg/analytics/csgo/game-analytics-proxy/stats/replays/5ca7d70f6bd0f904b356e6a3/rounds\n"
     ]
    },
    {
     "name": "stderr",
     "output_type": "stream",
     "text": [
      "2019-05-10 19:54:59.487 | INFO     | __main__:scrape_round_winner:30 - Scraping new match: https://api.dreamteam.gg/analytics/csgo/game-analytics-proxy/stats/replays/5ca7d7143cb8870418066d67/rounds\n"
     ]
    },
    {
     "name": "stderr",
     "output_type": "stream",
     "text": [
      "2019-05-10 19:55:00.988 | INFO     | __main__:scrape_round_winner:30 - Scraping new match: https://api.dreamteam.gg/analytics/csgo/game-analytics-proxy/stats/replays/5ca7d71960aed204d97a50f3/rounds\n"
     ]
    },
    {
     "name": "stderr",
     "output_type": "stream",
     "text": [
      "2019-05-10 19:55:02.496 | INFO     | __main__:scrape_round_winner:30 - Scraping new match: https://api.dreamteam.gg/analytics/csgo/game-analytics-proxy/stats/replays/5ca7d71d60aed204d97a50f4/rounds\n"
     ]
    },
    {
     "name": "stderr",
     "output_type": "stream",
     "text": [
      "2019-05-10 19:55:03.987 | INFO     | __main__:scrape_round_winner:30 - Scraping new match: https://api.dreamteam.gg/analytics/csgo/game-analytics-proxy/stats/replays/5ca7d7a0d35cfb0473675165/rounds\n"
     ]
    },
    {
     "name": "stderr",
     "output_type": "stream",
     "text": [
      "2019-05-10 19:55:05.549 | INFO     | __main__:scrape_round_winner:30 - Scraping new match: https://api.dreamteam.gg/analytics/csgo/game-analytics-proxy/stats/replays/5ca7d7b03cb88704c22c1942/rounds\n"
     ]
    },
    {
     "name": "stderr",
     "output_type": "stream",
     "text": [
      "2019-05-10 19:55:07.067 | INFO     | __main__:scrape_round_winner:30 - Scraping new match: https://api.dreamteam.gg/analytics/csgo/game-analytics-proxy/stats/replays/5ca7d7b6d43602049c35b632/rounds\n"
     ]
    },
    {
     "name": "stderr",
     "output_type": "stream",
     "text": [
      "2019-05-10 19:55:08.649 | INFO     | __main__:scrape_round_winner:30 - Scraping new match: https://api.dreamteam.gg/analytics/csgo/game-analytics-proxy/stats/replays/5ca7d7bb27b8d804e4166535/rounds\n"
     ]
    },
    {
     "name": "stderr",
     "output_type": "stream",
     "text": [
      "2019-05-10 19:55:10.126 | INFO     | __main__:scrape_round_winner:30 - Scraping new match: https://api.dreamteam.gg/analytics/csgo/game-analytics-proxy/stats/replays/5ca7d7c027b8d804e4166536/rounds\n"
     ]
    },
    {
     "name": "stderr",
     "output_type": "stream",
     "text": [
      "2019-05-10 19:55:11.585 | INFO     | __main__:scrape_round_winner:30 - Scraping new match: https://api.dreamteam.gg/analytics/csgo/game-analytics-proxy/stats/replays/5ca7d82f3cb88704c22c1943/rounds\n"
     ]
    },
    {
     "name": "stderr",
     "output_type": "stream",
     "text": [
      "2019-05-10 19:55:13.091 | INFO     | __main__:scrape_round_winner:30 - Scraping new match: https://api.dreamteam.gg/analytics/csgo/game-analytics-proxy/stats/replays/5ca7d834c0f32a04bc660a05/rounds\n"
     ]
    },
    {
     "name": "stderr",
     "output_type": "stream",
     "text": [
      "2019-05-10 19:55:14.562 | INFO     | __main__:scrape_round_winner:30 - Scraping new match: https://api.dreamteam.gg/analytics/csgo/game-analytics-proxy/stats/replays/5ca7d83927b8d804db331e94/rounds\n"
     ]
    },
    {
     "name": "stderr",
     "output_type": "stream",
     "text": [
      "2019-05-10 19:55:16.165 | INFO     | __main__:scrape_round_winner:30 - Scraping new match: https://api.dreamteam.gg/analytics/csgo/game-analytics-proxy/stats/replays/5ca7d83ddbb10b04e41f0033/rounds\n"
     ]
    },
    {
     "name": "stderr",
     "output_type": "stream",
     "text": [
      "2019-05-10 19:55:17.634 | INFO     | __main__:scrape_round_winner:30 - Scraping new match: https://api.dreamteam.gg/analytics/csgo/game-analytics-proxy/stats/replays/5ca7d8418da20e04e12a5494/rounds\n"
     ]
    },
    {
     "name": "stderr",
     "output_type": "stream",
     "text": [
      "2019-05-10 19:55:19.220 | INFO     | __main__:scrape_round_winner:30 - Scraping new match: https://api.dreamteam.gg/analytics/csgo/game-analytics-proxy/stats/replays/5ca7d8c5bcf70a05324c3093/rounds\n"
     ]
    },
    {
     "name": "stderr",
     "output_type": "stream",
     "text": [
      "2019-05-10 19:55:20.723 | INFO     | __main__:scrape_round_winner:30 - Scraping new match: https://api.dreamteam.gg/analytics/csgo/game-analytics-proxy/stats/replays/5ca7d8cadbb10b04ee160193/rounds\n"
     ]
    },
    {
     "name": "stderr",
     "output_type": "stream",
     "text": [
      "2019-05-10 19:55:22.325 | INFO     | __main__:scrape_round_winner:30 - Scraping new match: https://api.dreamteam.gg/analytics/csgo/game-analytics-proxy/stats/replays/5ca7d8ce3cb88704c22c1944/rounds\n"
     ]
    },
    {
     "name": "stderr",
     "output_type": "stream",
     "text": [
      "2019-05-10 19:55:23.803 | INFO     | __main__:scrape_round_winner:30 - Scraping new match: https://api.dreamteam.gg/analytics/csgo/game-analytics-proxy/stats/replays/5ca7d8d327b8d804e4166537/rounds\n"
     ]
    },
    {
     "name": "stderr",
     "output_type": "stream",
     "text": [
      "2019-05-10 19:55:25.326 | INFO     | __main__:scrape_round_winner:30 - Scraping new match: https://api.dreamteam.gg/analytics/csgo/game-analytics-proxy/stats/replays/5ca7d8e43cb8870418066d68/rounds\n"
     ]
    },
    {
     "name": "stderr",
     "output_type": "stream",
     "text": [
      "2019-05-10 19:55:26.836 | INFO     | __main__:scrape_round_winner:30 - Scraping new match: https://api.dreamteam.gg/analytics/csgo/game-analytics-proxy/stats/replays/5ca7d93560aed2049575c7f7/rounds\n"
     ]
    },
    {
     "name": "stderr",
     "output_type": "stream",
     "text": [
      "2019-05-10 19:55:28.377 | INFO     | __main__:scrape_round_winner:30 - Scraping new match: https://api.dreamteam.gg/analytics/csgo/game-analytics-proxy/stats/replays/5cab74a93cb887065d429b62/rounds\n"
     ]
    },
    {
     "name": "stderr",
     "output_type": "stream",
     "text": [
      "2019-05-10 19:55:29.864 | INFO     | __main__:scrape_round_winner:30 - Scraping new match: https://api.dreamteam.gg/analytics/csgo/game-analytics-proxy/stats/replays/5cab77b08da20e0687157ee3/rounds\n"
     ]
    },
    {
     "name": "stderr",
     "output_type": "stream",
     "text": [
      "2019-05-10 19:55:31.346 | INFO     | __main__:scrape_round_winner:30 - Scraping new match: https://api.dreamteam.gg/analytics/csgo/game-analytics-proxy/stats/replays/5cab786d8da20e0687157ee4/rounds\n"
     ]
    },
    {
     "name": "stderr",
     "output_type": "stream",
     "text": [
      "2019-05-10 19:55:32.819 | INFO     | __main__:scrape_round_winner:30 - Scraping new match: https://api.dreamteam.gg/analytics/csgo/game-analytics-proxy/stats/replays/5cab7a8dbcf70a06d0144735/rounds\n"
     ]
    },
    {
     "name": "stderr",
     "output_type": "stream",
     "text": [
      "2019-05-10 19:55:34.312 | INFO     | __main__:scrape_round_winner:30 - Scraping new match: https://api.dreamteam.gg/analytics/csgo/game-analytics-proxy/stats/replays/5cab7b193cb887065d429b65/rounds\n"
     ]
    },
    {
     "name": "stderr",
     "output_type": "stream",
     "text": [
      "2019-05-10 19:55:35.872 | INFO     | __main__:scrape_round_winner:30 - Scraping new match: https://api.dreamteam.gg/analytics/csgo/game-analytics-proxy/stats/replays/5cab7ab53cb887065d429b64/rounds\n"
     ]
    },
    {
     "name": "stderr",
     "output_type": "stream",
     "text": [
      "2019-05-10 19:55:37.479 | INFO     | __main__:scrape_round_winner:30 - Scraping new match: https://api.dreamteam.gg/analytics/csgo/game-analytics-proxy/stats/replays/5cab7bedc0f32a064e127642/rounds\n"
     ]
    },
    {
     "name": "stderr",
     "output_type": "stream",
     "text": [
      "2019-05-10 19:55:39.038 | INFO     | __main__:scrape_round_winner:30 - Scraping new match: https://api.dreamteam.gg/analytics/csgo/game-analytics-proxy/stats/replays/5cab7c2cd35cfb0604042bf3/rounds\n"
     ]
    },
    {
     "name": "stderr",
     "output_type": "stream",
     "text": [
      "2019-05-10 19:55:40.562 | INFO     | __main__:scrape_round_winner:30 - Scraping new match: https://api.dreamteam.gg/analytics/csgo/game-analytics-proxy/stats/replays/5cab7d13bcf70a06d0144736/rounds\n"
     ]
    },
    {
     "name": "stderr",
     "output_type": "stream",
     "text": [
      "2019-05-10 19:55:42.050 | INFO     | __main__:scrape_round_winner:30 - Scraping new match: https://api.dreamteam.gg/analytics/csgo/game-analytics-proxy/stats/replays/5cab7d14d35cfb060c2c9b92/rounds\n"
     ]
    },
    {
     "name": "stderr",
     "output_type": "stream",
     "text": [
      "2019-05-10 19:55:43.565 | INFO     | __main__:scrape_round_winner:30 - Scraping new match: https://api.dreamteam.gg/analytics/csgo/game-analytics-proxy/stats/replays/5cab7e1e60aed206984df912/rounds\n"
     ]
    },
    {
     "name": "stderr",
     "output_type": "stream",
     "text": [
      "2019-05-10 19:55:45.101 | INFO     | __main__:scrape_round_winner:30 - Scraping new match: https://api.dreamteam.gg/analytics/csgo/game-analytics-proxy/stats/replays/5cab7df5d35cfb0604042bf4/rounds\n"
     ]
    },
    {
     "name": "stderr",
     "output_type": "stream",
     "text": [
      "2019-05-10 19:55:46.623 | INFO     | __main__:scrape_round_winner:30 - Scraping new match: https://api.dreamteam.gg/analytics/csgo/game-analytics-proxy/stats/replays/5cab7f20dbb10b06a322ccc2/rounds\n"
     ]
    },
    {
     "name": "stderr",
     "output_type": "stream",
     "text": [
      "2019-05-10 19:55:48.109 | INFO     | __main__:scrape_round_winner:30 - Scraping new match: https://api.dreamteam.gg/analytics/csgo/game-analytics-proxy/stats/replays/5cab7f57dbb10b06a322ccc3/rounds\n"
     ]
    },
    {
     "name": "stderr",
     "output_type": "stream",
     "text": [
      "2019-05-10 19:55:49.592 | INFO     | __main__:scrape_round_winner:30 - Scraping new match: https://api.dreamteam.gg/analytics/csgo/game-analytics-proxy/stats/replays/5cab7f3b8da20e065d097ad8/rounds\n"
     ]
    },
    {
     "name": "stderr",
     "output_type": "stream",
     "text": [
      "2019-05-10 19:55:51.076 | INFO     | __main__:scrape_round_winner:30 - Scraping new match: https://api.dreamteam.gg/analytics/csgo/game-analytics-proxy/stats/replays/5cab7f916bd0f9065b551215/rounds\n"
     ]
    },
    {
     "name": "stderr",
     "output_type": "stream",
     "text": [
      "2019-05-10 19:55:52.590 | INFO     | __main__:scrape_round_winner:30 - Scraping new match: https://api.dreamteam.gg/analytics/csgo/game-analytics-proxy/stats/replays/5cab7fbe8da20e065d097ad9/rounds\n"
     ]
    },
    {
     "name": "stderr",
     "output_type": "stream",
     "text": [
      "2019-05-10 19:55:54.078 | INFO     | __main__:scrape_round_winner:30 - Scraping new match: https://api.dreamteam.gg/analytics/csgo/game-analytics-proxy/stats/replays/5cab7fca8da20e065d097ada/rounds\n"
     ]
    },
    {
     "name": "stderr",
     "output_type": "stream",
     "text": [
      "2019-05-10 19:55:55.579 | INFO     | __main__:scrape_round_winner:30 - Scraping new match: https://api.dreamteam.gg/analytics/csgo/game-analytics-proxy/stats/replays/5cab8058d35cfb0604042bf5/rounds\n"
     ]
    },
    {
     "name": "stderr",
     "output_type": "stream",
     "text": [
      "2019-05-10 19:55:57.052 | INFO     | __main__:scrape_round_winner:30 - Scraping new match: https://api.dreamteam.gg/analytics/csgo/game-analytics-proxy/stats/replays/5cab8093bcf70a06d0144738/rounds\n"
     ]
    },
    {
     "name": "stderr",
     "output_type": "stream",
     "text": [
      "2019-05-10 19:55:58.578 | INFO     | __main__:scrape_round_winner:30 - Scraping new match: https://api.dreamteam.gg/analytics/csgo/game-analytics-proxy/stats/replays/5cab825fd35cfb0604042bf6/rounds\n"
     ]
    },
    {
     "name": "stderr",
     "output_type": "stream",
     "text": [
      "2019-05-10 19:56:00.072 | INFO     | __main__:scrape_round_winner:30 - Scraping new match: https://api.dreamteam.gg/analytics/csgo/game-analytics-proxy/stats/replays/5cab828460aed206984df913/rounds\n"
     ]
    },
    {
     "name": "stderr",
     "output_type": "stream",
     "text": [
      "2019-05-10 19:56:01.580 | INFO     | __main__:scrape_round_winner:30 - Scraping new match: https://api.dreamteam.gg/analytics/csgo/game-analytics-proxy/stats/replays/5cab8288bcf70a06d0144739/rounds\n"
     ]
    },
    {
     "name": "stderr",
     "output_type": "stream",
     "text": [
      "2019-05-10 19:56:03.105 | INFO     | __main__:scrape_round_winner:30 - Scraping new match: https://api.dreamteam.gg/analytics/csgo/game-analytics-proxy/stats/replays/5cab837ec0f32a064e127644/rounds\n"
     ]
    },
    {
     "name": "stderr",
     "output_type": "stream",
     "text": [
      "2019-05-10 19:56:04.621 | INFO     | __main__:scrape_round_winner:30 - Scraping new match: https://api.dreamteam.gg/analytics/csgo/game-analytics-proxy/stats/replays/5cab8371d35cfb0604042bf8/rounds\n"
     ]
    },
    {
     "name": "stderr",
     "output_type": "stream",
     "text": [
      "2019-05-10 19:56:06.105 | INFO     | __main__:scrape_round_winner:30 - Scraping new match: https://api.dreamteam.gg/analytics/csgo/game-analytics-proxy/stats/replays/5cab846f27b8d8068413d765/rounds\n"
     ]
    },
    {
     "name": "stderr",
     "output_type": "stream",
     "text": [
      "2019-05-10 19:56:07.620 | INFO     | __main__:scrape_round_winner:30 - Scraping new match: https://api.dreamteam.gg/analytics/csgo/game-analytics-proxy/stats/replays/5cab867f27b8d8068413d766/rounds\n"
     ]
    },
    {
     "name": "stderr",
     "output_type": "stream",
     "text": [
      "2019-05-10 19:56:09.113 | INFO     | __main__:scrape_round_winner:30 - Scraping new match: https://api.dreamteam.gg/analytics/csgo/game-analytics-proxy/stats/replays/5cab848660aed206984df914/rounds\n"
     ]
    },
    {
     "name": "stderr",
     "output_type": "stream",
     "text": [
      "2019-05-10 19:56:10.600 | INFO     | __main__:scrape_round_winner:30 - Scraping new match: https://api.dreamteam.gg/analytics/csgo/game-analytics-proxy/stats/replays/5cab85ecc0f32a064e127645/rounds\n"
     ]
    },
    {
     "name": "stderr",
     "output_type": "stream",
     "text": [
      "2019-05-10 19:56:12.107 | INFO     | __main__:scrape_round_winner:30 - Scraping new match: https://api.dreamteam.gg/analytics/csgo/game-analytics-proxy/stats/replays/5cab85d727b8d80699158452/rounds\n"
     ]
    },
    {
     "name": "stderr",
     "output_type": "stream",
     "text": [
      "2019-05-10 19:56:13.626 | INFO     | __main__:scrape_round_winner:30 - Scraping new match: https://api.dreamteam.gg/analytics/csgo/game-analytics-proxy/stats/replays/5cab86a6d35cfb0604042bf9/rounds\n"
     ]
    },
    {
     "name": "stderr",
     "output_type": "stream",
     "text": [
      "2019-05-10 19:56:15.131 | INFO     | __main__:scrape_round_winner:30 - Scraping new match: https://api.dreamteam.gg/analytics/csgo/game-analytics-proxy/stats/replays/5cab87078da20e06905e81f2/rounds\n"
     ]
    },
    {
     "name": "stderr",
     "output_type": "stream",
     "text": [
      "2019-05-10 19:56:16.613 | INFO     | __main__:scrape_round_winner:30 - Scraping new match: https://api.dreamteam.gg/analytics/csgo/game-analytics-proxy/stats/replays/5cab87d03cb887065d429b66/rounds\n"
     ]
    },
    {
     "name": "stderr",
     "output_type": "stream",
     "text": [
      "2019-05-10 19:56:18.113 | INFO     | __main__:scrape_round_winner:30 - Scraping new match: https://api.dreamteam.gg/analytics/csgo/game-analytics-proxy/stats/replays/5cab87d9dbb10b06ae0712c2/rounds\n"
     ]
    },
    {
     "name": "stderr",
     "output_type": "stream",
     "text": [
      "2019-05-10 19:56:19.616 | INFO     | __main__:scrape_round_winner:30 - Scraping new match: https://api.dreamteam.gg/analytics/csgo/game-analytics-proxy/stats/replays/5cab87e4d43602061a2fe152/rounds\n"
     ]
    },
    {
     "name": "stderr",
     "output_type": "stream",
     "text": [
      "2019-05-10 19:56:21.208 | INFO     | __main__:scrape_round_winner:30 - Scraping new match: https://api.dreamteam.gg/analytics/csgo/game-analytics-proxy/stats/replays/5cab89276bd0f90672324222/rounds\n"
     ]
    },
    {
     "name": "stderr",
     "output_type": "stream",
     "text": [
      "2019-05-10 19:56:22.719 | INFO     | __main__:scrape_round_winner:30 - Scraping new match: https://api.dreamteam.gg/analytics/csgo/game-analytics-proxy/stats/replays/5cab896b8da20e06905e81f3/rounds\n"
     ]
    },
    {
     "name": "stderr",
     "output_type": "stream",
     "text": [
      "2019-05-10 19:56:24.230 | INFO     | __main__:scrape_round_winner:30 - Scraping new match: https://api.dreamteam.gg/analytics/csgo/game-analytics-proxy/stats/replays/5cab8933c0f32a064e127646/rounds\n"
     ]
    },
    {
     "name": "stderr",
     "output_type": "stream",
     "text": [
      "2019-05-10 19:56:25.712 | INFO     | __main__:scrape_round_winner:30 - Scraping new match: https://api.dreamteam.gg/analytics/csgo/game-analytics-proxy/stats/replays/5cab8aa5bcf70a06fe0ce342/rounds\n"
     ]
    },
    {
     "name": "stderr",
     "output_type": "stream",
     "text": [
      "2019-05-10 19:56:27.200 | INFO     | __main__:scrape_round_winner:30 - Scraping new match: https://api.dreamteam.gg/analytics/csgo/game-analytics-proxy/stats/replays/5cab8aa5c0f32a064e127647/rounds\n"
     ]
    },
    {
     "name": "stderr",
     "output_type": "stream",
     "text": [
      "2019-05-10 19:56:28.727 | INFO     | __main__:scrape_round_winner:30 - Scraping new match: https://api.dreamteam.gg/analytics/csgo/game-analytics-proxy/stats/replays/5cab8ab9d35cfb0604042bfa/rounds\n"
     ]
    },
    {
     "name": "stderr",
     "output_type": "stream",
     "text": [
      "2019-05-10 19:56:30.246 | INFO     | __main__:scrape_round_winner:30 - Scraping new match: https://api.dreamteam.gg/analytics/csgo/game-analytics-proxy/stats/replays/5ca8933b60aed205204eeda3/rounds\n"
     ]
    },
    {
     "name": "stderr",
     "output_type": "stream",
     "text": [
      "2019-05-10 19:56:31.730 | INFO     | __main__:scrape_round_winner:30 - Scraping new match: https://api.dreamteam.gg/analytics/csgo/game-analytics-proxy/stats/replays/5ca8935327b8d8051c24a7e2/rounds\n"
     ]
    },
    {
     "name": "stderr",
     "output_type": "stream",
     "text": [
      "2019-05-10 19:56:33.291 | INFO     | __main__:scrape_round_winner:30 - Scraping new match: https://api.dreamteam.gg/analytics/csgo/game-analytics-proxy/stats/replays/5ca89358d4360204dc71f7f2/rounds\n"
     ]
    },
    {
     "name": "stderr",
     "output_type": "stream",
     "text": [
      "2019-05-10 19:56:34.778 | INFO     | __main__:scrape_round_winner:30 - Scraping new match: https://api.dreamteam.gg/analytics/csgo/game-analytics-proxy/stats/replays/5ca8935cd4360204dc71f7f3/rounds\n"
     ]
    },
    {
     "name": "stderr",
     "output_type": "stream",
     "text": [
      "2019-05-10 19:56:36.282 | INFO     | __main__:scrape_round_winner:30 - Scraping new match: https://api.dreamteam.gg/analytics/csgo/game-analytics-proxy/stats/replays/5ca893628da20e0525441a72/rounds\n"
     ]
    },
    {
     "name": "stderr",
     "output_type": "stream",
     "text": [
      "2019-05-10 19:56:37.769 | INFO     | __main__:scrape_round_winner:30 - Scraping new match: https://api.dreamteam.gg/analytics/csgo/game-analytics-proxy/stats/replays/5ca893a6bcf70a05806ed392/rounds\n"
     ]
    },
    {
     "name": "stderr",
     "output_type": "stream",
     "text": [
      "2019-05-10 19:56:39.266 | INFO     | __main__:scrape_round_winner:30 - Scraping new match: https://api.dreamteam.gg/analytics/csgo/game-analytics-proxy/stats/replays/5ca893ab6bd0f9050a760372/rounds\n"
     ]
    },
    {
     "name": "stderr",
     "output_type": "stream",
     "text": [
      "2019-05-10 19:56:40.801 | INFO     | __main__:scrape_round_winner:30 - Scraping new match: https://api.dreamteam.gg/analytics/csgo/game-analytics-proxy/stats/replays/5ca893afd4360204dc71f7f4/rounds\n"
     ]
    },
    {
     "name": "stderr",
     "output_type": "stream",
     "text": [
      "2019-05-10 19:56:42.310 | INFO     | __main__:scrape_round_winner:30 - Scraping new match: https://api.dreamteam.gg/analytics/csgo/game-analytics-proxy/stats/replays/5ca893b3d35cfb04be230d84/rounds\n"
     ]
    },
    {
     "name": "stderr",
     "output_type": "stream",
     "text": [
      "2019-05-10 19:56:43.832 | INFO     | __main__:scrape_round_winner:30 - Scraping new match: https://api.dreamteam.gg/analytics/csgo/game-analytics-proxy/stats/replays/5ca893b827b8d8051c24a7e3/rounds\n"
     ]
    },
    {
     "name": "stderr",
     "output_type": "stream",
     "text": [
      "2019-05-10 19:56:45.327 | INFO     | __main__:scrape_round_winner:30 - Scraping new match: https://api.dreamteam.gg/analytics/csgo/game-analytics-proxy/stats/replays/5ca8941fdbb10b0514668b63/rounds\n"
     ]
    },
    {
     "name": "stderr",
     "output_type": "stream",
     "text": [
      "2019-05-10 19:56:46.797 | INFO     | __main__:scrape_round_winner:30 - Scraping new match: https://api.dreamteam.gg/analytics/csgo/game-analytics-proxy/stats/replays/5ca89424d35cfb04be230d85/rounds\n"
     ]
    },
    {
     "name": "stderr",
     "output_type": "stream",
     "text": [
      "2019-05-10 19:56:48.304 | INFO     | __main__:scrape_round_winner:30 - Scraping new match: https://api.dreamteam.gg/analytics/csgo/game-analytics-proxy/stats/replays/5ca894288da20e0525441a73/rounds\n"
     ]
    },
    {
     "name": "stderr",
     "output_type": "stream",
     "text": [
      "2019-05-10 19:56:49.798 | INFO     | __main__:scrape_round_winner:30 - Scraping new match: https://api.dreamteam.gg/analytics/csgo/game-analytics-proxy/stats/replays/5ca8942cd35cfb04c42c1522/rounds\n"
     ]
    },
    {
     "name": "stderr",
     "output_type": "stream",
     "text": [
      "2019-05-10 19:56:51.269 | INFO     | __main__:scrape_round_winner:30 - Scraping new match: https://api.dreamteam.gg/analytics/csgo/game-analytics-proxy/stats/replays/5ca894318da20e0525441a74/rounds\n"
     ]
    },
    {
     "name": "stderr",
     "output_type": "stream",
     "text": [
      "2019-05-10 19:56:52.776 | INFO     | __main__:scrape_round_winner:30 - Scraping new match: https://api.dreamteam.gg/analytics/csgo/game-analytics-proxy/stats/replays/5ca8947c3cb88704ee1105b2/rounds\n"
     ]
    },
    {
     "name": "stderr",
     "output_type": "stream",
     "text": [
      "2019-05-10 19:56:54.270 | INFO     | __main__:scrape_round_winner:30 - Scraping new match: https://api.dreamteam.gg/analytics/csgo/game-analytics-proxy/stats/replays/5ca894813cb88704ee1105b3/rounds\n"
     ]
    },
    {
     "name": "stderr",
     "output_type": "stream",
     "text": [
      "2019-05-10 19:56:55.913 | INFO     | __main__:scrape_round_winner:30 - Scraping new match: https://api.dreamteam.gg/analytics/csgo/game-analytics-proxy/stats/replays/5ca89485bcf70a05544f8033/rounds\n"
     ]
    },
    {
     "name": "stderr",
     "output_type": "stream",
     "text": [
      "2019-05-10 19:56:57.440 | INFO     | __main__:scrape_round_winner:30 - Scraping new match: https://api.dreamteam.gg/analytics/csgo/game-analytics-proxy/stats/replays/5ca894893cb88704ee1105b4/rounds\n"
     ]
    },
    {
     "name": "stderr",
     "output_type": "stream",
     "text": [
      "2019-05-10 19:56:58.926 | INFO     | __main__:scrape_round_winner:30 - Scraping new match: https://api.dreamteam.gg/analytics/csgo/game-analytics-proxy/stats/replays/5ca8948e8da20e0439132082/rounds\n"
     ]
    },
    {
     "name": "stderr",
     "output_type": "stream",
     "text": [
      "2019-05-10 19:57:00.427 | INFO     | __main__:scrape_round_winner:30 - Scraping new match: https://api.dreamteam.gg/analytics/csgo/game-analytics-proxy/stats/replays/5ca8950bbcf70a05806ed393/rounds\n"
     ]
    },
    {
     "name": "stderr",
     "output_type": "stream",
     "text": [
      "2019-05-10 19:57:01.948 | INFO     | __main__:scrape_round_winner:30 - Scraping new match: https://api.dreamteam.gg/analytics/csgo/game-analytics-proxy/stats/replays/5ca8950f3cb88704ee1105b5/rounds\n"
     ]
    },
    {
     "name": "stderr",
     "output_type": "stream",
     "text": [
      "2019-05-10 19:57:03.469 | INFO     | __main__:scrape_round_winner:30 - Scraping new match: https://api.dreamteam.gg/analytics/csgo/game-analytics-proxy/stats/replays/5ca895133cb88704ee1105b6/rounds\n"
     ]
    },
    {
     "name": "stderr",
     "output_type": "stream",
     "text": [
      "2019-05-10 19:57:05.106 | INFO     | __main__:scrape_round_winner:30 - Scraping new match: https://api.dreamteam.gg/analytics/csgo/game-analytics-proxy/stats/replays/5ca89518c0f32a05060f1ea4/rounds\n"
     ]
    },
    {
     "name": "stderr",
     "output_type": "stream",
     "text": [
      "2019-05-10 19:57:06.615 | INFO     | __main__:scrape_round_winner:30 - Scraping new match: https://api.dreamteam.gg/analytics/csgo/game-analytics-proxy/stats/replays/5ca8951edbb10b053979be12/rounds\n"
     ]
    },
    {
     "name": "stderr",
     "output_type": "stream",
     "text": [
      "2019-05-10 19:57:08.092 | INFO     | __main__:scrape_round_winner:30 - Scraping new match: https://api.dreamteam.gg/analytics/csgo/game-analytics-proxy/stats/replays/5ca8959b27b8d8052a1c0ba2/rounds\n"
     ]
    },
    {
     "name": "stderr",
     "output_type": "stream",
     "text": [
      "2019-05-10 19:57:09.572 | INFO     | __main__:scrape_round_winner:30 - Scraping new match: https://api.dreamteam.gg/analytics/csgo/game-analytics-proxy/stats/replays/5ca895a03cb88704ee1105b7/rounds\n"
     ]
    },
    {
     "name": "stderr",
     "output_type": "stream",
     "text": [
      "2019-05-10 19:57:11.100 | INFO     | __main__:scrape_round_winner:30 - Scraping new match: https://api.dreamteam.gg/analytics/csgo/game-analytics-proxy/stats/replays/5ca895a5c0f32a05060f1ea5/rounds\n"
     ]
    },
    {
     "name": "stderr",
     "output_type": "stream",
     "text": [
      "2019-05-10 19:57:12.587 | INFO     | __main__:scrape_round_winner:30 - Scraping new match: https://api.dreamteam.gg/analytics/csgo/game-analytics-proxy/stats/replays/5ca895a98da20e0439132083/rounds\n"
     ]
    },
    {
     "name": "stderr",
     "output_type": "stream",
     "text": [
      "2019-05-10 19:57:14.047 | INFO     | __main__:scrape_round_winner:30 - Scraping new match: https://api.dreamteam.gg/analytics/csgo/game-analytics-proxy/stats/replays/5ca895addbb10b053979be13/rounds\n"
     ]
    },
    {
     "name": "stderr",
     "output_type": "stream",
     "text": [
      "2019-05-10 19:57:15.556 | INFO     | __main__:scrape_round_winner:30 - Scraping new match: https://api.dreamteam.gg/analytics/csgo/game-analytics-proxy/stats/replays/5ca895f3d4360204dc71f7f5/rounds\n"
     ]
    },
    {
     "name": "stderr",
     "output_type": "stream",
     "text": [
      "2019-05-10 19:57:17.096 | INFO     | __main__:scrape_round_winner:30 - Scraping new match: https://api.dreamteam.gg/analytics/csgo/game-analytics-proxy/stats/replays/5ca895eebcf70a05544f8034/rounds\n"
     ]
    },
    {
     "name": "stderr",
     "output_type": "stream",
     "text": [
      "2019-05-10 19:57:18.554 | INFO     | __main__:scrape_round_winner:30 - Scraping new match: https://api.dreamteam.gg/analytics/csgo/game-analytics-proxy/stats/replays/5ca895f8c0f32a050e68b412/rounds\n"
     ]
    },
    {
     "name": "stderr",
     "output_type": "stream",
     "text": [
      "2019-05-10 19:57:20.058 | INFO     | __main__:scrape_round_winner:30 - Scraping new match: https://api.dreamteam.gg/analytics/csgo/game-analytics-proxy/stats/replays/5ca895fd8da20e052022af62/rounds\n"
     ]
    },
    {
     "name": "stderr",
     "output_type": "stream",
     "text": [
      "2019-05-10 19:57:21.558 | INFO     | __main__:scrape_round_winner:30 - Scraping new match: https://api.dreamteam.gg/analytics/csgo/game-analytics-proxy/stats/replays/5ca89601bcf70a05544f8035/rounds\n"
     ]
    },
    {
     "name": "stderr",
     "output_type": "stream",
     "text": [
      "2019-05-10 19:57:23.091 | INFO     | __main__:scrape_round_winner:30 - Scraping new match: https://api.dreamteam.gg/analytics/csgo/game-analytics-proxy/stats/replays/5ca8964dd35cfb04be230d86/rounds\n"
     ]
    },
    {
     "name": "stderr",
     "output_type": "stream",
     "text": [
      "2019-05-10 19:57:24.569 | INFO     | __main__:scrape_round_winner:30 - Scraping new match: https://api.dreamteam.gg/analytics/csgo/game-analytics-proxy/stats/replays/5ca8eb80d35cfb04f505e802/rounds\n"
     ]
    },
    {
     "name": "stderr",
     "output_type": "stream",
     "text": [
      "2019-05-10 19:57:26.084 | INFO     | __main__:scrape_round_winner:30 - Scraping new match: https://api.dreamteam.gg/analytics/csgo/game-analytics-proxy/stats/replays/5ca8eb8c60aed205532a4d82/rounds\n"
     ]
    },
    {
     "name": "stderr",
     "output_type": "stream",
     "text": [
      "2019-05-10 19:57:27.592 | INFO     | __main__:scrape_round_winner:30 - Scraping new match: https://api.dreamteam.gg/analytics/csgo/game-analytics-proxy/stats/replays/5ca8eb916bd0f905234747d6/rounds\n"
     ]
    },
    {
     "name": "stderr",
     "output_type": "stream",
     "text": [
      "2019-05-10 19:57:29.107 | INFO     | __main__:scrape_round_winner:30 - Scraping new match: https://api.dreamteam.gg/analytics/csgo/game-analytics-proxy/stats/replays/5ca8eb96bcf70a059e3ad013/rounds\n"
     ]
    },
    {
     "name": "stderr",
     "output_type": "stream",
     "text": [
      "2019-05-10 19:57:30.615 | INFO     | __main__:scrape_round_winner:30 - Scraping new match: https://api.dreamteam.gg/analytics/csgo/game-analytics-proxy/stats/replays/5ca8eb9ad35cfb003e5df853/rounds\n"
     ]
    },
    {
     "name": "stderr",
     "output_type": "stream",
     "text": [
      "2019-05-10 19:57:32.118 | INFO     | __main__:scrape_round_winner:30 - Scraping new match: https://api.dreamteam.gg/analytics/csgo/game-analytics-proxy/stats/replays/5ca8ec9b60aed2053f1dcae2/rounds\n"
     ]
    },
    {
     "name": "stderr",
     "output_type": "stream",
     "text": [
      "2019-05-10 19:57:33.613 | INFO     | __main__:scrape_round_winner:30 - Scraping new match: https://api.dreamteam.gg/analytics/csgo/game-analytics-proxy/stats/replays/5ca8ec9fc0f32a053d6a3442/rounds\n"
     ]
    },
    {
     "name": "stderr",
     "output_type": "stream",
     "text": [
      "2019-05-10 19:57:35.127 | INFO     | __main__:scrape_round_winner:30 - Scraping new match: https://api.dreamteam.gg/analytics/csgo/game-analytics-proxy/stats/replays/5ca8eca327b8d8055752d693/rounds\n"
     ]
    },
    {
     "name": "stderr",
     "output_type": "stream",
     "text": [
      "2019-05-10 19:57:36.623 | INFO     | __main__:scrape_round_winner:30 - Scraping new match: https://api.dreamteam.gg/analytics/csgo/game-analytics-proxy/stats/replays/5ca8eca7bcf70a05af489682/rounds\n"
     ]
    },
    {
     "name": "stderr",
     "output_type": "stream",
     "text": [
      "2019-05-10 19:57:38.108 | INFO     | __main__:scrape_round_winner:30 - Scraping new match: https://api.dreamteam.gg/analytics/csgo/game-analytics-proxy/stats/replays/5ca8ecb527b8d8051c24a7e4/rounds\n"
     ]
    },
    {
     "name": "stderr",
     "output_type": "stream",
     "text": [
      "2019-05-10 19:57:39.611 | INFO     | __main__:scrape_round_winner:30 - Scraping new match: https://api.dreamteam.gg/analytics/csgo/game-analytics-proxy/stats/replays/5ca8ecf73cb88705327d28a3/rounds\n"
     ]
    },
    {
     "name": "stderr",
     "output_type": "stream",
     "text": [
      "2019-05-10 19:57:41.092 | INFO     | __main__:scrape_round_winner:30 - Scraping new match: https://api.dreamteam.gg/analytics/csgo/game-analytics-proxy/stats/replays/5ca8ecfcbcf70a059e3ad014/rounds\n"
     ]
    },
    {
     "name": "stderr",
     "output_type": "stream",
     "text": [
      "2019-05-10 19:57:42.656 | INFO     | __main__:scrape_round_winner:30 - Scraping new match: https://api.dreamteam.gg/analytics/csgo/game-analytics-proxy/stats/replays/5ca8ed023cb88705327d28a4/rounds\n"
     ]
    },
    {
     "name": "stderr",
     "output_type": "stream",
     "text": [
      "2019-05-10 19:57:44.270 | INFO     | __main__:scrape_round_winner:30 - Scraping new match: https://api.dreamteam.gg/analytics/csgo/game-analytics-proxy/stats/replays/5ca8ed0760aed2053f1dcae3/rounds\n"
     ]
    },
    {
     "name": "stderr",
     "output_type": "stream",
     "text": [
      "2019-05-10 19:57:45.764 | INFO     | __main__:scrape_round_winner:30 - Scraping new match: https://api.dreamteam.gg/analytics/csgo/game-analytics-proxy/stats/replays/5ca8ed0bdbb10b055f191153/rounds\n"
     ]
    },
    {
     "name": "stderr",
     "output_type": "stream",
     "text": [
      "2019-05-10 19:57:47.263 | INFO     | __main__:scrape_round_winner:30 - Scraping new match: https://api.dreamteam.gg/analytics/csgo/game-analytics-proxy/stats/replays/5ca8ed5127b8d8055752d694/rounds\n"
     ]
    },
    {
     "name": "stderr",
     "output_type": "stream",
     "text": [
      "2019-05-10 19:57:48.729 | INFO     | __main__:scrape_round_winner:30 - Scraping new match: https://api.dreamteam.gg/analytics/csgo/game-analytics-proxy/stats/replays/5ca8ed556bd0f9054a435722/rounds\n"
     ]
    },
    {
     "name": "stderr",
     "output_type": "stream",
     "text": [
      "2019-05-10 19:57:50.226 | INFO     | __main__:scrape_round_winner:30 - Scraping new match: https://api.dreamteam.gg/analytics/csgo/game-analytics-proxy/stats/replays/5ca8ed5a60aed205532a4d83/rounds\n"
     ]
    },
    {
     "name": "stderr",
     "output_type": "stream",
     "text": [
      "2019-05-10 19:57:51.735 | INFO     | __main__:scrape_round_winner:30 - Scraping new match: https://api.dreamteam.gg/analytics/csgo/game-analytics-proxy/stats/replays/5ca8ed5ed35cfb04f505e803/rounds\n"
     ]
    },
    {
     "name": "stderr",
     "output_type": "stream",
     "text": [
      "2019-05-10 19:57:53.232 | INFO     | __main__:scrape_round_winner:30 - Scraping new match: https://api.dreamteam.gg/analytics/csgo/game-analytics-proxy/stats/replays/5ca8ed6260aed2053f1dcae4/rounds\n"
     ]
    },
    {
     "name": "stderr",
     "output_type": "stream",
     "text": [
      "2019-05-10 19:57:54.731 | INFO     | __main__:scrape_round_winner:30 - Scraping new match: https://api.dreamteam.gg/analytics/csgo/game-analytics-proxy/stats/replays/5ca8ed99dbb10b055f191154/rounds\n"
     ]
    },
    {
     "name": "stderr",
     "output_type": "stream",
     "text": [
      "2019-05-10 19:57:56.223 | INFO     | __main__:scrape_round_winner:30 - Scraping new match: https://api.dreamteam.gg/analytics/csgo/game-analytics-proxy/stats/replays/5ca8ed9ec0f32a053d6a3443/rounds\n"
     ]
    },
    {
     "name": "stderr",
     "output_type": "stream",
     "text": [
      "2019-05-10 19:57:57.721 | INFO     | __main__:scrape_round_winner:30 - Scraping new match: https://api.dreamteam.gg/analytics/csgo/game-analytics-proxy/stats/replays/5ca8eda2dbb10b057141d6a2/rounds\n"
     ]
    },
    {
     "name": "stderr",
     "output_type": "stream",
     "text": [
      "2019-05-10 19:57:59.206 | INFO     | __main__:scrape_round_winner:30 - Scraping new match: https://api.dreamteam.gg/analytics/csgo/game-analytics-proxy/stats/replays/5cab6b6b60aed206792dbda4/rounds\n"
     ]
    },
    {
     "name": "stderr",
     "output_type": "stream",
     "text": [
      "2019-05-10 19:58:00.713 | INFO     | __main__:scrape_round_winner:30 - Scraping new match: https://api.dreamteam.gg/analytics/csgo/game-analytics-proxy/stats/replays/5ca8eda727b8d8055752d695/rounds\n"
     ]
    },
    {
     "name": "stderr",
     "output_type": "stream",
     "text": [
      "2019-05-10 19:58:02.263 | INFO     | __main__:scrape_round_winner:30 - Scraping new match: https://api.dreamteam.gg/analytics/csgo/game-analytics-proxy/stats/replays/5ca8edabdbb10b048733cb02/rounds\n"
     ]
    },
    {
     "name": "stderr",
     "output_type": "stream",
     "text": [
      "2019-05-10 19:58:03.774 | INFO     | __main__:scrape_round_winner:30 - Scraping new match: https://api.dreamteam.gg/analytics/csgo/game-analytics-proxy/stats/replays/5ca8ee10d43602051407c112/rounds\n"
     ]
    },
    {
     "name": "stderr",
     "output_type": "stream",
     "text": [
      "2019-05-10 19:58:05.278 | INFO     | __main__:scrape_round_winner:30 - Scraping new match: https://api.dreamteam.gg/analytics/csgo/game-analytics-proxy/stats/replays/5ca8ee0c27b8d805635eba72/rounds\n"
     ]
    },
    {
     "name": "stderr",
     "output_type": "stream",
     "text": [
      "2019-05-10 19:58:06.761 | INFO     | __main__:scrape_round_winner:30 - Scraping new match: https://api.dreamteam.gg/analytics/csgo/game-analytics-proxy/stats/replays/5ca8ee146bd0f9054539bc82/rounds\n"
     ]
    },
    {
     "name": "stderr",
     "output_type": "stream",
     "text": [
      "2019-05-10 19:58:08.282 | INFO     | __main__:scrape_round_winner:30 - Scraping new match: https://api.dreamteam.gg/analytics/csgo/game-analytics-proxy/stats/replays/5ca8ee18dbb10b055f191155/rounds\n"
     ]
    },
    {
     "name": "stderr",
     "output_type": "stream",
     "text": [
      "2019-05-10 19:58:09.787 | INFO     | __main__:scrape_round_winner:30 - Scraping new match: https://api.dreamteam.gg/analytics/csgo/game-analytics-proxy/stats/replays/5ca8ee2f8da20e0535499e03/rounds\n"
     ]
    },
    {
     "name": "stderr",
     "output_type": "stream",
     "text": [
      "2019-05-10 19:58:11.275 | INFO     | __main__:scrape_round_winner:30 - Scraping new match: https://api.dreamteam.gg/analytics/csgo/game-analytics-proxy/stats/replays/5ca8ee4fd35cfb04f505e804/rounds\n"
     ]
    },
    {
     "name": "stderr",
     "output_type": "stream",
     "text": [
      "2019-05-10 19:58:12.731 | INFO     | __main__:scrape_round_winner:30 - Scraping new match: https://api.dreamteam.gg/analytics/csgo/game-analytics-proxy/stats/replays/5ca8ee543cb88705327d28a5/rounds\n"
     ]
    },
    {
     "name": "stderr",
     "output_type": "stream",
     "text": [
      "2019-05-10 19:58:14.202 | INFO     | __main__:scrape_round_winner:30 - Scraping new match: https://api.dreamteam.gg/analytics/csgo/game-analytics-proxy/stats/replays/5ca8ee578da20e0535499e04/rounds\n"
     ]
    },
    {
     "name": "stderr",
     "output_type": "stream",
     "text": [
      "2019-05-10 19:58:15.702 | INFO     | __main__:scrape_round_winner:30 - Scraping new match: https://api.dreamteam.gg/analytics/csgo/game-analytics-proxy/stats/replays/5ca8ee5c6bd0f9054539bc83/rounds\n"
     ]
    },
    {
     "name": "stderr",
     "output_type": "stream",
     "text": [
      "2019-05-10 19:58:17.181 | INFO     | __main__:scrape_round_winner:30 - Scraping new match: https://api.dreamteam.gg/analytics/csgo/game-analytics-proxy/stats/replays/5ca8ee603cb887053f3a7292/rounds\n"
     ]
    },
    {
     "name": "stderr",
     "output_type": "stream",
     "text": [
      "2019-05-10 19:58:18.664 | INFO     | __main__:scrape_round_winner:30 - Scraping new match: https://api.dreamteam.gg/analytics/csgo/game-analytics-proxy/stats/replays/5ca8ee8060aed205532a4d84/rounds\n"
     ]
    },
    {
     "name": "stderr",
     "output_type": "stream",
     "text": [
      "2019-05-10 19:58:20.146 | INFO     | __main__:scrape_round_winner:30 - Scraping new match: https://api.dreamteam.gg/analytics/csgo/game-analytics-proxy/stats/replays/5ca8ee843cb88705327d28a6/rounds\n"
     ]
    },
    {
     "name": "stderr",
     "output_type": "stream",
     "text": [
      "2019-05-10 19:58:21.648 | INFO     | __main__:scrape_round_winner:30 - Scraping new match: https://api.dreamteam.gg/analytics/csgo/game-analytics-proxy/stats/replays/5ca8ee88dbb10b055f191156/rounds\n"
     ]
    },
    {
     "name": "stderr",
     "output_type": "stream",
     "text": [
      "2019-05-10 19:58:23.174 | INFO     | __main__:scrape_round_winner:30 - Scraping new match: https://api.dreamteam.gg/analytics/csgo/game-analytics-proxy/stats/replays/5ca8ee8c6bd0f9054539bc84/rounds\n"
     ]
    },
    {
     "name": "stderr",
     "output_type": "stream",
     "text": [
      "2019-05-10 19:58:24.651 | INFO     | __main__:scrape_round_winner:30 - Scraping new match: https://api.dreamteam.gg/analytics/csgo/game-analytics-proxy/stats/replays/5ca8ee91c0f32a0545185262/rounds\n"
     ]
    },
    {
     "name": "stderr",
     "output_type": "stream",
     "text": [
      "2019-05-10 19:58:26.148 | INFO     | __main__:scrape_round_winner:30 - Scraping new match: https://api.dreamteam.gg/analytics/csgo/game-analytics-proxy/stats/replays/5ca8eee53cb88705327d28a7/rounds\n"
     ]
    },
    {
     "name": "stderr",
     "output_type": "stream",
     "text": [
      "2019-05-10 19:58:28.104 | INFO     | __main__:scrape_round_winner:30 - Scraping new match: https://api.dreamteam.gg/analytics/csgo/game-analytics-proxy/stats/replays/5ca8eee960aed2053f1dcae6/rounds\n"
     ]
    },
    {
     "name": "stderr",
     "output_type": "stream",
     "text": [
      "2019-05-10 19:58:29.724 | INFO     | __main__:scrape_round_winner:30 - Scraping new match: https://api.dreamteam.gg/analytics/csgo/game-analytics-proxy/stats/replays/5ca8eeefbcf70a05bb365b02/rounds\n"
     ]
    },
    {
     "name": "stderr",
     "output_type": "stream",
     "text": [
      "2019-05-10 19:58:31.207 | INFO     | __main__:scrape_round_winner:30 - Scraping new match: https://api.dreamteam.gg/analytics/csgo/game-analytics-proxy/stats/replays/5ca8eef327b8d805635eba73/rounds\n"
     ]
    },
    {
     "name": "stderr",
     "output_type": "stream",
     "text": [
      "2019-05-10 19:58:32.696 | INFO     | __main__:scrape_round_winner:30 - Scraping new match: https://api.dreamteam.gg/analytics/csgo/game-analytics-proxy/stats/replays/5ca8eef8c0f32a053d6a3444/rounds\n"
     ]
    },
    {
     "name": "stderr",
     "output_type": "stream",
     "text": [
      "2019-05-10 19:58:34.257 | INFO     | __main__:scrape_round_winner:30 - Scraping new match: https://api.dreamteam.gg/analytics/csgo/game-analytics-proxy/stats/replays/5ca8ef45c0f32a053d6a3445/rounds\n"
     ]
    },
    {
     "name": "stderr",
     "output_type": "stream",
     "text": [
      "2019-05-10 19:58:35.765 | INFO     | __main__:scrape_round_winner:30 - Scraping new match: https://api.dreamteam.gg/analytics/csgo/game-analytics-proxy/stats/replays/5ca8ef498da20e0535499e05/rounds\n"
     ]
    },
    {
     "name": "stderr",
     "output_type": "stream",
     "text": [
      "2019-05-10 19:58:37.246 | INFO     | __main__:scrape_round_winner:30 - Scraping new match: https://api.dreamteam.gg/analytics/csgo/game-analytics-proxy/stats/replays/5ca8ef513cb88705327d28a8/rounds\n"
     ]
    },
    {
     "name": "stderr",
     "output_type": "stream",
     "text": [
      "2019-05-10 19:58:38.754 | INFO     | __main__:scrape_round_winner:30 - Scraping new match: https://api.dreamteam.gg/analytics/csgo/game-analytics-proxy/stats/replays/5ca8ef5627b8d8055752d696/rounds\n"
     ]
    },
    {
     "name": "stderr",
     "output_type": "stream",
     "text": [
      "2019-05-10 19:58:40.263 | INFO     | __main__:scrape_round_winner:30 - Scraping new match: https://api.dreamteam.gg/analytics/csgo/game-analytics-proxy/stats/replays/5ca8ef8bc0f32a053d6a3446/rounds\n"
     ]
    },
    {
     "name": "stderr",
     "output_type": "stream",
     "text": [
      "2019-05-10 19:58:41.755 | INFO     | __main__:scrape_round_winner:30 - Scraping new match: https://api.dreamteam.gg/analytics/csgo/game-analytics-proxy/stats/replays/5ca8ef8f6bd0f9054539bc85/rounds\n"
     ]
    },
    {
     "name": "stderr",
     "output_type": "stream",
     "text": [
      "2019-05-10 19:58:43.262 | INFO     | __main__:scrape_round_winner:30 - Scraping new match: https://api.dreamteam.gg/analytics/csgo/game-analytics-proxy/stats/replays/5ca8ef93dbb10b057141d6a3/rounds\n"
     ]
    },
    {
     "name": "stderr",
     "output_type": "stream",
     "text": [
      "2019-05-10 19:58:44.756 | INFO     | __main__:scrape_round_winner:30 - Scraping new match: https://api.dreamteam.gg/analytics/csgo/game-analytics-proxy/stats/replays/5ca8ef983cb88705327d28a9/rounds\n"
     ]
    },
    {
     "name": "stderr",
     "output_type": "stream",
     "text": [
      "2019-05-10 19:58:46.251 | INFO     | __main__:scrape_round_winner:30 - Scraping new match: https://api.dreamteam.gg/analytics/csgo/game-analytics-proxy/stats/replays/5ca8efd760aed2053f1dcae7/rounds\n"
     ]
    },
    {
     "name": "stderr",
     "output_type": "stream",
     "text": [
      "2019-05-10 19:58:47.796 | INFO     | __main__:scrape_round_winner:30 - Scraping new match: https://api.dreamteam.gg/analytics/csgo/game-analytics-proxy/stats/replays/5ca8ef9c6bd0f9054a435723/rounds\n"
     ]
    },
    {
     "name": "stderr",
     "output_type": "stream",
     "text": [
      "2019-05-10 19:58:49.337 | INFO     | __main__:scrape_round_winner:30 - Scraping new match: https://api.dreamteam.gg/analytics/csgo/game-analytics-proxy/stats/replays/5ca8efdcd35cfb04f505e805/rounds\n"
     ]
    },
    {
     "name": "stderr",
     "output_type": "stream",
     "text": [
      "2019-05-10 19:58:50.853 | INFO     | __main__:scrape_round_winner:30 - Scraping new match: https://api.dreamteam.gg/analytics/csgo/game-analytics-proxy/stats/replays/5ca8efe43cb887053f3a7293/rounds\n"
     ]
    },
    {
     "name": "stderr",
     "output_type": "stream",
     "text": [
      "2019-05-10 19:58:52.375 | INFO     | __main__:scrape_round_winner:30 - Scraping new match: https://api.dreamteam.gg/analytics/csgo/game-analytics-proxy/stats/replays/5ca8efe93cb88705327d28aa/rounds\n"
     ]
    },
    {
     "name": "stderr",
     "output_type": "stream",
     "text": [
      "2019-05-10 19:58:53.896 | INFO     | __main__:scrape_round_winner:30 - Scraping new match: https://api.dreamteam.gg/analytics/csgo/game-analytics-proxy/stats/replays/5ca8efeebcf70a059e3ad016/rounds\n"
     ]
    },
    {
     "name": "stderr",
     "output_type": "stream",
     "text": [
      "2019-05-10 19:58:55.387 | INFO     | __main__:scrape_round_winner:30 - Scraping new match: https://api.dreamteam.gg/analytics/csgo/game-analytics-proxy/stats/replays/5ca8f0293cb88705327d28ab/rounds\n"
     ]
    },
    {
     "name": "stderr",
     "output_type": "stream",
     "text": [
      "2019-05-10 19:58:56.860 | INFO     | __main__:scrape_round_winner:30 - Scraping new match: https://api.dreamteam.gg/analytics/csgo/game-analytics-proxy/stats/replays/5ca8f02d3cb88705327d28ac/rounds\n"
     ]
    },
    {
     "name": "stderr",
     "output_type": "stream",
     "text": [
      "2019-05-10 19:58:58.347 | INFO     | __main__:scrape_round_winner:30 - Scraping new match: https://api.dreamteam.gg/analytics/csgo/game-analytics-proxy/stats/replays/5ca8f0348da20e05622ff472/rounds\n"
     ]
    },
    {
     "name": "stderr",
     "output_type": "stream",
     "text": [
      "2019-05-10 19:58:59.830 | INFO     | __main__:scrape_round_winner:30 - Scraping new match: https://api.dreamteam.gg/analytics/csgo/game-analytics-proxy/stats/replays/5ca8f038bcf70a05bb365b03/rounds\n"
     ]
    },
    {
     "name": "stderr",
     "output_type": "stream",
     "text": [
      "2019-05-10 19:59:01.314 | INFO     | __main__:scrape_round_winner:30 - Scraping new match: https://api.dreamteam.gg/analytics/csgo/game-analytics-proxy/stats/replays/5ca8f03cbcf70a05bb365b04/rounds\n"
     ]
    },
    {
     "name": "stderr",
     "output_type": "stream",
     "text": [
      "2019-05-10 19:59:02.812 | INFO     | __main__:scrape_round_winner:30 - Scraping new match: https://api.dreamteam.gg/analytics/csgo/game-analytics-proxy/stats/replays/5ca8f06f60aed205532a4d85/rounds\n"
     ]
    },
    {
     "name": "stderr",
     "output_type": "stream",
     "text": [
      "2019-05-10 19:59:04.324 | INFO     | __main__:scrape_round_winner:30 - Scraping new match: https://api.dreamteam.gg/analytics/csgo/game-analytics-proxy/stats/replays/5ca8f07460aed2053f1dcae8/rounds\n"
     ]
    },
    {
     "name": "stderr",
     "output_type": "stream",
     "text": [
      "2019-05-10 19:59:05.795 | INFO     | __main__:scrape_round_winner:30 - Scraping new match: https://api.dreamteam.gg/analytics/csgo/game-analytics-proxy/stats/replays/5ca8f078dbb10b057141d6a4/rounds\n"
     ]
    },
    {
     "name": "stderr",
     "output_type": "stream",
     "text": [
      "2019-05-10 19:59:07.294 | INFO     | __main__:scrape_round_winner:30 - Scraping new match: https://api.dreamteam.gg/analytics/csgo/game-analytics-proxy/stats/replays/5ca8f07cdbb10b057141d6a5/rounds\n"
     ]
    },
    {
     "name": "stderr",
     "output_type": "stream",
     "text": [
      "2019-05-10 19:59:08.796 | INFO     | __main__:scrape_round_winner:30 - Scraping new match: https://api.dreamteam.gg/analytics/csgo/game-analytics-proxy/stats/replays/5ca8f080dbb10b057141d6a6/rounds\n"
     ]
    },
    {
     "name": "stderr",
     "output_type": "stream",
     "text": [
      "2019-05-10 19:59:10.280 | INFO     | __main__:scrape_round_winner:30 - Scraping new match: https://api.dreamteam.gg/analytics/csgo/game-analytics-proxy/stats/replays/5ca8f0b760aed2053f1dcae9/rounds\n"
     ]
    },
    {
     "name": "stderr",
     "output_type": "stream",
     "text": [
      "2019-05-10 19:59:11.759 | INFO     | __main__:scrape_round_winner:30 - Scraping new match: https://api.dreamteam.gg/analytics/csgo/game-analytics-proxy/stats/replays/5ca8f0bcbcf70a059e3ad017/rounds\n"
     ]
    },
    {
     "name": "stderr",
     "output_type": "stream",
     "text": [
      "2019-05-10 19:59:13.228 | INFO     | __main__:scrape_round_winner:30 - Scraping new match: https://api.dreamteam.gg/analytics/csgo/game-analytics-proxy/stats/replays/5ca8f0c027b8d8055752d697/rounds\n"
     ]
    },
    {
     "name": "stderr",
     "output_type": "stream",
     "text": [
      "2019-05-10 19:59:14.701 | INFO     | __main__:scrape_round_winner:30 - Scraping new match: https://api.dreamteam.gg/analytics/csgo/game-analytics-proxy/stats/replays/5ca8f0c48da20e0439132084/rounds\n"
     ]
    },
    {
     "name": "stderr",
     "output_type": "stream",
     "text": [
      "2019-05-10 19:59:16.190 | INFO     | __main__:scrape_round_winner:30 - Scraping new match: https://api.dreamteam.gg/analytics/csgo/game-analytics-proxy/stats/replays/5caa368ac0f32a05bc5a2ab4/rounds\n"
     ]
    },
    {
     "name": "stderr",
     "output_type": "stream",
     "text": [
      "2019-05-10 19:59:17.780 | INFO     | __main__:scrape_round_winner:30 - Scraping new match: https://api.dreamteam.gg/analytics/csgo/game-analytics-proxy/stats/replays/5caa36b527b8d8060f498f42/rounds\n"
     ]
    },
    {
     "name": "stderr",
     "output_type": "stream",
     "text": [
      "2019-05-10 19:59:19.284 | INFO     | __main__:scrape_round_winner:30 - Scraping new match: https://api.dreamteam.gg/analytics/csgo/game-analytics-proxy/stats/replays/5caa36badbb10b060e4276e2/rounds\n"
     ]
    },
    {
     "name": "stderr",
     "output_type": "stream",
     "text": [
      "2019-05-10 19:59:20.790 | INFO     | __main__:scrape_round_winner:30 - Scraping new match: https://api.dreamteam.gg/analytics/csgo/game-analytics-proxy/stats/replays/5caa36be27b8d8060f498f43/rounds\n"
     ]
    },
    {
     "name": "stderr",
     "output_type": "stream",
     "text": [
      "2019-05-10 19:59:22.308 | INFO     | __main__:scrape_round_winner:30 - Scraping new match: https://api.dreamteam.gg/analytics/csgo/game-analytics-proxy/stats/replays/5caa36c3d43602057e2452d4/rounds\n"
     ]
    },
    {
     "name": "stderr",
     "output_type": "stream",
     "text": [
      "2019-05-10 19:59:23.800 | INFO     | __main__:scrape_round_winner:30 - Scraping new match: https://api.dreamteam.gg/analytics/csgo/game-analytics-proxy/stats/replays/5caa3742d43602057e2452d5/rounds\n"
     ]
    },
    {
     "name": "stderr",
     "output_type": "stream",
     "text": [
      "2019-05-10 19:59:25.301 | INFO     | __main__:scrape_round_winner:30 - Scraping new match: https://api.dreamteam.gg/analytics/csgo/game-analytics-proxy/stats/replays/5caa374927b8d805de4a9403/rounds\n"
     ]
    },
    {
     "name": "stderr",
     "output_type": "stream",
     "text": [
      "2019-05-10 19:59:26.834 | INFO     | __main__:scrape_round_winner:30 - Scraping new match: https://api.dreamteam.gg/analytics/csgo/game-analytics-proxy/stats/replays/5caa374dbcf70a061d78d462/rounds\n"
     ]
    },
    {
     "name": "stderr",
     "output_type": "stream",
     "text": [
      "2019-05-10 19:59:28.351 | INFO     | __main__:scrape_round_winner:30 - Scraping new match: https://api.dreamteam.gg/analytics/csgo/game-analytics-proxy/stats/replays/5caa375260aed205c14311d5/rounds\n"
     ]
    },
    {
     "name": "stderr",
     "output_type": "stream",
     "text": [
      "2019-05-10 19:59:29.874 | INFO     | __main__:scrape_round_winner:30 - Scraping new match: https://api.dreamteam.gg/analytics/csgo/game-analytics-proxy/stats/replays/5caa3757d43602057e2452d6/rounds\n"
     ]
    },
    {
     "name": "stderr",
     "output_type": "stream",
     "text": [
      "2019-05-10 19:59:31.383 | INFO     | __main__:scrape_round_winner:30 - Scraping new match: https://api.dreamteam.gg/analytics/csgo/game-analytics-proxy/stats/replays/5caa37f76bd0f905dd001624/rounds\n"
     ]
    },
    {
     "name": "stderr",
     "output_type": "stream",
     "text": [
      "2019-05-10 19:59:32.858 | INFO     | __main__:scrape_round_winner:30 - Scraping new match: https://api.dreamteam.gg/analytics/csgo/game-analytics-proxy/stats/replays/5caa37fc3cb88705cc46dd22/rounds\n"
     ]
    },
    {
     "name": "stderr",
     "output_type": "stream",
     "text": [
      "2019-05-10 19:59:34.372 | INFO     | __main__:scrape_round_winner:30 - Scraping new match: https://api.dreamteam.gg/analytics/csgo/game-analytics-proxy/stats/replays/5caa3800dbb10b060e4276e3/rounds\n"
     ]
    },
    {
     "name": "stderr",
     "output_type": "stream",
     "text": [
      "2019-05-10 19:59:35.870 | INFO     | __main__:scrape_round_winner:30 - Scraping new match: https://api.dreamteam.gg/analytics/csgo/game-analytics-proxy/stats/replays/5caa3805d35cfb058870f0f3/rounds\n"
     ]
    },
    {
     "name": "stderr",
     "output_type": "stream",
     "text": [
      "2019-05-10 19:59:37.387 | INFO     | __main__:scrape_round_winner:30 - Scraping new match: https://api.dreamteam.gg/analytics/csgo/game-analytics-proxy/stats/replays/5caa380ad35cfb058870f0f4/rounds\n"
     ]
    },
    {
     "name": "stderr",
     "output_type": "stream",
     "text": [
      "2019-05-10 19:59:38.872 | INFO     | __main__:scrape_round_winner:30 - Scraping new match: https://api.dreamteam.gg/analytics/csgo/game-analytics-proxy/stats/replays/5caa387060aed20602641df2/rounds\n"
     ]
    },
    {
     "name": "stderr",
     "output_type": "stream",
     "text": [
      "2019-05-10 19:59:40.383 | INFO     | __main__:scrape_round_winner:30 - Scraping new match: https://api.dreamteam.gg/analytics/csgo/game-analytics-proxy/stats/replays/5caa3874dbb10b05f37119b3/rounds\n"
     ]
    },
    {
     "name": "stderr",
     "output_type": "stream",
     "text": [
      "2019-05-10 19:59:41.882 | INFO     | __main__:scrape_round_winner:30 - Scraping new match: https://api.dreamteam.gg/analytics/csgo/game-analytics-proxy/stats/replays/5caa387927b8d805de4a9404/rounds\n"
     ]
    },
    {
     "name": "stderr",
     "output_type": "stream",
     "text": [
      "2019-05-10 19:59:43.420 | INFO     | __main__:scrape_round_winner:30 - Scraping new match: https://api.dreamteam.gg/analytics/csgo/game-analytics-proxy/stats/replays/5caa387d3cb8870418066d69/rounds\n"
     ]
    },
    {
     "name": "stderr",
     "output_type": "stream",
     "text": [
      "2019-05-10 19:59:44.882 | INFO     | __main__:scrape_round_winner:30 - Scraping new match: https://api.dreamteam.gg/analytics/csgo/game-analytics-proxy/stats/replays/5caa38828da20e06010dd5e2/rounds\n"
     ]
    },
    {
     "name": "stderr",
     "output_type": "stream",
     "text": [
      "2019-05-10 19:59:46.389 | INFO     | __main__:scrape_round_winner:30 - Scraping new match: https://api.dreamteam.gg/analytics/csgo/game-analytics-proxy/stats/replays/5caa38ca27b8d805de4a9405/rounds\n"
     ]
    },
    {
     "name": "stderr",
     "output_type": "stream",
     "text": [
      "2019-05-10 19:59:47.865 | INFO     | __main__:scrape_round_winner:30 - Scraping new match: https://api.dreamteam.gg/analytics/csgo/game-analytics-proxy/stats/replays/5caa38cf8da20e06010dd5e3/rounds\n"
     ]
    },
    {
     "name": "stderr",
     "output_type": "stream",
     "text": [
      "2019-05-10 19:59:49.417 | INFO     | __main__:scrape_round_winner:30 - Scraping new match: https://api.dreamteam.gg/analytics/csgo/game-analytics-proxy/stats/replays/5caa38d327b8d805de4a9406/rounds\n"
     ]
    },
    {
     "name": "stderr",
     "output_type": "stream",
     "text": [
      "2019-05-10 19:59:50.948 | INFO     | __main__:scrape_round_winner:30 - Scraping new match: https://api.dreamteam.gg/analytics/csgo/game-analytics-proxy/stats/replays/5caa38d76bd0f905dd001625/rounds\n"
     ]
    },
    {
     "name": "stderr",
     "output_type": "stream",
     "text": [
      "2019-05-10 19:59:52.442 | INFO     | __main__:scrape_round_winner:30 - Scraping new match: https://api.dreamteam.gg/analytics/csgo/game-analytics-proxy/stats/replays/5caa38dc8da20e06010dd5e4/rounds\n"
     ]
    },
    {
     "name": "stderr",
     "output_type": "stream",
     "text": [
      "2019-05-10 19:59:53.945 | INFO     | __main__:scrape_round_winner:30 - Scraping new match: https://api.dreamteam.gg/analytics/csgo/game-analytics-proxy/stats/replays/5caa393a6bd0f905dd001626/rounds\n"
     ]
    },
    {
     "name": "stderr",
     "output_type": "stream",
     "text": [
      "2019-05-10 19:59:55.443 | INFO     | __main__:scrape_round_winner:30 - Scraping new match: https://api.dreamteam.gg/analytics/csgo/game-analytics-proxy/stats/replays/5caa393e6bd0f905dd001627/rounds\n"
     ]
    },
    {
     "name": "stderr",
     "output_type": "stream",
     "text": [
      "2019-05-10 19:59:56.930 | INFO     | __main__:scrape_round_winner:30 - Scraping new match: https://api.dreamteam.gg/analytics/csgo/game-analytics-proxy/stats/replays/5caa3942d35cfb058870f0f5/rounds\n"
     ]
    },
    {
     "name": "stderr",
     "output_type": "stream",
     "text": [
      "2019-05-10 19:59:58.477 | INFO     | __main__:scrape_round_winner:30 - Scraping new match: https://api.dreamteam.gg/analytics/csgo/game-analytics-proxy/stats/replays/5caa3947d43602059e086412/rounds\n"
     ]
    },
    {
     "name": "stderr",
     "output_type": "stream",
     "text": [
      "2019-05-10 19:59:59.981 | INFO     | __main__:scrape_round_winner:30 - Scraping new match: https://api.dreamteam.gg/analytics/csgo/game-analytics-proxy/stats/replays/5caa394b27b8d8060f498f45/rounds\n"
     ]
    },
    {
     "name": "stderr",
     "output_type": "stream",
     "text": [
      "2019-05-10 20:00:01.499 | INFO     | __main__:scrape_round_winner:30 - Scraping new match: https://api.dreamteam.gg/analytics/csgo/game-analytics-proxy/stats/replays/5caa3979d35cfb058870f0f6/rounds\n"
     ]
    },
    {
     "name": "stderr",
     "output_type": "stream",
     "text": [
      "2019-05-10 20:00:02.999 | INFO     | __main__:scrape_round_winner:30 - Scraping new match: https://api.dreamteam.gg/analytics/csgo/game-analytics-proxy/stats/replays/5caa397f8da20e060938d382/rounds\n"
     ]
    },
    {
     "name": "stderr",
     "output_type": "stream",
     "text": [
      "2019-05-10 20:00:04.565 | INFO     | __main__:scrape_round_winner:30 - Scraping new match: https://api.dreamteam.gg/analytics/csgo/game-analytics-proxy/stats/replays/5caa3983bcf70a061d78d463/rounds\n"
     ]
    },
    {
     "name": "stderr",
     "output_type": "stream",
     "text": [
      "2019-05-10 20:00:06.052 | INFO     | __main__:scrape_round_winner:30 - Scraping new match: https://api.dreamteam.gg/analytics/csgo/game-analytics-proxy/stats/replays/5caa39873cb8870418066d6a/rounds\n"
     ]
    },
    {
     "name": "stderr",
     "output_type": "stream",
     "text": [
      "2019-05-10 20:00:07.532 | INFO     | __main__:scrape_round_winner:30 - Scraping new match: https://api.dreamteam.gg/analytics/csgo/game-analytics-proxy/stats/replays/5caa398cdbb10b05f37119b4/rounds\n"
     ]
    },
    {
     "name": "stderr",
     "output_type": "stream",
     "text": [
      "2019-05-10 20:00:08.990 | INFO     | __main__:scrape_round_winner:30 - Scraping new match: https://api.dreamteam.gg/analytics/csgo/game-analytics-proxy/stats/replays/5caa39bbd43602057e2452d7/rounds\n"
     ]
    },
    {
     "name": "stderr",
     "output_type": "stream",
     "text": [
      "2019-05-10 20:00:10.468 | INFO     | __main__:scrape_round_winner:30 - Scraping new match: https://api.dreamteam.gg/analytics/csgo/game-analytics-proxy/stats/replays/5caa39bf3cb88705cc46dd23/rounds\n"
     ]
    },
    {
     "name": "stderr",
     "output_type": "stream",
     "text": [
      "2019-05-10 20:00:11.938 | INFO     | __main__:scrape_round_winner:30 - Scraping new match: https://api.dreamteam.gg/analytics/csgo/game-analytics-proxy/stats/replays/5caa39c3d436020565490336/rounds\n"
     ]
    },
    {
     "data": {
      "text/html": [
       "<div>\n",
       "<style scoped>\n",
       "    .dataframe tbody tr th:only-of-type {\n",
       "        vertical-align: middle;\n",
       "    }\n",
       "\n",
       "    .dataframe tbody tr th {\n",
       "        vertical-align: top;\n",
       "    }\n",
       "\n",
       "    .dataframe thead th {\n",
       "        text-align: right;\n",
       "    }\n",
       "</style>\n",
       "<table border=\"1\" class=\"dataframe\">\n",
       "  <thead>\n",
       "    <tr style=\"text-align: right;\">\n",
       "      <th></th>\n",
       "      <th>Event</th>\n",
       "      <th>Match ID</th>\n",
       "      <th>Round</th>\n",
       "      <th>Winner</th>\n",
       "      <th>Winner Side</th>\n",
       "      <th>Match Winner</th>\n",
       "    </tr>\n",
       "  </thead>\n",
       "  <tbody>\n",
       "    <tr>\n",
       "      <th>0</th>\n",
       "      <td>IEM Katowice 2019</td>\n",
       "      <td>82145</td>\n",
       "      <td>1</td>\n",
       "      <td>Astralis</td>\n",
       "      <td>terrorist</td>\n",
       "      <td>Astralis</td>\n",
       "    </tr>\n",
       "    <tr>\n",
       "      <th>1</th>\n",
       "      <td>IEM Katowice 2019</td>\n",
       "      <td>82145</td>\n",
       "      <td>2</td>\n",
       "      <td>Astralis</td>\n",
       "      <td>terrorist</td>\n",
       "      <td>Astralis</td>\n",
       "    </tr>\n",
       "    <tr>\n",
       "      <th>2</th>\n",
       "      <td>IEM Katowice 2019</td>\n",
       "      <td>82145</td>\n",
       "      <td>3</td>\n",
       "      <td>None</td>\n",
       "      <td>None</td>\n",
       "      <td>Astralis</td>\n",
       "    </tr>\n",
       "    <tr>\n",
       "      <th>3</th>\n",
       "      <td>IEM Katowice 2019</td>\n",
       "      <td>82145</td>\n",
       "      <td>4</td>\n",
       "      <td>Astralis</td>\n",
       "      <td>terrorist</td>\n",
       "      <td>Astralis</td>\n",
       "    </tr>\n",
       "    <tr>\n",
       "      <th>4</th>\n",
       "      <td>IEM Katowice 2019</td>\n",
       "      <td>82145</td>\n",
       "      <td>5</td>\n",
       "      <td>Astralis</td>\n",
       "      <td>terrorist</td>\n",
       "      <td>Astralis</td>\n",
       "    </tr>\n",
       "    <tr>\n",
       "      <th>5</th>\n",
       "      <td>IEM Katowice 2019</td>\n",
       "      <td>82145</td>\n",
       "      <td>6</td>\n",
       "      <td>Astralis</td>\n",
       "      <td>terrorist</td>\n",
       "      <td>Astralis</td>\n",
       "    </tr>\n",
       "    <tr>\n",
       "      <th>6</th>\n",
       "      <td>IEM Katowice 2019</td>\n",
       "      <td>82145</td>\n",
       "      <td>7</td>\n",
       "      <td>None</td>\n",
       "      <td>None</td>\n",
       "      <td>Astralis</td>\n",
       "    </tr>\n",
       "    <tr>\n",
       "      <th>7</th>\n",
       "      <td>IEM Katowice 2019</td>\n",
       "      <td>82145</td>\n",
       "      <td>8</td>\n",
       "      <td>Astralis</td>\n",
       "      <td>terrorist</td>\n",
       "      <td>Astralis</td>\n",
       "    </tr>\n",
       "    <tr>\n",
       "      <th>8</th>\n",
       "      <td>IEM Katowice 2019</td>\n",
       "      <td>82145</td>\n",
       "      <td>9</td>\n",
       "      <td>None</td>\n",
       "      <td>None</td>\n",
       "      <td>Astralis</td>\n",
       "    </tr>\n",
       "    <tr>\n",
       "      <th>9</th>\n",
       "      <td>IEM Katowice 2019</td>\n",
       "      <td>82145</td>\n",
       "      <td>10</td>\n",
       "      <td>Astralis</td>\n",
       "      <td>terrorist</td>\n",
       "      <td>Astralis</td>\n",
       "    </tr>\n",
       "    <tr>\n",
       "      <th>10</th>\n",
       "      <td>IEM Katowice 2019</td>\n",
       "      <td>82145</td>\n",
       "      <td>11</td>\n",
       "      <td>ENCE</td>\n",
       "      <td>ct</td>\n",
       "      <td>Astralis</td>\n",
       "    </tr>\n",
       "    <tr>\n",
       "      <th>11</th>\n",
       "      <td>IEM Katowice 2019</td>\n",
       "      <td>82145</td>\n",
       "      <td>12</td>\n",
       "      <td>Astralis</td>\n",
       "      <td>terrorist</td>\n",
       "      <td>Astralis</td>\n",
       "    </tr>\n",
       "    <tr>\n",
       "      <th>12</th>\n",
       "      <td>IEM Katowice 2019</td>\n",
       "      <td>82145</td>\n",
       "      <td>13</td>\n",
       "      <td>Astralis</td>\n",
       "      <td>terrorist</td>\n",
       "      <td>Astralis</td>\n",
       "    </tr>\n",
       "    <tr>\n",
       "      <th>13</th>\n",
       "      <td>IEM Katowice 2019</td>\n",
       "      <td>82145</td>\n",
       "      <td>14</td>\n",
       "      <td>Astralis</td>\n",
       "      <td>terrorist</td>\n",
       "      <td>Astralis</td>\n",
       "    </tr>\n",
       "    <tr>\n",
       "      <th>14</th>\n",
       "      <td>IEM Katowice 2019</td>\n",
       "      <td>82145</td>\n",
       "      <td>15</td>\n",
       "      <td>Astralis</td>\n",
       "      <td>terrorist</td>\n",
       "      <td>Astralis</td>\n",
       "    </tr>\n",
       "    <tr>\n",
       "      <th>15</th>\n",
       "      <td>IEM Katowice 2019</td>\n",
       "      <td>82145</td>\n",
       "      <td>16</td>\n",
       "      <td>ENCE</td>\n",
       "      <td>terrorist</td>\n",
       "      <td>Astralis</td>\n",
       "    </tr>\n",
       "    <tr>\n",
       "      <th>16</th>\n",
       "      <td>IEM Katowice 2019</td>\n",
       "      <td>82145</td>\n",
       "      <td>17</td>\n",
       "      <td>None</td>\n",
       "      <td>None</td>\n",
       "      <td>Astralis</td>\n",
       "    </tr>\n",
       "    <tr>\n",
       "      <th>17</th>\n",
       "      <td>IEM Katowice 2019</td>\n",
       "      <td>82145</td>\n",
       "      <td>18</td>\n",
       "      <td>ENCE</td>\n",
       "      <td>terrorist</td>\n",
       "      <td>Astralis</td>\n",
       "    </tr>\n",
       "    <tr>\n",
       "      <th>18</th>\n",
       "      <td>IEM Katowice 2019</td>\n",
       "      <td>82145</td>\n",
       "      <td>19</td>\n",
       "      <td>None</td>\n",
       "      <td>None</td>\n",
       "      <td>Astralis</td>\n",
       "    </tr>\n",
       "    <tr>\n",
       "      <th>19</th>\n",
       "      <td>IEM Katowice 2019</td>\n",
       "      <td>82145</td>\n",
       "      <td>20</td>\n",
       "      <td>Astralis</td>\n",
       "      <td>ct</td>\n",
       "      <td>Astralis</td>\n",
       "    </tr>\n",
       "    <tr>\n",
       "      <th>0</th>\n",
       "      <td>IEM Katowice 2019</td>\n",
       "      <td>82143</td>\n",
       "      <td>1</td>\n",
       "      <td>Astralis</td>\n",
       "      <td>ct</td>\n",
       "      <td>Astralis</td>\n",
       "    </tr>\n",
       "    <tr>\n",
       "      <th>1</th>\n",
       "      <td>IEM Katowice 2019</td>\n",
       "      <td>82143</td>\n",
       "      <td>2</td>\n",
       "      <td>ENCE</td>\n",
       "      <td>terrorist</td>\n",
       "      <td>Astralis</td>\n",
       "    </tr>\n",
       "    <tr>\n",
       "      <th>2</th>\n",
       "      <td>IEM Katowice 2019</td>\n",
       "      <td>82143</td>\n",
       "      <td>3</td>\n",
       "      <td>ENCE</td>\n",
       "      <td>terrorist</td>\n",
       "      <td>Astralis</td>\n",
       "    </tr>\n",
       "    <tr>\n",
       "      <th>3</th>\n",
       "      <td>IEM Katowice 2019</td>\n",
       "      <td>82143</td>\n",
       "      <td>4</td>\n",
       "      <td>Astralis</td>\n",
       "      <td>ct</td>\n",
       "      <td>Astralis</td>\n",
       "    </tr>\n",
       "    <tr>\n",
       "      <th>4</th>\n",
       "      <td>IEM Katowice 2019</td>\n",
       "      <td>82143</td>\n",
       "      <td>5</td>\n",
       "      <td>None</td>\n",
       "      <td>None</td>\n",
       "      <td>Astralis</td>\n",
       "    </tr>\n",
       "    <tr>\n",
       "      <th>5</th>\n",
       "      <td>IEM Katowice 2019</td>\n",
       "      <td>82143</td>\n",
       "      <td>6</td>\n",
       "      <td>None</td>\n",
       "      <td>None</td>\n",
       "      <td>Astralis</td>\n",
       "    </tr>\n",
       "    <tr>\n",
       "      <th>6</th>\n",
       "      <td>IEM Katowice 2019</td>\n",
       "      <td>82143</td>\n",
       "      <td>7</td>\n",
       "      <td>ENCE</td>\n",
       "      <td>terrorist</td>\n",
       "      <td>Astralis</td>\n",
       "    </tr>\n",
       "    <tr>\n",
       "      <th>7</th>\n",
       "      <td>IEM Katowice 2019</td>\n",
       "      <td>82143</td>\n",
       "      <td>8</td>\n",
       "      <td>None</td>\n",
       "      <td>None</td>\n",
       "      <td>Astralis</td>\n",
       "    </tr>\n",
       "    <tr>\n",
       "      <th>8</th>\n",
       "      <td>IEM Katowice 2019</td>\n",
       "      <td>82143</td>\n",
       "      <td>9</td>\n",
       "      <td>Astralis</td>\n",
       "      <td>ct</td>\n",
       "      <td>Astralis</td>\n",
       "    </tr>\n",
       "    <tr>\n",
       "      <th>9</th>\n",
       "      <td>IEM Katowice 2019</td>\n",
       "      <td>82143</td>\n",
       "      <td>10</td>\n",
       "      <td>Astralis</td>\n",
       "      <td>ct</td>\n",
       "      <td>Astralis</td>\n",
       "    </tr>\n",
       "    <tr>\n",
       "      <th>...</th>\n",
       "      <td>...</td>\n",
       "      <td>...</td>\n",
       "      <td>...</td>\n",
       "      <td>...</td>\n",
       "      <td>...</td>\n",
       "      <td>...</td>\n",
       "    </tr>\n",
       "    <tr>\n",
       "      <th>10</th>\n",
       "      <td>ESL ONE Cologne 2014</td>\n",
       "      <td>17524</td>\n",
       "      <td>11</td>\n",
       "      <td>Epsilon eSports</td>\n",
       "      <td>ct</td>\n",
       "      <td>Epsilon eSports</td>\n",
       "    </tr>\n",
       "    <tr>\n",
       "      <th>11</th>\n",
       "      <td>ESL ONE Cologne 2014</td>\n",
       "      <td>17524</td>\n",
       "      <td>12</td>\n",
       "      <td>Epsilon eSports</td>\n",
       "      <td>ct</td>\n",
       "      <td>Epsilon eSports</td>\n",
       "    </tr>\n",
       "    <tr>\n",
       "      <th>12</th>\n",
       "      <td>ESL ONE Cologne 2014</td>\n",
       "      <td>17524</td>\n",
       "      <td>13</td>\n",
       "      <td>Epsilon eSports</td>\n",
       "      <td>ct</td>\n",
       "      <td>Epsilon eSports</td>\n",
       "    </tr>\n",
       "    <tr>\n",
       "      <th>13</th>\n",
       "      <td>ESL ONE Cologne 2014</td>\n",
       "      <td>17524</td>\n",
       "      <td>14</td>\n",
       "      <td>Epsilon eSports</td>\n",
       "      <td>ct</td>\n",
       "      <td>Epsilon eSports</td>\n",
       "    </tr>\n",
       "    <tr>\n",
       "      <th>14</th>\n",
       "      <td>ESL ONE Cologne 2014</td>\n",
       "      <td>17524</td>\n",
       "      <td>15</td>\n",
       "      <td>Epsilon eSports</td>\n",
       "      <td>ct</td>\n",
       "      <td>Epsilon eSports</td>\n",
       "    </tr>\n",
       "    <tr>\n",
       "      <th>15</th>\n",
       "      <td>ESL ONE Cologne 2014</td>\n",
       "      <td>17524</td>\n",
       "      <td>16</td>\n",
       "      <td>Epsilon eSports</td>\n",
       "      <td>terrorist</td>\n",
       "      <td>Epsilon eSports</td>\n",
       "    </tr>\n",
       "    <tr>\n",
       "      <th>16</th>\n",
       "      <td>ESL ONE Cologne 2014</td>\n",
       "      <td>17524</td>\n",
       "      <td>17</td>\n",
       "      <td>Epsilon eSports</td>\n",
       "      <td>terrorist</td>\n",
       "      <td>Epsilon eSports</td>\n",
       "    </tr>\n",
       "    <tr>\n",
       "      <th>0</th>\n",
       "      <td>ESL ONE Cologne 2014</td>\n",
       "      <td>17523</td>\n",
       "      <td>1</td>\n",
       "      <td>MTS GameGod Wolf</td>\n",
       "      <td>ct</td>\n",
       "      <td>Ninjas in Pyjamas</td>\n",
       "    </tr>\n",
       "    <tr>\n",
       "      <th>1</th>\n",
       "      <td>ESL ONE Cologne 2014</td>\n",
       "      <td>17523</td>\n",
       "      <td>2</td>\n",
       "      <td>MTS GameGod Wolf</td>\n",
       "      <td>ct</td>\n",
       "      <td>Ninjas in Pyjamas</td>\n",
       "    </tr>\n",
       "    <tr>\n",
       "      <th>2</th>\n",
       "      <td>ESL ONE Cologne 2014</td>\n",
       "      <td>17523</td>\n",
       "      <td>3</td>\n",
       "      <td>Ninjas in Pyjamas</td>\n",
       "      <td>terrorist</td>\n",
       "      <td>Ninjas in Pyjamas</td>\n",
       "    </tr>\n",
       "    <tr>\n",
       "      <th>3</th>\n",
       "      <td>ESL ONE Cologne 2014</td>\n",
       "      <td>17523</td>\n",
       "      <td>4</td>\n",
       "      <td>Ninjas in Pyjamas</td>\n",
       "      <td>terrorist</td>\n",
       "      <td>Ninjas in Pyjamas</td>\n",
       "    </tr>\n",
       "    <tr>\n",
       "      <th>4</th>\n",
       "      <td>ESL ONE Cologne 2014</td>\n",
       "      <td>17523</td>\n",
       "      <td>5</td>\n",
       "      <td>Ninjas in Pyjamas</td>\n",
       "      <td>terrorist</td>\n",
       "      <td>Ninjas in Pyjamas</td>\n",
       "    </tr>\n",
       "    <tr>\n",
       "      <th>5</th>\n",
       "      <td>ESL ONE Cologne 2014</td>\n",
       "      <td>17523</td>\n",
       "      <td>6</td>\n",
       "      <td>Ninjas in Pyjamas</td>\n",
       "      <td>terrorist</td>\n",
       "      <td>Ninjas in Pyjamas</td>\n",
       "    </tr>\n",
       "    <tr>\n",
       "      <th>6</th>\n",
       "      <td>ESL ONE Cologne 2014</td>\n",
       "      <td>17523</td>\n",
       "      <td>7</td>\n",
       "      <td>MTS GameGod Wolf</td>\n",
       "      <td>ct</td>\n",
       "      <td>Ninjas in Pyjamas</td>\n",
       "    </tr>\n",
       "    <tr>\n",
       "      <th>7</th>\n",
       "      <td>ESL ONE Cologne 2014</td>\n",
       "      <td>17523</td>\n",
       "      <td>8</td>\n",
       "      <td>Ninjas in Pyjamas</td>\n",
       "      <td>terrorist</td>\n",
       "      <td>Ninjas in Pyjamas</td>\n",
       "    </tr>\n",
       "    <tr>\n",
       "      <th>8</th>\n",
       "      <td>ESL ONE Cologne 2014</td>\n",
       "      <td>17523</td>\n",
       "      <td>9</td>\n",
       "      <td>Ninjas in Pyjamas</td>\n",
       "      <td>terrorist</td>\n",
       "      <td>Ninjas in Pyjamas</td>\n",
       "    </tr>\n",
       "    <tr>\n",
       "      <th>9</th>\n",
       "      <td>ESL ONE Cologne 2014</td>\n",
       "      <td>17523</td>\n",
       "      <td>10</td>\n",
       "      <td>MTS GameGod Wolf</td>\n",
       "      <td>ct</td>\n",
       "      <td>Ninjas in Pyjamas</td>\n",
       "    </tr>\n",
       "    <tr>\n",
       "      <th>10</th>\n",
       "      <td>ESL ONE Cologne 2014</td>\n",
       "      <td>17523</td>\n",
       "      <td>11</td>\n",
       "      <td>Ninjas in Pyjamas</td>\n",
       "      <td>terrorist</td>\n",
       "      <td>Ninjas in Pyjamas</td>\n",
       "    </tr>\n",
       "    <tr>\n",
       "      <th>11</th>\n",
       "      <td>ESL ONE Cologne 2014</td>\n",
       "      <td>17523</td>\n",
       "      <td>12</td>\n",
       "      <td>Ninjas in Pyjamas</td>\n",
       "      <td>terrorist</td>\n",
       "      <td>Ninjas in Pyjamas</td>\n",
       "    </tr>\n",
       "    <tr>\n",
       "      <th>12</th>\n",
       "      <td>ESL ONE Cologne 2014</td>\n",
       "      <td>17523</td>\n",
       "      <td>13</td>\n",
       "      <td>Ninjas in Pyjamas</td>\n",
       "      <td>terrorist</td>\n",
       "      <td>Ninjas in Pyjamas</td>\n",
       "    </tr>\n",
       "    <tr>\n",
       "      <th>13</th>\n",
       "      <td>ESL ONE Cologne 2014</td>\n",
       "      <td>17523</td>\n",
       "      <td>14</td>\n",
       "      <td>Ninjas in Pyjamas</td>\n",
       "      <td>terrorist</td>\n",
       "      <td>Ninjas in Pyjamas</td>\n",
       "    </tr>\n",
       "    <tr>\n",
       "      <th>14</th>\n",
       "      <td>ESL ONE Cologne 2014</td>\n",
       "      <td>17523</td>\n",
       "      <td>15</td>\n",
       "      <td>Ninjas in Pyjamas</td>\n",
       "      <td>terrorist</td>\n",
       "      <td>Ninjas in Pyjamas</td>\n",
       "    </tr>\n",
       "    <tr>\n",
       "      <th>15</th>\n",
       "      <td>ESL ONE Cologne 2014</td>\n",
       "      <td>17523</td>\n",
       "      <td>16</td>\n",
       "      <td>MTS GameGod Wolf</td>\n",
       "      <td>terrorist</td>\n",
       "      <td>Ninjas in Pyjamas</td>\n",
       "    </tr>\n",
       "    <tr>\n",
       "      <th>16</th>\n",
       "      <td>ESL ONE Cologne 2014</td>\n",
       "      <td>17523</td>\n",
       "      <td>17</td>\n",
       "      <td>MTS GameGod Wolf</td>\n",
       "      <td>terrorist</td>\n",
       "      <td>Ninjas in Pyjamas</td>\n",
       "    </tr>\n",
       "    <tr>\n",
       "      <th>17</th>\n",
       "      <td>ESL ONE Cologne 2014</td>\n",
       "      <td>17523</td>\n",
       "      <td>18</td>\n",
       "      <td>Ninjas in Pyjamas</td>\n",
       "      <td>ct</td>\n",
       "      <td>Ninjas in Pyjamas</td>\n",
       "    </tr>\n",
       "    <tr>\n",
       "      <th>18</th>\n",
       "      <td>ESL ONE Cologne 2014</td>\n",
       "      <td>17523</td>\n",
       "      <td>19</td>\n",
       "      <td>MTS GameGod Wolf</td>\n",
       "      <td>terrorist</td>\n",
       "      <td>Ninjas in Pyjamas</td>\n",
       "    </tr>\n",
       "    <tr>\n",
       "      <th>19</th>\n",
       "      <td>ESL ONE Cologne 2014</td>\n",
       "      <td>17523</td>\n",
       "      <td>20</td>\n",
       "      <td>Ninjas in Pyjamas</td>\n",
       "      <td>ct</td>\n",
       "      <td>Ninjas in Pyjamas</td>\n",
       "    </tr>\n",
       "    <tr>\n",
       "      <th>20</th>\n",
       "      <td>ESL ONE Cologne 2014</td>\n",
       "      <td>17523</td>\n",
       "      <td>21</td>\n",
       "      <td>Ninjas in Pyjamas</td>\n",
       "      <td>ct</td>\n",
       "      <td>Ninjas in Pyjamas</td>\n",
       "    </tr>\n",
       "    <tr>\n",
       "      <th>21</th>\n",
       "      <td>ESL ONE Cologne 2014</td>\n",
       "      <td>17523</td>\n",
       "      <td>22</td>\n",
       "      <td>Ninjas in Pyjamas</td>\n",
       "      <td>ct</td>\n",
       "      <td>Ninjas in Pyjamas</td>\n",
       "    </tr>\n",
       "    <tr>\n",
       "      <th>22</th>\n",
       "      <td>ESL ONE Cologne 2014</td>\n",
       "      <td>17523</td>\n",
       "      <td>23</td>\n",
       "      <td>Ninjas in Pyjamas</td>\n",
       "      <td>ct</td>\n",
       "      <td>Ninjas in Pyjamas</td>\n",
       "    </tr>\n",
       "  </tbody>\n",
       "</table>\n",
       "<p>14331 rows × 6 columns</p>\n",
       "</div>"
      ],
      "text/plain": [
       "                   Event Match ID Round             Winner Winner Side  \\\n",
       "0      IEM Katowice 2019    82145     1           Astralis   terrorist   \n",
       "1      IEM Katowice 2019    82145     2           Astralis   terrorist   \n",
       "2      IEM Katowice 2019    82145     3               None        None   \n",
       "3      IEM Katowice 2019    82145     4           Astralis   terrorist   \n",
       "4      IEM Katowice 2019    82145     5           Astralis   terrorist   \n",
       "5      IEM Katowice 2019    82145     6           Astralis   terrorist   \n",
       "6      IEM Katowice 2019    82145     7               None        None   \n",
       "7      IEM Katowice 2019    82145     8           Astralis   terrorist   \n",
       "8      IEM Katowice 2019    82145     9               None        None   \n",
       "9      IEM Katowice 2019    82145    10           Astralis   terrorist   \n",
       "10     IEM Katowice 2019    82145    11               ENCE          ct   \n",
       "11     IEM Katowice 2019    82145    12           Astralis   terrorist   \n",
       "12     IEM Katowice 2019    82145    13           Astralis   terrorist   \n",
       "13     IEM Katowice 2019    82145    14           Astralis   terrorist   \n",
       "14     IEM Katowice 2019    82145    15           Astralis   terrorist   \n",
       "15     IEM Katowice 2019    82145    16               ENCE   terrorist   \n",
       "16     IEM Katowice 2019    82145    17               None        None   \n",
       "17     IEM Katowice 2019    82145    18               ENCE   terrorist   \n",
       "18     IEM Katowice 2019    82145    19               None        None   \n",
       "19     IEM Katowice 2019    82145    20           Astralis          ct   \n",
       "0      IEM Katowice 2019    82143     1           Astralis          ct   \n",
       "1      IEM Katowice 2019    82143     2               ENCE   terrorist   \n",
       "2      IEM Katowice 2019    82143     3               ENCE   terrorist   \n",
       "3      IEM Katowice 2019    82143     4           Astralis          ct   \n",
       "4      IEM Katowice 2019    82143     5               None        None   \n",
       "5      IEM Katowice 2019    82143     6               None        None   \n",
       "6      IEM Katowice 2019    82143     7               ENCE   terrorist   \n",
       "7      IEM Katowice 2019    82143     8               None        None   \n",
       "8      IEM Katowice 2019    82143     9           Astralis          ct   \n",
       "9      IEM Katowice 2019    82143    10           Astralis          ct   \n",
       "..                   ...      ...   ...                ...         ...   \n",
       "10  ESL ONE Cologne 2014    17524    11    Epsilon eSports          ct   \n",
       "11  ESL ONE Cologne 2014    17524    12    Epsilon eSports          ct   \n",
       "12  ESL ONE Cologne 2014    17524    13    Epsilon eSports          ct   \n",
       "13  ESL ONE Cologne 2014    17524    14    Epsilon eSports          ct   \n",
       "14  ESL ONE Cologne 2014    17524    15    Epsilon eSports          ct   \n",
       "15  ESL ONE Cologne 2014    17524    16    Epsilon eSports   terrorist   \n",
       "16  ESL ONE Cologne 2014    17524    17    Epsilon eSports   terrorist   \n",
       "0   ESL ONE Cologne 2014    17523     1   MTS GameGod Wolf          ct   \n",
       "1   ESL ONE Cologne 2014    17523     2   MTS GameGod Wolf          ct   \n",
       "2   ESL ONE Cologne 2014    17523     3  Ninjas in Pyjamas   terrorist   \n",
       "3   ESL ONE Cologne 2014    17523     4  Ninjas in Pyjamas   terrorist   \n",
       "4   ESL ONE Cologne 2014    17523     5  Ninjas in Pyjamas   terrorist   \n",
       "5   ESL ONE Cologne 2014    17523     6  Ninjas in Pyjamas   terrorist   \n",
       "6   ESL ONE Cologne 2014    17523     7   MTS GameGod Wolf          ct   \n",
       "7   ESL ONE Cologne 2014    17523     8  Ninjas in Pyjamas   terrorist   \n",
       "8   ESL ONE Cologne 2014    17523     9  Ninjas in Pyjamas   terrorist   \n",
       "9   ESL ONE Cologne 2014    17523    10   MTS GameGod Wolf          ct   \n",
       "10  ESL ONE Cologne 2014    17523    11  Ninjas in Pyjamas   terrorist   \n",
       "11  ESL ONE Cologne 2014    17523    12  Ninjas in Pyjamas   terrorist   \n",
       "12  ESL ONE Cologne 2014    17523    13  Ninjas in Pyjamas   terrorist   \n",
       "13  ESL ONE Cologne 2014    17523    14  Ninjas in Pyjamas   terrorist   \n",
       "14  ESL ONE Cologne 2014    17523    15  Ninjas in Pyjamas   terrorist   \n",
       "15  ESL ONE Cologne 2014    17523    16   MTS GameGod Wolf   terrorist   \n",
       "16  ESL ONE Cologne 2014    17523    17   MTS GameGod Wolf   terrorist   \n",
       "17  ESL ONE Cologne 2014    17523    18  Ninjas in Pyjamas          ct   \n",
       "18  ESL ONE Cologne 2014    17523    19   MTS GameGod Wolf   terrorist   \n",
       "19  ESL ONE Cologne 2014    17523    20  Ninjas in Pyjamas          ct   \n",
       "20  ESL ONE Cologne 2014    17523    21  Ninjas in Pyjamas          ct   \n",
       "21  ESL ONE Cologne 2014    17523    22  Ninjas in Pyjamas          ct   \n",
       "22  ESL ONE Cologne 2014    17523    23  Ninjas in Pyjamas          ct   \n",
       "\n",
       "         Match Winner  \n",
       "0            Astralis  \n",
       "1            Astralis  \n",
       "2            Astralis  \n",
       "3            Astralis  \n",
       "4            Astralis  \n",
       "5            Astralis  \n",
       "6            Astralis  \n",
       "7            Astralis  \n",
       "8            Astralis  \n",
       "9            Astralis  \n",
       "10           Astralis  \n",
       "11           Astralis  \n",
       "12           Astralis  \n",
       "13           Astralis  \n",
       "14           Astralis  \n",
       "15           Astralis  \n",
       "16           Astralis  \n",
       "17           Astralis  \n",
       "18           Astralis  \n",
       "19           Astralis  \n",
       "0            Astralis  \n",
       "1            Astralis  \n",
       "2            Astralis  \n",
       "3            Astralis  \n",
       "4            Astralis  \n",
       "5            Astralis  \n",
       "6            Astralis  \n",
       "7            Astralis  \n",
       "8            Astralis  \n",
       "9            Astralis  \n",
       "..                ...  \n",
       "10    Epsilon eSports  \n",
       "11    Epsilon eSports  \n",
       "12    Epsilon eSports  \n",
       "13    Epsilon eSports  \n",
       "14    Epsilon eSports  \n",
       "15    Epsilon eSports  \n",
       "16    Epsilon eSports  \n",
       "0   Ninjas in Pyjamas  \n",
       "1   Ninjas in Pyjamas  \n",
       "2   Ninjas in Pyjamas  \n",
       "3   Ninjas in Pyjamas  \n",
       "4   Ninjas in Pyjamas  \n",
       "5   Ninjas in Pyjamas  \n",
       "6   Ninjas in Pyjamas  \n",
       "7   Ninjas in Pyjamas  \n",
       "8   Ninjas in Pyjamas  \n",
       "9   Ninjas in Pyjamas  \n",
       "10  Ninjas in Pyjamas  \n",
       "11  Ninjas in Pyjamas  \n",
       "12  Ninjas in Pyjamas  \n",
       "13  Ninjas in Pyjamas  \n",
       "14  Ninjas in Pyjamas  \n",
       "15  Ninjas in Pyjamas  \n",
       "16  Ninjas in Pyjamas  \n",
       "17  Ninjas in Pyjamas  \n",
       "18  Ninjas in Pyjamas  \n",
       "19  Ninjas in Pyjamas  \n",
       "20  Ninjas in Pyjamas  \n",
       "21  Ninjas in Pyjamas  \n",
       "22  Ninjas in Pyjamas  \n",
       "\n",
       "[14331 rows x 6 columns]"
      ]
     },
     "execution_count": 12,
     "metadata": {},
     "output_type": "execute_result"
    }
   ],
   "source": [
    "# Round winner dataframe\n",
    "dfRoundWinner = pd.DataFrame(columns=[\"Event\", \"Match ID\", \"Round\", \"Winner\", \"Winner Side\", \"Match Winner\"])\n",
    "\n",
    "# For each row in DTLinks and using the scrape function, scrape the JSON data for each match and event\n",
    "for _, row in dfDTLinks.iterrows():\n",
    "    dfRoundWinner = dfRoundWinner.append(scrape_round_winner(row[\"Match ID\"], row[\"Event\"], row[\"MATCHCODE\"]))\n",
    "    \n",
    "dfRoundWinner"
   ]
  },
  {
   "cell_type": "markdown",
   "metadata": {
    "papermill": {
     "duration": 0.174049,
     "end_time": "2019-05-10T19:00:14.057349",
     "exception": false,
     "start_time": "2019-05-10T19:00:13.883300",
     "status": "completed"
    },
    "tags": []
   },
   "source": [
    "## Cleaning the Scraped Data\n",
    "The data collected is then checked to see if there are any discrepancies. Firstly, the amount of null values for each column are printed."
   ]
  },
  {
   "cell_type": "code",
   "execution_count": 13,
   "metadata": {
    "papermill": {
     "duration": 0.201043,
     "end_time": "2019-05-10T19:00:14.435625",
     "exception": false,
     "start_time": "2019-05-10T19:00:14.234582",
     "status": "completed"
    },
    "scrolled": true,
    "tags": []
   },
   "outputs": [
    {
     "data": {
      "text/html": [
       "<div>\n",
       "<style scoped>\n",
       "    .dataframe tbody tr th:only-of-type {\n",
       "        vertical-align: middle;\n",
       "    }\n",
       "\n",
       "    .dataframe tbody tr th {\n",
       "        vertical-align: top;\n",
       "    }\n",
       "\n",
       "    .dataframe thead th {\n",
       "        text-align: right;\n",
       "    }\n",
       "</style>\n",
       "<table border=\"1\" class=\"dataframe\">\n",
       "  <thead>\n",
       "    <tr style=\"text-align: right;\">\n",
       "      <th></th>\n",
       "      <th>Event</th>\n",
       "      <th>Match ID</th>\n",
       "      <th>Round</th>\n",
       "      <th>Winner</th>\n",
       "      <th>Winner Side</th>\n",
       "      <th>Match Winner</th>\n",
       "    </tr>\n",
       "  </thead>\n",
       "  <tbody>\n",
       "    <tr>\n",
       "      <th>0</th>\n",
       "      <td>IEM Katowice 2019</td>\n",
       "      <td>82145</td>\n",
       "      <td>1</td>\n",
       "      <td>Astralis</td>\n",
       "      <td>terrorist</td>\n",
       "      <td>Astralis</td>\n",
       "    </tr>\n",
       "    <tr>\n",
       "      <th>1</th>\n",
       "      <td>IEM Katowice 2019</td>\n",
       "      <td>82145</td>\n",
       "      <td>2</td>\n",
       "      <td>Astralis</td>\n",
       "      <td>terrorist</td>\n",
       "      <td>Astralis</td>\n",
       "    </tr>\n",
       "    <tr>\n",
       "      <th>2</th>\n",
       "      <td>IEM Katowice 2019</td>\n",
       "      <td>82145</td>\n",
       "      <td>3</td>\n",
       "      <td>None</td>\n",
       "      <td>None</td>\n",
       "      <td>Astralis</td>\n",
       "    </tr>\n",
       "    <tr>\n",
       "      <th>3</th>\n",
       "      <td>IEM Katowice 2019</td>\n",
       "      <td>82145</td>\n",
       "      <td>4</td>\n",
       "      <td>Astralis</td>\n",
       "      <td>terrorist</td>\n",
       "      <td>Astralis</td>\n",
       "    </tr>\n",
       "    <tr>\n",
       "      <th>4</th>\n",
       "      <td>IEM Katowice 2019</td>\n",
       "      <td>82145</td>\n",
       "      <td>5</td>\n",
       "      <td>Astralis</td>\n",
       "      <td>terrorist</td>\n",
       "      <td>Astralis</td>\n",
       "    </tr>\n",
       "    <tr>\n",
       "      <th>5</th>\n",
       "      <td>IEM Katowice 2019</td>\n",
       "      <td>82145</td>\n",
       "      <td>6</td>\n",
       "      <td>Astralis</td>\n",
       "      <td>terrorist</td>\n",
       "      <td>Astralis</td>\n",
       "    </tr>\n",
       "    <tr>\n",
       "      <th>6</th>\n",
       "      <td>IEM Katowice 2019</td>\n",
       "      <td>82145</td>\n",
       "      <td>7</td>\n",
       "      <td>None</td>\n",
       "      <td>None</td>\n",
       "      <td>Astralis</td>\n",
       "    </tr>\n",
       "    <tr>\n",
       "      <th>7</th>\n",
       "      <td>IEM Katowice 2019</td>\n",
       "      <td>82145</td>\n",
       "      <td>8</td>\n",
       "      <td>Astralis</td>\n",
       "      <td>terrorist</td>\n",
       "      <td>Astralis</td>\n",
       "    </tr>\n",
       "    <tr>\n",
       "      <th>8</th>\n",
       "      <td>IEM Katowice 2019</td>\n",
       "      <td>82145</td>\n",
       "      <td>9</td>\n",
       "      <td>None</td>\n",
       "      <td>None</td>\n",
       "      <td>Astralis</td>\n",
       "    </tr>\n",
       "    <tr>\n",
       "      <th>9</th>\n",
       "      <td>IEM Katowice 2019</td>\n",
       "      <td>82145</td>\n",
       "      <td>10</td>\n",
       "      <td>Astralis</td>\n",
       "      <td>terrorist</td>\n",
       "      <td>Astralis</td>\n",
       "    </tr>\n",
       "    <tr>\n",
       "      <th>10</th>\n",
       "      <td>IEM Katowice 2019</td>\n",
       "      <td>82145</td>\n",
       "      <td>11</td>\n",
       "      <td>ENCE</td>\n",
       "      <td>ct</td>\n",
       "      <td>Astralis</td>\n",
       "    </tr>\n",
       "    <tr>\n",
       "      <th>11</th>\n",
       "      <td>IEM Katowice 2019</td>\n",
       "      <td>82145</td>\n",
       "      <td>12</td>\n",
       "      <td>Astralis</td>\n",
       "      <td>terrorist</td>\n",
       "      <td>Astralis</td>\n",
       "    </tr>\n",
       "    <tr>\n",
       "      <th>12</th>\n",
       "      <td>IEM Katowice 2019</td>\n",
       "      <td>82145</td>\n",
       "      <td>13</td>\n",
       "      <td>Astralis</td>\n",
       "      <td>terrorist</td>\n",
       "      <td>Astralis</td>\n",
       "    </tr>\n",
       "    <tr>\n",
       "      <th>13</th>\n",
       "      <td>IEM Katowice 2019</td>\n",
       "      <td>82145</td>\n",
       "      <td>14</td>\n",
       "      <td>Astralis</td>\n",
       "      <td>terrorist</td>\n",
       "      <td>Astralis</td>\n",
       "    </tr>\n",
       "    <tr>\n",
       "      <th>14</th>\n",
       "      <td>IEM Katowice 2019</td>\n",
       "      <td>82145</td>\n",
       "      <td>15</td>\n",
       "      <td>Astralis</td>\n",
       "      <td>terrorist</td>\n",
       "      <td>Astralis</td>\n",
       "    </tr>\n",
       "    <tr>\n",
       "      <th>15</th>\n",
       "      <td>IEM Katowice 2019</td>\n",
       "      <td>82145</td>\n",
       "      <td>16</td>\n",
       "      <td>ENCE</td>\n",
       "      <td>terrorist</td>\n",
       "      <td>Astralis</td>\n",
       "    </tr>\n",
       "    <tr>\n",
       "      <th>16</th>\n",
       "      <td>IEM Katowice 2019</td>\n",
       "      <td>82145</td>\n",
       "      <td>17</td>\n",
       "      <td>None</td>\n",
       "      <td>None</td>\n",
       "      <td>Astralis</td>\n",
       "    </tr>\n",
       "    <tr>\n",
       "      <th>17</th>\n",
       "      <td>IEM Katowice 2019</td>\n",
       "      <td>82145</td>\n",
       "      <td>18</td>\n",
       "      <td>ENCE</td>\n",
       "      <td>terrorist</td>\n",
       "      <td>Astralis</td>\n",
       "    </tr>\n",
       "    <tr>\n",
       "      <th>18</th>\n",
       "      <td>IEM Katowice 2019</td>\n",
       "      <td>82145</td>\n",
       "      <td>19</td>\n",
       "      <td>None</td>\n",
       "      <td>None</td>\n",
       "      <td>Astralis</td>\n",
       "    </tr>\n",
       "    <tr>\n",
       "      <th>19</th>\n",
       "      <td>IEM Katowice 2019</td>\n",
       "      <td>82145</td>\n",
       "      <td>20</td>\n",
       "      <td>Astralis</td>\n",
       "      <td>ct</td>\n",
       "      <td>Astralis</td>\n",
       "    </tr>\n",
       "    <tr>\n",
       "      <th>0</th>\n",
       "      <td>IEM Katowice 2019</td>\n",
       "      <td>82143</td>\n",
       "      <td>1</td>\n",
       "      <td>Astralis</td>\n",
       "      <td>ct</td>\n",
       "      <td>Astralis</td>\n",
       "    </tr>\n",
       "    <tr>\n",
       "      <th>1</th>\n",
       "      <td>IEM Katowice 2019</td>\n",
       "      <td>82143</td>\n",
       "      <td>2</td>\n",
       "      <td>ENCE</td>\n",
       "      <td>terrorist</td>\n",
       "      <td>Astralis</td>\n",
       "    </tr>\n",
       "    <tr>\n",
       "      <th>2</th>\n",
       "      <td>IEM Katowice 2019</td>\n",
       "      <td>82143</td>\n",
       "      <td>3</td>\n",
       "      <td>ENCE</td>\n",
       "      <td>terrorist</td>\n",
       "      <td>Astralis</td>\n",
       "    </tr>\n",
       "    <tr>\n",
       "      <th>3</th>\n",
       "      <td>IEM Katowice 2019</td>\n",
       "      <td>82143</td>\n",
       "      <td>4</td>\n",
       "      <td>Astralis</td>\n",
       "      <td>ct</td>\n",
       "      <td>Astralis</td>\n",
       "    </tr>\n",
       "    <tr>\n",
       "      <th>4</th>\n",
       "      <td>IEM Katowice 2019</td>\n",
       "      <td>82143</td>\n",
       "      <td>5</td>\n",
       "      <td>None</td>\n",
       "      <td>None</td>\n",
       "      <td>Astralis</td>\n",
       "    </tr>\n",
       "    <tr>\n",
       "      <th>5</th>\n",
       "      <td>IEM Katowice 2019</td>\n",
       "      <td>82143</td>\n",
       "      <td>6</td>\n",
       "      <td>None</td>\n",
       "      <td>None</td>\n",
       "      <td>Astralis</td>\n",
       "    </tr>\n",
       "    <tr>\n",
       "      <th>6</th>\n",
       "      <td>IEM Katowice 2019</td>\n",
       "      <td>82143</td>\n",
       "      <td>7</td>\n",
       "      <td>ENCE</td>\n",
       "      <td>terrorist</td>\n",
       "      <td>Astralis</td>\n",
       "    </tr>\n",
       "    <tr>\n",
       "      <th>7</th>\n",
       "      <td>IEM Katowice 2019</td>\n",
       "      <td>82143</td>\n",
       "      <td>8</td>\n",
       "      <td>None</td>\n",
       "      <td>None</td>\n",
       "      <td>Astralis</td>\n",
       "    </tr>\n",
       "    <tr>\n",
       "      <th>8</th>\n",
       "      <td>IEM Katowice 2019</td>\n",
       "      <td>82143</td>\n",
       "      <td>9</td>\n",
       "      <td>Astralis</td>\n",
       "      <td>ct</td>\n",
       "      <td>Astralis</td>\n",
       "    </tr>\n",
       "    <tr>\n",
       "      <th>9</th>\n",
       "      <td>IEM Katowice 2019</td>\n",
       "      <td>82143</td>\n",
       "      <td>10</td>\n",
       "      <td>Astralis</td>\n",
       "      <td>ct</td>\n",
       "      <td>Astralis</td>\n",
       "    </tr>\n",
       "    <tr>\n",
       "      <th>...</th>\n",
       "      <td>...</td>\n",
       "      <td>...</td>\n",
       "      <td>...</td>\n",
       "      <td>...</td>\n",
       "      <td>...</td>\n",
       "      <td>...</td>\n",
       "    </tr>\n",
       "    <tr>\n",
       "      <th>10</th>\n",
       "      <td>ESL ONE Cologne 2014</td>\n",
       "      <td>17524</td>\n",
       "      <td>11</td>\n",
       "      <td>Epsilon eSports</td>\n",
       "      <td>ct</td>\n",
       "      <td>Epsilon eSports</td>\n",
       "    </tr>\n",
       "    <tr>\n",
       "      <th>11</th>\n",
       "      <td>ESL ONE Cologne 2014</td>\n",
       "      <td>17524</td>\n",
       "      <td>12</td>\n",
       "      <td>Epsilon eSports</td>\n",
       "      <td>ct</td>\n",
       "      <td>Epsilon eSports</td>\n",
       "    </tr>\n",
       "    <tr>\n",
       "      <th>12</th>\n",
       "      <td>ESL ONE Cologne 2014</td>\n",
       "      <td>17524</td>\n",
       "      <td>13</td>\n",
       "      <td>Epsilon eSports</td>\n",
       "      <td>ct</td>\n",
       "      <td>Epsilon eSports</td>\n",
       "    </tr>\n",
       "    <tr>\n",
       "      <th>13</th>\n",
       "      <td>ESL ONE Cologne 2014</td>\n",
       "      <td>17524</td>\n",
       "      <td>14</td>\n",
       "      <td>Epsilon eSports</td>\n",
       "      <td>ct</td>\n",
       "      <td>Epsilon eSports</td>\n",
       "    </tr>\n",
       "    <tr>\n",
       "      <th>14</th>\n",
       "      <td>ESL ONE Cologne 2014</td>\n",
       "      <td>17524</td>\n",
       "      <td>15</td>\n",
       "      <td>Epsilon eSports</td>\n",
       "      <td>ct</td>\n",
       "      <td>Epsilon eSports</td>\n",
       "    </tr>\n",
       "    <tr>\n",
       "      <th>15</th>\n",
       "      <td>ESL ONE Cologne 2014</td>\n",
       "      <td>17524</td>\n",
       "      <td>16</td>\n",
       "      <td>Epsilon eSports</td>\n",
       "      <td>terrorist</td>\n",
       "      <td>Epsilon eSports</td>\n",
       "    </tr>\n",
       "    <tr>\n",
       "      <th>16</th>\n",
       "      <td>ESL ONE Cologne 2014</td>\n",
       "      <td>17524</td>\n",
       "      <td>17</td>\n",
       "      <td>Epsilon eSports</td>\n",
       "      <td>terrorist</td>\n",
       "      <td>Epsilon eSports</td>\n",
       "    </tr>\n",
       "    <tr>\n",
       "      <th>0</th>\n",
       "      <td>ESL ONE Cologne 2014</td>\n",
       "      <td>17523</td>\n",
       "      <td>1</td>\n",
       "      <td>MTS GameGod Wolf</td>\n",
       "      <td>ct</td>\n",
       "      <td>Ninjas in Pyjamas</td>\n",
       "    </tr>\n",
       "    <tr>\n",
       "      <th>1</th>\n",
       "      <td>ESL ONE Cologne 2014</td>\n",
       "      <td>17523</td>\n",
       "      <td>2</td>\n",
       "      <td>MTS GameGod Wolf</td>\n",
       "      <td>ct</td>\n",
       "      <td>Ninjas in Pyjamas</td>\n",
       "    </tr>\n",
       "    <tr>\n",
       "      <th>2</th>\n",
       "      <td>ESL ONE Cologne 2014</td>\n",
       "      <td>17523</td>\n",
       "      <td>3</td>\n",
       "      <td>Ninjas in Pyjamas</td>\n",
       "      <td>terrorist</td>\n",
       "      <td>Ninjas in Pyjamas</td>\n",
       "    </tr>\n",
       "    <tr>\n",
       "      <th>3</th>\n",
       "      <td>ESL ONE Cologne 2014</td>\n",
       "      <td>17523</td>\n",
       "      <td>4</td>\n",
       "      <td>Ninjas in Pyjamas</td>\n",
       "      <td>terrorist</td>\n",
       "      <td>Ninjas in Pyjamas</td>\n",
       "    </tr>\n",
       "    <tr>\n",
       "      <th>4</th>\n",
       "      <td>ESL ONE Cologne 2014</td>\n",
       "      <td>17523</td>\n",
       "      <td>5</td>\n",
       "      <td>Ninjas in Pyjamas</td>\n",
       "      <td>terrorist</td>\n",
       "      <td>Ninjas in Pyjamas</td>\n",
       "    </tr>\n",
       "    <tr>\n",
       "      <th>5</th>\n",
       "      <td>ESL ONE Cologne 2014</td>\n",
       "      <td>17523</td>\n",
       "      <td>6</td>\n",
       "      <td>Ninjas in Pyjamas</td>\n",
       "      <td>terrorist</td>\n",
       "      <td>Ninjas in Pyjamas</td>\n",
       "    </tr>\n",
       "    <tr>\n",
       "      <th>6</th>\n",
       "      <td>ESL ONE Cologne 2014</td>\n",
       "      <td>17523</td>\n",
       "      <td>7</td>\n",
       "      <td>MTS GameGod Wolf</td>\n",
       "      <td>ct</td>\n",
       "      <td>Ninjas in Pyjamas</td>\n",
       "    </tr>\n",
       "    <tr>\n",
       "      <th>7</th>\n",
       "      <td>ESL ONE Cologne 2014</td>\n",
       "      <td>17523</td>\n",
       "      <td>8</td>\n",
       "      <td>Ninjas in Pyjamas</td>\n",
       "      <td>terrorist</td>\n",
       "      <td>Ninjas in Pyjamas</td>\n",
       "    </tr>\n",
       "    <tr>\n",
       "      <th>8</th>\n",
       "      <td>ESL ONE Cologne 2014</td>\n",
       "      <td>17523</td>\n",
       "      <td>9</td>\n",
       "      <td>Ninjas in Pyjamas</td>\n",
       "      <td>terrorist</td>\n",
       "      <td>Ninjas in Pyjamas</td>\n",
       "    </tr>\n",
       "    <tr>\n",
       "      <th>9</th>\n",
       "      <td>ESL ONE Cologne 2014</td>\n",
       "      <td>17523</td>\n",
       "      <td>10</td>\n",
       "      <td>MTS GameGod Wolf</td>\n",
       "      <td>ct</td>\n",
       "      <td>Ninjas in Pyjamas</td>\n",
       "    </tr>\n",
       "    <tr>\n",
       "      <th>10</th>\n",
       "      <td>ESL ONE Cologne 2014</td>\n",
       "      <td>17523</td>\n",
       "      <td>11</td>\n",
       "      <td>Ninjas in Pyjamas</td>\n",
       "      <td>terrorist</td>\n",
       "      <td>Ninjas in Pyjamas</td>\n",
       "    </tr>\n",
       "    <tr>\n",
       "      <th>11</th>\n",
       "      <td>ESL ONE Cologne 2014</td>\n",
       "      <td>17523</td>\n",
       "      <td>12</td>\n",
       "      <td>Ninjas in Pyjamas</td>\n",
       "      <td>terrorist</td>\n",
       "      <td>Ninjas in Pyjamas</td>\n",
       "    </tr>\n",
       "    <tr>\n",
       "      <th>12</th>\n",
       "      <td>ESL ONE Cologne 2014</td>\n",
       "      <td>17523</td>\n",
       "      <td>13</td>\n",
       "      <td>Ninjas in Pyjamas</td>\n",
       "      <td>terrorist</td>\n",
       "      <td>Ninjas in Pyjamas</td>\n",
       "    </tr>\n",
       "    <tr>\n",
       "      <th>13</th>\n",
       "      <td>ESL ONE Cologne 2014</td>\n",
       "      <td>17523</td>\n",
       "      <td>14</td>\n",
       "      <td>Ninjas in Pyjamas</td>\n",
       "      <td>terrorist</td>\n",
       "      <td>Ninjas in Pyjamas</td>\n",
       "    </tr>\n",
       "    <tr>\n",
       "      <th>14</th>\n",
       "      <td>ESL ONE Cologne 2014</td>\n",
       "      <td>17523</td>\n",
       "      <td>15</td>\n",
       "      <td>Ninjas in Pyjamas</td>\n",
       "      <td>terrorist</td>\n",
       "      <td>Ninjas in Pyjamas</td>\n",
       "    </tr>\n",
       "    <tr>\n",
       "      <th>15</th>\n",
       "      <td>ESL ONE Cologne 2014</td>\n",
       "      <td>17523</td>\n",
       "      <td>16</td>\n",
       "      <td>MTS GameGod Wolf</td>\n",
       "      <td>terrorist</td>\n",
       "      <td>Ninjas in Pyjamas</td>\n",
       "    </tr>\n",
       "    <tr>\n",
       "      <th>16</th>\n",
       "      <td>ESL ONE Cologne 2014</td>\n",
       "      <td>17523</td>\n",
       "      <td>17</td>\n",
       "      <td>MTS GameGod Wolf</td>\n",
       "      <td>terrorist</td>\n",
       "      <td>Ninjas in Pyjamas</td>\n",
       "    </tr>\n",
       "    <tr>\n",
       "      <th>17</th>\n",
       "      <td>ESL ONE Cologne 2014</td>\n",
       "      <td>17523</td>\n",
       "      <td>18</td>\n",
       "      <td>Ninjas in Pyjamas</td>\n",
       "      <td>ct</td>\n",
       "      <td>Ninjas in Pyjamas</td>\n",
       "    </tr>\n",
       "    <tr>\n",
       "      <th>18</th>\n",
       "      <td>ESL ONE Cologne 2014</td>\n",
       "      <td>17523</td>\n",
       "      <td>19</td>\n",
       "      <td>MTS GameGod Wolf</td>\n",
       "      <td>terrorist</td>\n",
       "      <td>Ninjas in Pyjamas</td>\n",
       "    </tr>\n",
       "    <tr>\n",
       "      <th>19</th>\n",
       "      <td>ESL ONE Cologne 2014</td>\n",
       "      <td>17523</td>\n",
       "      <td>20</td>\n",
       "      <td>Ninjas in Pyjamas</td>\n",
       "      <td>ct</td>\n",
       "      <td>Ninjas in Pyjamas</td>\n",
       "    </tr>\n",
       "    <tr>\n",
       "      <th>20</th>\n",
       "      <td>ESL ONE Cologne 2014</td>\n",
       "      <td>17523</td>\n",
       "      <td>21</td>\n",
       "      <td>Ninjas in Pyjamas</td>\n",
       "      <td>ct</td>\n",
       "      <td>Ninjas in Pyjamas</td>\n",
       "    </tr>\n",
       "    <tr>\n",
       "      <th>21</th>\n",
       "      <td>ESL ONE Cologne 2014</td>\n",
       "      <td>17523</td>\n",
       "      <td>22</td>\n",
       "      <td>Ninjas in Pyjamas</td>\n",
       "      <td>ct</td>\n",
       "      <td>Ninjas in Pyjamas</td>\n",
       "    </tr>\n",
       "    <tr>\n",
       "      <th>22</th>\n",
       "      <td>ESL ONE Cologne 2014</td>\n",
       "      <td>17523</td>\n",
       "      <td>23</td>\n",
       "      <td>Ninjas in Pyjamas</td>\n",
       "      <td>ct</td>\n",
       "      <td>Ninjas in Pyjamas</td>\n",
       "    </tr>\n",
       "  </tbody>\n",
       "</table>\n",
       "<p>14331 rows × 6 columns</p>\n",
       "</div>"
      ],
      "text/plain": [
       "                   Event Match ID Round             Winner Winner Side  \\\n",
       "0      IEM Katowice 2019    82145     1           Astralis   terrorist   \n",
       "1      IEM Katowice 2019    82145     2           Astralis   terrorist   \n",
       "2      IEM Katowice 2019    82145     3               None        None   \n",
       "3      IEM Katowice 2019    82145     4           Astralis   terrorist   \n",
       "4      IEM Katowice 2019    82145     5           Astralis   terrorist   \n",
       "5      IEM Katowice 2019    82145     6           Astralis   terrorist   \n",
       "6      IEM Katowice 2019    82145     7               None        None   \n",
       "7      IEM Katowice 2019    82145     8           Astralis   terrorist   \n",
       "8      IEM Katowice 2019    82145     9               None        None   \n",
       "9      IEM Katowice 2019    82145    10           Astralis   terrorist   \n",
       "10     IEM Katowice 2019    82145    11               ENCE          ct   \n",
       "11     IEM Katowice 2019    82145    12           Astralis   terrorist   \n",
       "12     IEM Katowice 2019    82145    13           Astralis   terrorist   \n",
       "13     IEM Katowice 2019    82145    14           Astralis   terrorist   \n",
       "14     IEM Katowice 2019    82145    15           Astralis   terrorist   \n",
       "15     IEM Katowice 2019    82145    16               ENCE   terrorist   \n",
       "16     IEM Katowice 2019    82145    17               None        None   \n",
       "17     IEM Katowice 2019    82145    18               ENCE   terrorist   \n",
       "18     IEM Katowice 2019    82145    19               None        None   \n",
       "19     IEM Katowice 2019    82145    20           Astralis          ct   \n",
       "0      IEM Katowice 2019    82143     1           Astralis          ct   \n",
       "1      IEM Katowice 2019    82143     2               ENCE   terrorist   \n",
       "2      IEM Katowice 2019    82143     3               ENCE   terrorist   \n",
       "3      IEM Katowice 2019    82143     4           Astralis          ct   \n",
       "4      IEM Katowice 2019    82143     5               None        None   \n",
       "5      IEM Katowice 2019    82143     6               None        None   \n",
       "6      IEM Katowice 2019    82143     7               ENCE   terrorist   \n",
       "7      IEM Katowice 2019    82143     8               None        None   \n",
       "8      IEM Katowice 2019    82143     9           Astralis          ct   \n",
       "9      IEM Katowice 2019    82143    10           Astralis          ct   \n",
       "..                   ...      ...   ...                ...         ...   \n",
       "10  ESL ONE Cologne 2014    17524    11    Epsilon eSports          ct   \n",
       "11  ESL ONE Cologne 2014    17524    12    Epsilon eSports          ct   \n",
       "12  ESL ONE Cologne 2014    17524    13    Epsilon eSports          ct   \n",
       "13  ESL ONE Cologne 2014    17524    14    Epsilon eSports          ct   \n",
       "14  ESL ONE Cologne 2014    17524    15    Epsilon eSports          ct   \n",
       "15  ESL ONE Cologne 2014    17524    16    Epsilon eSports   terrorist   \n",
       "16  ESL ONE Cologne 2014    17524    17    Epsilon eSports   terrorist   \n",
       "0   ESL ONE Cologne 2014    17523     1   MTS GameGod Wolf          ct   \n",
       "1   ESL ONE Cologne 2014    17523     2   MTS GameGod Wolf          ct   \n",
       "2   ESL ONE Cologne 2014    17523     3  Ninjas in Pyjamas   terrorist   \n",
       "3   ESL ONE Cologne 2014    17523     4  Ninjas in Pyjamas   terrorist   \n",
       "4   ESL ONE Cologne 2014    17523     5  Ninjas in Pyjamas   terrorist   \n",
       "5   ESL ONE Cologne 2014    17523     6  Ninjas in Pyjamas   terrorist   \n",
       "6   ESL ONE Cologne 2014    17523     7   MTS GameGod Wolf          ct   \n",
       "7   ESL ONE Cologne 2014    17523     8  Ninjas in Pyjamas   terrorist   \n",
       "8   ESL ONE Cologne 2014    17523     9  Ninjas in Pyjamas   terrorist   \n",
       "9   ESL ONE Cologne 2014    17523    10   MTS GameGod Wolf          ct   \n",
       "10  ESL ONE Cologne 2014    17523    11  Ninjas in Pyjamas   terrorist   \n",
       "11  ESL ONE Cologne 2014    17523    12  Ninjas in Pyjamas   terrorist   \n",
       "12  ESL ONE Cologne 2014    17523    13  Ninjas in Pyjamas   terrorist   \n",
       "13  ESL ONE Cologne 2014    17523    14  Ninjas in Pyjamas   terrorist   \n",
       "14  ESL ONE Cologne 2014    17523    15  Ninjas in Pyjamas   terrorist   \n",
       "15  ESL ONE Cologne 2014    17523    16   MTS GameGod Wolf   terrorist   \n",
       "16  ESL ONE Cologne 2014    17523    17   MTS GameGod Wolf   terrorist   \n",
       "17  ESL ONE Cologne 2014    17523    18  Ninjas in Pyjamas          ct   \n",
       "18  ESL ONE Cologne 2014    17523    19   MTS GameGod Wolf   terrorist   \n",
       "19  ESL ONE Cologne 2014    17523    20  Ninjas in Pyjamas          ct   \n",
       "20  ESL ONE Cologne 2014    17523    21  Ninjas in Pyjamas          ct   \n",
       "21  ESL ONE Cologne 2014    17523    22  Ninjas in Pyjamas          ct   \n",
       "22  ESL ONE Cologne 2014    17523    23  Ninjas in Pyjamas          ct   \n",
       "\n",
       "         Match Winner  \n",
       "0            Astralis  \n",
       "1            Astralis  \n",
       "2            Astralis  \n",
       "3            Astralis  \n",
       "4            Astralis  \n",
       "5            Astralis  \n",
       "6            Astralis  \n",
       "7            Astralis  \n",
       "8            Astralis  \n",
       "9            Astralis  \n",
       "10           Astralis  \n",
       "11           Astralis  \n",
       "12           Astralis  \n",
       "13           Astralis  \n",
       "14           Astralis  \n",
       "15           Astralis  \n",
       "16           Astralis  \n",
       "17           Astralis  \n",
       "18           Astralis  \n",
       "19           Astralis  \n",
       "0            Astralis  \n",
       "1            Astralis  \n",
       "2            Astralis  \n",
       "3            Astralis  \n",
       "4            Astralis  \n",
       "5            Astralis  \n",
       "6            Astralis  \n",
       "7            Astralis  \n",
       "8            Astralis  \n",
       "9            Astralis  \n",
       "..                ...  \n",
       "10    Epsilon eSports  \n",
       "11    Epsilon eSports  \n",
       "12    Epsilon eSports  \n",
       "13    Epsilon eSports  \n",
       "14    Epsilon eSports  \n",
       "15    Epsilon eSports  \n",
       "16    Epsilon eSports  \n",
       "0   Ninjas in Pyjamas  \n",
       "1   Ninjas in Pyjamas  \n",
       "2   Ninjas in Pyjamas  \n",
       "3   Ninjas in Pyjamas  \n",
       "4   Ninjas in Pyjamas  \n",
       "5   Ninjas in Pyjamas  \n",
       "6   Ninjas in Pyjamas  \n",
       "7   Ninjas in Pyjamas  \n",
       "8   Ninjas in Pyjamas  \n",
       "9   Ninjas in Pyjamas  \n",
       "10  Ninjas in Pyjamas  \n",
       "11  Ninjas in Pyjamas  \n",
       "12  Ninjas in Pyjamas  \n",
       "13  Ninjas in Pyjamas  \n",
       "14  Ninjas in Pyjamas  \n",
       "15  Ninjas in Pyjamas  \n",
       "16  Ninjas in Pyjamas  \n",
       "17  Ninjas in Pyjamas  \n",
       "18  Ninjas in Pyjamas  \n",
       "19  Ninjas in Pyjamas  \n",
       "20  Ninjas in Pyjamas  \n",
       "21  Ninjas in Pyjamas  \n",
       "22  Ninjas in Pyjamas  \n",
       "\n",
       "[14331 rows x 6 columns]"
      ]
     },
     "execution_count": 13,
     "metadata": {},
     "output_type": "execute_result"
    }
   ],
   "source": [
    "dfRoundWinner"
   ]
  },
  {
   "cell_type": "code",
   "execution_count": 14,
   "metadata": {
    "papermill": {
     "duration": 0.191218,
     "end_time": "2019-05-10T19:00:14.802893",
     "exception": false,
     "start_time": "2019-05-10T19:00:14.611675",
     "status": "completed"
    },
    "tags": []
   },
   "outputs": [
    {
     "name": "stdout",
     "output_type": "stream",
     "text": [
      "-----------------------------------------\n",
      "DataFrame Null Values\n",
      "Event             0\n",
      "Match ID          0\n",
      "Round             0\n",
      "Winner          557\n",
      "Winner Side     554\n",
      "Match Winner      0\n",
      "dtype: int64\n",
      "-----------------------------------------\n"
     ]
    }
   ],
   "source": [
    "print(\"-----------------------------------------\\nDataFrame Null Values\")\n",
    "print(dfRoundWinner.isnull().sum())\n",
    "print(\"-----------------------------------------\")"
   ]
  },
  {
   "cell_type": "markdown",
   "metadata": {
    "papermill": {
     "duration": 0.175049,
     "end_time": "2019-05-10T19:00:15.154797",
     "exception": false,
     "start_time": "2019-05-10T19:00:14.979748",
     "status": "completed"
    },
    "tags": []
   },
   "source": [
    "As shown above, there are over 550 missing values for the Winner and Winner Side columns. However, they do not have the same amount of missing values. After investigating the data collected, it is show to be an error in the JSON data retrieved from DreamTeam. For example, in some cases there were more round items than actually occured in the match and these items held mostly null values.\n",
    "\n",
    "To solve this, a new DataFrame is created which is the scraped data grouped by Match ID and the values are counted."
   ]
  },
  {
   "cell_type": "code",
   "execution_count": 15,
   "metadata": {
    "papermill": {
     "duration": 0.210056,
     "end_time": "2019-05-10T19:00:15.539883",
     "exception": false,
     "start_time": "2019-05-10T19:00:15.329827",
     "status": "completed"
    },
    "scrolled": true,
    "tags": []
   },
   "outputs": [
    {
     "data": {
      "text/html": [
       "<div>\n",
       "<style scoped>\n",
       "    .dataframe tbody tr th:only-of-type {\n",
       "        vertical-align: middle;\n",
       "    }\n",
       "\n",
       "    .dataframe tbody tr th {\n",
       "        vertical-align: top;\n",
       "    }\n",
       "\n",
       "    .dataframe thead th {\n",
       "        text-align: right;\n",
       "    }\n",
       "</style>\n",
       "<table border=\"1\" class=\"dataframe\">\n",
       "  <thead>\n",
       "    <tr style=\"text-align: right;\">\n",
       "      <th></th>\n",
       "      <th>Event</th>\n",
       "      <th>Round</th>\n",
       "      <th>Winner</th>\n",
       "      <th>Winner Side</th>\n",
       "      <th>Match Winner</th>\n",
       "    </tr>\n",
       "    <tr>\n",
       "      <th>Match ID</th>\n",
       "      <th></th>\n",
       "      <th></th>\n",
       "      <th></th>\n",
       "      <th></th>\n",
       "      <th></th>\n",
       "    </tr>\n",
       "  </thead>\n",
       "  <tbody>\n",
       "    <tr>\n",
       "      <th>17523</th>\n",
       "      <td>23</td>\n",
       "      <td>23</td>\n",
       "      <td>23</td>\n",
       "      <td>23</td>\n",
       "      <td>23</td>\n",
       "    </tr>\n",
       "    <tr>\n",
       "      <th>17524</th>\n",
       "      <td>17</td>\n",
       "      <td>17</td>\n",
       "      <td>17</td>\n",
       "      <td>17</td>\n",
       "      <td>17</td>\n",
       "    </tr>\n",
       "    <tr>\n",
       "      <th>17525</th>\n",
       "      <td>20</td>\n",
       "      <td>20</td>\n",
       "      <td>20</td>\n",
       "      <td>20</td>\n",
       "      <td>20</td>\n",
       "    </tr>\n",
       "    <tr>\n",
       "      <th>17526</th>\n",
       "      <td>18</td>\n",
       "      <td>18</td>\n",
       "      <td>18</td>\n",
       "      <td>18</td>\n",
       "      <td>18</td>\n",
       "    </tr>\n",
       "    <tr>\n",
       "      <th>17527</th>\n",
       "      <td>22</td>\n",
       "      <td>22</td>\n",
       "      <td>22</td>\n",
       "      <td>22</td>\n",
       "      <td>22</td>\n",
       "    </tr>\n",
       "    <tr>\n",
       "      <th>17528</th>\n",
       "      <td>21</td>\n",
       "      <td>21</td>\n",
       "      <td>21</td>\n",
       "      <td>21</td>\n",
       "      <td>21</td>\n",
       "    </tr>\n",
       "    <tr>\n",
       "      <th>17529</th>\n",
       "      <td>23</td>\n",
       "      <td>23</td>\n",
       "      <td>23</td>\n",
       "      <td>23</td>\n",
       "      <td>23</td>\n",
       "    </tr>\n",
       "    <tr>\n",
       "      <th>17530</th>\n",
       "      <td>23</td>\n",
       "      <td>23</td>\n",
       "      <td>23</td>\n",
       "      <td>23</td>\n",
       "      <td>23</td>\n",
       "    </tr>\n",
       "    <tr>\n",
       "      <th>17531</th>\n",
       "      <td>24</td>\n",
       "      <td>24</td>\n",
       "      <td>23</td>\n",
       "      <td>23</td>\n",
       "      <td>24</td>\n",
       "    </tr>\n",
       "    <tr>\n",
       "      <th>17532</th>\n",
       "      <td>25</td>\n",
       "      <td>25</td>\n",
       "      <td>25</td>\n",
       "      <td>25</td>\n",
       "      <td>25</td>\n",
       "    </tr>\n",
       "    <tr>\n",
       "      <th>17533</th>\n",
       "      <td>40</td>\n",
       "      <td>40</td>\n",
       "      <td>40</td>\n",
       "      <td>40</td>\n",
       "      <td>40</td>\n",
       "    </tr>\n",
       "    <tr>\n",
       "      <th>17536</th>\n",
       "      <td>17</td>\n",
       "      <td>17</td>\n",
       "      <td>17</td>\n",
       "      <td>17</td>\n",
       "      <td>17</td>\n",
       "    </tr>\n",
       "    <tr>\n",
       "      <th>17537</th>\n",
       "      <td>21</td>\n",
       "      <td>21</td>\n",
       "      <td>21</td>\n",
       "      <td>21</td>\n",
       "      <td>21</td>\n",
       "    </tr>\n",
       "    <tr>\n",
       "      <th>17538</th>\n",
       "      <td>27</td>\n",
       "      <td>27</td>\n",
       "      <td>27</td>\n",
       "      <td>27</td>\n",
       "      <td>27</td>\n",
       "    </tr>\n",
       "    <tr>\n",
       "      <th>17539</th>\n",
       "      <td>28</td>\n",
       "      <td>28</td>\n",
       "      <td>28</td>\n",
       "      <td>28</td>\n",
       "      <td>28</td>\n",
       "    </tr>\n",
       "    <tr>\n",
       "      <th>17540</th>\n",
       "      <td>36</td>\n",
       "      <td>36</td>\n",
       "      <td>36</td>\n",
       "      <td>36</td>\n",
       "      <td>36</td>\n",
       "    </tr>\n",
       "    <tr>\n",
       "      <th>17542</th>\n",
       "      <td>35</td>\n",
       "      <td>35</td>\n",
       "      <td>35</td>\n",
       "      <td>35</td>\n",
       "      <td>35</td>\n",
       "    </tr>\n",
       "    <tr>\n",
       "      <th>17544</th>\n",
       "      <td>18</td>\n",
       "      <td>18</td>\n",
       "      <td>18</td>\n",
       "      <td>18</td>\n",
       "      <td>18</td>\n",
       "    </tr>\n",
       "    <tr>\n",
       "      <th>17545</th>\n",
       "      <td>30</td>\n",
       "      <td>30</td>\n",
       "      <td>30</td>\n",
       "      <td>30</td>\n",
       "      <td>30</td>\n",
       "    </tr>\n",
       "    <tr>\n",
       "      <th>17546</th>\n",
       "      <td>17</td>\n",
       "      <td>17</td>\n",
       "      <td>17</td>\n",
       "      <td>17</td>\n",
       "      <td>17</td>\n",
       "    </tr>\n",
       "    <tr>\n",
       "      <th>17547</th>\n",
       "      <td>27</td>\n",
       "      <td>27</td>\n",
       "      <td>27</td>\n",
       "      <td>27</td>\n",
       "      <td>27</td>\n",
       "    </tr>\n",
       "    <tr>\n",
       "      <th>17548</th>\n",
       "      <td>24</td>\n",
       "      <td>24</td>\n",
       "      <td>24</td>\n",
       "      <td>24</td>\n",
       "      <td>24</td>\n",
       "    </tr>\n",
       "    <tr>\n",
       "      <th>17549</th>\n",
       "      <td>31</td>\n",
       "      <td>31</td>\n",
       "      <td>31</td>\n",
       "      <td>31</td>\n",
       "      <td>31</td>\n",
       "    </tr>\n",
       "    <tr>\n",
       "      <th>17550</th>\n",
       "      <td>24</td>\n",
       "      <td>24</td>\n",
       "      <td>24</td>\n",
       "      <td>24</td>\n",
       "      <td>24</td>\n",
       "    </tr>\n",
       "    <tr>\n",
       "      <th>17551</th>\n",
       "      <td>24</td>\n",
       "      <td>24</td>\n",
       "      <td>24</td>\n",
       "      <td>24</td>\n",
       "      <td>24</td>\n",
       "    </tr>\n",
       "    <tr>\n",
       "      <th>17552</th>\n",
       "      <td>30</td>\n",
       "      <td>30</td>\n",
       "      <td>30</td>\n",
       "      <td>30</td>\n",
       "      <td>30</td>\n",
       "    </tr>\n",
       "    <tr>\n",
       "      <th>17553</th>\n",
       "      <td>28</td>\n",
       "      <td>28</td>\n",
       "      <td>28</td>\n",
       "      <td>28</td>\n",
       "      <td>28</td>\n",
       "    </tr>\n",
       "    <tr>\n",
       "      <th>17554</th>\n",
       "      <td>25</td>\n",
       "      <td>25</td>\n",
       "      <td>25</td>\n",
       "      <td>25</td>\n",
       "      <td>25</td>\n",
       "    </tr>\n",
       "    <tr>\n",
       "      <th>17555</th>\n",
       "      <td>30</td>\n",
       "      <td>30</td>\n",
       "      <td>30</td>\n",
       "      <td>30</td>\n",
       "      <td>30</td>\n",
       "    </tr>\n",
       "    <tr>\n",
       "      <th>17556</th>\n",
       "      <td>30</td>\n",
       "      <td>30</td>\n",
       "      <td>30</td>\n",
       "      <td>30</td>\n",
       "      <td>30</td>\n",
       "    </tr>\n",
       "    <tr>\n",
       "      <th>...</th>\n",
       "      <td>...</td>\n",
       "      <td>...</td>\n",
       "      <td>...</td>\n",
       "      <td>...</td>\n",
       "      <td>...</td>\n",
       "    </tr>\n",
       "    <tr>\n",
       "      <th>81807</th>\n",
       "      <td>30</td>\n",
       "      <td>30</td>\n",
       "      <td>29</td>\n",
       "      <td>29</td>\n",
       "      <td>30</td>\n",
       "    </tr>\n",
       "    <tr>\n",
       "      <th>81828</th>\n",
       "      <td>37</td>\n",
       "      <td>37</td>\n",
       "      <td>35</td>\n",
       "      <td>35</td>\n",
       "      <td>37</td>\n",
       "    </tr>\n",
       "    <tr>\n",
       "      <th>81830</th>\n",
       "      <td>26</td>\n",
       "      <td>26</td>\n",
       "      <td>23</td>\n",
       "      <td>23</td>\n",
       "      <td>26</td>\n",
       "    </tr>\n",
       "    <tr>\n",
       "      <th>81831</th>\n",
       "      <td>24</td>\n",
       "      <td>24</td>\n",
       "      <td>22</td>\n",
       "      <td>22</td>\n",
       "      <td>24</td>\n",
       "    </tr>\n",
       "    <tr>\n",
       "      <th>81832</th>\n",
       "      <td>27</td>\n",
       "      <td>27</td>\n",
       "      <td>25</td>\n",
       "      <td>25</td>\n",
       "      <td>27</td>\n",
       "    </tr>\n",
       "    <tr>\n",
       "      <th>81833</th>\n",
       "      <td>30</td>\n",
       "      <td>30</td>\n",
       "      <td>28</td>\n",
       "      <td>28</td>\n",
       "      <td>30</td>\n",
       "    </tr>\n",
       "    <tr>\n",
       "      <th>81834</th>\n",
       "      <td>25</td>\n",
       "      <td>25</td>\n",
       "      <td>22</td>\n",
       "      <td>22</td>\n",
       "      <td>25</td>\n",
       "    </tr>\n",
       "    <tr>\n",
       "      <th>81836</th>\n",
       "      <td>28</td>\n",
       "      <td>28</td>\n",
       "      <td>24</td>\n",
       "      <td>24</td>\n",
       "      <td>28</td>\n",
       "    </tr>\n",
       "    <tr>\n",
       "      <th>81851</th>\n",
       "      <td>29</td>\n",
       "      <td>29</td>\n",
       "      <td>27</td>\n",
       "      <td>27</td>\n",
       "      <td>29</td>\n",
       "    </tr>\n",
       "    <tr>\n",
       "      <th>81861</th>\n",
       "      <td>23</td>\n",
       "      <td>23</td>\n",
       "      <td>22</td>\n",
       "      <td>22</td>\n",
       "      <td>23</td>\n",
       "    </tr>\n",
       "    <tr>\n",
       "      <th>81868</th>\n",
       "      <td>24</td>\n",
       "      <td>24</td>\n",
       "      <td>22</td>\n",
       "      <td>22</td>\n",
       "      <td>24</td>\n",
       "    </tr>\n",
       "    <tr>\n",
       "      <th>81870</th>\n",
       "      <td>24</td>\n",
       "      <td>24</td>\n",
       "      <td>22</td>\n",
       "      <td>22</td>\n",
       "      <td>24</td>\n",
       "    </tr>\n",
       "    <tr>\n",
       "      <th>81873</th>\n",
       "      <td>23</td>\n",
       "      <td>23</td>\n",
       "      <td>21</td>\n",
       "      <td>21</td>\n",
       "      <td>23</td>\n",
       "    </tr>\n",
       "    <tr>\n",
       "      <th>81879</th>\n",
       "      <td>31</td>\n",
       "      <td>31</td>\n",
       "      <td>29</td>\n",
       "      <td>29</td>\n",
       "      <td>31</td>\n",
       "    </tr>\n",
       "    <tr>\n",
       "      <th>81885</th>\n",
       "      <td>25</td>\n",
       "      <td>25</td>\n",
       "      <td>23</td>\n",
       "      <td>23</td>\n",
       "      <td>25</td>\n",
       "    </tr>\n",
       "    <tr>\n",
       "      <th>82045</th>\n",
       "      <td>31</td>\n",
       "      <td>31</td>\n",
       "      <td>30</td>\n",
       "      <td>30</td>\n",
       "      <td>31</td>\n",
       "    </tr>\n",
       "    <tr>\n",
       "      <th>82050</th>\n",
       "      <td>23</td>\n",
       "      <td>23</td>\n",
       "      <td>23</td>\n",
       "      <td>23</td>\n",
       "      <td>23</td>\n",
       "    </tr>\n",
       "    <tr>\n",
       "      <th>82058</th>\n",
       "      <td>27</td>\n",
       "      <td>27</td>\n",
       "      <td>23</td>\n",
       "      <td>23</td>\n",
       "      <td>27</td>\n",
       "    </tr>\n",
       "    <tr>\n",
       "      <th>82063</th>\n",
       "      <td>35</td>\n",
       "      <td>35</td>\n",
       "      <td>32</td>\n",
       "      <td>32</td>\n",
       "      <td>35</td>\n",
       "    </tr>\n",
       "    <tr>\n",
       "      <th>82082</th>\n",
       "      <td>23</td>\n",
       "      <td>23</td>\n",
       "      <td>20</td>\n",
       "      <td>20</td>\n",
       "      <td>23</td>\n",
       "    </tr>\n",
       "    <tr>\n",
       "      <th>82087</th>\n",
       "      <td>28</td>\n",
       "      <td>28</td>\n",
       "      <td>23</td>\n",
       "      <td>23</td>\n",
       "      <td>28</td>\n",
       "    </tr>\n",
       "    <tr>\n",
       "      <th>82091</th>\n",
       "      <td>19</td>\n",
       "      <td>19</td>\n",
       "      <td>17</td>\n",
       "      <td>17</td>\n",
       "      <td>19</td>\n",
       "    </tr>\n",
       "    <tr>\n",
       "      <th>82095</th>\n",
       "      <td>30</td>\n",
       "      <td>30</td>\n",
       "      <td>26</td>\n",
       "      <td>26</td>\n",
       "      <td>30</td>\n",
       "    </tr>\n",
       "    <tr>\n",
       "      <th>82117</th>\n",
       "      <td>31</td>\n",
       "      <td>31</td>\n",
       "      <td>26</td>\n",
       "      <td>26</td>\n",
       "      <td>31</td>\n",
       "    </tr>\n",
       "    <tr>\n",
       "      <th>82119</th>\n",
       "      <td>19</td>\n",
       "      <td>19</td>\n",
       "      <td>15</td>\n",
       "      <td>15</td>\n",
       "      <td>19</td>\n",
       "    </tr>\n",
       "    <tr>\n",
       "      <th>82120</th>\n",
       "      <td>30</td>\n",
       "      <td>30</td>\n",
       "      <td>25</td>\n",
       "      <td>25</td>\n",
       "      <td>30</td>\n",
       "    </tr>\n",
       "    <tr>\n",
       "      <th>82121</th>\n",
       "      <td>31</td>\n",
       "      <td>31</td>\n",
       "      <td>24</td>\n",
       "      <td>24</td>\n",
       "      <td>31</td>\n",
       "    </tr>\n",
       "    <tr>\n",
       "      <th>82123</th>\n",
       "      <td>23</td>\n",
       "      <td>23</td>\n",
       "      <td>20</td>\n",
       "      <td>20</td>\n",
       "      <td>23</td>\n",
       "    </tr>\n",
       "    <tr>\n",
       "      <th>82143</th>\n",
       "      <td>28</td>\n",
       "      <td>28</td>\n",
       "      <td>21</td>\n",
       "      <td>21</td>\n",
       "      <td>28</td>\n",
       "    </tr>\n",
       "    <tr>\n",
       "      <th>82145</th>\n",
       "      <td>20</td>\n",
       "      <td>20</td>\n",
       "      <td>15</td>\n",
       "      <td>15</td>\n",
       "      <td>20</td>\n",
       "    </tr>\n",
       "  </tbody>\n",
       "</table>\n",
       "<p>542 rows × 5 columns</p>\n",
       "</div>"
      ],
      "text/plain": [
       "          Event  Round  Winner  Winner Side  Match Winner\n",
       "Match ID                                                 \n",
       "17523        23     23      23           23            23\n",
       "17524        17     17      17           17            17\n",
       "17525        20     20      20           20            20\n",
       "17526        18     18      18           18            18\n",
       "17527        22     22      22           22            22\n",
       "17528        21     21      21           21            21\n",
       "17529        23     23      23           23            23\n",
       "17530        23     23      23           23            23\n",
       "17531        24     24      23           23            24\n",
       "17532        25     25      25           25            25\n",
       "17533        40     40      40           40            40\n",
       "17536        17     17      17           17            17\n",
       "17537        21     21      21           21            21\n",
       "17538        27     27      27           27            27\n",
       "17539        28     28      28           28            28\n",
       "17540        36     36      36           36            36\n",
       "17542        35     35      35           35            35\n",
       "17544        18     18      18           18            18\n",
       "17545        30     30      30           30            30\n",
       "17546        17     17      17           17            17\n",
       "17547        27     27      27           27            27\n",
       "17548        24     24      24           24            24\n",
       "17549        31     31      31           31            31\n",
       "17550        24     24      24           24            24\n",
       "17551        24     24      24           24            24\n",
       "17552        30     30      30           30            30\n",
       "17553        28     28      28           28            28\n",
       "17554        25     25      25           25            25\n",
       "17555        30     30      30           30            30\n",
       "17556        30     30      30           30            30\n",
       "...         ...    ...     ...          ...           ...\n",
       "81807        30     30      29           29            30\n",
       "81828        37     37      35           35            37\n",
       "81830        26     26      23           23            26\n",
       "81831        24     24      22           22            24\n",
       "81832        27     27      25           25            27\n",
       "81833        30     30      28           28            30\n",
       "81834        25     25      22           22            25\n",
       "81836        28     28      24           24            28\n",
       "81851        29     29      27           27            29\n",
       "81861        23     23      22           22            23\n",
       "81868        24     24      22           22            24\n",
       "81870        24     24      22           22            24\n",
       "81873        23     23      21           21            23\n",
       "81879        31     31      29           29            31\n",
       "81885        25     25      23           23            25\n",
       "82045        31     31      30           30            31\n",
       "82050        23     23      23           23            23\n",
       "82058        27     27      23           23            27\n",
       "82063        35     35      32           32            35\n",
       "82082        23     23      20           20            23\n",
       "82087        28     28      23           23            28\n",
       "82091        19     19      17           17            19\n",
       "82095        30     30      26           26            30\n",
       "82117        31     31      26           26            31\n",
       "82119        19     19      15           15            19\n",
       "82120        30     30      25           25            30\n",
       "82121        31     31      24           24            31\n",
       "82123        23     23      20           20            23\n",
       "82143        28     28      21           21            28\n",
       "82145        20     20      15           15            20\n",
       "\n",
       "[542 rows x 5 columns]"
      ]
     },
     "execution_count": 15,
     "metadata": {},
     "output_type": "execute_result"
    }
   ],
   "source": [
    "dfRoundWinnerCheck = (dfRoundWinner.groupby(\"Match ID\").count())\n",
    "dfRoundWinner.groupby(\"Match ID\").count()"
   ]
  },
  {
   "cell_type": "markdown",
   "metadata": {
    "papermill": {
     "duration": 0.17604,
     "end_time": "2019-05-10T19:00:15.892963",
     "exception": false,
     "start_time": "2019-05-10T19:00:15.716923",
     "status": "completed"
    },
    "tags": []
   },
   "source": [
    "A mask is then used to only keep the matches where the Round column value is equal to the Winner column value."
   ]
  },
  {
   "cell_type": "code",
   "execution_count": 16,
   "metadata": {
    "papermill": {
     "duration": 0.199054,
     "end_time": "2019-05-10T19:00:16.272048",
     "exception": false,
     "start_time": "2019-05-10T19:00:16.072994",
     "status": "completed"
    },
    "scrolled": true,
    "tags": []
   },
   "outputs": [
    {
     "data": {
      "text/html": [
       "<div>\n",
       "<style scoped>\n",
       "    .dataframe tbody tr th:only-of-type {\n",
       "        vertical-align: middle;\n",
       "    }\n",
       "\n",
       "    .dataframe tbody tr th {\n",
       "        vertical-align: top;\n",
       "    }\n",
       "\n",
       "    .dataframe thead th {\n",
       "        text-align: right;\n",
       "    }\n",
       "</style>\n",
       "<table border=\"1\" class=\"dataframe\">\n",
       "  <thead>\n",
       "    <tr style=\"text-align: right;\">\n",
       "      <th></th>\n",
       "      <th>Event</th>\n",
       "      <th>Round</th>\n",
       "      <th>Winner</th>\n",
       "      <th>Winner Side</th>\n",
       "      <th>Match Winner</th>\n",
       "    </tr>\n",
       "    <tr>\n",
       "      <th>Match ID</th>\n",
       "      <th></th>\n",
       "      <th></th>\n",
       "      <th></th>\n",
       "      <th></th>\n",
       "      <th></th>\n",
       "    </tr>\n",
       "  </thead>\n",
       "  <tbody>\n",
       "    <tr>\n",
       "      <th>17523</th>\n",
       "      <td>23</td>\n",
       "      <td>23</td>\n",
       "      <td>23</td>\n",
       "      <td>23</td>\n",
       "      <td>23</td>\n",
       "    </tr>\n",
       "    <tr>\n",
       "      <th>17524</th>\n",
       "      <td>17</td>\n",
       "      <td>17</td>\n",
       "      <td>17</td>\n",
       "      <td>17</td>\n",
       "      <td>17</td>\n",
       "    </tr>\n",
       "    <tr>\n",
       "      <th>17525</th>\n",
       "      <td>20</td>\n",
       "      <td>20</td>\n",
       "      <td>20</td>\n",
       "      <td>20</td>\n",
       "      <td>20</td>\n",
       "    </tr>\n",
       "    <tr>\n",
       "      <th>17526</th>\n",
       "      <td>18</td>\n",
       "      <td>18</td>\n",
       "      <td>18</td>\n",
       "      <td>18</td>\n",
       "      <td>18</td>\n",
       "    </tr>\n",
       "    <tr>\n",
       "      <th>17527</th>\n",
       "      <td>22</td>\n",
       "      <td>22</td>\n",
       "      <td>22</td>\n",
       "      <td>22</td>\n",
       "      <td>22</td>\n",
       "    </tr>\n",
       "    <tr>\n",
       "      <th>17528</th>\n",
       "      <td>21</td>\n",
       "      <td>21</td>\n",
       "      <td>21</td>\n",
       "      <td>21</td>\n",
       "      <td>21</td>\n",
       "    </tr>\n",
       "    <tr>\n",
       "      <th>17529</th>\n",
       "      <td>23</td>\n",
       "      <td>23</td>\n",
       "      <td>23</td>\n",
       "      <td>23</td>\n",
       "      <td>23</td>\n",
       "    </tr>\n",
       "    <tr>\n",
       "      <th>17530</th>\n",
       "      <td>23</td>\n",
       "      <td>23</td>\n",
       "      <td>23</td>\n",
       "      <td>23</td>\n",
       "      <td>23</td>\n",
       "    </tr>\n",
       "    <tr>\n",
       "      <th>17532</th>\n",
       "      <td>25</td>\n",
       "      <td>25</td>\n",
       "      <td>25</td>\n",
       "      <td>25</td>\n",
       "      <td>25</td>\n",
       "    </tr>\n",
       "    <tr>\n",
       "      <th>17533</th>\n",
       "      <td>40</td>\n",
       "      <td>40</td>\n",
       "      <td>40</td>\n",
       "      <td>40</td>\n",
       "      <td>40</td>\n",
       "    </tr>\n",
       "    <tr>\n",
       "      <th>17536</th>\n",
       "      <td>17</td>\n",
       "      <td>17</td>\n",
       "      <td>17</td>\n",
       "      <td>17</td>\n",
       "      <td>17</td>\n",
       "    </tr>\n",
       "    <tr>\n",
       "      <th>17537</th>\n",
       "      <td>21</td>\n",
       "      <td>21</td>\n",
       "      <td>21</td>\n",
       "      <td>21</td>\n",
       "      <td>21</td>\n",
       "    </tr>\n",
       "    <tr>\n",
       "      <th>17538</th>\n",
       "      <td>27</td>\n",
       "      <td>27</td>\n",
       "      <td>27</td>\n",
       "      <td>27</td>\n",
       "      <td>27</td>\n",
       "    </tr>\n",
       "    <tr>\n",
       "      <th>17539</th>\n",
       "      <td>28</td>\n",
       "      <td>28</td>\n",
       "      <td>28</td>\n",
       "      <td>28</td>\n",
       "      <td>28</td>\n",
       "    </tr>\n",
       "    <tr>\n",
       "      <th>17540</th>\n",
       "      <td>36</td>\n",
       "      <td>36</td>\n",
       "      <td>36</td>\n",
       "      <td>36</td>\n",
       "      <td>36</td>\n",
       "    </tr>\n",
       "    <tr>\n",
       "      <th>17542</th>\n",
       "      <td>35</td>\n",
       "      <td>35</td>\n",
       "      <td>35</td>\n",
       "      <td>35</td>\n",
       "      <td>35</td>\n",
       "    </tr>\n",
       "    <tr>\n",
       "      <th>17544</th>\n",
       "      <td>18</td>\n",
       "      <td>18</td>\n",
       "      <td>18</td>\n",
       "      <td>18</td>\n",
       "      <td>18</td>\n",
       "    </tr>\n",
       "    <tr>\n",
       "      <th>17545</th>\n",
       "      <td>30</td>\n",
       "      <td>30</td>\n",
       "      <td>30</td>\n",
       "      <td>30</td>\n",
       "      <td>30</td>\n",
       "    </tr>\n",
       "    <tr>\n",
       "      <th>17546</th>\n",
       "      <td>17</td>\n",
       "      <td>17</td>\n",
       "      <td>17</td>\n",
       "      <td>17</td>\n",
       "      <td>17</td>\n",
       "    </tr>\n",
       "    <tr>\n",
       "      <th>17547</th>\n",
       "      <td>27</td>\n",
       "      <td>27</td>\n",
       "      <td>27</td>\n",
       "      <td>27</td>\n",
       "      <td>27</td>\n",
       "    </tr>\n",
       "    <tr>\n",
       "      <th>17548</th>\n",
       "      <td>24</td>\n",
       "      <td>24</td>\n",
       "      <td>24</td>\n",
       "      <td>24</td>\n",
       "      <td>24</td>\n",
       "    </tr>\n",
       "    <tr>\n",
       "      <th>17549</th>\n",
       "      <td>31</td>\n",
       "      <td>31</td>\n",
       "      <td>31</td>\n",
       "      <td>31</td>\n",
       "      <td>31</td>\n",
       "    </tr>\n",
       "    <tr>\n",
       "      <th>17550</th>\n",
       "      <td>24</td>\n",
       "      <td>24</td>\n",
       "      <td>24</td>\n",
       "      <td>24</td>\n",
       "      <td>24</td>\n",
       "    </tr>\n",
       "    <tr>\n",
       "      <th>17551</th>\n",
       "      <td>24</td>\n",
       "      <td>24</td>\n",
       "      <td>24</td>\n",
       "      <td>24</td>\n",
       "      <td>24</td>\n",
       "    </tr>\n",
       "    <tr>\n",
       "      <th>17552</th>\n",
       "      <td>30</td>\n",
       "      <td>30</td>\n",
       "      <td>30</td>\n",
       "      <td>30</td>\n",
       "      <td>30</td>\n",
       "    </tr>\n",
       "    <tr>\n",
       "      <th>17553</th>\n",
       "      <td>28</td>\n",
       "      <td>28</td>\n",
       "      <td>28</td>\n",
       "      <td>28</td>\n",
       "      <td>28</td>\n",
       "    </tr>\n",
       "    <tr>\n",
       "      <th>17554</th>\n",
       "      <td>25</td>\n",
       "      <td>25</td>\n",
       "      <td>25</td>\n",
       "      <td>25</td>\n",
       "      <td>25</td>\n",
       "    </tr>\n",
       "    <tr>\n",
       "      <th>17555</th>\n",
       "      <td>30</td>\n",
       "      <td>30</td>\n",
       "      <td>30</td>\n",
       "      <td>30</td>\n",
       "      <td>30</td>\n",
       "    </tr>\n",
       "    <tr>\n",
       "      <th>17556</th>\n",
       "      <td>30</td>\n",
       "      <td>30</td>\n",
       "      <td>30</td>\n",
       "      <td>30</td>\n",
       "      <td>30</td>\n",
       "    </tr>\n",
       "    <tr>\n",
       "      <th>17557</th>\n",
       "      <td>27</td>\n",
       "      <td>27</td>\n",
       "      <td>27</td>\n",
       "      <td>27</td>\n",
       "      <td>27</td>\n",
       "    </tr>\n",
       "    <tr>\n",
       "      <th>...</th>\n",
       "      <td>...</td>\n",
       "      <td>...</td>\n",
       "      <td>...</td>\n",
       "      <td>...</td>\n",
       "      <td>...</td>\n",
       "    </tr>\n",
       "    <tr>\n",
       "      <th>73779</th>\n",
       "      <td>42</td>\n",
       "      <td>42</td>\n",
       "      <td>42</td>\n",
       "      <td>42</td>\n",
       "      <td>42</td>\n",
       "    </tr>\n",
       "    <tr>\n",
       "      <th>73786</th>\n",
       "      <td>17</td>\n",
       "      <td>17</td>\n",
       "      <td>17</td>\n",
       "      <td>17</td>\n",
       "      <td>17</td>\n",
       "    </tr>\n",
       "    <tr>\n",
       "      <th>73800</th>\n",
       "      <td>36</td>\n",
       "      <td>36</td>\n",
       "      <td>36</td>\n",
       "      <td>36</td>\n",
       "      <td>36</td>\n",
       "    </tr>\n",
       "    <tr>\n",
       "      <th>73803</th>\n",
       "      <td>25</td>\n",
       "      <td>25</td>\n",
       "      <td>25</td>\n",
       "      <td>25</td>\n",
       "      <td>25</td>\n",
       "    </tr>\n",
       "    <tr>\n",
       "      <th>73807</th>\n",
       "      <td>18</td>\n",
       "      <td>18</td>\n",
       "      <td>18</td>\n",
       "      <td>18</td>\n",
       "      <td>18</td>\n",
       "    </tr>\n",
       "    <tr>\n",
       "      <th>73811</th>\n",
       "      <td>19</td>\n",
       "      <td>19</td>\n",
       "      <td>19</td>\n",
       "      <td>19</td>\n",
       "      <td>19</td>\n",
       "    </tr>\n",
       "    <tr>\n",
       "      <th>73812</th>\n",
       "      <td>47</td>\n",
       "      <td>47</td>\n",
       "      <td>47</td>\n",
       "      <td>47</td>\n",
       "      <td>47</td>\n",
       "    </tr>\n",
       "    <tr>\n",
       "      <th>73816</th>\n",
       "      <td>35</td>\n",
       "      <td>35</td>\n",
       "      <td>35</td>\n",
       "      <td>35</td>\n",
       "      <td>35</td>\n",
       "    </tr>\n",
       "    <tr>\n",
       "      <th>73828</th>\n",
       "      <td>26</td>\n",
       "      <td>26</td>\n",
       "      <td>26</td>\n",
       "      <td>26</td>\n",
       "      <td>26</td>\n",
       "    </tr>\n",
       "    <tr>\n",
       "      <th>73833</th>\n",
       "      <td>27</td>\n",
       "      <td>27</td>\n",
       "      <td>27</td>\n",
       "      <td>27</td>\n",
       "      <td>27</td>\n",
       "    </tr>\n",
       "    <tr>\n",
       "      <th>74002</th>\n",
       "      <td>18</td>\n",
       "      <td>18</td>\n",
       "      <td>18</td>\n",
       "      <td>18</td>\n",
       "      <td>18</td>\n",
       "    </tr>\n",
       "    <tr>\n",
       "      <th>74019</th>\n",
       "      <td>25</td>\n",
       "      <td>25</td>\n",
       "      <td>25</td>\n",
       "      <td>25</td>\n",
       "      <td>25</td>\n",
       "    </tr>\n",
       "    <tr>\n",
       "      <th>74021</th>\n",
       "      <td>21</td>\n",
       "      <td>21</td>\n",
       "      <td>21</td>\n",
       "      <td>21</td>\n",
       "      <td>21</td>\n",
       "    </tr>\n",
       "    <tr>\n",
       "      <th>74026</th>\n",
       "      <td>28</td>\n",
       "      <td>28</td>\n",
       "      <td>28</td>\n",
       "      <td>28</td>\n",
       "      <td>28</td>\n",
       "    </tr>\n",
       "    <tr>\n",
       "      <th>74048</th>\n",
       "      <td>27</td>\n",
       "      <td>27</td>\n",
       "      <td>27</td>\n",
       "      <td>27</td>\n",
       "      <td>27</td>\n",
       "    </tr>\n",
       "    <tr>\n",
       "      <th>74049</th>\n",
       "      <td>26</td>\n",
       "      <td>26</td>\n",
       "      <td>26</td>\n",
       "      <td>26</td>\n",
       "      <td>26</td>\n",
       "    </tr>\n",
       "    <tr>\n",
       "      <th>74051</th>\n",
       "      <td>24</td>\n",
       "      <td>24</td>\n",
       "      <td>24</td>\n",
       "      <td>24</td>\n",
       "      <td>24</td>\n",
       "    </tr>\n",
       "    <tr>\n",
       "      <th>74053</th>\n",
       "      <td>32</td>\n",
       "      <td>32</td>\n",
       "      <td>32</td>\n",
       "      <td>32</td>\n",
       "      <td>32</td>\n",
       "    </tr>\n",
       "    <tr>\n",
       "      <th>74055</th>\n",
       "      <td>28</td>\n",
       "      <td>28</td>\n",
       "      <td>28</td>\n",
       "      <td>28</td>\n",
       "      <td>28</td>\n",
       "    </tr>\n",
       "    <tr>\n",
       "      <th>74058</th>\n",
       "      <td>29</td>\n",
       "      <td>29</td>\n",
       "      <td>29</td>\n",
       "      <td>29</td>\n",
       "      <td>29</td>\n",
       "    </tr>\n",
       "    <tr>\n",
       "      <th>74059</th>\n",
       "      <td>21</td>\n",
       "      <td>21</td>\n",
       "      <td>21</td>\n",
       "      <td>21</td>\n",
       "      <td>21</td>\n",
       "    </tr>\n",
       "    <tr>\n",
       "      <th>74060</th>\n",
       "      <td>25</td>\n",
       "      <td>25</td>\n",
       "      <td>25</td>\n",
       "      <td>25</td>\n",
       "      <td>25</td>\n",
       "    </tr>\n",
       "    <tr>\n",
       "      <th>74061</th>\n",
       "      <td>23</td>\n",
       "      <td>23</td>\n",
       "      <td>23</td>\n",
       "      <td>23</td>\n",
       "      <td>23</td>\n",
       "    </tr>\n",
       "    <tr>\n",
       "      <th>74128</th>\n",
       "      <td>23</td>\n",
       "      <td>23</td>\n",
       "      <td>23</td>\n",
       "      <td>23</td>\n",
       "      <td>23</td>\n",
       "    </tr>\n",
       "    <tr>\n",
       "      <th>74129</th>\n",
       "      <td>26</td>\n",
       "      <td>26</td>\n",
       "      <td>26</td>\n",
       "      <td>26</td>\n",
       "      <td>26</td>\n",
       "    </tr>\n",
       "    <tr>\n",
       "      <th>81761</th>\n",
       "      <td>25</td>\n",
       "      <td>25</td>\n",
       "      <td>25</td>\n",
       "      <td>25</td>\n",
       "      <td>25</td>\n",
       "    </tr>\n",
       "    <tr>\n",
       "      <th>81790</th>\n",
       "      <td>27</td>\n",
       "      <td>27</td>\n",
       "      <td>27</td>\n",
       "      <td>27</td>\n",
       "      <td>27</td>\n",
       "    </tr>\n",
       "    <tr>\n",
       "      <th>81795</th>\n",
       "      <td>28</td>\n",
       "      <td>28</td>\n",
       "      <td>28</td>\n",
       "      <td>28</td>\n",
       "      <td>28</td>\n",
       "    </tr>\n",
       "    <tr>\n",
       "      <th>81796</th>\n",
       "      <td>23</td>\n",
       "      <td>23</td>\n",
       "      <td>23</td>\n",
       "      <td>23</td>\n",
       "      <td>23</td>\n",
       "    </tr>\n",
       "    <tr>\n",
       "      <th>82050</th>\n",
       "      <td>23</td>\n",
       "      <td>23</td>\n",
       "      <td>23</td>\n",
       "      <td>23</td>\n",
       "      <td>23</td>\n",
       "    </tr>\n",
       "  </tbody>\n",
       "</table>\n",
       "<p>428 rows × 5 columns</p>\n",
       "</div>"
      ],
      "text/plain": [
       "          Event  Round  Winner  Winner Side  Match Winner\n",
       "Match ID                                                 \n",
       "17523        23     23      23           23            23\n",
       "17524        17     17      17           17            17\n",
       "17525        20     20      20           20            20\n",
       "17526        18     18      18           18            18\n",
       "17527        22     22      22           22            22\n",
       "17528        21     21      21           21            21\n",
       "17529        23     23      23           23            23\n",
       "17530        23     23      23           23            23\n",
       "17532        25     25      25           25            25\n",
       "17533        40     40      40           40            40\n",
       "17536        17     17      17           17            17\n",
       "17537        21     21      21           21            21\n",
       "17538        27     27      27           27            27\n",
       "17539        28     28      28           28            28\n",
       "17540        36     36      36           36            36\n",
       "17542        35     35      35           35            35\n",
       "17544        18     18      18           18            18\n",
       "17545        30     30      30           30            30\n",
       "17546        17     17      17           17            17\n",
       "17547        27     27      27           27            27\n",
       "17548        24     24      24           24            24\n",
       "17549        31     31      31           31            31\n",
       "17550        24     24      24           24            24\n",
       "17551        24     24      24           24            24\n",
       "17552        30     30      30           30            30\n",
       "17553        28     28      28           28            28\n",
       "17554        25     25      25           25            25\n",
       "17555        30     30      30           30            30\n",
       "17556        30     30      30           30            30\n",
       "17557        27     27      27           27            27\n",
       "...         ...    ...     ...          ...           ...\n",
       "73779        42     42      42           42            42\n",
       "73786        17     17      17           17            17\n",
       "73800        36     36      36           36            36\n",
       "73803        25     25      25           25            25\n",
       "73807        18     18      18           18            18\n",
       "73811        19     19      19           19            19\n",
       "73812        47     47      47           47            47\n",
       "73816        35     35      35           35            35\n",
       "73828        26     26      26           26            26\n",
       "73833        27     27      27           27            27\n",
       "74002        18     18      18           18            18\n",
       "74019        25     25      25           25            25\n",
       "74021        21     21      21           21            21\n",
       "74026        28     28      28           28            28\n",
       "74048        27     27      27           27            27\n",
       "74049        26     26      26           26            26\n",
       "74051        24     24      24           24            24\n",
       "74053        32     32      32           32            32\n",
       "74055        28     28      28           28            28\n",
       "74058        29     29      29           29            29\n",
       "74059        21     21      21           21            21\n",
       "74060        25     25      25           25            25\n",
       "74061        23     23      23           23            23\n",
       "74128        23     23      23           23            23\n",
       "74129        26     26      26           26            26\n",
       "81761        25     25      25           25            25\n",
       "81790        27     27      27           27            27\n",
       "81795        28     28      28           28            28\n",
       "81796        23     23      23           23            23\n",
       "82050        23     23      23           23            23\n",
       "\n",
       "[428 rows x 5 columns]"
      ]
     },
     "execution_count": 16,
     "metadata": {},
     "output_type": "execute_result"
    }
   ],
   "source": [
    "dfRoundWinnerCheck = dfRoundWinnerCheck[dfRoundWinnerCheck[\"Round\"]==dfRoundWinnerCheck[\"Winner\"]]\n",
    "dfRoundWinnerCheck"
   ]
  },
  {
   "cell_type": "markdown",
   "metadata": {
    "papermill": {
     "duration": 0.180051,
     "end_time": "2019-05-10T19:00:16.631130",
     "exception": false,
     "start_time": "2019-05-10T19:00:16.451079",
     "status": "completed"
    },
    "tags": []
   },
   "source": [
    "The Match IDs of the remaining matches are then stored in a new DataFrame."
   ]
  },
  {
   "cell_type": "code",
   "execution_count": 17,
   "metadata": {
    "papermill": {
     "duration": 0.192053,
     "end_time": "2019-05-10T19:00:17.000212",
     "exception": false,
     "start_time": "2019-05-10T19:00:16.808159",
     "status": "completed"
    },
    "scrolled": true,
    "tags": []
   },
   "outputs": [
    {
     "data": {
      "text/html": [
       "<div>\n",
       "<style scoped>\n",
       "    .dataframe tbody tr th:only-of-type {\n",
       "        vertical-align: middle;\n",
       "    }\n",
       "\n",
       "    .dataframe tbody tr th {\n",
       "        vertical-align: top;\n",
       "    }\n",
       "\n",
       "    .dataframe thead th {\n",
       "        text-align: right;\n",
       "    }\n",
       "</style>\n",
       "<table border=\"1\" class=\"dataframe\">\n",
       "  <thead>\n",
       "    <tr style=\"text-align: right;\">\n",
       "      <th></th>\n",
       "      <th>Match ID</th>\n",
       "    </tr>\n",
       "  </thead>\n",
       "  <tbody>\n",
       "    <tr>\n",
       "      <th>0</th>\n",
       "      <td>17523</td>\n",
       "    </tr>\n",
       "    <tr>\n",
       "      <th>1</th>\n",
       "      <td>17524</td>\n",
       "    </tr>\n",
       "    <tr>\n",
       "      <th>2</th>\n",
       "      <td>17525</td>\n",
       "    </tr>\n",
       "    <tr>\n",
       "      <th>3</th>\n",
       "      <td>17526</td>\n",
       "    </tr>\n",
       "    <tr>\n",
       "      <th>4</th>\n",
       "      <td>17527</td>\n",
       "    </tr>\n",
       "    <tr>\n",
       "      <th>5</th>\n",
       "      <td>17528</td>\n",
       "    </tr>\n",
       "    <tr>\n",
       "      <th>6</th>\n",
       "      <td>17529</td>\n",
       "    </tr>\n",
       "    <tr>\n",
       "      <th>7</th>\n",
       "      <td>17530</td>\n",
       "    </tr>\n",
       "    <tr>\n",
       "      <th>8</th>\n",
       "      <td>17532</td>\n",
       "    </tr>\n",
       "    <tr>\n",
       "      <th>9</th>\n",
       "      <td>17533</td>\n",
       "    </tr>\n",
       "    <tr>\n",
       "      <th>10</th>\n",
       "      <td>17536</td>\n",
       "    </tr>\n",
       "    <tr>\n",
       "      <th>11</th>\n",
       "      <td>17537</td>\n",
       "    </tr>\n",
       "    <tr>\n",
       "      <th>12</th>\n",
       "      <td>17538</td>\n",
       "    </tr>\n",
       "    <tr>\n",
       "      <th>13</th>\n",
       "      <td>17539</td>\n",
       "    </tr>\n",
       "    <tr>\n",
       "      <th>14</th>\n",
       "      <td>17540</td>\n",
       "    </tr>\n",
       "    <tr>\n",
       "      <th>15</th>\n",
       "      <td>17542</td>\n",
       "    </tr>\n",
       "    <tr>\n",
       "      <th>16</th>\n",
       "      <td>17544</td>\n",
       "    </tr>\n",
       "    <tr>\n",
       "      <th>17</th>\n",
       "      <td>17545</td>\n",
       "    </tr>\n",
       "    <tr>\n",
       "      <th>18</th>\n",
       "      <td>17546</td>\n",
       "    </tr>\n",
       "    <tr>\n",
       "      <th>19</th>\n",
       "      <td>17547</td>\n",
       "    </tr>\n",
       "    <tr>\n",
       "      <th>20</th>\n",
       "      <td>17548</td>\n",
       "    </tr>\n",
       "    <tr>\n",
       "      <th>21</th>\n",
       "      <td>17549</td>\n",
       "    </tr>\n",
       "    <tr>\n",
       "      <th>22</th>\n",
       "      <td>17550</td>\n",
       "    </tr>\n",
       "    <tr>\n",
       "      <th>23</th>\n",
       "      <td>17551</td>\n",
       "    </tr>\n",
       "    <tr>\n",
       "      <th>24</th>\n",
       "      <td>17552</td>\n",
       "    </tr>\n",
       "    <tr>\n",
       "      <th>25</th>\n",
       "      <td>17553</td>\n",
       "    </tr>\n",
       "    <tr>\n",
       "      <th>26</th>\n",
       "      <td>17554</td>\n",
       "    </tr>\n",
       "    <tr>\n",
       "      <th>27</th>\n",
       "      <td>17555</td>\n",
       "    </tr>\n",
       "    <tr>\n",
       "      <th>28</th>\n",
       "      <td>17556</td>\n",
       "    </tr>\n",
       "    <tr>\n",
       "      <th>29</th>\n",
       "      <td>17557</td>\n",
       "    </tr>\n",
       "    <tr>\n",
       "      <th>...</th>\n",
       "      <td>...</td>\n",
       "    </tr>\n",
       "    <tr>\n",
       "      <th>398</th>\n",
       "      <td>73779</td>\n",
       "    </tr>\n",
       "    <tr>\n",
       "      <th>399</th>\n",
       "      <td>73786</td>\n",
       "    </tr>\n",
       "    <tr>\n",
       "      <th>400</th>\n",
       "      <td>73800</td>\n",
       "    </tr>\n",
       "    <tr>\n",
       "      <th>401</th>\n",
       "      <td>73803</td>\n",
       "    </tr>\n",
       "    <tr>\n",
       "      <th>402</th>\n",
       "      <td>73807</td>\n",
       "    </tr>\n",
       "    <tr>\n",
       "      <th>403</th>\n",
       "      <td>73811</td>\n",
       "    </tr>\n",
       "    <tr>\n",
       "      <th>404</th>\n",
       "      <td>73812</td>\n",
       "    </tr>\n",
       "    <tr>\n",
       "      <th>405</th>\n",
       "      <td>73816</td>\n",
       "    </tr>\n",
       "    <tr>\n",
       "      <th>406</th>\n",
       "      <td>73828</td>\n",
       "    </tr>\n",
       "    <tr>\n",
       "      <th>407</th>\n",
       "      <td>73833</td>\n",
       "    </tr>\n",
       "    <tr>\n",
       "      <th>408</th>\n",
       "      <td>74002</td>\n",
       "    </tr>\n",
       "    <tr>\n",
       "      <th>409</th>\n",
       "      <td>74019</td>\n",
       "    </tr>\n",
       "    <tr>\n",
       "      <th>410</th>\n",
       "      <td>74021</td>\n",
       "    </tr>\n",
       "    <tr>\n",
       "      <th>411</th>\n",
       "      <td>74026</td>\n",
       "    </tr>\n",
       "    <tr>\n",
       "      <th>412</th>\n",
       "      <td>74048</td>\n",
       "    </tr>\n",
       "    <tr>\n",
       "      <th>413</th>\n",
       "      <td>74049</td>\n",
       "    </tr>\n",
       "    <tr>\n",
       "      <th>414</th>\n",
       "      <td>74051</td>\n",
       "    </tr>\n",
       "    <tr>\n",
       "      <th>415</th>\n",
       "      <td>74053</td>\n",
       "    </tr>\n",
       "    <tr>\n",
       "      <th>416</th>\n",
       "      <td>74055</td>\n",
       "    </tr>\n",
       "    <tr>\n",
       "      <th>417</th>\n",
       "      <td>74058</td>\n",
       "    </tr>\n",
       "    <tr>\n",
       "      <th>418</th>\n",
       "      <td>74059</td>\n",
       "    </tr>\n",
       "    <tr>\n",
       "      <th>419</th>\n",
       "      <td>74060</td>\n",
       "    </tr>\n",
       "    <tr>\n",
       "      <th>420</th>\n",
       "      <td>74061</td>\n",
       "    </tr>\n",
       "    <tr>\n",
       "      <th>421</th>\n",
       "      <td>74128</td>\n",
       "    </tr>\n",
       "    <tr>\n",
       "      <th>422</th>\n",
       "      <td>74129</td>\n",
       "    </tr>\n",
       "    <tr>\n",
       "      <th>423</th>\n",
       "      <td>81761</td>\n",
       "    </tr>\n",
       "    <tr>\n",
       "      <th>424</th>\n",
       "      <td>81790</td>\n",
       "    </tr>\n",
       "    <tr>\n",
       "      <th>425</th>\n",
       "      <td>81795</td>\n",
       "    </tr>\n",
       "    <tr>\n",
       "      <th>426</th>\n",
       "      <td>81796</td>\n",
       "    </tr>\n",
       "    <tr>\n",
       "      <th>427</th>\n",
       "      <td>82050</td>\n",
       "    </tr>\n",
       "  </tbody>\n",
       "</table>\n",
       "<p>428 rows × 1 columns</p>\n",
       "</div>"
      ],
      "text/plain": [
       "     Match ID\n",
       "0       17523\n",
       "1       17524\n",
       "2       17525\n",
       "3       17526\n",
       "4       17527\n",
       "5       17528\n",
       "6       17529\n",
       "7       17530\n",
       "8       17532\n",
       "9       17533\n",
       "10      17536\n",
       "11      17537\n",
       "12      17538\n",
       "13      17539\n",
       "14      17540\n",
       "15      17542\n",
       "16      17544\n",
       "17      17545\n",
       "18      17546\n",
       "19      17547\n",
       "20      17548\n",
       "21      17549\n",
       "22      17550\n",
       "23      17551\n",
       "24      17552\n",
       "25      17553\n",
       "26      17554\n",
       "27      17555\n",
       "28      17556\n",
       "29      17557\n",
       "..        ...\n",
       "398     73779\n",
       "399     73786\n",
       "400     73800\n",
       "401     73803\n",
       "402     73807\n",
       "403     73811\n",
       "404     73812\n",
       "405     73816\n",
       "406     73828\n",
       "407     73833\n",
       "408     74002\n",
       "409     74019\n",
       "410     74021\n",
       "411     74026\n",
       "412     74048\n",
       "413     74049\n",
       "414     74051\n",
       "415     74053\n",
       "416     74055\n",
       "417     74058\n",
       "418     74059\n",
       "419     74060\n",
       "420     74061\n",
       "421     74128\n",
       "422     74129\n",
       "423     81761\n",
       "424     81790\n",
       "425     81795\n",
       "426     81796\n",
       "427     82050\n",
       "\n",
       "[428 rows x 1 columns]"
      ]
     },
     "execution_count": 17,
     "metadata": {},
     "output_type": "execute_result"
    }
   ],
   "source": [
    "dfCleanIDs = pd.DataFrame(dfRoundWinnerCheck.index.values, columns=[\"Match ID\"])\n",
    "dfCleanIDs"
   ]
  },
  {
   "cell_type": "markdown",
   "metadata": {
    "papermill": {
     "duration": 0.18005,
     "end_time": "2019-05-10T19:00:17.361293",
     "exception": false,
     "start_time": "2019-05-10T19:00:17.181243",
     "status": "completed"
    },
    "tags": []
   },
   "source": [
    "The Match ID column is converted to a numeric, this allows dfRoundWinner and dfCleanIDs to be merged on this column as they are now the same object type.\n",
    "\n",
    "This merge only leaves the valid matches remaining in dfRoundWinnerClean."
   ]
  },
  {
   "cell_type": "code",
   "execution_count": 18,
   "metadata": {
    "papermill": {
     "duration": 0.216162,
     "end_time": "2019-05-10T19:00:17.755494",
     "exception": false,
     "start_time": "2019-05-10T19:00:17.539332",
     "status": "completed"
    },
    "scrolled": true,
    "tags": []
   },
   "outputs": [
    {
     "data": {
      "text/html": [
       "<div>\n",
       "<style scoped>\n",
       "    .dataframe tbody tr th:only-of-type {\n",
       "        vertical-align: middle;\n",
       "    }\n",
       "\n",
       "    .dataframe tbody tr th {\n",
       "        vertical-align: top;\n",
       "    }\n",
       "\n",
       "    .dataframe thead th {\n",
       "        text-align: right;\n",
       "    }\n",
       "</style>\n",
       "<table border=\"1\" class=\"dataframe\">\n",
       "  <thead>\n",
       "    <tr style=\"text-align: right;\">\n",
       "      <th></th>\n",
       "      <th>Event</th>\n",
       "      <th>Match ID</th>\n",
       "      <th>Round</th>\n",
       "      <th>Winner</th>\n",
       "      <th>Winner Side</th>\n",
       "      <th>Match Winner</th>\n",
       "    </tr>\n",
       "  </thead>\n",
       "  <tbody>\n",
       "    <tr>\n",
       "      <th>0</th>\n",
       "      <td>IEM Katowice 2019</td>\n",
       "      <td>82050</td>\n",
       "      <td>1</td>\n",
       "      <td>FaZe Clan</td>\n",
       "      <td>ct</td>\n",
       "      <td>Natus Vincere</td>\n",
       "    </tr>\n",
       "    <tr>\n",
       "      <th>1</th>\n",
       "      <td>IEM Katowice 2019</td>\n",
       "      <td>82050</td>\n",
       "      <td>2</td>\n",
       "      <td>FaZe Clan</td>\n",
       "      <td>ct</td>\n",
       "      <td>Natus Vincere</td>\n",
       "    </tr>\n",
       "    <tr>\n",
       "      <th>2</th>\n",
       "      <td>IEM Katowice 2019</td>\n",
       "      <td>82050</td>\n",
       "      <td>3</td>\n",
       "      <td>Natus Vincere</td>\n",
       "      <td>terrorist</td>\n",
       "      <td>Natus Vincere</td>\n",
       "    </tr>\n",
       "    <tr>\n",
       "      <th>3</th>\n",
       "      <td>IEM Katowice 2019</td>\n",
       "      <td>82050</td>\n",
       "      <td>4</td>\n",
       "      <td>Natus Vincere</td>\n",
       "      <td>terrorist</td>\n",
       "      <td>Natus Vincere</td>\n",
       "    </tr>\n",
       "    <tr>\n",
       "      <th>4</th>\n",
       "      <td>IEM Katowice 2019</td>\n",
       "      <td>82050</td>\n",
       "      <td>5</td>\n",
       "      <td>Natus Vincere</td>\n",
       "      <td>terrorist</td>\n",
       "      <td>Natus Vincere</td>\n",
       "    </tr>\n",
       "    <tr>\n",
       "      <th>5</th>\n",
       "      <td>IEM Katowice 2019</td>\n",
       "      <td>82050</td>\n",
       "      <td>6</td>\n",
       "      <td>Natus Vincere</td>\n",
       "      <td>terrorist</td>\n",
       "      <td>Natus Vincere</td>\n",
       "    </tr>\n",
       "    <tr>\n",
       "      <th>6</th>\n",
       "      <td>IEM Katowice 2019</td>\n",
       "      <td>82050</td>\n",
       "      <td>7</td>\n",
       "      <td>FaZe Clan</td>\n",
       "      <td>ct</td>\n",
       "      <td>Natus Vincere</td>\n",
       "    </tr>\n",
       "    <tr>\n",
       "      <th>7</th>\n",
       "      <td>IEM Katowice 2019</td>\n",
       "      <td>82050</td>\n",
       "      <td>8</td>\n",
       "      <td>FaZe Clan</td>\n",
       "      <td>ct</td>\n",
       "      <td>Natus Vincere</td>\n",
       "    </tr>\n",
       "    <tr>\n",
       "      <th>8</th>\n",
       "      <td>IEM Katowice 2019</td>\n",
       "      <td>82050</td>\n",
       "      <td>9</td>\n",
       "      <td>Natus Vincere</td>\n",
       "      <td>terrorist</td>\n",
       "      <td>Natus Vincere</td>\n",
       "    </tr>\n",
       "    <tr>\n",
       "      <th>9</th>\n",
       "      <td>IEM Katowice 2019</td>\n",
       "      <td>82050</td>\n",
       "      <td>10</td>\n",
       "      <td>Natus Vincere</td>\n",
       "      <td>terrorist</td>\n",
       "      <td>Natus Vincere</td>\n",
       "    </tr>\n",
       "    <tr>\n",
       "      <th>10</th>\n",
       "      <td>IEM Katowice 2019</td>\n",
       "      <td>82050</td>\n",
       "      <td>11</td>\n",
       "      <td>FaZe Clan</td>\n",
       "      <td>ct</td>\n",
       "      <td>Natus Vincere</td>\n",
       "    </tr>\n",
       "    <tr>\n",
       "      <th>11</th>\n",
       "      <td>IEM Katowice 2019</td>\n",
       "      <td>82050</td>\n",
       "      <td>12</td>\n",
       "      <td>Natus Vincere</td>\n",
       "      <td>terrorist</td>\n",
       "      <td>Natus Vincere</td>\n",
       "    </tr>\n",
       "    <tr>\n",
       "      <th>12</th>\n",
       "      <td>IEM Katowice 2019</td>\n",
       "      <td>82050</td>\n",
       "      <td>13</td>\n",
       "      <td>Natus Vincere</td>\n",
       "      <td>terrorist</td>\n",
       "      <td>Natus Vincere</td>\n",
       "    </tr>\n",
       "    <tr>\n",
       "      <th>13</th>\n",
       "      <td>IEM Katowice 2019</td>\n",
       "      <td>82050</td>\n",
       "      <td>14</td>\n",
       "      <td>Natus Vincere</td>\n",
       "      <td>terrorist</td>\n",
       "      <td>Natus Vincere</td>\n",
       "    </tr>\n",
       "    <tr>\n",
       "      <th>14</th>\n",
       "      <td>IEM Katowice 2019</td>\n",
       "      <td>82050</td>\n",
       "      <td>15</td>\n",
       "      <td>FaZe Clan</td>\n",
       "      <td>ct</td>\n",
       "      <td>Natus Vincere</td>\n",
       "    </tr>\n",
       "    <tr>\n",
       "      <th>15</th>\n",
       "      <td>IEM Katowice 2019</td>\n",
       "      <td>82050</td>\n",
       "      <td>16</td>\n",
       "      <td>FaZe Clan</td>\n",
       "      <td>terrorist</td>\n",
       "      <td>Natus Vincere</td>\n",
       "    </tr>\n",
       "    <tr>\n",
       "      <th>16</th>\n",
       "      <td>IEM Katowice 2019</td>\n",
       "      <td>82050</td>\n",
       "      <td>17</td>\n",
       "      <td>Natus Vincere</td>\n",
       "      <td>ct</td>\n",
       "      <td>Natus Vincere</td>\n",
       "    </tr>\n",
       "    <tr>\n",
       "      <th>17</th>\n",
       "      <td>IEM Katowice 2019</td>\n",
       "      <td>82050</td>\n",
       "      <td>18</td>\n",
       "      <td>Natus Vincere</td>\n",
       "      <td>ct</td>\n",
       "      <td>Natus Vincere</td>\n",
       "    </tr>\n",
       "    <tr>\n",
       "      <th>18</th>\n",
       "      <td>IEM Katowice 2019</td>\n",
       "      <td>82050</td>\n",
       "      <td>19</td>\n",
       "      <td>Natus Vincere</td>\n",
       "      <td>ct</td>\n",
       "      <td>Natus Vincere</td>\n",
       "    </tr>\n",
       "    <tr>\n",
       "      <th>19</th>\n",
       "      <td>IEM Katowice 2019</td>\n",
       "      <td>82050</td>\n",
       "      <td>20</td>\n",
       "      <td>Natus Vincere</td>\n",
       "      <td>ct</td>\n",
       "      <td>Natus Vincere</td>\n",
       "    </tr>\n",
       "    <tr>\n",
       "      <th>20</th>\n",
       "      <td>IEM Katowice 2019</td>\n",
       "      <td>82050</td>\n",
       "      <td>21</td>\n",
       "      <td>Natus Vincere</td>\n",
       "      <td>ct</td>\n",
       "      <td>Natus Vincere</td>\n",
       "    </tr>\n",
       "    <tr>\n",
       "      <th>21</th>\n",
       "      <td>IEM Katowice 2019</td>\n",
       "      <td>82050</td>\n",
       "      <td>22</td>\n",
       "      <td>Natus Vincere</td>\n",
       "      <td>ct</td>\n",
       "      <td>Natus Vincere</td>\n",
       "    </tr>\n",
       "    <tr>\n",
       "      <th>22</th>\n",
       "      <td>IEM Katowice 2019</td>\n",
       "      <td>82050</td>\n",
       "      <td>23</td>\n",
       "      <td>Natus Vincere</td>\n",
       "      <td>ct</td>\n",
       "      <td>Natus Vincere</td>\n",
       "    </tr>\n",
       "    <tr>\n",
       "      <th>23</th>\n",
       "      <td>IEM Katowice 2019</td>\n",
       "      <td>81796</td>\n",
       "      <td>1</td>\n",
       "      <td>Natus Vincere</td>\n",
       "      <td>ct</td>\n",
       "      <td>Natus Vincere</td>\n",
       "    </tr>\n",
       "    <tr>\n",
       "      <th>24</th>\n",
       "      <td>IEM Katowice 2019</td>\n",
       "      <td>81796</td>\n",
       "      <td>2</td>\n",
       "      <td>Avangar</td>\n",
       "      <td>terrorist</td>\n",
       "      <td>Natus Vincere</td>\n",
       "    </tr>\n",
       "    <tr>\n",
       "      <th>25</th>\n",
       "      <td>IEM Katowice 2019</td>\n",
       "      <td>81796</td>\n",
       "      <td>3</td>\n",
       "      <td>Avangar</td>\n",
       "      <td>terrorist</td>\n",
       "      <td>Natus Vincere</td>\n",
       "    </tr>\n",
       "    <tr>\n",
       "      <th>26</th>\n",
       "      <td>IEM Katowice 2019</td>\n",
       "      <td>81796</td>\n",
       "      <td>4</td>\n",
       "      <td>Avangar</td>\n",
       "      <td>terrorist</td>\n",
       "      <td>Natus Vincere</td>\n",
       "    </tr>\n",
       "    <tr>\n",
       "      <th>27</th>\n",
       "      <td>IEM Katowice 2019</td>\n",
       "      <td>81796</td>\n",
       "      <td>5</td>\n",
       "      <td>Natus Vincere</td>\n",
       "      <td>ct</td>\n",
       "      <td>Natus Vincere</td>\n",
       "    </tr>\n",
       "    <tr>\n",
       "      <th>28</th>\n",
       "      <td>IEM Katowice 2019</td>\n",
       "      <td>81796</td>\n",
       "      <td>6</td>\n",
       "      <td>Natus Vincere</td>\n",
       "      <td>ct</td>\n",
       "      <td>Natus Vincere</td>\n",
       "    </tr>\n",
       "    <tr>\n",
       "      <th>29</th>\n",
       "      <td>IEM Katowice 2019</td>\n",
       "      <td>81796</td>\n",
       "      <td>7</td>\n",
       "      <td>Natus Vincere</td>\n",
       "      <td>ct</td>\n",
       "      <td>Natus Vincere</td>\n",
       "    </tr>\n",
       "    <tr>\n",
       "      <th>...</th>\n",
       "      <td>...</td>\n",
       "      <td>...</td>\n",
       "      <td>...</td>\n",
       "      <td>...</td>\n",
       "      <td>...</td>\n",
       "      <td>...</td>\n",
       "    </tr>\n",
       "    <tr>\n",
       "      <th>11294</th>\n",
       "      <td>ESL ONE Cologne 2014</td>\n",
       "      <td>17524</td>\n",
       "      <td>11</td>\n",
       "      <td>Epsilon eSports</td>\n",
       "      <td>ct</td>\n",
       "      <td>Epsilon eSports</td>\n",
       "    </tr>\n",
       "    <tr>\n",
       "      <th>11295</th>\n",
       "      <td>ESL ONE Cologne 2014</td>\n",
       "      <td>17524</td>\n",
       "      <td>12</td>\n",
       "      <td>Epsilon eSports</td>\n",
       "      <td>ct</td>\n",
       "      <td>Epsilon eSports</td>\n",
       "    </tr>\n",
       "    <tr>\n",
       "      <th>11296</th>\n",
       "      <td>ESL ONE Cologne 2014</td>\n",
       "      <td>17524</td>\n",
       "      <td>13</td>\n",
       "      <td>Epsilon eSports</td>\n",
       "      <td>ct</td>\n",
       "      <td>Epsilon eSports</td>\n",
       "    </tr>\n",
       "    <tr>\n",
       "      <th>11297</th>\n",
       "      <td>ESL ONE Cologne 2014</td>\n",
       "      <td>17524</td>\n",
       "      <td>14</td>\n",
       "      <td>Epsilon eSports</td>\n",
       "      <td>ct</td>\n",
       "      <td>Epsilon eSports</td>\n",
       "    </tr>\n",
       "    <tr>\n",
       "      <th>11298</th>\n",
       "      <td>ESL ONE Cologne 2014</td>\n",
       "      <td>17524</td>\n",
       "      <td>15</td>\n",
       "      <td>Epsilon eSports</td>\n",
       "      <td>ct</td>\n",
       "      <td>Epsilon eSports</td>\n",
       "    </tr>\n",
       "    <tr>\n",
       "      <th>11299</th>\n",
       "      <td>ESL ONE Cologne 2014</td>\n",
       "      <td>17524</td>\n",
       "      <td>16</td>\n",
       "      <td>Epsilon eSports</td>\n",
       "      <td>terrorist</td>\n",
       "      <td>Epsilon eSports</td>\n",
       "    </tr>\n",
       "    <tr>\n",
       "      <th>11300</th>\n",
       "      <td>ESL ONE Cologne 2014</td>\n",
       "      <td>17524</td>\n",
       "      <td>17</td>\n",
       "      <td>Epsilon eSports</td>\n",
       "      <td>terrorist</td>\n",
       "      <td>Epsilon eSports</td>\n",
       "    </tr>\n",
       "    <tr>\n",
       "      <th>11301</th>\n",
       "      <td>ESL ONE Cologne 2014</td>\n",
       "      <td>17523</td>\n",
       "      <td>1</td>\n",
       "      <td>MTS GameGod Wolf</td>\n",
       "      <td>ct</td>\n",
       "      <td>Ninjas in Pyjamas</td>\n",
       "    </tr>\n",
       "    <tr>\n",
       "      <th>11302</th>\n",
       "      <td>ESL ONE Cologne 2014</td>\n",
       "      <td>17523</td>\n",
       "      <td>2</td>\n",
       "      <td>MTS GameGod Wolf</td>\n",
       "      <td>ct</td>\n",
       "      <td>Ninjas in Pyjamas</td>\n",
       "    </tr>\n",
       "    <tr>\n",
       "      <th>11303</th>\n",
       "      <td>ESL ONE Cologne 2014</td>\n",
       "      <td>17523</td>\n",
       "      <td>3</td>\n",
       "      <td>Ninjas in Pyjamas</td>\n",
       "      <td>terrorist</td>\n",
       "      <td>Ninjas in Pyjamas</td>\n",
       "    </tr>\n",
       "    <tr>\n",
       "      <th>11304</th>\n",
       "      <td>ESL ONE Cologne 2014</td>\n",
       "      <td>17523</td>\n",
       "      <td>4</td>\n",
       "      <td>Ninjas in Pyjamas</td>\n",
       "      <td>terrorist</td>\n",
       "      <td>Ninjas in Pyjamas</td>\n",
       "    </tr>\n",
       "    <tr>\n",
       "      <th>11305</th>\n",
       "      <td>ESL ONE Cologne 2014</td>\n",
       "      <td>17523</td>\n",
       "      <td>5</td>\n",
       "      <td>Ninjas in Pyjamas</td>\n",
       "      <td>terrorist</td>\n",
       "      <td>Ninjas in Pyjamas</td>\n",
       "    </tr>\n",
       "    <tr>\n",
       "      <th>11306</th>\n",
       "      <td>ESL ONE Cologne 2014</td>\n",
       "      <td>17523</td>\n",
       "      <td>6</td>\n",
       "      <td>Ninjas in Pyjamas</td>\n",
       "      <td>terrorist</td>\n",
       "      <td>Ninjas in Pyjamas</td>\n",
       "    </tr>\n",
       "    <tr>\n",
       "      <th>11307</th>\n",
       "      <td>ESL ONE Cologne 2014</td>\n",
       "      <td>17523</td>\n",
       "      <td>7</td>\n",
       "      <td>MTS GameGod Wolf</td>\n",
       "      <td>ct</td>\n",
       "      <td>Ninjas in Pyjamas</td>\n",
       "    </tr>\n",
       "    <tr>\n",
       "      <th>11308</th>\n",
       "      <td>ESL ONE Cologne 2014</td>\n",
       "      <td>17523</td>\n",
       "      <td>8</td>\n",
       "      <td>Ninjas in Pyjamas</td>\n",
       "      <td>terrorist</td>\n",
       "      <td>Ninjas in Pyjamas</td>\n",
       "    </tr>\n",
       "    <tr>\n",
       "      <th>11309</th>\n",
       "      <td>ESL ONE Cologne 2014</td>\n",
       "      <td>17523</td>\n",
       "      <td>9</td>\n",
       "      <td>Ninjas in Pyjamas</td>\n",
       "      <td>terrorist</td>\n",
       "      <td>Ninjas in Pyjamas</td>\n",
       "    </tr>\n",
       "    <tr>\n",
       "      <th>11310</th>\n",
       "      <td>ESL ONE Cologne 2014</td>\n",
       "      <td>17523</td>\n",
       "      <td>10</td>\n",
       "      <td>MTS GameGod Wolf</td>\n",
       "      <td>ct</td>\n",
       "      <td>Ninjas in Pyjamas</td>\n",
       "    </tr>\n",
       "    <tr>\n",
       "      <th>11311</th>\n",
       "      <td>ESL ONE Cologne 2014</td>\n",
       "      <td>17523</td>\n",
       "      <td>11</td>\n",
       "      <td>Ninjas in Pyjamas</td>\n",
       "      <td>terrorist</td>\n",
       "      <td>Ninjas in Pyjamas</td>\n",
       "    </tr>\n",
       "    <tr>\n",
       "      <th>11312</th>\n",
       "      <td>ESL ONE Cologne 2014</td>\n",
       "      <td>17523</td>\n",
       "      <td>12</td>\n",
       "      <td>Ninjas in Pyjamas</td>\n",
       "      <td>terrorist</td>\n",
       "      <td>Ninjas in Pyjamas</td>\n",
       "    </tr>\n",
       "    <tr>\n",
       "      <th>11313</th>\n",
       "      <td>ESL ONE Cologne 2014</td>\n",
       "      <td>17523</td>\n",
       "      <td>13</td>\n",
       "      <td>Ninjas in Pyjamas</td>\n",
       "      <td>terrorist</td>\n",
       "      <td>Ninjas in Pyjamas</td>\n",
       "    </tr>\n",
       "    <tr>\n",
       "      <th>11314</th>\n",
       "      <td>ESL ONE Cologne 2014</td>\n",
       "      <td>17523</td>\n",
       "      <td>14</td>\n",
       "      <td>Ninjas in Pyjamas</td>\n",
       "      <td>terrorist</td>\n",
       "      <td>Ninjas in Pyjamas</td>\n",
       "    </tr>\n",
       "    <tr>\n",
       "      <th>11315</th>\n",
       "      <td>ESL ONE Cologne 2014</td>\n",
       "      <td>17523</td>\n",
       "      <td>15</td>\n",
       "      <td>Ninjas in Pyjamas</td>\n",
       "      <td>terrorist</td>\n",
       "      <td>Ninjas in Pyjamas</td>\n",
       "    </tr>\n",
       "    <tr>\n",
       "      <th>11316</th>\n",
       "      <td>ESL ONE Cologne 2014</td>\n",
       "      <td>17523</td>\n",
       "      <td>16</td>\n",
       "      <td>MTS GameGod Wolf</td>\n",
       "      <td>terrorist</td>\n",
       "      <td>Ninjas in Pyjamas</td>\n",
       "    </tr>\n",
       "    <tr>\n",
       "      <th>11317</th>\n",
       "      <td>ESL ONE Cologne 2014</td>\n",
       "      <td>17523</td>\n",
       "      <td>17</td>\n",
       "      <td>MTS GameGod Wolf</td>\n",
       "      <td>terrorist</td>\n",
       "      <td>Ninjas in Pyjamas</td>\n",
       "    </tr>\n",
       "    <tr>\n",
       "      <th>11318</th>\n",
       "      <td>ESL ONE Cologne 2014</td>\n",
       "      <td>17523</td>\n",
       "      <td>18</td>\n",
       "      <td>Ninjas in Pyjamas</td>\n",
       "      <td>ct</td>\n",
       "      <td>Ninjas in Pyjamas</td>\n",
       "    </tr>\n",
       "    <tr>\n",
       "      <th>11319</th>\n",
       "      <td>ESL ONE Cologne 2014</td>\n",
       "      <td>17523</td>\n",
       "      <td>19</td>\n",
       "      <td>MTS GameGod Wolf</td>\n",
       "      <td>terrorist</td>\n",
       "      <td>Ninjas in Pyjamas</td>\n",
       "    </tr>\n",
       "    <tr>\n",
       "      <th>11320</th>\n",
       "      <td>ESL ONE Cologne 2014</td>\n",
       "      <td>17523</td>\n",
       "      <td>20</td>\n",
       "      <td>Ninjas in Pyjamas</td>\n",
       "      <td>ct</td>\n",
       "      <td>Ninjas in Pyjamas</td>\n",
       "    </tr>\n",
       "    <tr>\n",
       "      <th>11321</th>\n",
       "      <td>ESL ONE Cologne 2014</td>\n",
       "      <td>17523</td>\n",
       "      <td>21</td>\n",
       "      <td>Ninjas in Pyjamas</td>\n",
       "      <td>ct</td>\n",
       "      <td>Ninjas in Pyjamas</td>\n",
       "    </tr>\n",
       "    <tr>\n",
       "      <th>11322</th>\n",
       "      <td>ESL ONE Cologne 2014</td>\n",
       "      <td>17523</td>\n",
       "      <td>22</td>\n",
       "      <td>Ninjas in Pyjamas</td>\n",
       "      <td>ct</td>\n",
       "      <td>Ninjas in Pyjamas</td>\n",
       "    </tr>\n",
       "    <tr>\n",
       "      <th>11323</th>\n",
       "      <td>ESL ONE Cologne 2014</td>\n",
       "      <td>17523</td>\n",
       "      <td>23</td>\n",
       "      <td>Ninjas in Pyjamas</td>\n",
       "      <td>ct</td>\n",
       "      <td>Ninjas in Pyjamas</td>\n",
       "    </tr>\n",
       "  </tbody>\n",
       "</table>\n",
       "<p>11324 rows × 6 columns</p>\n",
       "</div>"
      ],
      "text/plain": [
       "                      Event  Match ID Round             Winner Winner Side  \\\n",
       "0         IEM Katowice 2019     82050     1          FaZe Clan          ct   \n",
       "1         IEM Katowice 2019     82050     2          FaZe Clan          ct   \n",
       "2         IEM Katowice 2019     82050     3      Natus Vincere   terrorist   \n",
       "3         IEM Katowice 2019     82050     4      Natus Vincere   terrorist   \n",
       "4         IEM Katowice 2019     82050     5      Natus Vincere   terrorist   \n",
       "5         IEM Katowice 2019     82050     6      Natus Vincere   terrorist   \n",
       "6         IEM Katowice 2019     82050     7          FaZe Clan          ct   \n",
       "7         IEM Katowice 2019     82050     8          FaZe Clan          ct   \n",
       "8         IEM Katowice 2019     82050     9      Natus Vincere   terrorist   \n",
       "9         IEM Katowice 2019     82050    10      Natus Vincere   terrorist   \n",
       "10        IEM Katowice 2019     82050    11          FaZe Clan          ct   \n",
       "11        IEM Katowice 2019     82050    12      Natus Vincere   terrorist   \n",
       "12        IEM Katowice 2019     82050    13      Natus Vincere   terrorist   \n",
       "13        IEM Katowice 2019     82050    14      Natus Vincere   terrorist   \n",
       "14        IEM Katowice 2019     82050    15          FaZe Clan          ct   \n",
       "15        IEM Katowice 2019     82050    16          FaZe Clan   terrorist   \n",
       "16        IEM Katowice 2019     82050    17      Natus Vincere          ct   \n",
       "17        IEM Katowice 2019     82050    18      Natus Vincere          ct   \n",
       "18        IEM Katowice 2019     82050    19      Natus Vincere          ct   \n",
       "19        IEM Katowice 2019     82050    20      Natus Vincere          ct   \n",
       "20        IEM Katowice 2019     82050    21      Natus Vincere          ct   \n",
       "21        IEM Katowice 2019     82050    22      Natus Vincere          ct   \n",
       "22        IEM Katowice 2019     82050    23      Natus Vincere          ct   \n",
       "23        IEM Katowice 2019     81796     1      Natus Vincere          ct   \n",
       "24        IEM Katowice 2019     81796     2            Avangar   terrorist   \n",
       "25        IEM Katowice 2019     81796     3            Avangar   terrorist   \n",
       "26        IEM Katowice 2019     81796     4            Avangar   terrorist   \n",
       "27        IEM Katowice 2019     81796     5      Natus Vincere          ct   \n",
       "28        IEM Katowice 2019     81796     6      Natus Vincere          ct   \n",
       "29        IEM Katowice 2019     81796     7      Natus Vincere          ct   \n",
       "...                     ...       ...   ...                ...         ...   \n",
       "11294  ESL ONE Cologne 2014     17524    11    Epsilon eSports          ct   \n",
       "11295  ESL ONE Cologne 2014     17524    12    Epsilon eSports          ct   \n",
       "11296  ESL ONE Cologne 2014     17524    13    Epsilon eSports          ct   \n",
       "11297  ESL ONE Cologne 2014     17524    14    Epsilon eSports          ct   \n",
       "11298  ESL ONE Cologne 2014     17524    15    Epsilon eSports          ct   \n",
       "11299  ESL ONE Cologne 2014     17524    16    Epsilon eSports   terrorist   \n",
       "11300  ESL ONE Cologne 2014     17524    17    Epsilon eSports   terrorist   \n",
       "11301  ESL ONE Cologne 2014     17523     1   MTS GameGod Wolf          ct   \n",
       "11302  ESL ONE Cologne 2014     17523     2   MTS GameGod Wolf          ct   \n",
       "11303  ESL ONE Cologne 2014     17523     3  Ninjas in Pyjamas   terrorist   \n",
       "11304  ESL ONE Cologne 2014     17523     4  Ninjas in Pyjamas   terrorist   \n",
       "11305  ESL ONE Cologne 2014     17523     5  Ninjas in Pyjamas   terrorist   \n",
       "11306  ESL ONE Cologne 2014     17523     6  Ninjas in Pyjamas   terrorist   \n",
       "11307  ESL ONE Cologne 2014     17523     7   MTS GameGod Wolf          ct   \n",
       "11308  ESL ONE Cologne 2014     17523     8  Ninjas in Pyjamas   terrorist   \n",
       "11309  ESL ONE Cologne 2014     17523     9  Ninjas in Pyjamas   terrorist   \n",
       "11310  ESL ONE Cologne 2014     17523    10   MTS GameGod Wolf          ct   \n",
       "11311  ESL ONE Cologne 2014     17523    11  Ninjas in Pyjamas   terrorist   \n",
       "11312  ESL ONE Cologne 2014     17523    12  Ninjas in Pyjamas   terrorist   \n",
       "11313  ESL ONE Cologne 2014     17523    13  Ninjas in Pyjamas   terrorist   \n",
       "11314  ESL ONE Cologne 2014     17523    14  Ninjas in Pyjamas   terrorist   \n",
       "11315  ESL ONE Cologne 2014     17523    15  Ninjas in Pyjamas   terrorist   \n",
       "11316  ESL ONE Cologne 2014     17523    16   MTS GameGod Wolf   terrorist   \n",
       "11317  ESL ONE Cologne 2014     17523    17   MTS GameGod Wolf   terrorist   \n",
       "11318  ESL ONE Cologne 2014     17523    18  Ninjas in Pyjamas          ct   \n",
       "11319  ESL ONE Cologne 2014     17523    19   MTS GameGod Wolf   terrorist   \n",
       "11320  ESL ONE Cologne 2014     17523    20  Ninjas in Pyjamas          ct   \n",
       "11321  ESL ONE Cologne 2014     17523    21  Ninjas in Pyjamas          ct   \n",
       "11322  ESL ONE Cologne 2014     17523    22  Ninjas in Pyjamas          ct   \n",
       "11323  ESL ONE Cologne 2014     17523    23  Ninjas in Pyjamas          ct   \n",
       "\n",
       "            Match Winner  \n",
       "0          Natus Vincere  \n",
       "1          Natus Vincere  \n",
       "2          Natus Vincere  \n",
       "3          Natus Vincere  \n",
       "4          Natus Vincere  \n",
       "5          Natus Vincere  \n",
       "6          Natus Vincere  \n",
       "7          Natus Vincere  \n",
       "8          Natus Vincere  \n",
       "9          Natus Vincere  \n",
       "10         Natus Vincere  \n",
       "11         Natus Vincere  \n",
       "12         Natus Vincere  \n",
       "13         Natus Vincere  \n",
       "14         Natus Vincere  \n",
       "15         Natus Vincere  \n",
       "16         Natus Vincere  \n",
       "17         Natus Vincere  \n",
       "18         Natus Vincere  \n",
       "19         Natus Vincere  \n",
       "20         Natus Vincere  \n",
       "21         Natus Vincere  \n",
       "22         Natus Vincere  \n",
       "23         Natus Vincere  \n",
       "24         Natus Vincere  \n",
       "25         Natus Vincere  \n",
       "26         Natus Vincere  \n",
       "27         Natus Vincere  \n",
       "28         Natus Vincere  \n",
       "29         Natus Vincere  \n",
       "...                  ...  \n",
       "11294    Epsilon eSports  \n",
       "11295    Epsilon eSports  \n",
       "11296    Epsilon eSports  \n",
       "11297    Epsilon eSports  \n",
       "11298    Epsilon eSports  \n",
       "11299    Epsilon eSports  \n",
       "11300    Epsilon eSports  \n",
       "11301  Ninjas in Pyjamas  \n",
       "11302  Ninjas in Pyjamas  \n",
       "11303  Ninjas in Pyjamas  \n",
       "11304  Ninjas in Pyjamas  \n",
       "11305  Ninjas in Pyjamas  \n",
       "11306  Ninjas in Pyjamas  \n",
       "11307  Ninjas in Pyjamas  \n",
       "11308  Ninjas in Pyjamas  \n",
       "11309  Ninjas in Pyjamas  \n",
       "11310  Ninjas in Pyjamas  \n",
       "11311  Ninjas in Pyjamas  \n",
       "11312  Ninjas in Pyjamas  \n",
       "11313  Ninjas in Pyjamas  \n",
       "11314  Ninjas in Pyjamas  \n",
       "11315  Ninjas in Pyjamas  \n",
       "11316  Ninjas in Pyjamas  \n",
       "11317  Ninjas in Pyjamas  \n",
       "11318  Ninjas in Pyjamas  \n",
       "11319  Ninjas in Pyjamas  \n",
       "11320  Ninjas in Pyjamas  \n",
       "11321  Ninjas in Pyjamas  \n",
       "11322  Ninjas in Pyjamas  \n",
       "11323  Ninjas in Pyjamas  \n",
       "\n",
       "[11324 rows x 6 columns]"
      ]
     },
     "execution_count": 18,
     "metadata": {},
     "output_type": "execute_result"
    }
   ],
   "source": [
    "dfRoundWinner[\"Match ID\"] = pd.to_numeric(dfRoundWinner[\"Match ID\"])\n",
    "\n",
    "dfRoundWinnerClean = pd.merge(dfRoundWinner, dfCleanIDs, on=[\"Match ID\"], how=\"inner\")\n",
    "dfRoundWinnerClean"
   ]
  },
  {
   "cell_type": "markdown",
   "metadata": {
    "papermill": {
     "duration": 0.18004,
     "end_time": "2019-05-10T19:00:18.117462",
     "exception": false,
     "start_time": "2019-05-10T19:00:17.937422",
     "status": "completed"
    },
    "tags": []
   },
   "source": [
    "The same merge is carrid out on dfDTLinks, so that in the next scrape only valid matches are collected."
   ]
  },
  {
   "cell_type": "code",
   "execution_count": 19,
   "metadata": {
    "papermill": {
     "duration": 0.210037,
     "end_time": "2019-05-10T19:00:18.506540",
     "exception": false,
     "start_time": "2019-05-10T19:00:18.296503",
     "status": "completed"
    },
    "scrolled": true,
    "tags": []
   },
   "outputs": [
    {
     "data": {
      "text/html": [
       "<div>\n",
       "<style scoped>\n",
       "    .dataframe tbody tr th:only-of-type {\n",
       "        vertical-align: middle;\n",
       "    }\n",
       "\n",
       "    .dataframe tbody tr th {\n",
       "        vertical-align: top;\n",
       "    }\n",
       "\n",
       "    .dataframe thead th {\n",
       "        text-align: right;\n",
       "    }\n",
       "</style>\n",
       "<table border=\"1\" class=\"dataframe\">\n",
       "  <thead>\n",
       "    <tr style=\"text-align: right;\">\n",
       "      <th></th>\n",
       "      <th>Event</th>\n",
       "      <th>Dream Team URL</th>\n",
       "      <th>Match ID</th>\n",
       "      <th>MATCHCODE</th>\n",
       "    </tr>\n",
       "  </thead>\n",
       "  <tbody>\n",
       "    <tr>\n",
       "      <th>0</th>\n",
       "      <td>IEM Katowice 2019</td>\n",
       "      <td>https://dreamteam.gg/csgo/analytics/match/5ca2...</td>\n",
       "      <td>82050</td>\n",
       "      <td>5ca2589cbcf70a02726f6a24</td>\n",
       "    </tr>\n",
       "    <tr>\n",
       "      <th>1</th>\n",
       "      <td>IEM Katowice 2019</td>\n",
       "      <td>https://dreamteam.gg/csgo/analytics/match/5ca2...</td>\n",
       "      <td>81796</td>\n",
       "      <td>5ca260136bd0f9026b37cb74</td>\n",
       "    </tr>\n",
       "    <tr>\n",
       "      <th>2</th>\n",
       "      <td>IEM Katowice 2019</td>\n",
       "      <td>https://dreamteam.gg/csgo/analytics/match/5ca2...</td>\n",
       "      <td>81795</td>\n",
       "      <td>5ca260cd27b8d8026d731022</td>\n",
       "    </tr>\n",
       "    <tr>\n",
       "      <th>3</th>\n",
       "      <td>IEM Katowice 2019</td>\n",
       "      <td>https://dreamteam.gg/csgo/analytics/match/5ca2...</td>\n",
       "      <td>81790</td>\n",
       "      <td>5ca260d3d35cfb023c7b2d94</td>\n",
       "    </tr>\n",
       "    <tr>\n",
       "      <th>4</th>\n",
       "      <td>IEM Katowice 2019</td>\n",
       "      <td>https://dreamteam.gg/csgo/analytics/match/5ca2...</td>\n",
       "      <td>81761</td>\n",
       "      <td>5ca262c227b8d8026d731023</td>\n",
       "    </tr>\n",
       "    <tr>\n",
       "      <th>5</th>\n",
       "      <td>FACEIT London 2018</td>\n",
       "      <td>https://dreamteam.gg/csgo/analytics/match/5cac...</td>\n",
       "      <td>74129</td>\n",
       "      <td>5cac8ef6d43602068832b752</td>\n",
       "    </tr>\n",
       "    <tr>\n",
       "      <th>6</th>\n",
       "      <td>FACEIT London 2018</td>\n",
       "      <td>https://dreamteam.gg/csgo/analytics/match/5ca2...</td>\n",
       "      <td>74128</td>\n",
       "      <td>5ca273ecd43602024526e6b5</td>\n",
       "    </tr>\n",
       "    <tr>\n",
       "      <th>7</th>\n",
       "      <td>FACEIT London 2018</td>\n",
       "      <td>https://dreamteam.gg/csgo/analytics/match/5ca2...</td>\n",
       "      <td>74061</td>\n",
       "      <td>5ca273f3d35cfb026f6f35e2</td>\n",
       "    </tr>\n",
       "    <tr>\n",
       "      <th>8</th>\n",
       "      <td>FACEIT London 2018</td>\n",
       "      <td>https://dreamteam.gg/csgo/analytics/match/5ca2...</td>\n",
       "      <td>74060</td>\n",
       "      <td>5ca273fb60aed202884dcb67</td>\n",
       "    </tr>\n",
       "    <tr>\n",
       "      <th>9</th>\n",
       "      <td>FACEIT London 2018</td>\n",
       "      <td>https://dreamteam.gg/csgo/analytics/match/5ca2...</td>\n",
       "      <td>74059</td>\n",
       "      <td>5ca274bbbcf70a0040573a99</td>\n",
       "    </tr>\n",
       "    <tr>\n",
       "      <th>10</th>\n",
       "      <td>FACEIT London 2018</td>\n",
       "      <td>https://dreamteam.gg/csgo/analytics/match/5ca2...</td>\n",
       "      <td>74058</td>\n",
       "      <td>5ca274ca3cb887026622c9c3</td>\n",
       "    </tr>\n",
       "    <tr>\n",
       "      <th>11</th>\n",
       "      <td>FACEIT London 2018</td>\n",
       "      <td>https://dreamteam.gg/csgo/analytics/match/5ca2...</td>\n",
       "      <td>74055</td>\n",
       "      <td>5ca274d38da20e02aa25a612</td>\n",
       "    </tr>\n",
       "    <tr>\n",
       "      <th>12</th>\n",
       "      <td>FACEIT London 2018</td>\n",
       "      <td>https://dreamteam.gg/csgo/analytics/match/5ca2...</td>\n",
       "      <td>74053</td>\n",
       "      <td>5ca274db3cb887026622c9c4</td>\n",
       "    </tr>\n",
       "    <tr>\n",
       "      <th>13</th>\n",
       "      <td>FACEIT London 2018</td>\n",
       "      <td>https://dreamteam.gg/csgo/analytics/match/5ca2...</td>\n",
       "      <td>74051</td>\n",
       "      <td>5ca27568c0f32a02720a2203</td>\n",
       "    </tr>\n",
       "    <tr>\n",
       "      <th>14</th>\n",
       "      <td>FACEIT London 2018</td>\n",
       "      <td>https://dreamteam.gg/csgo/analytics/match/5ca2...</td>\n",
       "      <td>74049</td>\n",
       "      <td>5ca2760ebcf70a02726f6a2b</td>\n",
       "    </tr>\n",
       "    <tr>\n",
       "      <th>15</th>\n",
       "      <td>FACEIT London 2018</td>\n",
       "      <td>https://dreamteam.gg/csgo/analytics/match/5ca2...</td>\n",
       "      <td>74048</td>\n",
       "      <td>5ca276b0c0f32a02003d3124</td>\n",
       "    </tr>\n",
       "    <tr>\n",
       "      <th>16</th>\n",
       "      <td>FACEIT London 2018</td>\n",
       "      <td>https://dreamteam.gg/csgo/analytics/match/5ca2...</td>\n",
       "      <td>74026</td>\n",
       "      <td>5ca276c6d43602024526e6b6</td>\n",
       "    </tr>\n",
       "    <tr>\n",
       "      <th>17</th>\n",
       "      <td>FACEIT London 2018</td>\n",
       "      <td>https://dreamteam.gg/csgo/analytics/match/5ca2...</td>\n",
       "      <td>74021</td>\n",
       "      <td>5ca276cd6bd0f9028621dcd2</td>\n",
       "    </tr>\n",
       "    <tr>\n",
       "      <th>18</th>\n",
       "      <td>FACEIT London 2018</td>\n",
       "      <td>https://dreamteam.gg/csgo/analytics/match/5ca2...</td>\n",
       "      <td>74019</td>\n",
       "      <td>5ca276d860aed2029c7a1922</td>\n",
       "    </tr>\n",
       "    <tr>\n",
       "      <th>19</th>\n",
       "      <td>FACEIT London 2018</td>\n",
       "      <td>https://dreamteam.gg/csgo/analytics/match/5ca2...</td>\n",
       "      <td>74002</td>\n",
       "      <td>5ca276e2d43602027748b9e4</td>\n",
       "    </tr>\n",
       "    <tr>\n",
       "      <th>20</th>\n",
       "      <td>FACEIT London 2018</td>\n",
       "      <td>https://dreamteam.gg/csgo/analytics/match/5ca2...</td>\n",
       "      <td>73833</td>\n",
       "      <td>5ca2774f27b8d8025f0b8a66</td>\n",
       "    </tr>\n",
       "    <tr>\n",
       "      <th>21</th>\n",
       "      <td>FACEIT London 2018</td>\n",
       "      <td>https://dreamteam.gg/csgo/analytics/match/5ca2...</td>\n",
       "      <td>73828</td>\n",
       "      <td>5ca277946bd0f9026b37cb76</td>\n",
       "    </tr>\n",
       "    <tr>\n",
       "      <th>22</th>\n",
       "      <td>FACEIT London 2018</td>\n",
       "      <td>https://dreamteam.gg/csgo/analytics/match/5ca2...</td>\n",
       "      <td>73816</td>\n",
       "      <td>5ca2779cdbb10b02ab02a9b5</td>\n",
       "    </tr>\n",
       "    <tr>\n",
       "      <th>23</th>\n",
       "      <td>FACEIT London 2018</td>\n",
       "      <td>https://dreamteam.gg/csgo/analytics/match/5cab...</td>\n",
       "      <td>73812</td>\n",
       "      <td>5cab6263d35cfb0457270bb8</td>\n",
       "    </tr>\n",
       "    <tr>\n",
       "      <th>24</th>\n",
       "      <td>FACEIT London 2018</td>\n",
       "      <td>https://dreamteam.gg/csgo/analytics/match/5ca2...</td>\n",
       "      <td>73811</td>\n",
       "      <td>5ca277cd3cb887026622c9c5</td>\n",
       "    </tr>\n",
       "    <tr>\n",
       "      <th>25</th>\n",
       "      <td>FACEIT London 2018</td>\n",
       "      <td>https://dreamteam.gg/csgo/analytics/match/5cac...</td>\n",
       "      <td>73807</td>\n",
       "      <td>5cac934fc0f32a06b76f9a02</td>\n",
       "    </tr>\n",
       "    <tr>\n",
       "      <th>26</th>\n",
       "      <td>FACEIT London 2018</td>\n",
       "      <td>https://dreamteam.gg/csgo/analytics/match/5ca2...</td>\n",
       "      <td>73803</td>\n",
       "      <td>5ca27829d4360202850107d2</td>\n",
       "    </tr>\n",
       "    <tr>\n",
       "      <th>27</th>\n",
       "      <td>FACEIT London 2018</td>\n",
       "      <td>https://dreamteam.gg/csgo/analytics/match/5ca2...</td>\n",
       "      <td>73800</td>\n",
       "      <td>5ca2783027b8d8027e066e32</td>\n",
       "    </tr>\n",
       "    <tr>\n",
       "      <th>28</th>\n",
       "      <td>FACEIT London 2018</td>\n",
       "      <td>https://dreamteam.gg/csgo/analytics/match/5ca2...</td>\n",
       "      <td>73786</td>\n",
       "      <td>5ca2783727b8d8025f0b8a67</td>\n",
       "    </tr>\n",
       "    <tr>\n",
       "      <th>29</th>\n",
       "      <td>FACEIT London 2018</td>\n",
       "      <td>https://dreamteam.gg/csgo/analytics/match/5cab...</td>\n",
       "      <td>73779</td>\n",
       "      <td>5cab62d0dbb10b066f55dfe3</td>\n",
       "    </tr>\n",
       "    <tr>\n",
       "      <th>...</th>\n",
       "      <td>...</td>\n",
       "      <td>...</td>\n",
       "      <td>...</td>\n",
       "      <td>...</td>\n",
       "    </tr>\n",
       "    <tr>\n",
       "      <th>398</th>\n",
       "      <td>ESL ONE Cologne 2014</td>\n",
       "      <td>https://dreamteam.gg/csgo/analytics/match/5caa...</td>\n",
       "      <td>17557</td>\n",
       "      <td>5caa374dbcf70a061d78d462</td>\n",
       "    </tr>\n",
       "    <tr>\n",
       "      <th>399</th>\n",
       "      <td>ESL ONE Cologne 2014</td>\n",
       "      <td>https://dreamteam.gg/csgo/analytics/match/5caa...</td>\n",
       "      <td>17556</td>\n",
       "      <td>5caa375260aed205c14311d5</td>\n",
       "    </tr>\n",
       "    <tr>\n",
       "      <th>400</th>\n",
       "      <td>ESL ONE Cologne 2014</td>\n",
       "      <td>https://dreamteam.gg/csgo/analytics/match/5caa...</td>\n",
       "      <td>17555</td>\n",
       "      <td>5caa3757d43602057e2452d6</td>\n",
       "    </tr>\n",
       "    <tr>\n",
       "      <th>401</th>\n",
       "      <td>ESL ONE Cologne 2014</td>\n",
       "      <td>https://dreamteam.gg/csgo/analytics/match/5caa...</td>\n",
       "      <td>17554</td>\n",
       "      <td>5caa37f76bd0f905dd001624</td>\n",
       "    </tr>\n",
       "    <tr>\n",
       "      <th>402</th>\n",
       "      <td>ESL ONE Cologne 2014</td>\n",
       "      <td>https://dreamteam.gg/csgo/analytics/match/5caa...</td>\n",
       "      <td>17553</td>\n",
       "      <td>5caa37fc3cb88705cc46dd22</td>\n",
       "    </tr>\n",
       "    <tr>\n",
       "      <th>403</th>\n",
       "      <td>ESL ONE Cologne 2014</td>\n",
       "      <td>https://dreamteam.gg/csgo/analytics/match/5caa...</td>\n",
       "      <td>17552</td>\n",
       "      <td>5caa3800dbb10b060e4276e3</td>\n",
       "    </tr>\n",
       "    <tr>\n",
       "      <th>404</th>\n",
       "      <td>ESL ONE Cologne 2014</td>\n",
       "      <td>https://dreamteam.gg/csgo/analytics/match/5caa...</td>\n",
       "      <td>17551</td>\n",
       "      <td>5caa3805d35cfb058870f0f3</td>\n",
       "    </tr>\n",
       "    <tr>\n",
       "      <th>405</th>\n",
       "      <td>ESL ONE Cologne 2014</td>\n",
       "      <td>https://dreamteam.gg/csgo/analytics/match/5caa...</td>\n",
       "      <td>17550</td>\n",
       "      <td>5caa380ad35cfb058870f0f4</td>\n",
       "    </tr>\n",
       "    <tr>\n",
       "      <th>406</th>\n",
       "      <td>ESL ONE Cologne 2014</td>\n",
       "      <td>https://dreamteam.gg/csgo/analytics/match/5caa...</td>\n",
       "      <td>17549</td>\n",
       "      <td>5caa387060aed20602641df2</td>\n",
       "    </tr>\n",
       "    <tr>\n",
       "      <th>407</th>\n",
       "      <td>ESL ONE Cologne 2014</td>\n",
       "      <td>https://dreamteam.gg/csgo/analytics/match/5caa...</td>\n",
       "      <td>17548</td>\n",
       "      <td>5caa3874dbb10b05f37119b3</td>\n",
       "    </tr>\n",
       "    <tr>\n",
       "      <th>408</th>\n",
       "      <td>ESL ONE Cologne 2014</td>\n",
       "      <td>https://dreamteam.gg/csgo/analytics/match/5caa...</td>\n",
       "      <td>17547</td>\n",
       "      <td>5caa387927b8d805de4a9404</td>\n",
       "    </tr>\n",
       "    <tr>\n",
       "      <th>409</th>\n",
       "      <td>ESL ONE Cologne 2014</td>\n",
       "      <td>https://dreamteam.gg/csgo/analytics/match/5caa...</td>\n",
       "      <td>17546</td>\n",
       "      <td>5caa387d3cb8870418066d69</td>\n",
       "    </tr>\n",
       "    <tr>\n",
       "      <th>410</th>\n",
       "      <td>ESL ONE Cologne 2014</td>\n",
       "      <td>https://dreamteam.gg/csgo/analytics/match/5caa...</td>\n",
       "      <td>17545</td>\n",
       "      <td>5caa38828da20e06010dd5e2</td>\n",
       "    </tr>\n",
       "    <tr>\n",
       "      <th>411</th>\n",
       "      <td>ESL ONE Cologne 2014</td>\n",
       "      <td>https://dreamteam.gg/csgo/analytics/match/5caa...</td>\n",
       "      <td>17544</td>\n",
       "      <td>5caa38ca27b8d805de4a9405</td>\n",
       "    </tr>\n",
       "    <tr>\n",
       "      <th>412</th>\n",
       "      <td>ESL ONE Cologne 2014</td>\n",
       "      <td>https://dreamteam.gg/csgo/analytics/match/5caa...</td>\n",
       "      <td>17542</td>\n",
       "      <td>5caa38cf8da20e06010dd5e3</td>\n",
       "    </tr>\n",
       "    <tr>\n",
       "      <th>413</th>\n",
       "      <td>ESL ONE Cologne 2014</td>\n",
       "      <td>https://dreamteam.gg/csgo/analytics/match/5caa...</td>\n",
       "      <td>17540</td>\n",
       "      <td>5caa38d327b8d805de4a9406</td>\n",
       "    </tr>\n",
       "    <tr>\n",
       "      <th>414</th>\n",
       "      <td>ESL ONE Cologne 2014</td>\n",
       "      <td>https://dreamteam.gg/csgo/analytics/match/5caa...</td>\n",
       "      <td>17539</td>\n",
       "      <td>5caa38d76bd0f905dd001625</td>\n",
       "    </tr>\n",
       "    <tr>\n",
       "      <th>415</th>\n",
       "      <td>ESL ONE Cologne 2014</td>\n",
       "      <td>https://dreamteam.gg/csgo/analytics/match/5caa...</td>\n",
       "      <td>17538</td>\n",
       "      <td>5caa38dc8da20e06010dd5e4</td>\n",
       "    </tr>\n",
       "    <tr>\n",
       "      <th>416</th>\n",
       "      <td>ESL ONE Cologne 2014</td>\n",
       "      <td>https://dreamteam.gg/csgo/analytics/match/5caa...</td>\n",
       "      <td>17537</td>\n",
       "      <td>5caa393a6bd0f905dd001626</td>\n",
       "    </tr>\n",
       "    <tr>\n",
       "      <th>417</th>\n",
       "      <td>ESL ONE Cologne 2014</td>\n",
       "      <td>https://dreamteam.gg/csgo/analytics/match/5caa...</td>\n",
       "      <td>17536</td>\n",
       "      <td>5caa393e6bd0f905dd001627</td>\n",
       "    </tr>\n",
       "    <tr>\n",
       "      <th>418</th>\n",
       "      <td>ESL ONE Cologne 2014</td>\n",
       "      <td>https://dreamteam.gg/csgo/analytics/match/5caa...</td>\n",
       "      <td>17533</td>\n",
       "      <td>5caa3942d35cfb058870f0f5</td>\n",
       "    </tr>\n",
       "    <tr>\n",
       "      <th>419</th>\n",
       "      <td>ESL ONE Cologne 2014</td>\n",
       "      <td>https://dreamteam.gg/csgo/analytics/match/5caa...</td>\n",
       "      <td>17532</td>\n",
       "      <td>5caa3947d43602059e086412</td>\n",
       "    </tr>\n",
       "    <tr>\n",
       "      <th>420</th>\n",
       "      <td>ESL ONE Cologne 2014</td>\n",
       "      <td>https://dreamteam.gg/csgo/analytics/match/5caa...</td>\n",
       "      <td>17530</td>\n",
       "      <td>5caa3979d35cfb058870f0f6</td>\n",
       "    </tr>\n",
       "    <tr>\n",
       "      <th>421</th>\n",
       "      <td>ESL ONE Cologne 2014</td>\n",
       "      <td>https://dreamteam.gg/csgo/analytics/match/5caa...</td>\n",
       "      <td>17529</td>\n",
       "      <td>5caa397f8da20e060938d382</td>\n",
       "    </tr>\n",
       "    <tr>\n",
       "      <th>422</th>\n",
       "      <td>ESL ONE Cologne 2014</td>\n",
       "      <td>https://dreamteam.gg/csgo/analytics/match/5caa...</td>\n",
       "      <td>17528</td>\n",
       "      <td>5caa3983bcf70a061d78d463</td>\n",
       "    </tr>\n",
       "    <tr>\n",
       "      <th>423</th>\n",
       "      <td>ESL ONE Cologne 2014</td>\n",
       "      <td>https://dreamteam.gg/csgo/analytics/match/5caa...</td>\n",
       "      <td>17527</td>\n",
       "      <td>5caa39873cb8870418066d6a</td>\n",
       "    </tr>\n",
       "    <tr>\n",
       "      <th>424</th>\n",
       "      <td>ESL ONE Cologne 2014</td>\n",
       "      <td>https://dreamteam.gg/csgo/analytics/match/5caa...</td>\n",
       "      <td>17526</td>\n",
       "      <td>5caa398cdbb10b05f37119b4</td>\n",
       "    </tr>\n",
       "    <tr>\n",
       "      <th>425</th>\n",
       "      <td>ESL ONE Cologne 2014</td>\n",
       "      <td>https://dreamteam.gg/csgo/analytics/match/5caa...</td>\n",
       "      <td>17525</td>\n",
       "      <td>5caa39bbd43602057e2452d7</td>\n",
       "    </tr>\n",
       "    <tr>\n",
       "      <th>426</th>\n",
       "      <td>ESL ONE Cologne 2014</td>\n",
       "      <td>https://dreamteam.gg/csgo/analytics/match/5caa...</td>\n",
       "      <td>17524</td>\n",
       "      <td>5caa39bf3cb88705cc46dd23</td>\n",
       "    </tr>\n",
       "    <tr>\n",
       "      <th>427</th>\n",
       "      <td>ESL ONE Cologne 2014</td>\n",
       "      <td>https://dreamteam.gg/csgo/analytics/match/5caa...</td>\n",
       "      <td>17523</td>\n",
       "      <td>5caa39c3d436020565490336</td>\n",
       "    </tr>\n",
       "  </tbody>\n",
       "</table>\n",
       "<p>428 rows × 4 columns</p>\n",
       "</div>"
      ],
      "text/plain": [
       "                    Event                                     Dream Team URL  \\\n",
       "0       IEM Katowice 2019  https://dreamteam.gg/csgo/analytics/match/5ca2...   \n",
       "1       IEM Katowice 2019  https://dreamteam.gg/csgo/analytics/match/5ca2...   \n",
       "2       IEM Katowice 2019  https://dreamteam.gg/csgo/analytics/match/5ca2...   \n",
       "3       IEM Katowice 2019  https://dreamteam.gg/csgo/analytics/match/5ca2...   \n",
       "4       IEM Katowice 2019  https://dreamteam.gg/csgo/analytics/match/5ca2...   \n",
       "5      FACEIT London 2018  https://dreamteam.gg/csgo/analytics/match/5cac...   \n",
       "6      FACEIT London 2018  https://dreamteam.gg/csgo/analytics/match/5ca2...   \n",
       "7      FACEIT London 2018  https://dreamteam.gg/csgo/analytics/match/5ca2...   \n",
       "8      FACEIT London 2018  https://dreamteam.gg/csgo/analytics/match/5ca2...   \n",
       "9      FACEIT London 2018  https://dreamteam.gg/csgo/analytics/match/5ca2...   \n",
       "10     FACEIT London 2018  https://dreamteam.gg/csgo/analytics/match/5ca2...   \n",
       "11     FACEIT London 2018  https://dreamteam.gg/csgo/analytics/match/5ca2...   \n",
       "12     FACEIT London 2018  https://dreamteam.gg/csgo/analytics/match/5ca2...   \n",
       "13     FACEIT London 2018  https://dreamteam.gg/csgo/analytics/match/5ca2...   \n",
       "14     FACEIT London 2018  https://dreamteam.gg/csgo/analytics/match/5ca2...   \n",
       "15     FACEIT London 2018  https://dreamteam.gg/csgo/analytics/match/5ca2...   \n",
       "16     FACEIT London 2018  https://dreamteam.gg/csgo/analytics/match/5ca2...   \n",
       "17     FACEIT London 2018  https://dreamteam.gg/csgo/analytics/match/5ca2...   \n",
       "18     FACEIT London 2018  https://dreamteam.gg/csgo/analytics/match/5ca2...   \n",
       "19     FACEIT London 2018  https://dreamteam.gg/csgo/analytics/match/5ca2...   \n",
       "20     FACEIT London 2018  https://dreamteam.gg/csgo/analytics/match/5ca2...   \n",
       "21     FACEIT London 2018  https://dreamteam.gg/csgo/analytics/match/5ca2...   \n",
       "22     FACEIT London 2018  https://dreamteam.gg/csgo/analytics/match/5ca2...   \n",
       "23     FACEIT London 2018  https://dreamteam.gg/csgo/analytics/match/5cab...   \n",
       "24     FACEIT London 2018  https://dreamteam.gg/csgo/analytics/match/5ca2...   \n",
       "25     FACEIT London 2018  https://dreamteam.gg/csgo/analytics/match/5cac...   \n",
       "26     FACEIT London 2018  https://dreamteam.gg/csgo/analytics/match/5ca2...   \n",
       "27     FACEIT London 2018  https://dreamteam.gg/csgo/analytics/match/5ca2...   \n",
       "28     FACEIT London 2018  https://dreamteam.gg/csgo/analytics/match/5ca2...   \n",
       "29     FACEIT London 2018  https://dreamteam.gg/csgo/analytics/match/5cab...   \n",
       "..                    ...                                                ...   \n",
       "398  ESL ONE Cologne 2014  https://dreamteam.gg/csgo/analytics/match/5caa...   \n",
       "399  ESL ONE Cologne 2014  https://dreamteam.gg/csgo/analytics/match/5caa...   \n",
       "400  ESL ONE Cologne 2014  https://dreamteam.gg/csgo/analytics/match/5caa...   \n",
       "401  ESL ONE Cologne 2014  https://dreamteam.gg/csgo/analytics/match/5caa...   \n",
       "402  ESL ONE Cologne 2014  https://dreamteam.gg/csgo/analytics/match/5caa...   \n",
       "403  ESL ONE Cologne 2014  https://dreamteam.gg/csgo/analytics/match/5caa...   \n",
       "404  ESL ONE Cologne 2014  https://dreamteam.gg/csgo/analytics/match/5caa...   \n",
       "405  ESL ONE Cologne 2014  https://dreamteam.gg/csgo/analytics/match/5caa...   \n",
       "406  ESL ONE Cologne 2014  https://dreamteam.gg/csgo/analytics/match/5caa...   \n",
       "407  ESL ONE Cologne 2014  https://dreamteam.gg/csgo/analytics/match/5caa...   \n",
       "408  ESL ONE Cologne 2014  https://dreamteam.gg/csgo/analytics/match/5caa...   \n",
       "409  ESL ONE Cologne 2014  https://dreamteam.gg/csgo/analytics/match/5caa...   \n",
       "410  ESL ONE Cologne 2014  https://dreamteam.gg/csgo/analytics/match/5caa...   \n",
       "411  ESL ONE Cologne 2014  https://dreamteam.gg/csgo/analytics/match/5caa...   \n",
       "412  ESL ONE Cologne 2014  https://dreamteam.gg/csgo/analytics/match/5caa...   \n",
       "413  ESL ONE Cologne 2014  https://dreamteam.gg/csgo/analytics/match/5caa...   \n",
       "414  ESL ONE Cologne 2014  https://dreamteam.gg/csgo/analytics/match/5caa...   \n",
       "415  ESL ONE Cologne 2014  https://dreamteam.gg/csgo/analytics/match/5caa...   \n",
       "416  ESL ONE Cologne 2014  https://dreamteam.gg/csgo/analytics/match/5caa...   \n",
       "417  ESL ONE Cologne 2014  https://dreamteam.gg/csgo/analytics/match/5caa...   \n",
       "418  ESL ONE Cologne 2014  https://dreamteam.gg/csgo/analytics/match/5caa...   \n",
       "419  ESL ONE Cologne 2014  https://dreamteam.gg/csgo/analytics/match/5caa...   \n",
       "420  ESL ONE Cologne 2014  https://dreamteam.gg/csgo/analytics/match/5caa...   \n",
       "421  ESL ONE Cologne 2014  https://dreamteam.gg/csgo/analytics/match/5caa...   \n",
       "422  ESL ONE Cologne 2014  https://dreamteam.gg/csgo/analytics/match/5caa...   \n",
       "423  ESL ONE Cologne 2014  https://dreamteam.gg/csgo/analytics/match/5caa...   \n",
       "424  ESL ONE Cologne 2014  https://dreamteam.gg/csgo/analytics/match/5caa...   \n",
       "425  ESL ONE Cologne 2014  https://dreamteam.gg/csgo/analytics/match/5caa...   \n",
       "426  ESL ONE Cologne 2014  https://dreamteam.gg/csgo/analytics/match/5caa...   \n",
       "427  ESL ONE Cologne 2014  https://dreamteam.gg/csgo/analytics/match/5caa...   \n",
       "\n",
       "     Match ID                 MATCHCODE  \n",
       "0       82050  5ca2589cbcf70a02726f6a24  \n",
       "1       81796  5ca260136bd0f9026b37cb74  \n",
       "2       81795  5ca260cd27b8d8026d731022  \n",
       "3       81790  5ca260d3d35cfb023c7b2d94  \n",
       "4       81761  5ca262c227b8d8026d731023  \n",
       "5       74129  5cac8ef6d43602068832b752  \n",
       "6       74128  5ca273ecd43602024526e6b5  \n",
       "7       74061  5ca273f3d35cfb026f6f35e2  \n",
       "8       74060  5ca273fb60aed202884dcb67  \n",
       "9       74059  5ca274bbbcf70a0040573a99  \n",
       "10      74058  5ca274ca3cb887026622c9c3  \n",
       "11      74055  5ca274d38da20e02aa25a612  \n",
       "12      74053  5ca274db3cb887026622c9c4  \n",
       "13      74051  5ca27568c0f32a02720a2203  \n",
       "14      74049  5ca2760ebcf70a02726f6a2b  \n",
       "15      74048  5ca276b0c0f32a02003d3124  \n",
       "16      74026  5ca276c6d43602024526e6b6  \n",
       "17      74021  5ca276cd6bd0f9028621dcd2  \n",
       "18      74019  5ca276d860aed2029c7a1922  \n",
       "19      74002  5ca276e2d43602027748b9e4  \n",
       "20      73833  5ca2774f27b8d8025f0b8a66  \n",
       "21      73828  5ca277946bd0f9026b37cb76  \n",
       "22      73816  5ca2779cdbb10b02ab02a9b5  \n",
       "23      73812  5cab6263d35cfb0457270bb8  \n",
       "24      73811  5ca277cd3cb887026622c9c5  \n",
       "25      73807  5cac934fc0f32a06b76f9a02  \n",
       "26      73803  5ca27829d4360202850107d2  \n",
       "27      73800  5ca2783027b8d8027e066e32  \n",
       "28      73786  5ca2783727b8d8025f0b8a67  \n",
       "29      73779  5cab62d0dbb10b066f55dfe3  \n",
       "..        ...                       ...  \n",
       "398     17557  5caa374dbcf70a061d78d462  \n",
       "399     17556  5caa375260aed205c14311d5  \n",
       "400     17555  5caa3757d43602057e2452d6  \n",
       "401     17554  5caa37f76bd0f905dd001624  \n",
       "402     17553  5caa37fc3cb88705cc46dd22  \n",
       "403     17552  5caa3800dbb10b060e4276e3  \n",
       "404     17551  5caa3805d35cfb058870f0f3  \n",
       "405     17550  5caa380ad35cfb058870f0f4  \n",
       "406     17549  5caa387060aed20602641df2  \n",
       "407     17548  5caa3874dbb10b05f37119b3  \n",
       "408     17547  5caa387927b8d805de4a9404  \n",
       "409     17546  5caa387d3cb8870418066d69  \n",
       "410     17545  5caa38828da20e06010dd5e2  \n",
       "411     17544  5caa38ca27b8d805de4a9405  \n",
       "412     17542  5caa38cf8da20e06010dd5e3  \n",
       "413     17540  5caa38d327b8d805de4a9406  \n",
       "414     17539  5caa38d76bd0f905dd001625  \n",
       "415     17538  5caa38dc8da20e06010dd5e4  \n",
       "416     17537  5caa393a6bd0f905dd001626  \n",
       "417     17536  5caa393e6bd0f905dd001627  \n",
       "418     17533  5caa3942d35cfb058870f0f5  \n",
       "419     17532  5caa3947d43602059e086412  \n",
       "420     17530  5caa3979d35cfb058870f0f6  \n",
       "421     17529  5caa397f8da20e060938d382  \n",
       "422     17528  5caa3983bcf70a061d78d463  \n",
       "423     17527  5caa39873cb8870418066d6a  \n",
       "424     17526  5caa398cdbb10b05f37119b4  \n",
       "425     17525  5caa39bbd43602057e2452d7  \n",
       "426     17524  5caa39bf3cb88705cc46dd23  \n",
       "427     17523  5caa39c3d436020565490336  \n",
       "\n",
       "[428 rows x 4 columns]"
      ]
     },
     "execution_count": 19,
     "metadata": {},
     "output_type": "execute_result"
    }
   ],
   "source": [
    "dfDTLinksClean = pd.merge(dfDTLinks, dfCleanIDs, on=[\"Match ID\"], how=\"inner\")\n",
    "dfDTLinksClean"
   ]
  },
  {
   "cell_type": "markdown",
   "metadata": {
    "papermill": {
     "duration": 0.180049,
     "end_time": "2019-05-10T19:00:18.868631",
     "exception": false,
     "start_time": "2019-05-10T19:00:18.688582",
     "status": "completed"
    },
    "tags": []
   },
   "source": [
    "The cleaned DreamTeam DataFrame and round winner DataFrame are saved locally in CSV files."
   ]
  },
  {
   "cell_type": "code",
   "execution_count": 20,
   "metadata": {
    "papermill": {
     "duration": 0.250057,
     "end_time": "2019-05-10T19:00:19.300729",
     "exception": false,
     "start_time": "2019-05-10T19:00:19.050672",
     "status": "completed"
    },
    "tags": []
   },
   "outputs": [],
   "source": [
    "dfDTLinksClean.to_csv(\"DTLINKS.csv\", header=True, index=True)\n",
    "dfRoundWinnerClean.to_csv(\"ROUNDWINNER.csv\", header=True, index=True)"
   ]
  }
 ],
 "metadata": {
  "kernelspec": {
   "display_name": "Python 3",
   "language": "python",
   "name": "python3"
  },
  "language_info": {
   "codemirror_mode": {
    "name": "ipython",
    "version": 3
   },
   "file_extension": ".py",
   "mimetype": "text/x-python",
   "name": "python",
   "nbconvert_exporter": "python",
   "pygments_lexer": "ipython3",
   "version": "3.7.3"
  },
  "papermill": {
   "duration": 833.195984,
   "end_time": "2019-05-10T19:00:19.867476",
   "environment_variables": {},
   "exception": null,
   "input_path": "C:\\Users\\ronan\\Documents\\Notebooks\\DSiP Project\\Papermill\\Q1-SCRAPER2-ROUNDWINNER.ipynb",
   "output_path": "C:\\Users\\ronan\\Documents\\Notebooks\\DSiP Project\\Papermill\\Q1-SCRAPER2-ROUNDWINNER.ipynb",
   "parameters": {},
   "start_time": "2019-05-10T18:46:26.671492",
   "version": "1.0.0"
  }
 },
 "nbformat": 4,
 "nbformat_minor": 2
}