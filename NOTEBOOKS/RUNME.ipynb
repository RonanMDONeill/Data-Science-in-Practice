{
 "cells": [
  {
   "cell_type": "markdown",
   "metadata": {},
   "source": [
    "# Group 1: Pew, Pew, Pew: An Analysis of Professional Counter-Strike\n",
    "This notebook uses Papermill to automate the project.\n",
    "Before use, **please refer to the README file for instructions on how to run**.\n",
    "\n",
    "With the scrapers activated, the project has an approximate rutime of: 2 hours 20 minutes"
   ]
  },
  {
   "cell_type": "code",
   "execution_count": 1,
   "metadata": {},
   "outputs": [],
   "source": [
    "import papermill as pm\n",
    "import os\n",
    "from loguru import logger"
   ]
  },
  {
   "cell_type": "markdown",
   "metadata": {},
   "source": [
    "To run the project with the scrapers activated, ensure the runScraper boolean below is set to \"True\".\n",
    "To run the project with the scrapers deactivated, ensure the runScraper boolean below is set to \"False\"."
   ]
  },
  {
   "cell_type": "code",
   "execution_count": 2,
   "metadata": {},
   "outputs": [],
   "source": [
    "runScraper = False"
   ]
  },
  {
   "cell_type": "markdown",
   "metadata": {},
   "source": [
    "Automation function using Papermill's \"execute_notebook\" function."
   ]
  },
  {
   "cell_type": "code",
   "execution_count": 3,
   "metadata": {},
   "outputs": [],
   "source": [
    "def run_notebook(notebook):\n",
    "    # Get notebook path\n",
    "    notebookPath =  os.path.abspath(notebook)\n",
    "    \n",
    "    pm.execute_notebook(\n",
    "       notebookPath,\n",
    "       notebookPath\n",
    "    )"
   ]
  },
  {
   "cell_type": "markdown",
   "metadata": {},
   "source": [
    "Automation of the scraping notebooks."
   ]
  },
  {
   "cell_type": "code",
   "execution_count": 4,
   "metadata": {
    "scrolled": false
   },
   "outputs": [],
   "source": [
    "if runScraper == True:\n",
    "\n",
    "    # Logger message\n",
    "    logger.info(\"Executing 1st scraper: HLTV Stats | Approx. Runtime: 30 minutes\")\n",
    "    run_notebook(\"Q1-SCRAPER1-HLTV_STATS.ipynb\")\n",
    "    \n",
    "    # Logger message\n",
    "    logger.info(\"Executing 2nd scraper: Round Winner | Approx. Runtime: 15 minutes\")\n",
    "    run_notebook(\"Q1-SCRAPER2-ROUNDWINNER.ipynb\")\n",
    "    \n",
    "    # Logger message\n",
    "    logger.info(\"Executing 3rd scraper: First Kills | Approx. Runtime: 12 minutes\")\n",
    "    run_notebook(\"Q1-SCRAPER3-FIRST_KILL.ipynb\")\n",
    "    \n",
    "    # Logger message\n",
    "    logger.info(\"Executing 4th scraper: Round Type | Approx. Runtime: 15 minutes\")\n",
    "    run_notebook(\"Q2-SCRAPER-ROUND_TYPE.ipynb\")\n",
    "    \n",
    "    # Logger message\n",
    "    logger.info(\"Executing 5th scraper: Player Stats | Approx. Runtime: 35 minutes\")\n",
    "    run_notebook(\"Q3-SCRAPER1-PLAYER_STATS.ipynb\")\n",
    "    \n",
    "    # Logger message\n",
    "    logger.info(\"Executing 6th scraper: Event Ratings & Past Events | Approx. Runtime: 35 minutes\")\n",
    "    run_notebook(\"Q3-SCRAPER2-EVENT_RATINGS+PAST_EVENTS.ipynb\")"
   ]
  },
  {
   "cell_type": "markdown",
   "metadata": {},
   "source": [
    "Automation of the analysis notebooks."
   ]
  },
  {
   "cell_type": "code",
   "execution_count": 5,
   "metadata": {},
   "outputs": [
    {
     "name": "stderr",
     "output_type": "stream",
     "text": [
      "2019-05-10 21:44:20.904 | INFO     | __main__:<module>:2 - Executing 1st analysis: First Kill\n"
     ]
    },
    {
     "data": {
      "application/vnd.jupyter.widget-view+json": {
       "model_id": "d661a2e25c1d4a3a8c6dee1905142297",
       "version_major": 2,
       "version_minor": 0
      },
      "text/plain": [
       "HBox(children=(IntProgress(value=0, max=70), HTML(value='')))"
      ]
     },
     "metadata": {},
     "output_type": "display_data"
    },
    {
     "name": "stdout",
     "output_type": "stream",
     "text": [
      "\n"
     ]
    },
    {
     "name": "stderr",
     "output_type": "stream",
     "text": [
      "2019-05-10 21:44:36.738 | INFO     | __main__:<module>:6 - Executing 2nd analysis: Economy\n"
     ]
    },
    {
     "data": {
      "application/vnd.jupyter.widget-view+json": {
       "model_id": "f1ea136bd965407490638c7a0b0f1437",
       "version_major": 2,
       "version_minor": 0
      },
      "text/plain": [
       "HBox(children=(IntProgress(value=0, max=57), HTML(value='')))"
      ]
     },
     "metadata": {},
     "output_type": "display_data"
    },
    {
     "name": "stdout",
     "output_type": "stream",
     "text": [
      "\n"
     ]
    },
    {
     "name": "stderr",
     "output_type": "stream",
     "text": [
      "2019-05-10 21:44:48.452 | INFO     | __main__:<module>:10 - Executing 3rd analysis: Player Stats\n"
     ]
    },
    {
     "data": {
      "application/vnd.jupyter.widget-view+json": {
       "model_id": "469b6488ee214d2496c69b4ecc474faa",
       "version_major": 2,
       "version_minor": 0
      },
      "text/plain": [
       "HBox(children=(IntProgress(value=0, max=24), HTML(value='')))"
      ]
     },
     "metadata": {},
     "output_type": "display_data"
    },
    {
     "name": "stdout",
     "output_type": "stream",
     "text": [
      "\n"
     ]
    },
    {
     "name": "stderr",
     "output_type": "stream",
     "text": [
      "2019-05-10 21:44:53.914 | INFO     | __main__:<module>:14 - Executing 4th analysis: Predciting Future Ratings\n"
     ]
    },
    {
     "data": {
      "application/vnd.jupyter.widget-view+json": {
       "model_id": "1228be8446d8477aa82a9808eb0a9b89",
       "version_major": 2,
       "version_minor": 0
      },
      "text/plain": [
       "HBox(children=(IntProgress(value=0, max=43), HTML(value='')))"
      ]
     },
     "metadata": {},
     "output_type": "display_data"
    },
    {
     "name": "stdout",
     "output_type": "stream",
     "text": [
      "\n"
     ]
    }
   ],
   "source": [
    "# Logger message\n",
    "logger.info(\"Executing 1st analysis: First Kill\")\n",
    "run_notebook(\"Q1-ANALYSIS-FIRST_KILL.ipynb\")\n",
    "\n",
    "# Logger message\n",
    "logger.info(\"Executing 2nd analysis: Economy\")\n",
    "run_notebook(\"Q2-ANALYSIS-ECONOMY.ipynb\")\n",
    "\n",
    "# Logger message\n",
    "logger.info(\"Executing 3rd analysis: Player Stats\")\n",
    "run_notebook(\"Q3-ANALYSIS1-PLAYER_STATS.ipynb\")\n",
    "\n",
    "# Logger message\n",
    "logger.info(\"Executing 4th analysis: Predciting Future Ratings\")\n",
    "run_notebook(\"Q3-ANALYSIS2-PREDICTING_FUTURE_RATINGS.ipynb\")"
   ]
  }
 ],
 "metadata": {
  "celltoolbar": "Tags",
  "kernelspec": {
   "display_name": "Python 3",
   "language": "python",
   "name": "python3"
  },
  "language_info": {
   "codemirror_mode": {
    "name": "ipython",
    "version": 3
   },
   "file_extension": ".py",
   "mimetype": "text/x-python",
   "name": "python",
   "nbconvert_exporter": "python",
   "pygments_lexer": "ipython3",
   "version": "3.7.3"
  }
 },
 "nbformat": 4,
 "nbformat_minor": 2
}
