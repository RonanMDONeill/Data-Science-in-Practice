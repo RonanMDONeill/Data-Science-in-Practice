{
 "cells": [
  {
   "cell_type": "markdown",
   "metadata": {
    "papermill": {
     "duration": 0.013003,
     "end_time": "2019-05-10T19:25:19.208152",
     "exception": false,
     "start_time": "2019-05-10T19:25:19.195149",
     "status": "completed"
    },
    "tags": []
   },
   "source": [
    "# Scraping for Question 3"
   ]
  },
  {
   "cell_type": "markdown",
   "metadata": {
    "papermill": {
     "duration": 0.013002,
     "end_time": "2019-05-10T19:25:19.235158",
     "exception": false,
     "start_time": "2019-05-10T19:25:19.222156",
     "status": "completed"
    },
    "tags": []
   },
   "source": [
    "Scraping necessary data to look at the most promising youth players and trying to predict what ratings they would achieve in future events.\n",
    "\n",
    "Like previous research questions, we will be scraping the data from HLTV.org. Firstly we will be collecting career data of all the players stored on the website."
   ]
  },
  {
   "cell_type": "code",
   "execution_count": 1,
   "metadata": {
    "papermill": {
     "duration": 4.361,
     "end_time": "2019-05-10T19:25:23.610171",
     "exception": false,
     "start_time": "2019-05-10T19:25:19.249171",
     "status": "completed"
    },
    "tags": []
   },
   "outputs": [],
   "source": [
    "# Import libraries\n",
    "import pandas as pd\n",
    "import urllib\n",
    "import urllib.request\n",
    "import time\n",
    "import re\n",
    "from loguru import logger\n",
    "from bs4 import BeautifulSoup"
   ]
  },
  {
   "cell_type": "markdown",
   "metadata": {
    "papermill": {
     "duration": 0.012994,
     "end_time": "2019-05-10T19:25:23.636168",
     "exception": false,
     "start_time": "2019-05-10T19:25:23.623174",
     "status": "completed"
    },
    "tags": []
   },
   "source": [
    "Having the page of all the players (\"https://www.hltv.org/stats/players\"), I used BeatifulSoup to parse the HTML and a list of all the players pages is created by combining the scraped link and the baseURL. "
   ]
  },
  {
   "cell_type": "code",
   "execution_count": 2,
   "metadata": {
    "papermill": {
     "duration": 5.88357,
     "end_time": "2019-05-10T19:25:29.532741",
     "exception": false,
     "start_time": "2019-05-10T19:25:23.649171",
     "status": "completed"
    },
    "tags": []
   },
   "outputs": [
    {
     "name": "stderr",
     "output_type": "stream",
     "text": [
      "2019-05-10 20:25:23.667 | INFO     | __main__:<module>:10 - Scraping new player page: https://www.hltv.org/stats/players.\n"
     ]
    },
    {
     "name": "stdout",
     "output_type": "stream",
     "text": [
      "['https://www.hltv.org/stats/players/11893/ZywOo', 'https://www.hltv.org/stats/players/7998/s1mple', 'https://www.hltv.org/stats/players/7938/XANTARES', 'https://www.hltv.org/stats/players/7131/BnTeT', 'https://www.hltv.org/stats/players/9216/coldzera', 'https://www.hltv.org/stats/players/9102/Sico', 'https://www.hltv.org/stats/players/15631/KSCERATO', 'https://www.hltv.org/stats/players/8950/Kaze', 'https://www.hltv.org/stats/players/10774/Freeman', 'https://www.hltv.org/stats/players/3741/NiKo', 'https://www.hltv.org/stats/players/8711/Sonic', 'https://www.hltv.org/stats/players/9960/frozen', 'https://www.hltv.org/stats/players/11271/smooya', 'https://www.hltv.org/stats/players/9172/XigN', 'https://www.hltv.org/stats/players/12553/yuurih', 'https://www.hltv.org/stats/players/7592/device', 'https://www.hltv.org/stats/players/9626/XELLOW', 'https://www.hltv.org/stats/players/5736/kNgV-', 'https://www.hltv.org/stats/players/8714/cosmeeeN', 'https://www.hltv.org/stats/players/12591/sterling', 'https://www.hltv.org/stats/players/12126/poizon', 'https://www.hltv.org/stats/players/8574/woxic', 'https://www.hltv.org/stats/players/11219/CeRq', 'https://www.hltv.org/stats/players/7167/kennyS', 'https://www.hltv.org/stats/players/8766/dizzyLife', 'https://www.hltv.org/stats/players/3972/huNter', 'https://www.hltv.org/stats/players/13670/nawwk', 'https://www.hltv.org/stats/players/10588/Liazz', 'https://www.hltv.org/stats/players/11847/Texta', 'https://www.hltv.org/stats/players/8412/dream3r', 'https://www.hltv.org/stats/players/10394/Twistzz', 'https://www.hltv.org/stats/players/11163/trk', 'https://www.hltv.org/stats/players/9277/FREDDyFROG', 'https://www.hltv.org/stats/players/11916/sergej', 'https://www.hltv.org/stats/players/11283/ottoNd', 'https://www.hltv.org/stats/players/8575/Calyx', 'https://www.hltv.org/stats/players/9001/ZELIN', 'https://www.hltv.org/stats/players/2757/GuardiaN', 'https://www.hltv.org/stats/players/9294/NaToSaphiX', 'https://www.hltv.org/stats/players/8944/Benkai', 'https://www.hltv.org/stats/players/13776/Jame', 'https://www.hltv.org/stats/players/798/oskar', 'https://www.hltv.org/stats/players/14619/Infinite', 'https://www.hltv.org/stats/players/29/f0rest', 'https://www.hltv.org/stats/players/11141/erkaSt', 'https://www.hltv.org/stats/players/1088/liTTle', 'https://www.hltv.org/stats/players/9115/dexter', 'https://www.hltv.org/stats/players/13238/PTC', 'https://www.hltv.org/stats/players/12271/moose', 'https://www.hltv.org/stats/players/9136/Brehze', 'https://www.hltv.org/stats/players/9352/mini', 'https://www.hltv.org/stats/players/8783/JUGi', 'https://www.hltv.org/stats/players/8943/splashske', 'https://www.hltv.org/stats/players/1378/zehN', 'https://www.hltv.org/stats/players/9884/wrath', 'https://www.hltv.org/stats/players/8565/HEN1', 'https://www.hltv.org/stats/players/8918/electronic', 'https://www.hltv.org/stats/players/9032/Magisk', 'https://www.hltv.org/stats/players/39/GeT_RiGhT', 'https://www.hltv.org/stats/players/8552/AttackeR', 'https://www.hltv.org/stats/players/7028/Summer', 'https://www.hltv.org/stats/players/12379/Impulse', 'https://www.hltv.org/stats/players/5021/swag', 'https://www.hltv.org/stats/players/10722/gas', 'https://www.hltv.org/stats/players/12733/xsepower', 'https://www.hltv.org/stats/players/11162/Hatz', 'https://www.hltv.org/stats/players/4076/Aerial', 'https://www.hltv.org/stats/players/9247/Machinegun', 'https://www.hltv.org/stats/players/9031/valde', 'https://www.hltv.org/stats/players/12715/BL1TZ', 'https://www.hltv.org/stats/players/11250/Flarich', 'https://www.hltv.org/stats/players/8370/mixwell', 'https://www.hltv.org/stats/players/695/allu', 'https://www.hltv.org/stats/players/1225/shox', 'https://www.hltv.org/stats/players/10842/KHTEX', 'https://www.hltv.org/stats/players/13254/TenZ', 'https://www.hltv.org/stats/players/10263/xccurate', 'https://www.hltv.org/stats/players/13281/El1an', 'https://www.hltv.org/stats/players/11154/exit', 'https://www.hltv.org/stats/players/7910/fejtZ', 'https://www.hltv.org/stats/players/9616/AmaNEk', 'https://www.hltv.org/stats/players/8564/fer', 'https://www.hltv.org/stats/players/13239/qikert', 'https://www.hltv.org/stats/players/12030/EspiranTo', 'https://www.hltv.org/stats/players/9618/nexa', 'https://www.hltv.org/stats/players/11264/WARDELL', 'https://www.hltv.org/stats/players/13679/nukkye', 'https://www.hltv.org/stats/players/9895/mertz', 'https://www.hltv.org/stats/players/7398/dupreeh', 'https://www.hltv.org/stats/players/8601/zhokiNg', 'https://www.hltv.org/stats/players/8520/NAF', 'https://www.hltv.org/stats/players/14932/faveN', 'https://www.hltv.org/stats/players/9686/Gratisfaction', 'https://www.hltv.org/stats/players/2529/Maluk3', 'https://www.hltv.org/stats/players/7256/nex', 'https://www.hltv.org/stats/players/10449/ISSAA', 'https://www.hltv.org/stats/players/13915/YEKINDAR', 'https://www.hltv.org/stats/players/180/Savage', 'https://www.hltv.org/stats/players/7390/ScreaM', 'https://www.hltv.org/stats/players/885/olofmeister', 'https://www.hltv.org/stats/players/2023/FalleN', 'https://www.hltv.org/stats/players/12731/somedieyoung', 'https://www.hltv.org/stats/players/10504/NikoM', 'https://www.hltv.org/stats/players/15007/Cooper-', 'https://www.hltv.org/stats/players/4679/jks', 'https://www.hltv.org/stats/players/9078/k0nfig', 'https://www.hltv.org/stats/players/10671/Ethan', 'https://www.hltv.org/stats/players/9042/ryx', 'https://www.hltv.org/stats/players/13980/lollipop21k', 'https://www.hltv.org/stats/players/8735/autimatic', 'https://www.hltv.org/stats/players/12564/Geniuss', 'https://www.hltv.org/stats/players/7356/MICHU', 'https://www.hltv.org/stats/players/10664/Olivia', 'https://www.hltv.org/stats/players/11140/INS', 'https://www.hltv.org/stats/players/7810/ShahZaM', 'https://www.hltv.org/stats/players/9353/paz', 'https://www.hltv.org/stats/players/3543/DJOXiC', 'https://www.hltv.org/stats/players/5479/suNny', 'https://www.hltv.org/stats/players/9056/koosta', 'https://www.hltv.org/stats/players/9255/draken', 'https://www.hltv.org/stats/players/11816/ropz', 'https://www.hltv.org/stats/players/7443/twist', 'https://www.hltv.org/stats/players/12521/arT', 'https://www.hltv.org/stats/players/5799/keev', 'https://www.hltv.org/stats/players/7266/syrsoN', 'https://www.hltv.org/stats/players/7403/WorldEdit', 'https://www.hltv.org/stats/players/13497/Lucky', 'https://www.hltv.org/stats/players/9108/tucks', 'https://www.hltv.org/stats/players/10038/Sayf', 'https://www.hltv.org/stats/players/8526/smike', 'https://www.hltv.org/stats/players/7996/CRUC1AL', 'https://www.hltv.org/stats/players/10168/bottle', 'https://www.hltv.org/stats/players/2469/cajunb', 'https://www.hltv.org/stats/players/7026/DD', 'https://www.hltv.org/stats/players/8738/EliGE', 'https://www.hltv.org/stats/players/9218/xand', 'https://www.hltv.org/stats/players/8848/Ryxxo', 'https://www.hltv.org/stats/players/7016/HZ', 'https://www.hltv.org/stats/players/9288/TOR', 'https://www.hltv.org/stats/players/3055/flusha', 'https://www.hltv.org/stats/players/10587/InfrequeNt', 'https://www.hltv.org/stats/players/8503/fl0m', 'https://www.hltv.org/stats/players/8767/ofnu', 'https://www.hltv.org/stats/players/8707/ptr', 'https://www.hltv.org/stats/players/3871/downie', 'https://www.hltv.org/stats/players/11842/Ramz1k', 'https://www.hltv.org/stats/players/11739/shz', 'https://www.hltv.org/stats/players/8605/somebody', 'https://www.hltv.org/stats/players/8789/mir', 'https://www.hltv.org/stats/players/9676/NikkeZ', 'https://www.hltv.org/stats/players/11343/SHiPZ', 'https://www.hltv.org/stats/players/8917/niki1', 'https://www.hltv.org/stats/players/10818/iDk', 'https://www.hltv.org/stats/players/9317/AnJ', 'https://www.hltv.org/stats/players/8124/DavCost', 'https://www.hltv.org/stats/players/3849/JW', 'https://www.hltv.org/stats/players/7993/Detrony', 'https://www.hltv.org/stats/players/8349/shroud', 'https://www.hltv.org/stats/players/284/JaCkz', 'https://www.hltv.org/stats/players/8555/jayzaR', 'https://www.hltv.org/stats/players/7154/Pimp', 'https://www.hltv.org/stats/players/8523/tarik', 'https://www.hltv.org/stats/players/10761/NK4Y', 'https://www.hltv.org/stats/players/9289/qqGOD', 'https://www.hltv.org/stats/players/7429/Happy', 'https://www.hltv.org/stats/players/13666/Brollan', 'https://www.hltv.org/stats/players/9219/felps', 'https://www.hltv.org/stats/players/9083/COLDYY1', 'https://www.hltv.org/stats/players/9656/hAdji', 'https://www.hltv.org/stats/players/3997/loWel', 'https://www.hltv.org/stats/players/10499/JonY%20BoY', 'https://www.hltv.org/stats/players/557/fnx', 'https://www.hltv.org/stats/players/14218/Plopski', 'https://www.hltv.org/stats/players/7528/KRIMZ', 'https://www.hltv.org/stats/players/8568/boltz', 'https://www.hltv.org/stats/players/11737/RIKO', 'https://www.hltv.org/stats/players/10892/MarKE', 'https://www.hltv.org/stats/players/5794/tabseN', 'https://www.hltv.org/stats/players/11139/aliStair', 'https://www.hltv.org/stats/players/13230/motm', 'https://www.hltv.org/stats/players/13229/Snakes', 'https://www.hltv.org/stats/players/8183/rain', 'https://www.hltv.org/stats/players/9279/Relaxa', 'https://www.hltv.org/stats/players/11485/malta', 'https://www.hltv.org/stats/players/7440/Skadoodle', 'https://www.hltv.org/stats/players/10397/cromen', 'https://www.hltv.org/stats/players/964/mou', 'https://www.hltv.org/stats/players/8994/HS', 'https://www.hltv.org/stats/players/9683/IyeN', 'https://www.hltv.org/stats/players/8394/Kjaerbye', 'https://www.hltv.org/stats/players/8764/zewsy', 'https://www.hltv.org/stats/players/11355/QKA', 'https://www.hltv.org/stats/players/8528/Hobbit', 'https://www.hltv.org/stats/players/10557/land1n', 'https://www.hltv.org/stats/players/11586/dapr', 'https://www.hltv.org/stats/players/7322/apEX', 'https://www.hltv.org/stats/players/11748/raafa', 'https://www.hltv.org/stats/players/7594/flamie', 'https://www.hltv.org/stats/players/8953/Sys', 'https://www.hltv.org/stats/players/11942/buster', 'https://www.hltv.org/stats/players/2799/bubble', 'https://www.hltv.org/stats/players/5388/rallen', 'https://www.hltv.org/stats/players/12094/1962', 'https://www.hltv.org/stats/players/2553/Snax', 'https://www.hltv.org/stats/players/9174/HSK', 'https://www.hltv.org/stats/players/9258/SicK', 'https://www.hltv.org/stats/players/11654/almazer', 'https://www.hltv.org/stats/players/9256/disco%20doplan', 'https://www.hltv.org/stats/players/11576/shuadapai', 'https://www.hltv.org/stats/players/8745/Rickeh', 'https://www.hltv.org/stats/players/9271/sLowi', 'https://www.hltv.org/stats/players/8797/Stewie2K', 'https://www.hltv.org/stats/players/9278/REZ', 'https://www.hltv.org/stats/players/8784/SandeN', 'https://www.hltv.org/stats/players/10330/acoR', 'https://www.hltv.org/stats/players/13780/dimasick', 'https://www.hltv.org/stats/players/10589/rommi', 'https://www.hltv.org/stats/players/8576/ZOREE', 'https://www.hltv.org/stats/players/10610/refrezh', 'https://www.hltv.org/stats/players/13188/Zellsis', 'https://www.hltv.org/stats/players/10436/sXe', 'https://www.hltv.org/stats/players/10566/chelo', 'https://www.hltv.org/stats/players/9169/moxie', 'https://www.hltv.org/stats/players/10698/kolor', 'https://www.hltv.org/stats/players/8604/aumaN', 'https://www.hltv.org/stats/players/7964/cadiaN', 'https://www.hltv.org/stats/players/8371/ALEX', 'https://www.hltv.org/stats/players/11840/Boombl4', 'https://www.hltv.org/stats/players/4216/LETN1', 'https://www.hltv.org/stats/players/5187/captainMo', 'https://www.hltv.org/stats/players/9521/dobu', 'https://www.hltv.org/stats/players/2730/chrisJ', 'https://www.hltv.org/stats/players/7168/NBK-', 'https://www.hltv.org/stats/players/2644/Hiko', 'https://www.hltv.org/stats/players/10994/stavn', 'https://www.hltv.org/stats/players/10264/niko', 'https://www.hltv.org/stats/players/12822/VINI', 'https://www.hltv.org/stats/players/7834/v1c7oR', 'https://www.hltv.org/stats/players/9896/b0RUP', 'https://www.hltv.org/stats/players/9410/kalinka', 'https://www.hltv.org/stats/players/839/tb', 'https://www.hltv.org/stats/players/4954/Xyp9x', 'https://www.hltv.org/stats/players/12269/Jyo', 'https://www.hltv.org/stats/players/8957/LOVEYY', 'https://www.hltv.org/stats/players/9483/destiny', 'https://www.hltv.org/stats/players/9574/snatchie', 'https://www.hltv.org/stats/players/8323/mouz', 'https://www.hltv.org/stats/players/2555/yam', 'https://www.hltv.org/stats/players/8138/Davidp', 'https://www.hltv.org/stats/players/8611/es3tag', 'https://www.hltv.org/stats/players/8248/jkaem', 'https://www.hltv.org/stats/players/12782/kressy', 'https://www.hltv.org/stats/players/10870/kabal', 'https://www.hltv.org/stats/players/629/fox', 'https://www.hltv.org/stats/players/7775/juho', 'https://www.hltv.org/stats/players/1146/dennis', 'https://www.hltv.org/stats/players/8413/Zero', 'https://www.hltv.org/stats/players/8786/jR', 'https://www.hltv.org/stats/players/8242/reatz', 'https://www.hltv.org/stats/players/9043/ANDROID', 'https://www.hltv.org/stats/players/8095/aizy', 'https://www.hltv.org/stats/players/2131/bondik', 'https://www.hltv.org/stats/players/3847/znajder', 'https://www.hltv.org/stats/players/8513/yay', 'https://www.hltv.org/stats/players/13138/Maka', 'https://www.hltv.org/stats/players/973/SZPERO', 'https://www.hltv.org/stats/players/7935/roca', 'https://www.hltv.org/stats/players/7253/steel', 'https://www.hltv.org/stats/players/9875/food', 'https://www.hltv.org/stats/players/9358/DEV7L', 'https://www.hltv.org/stats/players/2299/NENO', 'https://www.hltv.org/stats/players/8543/NEEX', 'https://www.hltv.org/stats/players/9245/Tsogoo', 'https://www.hltv.org/stats/players/12088/ryann', 'https://www.hltv.org/stats/players/9221/reversive', 'https://www.hltv.org/stats/players/3410/ROBO', 'https://www.hltv.org/stats/players/9766/hampus', 'https://www.hltv.org/stats/players/9349/AiyvaN', 'https://www.hltv.org/stats/players/10443/Basso', 'https://www.hltv.org/stats/players/9261/Lekr0', 'https://www.hltv.org/stats/players/317/pashaBiceps', 'https://www.hltv.org/stats/players/9008/FANAT%20ROCKA', 'https://www.hltv.org/stats/players/8800/stfN', 'https://www.hltv.org/stats/players/8952/FrostMisty', 'https://www.hltv.org/stats/players/8255/CyberFocus', 'https://www.hltv.org/stats/players/10560/yeL', 'https://www.hltv.org/stats/players/7749/queztone', 'https://www.hltv.org/stats/players/10840/tatazin', 'https://www.hltv.org/stats/players/13157/Jerry', 'https://www.hltv.org/stats/players/8453/SEMINTE', 'https://www.hltv.org/stats/players/11701/mirbit', 'https://www.hltv.org/stats/players/9811/PlesseN', 'https://www.hltv.org/stats/players/334/AdreN', 'https://www.hltv.org/stats/players/11064/dazzLe', 'https://www.hltv.org/stats/players/1045/Maikelele', 'https://www.hltv.org/stats/players/11515/kenzor', 'https://www.hltv.org/stats/players/11231/Subroza', 'https://www.hltv.org/stats/players/9961/MonttY', 'https://www.hltv.org/stats/players/10992/dragonfly', 'https://www.hltv.org/stats/players/9916/mono', 'https://www.hltv.org/stats/players/8346/jdm64', 'https://www.hltv.org/stats/players/2826/MINISE', 'https://www.hltv.org/stats/players/7805/RUSH', 'https://www.hltv.org/stats/players/10186/ayaya', 'https://www.hltv.org/stats/players/7687/nitr0', 'https://www.hltv.org/stats/players/7413/Nico', 'https://www.hltv.org/stats/players/11630/JT', 'https://www.hltv.org/stats/players/2007/ap0c', 'https://www.hltv.org/stats/players/9287/bnwGiggs', 'https://www.hltv.org/stats/players/8345/spaze', 'https://www.hltv.org/stats/players/5386/byali', 'https://www.hltv.org/stats/players/8570/GruBy', 'https://www.hltv.org/stats/players/10502/Straka', 'https://www.hltv.org/stats/players/11844/flickz', 'https://www.hltv.org/stats/players/8951/roseau', 'https://www.hltv.org/stats/players/11230/aproto', 'https://www.hltv.org/stats/players/2161/Noktse', 'https://www.hltv.org/stats/players/13186/hydrex', 'https://www.hltv.org/stats/players/4959/kioShiMa', 'https://www.hltv.org/stats/players/13273/Ace', 'https://www.hltv.org/stats/players/2496/bld', 'https://www.hltv.org/stats/players/13249/oSee', 'https://www.hltv.org/stats/players/9612/Bubzkji', 'https://www.hltv.org/stats/players/13578/Grim', 'https://www.hltv.org/stats/players/9816/Aleksib', 'https://www.hltv.org/stats/players/203/n0thing', 'https://www.hltv.org/stats/players/3183/spyleadeR', 'https://www.hltv.org/stats/players/2398/SKYTTEN', 'https://www.hltv.org/stats/players/5287/TENZKI', 'https://www.hltv.org/stats/players/9254/mopoz', 'https://www.hltv.org/stats/players/10570/dzt', 'https://www.hltv.org/stats/players/11926/mds', 'https://www.hltv.org/stats/players/8350/desi', 'https://www.hltv.org/stats/players/8770/MoeycQ', 'https://www.hltv.org/stats/players/5391/darti', 'https://www.hltv.org/stats/players/12593/J1rah', 'https://www.hltv.org/stats/players/8327/Furlan', 'https://www.hltv.org/stats/players/11238/Oderus', 'https://www.hltv.org/stats/players/12781/k1to', 'https://www.hltv.org/stats/players/10470/mitch', 'https://www.hltv.org/stats/players/11258/fr0slev', 'https://www.hltv.org/stats/players/8726/facecrack', 'https://www.hltv.org/stats/players/7412/gla1ve', 'https://www.hltv.org/stats/players/8522/FugLy', 'https://www.hltv.org/stats/players/5792/KILLDREAM', 'https://www.hltv.org/stats/players/11217/SPELLAN', 'https://www.hltv.org/stats/players/12876/DickStacy', 'https://www.hltv.org/stats/players/10590/fenvicious', 'https://www.hltv.org/stats/players/8082/AZR', 'https://www.hltv.org/stats/players/9069/Nifty', 'https://www.hltv.org/stats/players/7499/Spiidi', 'https://www.hltv.org/stats/players/8744/emagine', 'https://www.hltv.org/stats/players/483/Edward', 'https://www.hltv.org/stats/players/7/Friis', 'https://www.hltv.org/stats/players/3669/innocent', 'https://www.hltv.org/stats/players/10663/RoLEX', 'https://www.hltv.org/stats/players/7248/xseveN', 'https://www.hltv.org/stats/players/8875/gade', 'https://www.hltv.org/stats/players/7982/to1nou', 'https://www.hltv.org/stats/players/8517/Relyks', 'https://www.hltv.org/stats/players/8184/ALEX', 'https://www.hltv.org/stats/players/7808/freakazoid', 'https://www.hltv.org/stats/players/4637/zeff', 'https://www.hltv.org/stats/players/7980/DESPE', 'https://www.hltv.org/stats/players/11574/xiaosaGe', 'https://www.hltv.org/stats/players/15428/Goofy', 'https://www.hltv.org/stats/players/9103/urbz', 'https://www.hltv.org/stats/players/11307/pounh', 'https://www.hltv.org/stats/players/8926/SasuKe', 'https://www.hltv.org/stats/players/1007/k1Ng0r', 'https://www.hltv.org/stats/players/13148/Radifaction', 'https://www.hltv.org/stats/players/7873/dephh', 'https://www.hltv.org/stats/players/7383/zqkS', 'https://www.hltv.org/stats/players/7700/robiin', 'https://www.hltv.org/stats/players/7673/mikeS', 'https://www.hltv.org/stats/players/8771/USTILO', 'https://www.hltv.org/stats/players/5061/PERCY', 'https://www.hltv.org/stats/players/5373/xelos', 'https://www.hltv.org/stats/players/339/ANGE1', 'https://www.hltv.org/stats/players/884/Xizt', 'https://www.hltv.org/stats/players/3894/REFLEX', 'https://www.hltv.org/stats/players/9260/vice', 'https://www.hltv.org/stats/players/7527/pyth', 'https://www.hltv.org/stats/players/2532/mch', 'https://www.hltv.org/stats/players/1883/glace', 'https://www.hltv.org/stats/players/8724/1uke', 'https://www.hltv.org/stats/players/9339/ImpressioN', 'https://www.hltv.org/stats/players/7433/adreN', 'https://www.hltv.org/stats/players/1915/SEMPHIS', 'https://www.hltv.org/stats/players/8321/oskarish', 'https://www.hltv.org/stats/players/8347/hazed', 'https://www.hltv.org/stats/players/10697/blocker', 'https://www.hltv.org/stats/players/10163/pecks', 'https://www.hltv.org/stats/players/12129/stk', 'https://www.hltv.org/stats/players/545/MODDII', 'https://www.hltv.org/stats/players/9011/Barcode', 'https://www.hltv.org/stats/players/9030/rezex', 'https://www.hltv.org/stats/players/7369/peet', 'https://www.hltv.org/stats/players/8508/DAVEY', 'https://www.hltv.org/stats/players/7296/Puls3', 'https://www.hltv.org/stats/players/15300/ToM223', 'https://www.hltv.org/stats/players/8871/Lukki', 'https://www.hltv.org/stats/players/11161/Drea3er', 'https://www.hltv.org/stats/players/11747/jnt', 'https://www.hltv.org/stats/players/5796/tiziaN', 'https://www.hltv.org/stats/players/9257/freddieb', 'https://www.hltv.org/stats/players/10463/B%C3%A5%C3%A5ten', 'https://www.hltv.org/stats/players/7148/friberg', 'https://www.hltv.org/stats/players/555/bit', 'https://www.hltv.org/stats/players/10052/fitch', 'https://www.hltv.org/stats/players/4726/jaxi', 'https://www.hltv.org/stats/players/44/BARBARR', 'https://www.hltv.org/stats/players/12710/gMd', 'https://www.hltv.org/stats/players/9480/tifa', 'https://www.hltv.org/stats/players/338/markeloff', 'https://www.hltv.org/stats/players/735/Dosia', 'https://www.hltv.org/stats/players/8507/stanislaw', 'https://www.hltv.org/stats/players/630/MUTiRiS', 'https://www.hltv.org/stats/players/8396/BENDJI', 'https://www.hltv.org/stats/players/13989/ryotzz', 'https://www.hltv.org/stats/players/8727/waterfaLLZ', 'https://www.hltv.org/stats/players/646/kalle', 'https://www.hltv.org/stats/players/3347/seized', 'https://www.hltv.org/stats/players/12083/YDNA', 'https://www.hltv.org/stats/players/7388/SOKER', 'https://www.hltv.org/stats/players/174/solo', 'https://www.hltv.org/stats/players/1485/RUBINO', 'https://www.hltv.org/stats/players/9220/SHOOWTiME', 'https://www.hltv.org/stats/players/8750/no_one', 'https://www.hltv.org/stats/players/8324/morelz', 'https://www.hltv.org/stats/players/12113/Jonji', 'https://www.hltv.org/stats/players/13977/fnyekes', 'https://www.hltv.org/stats/players/10372/kaboose', 'https://www.hltv.org/stats/players/7529/SAGGERTON', 'https://www.hltv.org/stats/players/7716/chopper', 'https://www.hltv.org/stats/players/9666/HenkkyG', 'https://www.hltv.org/stats/players/11358/0i', 'https://www.hltv.org/stats/players/13155/speed4k', 'https://www.hltv.org/stats/players/7434/AZK', 'https://www.hltv.org/stats/players/11498/NickelBack', 'https://www.hltv.org/stats/players/9291/krii', 'https://www.hltv.org/stats/players/5393/slap', 'https://www.hltv.org/stats/players/12161/KrizzeN', 'https://www.hltv.org/stats/players/8000/syken', 'https://www.hltv.org/stats/players/10611/Fadey', 'https://www.hltv.org/stats/players/10508/nbl', 'https://www.hltv.org/stats/players/7368/Hyper', 'https://www.hltv.org/stats/players/7438/anger', 'https://www.hltv.org/stats/players/373/donQ', 'https://www.hltv.org/stats/players/161/TaZ', 'https://www.hltv.org/stats/players/8716/DeadFox', 'https://www.hltv.org/stats/players/8566/LUCAS1', 'https://www.hltv.org/stats/players/7169/RpK', 'https://www.hltv.org/stats/players/5045/zende', 'https://www.hltv.org/stats/players/9636/BURNRUOk', 'https://www.hltv.org/stats/players/8648/PetitSkel', 'https://www.hltv.org/stats/players/8488/ZEDKO', 'https://www.hltv.org/stats/players/9109/chuch', 'https://www.hltv.org/stats/players/10762/Rock1nG', 'https://www.hltv.org/stats/players/11337/RCF', 'https://www.hltv.org/stats/players/11496/InJect', 'https://www.hltv.org/stats/players/177/Jewelry', 'https://www.hltv.org/stats/players/7382/steel', 'https://www.hltv.org/stats/players/9130/Drone', 'https://www.hltv.org/stats/players/9682/krudeN', 'https://www.hltv.org/stats/players/8368/jmqa', 'https://www.hltv.org/stats/players/6904/STYKO', 'https://www.hltv.org/stats/players/165/NEO', 'https://www.hltv.org/stats/players/10569/devoduvek', 'https://www.hltv.org/stats/players/11891/phr', 'https://www.hltv.org/stats/players/9664/Pollo', 'https://www.hltv.org/stats/players/9545/xms', 'https://www.hltv.org/stats/players/8911/sancz', 'https://www.hltv.org/stats/players/8569/DEVIL', 'https://www.hltv.org/stats/players/8125/Dima', 'https://www.hltv.org/stats/players/11278/TOAO', 'https://www.hltv.org/stats/players/11460/Tommy', 'https://www.hltv.org/stats/players/7414/smF', 'https://www.hltv.org/stats/players/9223/guishorro', 'https://www.hltv.org/stats/players/6593/PKL', 'https://www.hltv.org/stats/players/7511/denis', 'https://www.hltv.org/stats/players/13042/LOGAN', 'https://www.hltv.org/stats/players/7925/gabesson', 'https://www.hltv.org/stats/players/2241/rmn', 'https://www.hltv.org/stats/players/12101/neptune', 'https://www.hltv.org/stats/players/303/starix', 'https://www.hltv.org/stats/players/3886/seb', 'https://www.hltv.org/stats/players/922/Snappi', 'https://www.hltv.org/stats/players/302/kUcheR', 'https://www.hltv.org/stats/players/971/KHRN', 'https://www.hltv.org/stats/players/11746/YJ', 'https://www.hltv.org/stats/players/8459/Kvik', 'https://www.hltv.org/stats/players/14221/kaper', 'https://www.hltv.org/stats/players/13978/Coffee', 'https://www.hltv.org/stats/players/8947/acAp', 'https://www.hltv.org/stats/players/8446/ELUSIVE', 'https://www.hltv.org/stats/players/329/Kairi', 'https://www.hltv.org/stats/players/12086/stat', 'https://www.hltv.org/stats/players/205/glow', 'https://www.hltv.org/stats/players/8137/reltuC', 'https://www.hltv.org/stats/players/7463/Inzta', 'https://www.hltv.org/stats/players/3631/Polly', 'https://www.hltv.org/stats/players/8374/bodyy', 'https://www.hltv.org/stats/players/7170/SmithZz', 'https://www.hltv.org/stats/players/10563/caike', 'https://www.hltv.org/stats/players/170/spacca', 'https://www.hltv.org/stats/players/1206/BTN', 'https://www.hltv.org/stats/players/8150/maeVe', 'https://www.hltv.org/stats/players/8151/AcilioN', 'https://www.hltv.org/stats/players/9019/Surreal', 'https://www.hltv.org/stats/players/823/Maniac', 'https://www.hltv.org/stats/players/9053/Uber', 'https://www.hltv.org/stats/players/9482/NEKIZ', 'https://www.hltv.org/stats/players/7232/r0bs3n', 'https://www.hltv.org/stats/players/2148/tahsiN', 'https://www.hltv.org/stats/players/8331/SOON', 'https://www.hltv.org/stats/players/150/MAJ3R', 'https://www.hltv.org/stats/players/9736/ncl', 'https://www.hltv.org/stats/players/10367/ecfN', 'https://www.hltv.org/stats/players/3329/quix', 'https://www.hltv.org/stats/players/7508/alexRr', 'https://www.hltv.org/stats/players/2476/emi', 'https://www.hltv.org/stats/players/3517/kzy', 'https://www.hltv.org/stats/players/7958/dumz', 'https://www.hltv.org/stats/players/9325/arvid', 'https://www.hltv.org/stats/players/8047/Lambert', 'https://www.hltv.org/stats/players/10506/tutehen', 'https://www.hltv.org/stats/players/169/nak', 'https://www.hltv.org/stats/players/9763/Jayzwalkingz', 'https://www.hltv.org/stats/players/10784/RuStY', 'https://www.hltv.org/stats/players/9660/CONNOR93', 'https://www.hltv.org/stats/players/9081/S0tF1k', 'https://www.hltv.org/stats/players/5440/flash', 'https://www.hltv.org/stats/players/7943/uNdo', 'https://www.hltv.org/stats/players/9104/DANZ', 'https://www.hltv.org/stats/players/147/SIXER', 'https://www.hltv.org/stats/players/7942/dERZKIY', 'https://www.hltv.org/stats/players/8212/ScrunK', 'https://www.hltv.org/stats/players/13976/boX', 'https://www.hltv.org/stats/players/9845/vSa', 'https://www.hltv.org/stats/players/8538/stark', 'https://www.hltv.org/stats/players/10404/Console', 'https://www.hltv.org/stats/players/8752/SileNt', 'https://www.hltv.org/stats/players/7828/holzt', 'https://www.hltv.org/stats/players/9085/Toy', 'https://www.hltv.org/stats/players/1064/crisby', 'https://www.hltv.org/stats/players/8790/hutji', 'https://www.hltv.org/stats/players/8599/Karsa', 'https://www.hltv.org/stats/players/7214/strux1', 'https://www.hltv.org/stats/players/7821/sAw', 'https://www.hltv.org/stats/players/9217/TACO', 'https://www.hltv.org/stats/players/7218/kRYSTAL', 'https://www.hltv.org/stats/players/7147/Fifflaren', 'https://www.hltv.org/stats/players/7166/Ex6TenZ', 'https://www.hltv.org/stats/players/8746/James', 'https://www.hltv.org/stats/players/7246/stavros', 'https://www.hltv.org/stats/players/8410/arch', 'https://www.hltv.org/stats/players/12590/soju_j', 'https://www.hltv.org/stats/players/1950/tonyblack', 'https://www.hltv.org/stats/players/1889/LOMME', 'https://www.hltv.org/stats/players/7405/ub1que', 'https://www.hltv.org/stats/players/8320/repo', 'https://www.hltv.org/stats/players/5385/Luz', 'https://www.hltv.org/stats/players/7323/fel1x', 'https://www.hltv.org/stats/players/9259/witmer', 'https://www.hltv.org/stats/players/429/karrigan', 'https://www.hltv.org/stats/players/13297/ZINKEN', 'https://www.hltv.org/stats/players/11110/Golden', 'https://www.hltv.org/stats/players/5328/psycho', 'https://www.hltv.org/stats/players/2292/forget', 'https://www.hltv.org/stats/players/9348/crush', 'https://www.hltv.org/stats/players/8549/EXUS', 'https://www.hltv.org/stats/players/8983/MiGHTYMAX', 'https://www.hltv.org/stats/players/7321/TuGuX', 'https://www.hltv.org/stats/players/8788/keshandr', 'https://www.hltv.org/stats/players/11493/sK', 'https://www.hltv.org/stats/players/8372/matHEND', 'https://www.hltv.org/stats/players/1200/hitMouse', 'https://www.hltv.org/stats/players/365/meisoN', 'https://www.hltv.org/stats/players/11492/Noisia', 'https://www.hltv.org/stats/players/7537/xartE', 'https://www.hltv.org/stats/players/1278/pNshr', 'https://www.hltv.org/stats/players/9857/ngiN', 'https://www.hltv.org/stats/players/8302/mistou', 'https://www.hltv.org/stats/players/1331/Xp3', 'https://www.hltv.org/stats/players/7796/wayLander', 'https://www.hltv.org/stats/players/484/Zeus', 'https://www.hltv.org/stats/players/8256/tecek', 'https://www.hltv.org/stats/players/6453/arya', 'https://www.hltv.org/stats/players/1866/Shara', 'https://www.hltv.org/stats/players/3252/LEGIJA', 'https://www.hltv.org/stats/players/1083/AERO', 'https://www.hltv.org/stats/players/8515/hades', 'https://www.hltv.org/stats/players/1154/roman', 'https://www.hltv.org/stats/players/7156/MSL', 'https://www.hltv.org/stats/players/15120/JiNKZ', 'https://www.hltv.org/stats/players/8294/balblna', 'https://www.hltv.org/stats/players/330/MusambaN1', 'https://www.hltv.org/stats/players/10114/BONA', 'https://www.hltv.org/stats/players/499/hooch', 'https://www.hltv.org/stats/players/8504/LeX', 'https://www.hltv.org/stats/players/8600/advent', 'https://www.hltv.org/stats/players/2304/Kirby', 'https://www.hltv.org/stats/players/8794/jasonR', 'https://www.hltv.org/stats/players/5327/nkl', 'https://www.hltv.org/stats/players/163/Loord', 'https://www.hltv.org/stats/players/7462/Fuks', 'https://www.hltv.org/stats/players/8293/It%27s%20my', 'https://www.hltv.org/stats/players/8612/fix', 'https://www.hltv.org/stats/players/10993/torben', 'https://www.hltv.org/stats/players/3887/els', 'https://www.hltv.org/stats/players/6451/FNS', 'https://www.hltv.org/stats/players/9017/MAiNLiNE', 'https://www.hltv.org/stats/players/9882/Polen', 'https://www.hltv.org/stats/players/41/pronax', 'https://www.hltv.org/stats/players/2284/ryk', 'https://www.hltv.org/stats/players/9295/sycrone', 'https://www.hltv.org/stats/players/7797/spiker', 'https://www.hltv.org/stats/players/921/BERRY', 'https://www.hltv.org/stats/players/8521/daps', 'https://www.hltv.org/stats/players/1916/seang%40res', 'https://www.hltv.org/stats/players/11494/Dezibel', 'https://www.hltv.org/stats/players/1328/flowsicK', 'https://www.hltv.org/stats/players/9350/def', 'https://www.hltv.org/stats/players/12572/djL', 'https://www.hltv.org/stats/players/7378/Devilwalk', 'https://www.hltv.org/stats/players/3018/zEVES', 'https://www.hltv.org/stats/players/136/gob%20b', 'https://www.hltv.org/stats/players/1964/Twista', 'https://www.hltv.org/stats/players/8708/Slemmy', 'https://www.hltv.org/stats/players/9637/LONSDALE', 'https://www.hltv.org/stats/players/7217/SolEk', 'https://www.hltv.org/stats/players/3545/haste', 'https://www.hltv.org/stats/players/472/B1ad3', 'https://www.hltv.org/stats/players/7415/HUNDEN', 'https://www.hltv.org/stats/players/6455/OCEAN']\n"
     ]
    }
   ],
   "source": [
    "playersURL = {\"https://www.hltv.org/stats/players\"}\n",
    "\n",
    "baseURL = \"https://www.hltv.org\"\n",
    "\n",
    "#dfURL = pd.DataFrame(columns=[\"URLs\"])\n",
    "URL_List = list()\n",
    "for page in playersURL:\n",
    "    \n",
    "    # Logger message\n",
    "    logger.info('Scraping new player page: %s.' % page)\n",
    "    \n",
    "    # Retrieve HTML\n",
    "    req = urllib.request.Request(page, headers={\"User-Agent\": \"Mozilla/5.0 (Windows NT 6.1) AppleWebKit/537.36 (KHTML, like Gecko) Chrome/41.0.2228.0 Safari/537.3\"})\n",
    "    playerList = urllib.request.urlopen(req).read()\n",
    "    \n",
    "    # Sleep to prevent overflowing website\n",
    "    time.sleep(2)\n",
    "    \n",
    "    # Parse HTML\n",
    "    soup = BeautifulSoup(playerList, \"html.parser\")\n",
    "    \n",
    "    for item in soup.find_all(attrs={\"class\": \"playerCol\"}):\n",
    "        for link in item.find_all(\"a\"):\n",
    "            URL_List.append(baseURL + link.get(\"href\"))\n",
    "\n",
    "print(URL_List)"
   ]
  },
  {
   "cell_type": "markdown",
   "metadata": {
    "papermill": {
     "duration": 0.015004,
     "end_time": "2019-05-10T19:25:29.562747",
     "exception": false,
     "start_time": "2019-05-10T19:25:29.547743",
     "status": "completed"
    },
    "tags": []
   },
   "source": [
    "Having collected a URL list of all the players pages, I downloaded an example page to determine where the nessesary data is being stored. . HLTV is CloudFlare protected, a header parameter is added to the urllib.request to bypass the 403 error returned. A sleep is also used, as too many requests too quickly can result in an IP ban."
   ]
  },
  {
   "cell_type": "markdown",
   "metadata": {
    "papermill": {
     "duration": 0.014003,
     "end_time": "2019-05-10T19:25:29.590753",
     "exception": false,
     "start_time": "2019-05-10T19:25:29.576750",
     "status": "completed"
    },
    "tags": []
   },
   "source": [
    "After deciding on what data needed to be scraped, I created a dataframe to store all the data call dfPlayerStats."
   ]
  },
  {
   "cell_type": "code",
   "execution_count": 3,
   "metadata": {
    "papermill": {
     "duration": 0.025007,
     "end_time": "2019-05-10T19:25:29.628762",
     "exception": false,
     "start_time": "2019-05-10T19:25:29.603755",
     "status": "completed"
    },
    "tags": []
   },
   "outputs": [],
   "source": [
    "# Player statistics\n",
    "dfPlayerStats = pd.DataFrame(columns=[\"Name\", \"Age\", \"Nationality\", \"Team\", \"Rating\", \"Total Kills\", \"Headshot %\", \n",
    "                                      \"Total deaths\", \"K/D Ratio\", \"Damage / Round\", \"Kills / Round\", \"Maps played\"])"
   ]
  },
  {
   "cell_type": "markdown",
   "metadata": {
    "papermill": {
     "duration": 0.013003,
     "end_time": "2019-05-10T19:25:29.655767",
     "exception": false,
     "start_time": "2019-05-10T19:25:29.642764",
     "status": "completed"
    },
    "tags": []
   },
   "source": [
    "Now that we have a list of the correct URLs, we can scrape each page in a similar way to above, and fill the dataframe with the data."
   ]
  },
  {
   "cell_type": "code",
   "execution_count": 4,
   "metadata": {
    "papermill": {
     "duration": 2011.929736,
     "end_time": "2019-05-10T19:59:01.600507",
     "exception": false,
     "start_time": "2019-05-10T19:25:29.670771",
     "status": "completed"
    },
    "tags": []
   },
   "outputs": [
    {
     "name": "stderr",
     "output_type": "stream",
     "text": [
      "2019-05-10 20:25:30.413 | INFO     | __main__:<module>:7 - Scraping new player: https://www.hltv.org/stats/players/11893/ZywOo\n"
     ]
    },
    {
     "name": "stderr",
     "output_type": "stream",
     "text": [
      "2019-05-10 20:25:33.136 | INFO     | __main__:<module>:7 - Scraping new player: https://www.hltv.org/stats/players/7998/s1mple\n"
     ]
    },
    {
     "name": "stderr",
     "output_type": "stream",
     "text": [
      "2019-05-10 20:25:36.556 | INFO     | __main__:<module>:7 - Scraping new player: https://www.hltv.org/stats/players/7938/XANTARES\n"
     ]
    },
    {
     "name": "stderr",
     "output_type": "stream",
     "text": [
      "2019-05-10 20:25:39.536 | INFO     | __main__:<module>:7 - Scraping new player: https://www.hltv.org/stats/players/7131/BnTeT\n"
     ]
    },
    {
     "name": "stderr",
     "output_type": "stream",
     "text": [
      "2019-05-10 20:25:42.915 | INFO     | __main__:<module>:7 - Scraping new player: https://www.hltv.org/stats/players/9216/coldzera\n"
     ]
    },
    {
     "name": "stderr",
     "output_type": "stream",
     "text": [
      "2019-05-10 20:25:46.004 | INFO     | __main__:<module>:7 - Scraping new player: https://www.hltv.org/stats/players/9102/Sico\n"
     ]
    },
    {
     "name": "stderr",
     "output_type": "stream",
     "text": [
      "2019-05-10 20:25:48.984 | INFO     | __main__:<module>:7 - Scraping new player: https://www.hltv.org/stats/players/15631/KSCERATO\n"
     ]
    },
    {
     "name": "stderr",
     "output_type": "stream",
     "text": [
      "2019-05-10 20:25:51.981 | INFO     | __main__:<module>:7 - Scraping new player: https://www.hltv.org/stats/players/8950/Kaze\n"
     ]
    },
    {
     "name": "stderr",
     "output_type": "stream",
     "text": [
      "2019-05-10 20:25:55.057 | INFO     | __main__:<module>:7 - Scraping new player: https://www.hltv.org/stats/players/10774/Freeman\n"
     ]
    },
    {
     "name": "stderr",
     "output_type": "stream",
     "text": [
      "2019-05-10 20:25:58.563 | INFO     | __main__:<module>:7 - Scraping new player: https://www.hltv.org/stats/players/3741/NiKo\n"
     ]
    },
    {
     "name": "stderr",
     "output_type": "stream",
     "text": [
      "2019-05-10 20:26:01.468 | INFO     | __main__:<module>:7 - Scraping new player: https://www.hltv.org/stats/players/8711/Sonic\n"
     ]
    },
    {
     "name": "stderr",
     "output_type": "stream",
     "text": [
      "2019-05-10 20:26:04.478 | INFO     | __main__:<module>:7 - Scraping new player: https://www.hltv.org/stats/players/9960/frozen\n"
     ]
    },
    {
     "name": "stderr",
     "output_type": "stream",
     "text": [
      "2019-05-10 20:26:07.409 | INFO     | __main__:<module>:7 - Scraping new player: https://www.hltv.org/stats/players/11271/smooya\n"
     ]
    },
    {
     "name": "stderr",
     "output_type": "stream",
     "text": [
      "2019-05-10 20:26:10.470 | INFO     | __main__:<module>:7 - Scraping new player: https://www.hltv.org/stats/players/9172/XigN\n"
     ]
    },
    {
     "name": "stderr",
     "output_type": "stream",
     "text": [
      "2019-05-10 20:26:13.296 | INFO     | __main__:<module>:7 - Scraping new player: https://www.hltv.org/stats/players/12553/yuurih\n"
     ]
    },
    {
     "name": "stderr",
     "output_type": "stream",
     "text": [
      "2019-05-10 20:26:16.089 | INFO     | __main__:<module>:7 - Scraping new player: https://www.hltv.org/stats/players/7592/device\n"
     ]
    },
    {
     "name": "stderr",
     "output_type": "stream",
     "text": [
      "2019-05-10 20:26:19.181 | INFO     | __main__:<module>:7 - Scraping new player: https://www.hltv.org/stats/players/9626/XELLOW\n"
     ]
    },
    {
     "name": "stderr",
     "output_type": "stream",
     "text": [
      "2019-05-10 20:26:22.075 | INFO     | __main__:<module>:7 - Scraping new player: https://www.hltv.org/stats/players/5736/kNgV-\n"
     ]
    },
    {
     "name": "stderr",
     "output_type": "stream",
     "text": [
      "2019-05-10 20:26:24.952 | INFO     | __main__:<module>:7 - Scraping new player: https://www.hltv.org/stats/players/8714/cosmeeeN\n"
     ]
    },
    {
     "name": "stderr",
     "output_type": "stream",
     "text": [
      "2019-05-10 20:26:27.667 | INFO     | __main__:<module>:7 - Scraping new player: https://www.hltv.org/stats/players/12591/sterling\n"
     ]
    },
    {
     "name": "stderr",
     "output_type": "stream",
     "text": [
      "2019-05-10 20:26:30.868 | INFO     | __main__:<module>:7 - Scraping new player: https://www.hltv.org/stats/players/12126/poizon\n"
     ]
    },
    {
     "name": "stderr",
     "output_type": "stream",
     "text": [
      "2019-05-10 20:26:33.910 | INFO     | __main__:<module>:7 - Scraping new player: https://www.hltv.org/stats/players/8574/woxic\n"
     ]
    },
    {
     "name": "stderr",
     "output_type": "stream",
     "text": [
      "2019-05-10 20:26:37.031 | INFO     | __main__:<module>:7 - Scraping new player: https://www.hltv.org/stats/players/11219/CeRq\n"
     ]
    },
    {
     "name": "stderr",
     "output_type": "stream",
     "text": [
      "2019-05-10 20:26:39.876 | INFO     | __main__:<module>:7 - Scraping new player: https://www.hltv.org/stats/players/7167/kennyS\n"
     ]
    },
    {
     "name": "stderr",
     "output_type": "stream",
     "text": [
      "2019-05-10 20:26:42.879 | INFO     | __main__:<module>:7 - Scraping new player: https://www.hltv.org/stats/players/8766/dizzyLife\n"
     ]
    },
    {
     "name": "stderr",
     "output_type": "stream",
     "text": [
      "2019-05-10 20:26:46.073 | INFO     | __main__:<module>:7 - Scraping new player: https://www.hltv.org/stats/players/3972/huNter\n"
     ]
    },
    {
     "name": "stderr",
     "output_type": "stream",
     "text": [
      "2019-05-10 20:26:48.851 | INFO     | __main__:<module>:7 - Scraping new player: https://www.hltv.org/stats/players/13670/nawwk\n"
     ]
    },
    {
     "name": "stderr",
     "output_type": "stream",
     "text": [
      "2019-05-10 20:26:51.786 | INFO     | __main__:<module>:7 - Scraping new player: https://www.hltv.org/stats/players/10588/Liazz\n"
     ]
    },
    {
     "name": "stderr",
     "output_type": "stream",
     "text": [
      "2019-05-10 20:26:55.013 | INFO     | __main__:<module>:7 - Scraping new player: https://www.hltv.org/stats/players/11847/Texta\n"
     ]
    },
    {
     "name": "stderr",
     "output_type": "stream",
     "text": [
      "2019-05-10 20:26:58.206 | INFO     | __main__:<module>:7 - Scraping new player: https://www.hltv.org/stats/players/8412/dream3r\n"
     ]
    },
    {
     "name": "stderr",
     "output_type": "stream",
     "text": [
      "2019-05-10 20:27:01.345 | INFO     | __main__:<module>:7 - Scraping new player: https://www.hltv.org/stats/players/10394/Twistzz\n"
     ]
    },
    {
     "name": "stderr",
     "output_type": "stream",
     "text": [
      "2019-05-10 20:27:04.336 | INFO     | __main__:<module>:7 - Scraping new player: https://www.hltv.org/stats/players/11163/trk\n"
     ]
    },
    {
     "name": "stderr",
     "output_type": "stream",
     "text": [
      "2019-05-10 20:27:07.411 | INFO     | __main__:<module>:7 - Scraping new player: https://www.hltv.org/stats/players/9277/FREDDyFROG\n"
     ]
    },
    {
     "name": "stderr",
     "output_type": "stream",
     "text": [
      "2019-05-10 20:27:09.918 | INFO     | __main__:<module>:7 - Scraping new player: https://www.hltv.org/stats/players/11916/sergej\n"
     ]
    },
    {
     "name": "stderr",
     "output_type": "stream",
     "text": [
      "2019-05-10 20:27:13.016 | INFO     | __main__:<module>:7 - Scraping new player: https://www.hltv.org/stats/players/11283/ottoNd\n"
     ]
    },
    {
     "name": "stderr",
     "output_type": "stream",
     "text": [
      "2019-05-10 20:27:16.191 | INFO     | __main__:<module>:7 - Scraping new player: https://www.hltv.org/stats/players/8575/Calyx\n"
     ]
    },
    {
     "name": "stderr",
     "output_type": "stream",
     "text": [
      "2019-05-10 20:27:18.787 | INFO     | __main__:<module>:7 - Scraping new player: https://www.hltv.org/stats/players/9001/ZELIN\n"
     ]
    },
    {
     "name": "stderr",
     "output_type": "stream",
     "text": [
      "2019-05-10 20:27:22.510 | INFO     | __main__:<module>:7 - Scraping new player: https://www.hltv.org/stats/players/2757/GuardiaN\n"
     ]
    },
    {
     "name": "stderr",
     "output_type": "stream",
     "text": [
      "2019-05-10 20:27:25.296 | INFO     | __main__:<module>:7 - Scraping new player: https://www.hltv.org/stats/players/9294/NaToSaphiX\n"
     ]
    },
    {
     "name": "stderr",
     "output_type": "stream",
     "text": [
      "2019-05-10 20:27:28.213 | INFO     | __main__:<module>:7 - Scraping new player: https://www.hltv.org/stats/players/8944/Benkai\n"
     ]
    },
    {
     "name": "stderr",
     "output_type": "stream",
     "text": [
      "2019-05-10 20:27:31.266 | INFO     | __main__:<module>:7 - Scraping new player: https://www.hltv.org/stats/players/13776/Jame\n"
     ]
    },
    {
     "name": "stderr",
     "output_type": "stream",
     "text": [
      "2019-05-10 20:27:34.620 | INFO     | __main__:<module>:7 - Scraping new player: https://www.hltv.org/stats/players/798/oskar\n"
     ]
    },
    {
     "name": "stderr",
     "output_type": "stream",
     "text": [
      "2019-05-10 20:27:37.347 | INFO     | __main__:<module>:7 - Scraping new player: https://www.hltv.org/stats/players/14619/Infinite\n"
     ]
    },
    {
     "name": "stderr",
     "output_type": "stream",
     "text": [
      "2019-05-10 20:27:41.070 | INFO     | __main__:<module>:7 - Scraping new player: https://www.hltv.org/stats/players/29/f0rest\n"
     ]
    },
    {
     "name": "stderr",
     "output_type": "stream",
     "text": [
      "2019-05-10 20:27:44.171 | INFO     | __main__:<module>:7 - Scraping new player: https://www.hltv.org/stats/players/11141/erkaSt\n"
     ]
    },
    {
     "name": "stderr",
     "output_type": "stream",
     "text": [
      "2019-05-10 20:27:47.168 | INFO     | __main__:<module>:7 - Scraping new player: https://www.hltv.org/stats/players/1088/liTTle\n"
     ]
    },
    {
     "name": "stderr",
     "output_type": "stream",
     "text": [
      "2019-05-10 20:27:50.131 | INFO     | __main__:<module>:7 - Scraping new player: https://www.hltv.org/stats/players/9115/dexter\n"
     ]
    },
    {
     "name": "stderr",
     "output_type": "stream",
     "text": [
      "2019-05-10 20:27:52.899 | INFO     | __main__:<module>:7 - Scraping new player: https://www.hltv.org/stats/players/13238/PTC\n"
     ]
    },
    {
     "name": "stderr",
     "output_type": "stream",
     "text": [
      "2019-05-10 20:27:55.411 | INFO     | __main__:<module>:7 - Scraping new player: https://www.hltv.org/stats/players/12271/moose\n"
     ]
    },
    {
     "name": "stderr",
     "output_type": "stream",
     "text": [
      "2019-05-10 20:27:58.544 | INFO     | __main__:<module>:7 - Scraping new player: https://www.hltv.org/stats/players/9136/Brehze\n"
     ]
    },
    {
     "name": "stderr",
     "output_type": "stream",
     "text": [
      "2019-05-10 20:28:01.189 | INFO     | __main__:<module>:7 - Scraping new player: https://www.hltv.org/stats/players/9352/mini\n"
     ]
    },
    {
     "name": "stderr",
     "output_type": "stream",
     "text": [
      "2019-05-10 20:28:04.534 | INFO     | __main__:<module>:7 - Scraping new player: https://www.hltv.org/stats/players/8783/JUGi\n"
     ]
    },
    {
     "name": "stderr",
     "output_type": "stream",
     "text": [
      "2019-05-10 20:28:07.542 | INFO     | __main__:<module>:7 - Scraping new player: https://www.hltv.org/stats/players/8943/splashske\n"
     ]
    },
    {
     "name": "stderr",
     "output_type": "stream",
     "text": [
      "2019-05-10 20:28:10.689 | INFO     | __main__:<module>:7 - Scraping new player: https://www.hltv.org/stats/players/1378/zehN\n"
     ]
    },
    {
     "name": "stderr",
     "output_type": "stream",
     "text": [
      "2019-05-10 20:28:13.550 | INFO     | __main__:<module>:7 - Scraping new player: https://www.hltv.org/stats/players/9884/wrath\n"
     ]
    },
    {
     "name": "stderr",
     "output_type": "stream",
     "text": [
      "2019-05-10 20:28:16.608 | INFO     | __main__:<module>:7 - Scraping new player: https://www.hltv.org/stats/players/8565/HEN1\n"
     ]
    },
    {
     "name": "stderr",
     "output_type": "stream",
     "text": [
      "2019-05-10 20:28:19.810 | INFO     | __main__:<module>:7 - Scraping new player: https://www.hltv.org/stats/players/8918/electronic\n"
     ]
    },
    {
     "name": "stderr",
     "output_type": "stream",
     "text": [
      "2019-05-10 20:28:22.422 | INFO     | __main__:<module>:7 - Scraping new player: https://www.hltv.org/stats/players/9032/Magisk\n"
     ]
    },
    {
     "name": "stderr",
     "output_type": "stream",
     "text": [
      "2019-05-10 20:28:25.289 | INFO     | __main__:<module>:7 - Scraping new player: https://www.hltv.org/stats/players/39/GeT_RiGhT\n"
     ]
    },
    {
     "name": "stderr",
     "output_type": "stream",
     "text": [
      "2019-05-10 20:28:28.541 | INFO     | __main__:<module>:7 - Scraping new player: https://www.hltv.org/stats/players/8552/AttackeR\n"
     ]
    },
    {
     "name": "stderr",
     "output_type": "stream",
     "text": [
      "2019-05-10 20:28:31.767 | INFO     | __main__:<module>:7 - Scraping new player: https://www.hltv.org/stats/players/7028/Summer\n"
     ]
    },
    {
     "name": "stderr",
     "output_type": "stream",
     "text": [
      "2019-05-10 20:28:34.629 | INFO     | __main__:<module>:7 - Scraping new player: https://www.hltv.org/stats/players/12379/Impulse\n"
     ]
    },
    {
     "name": "stderr",
     "output_type": "stream",
     "text": [
      "2019-05-10 20:28:37.299 | INFO     | __main__:<module>:7 - Scraping new player: https://www.hltv.org/stats/players/5021/swag\n"
     ]
    },
    {
     "name": "stderr",
     "output_type": "stream",
     "text": [
      "2019-05-10 20:28:40.118 | INFO     | __main__:<module>:7 - Scraping new player: https://www.hltv.org/stats/players/10722/gas\n"
     ]
    },
    {
     "name": "stderr",
     "output_type": "stream",
     "text": [
      "2019-05-10 20:28:42.948 | INFO     | __main__:<module>:7 - Scraping new player: https://www.hltv.org/stats/players/12733/xsepower\n"
     ]
    },
    {
     "name": "stderr",
     "output_type": "stream",
     "text": [
      "2019-05-10 20:28:46.012 | INFO     | __main__:<module>:7 - Scraping new player: https://www.hltv.org/stats/players/11162/Hatz\n"
     ]
    },
    {
     "name": "stderr",
     "output_type": "stream",
     "text": [
      "2019-05-10 20:28:48.672 | INFO     | __main__:<module>:7 - Scraping new player: https://www.hltv.org/stats/players/4076/Aerial\n"
     ]
    },
    {
     "name": "stderr",
     "output_type": "stream",
     "text": [
      "2019-05-10 20:28:51.669 | INFO     | __main__:<module>:7 - Scraping new player: https://www.hltv.org/stats/players/9247/Machinegun\n"
     ]
    },
    {
     "name": "stderr",
     "output_type": "stream",
     "text": [
      "2019-05-10 20:28:54.765 | INFO     | __main__:<module>:7 - Scraping new player: https://www.hltv.org/stats/players/9031/valde\n"
     ]
    },
    {
     "name": "stderr",
     "output_type": "stream",
     "text": [
      "2019-05-10 20:28:57.654 | INFO     | __main__:<module>:7 - Scraping new player: https://www.hltv.org/stats/players/12715/BL1TZ\n"
     ]
    },
    {
     "name": "stderr",
     "output_type": "stream",
     "text": [
      "2019-05-10 20:29:00.646 | INFO     | __main__:<module>:7 - Scraping new player: https://www.hltv.org/stats/players/11250/Flarich\n"
     ]
    },
    {
     "name": "stderr",
     "output_type": "stream",
     "text": [
      "2019-05-10 20:29:03.947 | INFO     | __main__:<module>:7 - Scraping new player: https://www.hltv.org/stats/players/8370/mixwell\n"
     ]
    },
    {
     "name": "stderr",
     "output_type": "stream",
     "text": [
      "2019-05-10 20:29:06.803 | INFO     | __main__:<module>:7 - Scraping new player: https://www.hltv.org/stats/players/695/allu\n"
     ]
    },
    {
     "name": "stderr",
     "output_type": "stream",
     "text": [
      "2019-05-10 20:29:10.484 | INFO     | __main__:<module>:7 - Scraping new player: https://www.hltv.org/stats/players/1225/shox\n"
     ]
    },
    {
     "name": "stderr",
     "output_type": "stream",
     "text": [
      "2019-05-10 20:29:13.482 | INFO     | __main__:<module>:7 - Scraping new player: https://www.hltv.org/stats/players/10842/KHTEX\n"
     ]
    },
    {
     "name": "stderr",
     "output_type": "stream",
     "text": [
      "2019-05-10 20:29:16.246 | INFO     | __main__:<module>:7 - Scraping new player: https://www.hltv.org/stats/players/13254/TenZ\n"
     ]
    },
    {
     "name": "stderr",
     "output_type": "stream",
     "text": [
      "2019-05-10 20:29:19.196 | INFO     | __main__:<module>:7 - Scraping new player: https://www.hltv.org/stats/players/10263/xccurate\n"
     ]
    },
    {
     "name": "stderr",
     "output_type": "stream",
     "text": [
      "2019-05-10 20:29:22.071 | INFO     | __main__:<module>:7 - Scraping new player: https://www.hltv.org/stats/players/13281/El1an\n"
     ]
    },
    {
     "name": "stderr",
     "output_type": "stream",
     "text": [
      "2019-05-10 20:29:24.904 | INFO     | __main__:<module>:7 - Scraping new player: https://www.hltv.org/stats/players/11154/exit\n"
     ]
    },
    {
     "name": "stderr",
     "output_type": "stream",
     "text": [
      "2019-05-10 20:29:28.021 | INFO     | __main__:<module>:7 - Scraping new player: https://www.hltv.org/stats/players/7910/fejtZ\n"
     ]
    },
    {
     "name": "stderr",
     "output_type": "stream",
     "text": [
      "2019-05-10 20:29:30.914 | INFO     | __main__:<module>:7 - Scraping new player: https://www.hltv.org/stats/players/9616/AmaNEk\n"
     ]
    },
    {
     "name": "stderr",
     "output_type": "stream",
     "text": [
      "2019-05-10 20:29:33.684 | INFO     | __main__:<module>:7 - Scraping new player: https://www.hltv.org/stats/players/8564/fer\n"
     ]
    },
    {
     "name": "stderr",
     "output_type": "stream",
     "text": [
      "2019-05-10 20:29:37.008 | INFO     | __main__:<module>:7 - Scraping new player: https://www.hltv.org/stats/players/13239/qikert\n"
     ]
    },
    {
     "name": "stderr",
     "output_type": "stream",
     "text": [
      "2019-05-10 20:29:39.989 | INFO     | __main__:<module>:7 - Scraping new player: https://www.hltv.org/stats/players/12030/EspiranTo\n"
     ]
    },
    {
     "name": "stderr",
     "output_type": "stream",
     "text": [
      "2019-05-10 20:29:43.578 | INFO     | __main__:<module>:7 - Scraping new player: https://www.hltv.org/stats/players/9618/nexa\n"
     ]
    },
    {
     "name": "stderr",
     "output_type": "stream",
     "text": [
      "2019-05-10 20:29:46.573 | INFO     | __main__:<module>:7 - Scraping new player: https://www.hltv.org/stats/players/11264/WARDELL\n"
     ]
    },
    {
     "name": "stderr",
     "output_type": "stream",
     "text": [
      "2019-05-10 20:29:49.446 | INFO     | __main__:<module>:7 - Scraping new player: https://www.hltv.org/stats/players/13679/nukkye\n"
     ]
    },
    {
     "name": "stderr",
     "output_type": "stream",
     "text": [
      "2019-05-10 20:29:52.001 | INFO     | __main__:<module>:7 - Scraping new player: https://www.hltv.org/stats/players/9895/mertz\n"
     ]
    },
    {
     "name": "stderr",
     "output_type": "stream",
     "text": [
      "2019-05-10 20:29:55.735 | INFO     | __main__:<module>:7 - Scraping new player: https://www.hltv.org/stats/players/7398/dupreeh\n"
     ]
    },
    {
     "name": "stderr",
     "output_type": "stream",
     "text": [
      "2019-05-10 20:29:59.054 | INFO     | __main__:<module>:7 - Scraping new player: https://www.hltv.org/stats/players/8601/zhokiNg\n"
     ]
    },
    {
     "name": "stderr",
     "output_type": "stream",
     "text": [
      "2019-05-10 20:30:01.654 | INFO     | __main__:<module>:7 - Scraping new player: https://www.hltv.org/stats/players/8520/NAF\n"
     ]
    },
    {
     "name": "stderr",
     "output_type": "stream",
     "text": [
      "2019-05-10 20:30:04.558 | INFO     | __main__:<module>:7 - Scraping new player: https://www.hltv.org/stats/players/14932/faveN\n"
     ]
    },
    {
     "name": "stderr",
     "output_type": "stream",
     "text": [
      "2019-05-10 20:30:07.760 | INFO     | __main__:<module>:7 - Scraping new player: https://www.hltv.org/stats/players/9686/Gratisfaction\n"
     ]
    },
    {
     "name": "stderr",
     "output_type": "stream",
     "text": [
      "2019-05-10 20:30:10.756 | INFO     | __main__:<module>:7 - Scraping new player: https://www.hltv.org/stats/players/2529/Maluk3\n"
     ]
    },
    {
     "name": "stderr",
     "output_type": "stream",
     "text": [
      "2019-05-10 20:30:14.245 | INFO     | __main__:<module>:7 - Scraping new player: https://www.hltv.org/stats/players/7256/nex\n"
     ]
    },
    {
     "name": "stderr",
     "output_type": "stream",
     "text": [
      "2019-05-10 20:30:17.119 | INFO     | __main__:<module>:7 - Scraping new player: https://www.hltv.org/stats/players/10449/ISSAA\n"
     ]
    },
    {
     "name": "stderr",
     "output_type": "stream",
     "text": [
      "2019-05-10 20:30:20.018 | INFO     | __main__:<module>:7 - Scraping new player: https://www.hltv.org/stats/players/13915/YEKINDAR\n"
     ]
    },
    {
     "name": "stderr",
     "output_type": "stream",
     "text": [
      "2019-05-10 20:30:23.156 | INFO     | __main__:<module>:7 - Scraping new player: https://www.hltv.org/stats/players/180/Savage\n"
     ]
    },
    {
     "name": "stderr",
     "output_type": "stream",
     "text": [
      "2019-05-10 20:30:26.837 | INFO     | __main__:<module>:7 - Scraping new player: https://www.hltv.org/stats/players/7390/ScreaM\n"
     ]
    },
    {
     "name": "stderr",
     "output_type": "stream",
     "text": [
      "2019-05-10 20:30:30.458 | INFO     | __main__:<module>:7 - Scraping new player: https://www.hltv.org/stats/players/885/olofmeister\n"
     ]
    },
    {
     "name": "stderr",
     "output_type": "stream",
     "text": [
      "2019-05-10 20:30:33.891 | INFO     | __main__:<module>:7 - Scraping new player: https://www.hltv.org/stats/players/2023/FalleN\n"
     ]
    },
    {
     "name": "stderr",
     "output_type": "stream",
     "text": [
      "2019-05-10 20:30:36.767 | INFO     | __main__:<module>:7 - Scraping new player: https://www.hltv.org/stats/players/12731/somedieyoung\n"
     ]
    },
    {
     "name": "stderr",
     "output_type": "stream",
     "text": [
      "2019-05-10 20:30:39.491 | INFO     | __main__:<module>:7 - Scraping new player: https://www.hltv.org/stats/players/10504/NikoM\n"
     ]
    },
    {
     "name": "stderr",
     "output_type": "stream",
     "text": [
      "2019-05-10 20:30:42.333 | INFO     | __main__:<module>:7 - Scraping new player: https://www.hltv.org/stats/players/15007/Cooper-\n"
     ]
    },
    {
     "name": "stderr",
     "output_type": "stream",
     "text": [
      "2019-05-10 20:30:45.484 | INFO     | __main__:<module>:7 - Scraping new player: https://www.hltv.org/stats/players/4679/jks\n"
     ]
    },
    {
     "name": "stderr",
     "output_type": "stream",
     "text": [
      "2019-05-10 20:30:48.849 | INFO     | __main__:<module>:7 - Scraping new player: https://www.hltv.org/stats/players/9078/k0nfig\n"
     ]
    },
    {
     "name": "stderr",
     "output_type": "stream",
     "text": [
      "2019-05-10 20:30:52.177 | INFO     | __main__:<module>:7 - Scraping new player: https://www.hltv.org/stats/players/10671/Ethan\n"
     ]
    },
    {
     "name": "stderr",
     "output_type": "stream",
     "text": [
      "2019-05-10 20:30:55.115 | INFO     | __main__:<module>:7 - Scraping new player: https://www.hltv.org/stats/players/9042/ryx\n"
     ]
    },
    {
     "name": "stderr",
     "output_type": "stream",
     "text": [
      "2019-05-10 20:30:57.804 | INFO     | __main__:<module>:7 - Scraping new player: https://www.hltv.org/stats/players/13980/lollipop21k\n"
     ]
    },
    {
     "name": "stderr",
     "output_type": "stream",
     "text": [
      "2019-05-10 20:31:00.486 | INFO     | __main__:<module>:7 - Scraping new player: https://www.hltv.org/stats/players/8735/autimatic\n"
     ]
    },
    {
     "name": "stderr",
     "output_type": "stream",
     "text": [
      "2019-05-10 20:31:03.230 | INFO     | __main__:<module>:7 - Scraping new player: https://www.hltv.org/stats/players/12564/Geniuss\n"
     ]
    },
    {
     "name": "stderr",
     "output_type": "stream",
     "text": [
      "2019-05-10 20:31:07.095 | INFO     | __main__:<module>:7 - Scraping new player: https://www.hltv.org/stats/players/7356/MICHU\n"
     ]
    },
    {
     "name": "stderr",
     "output_type": "stream",
     "text": [
      "2019-05-10 20:31:09.979 | INFO     | __main__:<module>:7 - Scraping new player: https://www.hltv.org/stats/players/10664/Olivia\n"
     ]
    },
    {
     "name": "stderr",
     "output_type": "stream",
     "text": [
      "2019-05-10 20:31:13.118 | INFO     | __main__:<module>:7 - Scraping new player: https://www.hltv.org/stats/players/11140/INS\n"
     ]
    },
    {
     "name": "stderr",
     "output_type": "stream",
     "text": [
      "2019-05-10 20:31:16.576 | INFO     | __main__:<module>:7 - Scraping new player: https://www.hltv.org/stats/players/7810/ShahZaM\n"
     ]
    },
    {
     "name": "stderr",
     "output_type": "stream",
     "text": [
      "2019-05-10 20:31:19.085 | INFO     | __main__:<module>:7 - Scraping new player: https://www.hltv.org/stats/players/9353/paz\n"
     ]
    },
    {
     "name": "stderr",
     "output_type": "stream",
     "text": [
      "2019-05-10 20:31:22.133 | INFO     | __main__:<module>:7 - Scraping new player: https://www.hltv.org/stats/players/3543/DJOXiC\n"
     ]
    },
    {
     "name": "stderr",
     "output_type": "stream",
     "text": [
      "2019-05-10 20:31:25.627 | INFO     | __main__:<module>:7 - Scraping new player: https://www.hltv.org/stats/players/5479/suNny\n"
     ]
    },
    {
     "name": "stderr",
     "output_type": "stream",
     "text": [
      "2019-05-10 20:31:28.815 | INFO     | __main__:<module>:7 - Scraping new player: https://www.hltv.org/stats/players/9056/koosta\n"
     ]
    },
    {
     "name": "stderr",
     "output_type": "stream",
     "text": [
      "2019-05-10 20:31:32.241 | INFO     | __main__:<module>:7 - Scraping new player: https://www.hltv.org/stats/players/9255/draken\n"
     ]
    },
    {
     "name": "stderr",
     "output_type": "stream",
     "text": [
      "2019-05-10 20:31:35.617 | INFO     | __main__:<module>:7 - Scraping new player: https://www.hltv.org/stats/players/11816/ropz\n"
     ]
    },
    {
     "name": "stderr",
     "output_type": "stream",
     "text": [
      "2019-05-10 20:31:39.230 | INFO     | __main__:<module>:7 - Scraping new player: https://www.hltv.org/stats/players/7443/twist\n"
     ]
    },
    {
     "name": "stderr",
     "output_type": "stream",
     "text": [
      "2019-05-10 20:31:42.101 | INFO     | __main__:<module>:7 - Scraping new player: https://www.hltv.org/stats/players/12521/arT\n"
     ]
    },
    {
     "name": "stderr",
     "output_type": "stream",
     "text": [
      "2019-05-10 20:31:45.229 | INFO     | __main__:<module>:7 - Scraping new player: https://www.hltv.org/stats/players/5799/keev\n"
     ]
    },
    {
     "name": "stderr",
     "output_type": "stream",
     "text": [
      "2019-05-10 20:31:48.774 | INFO     | __main__:<module>:7 - Scraping new player: https://www.hltv.org/stats/players/7266/syrsoN\n"
     ]
    },
    {
     "name": "stderr",
     "output_type": "stream",
     "text": [
      "2019-05-10 20:31:52.467 | INFO     | __main__:<module>:7 - Scraping new player: https://www.hltv.org/stats/players/7403/WorldEdit\n"
     ]
    },
    {
     "name": "stderr",
     "output_type": "stream",
     "text": [
      "2019-05-10 20:31:55.278 | INFO     | __main__:<module>:7 - Scraping new player: https://www.hltv.org/stats/players/13497/Lucky\n"
     ]
    },
    {
     "name": "stderr",
     "output_type": "stream",
     "text": [
      "2019-05-10 20:31:58.264 | INFO     | __main__:<module>:7 - Scraping new player: https://www.hltv.org/stats/players/9108/tucks\n"
     ]
    },
    {
     "name": "stderr",
     "output_type": "stream",
     "text": [
      "2019-05-10 20:32:01.425 | INFO     | __main__:<module>:7 - Scraping new player: https://www.hltv.org/stats/players/10038/Sayf\n"
     ]
    },
    {
     "name": "stderr",
     "output_type": "stream",
     "text": [
      "2019-05-10 20:32:04.635 | INFO     | __main__:<module>:7 - Scraping new player: https://www.hltv.org/stats/players/8526/smike\n"
     ]
    },
    {
     "name": "stderr",
     "output_type": "stream",
     "text": [
      "2019-05-10 20:32:07.835 | INFO     | __main__:<module>:7 - Scraping new player: https://www.hltv.org/stats/players/7996/CRUC1AL\n"
     ]
    },
    {
     "name": "stderr",
     "output_type": "stream",
     "text": [
      "2019-05-10 20:32:10.749 | INFO     | __main__:<module>:7 - Scraping new player: https://www.hltv.org/stats/players/10168/bottle\n"
     ]
    },
    {
     "name": "stderr",
     "output_type": "stream",
     "text": [
      "2019-05-10 20:32:14.574 | INFO     | __main__:<module>:7 - Scraping new player: https://www.hltv.org/stats/players/2469/cajunb\n"
     ]
    },
    {
     "name": "stderr",
     "output_type": "stream",
     "text": [
      "2019-05-10 20:32:17.825 | INFO     | __main__:<module>:7 - Scraping new player: https://www.hltv.org/stats/players/7026/DD\n"
     ]
    },
    {
     "name": "stderr",
     "output_type": "stream",
     "text": [
      "2019-05-10 20:32:21.381 | INFO     | __main__:<module>:7 - Scraping new player: https://www.hltv.org/stats/players/8738/EliGE\n"
     ]
    },
    {
     "name": "stderr",
     "output_type": "stream",
     "text": [
      "2019-05-10 20:32:24.212 | INFO     | __main__:<module>:7 - Scraping new player: https://www.hltv.org/stats/players/9218/xand\n"
     ]
    },
    {
     "name": "stderr",
     "output_type": "stream",
     "text": [
      "2019-05-10 20:32:27.471 | INFO     | __main__:<module>:7 - Scraping new player: https://www.hltv.org/stats/players/8848/Ryxxo\n"
     ]
    },
    {
     "name": "stderr",
     "output_type": "stream",
     "text": [
      "2019-05-10 20:32:30.398 | INFO     | __main__:<module>:7 - Scraping new player: https://www.hltv.org/stats/players/7016/HZ\n"
     ]
    },
    {
     "name": "stderr",
     "output_type": "stream",
     "text": [
      "2019-05-10 20:32:33.328 | INFO     | __main__:<module>:7 - Scraping new player: https://www.hltv.org/stats/players/9288/TOR\n"
     ]
    },
    {
     "name": "stderr",
     "output_type": "stream",
     "text": [
      "2019-05-10 20:32:36.191 | INFO     | __main__:<module>:7 - Scraping new player: https://www.hltv.org/stats/players/3055/flusha\n"
     ]
    },
    {
     "name": "stderr",
     "output_type": "stream",
     "text": [
      "2019-05-10 20:32:39.123 | INFO     | __main__:<module>:7 - Scraping new player: https://www.hltv.org/stats/players/10587/InfrequeNt\n"
     ]
    },
    {
     "name": "stderr",
     "output_type": "stream",
     "text": [
      "2019-05-10 20:32:41.946 | INFO     | __main__:<module>:7 - Scraping new player: https://www.hltv.org/stats/players/8503/fl0m\n"
     ]
    },
    {
     "name": "stderr",
     "output_type": "stream",
     "text": [
      "2019-05-10 20:32:45.989 | INFO     | __main__:<module>:7 - Scraping new player: https://www.hltv.org/stats/players/8767/ofnu\n"
     ]
    },
    {
     "name": "stderr",
     "output_type": "stream",
     "text": [
      "2019-05-10 20:32:50.669 | INFO     | __main__:<module>:7 - Scraping new player: https://www.hltv.org/stats/players/8707/ptr\n"
     ]
    },
    {
     "name": "stderr",
     "output_type": "stream",
     "text": [
      "2019-05-10 20:32:54.276 | INFO     | __main__:<module>:7 - Scraping new player: https://www.hltv.org/stats/players/3871/downie\n"
     ]
    },
    {
     "name": "stderr",
     "output_type": "stream",
     "text": [
      "2019-05-10 20:32:57.475 | INFO     | __main__:<module>:7 - Scraping new player: https://www.hltv.org/stats/players/11842/Ramz1k\n"
     ]
    },
    {
     "name": "stderr",
     "output_type": "stream",
     "text": [
      "2019-05-10 20:33:00.604 | INFO     | __main__:<module>:7 - Scraping new player: https://www.hltv.org/stats/players/11739/shz\n"
     ]
    },
    {
     "name": "stderr",
     "output_type": "stream",
     "text": [
      "2019-05-10 20:33:04.777 | INFO     | __main__:<module>:7 - Scraping new player: https://www.hltv.org/stats/players/8605/somebody\n"
     ]
    },
    {
     "name": "stderr",
     "output_type": "stream",
     "text": [
      "2019-05-10 20:33:08.028 | INFO     | __main__:<module>:7 - Scraping new player: https://www.hltv.org/stats/players/8789/mir\n"
     ]
    },
    {
     "name": "stderr",
     "output_type": "stream",
     "text": [
      "2019-05-10 20:33:11.001 | INFO     | __main__:<module>:7 - Scraping new player: https://www.hltv.org/stats/players/9676/NikkeZ\n"
     ]
    },
    {
     "name": "stderr",
     "output_type": "stream",
     "text": [
      "2019-05-10 20:33:14.235 | INFO     | __main__:<module>:7 - Scraping new player: https://www.hltv.org/stats/players/11343/SHiPZ\n"
     ]
    },
    {
     "name": "stderr",
     "output_type": "stream",
     "text": [
      "2019-05-10 20:33:17.478 | INFO     | __main__:<module>:7 - Scraping new player: https://www.hltv.org/stats/players/8917/niki1\n"
     ]
    },
    {
     "name": "stderr",
     "output_type": "stream",
     "text": [
      "2019-05-10 20:33:20.526 | INFO     | __main__:<module>:7 - Scraping new player: https://www.hltv.org/stats/players/10818/iDk\n"
     ]
    },
    {
     "name": "stderr",
     "output_type": "stream",
     "text": [
      "2019-05-10 20:33:23.468 | INFO     | __main__:<module>:7 - Scraping new player: https://www.hltv.org/stats/players/9317/AnJ\n"
     ]
    },
    {
     "name": "stderr",
     "output_type": "stream",
     "text": [
      "2019-05-10 20:33:27.897 | INFO     | __main__:<module>:7 - Scraping new player: https://www.hltv.org/stats/players/8124/DavCost\n"
     ]
    },
    {
     "name": "stderr",
     "output_type": "stream",
     "text": [
      "2019-05-10 20:33:31.685 | INFO     | __main__:<module>:7 - Scraping new player: https://www.hltv.org/stats/players/3849/JW\n"
     ]
    },
    {
     "name": "stderr",
     "output_type": "stream",
     "text": [
      "2019-05-10 20:33:34.763 | INFO     | __main__:<module>:7 - Scraping new player: https://www.hltv.org/stats/players/7993/Detrony\n"
     ]
    },
    {
     "name": "stderr",
     "output_type": "stream",
     "text": [
      "2019-05-10 20:33:37.414 | INFO     | __main__:<module>:7 - Scraping new player: https://www.hltv.org/stats/players/8349/shroud\n"
     ]
    },
    {
     "name": "stderr",
     "output_type": "stream",
     "text": [
      "2019-05-10 20:33:40.397 | INFO     | __main__:<module>:7 - Scraping new player: https://www.hltv.org/stats/players/284/JaCkz\n"
     ]
    },
    {
     "name": "stderr",
     "output_type": "stream",
     "text": [
      "2019-05-10 20:33:43.314 | INFO     | __main__:<module>:7 - Scraping new player: https://www.hltv.org/stats/players/8555/jayzaR\n"
     ]
    },
    {
     "name": "stderr",
     "output_type": "stream",
     "text": [
      "2019-05-10 20:33:46.730 | INFO     | __main__:<module>:7 - Scraping new player: https://www.hltv.org/stats/players/7154/Pimp\n"
     ]
    },
    {
     "name": "stderr",
     "output_type": "stream",
     "text": [
      "2019-05-10 20:33:50.225 | INFO     | __main__:<module>:7 - Scraping new player: https://www.hltv.org/stats/players/8523/tarik\n"
     ]
    },
    {
     "name": "stderr",
     "output_type": "stream",
     "text": [
      "2019-05-10 20:33:53.256 | INFO     | __main__:<module>:7 - Scraping new player: https://www.hltv.org/stats/players/10761/NK4Y\n"
     ]
    },
    {
     "name": "stderr",
     "output_type": "stream",
     "text": [
      "2019-05-10 20:33:56.106 | INFO     | __main__:<module>:7 - Scraping new player: https://www.hltv.org/stats/players/9289/qqGOD\n"
     ]
    },
    {
     "name": "stderr",
     "output_type": "stream",
     "text": [
      "2019-05-10 20:33:59.879 | INFO     | __main__:<module>:7 - Scraping new player: https://www.hltv.org/stats/players/7429/Happy\n"
     ]
    },
    {
     "name": "stderr",
     "output_type": "stream",
     "text": [
      "2019-05-10 20:34:02.864 | INFO     | __main__:<module>:7 - Scraping new player: https://www.hltv.org/stats/players/13666/Brollan\n"
     ]
    },
    {
     "name": "stderr",
     "output_type": "stream",
     "text": [
      "2019-05-10 20:34:05.915 | INFO     | __main__:<module>:7 - Scraping new player: https://www.hltv.org/stats/players/9219/felps\n"
     ]
    },
    {
     "name": "stderr",
     "output_type": "stream",
     "text": [
      "2019-05-10 20:34:09.125 | INFO     | __main__:<module>:7 - Scraping new player: https://www.hltv.org/stats/players/9083/COLDYY1\n"
     ]
    },
    {
     "name": "stderr",
     "output_type": "stream",
     "text": [
      "2019-05-10 20:34:12.124 | INFO     | __main__:<module>:7 - Scraping new player: https://www.hltv.org/stats/players/9656/hAdji\n"
     ]
    },
    {
     "name": "stderr",
     "output_type": "stream",
     "text": [
      "2019-05-10 20:34:15.300 | INFO     | __main__:<module>:7 - Scraping new player: https://www.hltv.org/stats/players/3997/loWel\n"
     ]
    },
    {
     "name": "stderr",
     "output_type": "stream",
     "text": [
      "2019-05-10 20:34:18.120 | INFO     | __main__:<module>:7 - Scraping new player: https://www.hltv.org/stats/players/10499/JonY%20BoY\n"
     ]
    },
    {
     "name": "stderr",
     "output_type": "stream",
     "text": [
      "2019-05-10 20:34:21.089 | INFO     | __main__:<module>:7 - Scraping new player: https://www.hltv.org/stats/players/557/fnx\n"
     ]
    },
    {
     "name": "stderr",
     "output_type": "stream",
     "text": [
      "2019-05-10 20:34:23.954 | INFO     | __main__:<module>:7 - Scraping new player: https://www.hltv.org/stats/players/14218/Plopski\n"
     ]
    },
    {
     "name": "stderr",
     "output_type": "stream",
     "text": [
      "2019-05-10 20:34:27.714 | INFO     | __main__:<module>:7 - Scraping new player: https://www.hltv.org/stats/players/7528/KRIMZ\n"
     ]
    },
    {
     "name": "stderr",
     "output_type": "stream",
     "text": [
      "2019-05-10 20:34:31.011 | INFO     | __main__:<module>:7 - Scraping new player: https://www.hltv.org/stats/players/8568/boltz\n"
     ]
    },
    {
     "name": "stderr",
     "output_type": "stream",
     "text": [
      "2019-05-10 20:34:34.405 | INFO     | __main__:<module>:7 - Scraping new player: https://www.hltv.org/stats/players/11737/RIKO\n"
     ]
    },
    {
     "name": "stderr",
     "output_type": "stream",
     "text": [
      "2019-05-10 20:34:37.264 | INFO     | __main__:<module>:7 - Scraping new player: https://www.hltv.org/stats/players/10892/MarKE\n"
     ]
    },
    {
     "name": "stderr",
     "output_type": "stream",
     "text": [
      "2019-05-10 20:34:41.172 | INFO     | __main__:<module>:7 - Scraping new player: https://www.hltv.org/stats/players/5794/tabseN\n"
     ]
    },
    {
     "name": "stderr",
     "output_type": "stream",
     "text": [
      "2019-05-10 20:34:44.267 | INFO     | __main__:<module>:7 - Scraping new player: https://www.hltv.org/stats/players/11139/aliStair\n"
     ]
    },
    {
     "name": "stderr",
     "output_type": "stream",
     "text": [
      "2019-05-10 20:34:47.047 | INFO     | __main__:<module>:7 - Scraping new player: https://www.hltv.org/stats/players/13230/motm\n"
     ]
    },
    {
     "name": "stderr",
     "output_type": "stream",
     "text": [
      "2019-05-10 20:34:49.838 | INFO     | __main__:<module>:7 - Scraping new player: https://www.hltv.org/stats/players/13229/Snakes\n"
     ]
    },
    {
     "name": "stderr",
     "output_type": "stream",
     "text": [
      "2019-05-10 20:34:53.333 | INFO     | __main__:<module>:7 - Scraping new player: https://www.hltv.org/stats/players/8183/rain\n"
     ]
    },
    {
     "name": "stderr",
     "output_type": "stream",
     "text": [
      "2019-05-10 20:34:56.266 | INFO     | __main__:<module>:7 - Scraping new player: https://www.hltv.org/stats/players/9279/Relaxa\n"
     ]
    },
    {
     "name": "stderr",
     "output_type": "stream",
     "text": [
      "2019-05-10 20:34:59.352 | INFO     | __main__:<module>:7 - Scraping new player: https://www.hltv.org/stats/players/11485/malta\n"
     ]
    },
    {
     "name": "stderr",
     "output_type": "stream",
     "text": [
      "2019-05-10 20:35:02.795 | INFO     | __main__:<module>:7 - Scraping new player: https://www.hltv.org/stats/players/7440/Skadoodle\n"
     ]
    },
    {
     "name": "stderr",
     "output_type": "stream",
     "text": [
      "2019-05-10 20:35:05.693 | INFO     | __main__:<module>:7 - Scraping new player: https://www.hltv.org/stats/players/10397/cromen\n"
     ]
    },
    {
     "name": "stderr",
     "output_type": "stream",
     "text": [
      "2019-05-10 20:35:09.200 | INFO     | __main__:<module>:7 - Scraping new player: https://www.hltv.org/stats/players/964/mou\n"
     ]
    },
    {
     "name": "stderr",
     "output_type": "stream",
     "text": [
      "2019-05-10 20:35:12.525 | INFO     | __main__:<module>:7 - Scraping new player: https://www.hltv.org/stats/players/8994/HS\n"
     ]
    },
    {
     "name": "stderr",
     "output_type": "stream",
     "text": [
      "2019-05-10 20:35:15.358 | INFO     | __main__:<module>:7 - Scraping new player: https://www.hltv.org/stats/players/9683/IyeN\n"
     ]
    },
    {
     "name": "stderr",
     "output_type": "stream",
     "text": [
      "2019-05-10 20:35:18.771 | INFO     | __main__:<module>:7 - Scraping new player: https://www.hltv.org/stats/players/8394/Kjaerbye\n"
     ]
    },
    {
     "name": "stderr",
     "output_type": "stream",
     "text": [
      "2019-05-10 20:35:21.795 | INFO     | __main__:<module>:7 - Scraping new player: https://www.hltv.org/stats/players/8764/zewsy\n"
     ]
    },
    {
     "name": "stderr",
     "output_type": "stream",
     "text": [
      "2019-05-10 20:35:24.663 | INFO     | __main__:<module>:7 - Scraping new player: https://www.hltv.org/stats/players/11355/QKA\n"
     ]
    },
    {
     "name": "stderr",
     "output_type": "stream",
     "text": [
      "2019-05-10 20:35:27.813 | INFO     | __main__:<module>:7 - Scraping new player: https://www.hltv.org/stats/players/8528/Hobbit\n"
     ]
    },
    {
     "name": "stderr",
     "output_type": "stream",
     "text": [
      "2019-05-10 20:35:30.937 | INFO     | __main__:<module>:7 - Scraping new player: https://www.hltv.org/stats/players/10557/land1n\n"
     ]
    },
    {
     "name": "stderr",
     "output_type": "stream",
     "text": [
      "2019-05-10 20:35:33.915 | INFO     | __main__:<module>:7 - Scraping new player: https://www.hltv.org/stats/players/11586/dapr\n"
     ]
    },
    {
     "name": "stderr",
     "output_type": "stream",
     "text": [
      "2019-05-10 20:35:36.746 | INFO     | __main__:<module>:7 - Scraping new player: https://www.hltv.org/stats/players/7322/apEX\n"
     ]
    },
    {
     "name": "stderr",
     "output_type": "stream",
     "text": [
      "2019-05-10 20:35:39.857 | INFO     | __main__:<module>:7 - Scraping new player: https://www.hltv.org/stats/players/11748/raafa\n"
     ]
    },
    {
     "name": "stderr",
     "output_type": "stream",
     "text": [
      "2019-05-10 20:35:42.732 | INFO     | __main__:<module>:7 - Scraping new player: https://www.hltv.org/stats/players/7594/flamie\n"
     ]
    },
    {
     "name": "stderr",
     "output_type": "stream",
     "text": [
      "2019-05-10 20:35:45.565 | INFO     | __main__:<module>:7 - Scraping new player: https://www.hltv.org/stats/players/8953/Sys\n"
     ]
    },
    {
     "name": "stderr",
     "output_type": "stream",
     "text": [
      "2019-05-10 20:35:48.607 | INFO     | __main__:<module>:7 - Scraping new player: https://www.hltv.org/stats/players/11942/buster\n"
     ]
    },
    {
     "name": "stderr",
     "output_type": "stream",
     "text": [
      "2019-05-10 20:35:52.331 | INFO     | __main__:<module>:7 - Scraping new player: https://www.hltv.org/stats/players/2799/bubble\n"
     ]
    },
    {
     "name": "stderr",
     "output_type": "stream",
     "text": [
      "2019-05-10 20:35:55.842 | INFO     | __main__:<module>:7 - Scraping new player: https://www.hltv.org/stats/players/5388/rallen\n"
     ]
    },
    {
     "name": "stderr",
     "output_type": "stream",
     "text": [
      "2019-05-10 20:35:58.710 | INFO     | __main__:<module>:7 - Scraping new player: https://www.hltv.org/stats/players/12094/1962\n"
     ]
    },
    {
     "name": "stderr",
     "output_type": "stream",
     "text": [
      "2019-05-10 20:36:01.570 | INFO     | __main__:<module>:7 - Scraping new player: https://www.hltv.org/stats/players/2553/Snax\n"
     ]
    },
    {
     "name": "stderr",
     "output_type": "stream",
     "text": [
      "2019-05-10 20:36:04.596 | INFO     | __main__:<module>:7 - Scraping new player: https://www.hltv.org/stats/players/9174/HSK\n"
     ]
    },
    {
     "name": "stderr",
     "output_type": "stream",
     "text": [
      "2019-05-10 20:36:07.780 | INFO     | __main__:<module>:7 - Scraping new player: https://www.hltv.org/stats/players/9258/SicK\n"
     ]
    },
    {
     "name": "stderr",
     "output_type": "stream",
     "text": [
      "2019-05-10 20:36:10.638 | INFO     | __main__:<module>:7 - Scraping new player: https://www.hltv.org/stats/players/11654/almazer\n"
     ]
    },
    {
     "name": "stderr",
     "output_type": "stream",
     "text": [
      "2019-05-10 20:36:13.948 | INFO     | __main__:<module>:7 - Scraping new player: https://www.hltv.org/stats/players/9256/disco%20doplan\n"
     ]
    },
    {
     "name": "stderr",
     "output_type": "stream",
     "text": [
      "2019-05-10 20:36:16.961 | INFO     | __main__:<module>:7 - Scraping new player: https://www.hltv.org/stats/players/11576/shuadapai\n"
     ]
    },
    {
     "name": "stderr",
     "output_type": "stream",
     "text": [
      "2019-05-10 20:36:20.005 | INFO     | __main__:<module>:7 - Scraping new player: https://www.hltv.org/stats/players/8745/Rickeh\n"
     ]
    },
    {
     "name": "stderr",
     "output_type": "stream",
     "text": [
      "2019-05-10 20:36:22.829 | INFO     | __main__:<module>:7 - Scraping new player: https://www.hltv.org/stats/players/9271/sLowi\n"
     ]
    },
    {
     "name": "stderr",
     "output_type": "stream",
     "text": [
      "2019-05-10 20:36:26.771 | INFO     | __main__:<module>:7 - Scraping new player: https://www.hltv.org/stats/players/8797/Stewie2K\n"
     ]
    },
    {
     "name": "stderr",
     "output_type": "stream",
     "text": [
      "2019-05-10 20:36:29.929 | INFO     | __main__:<module>:7 - Scraping new player: https://www.hltv.org/stats/players/9278/REZ\n"
     ]
    },
    {
     "name": "stderr",
     "output_type": "stream",
     "text": [
      "2019-05-10 20:36:32.801 | INFO     | __main__:<module>:7 - Scraping new player: https://www.hltv.org/stats/players/8784/SandeN\n"
     ]
    },
    {
     "name": "stderr",
     "output_type": "stream",
     "text": [
      "2019-05-10 20:36:35.809 | INFO     | __main__:<module>:7 - Scraping new player: https://www.hltv.org/stats/players/10330/acoR\n"
     ]
    },
    {
     "name": "stderr",
     "output_type": "stream",
     "text": [
      "2019-05-10 20:36:38.631 | INFO     | __main__:<module>:7 - Scraping new player: https://www.hltv.org/stats/players/13780/dimasick\n"
     ]
    },
    {
     "name": "stderr",
     "output_type": "stream",
     "text": [
      "2019-05-10 20:36:41.544 | INFO     | __main__:<module>:7 - Scraping new player: https://www.hltv.org/stats/players/10589/rommi\n"
     ]
    },
    {
     "name": "stderr",
     "output_type": "stream",
     "text": [
      "2019-05-10 20:36:44.866 | INFO     | __main__:<module>:7 - Scraping new player: https://www.hltv.org/stats/players/8576/ZOREE\n"
     ]
    },
    {
     "name": "stderr",
     "output_type": "stream",
     "text": [
      "2019-05-10 20:36:47.886 | INFO     | __main__:<module>:7 - Scraping new player: https://www.hltv.org/stats/players/10610/refrezh\n"
     ]
    },
    {
     "name": "stderr",
     "output_type": "stream",
     "text": [
      "2019-05-10 20:36:50.778 | INFO     | __main__:<module>:7 - Scraping new player: https://www.hltv.org/stats/players/13188/Zellsis\n"
     ]
    },
    {
     "name": "stderr",
     "output_type": "stream",
     "text": [
      "2019-05-10 20:36:53.697 | INFO     | __main__:<module>:7 - Scraping new player: https://www.hltv.org/stats/players/10436/sXe\n"
     ]
    },
    {
     "name": "stderr",
     "output_type": "stream",
     "text": [
      "2019-05-10 20:36:56.655 | INFO     | __main__:<module>:7 - Scraping new player: https://www.hltv.org/stats/players/10566/chelo\n"
     ]
    },
    {
     "name": "stderr",
     "output_type": "stream",
     "text": [
      "2019-05-10 20:36:59.500 | INFO     | __main__:<module>:7 - Scraping new player: https://www.hltv.org/stats/players/9169/moxie\n"
     ]
    },
    {
     "name": "stderr",
     "output_type": "stream",
     "text": [
      "2019-05-10 20:37:02.449 | INFO     | __main__:<module>:7 - Scraping new player: https://www.hltv.org/stats/players/10698/kolor\n"
     ]
    },
    {
     "name": "stderr",
     "output_type": "stream",
     "text": [
      "2019-05-10 20:37:05.677 | INFO     | __main__:<module>:7 - Scraping new player: https://www.hltv.org/stats/players/8604/aumaN\n"
     ]
    },
    {
     "name": "stderr",
     "output_type": "stream",
     "text": [
      "2019-05-10 20:37:09.147 | INFO     | __main__:<module>:7 - Scraping new player: https://www.hltv.org/stats/players/7964/cadiaN\n"
     ]
    },
    {
     "name": "stderr",
     "output_type": "stream",
     "text": [
      "2019-05-10 20:37:12.154 | INFO     | __main__:<module>:7 - Scraping new player: https://www.hltv.org/stats/players/8371/ALEX\n"
     ]
    },
    {
     "name": "stderr",
     "output_type": "stream",
     "text": [
      "2019-05-10 20:37:15.142 | INFO     | __main__:<module>:7 - Scraping new player: https://www.hltv.org/stats/players/11840/Boombl4\n"
     ]
    },
    {
     "name": "stderr",
     "output_type": "stream",
     "text": [
      "2019-05-10 20:37:18.488 | INFO     | __main__:<module>:7 - Scraping new player: https://www.hltv.org/stats/players/4216/LETN1\n"
     ]
    },
    {
     "name": "stderr",
     "output_type": "stream",
     "text": [
      "2019-05-10 20:37:21.665 | INFO     | __main__:<module>:7 - Scraping new player: https://www.hltv.org/stats/players/5187/captainMo\n"
     ]
    },
    {
     "name": "stderr",
     "output_type": "stream",
     "text": [
      "2019-05-10 20:37:24.554 | INFO     | __main__:<module>:7 - Scraping new player: https://www.hltv.org/stats/players/9521/dobu\n"
     ]
    },
    {
     "name": "stderr",
     "output_type": "stream",
     "text": [
      "2019-05-10 20:37:28.322 | INFO     | __main__:<module>:7 - Scraping new player: https://www.hltv.org/stats/players/2730/chrisJ\n"
     ]
    },
    {
     "name": "stderr",
     "output_type": "stream",
     "text": [
      "2019-05-10 20:37:31.195 | INFO     | __main__:<module>:7 - Scraping new player: https://www.hltv.org/stats/players/7168/NBK-\n"
     ]
    },
    {
     "name": "stderr",
     "output_type": "stream",
     "text": [
      "2019-05-10 20:37:34.209 | INFO     | __main__:<module>:7 - Scraping new player: https://www.hltv.org/stats/players/2644/Hiko\n"
     ]
    },
    {
     "name": "stderr",
     "output_type": "stream",
     "text": [
      "2019-05-10 20:37:36.807 | INFO     | __main__:<module>:7 - Scraping new player: https://www.hltv.org/stats/players/10994/stavn\n"
     ]
    },
    {
     "name": "stderr",
     "output_type": "stream",
     "text": [
      "2019-05-10 20:37:40.079 | INFO     | __main__:<module>:7 - Scraping new player: https://www.hltv.org/stats/players/10264/niko\n"
     ]
    },
    {
     "name": "stderr",
     "output_type": "stream",
     "text": [
      "2019-05-10 20:37:42.960 | INFO     | __main__:<module>:7 - Scraping new player: https://www.hltv.org/stats/players/12822/VINI\n"
     ]
    },
    {
     "name": "stderr",
     "output_type": "stream",
     "text": [
      "2019-05-10 20:37:45.748 | INFO     | __main__:<module>:7 - Scraping new player: https://www.hltv.org/stats/players/7834/v1c7oR\n"
     ]
    },
    {
     "name": "stderr",
     "output_type": "stream",
     "text": [
      "2019-05-10 20:37:48.752 | INFO     | __main__:<module>:7 - Scraping new player: https://www.hltv.org/stats/players/9896/b0RUP\n"
     ]
    },
    {
     "name": "stderr",
     "output_type": "stream",
     "text": [
      "2019-05-10 20:37:51.706 | INFO     | __main__:<module>:7 - Scraping new player: https://www.hltv.org/stats/players/9410/kalinka\n"
     ]
    },
    {
     "name": "stderr",
     "output_type": "stream",
     "text": [
      "2019-05-10 20:37:54.721 | INFO     | __main__:<module>:7 - Scraping new player: https://www.hltv.org/stats/players/839/tb\n"
     ]
    },
    {
     "name": "stderr",
     "output_type": "stream",
     "text": [
      "2019-05-10 20:37:57.659 | INFO     | __main__:<module>:7 - Scraping new player: https://www.hltv.org/stats/players/4954/Xyp9x\n"
     ]
    },
    {
     "name": "stderr",
     "output_type": "stream",
     "text": [
      "2019-05-10 20:38:00.377 | INFO     | __main__:<module>:7 - Scraping new player: https://www.hltv.org/stats/players/12269/Jyo\n"
     ]
    },
    {
     "name": "stderr",
     "output_type": "stream",
     "text": [
      "2019-05-10 20:38:03.570 | INFO     | __main__:<module>:7 - Scraping new player: https://www.hltv.org/stats/players/8957/LOVEYY\n"
     ]
    },
    {
     "name": "stderr",
     "output_type": "stream",
     "text": [
      "2019-05-10 20:38:06.902 | INFO     | __main__:<module>:7 - Scraping new player: https://www.hltv.org/stats/players/9483/destiny\n"
     ]
    },
    {
     "name": "stderr",
     "output_type": "stream",
     "text": [
      "2019-05-10 20:38:09.986 | INFO     | __main__:<module>:7 - Scraping new player: https://www.hltv.org/stats/players/9574/snatchie\n"
     ]
    },
    {
     "name": "stderr",
     "output_type": "stream",
     "text": [
      "2019-05-10 20:38:13.567 | INFO     | __main__:<module>:7 - Scraping new player: https://www.hltv.org/stats/players/8323/mouz\n"
     ]
    },
    {
     "name": "stderr",
     "output_type": "stream",
     "text": [
      "2019-05-10 20:38:16.522 | INFO     | __main__:<module>:7 - Scraping new player: https://www.hltv.org/stats/players/2555/yam\n"
     ]
    },
    {
     "name": "stderr",
     "output_type": "stream",
     "text": [
      "2019-05-10 20:38:19.536 | INFO     | __main__:<module>:7 - Scraping new player: https://www.hltv.org/stats/players/8138/Davidp\n"
     ]
    },
    {
     "name": "stderr",
     "output_type": "stream",
     "text": [
      "2019-05-10 20:38:22.702 | INFO     | __main__:<module>:7 - Scraping new player: https://www.hltv.org/stats/players/8611/es3tag\n"
     ]
    },
    {
     "name": "stderr",
     "output_type": "stream",
     "text": [
      "2019-05-10 20:38:25.935 | INFO     | __main__:<module>:7 - Scraping new player: https://www.hltv.org/stats/players/8248/jkaem\n"
     ]
    },
    {
     "name": "stderr",
     "output_type": "stream",
     "text": [
      "2019-05-10 20:38:28.863 | INFO     | __main__:<module>:7 - Scraping new player: https://www.hltv.org/stats/players/12782/kressy\n"
     ]
    },
    {
     "name": "stderr",
     "output_type": "stream",
     "text": [
      "2019-05-10 20:38:31.838 | INFO     | __main__:<module>:7 - Scraping new player: https://www.hltv.org/stats/players/10870/kabal\n"
     ]
    },
    {
     "name": "stderr",
     "output_type": "stream",
     "text": [
      "2019-05-10 20:38:34.609 | INFO     | __main__:<module>:7 - Scraping new player: https://www.hltv.org/stats/players/629/fox\n"
     ]
    },
    {
     "name": "stderr",
     "output_type": "stream",
     "text": [
      "2019-05-10 20:38:37.884 | INFO     | __main__:<module>:7 - Scraping new player: https://www.hltv.org/stats/players/7775/juho\n"
     ]
    },
    {
     "name": "stderr",
     "output_type": "stream",
     "text": [
      "2019-05-10 20:38:40.847 | INFO     | __main__:<module>:7 - Scraping new player: https://www.hltv.org/stats/players/1146/dennis\n"
     ]
    },
    {
     "name": "stderr",
     "output_type": "stream",
     "text": [
      "2019-05-10 20:38:43.910 | INFO     | __main__:<module>:7 - Scraping new player: https://www.hltv.org/stats/players/8413/Zero\n"
     ]
    },
    {
     "name": "stderr",
     "output_type": "stream",
     "text": [
      "2019-05-10 20:38:47.106 | INFO     | __main__:<module>:7 - Scraping new player: https://www.hltv.org/stats/players/8786/jR\n"
     ]
    },
    {
     "name": "stderr",
     "output_type": "stream",
     "text": [
      "2019-05-10 20:38:50.409 | INFO     | __main__:<module>:7 - Scraping new player: https://www.hltv.org/stats/players/8242/reatz\n"
     ]
    },
    {
     "name": "stderr",
     "output_type": "stream",
     "text": [
      "2019-05-10 20:38:53.682 | INFO     | __main__:<module>:7 - Scraping new player: https://www.hltv.org/stats/players/9043/ANDROID\n"
     ]
    },
    {
     "name": "stderr",
     "output_type": "stream",
     "text": [
      "2019-05-10 20:38:56.456 | INFO     | __main__:<module>:7 - Scraping new player: https://www.hltv.org/stats/players/8095/aizy\n"
     ]
    },
    {
     "name": "stderr",
     "output_type": "stream",
     "text": [
      "2019-05-10 20:39:00.393 | INFO     | __main__:<module>:7 - Scraping new player: https://www.hltv.org/stats/players/2131/bondik\n"
     ]
    },
    {
     "name": "stderr",
     "output_type": "stream",
     "text": [
      "2019-05-10 20:39:03.930 | INFO     | __main__:<module>:7 - Scraping new player: https://www.hltv.org/stats/players/3847/znajder\n"
     ]
    },
    {
     "name": "stderr",
     "output_type": "stream",
     "text": [
      "2019-05-10 20:39:06.530 | INFO     | __main__:<module>:7 - Scraping new player: https://www.hltv.org/stats/players/8513/yay\n"
     ]
    },
    {
     "name": "stderr",
     "output_type": "stream",
     "text": [
      "2019-05-10 20:39:09.339 | INFO     | __main__:<module>:7 - Scraping new player: https://www.hltv.org/stats/players/13138/Maka\n"
     ]
    },
    {
     "name": "stderr",
     "output_type": "stream",
     "text": [
      "2019-05-10 20:39:12.940 | INFO     | __main__:<module>:7 - Scraping new player: https://www.hltv.org/stats/players/973/SZPERO\n"
     ]
    },
    {
     "name": "stderr",
     "output_type": "stream",
     "text": [
      "2019-05-10 20:39:16.199 | INFO     | __main__:<module>:7 - Scraping new player: https://www.hltv.org/stats/players/7935/roca\n"
     ]
    },
    {
     "name": "stderr",
     "output_type": "stream",
     "text": [
      "2019-05-10 20:39:19.176 | INFO     | __main__:<module>:7 - Scraping new player: https://www.hltv.org/stats/players/7253/steel\n"
     ]
    },
    {
     "name": "stderr",
     "output_type": "stream",
     "text": [
      "2019-05-10 20:39:21.973 | INFO     | __main__:<module>:7 - Scraping new player: https://www.hltv.org/stats/players/9875/food\n"
     ]
    },
    {
     "name": "stderr",
     "output_type": "stream",
     "text": [
      "2019-05-10 20:39:24.997 | INFO     | __main__:<module>:7 - Scraping new player: https://www.hltv.org/stats/players/9358/DEV7L\n"
     ]
    },
    {
     "name": "stderr",
     "output_type": "stream",
     "text": [
      "2019-05-10 20:39:28.080 | INFO     | __main__:<module>:7 - Scraping new player: https://www.hltv.org/stats/players/2299/NENO\n"
     ]
    },
    {
     "name": "stderr",
     "output_type": "stream",
     "text": [
      "2019-05-10 20:39:30.946 | INFO     | __main__:<module>:7 - Scraping new player: https://www.hltv.org/stats/players/8543/NEEX\n"
     ]
    },
    {
     "name": "stderr",
     "output_type": "stream",
     "text": [
      "2019-05-10 20:39:33.883 | INFO     | __main__:<module>:7 - Scraping new player: https://www.hltv.org/stats/players/9245/Tsogoo\n"
     ]
    },
    {
     "name": "stderr",
     "output_type": "stream",
     "text": [
      "2019-05-10 20:39:36.860 | INFO     | __main__:<module>:7 - Scraping new player: https://www.hltv.org/stats/players/12088/ryann\n"
     ]
    },
    {
     "name": "stderr",
     "output_type": "stream",
     "text": [
      "2019-05-10 20:39:39.708 | INFO     | __main__:<module>:7 - Scraping new player: https://www.hltv.org/stats/players/9221/reversive\n"
     ]
    },
    {
     "name": "stderr",
     "output_type": "stream",
     "text": [
      "2019-05-10 20:39:42.833 | INFO     | __main__:<module>:7 - Scraping new player: https://www.hltv.org/stats/players/3410/ROBO\n"
     ]
    },
    {
     "name": "stderr",
     "output_type": "stream",
     "text": [
      "2019-05-10 20:39:45.868 | INFO     | __main__:<module>:7 - Scraping new player: https://www.hltv.org/stats/players/9766/hampus\n"
     ]
    },
    {
     "name": "stderr",
     "output_type": "stream",
     "text": [
      "2019-05-10 20:39:48.937 | INFO     | __main__:<module>:7 - Scraping new player: https://www.hltv.org/stats/players/9349/AiyvaN\n"
     ]
    },
    {
     "name": "stderr",
     "output_type": "stream",
     "text": [
      "2019-05-10 20:39:51.734 | INFO     | __main__:<module>:7 - Scraping new player: https://www.hltv.org/stats/players/10443/Basso\n"
     ]
    },
    {
     "name": "stderr",
     "output_type": "stream",
     "text": [
      "2019-05-10 20:39:55.207 | INFO     | __main__:<module>:7 - Scraping new player: https://www.hltv.org/stats/players/9261/Lekr0\n"
     ]
    },
    {
     "name": "stderr",
     "output_type": "stream",
     "text": [
      "2019-05-10 20:39:59.016 | INFO     | __main__:<module>:7 - Scraping new player: https://www.hltv.org/stats/players/317/pashaBiceps\n"
     ]
    },
    {
     "name": "stderr",
     "output_type": "stream",
     "text": [
      "2019-05-10 20:40:02.014 | INFO     | __main__:<module>:7 - Scraping new player: https://www.hltv.org/stats/players/9008/FANAT%20ROCKA\n"
     ]
    },
    {
     "name": "stderr",
     "output_type": "stream",
     "text": [
      "2019-05-10 20:40:05.159 | INFO     | __main__:<module>:7 - Scraping new player: https://www.hltv.org/stats/players/8800/stfN\n"
     ]
    },
    {
     "name": "stderr",
     "output_type": "stream",
     "text": [
      "2019-05-10 20:40:08.229 | INFO     | __main__:<module>:7 - Scraping new player: https://www.hltv.org/stats/players/8952/FrostMisty\n"
     ]
    },
    {
     "name": "stderr",
     "output_type": "stream",
     "text": [
      "2019-05-10 20:40:11.314 | INFO     | __main__:<module>:7 - Scraping new player: https://www.hltv.org/stats/players/8255/CyberFocus\n"
     ]
    },
    {
     "name": "stderr",
     "output_type": "stream",
     "text": [
      "2019-05-10 20:40:14.192 | INFO     | __main__:<module>:7 - Scraping new player: https://www.hltv.org/stats/players/10560/yeL\n"
     ]
    },
    {
     "name": "stderr",
     "output_type": "stream",
     "text": [
      "2019-05-10 20:40:17.366 | INFO     | __main__:<module>:7 - Scraping new player: https://www.hltv.org/stats/players/7749/queztone\n"
     ]
    },
    {
     "name": "stderr",
     "output_type": "stream",
     "text": [
      "2019-05-10 20:40:20.420 | INFO     | __main__:<module>:7 - Scraping new player: https://www.hltv.org/stats/players/10840/tatazin\n"
     ]
    },
    {
     "name": "stderr",
     "output_type": "stream",
     "text": [
      "2019-05-10 20:40:23.487 | INFO     | __main__:<module>:7 - Scraping new player: https://www.hltv.org/stats/players/13157/Jerry\n"
     ]
    },
    {
     "name": "stderr",
     "output_type": "stream",
     "text": [
      "2019-05-10 20:40:26.557 | INFO     | __main__:<module>:7 - Scraping new player: https://www.hltv.org/stats/players/8453/SEMINTE\n"
     ]
    },
    {
     "name": "stderr",
     "output_type": "stream",
     "text": [
      "2019-05-10 20:40:29.466 | INFO     | __main__:<module>:7 - Scraping new player: https://www.hltv.org/stats/players/11701/mirbit\n"
     ]
    },
    {
     "name": "stderr",
     "output_type": "stream",
     "text": [
      "2019-05-10 20:40:32.675 | INFO     | __main__:<module>:7 - Scraping new player: https://www.hltv.org/stats/players/9811/PlesseN\n"
     ]
    },
    {
     "name": "stderr",
     "output_type": "stream",
     "text": [
      "2019-05-10 20:40:35.523 | INFO     | __main__:<module>:7 - Scraping new player: https://www.hltv.org/stats/players/334/AdreN\n"
     ]
    },
    {
     "name": "stderr",
     "output_type": "stream",
     "text": [
      "2019-05-10 20:40:38.471 | INFO     | __main__:<module>:7 - Scraping new player: https://www.hltv.org/stats/players/11064/dazzLe\n"
     ]
    },
    {
     "name": "stderr",
     "output_type": "stream",
     "text": [
      "2019-05-10 20:40:41.790 | INFO     | __main__:<module>:7 - Scraping new player: https://www.hltv.org/stats/players/1045/Maikelele\n"
     ]
    },
    {
     "name": "stderr",
     "output_type": "stream",
     "text": [
      "2019-05-10 20:40:44.810 | INFO     | __main__:<module>:7 - Scraping new player: https://www.hltv.org/stats/players/11515/kenzor\n"
     ]
    },
    {
     "name": "stderr",
     "output_type": "stream",
     "text": [
      "2019-05-10 20:40:47.645 | INFO     | __main__:<module>:7 - Scraping new player: https://www.hltv.org/stats/players/11231/Subroza\n"
     ]
    },
    {
     "name": "stderr",
     "output_type": "stream",
     "text": [
      "2019-05-10 20:40:50.674 | INFO     | __main__:<module>:7 - Scraping new player: https://www.hltv.org/stats/players/9961/MonttY\n"
     ]
    },
    {
     "name": "stderr",
     "output_type": "stream",
     "text": [
      "2019-05-10 20:40:53.706 | INFO     | __main__:<module>:7 - Scraping new player: https://www.hltv.org/stats/players/10992/dragonfly\n"
     ]
    },
    {
     "name": "stderr",
     "output_type": "stream",
     "text": [
      "2019-05-10 20:40:56.441 | INFO     | __main__:<module>:7 - Scraping new player: https://www.hltv.org/stats/players/9916/mono\n"
     ]
    },
    {
     "name": "stderr",
     "output_type": "stream",
     "text": [
      "2019-05-10 20:40:59.879 | INFO     | __main__:<module>:7 - Scraping new player: https://www.hltv.org/stats/players/8346/jdm64\n"
     ]
    },
    {
     "name": "stderr",
     "output_type": "stream",
     "text": [
      "2019-05-10 20:41:03.913 | INFO     | __main__:<module>:7 - Scraping new player: https://www.hltv.org/stats/players/2826/MINISE\n"
     ]
    },
    {
     "name": "stderr",
     "output_type": "stream",
     "text": [
      "2019-05-10 20:41:08.125 | INFO     | __main__:<module>:7 - Scraping new player: https://www.hltv.org/stats/players/7805/RUSH\n"
     ]
    },
    {
     "name": "stderr",
     "output_type": "stream",
     "text": [
      "2019-05-10 20:41:11.181 | INFO     | __main__:<module>:7 - Scraping new player: https://www.hltv.org/stats/players/10186/ayaya\n"
     ]
    },
    {
     "name": "stderr",
     "output_type": "stream",
     "text": [
      "2019-05-10 20:41:15.091 | INFO     | __main__:<module>:7 - Scraping new player: https://www.hltv.org/stats/players/7687/nitr0\n"
     ]
    },
    {
     "name": "stderr",
     "output_type": "stream",
     "text": [
      "2019-05-10 20:41:18.002 | INFO     | __main__:<module>:7 - Scraping new player: https://www.hltv.org/stats/players/7413/Nico\n"
     ]
    },
    {
     "name": "stderr",
     "output_type": "stream",
     "text": [
      "2019-05-10 20:41:21.086 | INFO     | __main__:<module>:7 - Scraping new player: https://www.hltv.org/stats/players/11630/JT\n"
     ]
    },
    {
     "name": "stderr",
     "output_type": "stream",
     "text": [
      "2019-05-10 20:41:24.306 | INFO     | __main__:<module>:7 - Scraping new player: https://www.hltv.org/stats/players/2007/ap0c\n"
     ]
    },
    {
     "name": "stderr",
     "output_type": "stream",
     "text": [
      "2019-05-10 20:41:27.281 | INFO     | __main__:<module>:7 - Scraping new player: https://www.hltv.org/stats/players/9287/bnwGiggs\n"
     ]
    },
    {
     "name": "stderr",
     "output_type": "stream",
     "text": [
      "2019-05-10 20:41:30.379 | INFO     | __main__:<module>:7 - Scraping new player: https://www.hltv.org/stats/players/8345/spaze\n"
     ]
    },
    {
     "name": "stderr",
     "output_type": "stream",
     "text": [
      "2019-05-10 20:41:34.084 | INFO     | __main__:<module>:7 - Scraping new player: https://www.hltv.org/stats/players/5386/byali\n"
     ]
    },
    {
     "name": "stderr",
     "output_type": "stream",
     "text": [
      "2019-05-10 20:41:37.721 | INFO     | __main__:<module>:7 - Scraping new player: https://www.hltv.org/stats/players/8570/GruBy\n"
     ]
    },
    {
     "name": "stderr",
     "output_type": "stream",
     "text": [
      "2019-05-10 20:41:40.552 | INFO     | __main__:<module>:7 - Scraping new player: https://www.hltv.org/stats/players/10502/Straka\n"
     ]
    },
    {
     "name": "stderr",
     "output_type": "stream",
     "text": [
      "2019-05-10 20:41:43.565 | INFO     | __main__:<module>:7 - Scraping new player: https://www.hltv.org/stats/players/11844/flickz\n"
     ]
    },
    {
     "name": "stderr",
     "output_type": "stream",
     "text": [
      "2019-05-10 20:41:46.537 | INFO     | __main__:<module>:7 - Scraping new player: https://www.hltv.org/stats/players/8951/roseau\n"
     ]
    },
    {
     "name": "stderr",
     "output_type": "stream",
     "text": [
      "2019-05-10 20:41:49.308 | INFO     | __main__:<module>:7 - Scraping new player: https://www.hltv.org/stats/players/11230/aproto\n"
     ]
    },
    {
     "name": "stderr",
     "output_type": "stream",
     "text": [
      "2019-05-10 20:41:52.243 | INFO     | __main__:<module>:7 - Scraping new player: https://www.hltv.org/stats/players/2161/Noktse\n"
     ]
    },
    {
     "name": "stderr",
     "output_type": "stream",
     "text": [
      "2019-05-10 20:41:54.961 | INFO     | __main__:<module>:7 - Scraping new player: https://www.hltv.org/stats/players/13186/hydrex\n"
     ]
    },
    {
     "name": "stderr",
     "output_type": "stream",
     "text": [
      "2019-05-10 20:41:58.554 | INFO     | __main__:<module>:7 - Scraping new player: https://www.hltv.org/stats/players/4959/kioShiMa\n"
     ]
    },
    {
     "name": "stderr",
     "output_type": "stream",
     "text": [
      "2019-05-10 20:42:01.483 | INFO     | __main__:<module>:7 - Scraping new player: https://www.hltv.org/stats/players/13273/Ace\n"
     ]
    },
    {
     "name": "stderr",
     "output_type": "stream",
     "text": [
      "2019-05-10 20:42:04.311 | INFO     | __main__:<module>:7 - Scraping new player: https://www.hltv.org/stats/players/2496/bld\n"
     ]
    },
    {
     "name": "stderr",
     "output_type": "stream",
     "text": [
      "2019-05-10 20:42:07.368 | INFO     | __main__:<module>:7 - Scraping new player: https://www.hltv.org/stats/players/13249/oSee\n"
     ]
    },
    {
     "name": "stderr",
     "output_type": "stream",
     "text": [
      "2019-05-10 20:42:10.332 | INFO     | __main__:<module>:7 - Scraping new player: https://www.hltv.org/stats/players/9612/Bubzkji\n"
     ]
    },
    {
     "name": "stderr",
     "output_type": "stream",
     "text": [
      "2019-05-10 20:42:13.099 | INFO     | __main__:<module>:7 - Scraping new player: https://www.hltv.org/stats/players/13578/Grim\n"
     ]
    },
    {
     "name": "stderr",
     "output_type": "stream",
     "text": [
      "2019-05-10 20:42:15.621 | INFO     | __main__:<module>:7 - Scraping new player: https://www.hltv.org/stats/players/9816/Aleksib\n"
     ]
    },
    {
     "name": "stderr",
     "output_type": "stream",
     "text": [
      "2019-05-10 20:42:18.372 | INFO     | __main__:<module>:7 - Scraping new player: https://www.hltv.org/stats/players/203/n0thing\n"
     ]
    },
    {
     "name": "stderr",
     "output_type": "stream",
     "text": [
      "2019-05-10 20:42:21.868 | INFO     | __main__:<module>:7 - Scraping new player: https://www.hltv.org/stats/players/3183/spyleadeR\n"
     ]
    },
    {
     "name": "stderr",
     "output_type": "stream",
     "text": [
      "2019-05-10 20:42:25.195 | INFO     | __main__:<module>:7 - Scraping new player: https://www.hltv.org/stats/players/2398/SKYTTEN\n"
     ]
    },
    {
     "name": "stderr",
     "output_type": "stream",
     "text": [
      "2019-05-10 20:42:29.131 | INFO     | __main__:<module>:7 - Scraping new player: https://www.hltv.org/stats/players/5287/TENZKI\n"
     ]
    },
    {
     "name": "stderr",
     "output_type": "stream",
     "text": [
      "2019-05-10 20:42:32.299 | INFO     | __main__:<module>:7 - Scraping new player: https://www.hltv.org/stats/players/9254/mopoz\n"
     ]
    },
    {
     "name": "stderr",
     "output_type": "stream",
     "text": [
      "2019-05-10 20:42:35.208 | INFO     | __main__:<module>:7 - Scraping new player: https://www.hltv.org/stats/players/10570/dzt\n"
     ]
    },
    {
     "name": "stderr",
     "output_type": "stream",
     "text": [
      "2019-05-10 20:42:38.091 | INFO     | __main__:<module>:7 - Scraping new player: https://www.hltv.org/stats/players/11926/mds\n"
     ]
    },
    {
     "name": "stderr",
     "output_type": "stream",
     "text": [
      "2019-05-10 20:42:41.086 | INFO     | __main__:<module>:7 - Scraping new player: https://www.hltv.org/stats/players/8350/desi\n"
     ]
    },
    {
     "name": "stderr",
     "output_type": "stream",
     "text": [
      "2019-05-10 20:42:44.116 | INFO     | __main__:<module>:7 - Scraping new player: https://www.hltv.org/stats/players/8770/MoeycQ\n"
     ]
    },
    {
     "name": "stderr",
     "output_type": "stream",
     "text": [
      "2019-05-10 20:42:46.962 | INFO     | __main__:<module>:7 - Scraping new player: https://www.hltv.org/stats/players/5391/darti\n"
     ]
    },
    {
     "name": "stderr",
     "output_type": "stream",
     "text": [
      "2019-05-10 20:42:49.709 | INFO     | __main__:<module>:7 - Scraping new player: https://www.hltv.org/stats/players/12593/J1rah\n"
     ]
    },
    {
     "name": "stderr",
     "output_type": "stream",
     "text": [
      "2019-05-10 20:42:53.371 | INFO     | __main__:<module>:7 - Scraping new player: https://www.hltv.org/stats/players/8327/Furlan\n"
     ]
    },
    {
     "name": "stderr",
     "output_type": "stream",
     "text": [
      "2019-05-10 20:42:56.295 | INFO     | __main__:<module>:7 - Scraping new player: https://www.hltv.org/stats/players/11238/Oderus\n"
     ]
    },
    {
     "name": "stderr",
     "output_type": "stream",
     "text": [
      "2019-05-10 20:42:59.978 | INFO     | __main__:<module>:7 - Scraping new player: https://www.hltv.org/stats/players/12781/k1to\n"
     ]
    },
    {
     "name": "stderr",
     "output_type": "stream",
     "text": [
      "2019-05-10 20:43:02.982 | INFO     | __main__:<module>:7 - Scraping new player: https://www.hltv.org/stats/players/10470/mitch\n"
     ]
    },
    {
     "name": "stderr",
     "output_type": "stream",
     "text": [
      "2019-05-10 20:43:05.803 | INFO     | __main__:<module>:7 - Scraping new player: https://www.hltv.org/stats/players/11258/fr0slev\n"
     ]
    },
    {
     "name": "stderr",
     "output_type": "stream",
     "text": [
      "2019-05-10 20:43:09.095 | INFO     | __main__:<module>:7 - Scraping new player: https://www.hltv.org/stats/players/8726/facecrack\n"
     ]
    },
    {
     "name": "stderr",
     "output_type": "stream",
     "text": [
      "2019-05-10 20:43:11.933 | INFO     | __main__:<module>:7 - Scraping new player: https://www.hltv.org/stats/players/7412/gla1ve\n"
     ]
    },
    {
     "name": "stderr",
     "output_type": "stream",
     "text": [
      "2019-05-10 20:43:15.441 | INFO     | __main__:<module>:7 - Scraping new player: https://www.hltv.org/stats/players/8522/FugLy\n"
     ]
    },
    {
     "name": "stderr",
     "output_type": "stream",
     "text": [
      "2019-05-10 20:43:17.983 | INFO     | __main__:<module>:7 - Scraping new player: https://www.hltv.org/stats/players/5792/KILLDREAM\n"
     ]
    },
    {
     "name": "stderr",
     "output_type": "stream",
     "text": [
      "2019-05-10 20:43:21.133 | INFO     | __main__:<module>:7 - Scraping new player: https://www.hltv.org/stats/players/11217/SPELLAN\n"
     ]
    },
    {
     "name": "stderr",
     "output_type": "stream",
     "text": [
      "2019-05-10 20:43:24.038 | INFO     | __main__:<module>:7 - Scraping new player: https://www.hltv.org/stats/players/12876/DickStacy\n"
     ]
    },
    {
     "name": "stderr",
     "output_type": "stream",
     "text": [
      "2019-05-10 20:43:27.180 | INFO     | __main__:<module>:7 - Scraping new player: https://www.hltv.org/stats/players/10590/fenvicious\n"
     ]
    },
    {
     "name": "stderr",
     "output_type": "stream",
     "text": [
      "2019-05-10 20:43:30.544 | INFO     | __main__:<module>:7 - Scraping new player: https://www.hltv.org/stats/players/8082/AZR\n"
     ]
    },
    {
     "name": "stderr",
     "output_type": "stream",
     "text": [
      "2019-05-10 20:43:33.777 | INFO     | __main__:<module>:7 - Scraping new player: https://www.hltv.org/stats/players/9069/Nifty\n"
     ]
    },
    {
     "name": "stderr",
     "output_type": "stream",
     "text": [
      "2019-05-10 20:43:37.383 | INFO     | __main__:<module>:7 - Scraping new player: https://www.hltv.org/stats/players/7499/Spiidi\n"
     ]
    },
    {
     "name": "stderr",
     "output_type": "stream",
     "text": [
      "2019-05-10 20:43:40.363 | INFO     | __main__:<module>:7 - Scraping new player: https://www.hltv.org/stats/players/8744/emagine\n"
     ]
    },
    {
     "name": "stderr",
     "output_type": "stream",
     "text": [
      "2019-05-10 20:43:43.199 | INFO     | __main__:<module>:7 - Scraping new player: https://www.hltv.org/stats/players/483/Edward\n"
     ]
    },
    {
     "name": "stderr",
     "output_type": "stream",
     "text": [
      "2019-05-10 20:43:46.952 | INFO     | __main__:<module>:7 - Scraping new player: https://www.hltv.org/stats/players/7/Friis\n"
     ]
    },
    {
     "name": "stderr",
     "output_type": "stream",
     "text": [
      "2019-05-10 20:43:50.616 | INFO     | __main__:<module>:7 - Scraping new player: https://www.hltv.org/stats/players/3669/innocent\n"
     ]
    },
    {
     "name": "stderr",
     "output_type": "stream",
     "text": [
      "2019-05-10 20:43:53.567 | INFO     | __main__:<module>:7 - Scraping new player: https://www.hltv.org/stats/players/10663/RoLEX\n"
     ]
    },
    {
     "name": "stderr",
     "output_type": "stream",
     "text": [
      "2019-05-10 20:43:56.209 | INFO     | __main__:<module>:7 - Scraping new player: https://www.hltv.org/stats/players/7248/xseveN\n"
     ]
    },
    {
     "name": "stderr",
     "output_type": "stream",
     "text": [
      "2019-05-10 20:43:59.388 | INFO     | __main__:<module>:7 - Scraping new player: https://www.hltv.org/stats/players/8875/gade\n"
     ]
    },
    {
     "name": "stderr",
     "output_type": "stream",
     "text": [
      "2019-05-10 20:44:02.613 | INFO     | __main__:<module>:7 - Scraping new player: https://www.hltv.org/stats/players/7982/to1nou\n"
     ]
    },
    {
     "name": "stderr",
     "output_type": "stream",
     "text": [
      "2019-05-10 20:44:05.742 | INFO     | __main__:<module>:7 - Scraping new player: https://www.hltv.org/stats/players/8517/Relyks\n"
     ]
    },
    {
     "name": "stderr",
     "output_type": "stream",
     "text": [
      "2019-05-10 20:44:08.920 | INFO     | __main__:<module>:7 - Scraping new player: https://www.hltv.org/stats/players/8184/ALEX\n"
     ]
    },
    {
     "name": "stderr",
     "output_type": "stream",
     "text": [
      "2019-05-10 20:44:12.056 | INFO     | __main__:<module>:7 - Scraping new player: https://www.hltv.org/stats/players/7808/freakazoid\n"
     ]
    },
    {
     "name": "stderr",
     "output_type": "stream",
     "text": [
      "2019-05-10 20:44:15.012 | INFO     | __main__:<module>:7 - Scraping new player: https://www.hltv.org/stats/players/4637/zeff\n"
     ]
    },
    {
     "name": "stderr",
     "output_type": "stream",
     "text": [
      "2019-05-10 20:44:17.963 | INFO     | __main__:<module>:7 - Scraping new player: https://www.hltv.org/stats/players/7980/DESPE\n"
     ]
    },
    {
     "name": "stderr",
     "output_type": "stream",
     "text": [
      "2019-05-10 20:44:20.905 | INFO     | __main__:<module>:7 - Scraping new player: https://www.hltv.org/stats/players/11574/xiaosaGe\n"
     ]
    },
    {
     "name": "stderr",
     "output_type": "stream",
     "text": [
      "2019-05-10 20:44:23.704 | INFO     | __main__:<module>:7 - Scraping new player: https://www.hltv.org/stats/players/15428/Goofy\n"
     ]
    },
    {
     "name": "stderr",
     "output_type": "stream",
     "text": [
      "2019-05-10 20:44:26.606 | INFO     | __main__:<module>:7 - Scraping new player: https://www.hltv.org/stats/players/9103/urbz\n"
     ]
    },
    {
     "name": "stderr",
     "output_type": "stream",
     "text": [
      "2019-05-10 20:44:29.472 | INFO     | __main__:<module>:7 - Scraping new player: https://www.hltv.org/stats/players/11307/pounh\n"
     ]
    },
    {
     "name": "stderr",
     "output_type": "stream",
     "text": [
      "2019-05-10 20:44:32.366 | INFO     | __main__:<module>:7 - Scraping new player: https://www.hltv.org/stats/players/8926/SasuKe\n"
     ]
    },
    {
     "name": "stderr",
     "output_type": "stream",
     "text": [
      "2019-05-10 20:44:35.365 | INFO     | __main__:<module>:7 - Scraping new player: https://www.hltv.org/stats/players/1007/k1Ng0r\n"
     ]
    },
    {
     "name": "stderr",
     "output_type": "stream",
     "text": [
      "2019-05-10 20:44:38.205 | INFO     | __main__:<module>:7 - Scraping new player: https://www.hltv.org/stats/players/13148/Radifaction\n"
     ]
    },
    {
     "name": "stderr",
     "output_type": "stream",
     "text": [
      "2019-05-10 20:44:41.502 | INFO     | __main__:<module>:7 - Scraping new player: https://www.hltv.org/stats/players/7873/dephh\n"
     ]
    },
    {
     "name": "stderr",
     "output_type": "stream",
     "text": [
      "2019-05-10 20:44:44.582 | INFO     | __main__:<module>:7 - Scraping new player: https://www.hltv.org/stats/players/7383/zqkS\n"
     ]
    },
    {
     "name": "stderr",
     "output_type": "stream",
     "text": [
      "2019-05-10 20:44:47.930 | INFO     | __main__:<module>:7 - Scraping new player: https://www.hltv.org/stats/players/7700/robiin\n"
     ]
    },
    {
     "name": "stderr",
     "output_type": "stream",
     "text": [
      "2019-05-10 20:44:50.790 | INFO     | __main__:<module>:7 - Scraping new player: https://www.hltv.org/stats/players/7673/mikeS\n"
     ]
    },
    {
     "name": "stderr",
     "output_type": "stream",
     "text": [
      "2019-05-10 20:44:53.961 | INFO     | __main__:<module>:7 - Scraping new player: https://www.hltv.org/stats/players/8771/USTILO\n"
     ]
    },
    {
     "name": "stderr",
     "output_type": "stream",
     "text": [
      "2019-05-10 20:44:57.292 | INFO     | __main__:<module>:7 - Scraping new player: https://www.hltv.org/stats/players/5061/PERCY\n"
     ]
    },
    {
     "name": "stderr",
     "output_type": "stream",
     "text": [
      "2019-05-10 20:45:00.596 | INFO     | __main__:<module>:7 - Scraping new player: https://www.hltv.org/stats/players/5373/xelos\n"
     ]
    },
    {
     "name": "stderr",
     "output_type": "stream",
     "text": [
      "2019-05-10 20:45:04.420 | INFO     | __main__:<module>:7 - Scraping new player: https://www.hltv.org/stats/players/339/ANGE1\n"
     ]
    },
    {
     "name": "stderr",
     "output_type": "stream",
     "text": [
      "2019-05-10 20:45:08.224 | INFO     | __main__:<module>:7 - Scraping new player: https://www.hltv.org/stats/players/884/Xizt\n"
     ]
    },
    {
     "name": "stderr",
     "output_type": "stream",
     "text": [
      "2019-05-10 20:45:11.219 | INFO     | __main__:<module>:7 - Scraping new player: https://www.hltv.org/stats/players/3894/REFLEX\n"
     ]
    },
    {
     "name": "stderr",
     "output_type": "stream",
     "text": [
      "2019-05-10 20:45:14.295 | INFO     | __main__:<module>:7 - Scraping new player: https://www.hltv.org/stats/players/9260/vice\n"
     ]
    },
    {
     "name": "stderr",
     "output_type": "stream",
     "text": [
      "2019-05-10 20:45:17.875 | INFO     | __main__:<module>:7 - Scraping new player: https://www.hltv.org/stats/players/7527/pyth\n"
     ]
    },
    {
     "name": "stderr",
     "output_type": "stream",
     "text": [
      "2019-05-10 20:45:20.775 | INFO     | __main__:<module>:7 - Scraping new player: https://www.hltv.org/stats/players/2532/mch\n"
     ]
    },
    {
     "name": "stderr",
     "output_type": "stream",
     "text": [
      "2019-05-10 20:45:23.855 | INFO     | __main__:<module>:7 - Scraping new player: https://www.hltv.org/stats/players/1883/glace\n"
     ]
    },
    {
     "name": "stderr",
     "output_type": "stream",
     "text": [
      "2019-05-10 20:45:26.974 | INFO     | __main__:<module>:7 - Scraping new player: https://www.hltv.org/stats/players/8724/1uke\n"
     ]
    },
    {
     "name": "stderr",
     "output_type": "stream",
     "text": [
      "2019-05-10 20:45:29.975 | INFO     | __main__:<module>:7 - Scraping new player: https://www.hltv.org/stats/players/9339/ImpressioN\n"
     ]
    },
    {
     "name": "stderr",
     "output_type": "stream",
     "text": [
      "2019-05-10 20:45:33.284 | INFO     | __main__:<module>:7 - Scraping new player: https://www.hltv.org/stats/players/7433/adreN\n"
     ]
    },
    {
     "name": "stderr",
     "output_type": "stream",
     "text": [
      "2019-05-10 20:45:36.966 | INFO     | __main__:<module>:7 - Scraping new player: https://www.hltv.org/stats/players/1915/SEMPHIS\n"
     ]
    },
    {
     "name": "stderr",
     "output_type": "stream",
     "text": [
      "2019-05-10 20:45:40.030 | INFO     | __main__:<module>:7 - Scraping new player: https://www.hltv.org/stats/players/8321/oskarish\n"
     ]
    },
    {
     "name": "stderr",
     "output_type": "stream",
     "text": [
      "2019-05-10 20:45:43.213 | INFO     | __main__:<module>:7 - Scraping new player: https://www.hltv.org/stats/players/8347/hazed\n"
     ]
    },
    {
     "name": "stderr",
     "output_type": "stream",
     "text": [
      "2019-05-10 20:45:46.240 | INFO     | __main__:<module>:7 - Scraping new player: https://www.hltv.org/stats/players/10697/blocker\n"
     ]
    },
    {
     "name": "stderr",
     "output_type": "stream",
     "text": [
      "2019-05-10 20:45:49.241 | INFO     | __main__:<module>:7 - Scraping new player: https://www.hltv.org/stats/players/10163/pecks\n"
     ]
    },
    {
     "name": "stderr",
     "output_type": "stream",
     "text": [
      "2019-05-10 20:45:52.141 | INFO     | __main__:<module>:7 - Scraping new player: https://www.hltv.org/stats/players/12129/stk\n"
     ]
    },
    {
     "name": "stderr",
     "output_type": "stream",
     "text": [
      "2019-05-10 20:45:54.901 | INFO     | __main__:<module>:7 - Scraping new player: https://www.hltv.org/stats/players/545/MODDII\n"
     ]
    },
    {
     "name": "stderr",
     "output_type": "stream",
     "text": [
      "2019-05-10 20:45:57.808 | INFO     | __main__:<module>:7 - Scraping new player: https://www.hltv.org/stats/players/9011/Barcode\n"
     ]
    },
    {
     "name": "stderr",
     "output_type": "stream",
     "text": [
      "2019-05-10 20:46:00.589 | INFO     | __main__:<module>:7 - Scraping new player: https://www.hltv.org/stats/players/9030/rezex\n"
     ]
    },
    {
     "name": "stderr",
     "output_type": "stream",
     "text": [
      "2019-05-10 20:46:03.571 | INFO     | __main__:<module>:7 - Scraping new player: https://www.hltv.org/stats/players/7369/peet\n"
     ]
    },
    {
     "name": "stderr",
     "output_type": "stream",
     "text": [
      "2019-05-10 20:46:06.669 | INFO     | __main__:<module>:7 - Scraping new player: https://www.hltv.org/stats/players/8508/DAVEY\n"
     ]
    },
    {
     "name": "stderr",
     "output_type": "stream",
     "text": [
      "2019-05-10 20:46:09.704 | INFO     | __main__:<module>:7 - Scraping new player: https://www.hltv.org/stats/players/7296/Puls3\n"
     ]
    },
    {
     "name": "stderr",
     "output_type": "stream",
     "text": [
      "2019-05-10 20:46:12.549 | INFO     | __main__:<module>:7 - Scraping new player: https://www.hltv.org/stats/players/15300/ToM223\n"
     ]
    },
    {
     "name": "stderr",
     "output_type": "stream",
     "text": [
      "2019-05-10 20:46:15.140 | INFO     | __main__:<module>:7 - Scraping new player: https://www.hltv.org/stats/players/8871/Lukki\n"
     ]
    },
    {
     "name": "stderr",
     "output_type": "stream",
     "text": [
      "2019-05-10 20:46:17.972 | INFO     | __main__:<module>:7 - Scraping new player: https://www.hltv.org/stats/players/11161/Drea3er\n"
     ]
    },
    {
     "name": "stderr",
     "output_type": "stream",
     "text": [
      "2019-05-10 20:46:20.956 | INFO     | __main__:<module>:7 - Scraping new player: https://www.hltv.org/stats/players/11747/jnt\n"
     ]
    },
    {
     "name": "stderr",
     "output_type": "stream",
     "text": [
      "2019-05-10 20:46:24.694 | INFO     | __main__:<module>:7 - Scraping new player: https://www.hltv.org/stats/players/5796/tiziaN\n"
     ]
    },
    {
     "name": "stderr",
     "output_type": "stream",
     "text": [
      "2019-05-10 20:46:27.911 | INFO     | __main__:<module>:7 - Scraping new player: https://www.hltv.org/stats/players/9257/freddieb\n"
     ]
    },
    {
     "name": "stderr",
     "output_type": "stream",
     "text": [
      "2019-05-10 20:46:31.044 | INFO     | __main__:<module>:7 - Scraping new player: https://www.hltv.org/stats/players/10463/B%C3%A5%C3%A5ten\n"
     ]
    },
    {
     "name": "stderr",
     "output_type": "stream",
     "text": [
      "2019-05-10 20:46:34.686 | INFO     | __main__:<module>:7 - Scraping new player: https://www.hltv.org/stats/players/7148/friberg\n"
     ]
    },
    {
     "name": "stderr",
     "output_type": "stream",
     "text": [
      "2019-05-10 20:46:37.750 | INFO     | __main__:<module>:7 - Scraping new player: https://www.hltv.org/stats/players/555/bit\n"
     ]
    },
    {
     "name": "stderr",
     "output_type": "stream",
     "text": [
      "2019-05-10 20:46:41.087 | INFO     | __main__:<module>:7 - Scraping new player: https://www.hltv.org/stats/players/10052/fitch\n"
     ]
    },
    {
     "name": "stderr",
     "output_type": "stream",
     "text": [
      "2019-05-10 20:46:44.263 | INFO     | __main__:<module>:7 - Scraping new player: https://www.hltv.org/stats/players/4726/jaxi\n"
     ]
    },
    {
     "name": "stderr",
     "output_type": "stream",
     "text": [
      "2019-05-10 20:46:49.250 | INFO     | __main__:<module>:7 - Scraping new player: https://www.hltv.org/stats/players/44/BARBARR\n"
     ]
    },
    {
     "name": "stderr",
     "output_type": "stream",
     "text": [
      "2019-05-10 20:46:52.629 | INFO     | __main__:<module>:7 - Scraping new player: https://www.hltv.org/stats/players/12710/gMd\n"
     ]
    },
    {
     "name": "stderr",
     "output_type": "stream",
     "text": [
      "2019-05-10 20:46:56.336 | INFO     | __main__:<module>:7 - Scraping new player: https://www.hltv.org/stats/players/9480/tifa\n"
     ]
    },
    {
     "name": "stderr",
     "output_type": "stream",
     "text": [
      "2019-05-10 20:47:00.756 | INFO     | __main__:<module>:7 - Scraping new player: https://www.hltv.org/stats/players/338/markeloff\n"
     ]
    },
    {
     "name": "stderr",
     "output_type": "stream",
     "text": [
      "2019-05-10 20:47:04.747 | INFO     | __main__:<module>:7 - Scraping new player: https://www.hltv.org/stats/players/735/Dosia\n"
     ]
    },
    {
     "name": "stderr",
     "output_type": "stream",
     "text": [
      "2019-05-10 20:47:08.913 | INFO     | __main__:<module>:7 - Scraping new player: https://www.hltv.org/stats/players/8507/stanislaw\n"
     ]
    },
    {
     "name": "stderr",
     "output_type": "stream",
     "text": [
      "2019-05-10 20:47:12.249 | INFO     | __main__:<module>:7 - Scraping new player: https://www.hltv.org/stats/players/630/MUTiRiS\n"
     ]
    },
    {
     "name": "stderr",
     "output_type": "stream",
     "text": [
      "2019-05-10 20:47:15.712 | INFO     | __main__:<module>:7 - Scraping new player: https://www.hltv.org/stats/players/8396/BENDJI\n"
     ]
    },
    {
     "name": "stderr",
     "output_type": "stream",
     "text": [
      "2019-05-10 20:47:18.670 | INFO     | __main__:<module>:7 - Scraping new player: https://www.hltv.org/stats/players/13989/ryotzz\n"
     ]
    },
    {
     "name": "stderr",
     "output_type": "stream",
     "text": [
      "2019-05-10 20:47:21.778 | INFO     | __main__:<module>:7 - Scraping new player: https://www.hltv.org/stats/players/8727/waterfaLLZ\n"
     ]
    },
    {
     "name": "stderr",
     "output_type": "stream",
     "text": [
      "2019-05-10 20:47:24.545 | INFO     | __main__:<module>:7 - Scraping new player: https://www.hltv.org/stats/players/646/kalle\n"
     ]
    },
    {
     "name": "stderr",
     "output_type": "stream",
     "text": [
      "2019-05-10 20:47:28.161 | INFO     | __main__:<module>:7 - Scraping new player: https://www.hltv.org/stats/players/3347/seized\n"
     ]
    },
    {
     "name": "stderr",
     "output_type": "stream",
     "text": [
      "2019-05-10 20:47:31.328 | INFO     | __main__:<module>:7 - Scraping new player: https://www.hltv.org/stats/players/12083/YDNA\n"
     ]
    },
    {
     "name": "stderr",
     "output_type": "stream",
     "text": [
      "2019-05-10 20:47:34.440 | INFO     | __main__:<module>:7 - Scraping new player: https://www.hltv.org/stats/players/7388/SOKER\n"
     ]
    },
    {
     "name": "stderr",
     "output_type": "stream",
     "text": [
      "2019-05-10 20:47:37.284 | INFO     | __main__:<module>:7 - Scraping new player: https://www.hltv.org/stats/players/174/solo\n"
     ]
    },
    {
     "name": "stderr",
     "output_type": "stream",
     "text": [
      "2019-05-10 20:47:40.893 | INFO     | __main__:<module>:7 - Scraping new player: https://www.hltv.org/stats/players/1485/RUBINO\n"
     ]
    },
    {
     "name": "stderr",
     "output_type": "stream",
     "text": [
      "2019-05-10 20:47:43.978 | INFO     | __main__:<module>:7 - Scraping new player: https://www.hltv.org/stats/players/9220/SHOOWTiME\n"
     ]
    },
    {
     "name": "stderr",
     "output_type": "stream",
     "text": [
      "2019-05-10 20:47:47.206 | INFO     | __main__:<module>:7 - Scraping new player: https://www.hltv.org/stats/players/8750/no_one\n"
     ]
    },
    {
     "name": "stderr",
     "output_type": "stream",
     "text": [
      "2019-05-10 20:47:50.397 | INFO     | __main__:<module>:7 - Scraping new player: https://www.hltv.org/stats/players/8324/morelz\n"
     ]
    },
    {
     "name": "stderr",
     "output_type": "stream",
     "text": [
      "2019-05-10 20:47:53.362 | INFO     | __main__:<module>:7 - Scraping new player: https://www.hltv.org/stats/players/12113/Jonji\n"
     ]
    },
    {
     "name": "stderr",
     "output_type": "stream",
     "text": [
      "2019-05-10 20:47:56.120 | INFO     | __main__:<module>:7 - Scraping new player: https://www.hltv.org/stats/players/13977/fnyekes\n"
     ]
    },
    {
     "name": "stderr",
     "output_type": "stream",
     "text": [
      "2019-05-10 20:47:58.983 | INFO     | __main__:<module>:7 - Scraping new player: https://www.hltv.org/stats/players/10372/kaboose\n"
     ]
    },
    {
     "name": "stderr",
     "output_type": "stream",
     "text": [
      "2019-05-10 20:48:02.028 | INFO     | __main__:<module>:7 - Scraping new player: https://www.hltv.org/stats/players/7529/SAGGERTON\n"
     ]
    },
    {
     "name": "stderr",
     "output_type": "stream",
     "text": [
      "2019-05-10 20:48:05.033 | INFO     | __main__:<module>:7 - Scraping new player: https://www.hltv.org/stats/players/7716/chopper\n"
     ]
    },
    {
     "name": "stderr",
     "output_type": "stream",
     "text": [
      "2019-05-10 20:48:07.949 | INFO     | __main__:<module>:7 - Scraping new player: https://www.hltv.org/stats/players/9666/HenkkyG\n"
     ]
    },
    {
     "name": "stderr",
     "output_type": "stream",
     "text": [
      "2019-05-10 20:48:10.822 | INFO     | __main__:<module>:7 - Scraping new player: https://www.hltv.org/stats/players/11358/0i\n"
     ]
    },
    {
     "name": "stderr",
     "output_type": "stream",
     "text": [
      "2019-05-10 20:48:13.640 | INFO     | __main__:<module>:7 - Scraping new player: https://www.hltv.org/stats/players/13155/speed4k\n"
     ]
    },
    {
     "name": "stderr",
     "output_type": "stream",
     "text": [
      "2019-05-10 20:48:16.539 | INFO     | __main__:<module>:7 - Scraping new player: https://www.hltv.org/stats/players/7434/AZK\n"
     ]
    },
    {
     "name": "stderr",
     "output_type": "stream",
     "text": [
      "2019-05-10 20:48:19.493 | INFO     | __main__:<module>:7 - Scraping new player: https://www.hltv.org/stats/players/11498/NickelBack\n"
     ]
    },
    {
     "name": "stderr",
     "output_type": "stream",
     "text": [
      "2019-05-10 20:48:22.427 | INFO     | __main__:<module>:7 - Scraping new player: https://www.hltv.org/stats/players/9291/krii\n"
     ]
    },
    {
     "name": "stderr",
     "output_type": "stream",
     "text": [
      "2019-05-10 20:48:25.326 | INFO     | __main__:<module>:7 - Scraping new player: https://www.hltv.org/stats/players/5393/slap\n"
     ]
    },
    {
     "name": "stderr",
     "output_type": "stream",
     "text": [
      "2019-05-10 20:48:28.232 | INFO     | __main__:<module>:7 - Scraping new player: https://www.hltv.org/stats/players/12161/KrizzeN\n"
     ]
    },
    {
     "name": "stderr",
     "output_type": "stream",
     "text": [
      "2019-05-10 20:48:31.225 | INFO     | __main__:<module>:7 - Scraping new player: https://www.hltv.org/stats/players/8000/syken\n"
     ]
    },
    {
     "name": "stderr",
     "output_type": "stream",
     "text": [
      "2019-05-10 20:48:34.048 | INFO     | __main__:<module>:7 - Scraping new player: https://www.hltv.org/stats/players/10611/Fadey\n"
     ]
    },
    {
     "name": "stderr",
     "output_type": "stream",
     "text": [
      "2019-05-10 20:48:37.036 | INFO     | __main__:<module>:7 - Scraping new player: https://www.hltv.org/stats/players/10508/nbl\n"
     ]
    },
    {
     "name": "stderr",
     "output_type": "stream",
     "text": [
      "2019-05-10 20:48:40.644 | INFO     | __main__:<module>:7 - Scraping new player: https://www.hltv.org/stats/players/7368/Hyper\n"
     ]
    },
    {
     "name": "stderr",
     "output_type": "stream",
     "text": [
      "2019-05-10 20:48:43.944 | INFO     | __main__:<module>:7 - Scraping new player: https://www.hltv.org/stats/players/7438/anger\n"
     ]
    },
    {
     "name": "stderr",
     "output_type": "stream",
     "text": [
      "2019-05-10 20:48:46.793 | INFO     | __main__:<module>:7 - Scraping new player: https://www.hltv.org/stats/players/373/donQ\n"
     ]
    },
    {
     "name": "stderr",
     "output_type": "stream",
     "text": [
      "2019-05-10 20:48:51.074 | INFO     | __main__:<module>:7 - Scraping new player: https://www.hltv.org/stats/players/161/TaZ\n"
     ]
    },
    {
     "name": "stderr",
     "output_type": "stream",
     "text": [
      "2019-05-10 20:48:54.308 | INFO     | __main__:<module>:7 - Scraping new player: https://www.hltv.org/stats/players/8716/DeadFox\n"
     ]
    },
    {
     "name": "stderr",
     "output_type": "stream",
     "text": [
      "2019-05-10 20:48:57.591 | INFO     | __main__:<module>:7 - Scraping new player: https://www.hltv.org/stats/players/8566/LUCAS1\n"
     ]
    },
    {
     "name": "stderr",
     "output_type": "stream",
     "text": [
      "2019-05-10 20:49:00.365 | INFO     | __main__:<module>:7 - Scraping new player: https://www.hltv.org/stats/players/7169/RpK\n"
     ]
    },
    {
     "name": "stderr",
     "output_type": "stream",
     "text": [
      "2019-05-10 20:49:03.335 | INFO     | __main__:<module>:7 - Scraping new player: https://www.hltv.org/stats/players/5045/zende\n"
     ]
    },
    {
     "name": "stderr",
     "output_type": "stream",
     "text": [
      "2019-05-10 20:49:06.334 | INFO     | __main__:<module>:7 - Scraping new player: https://www.hltv.org/stats/players/9636/BURNRUOk\n"
     ]
    },
    {
     "name": "stderr",
     "output_type": "stream",
     "text": [
      "2019-05-10 20:49:09.188 | INFO     | __main__:<module>:7 - Scraping new player: https://www.hltv.org/stats/players/8648/PetitSkel\n"
     ]
    },
    {
     "name": "stderr",
     "output_type": "stream",
     "text": [
      "2019-05-10 20:49:12.457 | INFO     | __main__:<module>:7 - Scraping new player: https://www.hltv.org/stats/players/8488/ZEDKO\n"
     ]
    },
    {
     "name": "stderr",
     "output_type": "stream",
     "text": [
      "2019-05-10 20:49:15.202 | INFO     | __main__:<module>:7 - Scraping new player: https://www.hltv.org/stats/players/9109/chuch\n"
     ]
    },
    {
     "name": "stderr",
     "output_type": "stream",
     "text": [
      "2019-05-10 20:49:18.698 | INFO     | __main__:<module>:7 - Scraping new player: https://www.hltv.org/stats/players/10762/Rock1nG\n"
     ]
    },
    {
     "name": "stderr",
     "output_type": "stream",
     "text": [
      "2019-05-10 20:49:21.634 | INFO     | __main__:<module>:7 - Scraping new player: https://www.hltv.org/stats/players/11337/RCF\n"
     ]
    },
    {
     "name": "stderr",
     "output_type": "stream",
     "text": [
      "2019-05-10 20:49:24.461 | INFO     | __main__:<module>:7 - Scraping new player: https://www.hltv.org/stats/players/11496/InJect\n"
     ]
    },
    {
     "name": "stderr",
     "output_type": "stream",
     "text": [
      "2019-05-10 20:49:27.368 | INFO     | __main__:<module>:7 - Scraping new player: https://www.hltv.org/stats/players/177/Jewelry\n"
     ]
    },
    {
     "name": "stderr",
     "output_type": "stream",
     "text": [
      "2019-05-10 20:49:30.714 | INFO     | __main__:<module>:7 - Scraping new player: https://www.hltv.org/stats/players/7382/steel\n"
     ]
    },
    {
     "name": "stderr",
     "output_type": "stream",
     "text": [
      "2019-05-10 20:49:33.628 | INFO     | __main__:<module>:7 - Scraping new player: https://www.hltv.org/stats/players/9130/Drone\n"
     ]
    },
    {
     "name": "stderr",
     "output_type": "stream",
     "text": [
      "2019-05-10 20:49:36.516 | INFO     | __main__:<module>:7 - Scraping new player: https://www.hltv.org/stats/players/9682/krudeN\n"
     ]
    },
    {
     "name": "stderr",
     "output_type": "stream",
     "text": [
      "2019-05-10 20:49:39.841 | INFO     | __main__:<module>:7 - Scraping new player: https://www.hltv.org/stats/players/8368/jmqa\n"
     ]
    },
    {
     "name": "stderr",
     "output_type": "stream",
     "text": [
      "2019-05-10 20:49:43.259 | INFO     | __main__:<module>:7 - Scraping new player: https://www.hltv.org/stats/players/6904/STYKO\n"
     ]
    },
    {
     "name": "stderr",
     "output_type": "stream",
     "text": [
      "2019-05-10 20:49:47.441 | INFO     | __main__:<module>:7 - Scraping new player: https://www.hltv.org/stats/players/165/NEO\n"
     ]
    },
    {
     "name": "stderr",
     "output_type": "stream",
     "text": [
      "2019-05-10 20:49:50.407 | INFO     | __main__:<module>:7 - Scraping new player: https://www.hltv.org/stats/players/10569/devoduvek\n"
     ]
    },
    {
     "name": "stderr",
     "output_type": "stream",
     "text": [
      "2019-05-10 20:49:53.610 | INFO     | __main__:<module>:7 - Scraping new player: https://www.hltv.org/stats/players/11891/phr\n"
     ]
    },
    {
     "name": "stderr",
     "output_type": "stream",
     "text": [
      "2019-05-10 20:49:56.433 | INFO     | __main__:<module>:7 - Scraping new player: https://www.hltv.org/stats/players/9664/Pollo\n"
     ]
    },
    {
     "name": "stderr",
     "output_type": "stream",
     "text": [
      "2019-05-10 20:49:59.442 | INFO     | __main__:<module>:7 - Scraping new player: https://www.hltv.org/stats/players/9545/xms\n"
     ]
    },
    {
     "name": "stderr",
     "output_type": "stream",
     "text": [
      "2019-05-10 20:50:02.208 | INFO     | __main__:<module>:7 - Scraping new player: https://www.hltv.org/stats/players/8911/sancz\n"
     ]
    },
    {
     "name": "stderr",
     "output_type": "stream",
     "text": [
      "2019-05-10 20:50:05.075 | INFO     | __main__:<module>:7 - Scraping new player: https://www.hltv.org/stats/players/8569/DEVIL\n"
     ]
    },
    {
     "name": "stderr",
     "output_type": "stream",
     "text": [
      "2019-05-10 20:50:08.377 | INFO     | __main__:<module>:7 - Scraping new player: https://www.hltv.org/stats/players/8125/Dima\n"
     ]
    },
    {
     "name": "stderr",
     "output_type": "stream",
     "text": [
      "2019-05-10 20:50:11.401 | INFO     | __main__:<module>:7 - Scraping new player: https://www.hltv.org/stats/players/11278/TOAO\n"
     ]
    },
    {
     "name": "stderr",
     "output_type": "stream",
     "text": [
      "2019-05-10 20:50:14.523 | INFO     | __main__:<module>:7 - Scraping new player: https://www.hltv.org/stats/players/11460/Tommy\n"
     ]
    },
    {
     "name": "stderr",
     "output_type": "stream",
     "text": [
      "2019-05-10 20:50:17.952 | INFO     | __main__:<module>:7 - Scraping new player: https://www.hltv.org/stats/players/7414/smF\n"
     ]
    },
    {
     "name": "stderr",
     "output_type": "stream",
     "text": [
      "2019-05-10 20:50:20.765 | INFO     | __main__:<module>:7 - Scraping new player: https://www.hltv.org/stats/players/9223/guishorro\n"
     ]
    },
    {
     "name": "stderr",
     "output_type": "stream",
     "text": [
      "2019-05-10 20:50:24.209 | INFO     | __main__:<module>:7 - Scraping new player: https://www.hltv.org/stats/players/6593/PKL\n"
     ]
    },
    {
     "name": "stderr",
     "output_type": "stream",
     "text": [
      "2019-05-10 20:50:28.089 | INFO     | __main__:<module>:7 - Scraping new player: https://www.hltv.org/stats/players/7511/denis\n"
     ]
    },
    {
     "name": "stderr",
     "output_type": "stream",
     "text": [
      "2019-05-10 20:50:30.926 | INFO     | __main__:<module>:7 - Scraping new player: https://www.hltv.org/stats/players/13042/LOGAN\n"
     ]
    },
    {
     "name": "stderr",
     "output_type": "stream",
     "text": [
      "2019-05-10 20:50:34.038 | INFO     | __main__:<module>:7 - Scraping new player: https://www.hltv.org/stats/players/7925/gabesson\n"
     ]
    },
    {
     "name": "stderr",
     "output_type": "stream",
     "text": [
      "2019-05-10 20:50:37.580 | INFO     | __main__:<module>:7 - Scraping new player: https://www.hltv.org/stats/players/2241/rmn\n"
     ]
    },
    {
     "name": "stderr",
     "output_type": "stream",
     "text": [
      "2019-05-10 20:50:40.446 | INFO     | __main__:<module>:7 - Scraping new player: https://www.hltv.org/stats/players/12101/neptune\n"
     ]
    },
    {
     "name": "stderr",
     "output_type": "stream",
     "text": [
      "2019-05-10 20:50:43.534 | INFO     | __main__:<module>:7 - Scraping new player: https://www.hltv.org/stats/players/303/starix\n"
     ]
    },
    {
     "name": "stderr",
     "output_type": "stream",
     "text": [
      "2019-05-10 20:50:46.477 | INFO     | __main__:<module>:7 - Scraping new player: https://www.hltv.org/stats/players/3886/seb\n"
     ]
    },
    {
     "name": "stderr",
     "output_type": "stream",
     "text": [
      "2019-05-10 20:50:49.831 | INFO     | __main__:<module>:7 - Scraping new player: https://www.hltv.org/stats/players/922/Snappi\n"
     ]
    },
    {
     "name": "stderr",
     "output_type": "stream",
     "text": [
      "2019-05-10 20:50:53.277 | INFO     | __main__:<module>:7 - Scraping new player: https://www.hltv.org/stats/players/302/kUcheR\n"
     ]
    },
    {
     "name": "stderr",
     "output_type": "stream",
     "text": [
      "2019-05-10 20:50:56.865 | INFO     | __main__:<module>:7 - Scraping new player: https://www.hltv.org/stats/players/971/KHRN\n"
     ]
    },
    {
     "name": "stderr",
     "output_type": "stream",
     "text": [
      "2019-05-10 20:50:59.798 | INFO     | __main__:<module>:7 - Scraping new player: https://www.hltv.org/stats/players/11746/YJ\n"
     ]
    },
    {
     "name": "stderr",
     "output_type": "stream",
     "text": [
      "2019-05-10 20:51:02.863 | INFO     | __main__:<module>:7 - Scraping new player: https://www.hltv.org/stats/players/8459/Kvik\n"
     ]
    },
    {
     "name": "stderr",
     "output_type": "stream",
     "text": [
      "2019-05-10 20:51:05.651 | INFO     | __main__:<module>:7 - Scraping new player: https://www.hltv.org/stats/players/14221/kaper\n"
     ]
    },
    {
     "name": "stderr",
     "output_type": "stream",
     "text": [
      "2019-05-10 20:51:08.404 | INFO     | __main__:<module>:7 - Scraping new player: https://www.hltv.org/stats/players/13978/Coffee\n"
     ]
    },
    {
     "name": "stderr",
     "output_type": "stream",
     "text": [
      "2019-05-10 20:51:11.296 | INFO     | __main__:<module>:7 - Scraping new player: https://www.hltv.org/stats/players/8947/acAp\n"
     ]
    },
    {
     "name": "stderr",
     "output_type": "stream",
     "text": [
      "2019-05-10 20:51:14.236 | INFO     | __main__:<module>:7 - Scraping new player: https://www.hltv.org/stats/players/8446/ELUSIVE\n"
     ]
    },
    {
     "name": "stderr",
     "output_type": "stream",
     "text": [
      "2019-05-10 20:51:17.163 | INFO     | __main__:<module>:7 - Scraping new player: https://www.hltv.org/stats/players/329/Kairi\n"
     ]
    },
    {
     "name": "stderr",
     "output_type": "stream",
     "text": [
      "2019-05-10 20:51:19.980 | INFO     | __main__:<module>:7 - Scraping new player: https://www.hltv.org/stats/players/12086/stat\n"
     ]
    },
    {
     "name": "stderr",
     "output_type": "stream",
     "text": [
      "2019-05-10 20:51:22.789 | INFO     | __main__:<module>:7 - Scraping new player: https://www.hltv.org/stats/players/205/glow\n"
     ]
    },
    {
     "name": "stderr",
     "output_type": "stream",
     "text": [
      "2019-05-10 20:51:26.246 | INFO     | __main__:<module>:7 - Scraping new player: https://www.hltv.org/stats/players/8137/reltuC\n"
     ]
    },
    {
     "name": "stderr",
     "output_type": "stream",
     "text": [
      "2019-05-10 20:51:29.597 | INFO     | __main__:<module>:7 - Scraping new player: https://www.hltv.org/stats/players/7463/Inzta\n"
     ]
    },
    {
     "name": "stderr",
     "output_type": "stream",
     "text": [
      "2019-05-10 20:51:32.620 | INFO     | __main__:<module>:7 - Scraping new player: https://www.hltv.org/stats/players/3631/Polly\n"
     ]
    },
    {
     "name": "stderr",
     "output_type": "stream",
     "text": [
      "2019-05-10 20:51:35.952 | INFO     | __main__:<module>:7 - Scraping new player: https://www.hltv.org/stats/players/8374/bodyy\n"
     ]
    },
    {
     "name": "stderr",
     "output_type": "stream",
     "text": [
      "2019-05-10 20:51:39.454 | INFO     | __main__:<module>:7 - Scraping new player: https://www.hltv.org/stats/players/7170/SmithZz\n"
     ]
    },
    {
     "name": "stderr",
     "output_type": "stream",
     "text": [
      "2019-05-10 20:51:42.432 | INFO     | __main__:<module>:7 - Scraping new player: https://www.hltv.org/stats/players/10563/caike\n"
     ]
    },
    {
     "name": "stderr",
     "output_type": "stream",
     "text": [
      "2019-05-10 20:51:45.556 | INFO     | __main__:<module>:7 - Scraping new player: https://www.hltv.org/stats/players/170/spacca\n"
     ]
    },
    {
     "name": "stderr",
     "output_type": "stream",
     "text": [
      "2019-05-10 20:51:48.572 | INFO     | __main__:<module>:7 - Scraping new player: https://www.hltv.org/stats/players/1206/BTN\n"
     ]
    },
    {
     "name": "stderr",
     "output_type": "stream",
     "text": [
      "2019-05-10 20:51:51.524 | INFO     | __main__:<module>:7 - Scraping new player: https://www.hltv.org/stats/players/8150/maeVe\n"
     ]
    },
    {
     "name": "stderr",
     "output_type": "stream",
     "text": [
      "2019-05-10 20:51:54.898 | INFO     | __main__:<module>:7 - Scraping new player: https://www.hltv.org/stats/players/8151/AcilioN\n"
     ]
    },
    {
     "name": "stderr",
     "output_type": "stream",
     "text": [
      "2019-05-10 20:51:57.872 | INFO     | __main__:<module>:7 - Scraping new player: https://www.hltv.org/stats/players/9019/Surreal\n"
     ]
    },
    {
     "name": "stderr",
     "output_type": "stream",
     "text": [
      "2019-05-10 20:52:01.235 | INFO     | __main__:<module>:7 - Scraping new player: https://www.hltv.org/stats/players/823/Maniac\n"
     ]
    },
    {
     "name": "stderr",
     "output_type": "stream",
     "text": [
      "2019-05-10 20:52:04.160 | INFO     | __main__:<module>:7 - Scraping new player: https://www.hltv.org/stats/players/9053/Uber\n"
     ]
    },
    {
     "name": "stderr",
     "output_type": "stream",
     "text": [
      "2019-05-10 20:52:07.213 | INFO     | __main__:<module>:7 - Scraping new player: https://www.hltv.org/stats/players/9482/NEKIZ\n"
     ]
    },
    {
     "name": "stderr",
     "output_type": "stream",
     "text": [
      "2019-05-10 20:52:10.157 | INFO     | __main__:<module>:7 - Scraping new player: https://www.hltv.org/stats/players/7232/r0bs3n\n"
     ]
    },
    {
     "name": "stderr",
     "output_type": "stream",
     "text": [
      "2019-05-10 20:52:13.253 | INFO     | __main__:<module>:7 - Scraping new player: https://www.hltv.org/stats/players/2148/tahsiN\n"
     ]
    },
    {
     "name": "stderr",
     "output_type": "stream",
     "text": [
      "2019-05-10 20:52:16.593 | INFO     | __main__:<module>:7 - Scraping new player: https://www.hltv.org/stats/players/8331/SOON\n"
     ]
    },
    {
     "name": "stderr",
     "output_type": "stream",
     "text": [
      "2019-05-10 20:52:19.870 | INFO     | __main__:<module>:7 - Scraping new player: https://www.hltv.org/stats/players/150/MAJ3R\n"
     ]
    },
    {
     "name": "stderr",
     "output_type": "stream",
     "text": [
      "2019-05-10 20:52:22.809 | INFO     | __main__:<module>:7 - Scraping new player: https://www.hltv.org/stats/players/9736/ncl\n"
     ]
    },
    {
     "name": "stderr",
     "output_type": "stream",
     "text": [
      "2019-05-10 20:52:25.681 | INFO     | __main__:<module>:7 - Scraping new player: https://www.hltv.org/stats/players/10367/ecfN\n"
     ]
    },
    {
     "name": "stderr",
     "output_type": "stream",
     "text": [
      "2019-05-10 20:52:28.759 | INFO     | __main__:<module>:7 - Scraping new player: https://www.hltv.org/stats/players/3329/quix\n"
     ]
    },
    {
     "name": "stderr",
     "output_type": "stream",
     "text": [
      "2019-05-10 20:52:31.780 | INFO     | __main__:<module>:7 - Scraping new player: https://www.hltv.org/stats/players/7508/alexRr\n"
     ]
    },
    {
     "name": "stderr",
     "output_type": "stream",
     "text": [
      "2019-05-10 20:52:35.118 | INFO     | __main__:<module>:7 - Scraping new player: https://www.hltv.org/stats/players/2476/emi\n"
     ]
    },
    {
     "name": "stderr",
     "output_type": "stream",
     "text": [
      "2019-05-10 20:52:38.986 | INFO     | __main__:<module>:7 - Scraping new player: https://www.hltv.org/stats/players/3517/kzy\n"
     ]
    },
    {
     "name": "stderr",
     "output_type": "stream",
     "text": [
      "2019-05-10 20:52:42.236 | INFO     | __main__:<module>:7 - Scraping new player: https://www.hltv.org/stats/players/7958/dumz\n"
     ]
    },
    {
     "name": "stderr",
     "output_type": "stream",
     "text": [
      "2019-05-10 20:52:45.151 | INFO     | __main__:<module>:7 - Scraping new player: https://www.hltv.org/stats/players/9325/arvid\n"
     ]
    },
    {
     "name": "stderr",
     "output_type": "stream",
     "text": [
      "2019-05-10 20:52:48.145 | INFO     | __main__:<module>:7 - Scraping new player: https://www.hltv.org/stats/players/8047/Lambert\n"
     ]
    },
    {
     "name": "stderr",
     "output_type": "stream",
     "text": [
      "2019-05-10 20:52:51.000 | INFO     | __main__:<module>:7 - Scraping new player: https://www.hltv.org/stats/players/10506/tutehen\n"
     ]
    },
    {
     "name": "stderr",
     "output_type": "stream",
     "text": [
      "2019-05-10 20:52:53.961 | INFO     | __main__:<module>:7 - Scraping new player: https://www.hltv.org/stats/players/169/nak\n"
     ]
    },
    {
     "name": "stderr",
     "output_type": "stream",
     "text": [
      "2019-05-10 20:52:56.819 | INFO     | __main__:<module>:7 - Scraping new player: https://www.hltv.org/stats/players/9763/Jayzwalkingz\n"
     ]
    },
    {
     "name": "stderr",
     "output_type": "stream",
     "text": [
      "2019-05-10 20:52:59.814 | INFO     | __main__:<module>:7 - Scraping new player: https://www.hltv.org/stats/players/10784/RuStY\n"
     ]
    },
    {
     "name": "stderr",
     "output_type": "stream",
     "text": [
      "2019-05-10 20:53:02.757 | INFO     | __main__:<module>:7 - Scraping new player: https://www.hltv.org/stats/players/9660/CONNOR93\n"
     ]
    },
    {
     "name": "stderr",
     "output_type": "stream",
     "text": [
      "2019-05-10 20:53:05.998 | INFO     | __main__:<module>:7 - Scraping new player: https://www.hltv.org/stats/players/9081/S0tF1k\n"
     ]
    },
    {
     "name": "stderr",
     "output_type": "stream",
     "text": [
      "2019-05-10 20:53:09.253 | INFO     | __main__:<module>:7 - Scraping new player: https://www.hltv.org/stats/players/5440/flash\n"
     ]
    },
    {
     "name": "stderr",
     "output_type": "stream",
     "text": [
      "2019-05-10 20:53:12.226 | INFO     | __main__:<module>:7 - Scraping new player: https://www.hltv.org/stats/players/7943/uNdo\n"
     ]
    },
    {
     "name": "stderr",
     "output_type": "stream",
     "text": [
      "2019-05-10 20:53:15.211 | INFO     | __main__:<module>:7 - Scraping new player: https://www.hltv.org/stats/players/9104/DANZ\n"
     ]
    },
    {
     "name": "stderr",
     "output_type": "stream",
     "text": [
      "2019-05-10 20:53:18.121 | INFO     | __main__:<module>:7 - Scraping new player: https://www.hltv.org/stats/players/147/SIXER\n"
     ]
    },
    {
     "name": "stderr",
     "output_type": "stream",
     "text": [
      "2019-05-10 20:53:21.167 | INFO     | __main__:<module>:7 - Scraping new player: https://www.hltv.org/stats/players/7942/dERZKIY\n"
     ]
    },
    {
     "name": "stderr",
     "output_type": "stream",
     "text": [
      "2019-05-10 20:53:24.132 | INFO     | __main__:<module>:7 - Scraping new player: https://www.hltv.org/stats/players/8212/ScrunK\n"
     ]
    },
    {
     "name": "stderr",
     "output_type": "stream",
     "text": [
      "2019-05-10 20:53:26.987 | INFO     | __main__:<module>:7 - Scraping new player: https://www.hltv.org/stats/players/13976/boX\n"
     ]
    },
    {
     "name": "stderr",
     "output_type": "stream",
     "text": [
      "2019-05-10 20:53:29.856 | INFO     | __main__:<module>:7 - Scraping new player: https://www.hltv.org/stats/players/9845/vSa\n"
     ]
    },
    {
     "name": "stderr",
     "output_type": "stream",
     "text": [
      "2019-05-10 20:53:32.845 | INFO     | __main__:<module>:7 - Scraping new player: https://www.hltv.org/stats/players/8538/stark\n"
     ]
    },
    {
     "name": "stderr",
     "output_type": "stream",
     "text": [
      "2019-05-10 20:53:36.059 | INFO     | __main__:<module>:7 - Scraping new player: https://www.hltv.org/stats/players/10404/Console\n"
     ]
    },
    {
     "name": "stderr",
     "output_type": "stream",
     "text": [
      "2019-05-10 20:53:39.138 | INFO     | __main__:<module>:7 - Scraping new player: https://www.hltv.org/stats/players/8752/SileNt\n"
     ]
    },
    {
     "name": "stderr",
     "output_type": "stream",
     "text": [
      "2019-05-10 20:53:42.085 | INFO     | __main__:<module>:7 - Scraping new player: https://www.hltv.org/stats/players/7828/holzt\n"
     ]
    },
    {
     "name": "stderr",
     "output_type": "stream",
     "text": [
      "2019-05-10 20:53:46.315 | INFO     | __main__:<module>:7 - Scraping new player: https://www.hltv.org/stats/players/9085/Toy\n"
     ]
    },
    {
     "name": "stderr",
     "output_type": "stream",
     "text": [
      "2019-05-10 20:53:59.095 | INFO     | __main__:<module>:7 - Scraping new player: https://www.hltv.org/stats/players/1064/crisby\n"
     ]
    },
    {
     "name": "stderr",
     "output_type": "stream",
     "text": [
      "2019-05-10 20:54:10.177 | INFO     | __main__:<module>:7 - Scraping new player: https://www.hltv.org/stats/players/8790/hutji\n"
     ]
    },
    {
     "name": "stderr",
     "output_type": "stream",
     "text": [
      "2019-05-10 20:54:16.416 | INFO     | __main__:<module>:7 - Scraping new player: https://www.hltv.org/stats/players/8599/Karsa\n"
     ]
    },
    {
     "name": "stderr",
     "output_type": "stream",
     "text": [
      "2019-05-10 20:54:22.184 | INFO     | __main__:<module>:7 - Scraping new player: https://www.hltv.org/stats/players/7214/strux1\n"
     ]
    },
    {
     "name": "stderr",
     "output_type": "stream",
     "text": [
      "2019-05-10 20:54:26.849 | INFO     | __main__:<module>:7 - Scraping new player: https://www.hltv.org/stats/players/7821/sAw\n"
     ]
    },
    {
     "name": "stderr",
     "output_type": "stream",
     "text": [
      "2019-05-10 20:54:30.125 | INFO     | __main__:<module>:7 - Scraping new player: https://www.hltv.org/stats/players/9217/TACO\n"
     ]
    },
    {
     "name": "stderr",
     "output_type": "stream",
     "text": [
      "2019-05-10 20:54:34.063 | INFO     | __main__:<module>:7 - Scraping new player: https://www.hltv.org/stats/players/7218/kRYSTAL\n"
     ]
    },
    {
     "name": "stderr",
     "output_type": "stream",
     "text": [
      "2019-05-10 20:54:36.859 | INFO     | __main__:<module>:7 - Scraping new player: https://www.hltv.org/stats/players/7147/Fifflaren\n"
     ]
    },
    {
     "name": "stderr",
     "output_type": "stream",
     "text": [
      "2019-05-10 20:54:40.776 | INFO     | __main__:<module>:7 - Scraping new player: https://www.hltv.org/stats/players/7166/Ex6TenZ\n"
     ]
    },
    {
     "name": "stderr",
     "output_type": "stream",
     "text": [
      "2019-05-10 20:54:43.657 | INFO     | __main__:<module>:7 - Scraping new player: https://www.hltv.org/stats/players/8746/James\n"
     ]
    },
    {
     "name": "stderr",
     "output_type": "stream",
     "text": [
      "2019-05-10 20:54:46.621 | INFO     | __main__:<module>:7 - Scraping new player: https://www.hltv.org/stats/players/7246/stavros\n"
     ]
    },
    {
     "name": "stderr",
     "output_type": "stream",
     "text": [
      "2019-05-10 20:54:49.563 | INFO     | __main__:<module>:7 - Scraping new player: https://www.hltv.org/stats/players/8410/arch\n"
     ]
    },
    {
     "name": "stderr",
     "output_type": "stream",
     "text": [
      "2019-05-10 20:54:52.490 | INFO     | __main__:<module>:7 - Scraping new player: https://www.hltv.org/stats/players/12590/soju_j\n"
     ]
    },
    {
     "name": "stderr",
     "output_type": "stream",
     "text": [
      "2019-05-10 20:54:56.190 | INFO     | __main__:<module>:7 - Scraping new player: https://www.hltv.org/stats/players/1950/tonyblack\n"
     ]
    },
    {
     "name": "stderr",
     "output_type": "stream",
     "text": [
      "2019-05-10 20:54:59.496 | INFO     | __main__:<module>:7 - Scraping new player: https://www.hltv.org/stats/players/1889/LOMME\n"
     ]
    },
    {
     "name": "stderr",
     "output_type": "stream",
     "text": [
      "2019-05-10 20:55:02.749 | INFO     | __main__:<module>:7 - Scraping new player: https://www.hltv.org/stats/players/7405/ub1que\n"
     ]
    },
    {
     "name": "stderr",
     "output_type": "stream",
     "text": [
      "2019-05-10 20:55:07.767 | INFO     | __main__:<module>:7 - Scraping new player: https://www.hltv.org/stats/players/8320/repo\n"
     ]
    },
    {
     "name": "stderr",
     "output_type": "stream",
     "text": [
      "2019-05-10 20:55:12.400 | INFO     | __main__:<module>:7 - Scraping new player: https://www.hltv.org/stats/players/5385/Luz\n"
     ]
    },
    {
     "name": "stderr",
     "output_type": "stream",
     "text": [
      "2019-05-10 20:55:15.595 | INFO     | __main__:<module>:7 - Scraping new player: https://www.hltv.org/stats/players/7323/fel1x\n"
     ]
    },
    {
     "name": "stderr",
     "output_type": "stream",
     "text": [
      "2019-05-10 20:55:18.681 | INFO     | __main__:<module>:7 - Scraping new player: https://www.hltv.org/stats/players/9259/witmer\n"
     ]
    },
    {
     "name": "stderr",
     "output_type": "stream",
     "text": [
      "2019-05-10 20:55:22.989 | INFO     | __main__:<module>:7 - Scraping new player: https://www.hltv.org/stats/players/429/karrigan\n"
     ]
    },
    {
     "name": "stderr",
     "output_type": "stream",
     "text": [
      "2019-05-10 20:55:25.836 | INFO     | __main__:<module>:7 - Scraping new player: https://www.hltv.org/stats/players/13297/ZINKEN\n"
     ]
    },
    {
     "name": "stderr",
     "output_type": "stream",
     "text": [
      "2019-05-10 20:55:28.831 | INFO     | __main__:<module>:7 - Scraping new player: https://www.hltv.org/stats/players/11110/Golden\n"
     ]
    },
    {
     "name": "stderr",
     "output_type": "stream",
     "text": [
      "2019-05-10 20:55:31.820 | INFO     | __main__:<module>:7 - Scraping new player: https://www.hltv.org/stats/players/5328/psycho\n"
     ]
    },
    {
     "name": "stderr",
     "output_type": "stream",
     "text": [
      "2019-05-10 20:55:35.108 | INFO     | __main__:<module>:7 - Scraping new player: https://www.hltv.org/stats/players/2292/forget\n"
     ]
    },
    {
     "name": "stderr",
     "output_type": "stream",
     "text": [
      "2019-05-10 20:55:38.097 | INFO     | __main__:<module>:7 - Scraping new player: https://www.hltv.org/stats/players/9348/crush\n"
     ]
    },
    {
     "name": "stderr",
     "output_type": "stream",
     "text": [
      "2019-05-10 20:55:41.255 | INFO     | __main__:<module>:7 - Scraping new player: https://www.hltv.org/stats/players/8549/EXUS\n"
     ]
    },
    {
     "name": "stderr",
     "output_type": "stream",
     "text": [
      "2019-05-10 20:55:44.637 | INFO     | __main__:<module>:7 - Scraping new player: https://www.hltv.org/stats/players/8983/MiGHTYMAX\n"
     ]
    },
    {
     "name": "stderr",
     "output_type": "stream",
     "text": [
      "2019-05-10 20:55:47.569 | INFO     | __main__:<module>:7 - Scraping new player: https://www.hltv.org/stats/players/7321/TuGuX\n"
     ]
    },
    {
     "name": "stderr",
     "output_type": "stream",
     "text": [
      "2019-05-10 20:55:50.803 | INFO     | __main__:<module>:7 - Scraping new player: https://www.hltv.org/stats/players/8788/keshandr\n"
     ]
    },
    {
     "name": "stderr",
     "output_type": "stream",
     "text": [
      "2019-05-10 20:55:53.661 | INFO     | __main__:<module>:7 - Scraping new player: https://www.hltv.org/stats/players/11493/sK\n"
     ]
    },
    {
     "name": "stderr",
     "output_type": "stream",
     "text": [
      "2019-05-10 20:55:56.601 | INFO     | __main__:<module>:7 - Scraping new player: https://www.hltv.org/stats/players/8372/matHEND\n"
     ]
    },
    {
     "name": "stderr",
     "output_type": "stream",
     "text": [
      "2019-05-10 20:55:59.738 | INFO     | __main__:<module>:7 - Scraping new player: https://www.hltv.org/stats/players/1200/hitMouse\n"
     ]
    },
    {
     "name": "stderr",
     "output_type": "stream",
     "text": [
      "2019-05-10 20:56:02.650 | INFO     | __main__:<module>:7 - Scraping new player: https://www.hltv.org/stats/players/365/meisoN\n"
     ]
    },
    {
     "name": "stderr",
     "output_type": "stream",
     "text": [
      "2019-05-10 20:56:05.858 | INFO     | __main__:<module>:7 - Scraping new player: https://www.hltv.org/stats/players/11492/Noisia\n"
     ]
    },
    {
     "name": "stderr",
     "output_type": "stream",
     "text": [
      "2019-05-10 20:56:09.253 | INFO     | __main__:<module>:7 - Scraping new player: https://www.hltv.org/stats/players/7537/xartE\n"
     ]
    },
    {
     "name": "stderr",
     "output_type": "stream",
     "text": [
      "2019-05-10 20:56:12.566 | INFO     | __main__:<module>:7 - Scraping new player: https://www.hltv.org/stats/players/1278/pNshr\n"
     ]
    },
    {
     "name": "stderr",
     "output_type": "stream",
     "text": [
      "2019-05-10 20:56:15.610 | INFO     | __main__:<module>:7 - Scraping new player: https://www.hltv.org/stats/players/9857/ngiN\n"
     ]
    },
    {
     "name": "stderr",
     "output_type": "stream",
     "text": [
      "2019-05-10 20:56:18.472 | INFO     | __main__:<module>:7 - Scraping new player: https://www.hltv.org/stats/players/8302/mistou\n"
     ]
    },
    {
     "name": "stderr",
     "output_type": "stream",
     "text": [
      "2019-05-10 20:56:21.650 | INFO     | __main__:<module>:7 - Scraping new player: https://www.hltv.org/stats/players/1331/Xp3\n"
     ]
    },
    {
     "name": "stderr",
     "output_type": "stream",
     "text": [
      "2019-05-10 20:56:24.781 | INFO     | __main__:<module>:7 - Scraping new player: https://www.hltv.org/stats/players/7796/wayLander\n"
     ]
    },
    {
     "name": "stderr",
     "output_type": "stream",
     "text": [
      "2019-05-10 20:56:27.666 | INFO     | __main__:<module>:7 - Scraping new player: https://www.hltv.org/stats/players/484/Zeus\n"
     ]
    },
    {
     "name": "stderr",
     "output_type": "stream",
     "text": [
      "2019-05-10 20:56:30.276 | INFO     | __main__:<module>:7 - Scraping new player: https://www.hltv.org/stats/players/8256/tecek\n"
     ]
    },
    {
     "name": "stderr",
     "output_type": "stream",
     "text": [
      "2019-05-10 20:56:33.351 | INFO     | __main__:<module>:7 - Scraping new player: https://www.hltv.org/stats/players/6453/arya\n"
     ]
    },
    {
     "name": "stderr",
     "output_type": "stream",
     "text": [
      "2019-05-10 20:56:36.234 | INFO     | __main__:<module>:7 - Scraping new player: https://www.hltv.org/stats/players/1866/Shara\n"
     ]
    },
    {
     "name": "stderr",
     "output_type": "stream",
     "text": [
      "2019-05-10 20:56:39.032 | INFO     | __main__:<module>:7 - Scraping new player: https://www.hltv.org/stats/players/3252/LEGIJA\n"
     ]
    },
    {
     "name": "stderr",
     "output_type": "stream",
     "text": [
      "2019-05-10 20:56:41.851 | INFO     | __main__:<module>:7 - Scraping new player: https://www.hltv.org/stats/players/1083/AERO\n"
     ]
    },
    {
     "name": "stderr",
     "output_type": "stream",
     "text": [
      "2019-05-10 20:56:44.694 | INFO     | __main__:<module>:7 - Scraping new player: https://www.hltv.org/stats/players/8515/hades\n"
     ]
    },
    {
     "name": "stderr",
     "output_type": "stream",
     "text": [
      "2019-05-10 20:56:47.741 | INFO     | __main__:<module>:7 - Scraping new player: https://www.hltv.org/stats/players/1154/roman\n"
     ]
    },
    {
     "name": "stderr",
     "output_type": "stream",
     "text": [
      "2019-05-10 20:56:51.742 | INFO     | __main__:<module>:7 - Scraping new player: https://www.hltv.org/stats/players/7156/MSL\n"
     ]
    },
    {
     "name": "stderr",
     "output_type": "stream",
     "text": [
      "2019-05-10 20:56:55.457 | INFO     | __main__:<module>:7 - Scraping new player: https://www.hltv.org/stats/players/15120/JiNKZ\n"
     ]
    },
    {
     "name": "stderr",
     "output_type": "stream",
     "text": [
      "2019-05-10 20:56:58.461 | INFO     | __main__:<module>:7 - Scraping new player: https://www.hltv.org/stats/players/8294/balblna\n"
     ]
    },
    {
     "name": "stderr",
     "output_type": "stream",
     "text": [
      "2019-05-10 20:57:01.491 | INFO     | __main__:<module>:7 - Scraping new player: https://www.hltv.org/stats/players/330/MusambaN1\n"
     ]
    },
    {
     "name": "stderr",
     "output_type": "stream",
     "text": [
      "2019-05-10 20:57:04.339 | INFO     | __main__:<module>:7 - Scraping new player: https://www.hltv.org/stats/players/10114/BONA\n"
     ]
    },
    {
     "name": "stderr",
     "output_type": "stream",
     "text": [
      "2019-05-10 20:57:07.776 | INFO     | __main__:<module>:7 - Scraping new player: https://www.hltv.org/stats/players/499/hooch\n"
     ]
    },
    {
     "name": "stderr",
     "output_type": "stream",
     "text": [
      "2019-05-10 20:57:10.777 | INFO     | __main__:<module>:7 - Scraping new player: https://www.hltv.org/stats/players/8504/LeX\n"
     ]
    },
    {
     "name": "stderr",
     "output_type": "stream",
     "text": [
      "2019-05-10 20:57:14.038 | INFO     | __main__:<module>:7 - Scraping new player: https://www.hltv.org/stats/players/8600/advent\n"
     ]
    },
    {
     "name": "stderr",
     "output_type": "stream",
     "text": [
      "2019-05-10 20:57:17.007 | INFO     | __main__:<module>:7 - Scraping new player: https://www.hltv.org/stats/players/2304/Kirby\n"
     ]
    },
    {
     "name": "stderr",
     "output_type": "stream",
     "text": [
      "2019-05-10 20:57:19.802 | INFO     | __main__:<module>:7 - Scraping new player: https://www.hltv.org/stats/players/8794/jasonR\n"
     ]
    },
    {
     "name": "stderr",
     "output_type": "stream",
     "text": [
      "2019-05-10 20:57:23.056 | INFO     | __main__:<module>:7 - Scraping new player: https://www.hltv.org/stats/players/5327/nkl\n"
     ]
    },
    {
     "name": "stderr",
     "output_type": "stream",
     "text": [
      "2019-05-10 20:57:25.906 | INFO     | __main__:<module>:7 - Scraping new player: https://www.hltv.org/stats/players/163/Loord\n"
     ]
    },
    {
     "name": "stderr",
     "output_type": "stream",
     "text": [
      "2019-05-10 20:57:29.167 | INFO     | __main__:<module>:7 - Scraping new player: https://www.hltv.org/stats/players/7462/Fuks\n"
     ]
    },
    {
     "name": "stderr",
     "output_type": "stream",
     "text": [
      "2019-05-10 20:57:32.022 | INFO     | __main__:<module>:7 - Scraping new player: https://www.hltv.org/stats/players/8293/It%27s%20my\n"
     ]
    },
    {
     "name": "stderr",
     "output_type": "stream",
     "text": [
      "2019-05-10 20:57:34.943 | INFO     | __main__:<module>:7 - Scraping new player: https://www.hltv.org/stats/players/8612/fix\n"
     ]
    },
    {
     "name": "stderr",
     "output_type": "stream",
     "text": [
      "2019-05-10 20:57:38.001 | INFO     | __main__:<module>:7 - Scraping new player: https://www.hltv.org/stats/players/10993/torben\n"
     ]
    },
    {
     "name": "stderr",
     "output_type": "stream",
     "text": [
      "2019-05-10 20:57:40.874 | INFO     | __main__:<module>:7 - Scraping new player: https://www.hltv.org/stats/players/3887/els\n"
     ]
    },
    {
     "name": "stderr",
     "output_type": "stream",
     "text": [
      "2019-05-10 20:57:44.147 | INFO     | __main__:<module>:7 - Scraping new player: https://www.hltv.org/stats/players/6451/FNS\n"
     ]
    },
    {
     "name": "stderr",
     "output_type": "stream",
     "text": [
      "2019-05-10 20:57:47.096 | INFO     | __main__:<module>:7 - Scraping new player: https://www.hltv.org/stats/players/9017/MAiNLiNE\n"
     ]
    },
    {
     "name": "stderr",
     "output_type": "stream",
     "text": [
      "2019-05-10 20:57:49.929 | INFO     | __main__:<module>:7 - Scraping new player: https://www.hltv.org/stats/players/9882/Polen\n"
     ]
    },
    {
     "name": "stderr",
     "output_type": "stream",
     "text": [
      "2019-05-10 20:57:54.006 | INFO     | __main__:<module>:7 - Scraping new player: https://www.hltv.org/stats/players/41/pronax\n"
     ]
    },
    {
     "name": "stderr",
     "output_type": "stream",
     "text": [
      "2019-05-10 20:57:56.837 | INFO     | __main__:<module>:7 - Scraping new player: https://www.hltv.org/stats/players/2284/ryk\n"
     ]
    },
    {
     "name": "stderr",
     "output_type": "stream",
     "text": [
      "2019-05-10 20:57:59.772 | INFO     | __main__:<module>:7 - Scraping new player: https://www.hltv.org/stats/players/9295/sycrone\n"
     ]
    },
    {
     "name": "stderr",
     "output_type": "stream",
     "text": [
      "2019-05-10 20:58:02.858 | INFO     | __main__:<module>:7 - Scraping new player: https://www.hltv.org/stats/players/7797/spiker\n"
     ]
    },
    {
     "name": "stderr",
     "output_type": "stream",
     "text": [
      "2019-05-10 20:58:06.066 | INFO     | __main__:<module>:7 - Scraping new player: https://www.hltv.org/stats/players/921/BERRY\n"
     ]
    },
    {
     "name": "stderr",
     "output_type": "stream",
     "text": [
      "2019-05-10 20:58:09.601 | INFO     | __main__:<module>:7 - Scraping new player: https://www.hltv.org/stats/players/8521/daps\n"
     ]
    },
    {
     "name": "stderr",
     "output_type": "stream",
     "text": [
      "2019-05-10 20:58:12.961 | INFO     | __main__:<module>:7 - Scraping new player: https://www.hltv.org/stats/players/1916/seang%40res\n"
     ]
    },
    {
     "name": "stderr",
     "output_type": "stream",
     "text": [
      "2019-05-10 20:58:15.875 | INFO     | __main__:<module>:7 - Scraping new player: https://www.hltv.org/stats/players/11494/Dezibel\n"
     ]
    },
    {
     "name": "stderr",
     "output_type": "stream",
     "text": [
      "2019-05-10 20:58:18.799 | INFO     | __main__:<module>:7 - Scraping new player: https://www.hltv.org/stats/players/1328/flowsicK\n"
     ]
    },
    {
     "name": "stderr",
     "output_type": "stream",
     "text": [
      "2019-05-10 20:58:21.921 | INFO     | __main__:<module>:7 - Scraping new player: https://www.hltv.org/stats/players/9350/def\n"
     ]
    },
    {
     "name": "stderr",
     "output_type": "stream",
     "text": [
      "2019-05-10 20:58:24.858 | INFO     | __main__:<module>:7 - Scraping new player: https://www.hltv.org/stats/players/12572/djL\n"
     ]
    },
    {
     "name": "stderr",
     "output_type": "stream",
     "text": [
      "2019-05-10 20:58:27.819 | INFO     | __main__:<module>:7 - Scraping new player: https://www.hltv.org/stats/players/7378/Devilwalk\n"
     ]
    },
    {
     "name": "stderr",
     "output_type": "stream",
     "text": [
      "2019-05-10 20:58:30.761 | INFO     | __main__:<module>:7 - Scraping new player: https://www.hltv.org/stats/players/3018/zEVES\n"
     ]
    },
    {
     "name": "stderr",
     "output_type": "stream",
     "text": [
      "2019-05-10 20:58:34.501 | INFO     | __main__:<module>:7 - Scraping new player: https://www.hltv.org/stats/players/136/gob%20b\n"
     ]
    },
    {
     "name": "stderr",
     "output_type": "stream",
     "text": [
      "2019-05-10 20:58:37.612 | INFO     | __main__:<module>:7 - Scraping new player: https://www.hltv.org/stats/players/1964/Twista\n"
     ]
    },
    {
     "name": "stderr",
     "output_type": "stream",
     "text": [
      "2019-05-10 20:58:41.076 | INFO     | __main__:<module>:7 - Scraping new player: https://www.hltv.org/stats/players/8708/Slemmy\n"
     ]
    },
    {
     "name": "stderr",
     "output_type": "stream",
     "text": [
      "2019-05-10 20:58:44.207 | INFO     | __main__:<module>:7 - Scraping new player: https://www.hltv.org/stats/players/9637/LONSDALE\n"
     ]
    },
    {
     "name": "stderr",
     "output_type": "stream",
     "text": [
      "2019-05-10 20:58:47.251 | INFO     | __main__:<module>:7 - Scraping new player: https://www.hltv.org/stats/players/7217/SolEk\n"
     ]
    },
    {
     "name": "stderr",
     "output_type": "stream",
     "text": [
      "2019-05-10 20:58:50.128 | INFO     | __main__:<module>:7 - Scraping new player: https://www.hltv.org/stats/players/3545/haste\n"
     ]
    },
    {
     "name": "stderr",
     "output_type": "stream",
     "text": [
      "2019-05-10 20:58:53.473 | INFO     | __main__:<module>:7 - Scraping new player: https://www.hltv.org/stats/players/472/B1ad3\n"
     ]
    },
    {
     "name": "stderr",
     "output_type": "stream",
     "text": [
      "2019-05-10 20:58:56.310 | INFO     | __main__:<module>:7 - Scraping new player: https://www.hltv.org/stats/players/7415/HUNDEN\n"
     ]
    },
    {
     "name": "stderr",
     "output_type": "stream",
     "text": [
      "2019-05-10 20:58:59.241 | INFO     | __main__:<module>:7 - Scraping new player: https://www.hltv.org/stats/players/6455/OCEAN\n"
     ]
    }
   ],
   "source": [
    "for URL in URL_List:\n",
    "    # Retrieve HTML\n",
    "    req = urllib.request.Request(URL, headers={\"User-Agent\": \"Mozilla/5.0 (Windows NT 6.1) AppleWebKit/537.36 (KHTML, like Gecko) Chrome/41.0.2228.0 Safari/537.3\"})\n",
    "    playerList = urllib.request.urlopen(req).read()\n",
    "    \n",
    "    # Logger message\n",
    "    logger.info('Scraping new player: %s' % URL)\n",
    "    \n",
    "    # Sleep to prevent overflowing website\n",
    "    time.sleep(2)\n",
    "    \n",
    "    # Parse HTML\n",
    "    soup = BeautifulSoup(playerList, \"html.parser\")\n",
    "    \n",
    "    #Name\n",
    "    name_box = soup.find(attrs={\"class\": \"statsPlayerName\"})\n",
    "    name = name_box.text.strip()\n",
    "    \n",
    "    #Age\n",
    "    facts_box = soup.find_all(attrs={\"class\": \"large-strong\"})\n",
    "    age = facts_box[1].text.strip()\n",
    "    nat = facts_box[2].text.strip()\n",
    "    team = facts_box[3].text.strip()\n",
    "    \n",
    "    #Rating\n",
    "    rating_box = soup.find(attrs={\"class\": \"strong\"})\n",
    "    rating = rating_box.text.strip()\n",
    "    \n",
    "    #Stats\n",
    "    \n",
    "    stats_box = soup.find_all(attrs={\"class\": \"stats-row\"})\n",
    "    kills = stats_box[0].text.strip()\n",
    "    headshots = stats_box[1].text.strip()\n",
    "    deaths = stats_box[2].text.strip()\n",
    "    kd = stats_box[3].text.strip()\n",
    "    adr = stats_box[4].text.strip()\n",
    "    kpr = stats_box[8].text.strip()\n",
    "    mapsplayed = stats_box[6].text.strip()\n",
    "    \n",
    "    dfPlayerStats = dfPlayerStats.append({\"Name\": name, \"Age\": age, \"Nationality\": nat, \"Team\": team, \n",
    "                                          \"Rating\": rating, \"Total Kills\": kills, \"Headshot %\": headshots, \n",
    "                                          \"Total deaths\": deaths, \"K/D Ratio\": kd, \"Damage / Round\": adr, \"Kills / Round\": kpr, \n",
    "                                          \"Maps played\": mapsplayed}, ignore_index=True)\n",
    "    "
   ]
  },
  {
   "cell_type": "markdown",
   "metadata": {
    "papermill": {
     "duration": 0.188235,
     "end_time": "2019-05-10T19:59:01.976776",
     "exception": false,
     "start_time": "2019-05-10T19:59:01.788541",
     "status": "completed"
    },
    "tags": []
   },
   "source": [
    "Having appened the data into the dataframe, excess words are removed from the dataframe to leave just the correct data to be used for further analysis. Some other cleaning is done, as well as putting 'Rating' as the index"
   ]
  },
  {
   "cell_type": "code",
   "execution_count": 5,
   "metadata": {
    "papermill": {
     "duration": 0.256067,
     "end_time": "2019-05-10T19:59:02.419691",
     "exception": false,
     "start_time": "2019-05-10T19:59:02.163624",
     "status": "completed"
    },
    "scrolled": true,
    "tags": []
   },
   "outputs": [
    {
     "data": {
      "text/html": [
       "<div>\n",
       "<style scoped>\n",
       "    .dataframe tbody tr th:only-of-type {\n",
       "        vertical-align: middle;\n",
       "    }\n",
       "\n",
       "    .dataframe tbody tr th {\n",
       "        vertical-align: top;\n",
       "    }\n",
       "\n",
       "    .dataframe thead th {\n",
       "        text-align: right;\n",
       "    }\n",
       "</style>\n",
       "<table border=\"1\" class=\"dataframe\">\n",
       "  <thead>\n",
       "    <tr style=\"text-align: right;\">\n",
       "      <th></th>\n",
       "      <th>Name</th>\n",
       "      <th>Age</th>\n",
       "      <th>Nationality</th>\n",
       "      <th>Team</th>\n",
       "      <th>Rating</th>\n",
       "      <th>Total Kills</th>\n",
       "      <th>Headshot %</th>\n",
       "      <th>Total deaths</th>\n",
       "      <th>K/D Ratio</th>\n",
       "      <th>Damage / Round</th>\n",
       "      <th>Kills / Round</th>\n",
       "      <th>Maps played</th>\n",
       "    </tr>\n",
       "  </thead>\n",
       "  <tbody>\n",
       "    <tr>\n",
       "      <th>566</th>\n",
       "      <td>Gustav 'ZINKEN' Björk</td>\n",
       "      <td>21</td>\n",
       "      <td>Sweden</td>\n",
       "      <td>nerdRage</td>\n",
       "      <td>0.99</td>\n",
       "      <td>4954</td>\n",
       "      <td>53.9</td>\n",
       "      <td>5237</td>\n",
       "      <td>0.95</td>\n",
       "      <td>71.0</td>\n",
       "      <td>0.64</td>\n",
       "      <td>290</td>\n",
       "    </tr>\n",
       "    <tr>\n",
       "      <th>84</th>\n",
       "      <td>Nemanja 'nexa' Isaković</td>\n",
       "      <td>22</td>\n",
       "      <td>Serbia</td>\n",
       "      <td>Valiance</td>\n",
       "      <td>1.10</td>\n",
       "      <td>12770</td>\n",
       "      <td>50.1</td>\n",
       "      <td>10979</td>\n",
       "      <td>1.16</td>\n",
       "      <td>80.2</td>\n",
       "      <td>0.73</td>\n",
       "      <td>668</td>\n",
       "    </tr>\n",
       "    <tr>\n",
       "      <th>119</th>\n",
       "      <td>William 'draken' Sundin</td>\n",
       "      <td>23</td>\n",
       "      <td>Sweden</td>\n",
       "      <td>Ancient</td>\n",
       "      <td>1.08</td>\n",
       "      <td>16232</td>\n",
       "      <td>30.9</td>\n",
       "      <td>14236</td>\n",
       "      <td>1.14</td>\n",
       "      <td>74.8</td>\n",
       "      <td>0.73</td>\n",
       "      <td>854</td>\n",
       "    </tr>\n",
       "    <tr>\n",
       "      <th>215</th>\n",
       "      <td>Dmitry 'dimasick' Matvienko</td>\n",
       "      <td>22</td>\n",
       "      <td>Kazakhstan</td>\n",
       "      <td>No team</td>\n",
       "      <td>1.09</td>\n",
       "      <td>7390</td>\n",
       "      <td>47.1</td>\n",
       "      <td>6872</td>\n",
       "      <td>1.08</td>\n",
       "      <td>78.9</td>\n",
       "      <td>0.72</td>\n",
       "      <td>397</td>\n",
       "    </tr>\n",
       "    <tr>\n",
       "      <th>442</th>\n",
       "      <td>Aidyn 'KrizzeN' Turlybekov</td>\n",
       "      <td>19</td>\n",
       "      <td>Kazakhstan</td>\n",
       "      <td>No team</td>\n",
       "      <td>1.05</td>\n",
       "      <td>9331</td>\n",
       "      <td>56.5</td>\n",
       "      <td>9195</td>\n",
       "      <td>1.01</td>\n",
       "      <td>74.3</td>\n",
       "      <td>0.66</td>\n",
       "      <td>545</td>\n",
       "    </tr>\n",
       "  </tbody>\n",
       "</table>\n",
       "</div>"
      ],
      "text/plain": [
       "                            Name Age Nationality      Team Rating Total Kills  \\\n",
       "566        Gustav 'ZINKEN' Björk  21      Sweden  nerdRage   0.99        4954   \n",
       "84       Nemanja 'nexa' Isaković  22      Serbia  Valiance   1.10       12770   \n",
       "119      William 'draken' Sundin  23      Sweden   Ancient   1.08       16232   \n",
       "215  Dmitry 'dimasick' Matvienko  22  Kazakhstan   No team   1.09        7390   \n",
       "442   Aidyn 'KrizzeN' Turlybekov  19  Kazakhstan   No team   1.05        9331   \n",
       "\n",
       "    Headshot % Total deaths K/D Ratio Damage / Round Kills / Round Maps played  \n",
       "566       53.9         5237      0.95           71.0          0.64         290  \n",
       "84        50.1        10979      1.16           80.2          0.73         668  \n",
       "119       30.9        14236      1.14           74.8          0.73         854  \n",
       "215       47.1         6872      1.08           78.9          0.72         397  \n",
       "442       56.5         9195      1.01           74.3          0.66         545  "
      ]
     },
     "execution_count": 5,
     "metadata": {},
     "output_type": "execute_result"
    }
   ],
   "source": [
    "dfPlayerStats['Total Kills'] = dfPlayerStats['Total Kills'].map(lambda x: x.lstrip('Total kills'))\n",
    "dfPlayerStats['Headshot %'] = dfPlayerStats['Headshot %'].map(lambda x: x.lstrip('Headshot %').rstrip('%'))\n",
    "dfPlayerStats['Total deaths'] = dfPlayerStats['Total deaths'].map(lambda x: x.lstrip('Total deaths'))\n",
    "dfPlayerStats['K/D Ratio'] = dfPlayerStats['K/D Ratio'].map(lambda x: x.lstrip('K/D Ratio'))\n",
    "dfPlayerStats['Damage / Round'] = dfPlayerStats['Damage / Round'].map(lambda x: x.lstrip('Damage / Round'))\n",
    "dfPlayerStats['Kills / Round'] = dfPlayerStats['Kills / Round'].map(lambda x: x.lstrip('Kills / round'))\n",
    "dfPlayerStats['Maps played'] = dfPlayerStats['Maps played'].map(lambda x: x.lstrip('Maps played'))\n",
    "dfPlayerStats.set_index(\"Rating\")\n",
    "dfPlayerStats.sample(5)"
   ]
  },
  {
   "cell_type": "code",
   "execution_count": 6,
   "metadata": {
    "papermill": {
     "duration": 0.197035,
     "end_time": "2019-05-10T19:59:02.808769",
     "exception": false,
     "start_time": "2019-05-10T19:59:02.611734",
     "status": "completed"
    },
    "tags": []
   },
   "outputs": [
    {
     "data": {
      "text/plain": [
       "Name              0\n",
       "Age               0\n",
       "Nationality       0\n",
       "Team              0\n",
       "Rating            0\n",
       "Total Kills       0\n",
       "Headshot %        0\n",
       "Total deaths      0\n",
       "K/D Ratio         0\n",
       "Damage / Round    0\n",
       "Kills / Round     0\n",
       "Maps played       0\n",
       "dtype: int64"
      ]
     },
     "execution_count": 6,
     "metadata": {},
     "output_type": "execute_result"
    }
   ],
   "source": [
    "dfPlayerStats.isnull().sum()"
   ]
  },
  {
   "cell_type": "markdown",
   "metadata": {
    "papermill": {
     "duration": 0.187042,
     "end_time": "2019-05-10T19:59:03.182180",
     "exception": false,
     "start_time": "2019-05-10T19:59:02.995138",
     "status": "completed"
    },
    "tags": []
   },
   "source": [
    "There is an error on the website, so I removed the row that contained the player page with the errors in it."
   ]
  },
  {
   "cell_type": "code",
   "execution_count": 7,
   "metadata": {
    "papermill": {
     "duration": 0.196044,
     "end_time": "2019-05-10T19:59:03.567266",
     "exception": false,
     "start_time": "2019-05-10T19:59:03.371222",
     "status": "completed"
    },
    "tags": []
   },
   "outputs": [],
   "source": [
    "dfPlayerStats = dfPlayerStats[~dfPlayerStats.Name.str.contains(\"Robin 'Fifflaren' Johansson\")]"
   ]
  },
  {
   "cell_type": "markdown",
   "metadata": {
    "papermill": {
     "duration": 0.187042,
     "end_time": "2019-05-10T19:59:03.944351",
     "exception": false,
     "start_time": "2019-05-10T19:59:03.757309",
     "status": "completed"
    },
    "tags": []
   },
   "source": [
    "The dataframe is finally converted to CSV and saved locally."
   ]
  },
  {
   "cell_type": "code",
   "execution_count": 8,
   "metadata": {
    "papermill": {
     "duration": 0.203124,
     "end_time": "2019-05-10T19:59:04.333517",
     "exception": false,
     "start_time": "2019-05-10T19:59:04.130393",
     "status": "completed"
    },
    "tags": []
   },
   "outputs": [],
   "source": [
    "PlayerStats = dfPlayerStats.to_csv (\"ALL_PLAYER_STATS.csv\", index = None, header=True)"
   ]
  }
 ],
 "metadata": {
  "kernelspec": {
   "display_name": "Python 3",
   "language": "python",
   "name": "python3"
  },
  "language_info": {
   "codemirror_mode": {
    "name": "ipython",
    "version": 3
   },
   "file_extension": ".py",
   "mimetype": "text/x-python",
   "name": "python",
   "nbconvert_exporter": "python",
   "pygments_lexer": "ipython3",
   "version": "3.7.3"
  },
  "papermill": {
   "duration": 2028.397061,
   "end_time": "2019-05-10T19:59:05.694426",
   "environment_variables": {},
   "exception": null,
   "input_path": "C:\\Users\\ronan\\Documents\\Notebooks\\DSiP Project\\Papermill\\Q3-SCRAPER1-PLAYER_STATS.ipynb",
   "output_path": "C:\\Users\\ronan\\Documents\\Notebooks\\DSiP Project\\Papermill\\Q3-SCRAPER1-PLAYER_STATS.ipynb",
   "parameters": {},
   "start_time": "2019-05-10T19:25:17.297365",
   "version": "1.0.0"
  }
 },
 "nbformat": 4,
 "nbformat_minor": 2
}